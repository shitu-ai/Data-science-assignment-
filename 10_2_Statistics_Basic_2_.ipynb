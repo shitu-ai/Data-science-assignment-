{
  "nbformat": 4,
  "nbformat_minor": 0,
  "metadata": {
    "colab": {
      "provenance": []
    },
    "kernelspec": {
      "name": "python3",
      "display_name": "Python 3"
    },
    "language_info": {
      "name": "python"
    }
  },
  "cells": [
    {
      "cell_type": "markdown",
      "source": [
        "Q1. What are the three measures of central tendency?"
      ],
      "metadata": {
        "id": "1S7wsQIsw031"
      }
    },
    {
      "cell_type": "markdown",
      "source": [
        "The three measures of central tendency are:\n",
        "1. **Mean**: The average of all data points.\n",
        "2. **Median**: The middle value when data points are ordered.\n",
        "3. **Mode**: The most frequently occurring value(s) in the data set."
      ],
      "metadata": {
        "id": "xDoGujMmw5nw"
      }
    },
    {
      "cell_type": "markdown",
      "source": [
        "Q2. What is the difference between the mean, median, and mode? How are they used to measure the\n",
        "central tendency of a dataset?"
      ],
      "metadata": {
        "id": "TZh9FfACxCy6"
      }
    },
    {
      "cell_type": "markdown",
      "source": [
        "The **mean** is used when you want the average of all data points, giving you a general idea of the data set's value. It's calculated by adding all the numbers and dividing by the count of numbers.\n",
        "\n",
        "The **median** is useful when you want to know the middle value of a data set, especially when the data set has outliers or is skewed. It's found by ordering all numbers and picking the middle one.\n",
        "\n",
        "The **mode** is best when you need to know the most common value in a data set. It's simply the value that appears most frequently.\n",
        "\n",
        "Each measure can give a different perspective on the data set's central tendency and can be more or less appropriate depending on the distribution and nature of the data."
      ],
      "metadata": {
        "id": "TIBX2k11xLAM"
      }
    },
    {
      "cell_type": "markdown",
      "source": [
        "Q3. Measure the three measures of central tendency for the given height data:\n",
        "[178,177,176,177,178.2,178,175,179,180,175,178.9,176.2,177,172.5,178,176.5]"
      ],
      "metadata": {
        "id": "08hc-O7wxLBq"
      }
    },
    {
      "cell_type": "markdown",
      "source": [
        "To calculate the three measures of central tendency (mean, median, and mode) for the given height data, we follow these steps:\n",
        "\n",
        "### Given Data:\n",
        "\\[ [178, 177, 176, 177, 178.2, 178, 175, 179, 180, 175, 178.9, 176.2, 177, 172.5, 178, 176.5] \\]\n",
        "\n",
        "### Mean\n",
        "The mean is the sum of all the values divided by the number of values.\n",
        "\n",
        "\\[ \\text{Mean} = \\frac{\\sum x_i}{n} \\]\n",
        "\n",
        "Where:\n",
        "- \\( \\sum x_i \\) is the sum of all the heights.\n",
        "- \\( n \\) is the number of heights.\n",
        "\n",
        "\\[ \\sum x_i = 178 + 177 + 176 + 177 + 178.2 + 178 + 175 + 179 + 180 + 175 + 178.9 + 176.2 + 177 + 172.5 + 178 + 176.5 = 2806.3 \\]\n",
        "\n",
        "\\[ n = 16 \\]\n",
        "\n",
        "\\[ \\text{Mean} = \\frac{2806.3}{16} = 175.39375 \\]\n",
        "\n",
        "### Median\n",
        "The median is the middle value when the data is ordered from least to greatest. If there is an even number of observations, the median is the average of the two middle numbers.\n",
        "\n",
        "First, we order the data:\n",
        "\n",
        "\\[ [172.5, 175, 175, 176, 176, 176.2, 176.5, 177, 177, 177, 178, 178, 178, 178.2, 178.9, 179, 180] \\]\n",
        "\n",
        "Since there are 16 values (an even number), the median is the average of the 8th and 9th values:\n",
        "\n",
        "\\[ \\text{Median} = \\frac{177 + 177}{2} = 177 \\]\n",
        "\n",
        "### Mode\n",
        "The mode is the value that appears most frequently in the dataset.\n",
        "\n",
        "From the data, the values and their frequencies are:\n",
        "\n",
        "- 178: 4 times\n",
        "- 177: 3 times\n",
        "- 176: 2 times\n",
        "- 175: 2 times\n",
        "- 178.2: 1 time\n",
        "- 179: 1 time\n",
        "- 180: 1 time\n",
        "- 178.9: 1 time\n",
        "- 176.2: 1 time\n",
        "- 172.5: 1 time\n",
        "- 176.5: 1 time\n",
        "\n",
        "The mode is the value with the highest frequency:\n",
        "\n",
        "\\[ \\text{Mode} = 178 \\]\n",
        "\n",
        "### Summary\n",
        "- **Mean**: 175.39375\n",
        "- **Median**: 177\n",
        "- **Mode**: 178"
      ],
      "metadata": {
        "id": "ALcsSdj7xXeQ"
      }
    },
    {
      "cell_type": "markdown",
      "source": [
        "Q4. Find the standard deviation for the given data:\n",
        "[178,177,176,177,178.2,178,175,179,180,175,178.9,176.2,177,172.5,178,176.5]"
      ],
      "metadata": {
        "id": "IfTpLKPUxlL9"
      }
    },
    {
      "cell_type": "markdown",
      "source": [
        "To find the standard deviation for the given data set \\([178, 177, 176, 177, 178.2, 178, 175, 179, 180, 175, 178.9, 176.2, 177, 172.5, 178, 176.5]\\), we need to follow these steps:\n",
        "\n",
        "1. **Calculate the mean (average) of the data set.**\n",
        "2. **Calculate the squared differences from the mean for each data point.**\n",
        "3. **Calculate the variance (the average of these squared differences).**\n",
        "4. **Take the square root of the variance to get the standard deviation.**\n",
        "\n",
        "Let's perform these calculations step by step.\n",
        "\n",
        "### Step 1: Calculate the Mean\n",
        "The mean is the sum of all data points divided by the number of data points.\n",
        "\n",
        "\\[\n",
        "\\text{Mean} (\\mu) = \\frac{\\sum x_i}{n}\n",
        "\\]\n",
        "\n",
        "where \\( x_i \\) are the data points and \\( n \\) is the number of data points.\n",
        "\n",
        "\\[\n",
        "\\sum x_i = 178 + 177 + 176 + 177 + 178.2 + 178 + 175 + 179 + 180 + 175 + 178.9 + 176.2 + 177 + 172.5 + 178 + 176.5 = 2806.3\n",
        "\\]\n",
        "\n",
        "The number of data points \\( n = 16 \\).\n",
        "\n",
        "\\[\n",
        "\\mu = \\frac{2806.3}{16} = 175.39375\n",
        "\\]\n",
        "\n",
        "### Step 2: Calculate the Squared Differences from the Mean\n",
        "We subtract the mean from each data point and square the result.\n",
        "\n",
        "\\[\n",
        "(x_i - \\mu)^2\n",
        "\\]\n",
        "\n",
        "\\[\n",
        "\\begin{aligned}\n",
        "(178 - 175.39375)^2 & = 6.809390625 \\\\\n",
        "(177 - 175.39375)^2 & = 2.576640625 \\\\\n",
        "(176 - 175.39375)^2 & = 0.367890625 \\\\\n",
        "(177 - 175.39375)^2 & = 2.576640625 \\\\\n",
        "(178.2 - 175.39375)^2 & = 7.889390625 \\\\\n",
        "(178 - 175.39375)^2 & = 6.809390625 \\\\\n",
        "(175 - 175.39375)^2 & = 0.155640625 \\\\\n",
        "(179 - 175.39375)^2 & = 12.968140625 \\\\\n",
        "(180 - 175.39375)^2 & = 21.168140625 \\\\\n",
        "(175 - 175.39375)^2 & = 0.155640625 \\\\\n",
        "(178.9 - 175.39375)^2 & = 12.301640625 \\\\\n",
        "(176.2 - 175.39375)^2 & = 0.651390625 \\\\\n",
        "(177 - 175.39375)^2 & = 2.576640625 \\\\\n",
        "(172.5 - 175.39375)^2 & = 8.364140625 \\\\\n",
        "(178 - 175.39375)^2 & = 6.809390625 \\\\\n",
        "(176.5 - 175.39375)^2 & = 1.223640625 \\\\\n",
        "\\end{aligned}\n",
        "\\]\n",
        "\n",
        "### Step 3: Calculate the Variance\n",
        "The variance is the average of these squared differences. Since we are calculating the sample variance, we divide by \\( n - 1 \\).\n",
        "\n",
        "\\[\n",
        "\\text{Variance} (s^2) = \\frac{\\sum (x_i - \\mu)^2}{n - 1}\n",
        "\\]\n",
        "\n",
        "\\[\n",
        "\\sum (x_i - \\mu)^2 = 92.371875\n",
        "\\]\n",
        "\n",
        "\\[\n",
        "s^2 = \\frac{92.371875}{15} = 6.158125\n",
        "\\]\n",
        "\n",
        "### Step 4: Calculate the Standard Deviation\n",
        "The standard deviation is the square root of the variance.\n",
        "\n",
        "\\[\n",
        "s = \\sqrt{s^2} = \\sqrt{6.158125} \\approx 2.48\n",
        "\\]\n",
        "\n",
        "Therefore, the standard deviation of the given data set is approximately \\( \\boxed{2.48} \\)."
      ],
      "metadata": {
        "id": "HfIps9LXxn-r"
      }
    },
    {
      "cell_type": "markdown",
      "source": [],
      "metadata": {
        "id": "XtVmiNA-xwBo"
      }
    },
    {
      "cell_type": "markdown",
      "source": [
        "Q5. How are measures of dispersion such as range, variance, and standard deviation used to describe\n",
        "the spread of a dataset? Provide an example."
      ],
      "metadata": {
        "id": "BsK3d1bbxwDP"
      }
    },
    {
      "cell_type": "markdown",
      "source": [
        "Measures of dispersion such as range, variance, and standard deviation are used to describe the spread or variability of a dataset. They provide insight into how much the data points differ from each other and from the central tendency (mean or median). Here's how each measure works and an example to illustrate their use:\n",
        "\n",
        "### Range\n",
        "The range is the simplest measure of dispersion and is calculated as the difference between the maximum and minimum values in the dataset.\n",
        "\n",
        "**Example:**\n",
        "Consider the dataset: \\[3, 7, 8, 12, 15\\]\n",
        "\n",
        "- Maximum value = 15\n",
        "- Minimum value = 3\n",
        "- **Range** = 15 - 3 = 12\n",
        "\n",
        "The range tells us that the data points spread out over an interval of 12 units.\n",
        "\n",
        "### Variance\n",
        "Variance measures the average squared deviation of each data point from the mean. It provides a sense of how much the data points are spread out around the mean.\n",
        "\n",
        "**Example:**\n",
        "Using the same dataset: \\[3, 7, 8, 12, 15\\]\n",
        "\n",
        "1. Calculate the mean:\n",
        "   \\[\\text{Mean} = \\frac{3 + 7 + 8 + 12 + 15}{5} = \\frac{45}{5} = 9\\]\n",
        "\n",
        "2. Calculate the squared deviations from the mean:\n",
        "   \\[\n",
        "   (3-9)^2 = 36, \\quad\n",
        "   (7-9)^2 = 4, \\quad\n",
        "   (8-9)^2 = 1, \\quad\n",
        "   (12-9)^2 = 9, \\quad\n",
        "   (15-9)^2 = 36\n",
        "   \\]\n",
        "\n",
        "3. Calculate the average of these squared deviations (sample variance formula):\n",
        "   \\[\\text{Variance (sample)} = \\frac{36 + 4 + 1 + 9 + 36}{5 - 1} = \\frac{86}{4} = 21.5\\]\n",
        "\n",
        "The variance is 21.5, indicating that on average, the data points deviate from the mean by 21.5 squared units.\n",
        "\n",
        "### Standard Deviation\n",
        "Standard deviation is the square root of the variance. It brings the measure of dispersion back to the same units as the original data, making it more interpretable.\n",
        "\n",
        "**Example:**\n",
        "Using the variance from the previous example:\n",
        "\n",
        "- **Standard Deviation** = \\(\\sqrt{21.5} \\approx 4.64\\)\n",
        "\n",
        "The standard deviation of 4.64 means that, on average, the data points deviate from the mean by approximately 4.64 units.\n",
        "\n",
        "### Summary\n",
        "- **Range**: Indicates the spread from the lowest to the highest value.\n",
        "- **Variance**: Measures the average squared deviations from the mean, providing a sense of overall variability.\n",
        "- **Standard Deviation**: The square root of the variance, representing the average distance from the mean in the original units.\n",
        "\n",
        "**Example Summary:**\n",
        "For the dataset \\[3, 7, 8, 12, 15\\]:\n",
        "- Range = 12\n",
        "- Variance = 21.5\n",
        "- Standard Deviation ≈ 4.64\n",
        "\n",
        "These measures collectively describe the spread of the data, helping us understand its variability and dispersion around the central value."
      ],
      "metadata": {
        "id": "pi4CU9a8x06h"
      }
    },
    {
      "cell_type": "markdown",
      "source": [
        "Q6. What is a Venn diagram?"
      ],
      "metadata": {
        "id": "7lkeWCdTyX3x"
      }
    },
    {
      "cell_type": "markdown",
      "source": [
        "A Venn diagram is a visual tool used to represent sets and their relationships with each other. It consists of overlapping circles, where each circle represents a set. The overlaps between the circles represent the intersections of the sets, showing common elements. Venn diagrams are commonly used to illustrate logical relationships and are helpful in problem-solving and decision-making."
      ],
      "metadata": {
        "id": "WIJyvVxxycpr"
      }
    },
    {
      "cell_type": "markdown",
      "source": [
        "Q7. For the two given sets A = (2,3,4,5,6,7) & B = (0,2,6,8,10). Find:\n",
        "(i) A B\n",
        "(ii) A ⋃ B"
      ],
      "metadata": {
        "id": "-6ipp68gypxH"
      }
    },
    {
      "cell_type": "markdown",
      "source": [
        "To find the intersection and union of the two sets \\( A \\) and \\( B \\), we proceed as follows:\n",
        "\n",
        "Given sets:\n",
        "\\[ A = \\{2, 3, 4, 5, 6, 7\\} \\]\n",
        "\\[ B = \\{0, 2, 6, 8, 10\\} \\]\n",
        "\n",
        "### (i) \\( A \\cap B \\) (Intersection)\n",
        "The intersection of two sets \\( A \\) and \\( B \\) consists of all elements that are common to both sets.\n",
        "\n",
        "\\[\n",
        "A \\cap B = \\{x \\mid x \\in A \\text{ and } x \\in B\\}\n",
        "\\]\n",
        "\n",
        "Let's identify the common elements in \\( A \\) and \\( B \\):\n",
        "\n",
        "- \\( 2 \\) is in both \\( A \\) and \\( B \\)\n",
        "- \\( 6 \\) is in both \\( A \\) and \\( B \\)\n",
        "\n",
        "Thus, the intersection of \\( A \\) and \\( B \\) is:\n",
        "\\[ A \\cap B = \\{2, 6\\} \\]\n",
        "\n",
        "### (ii) \\( A \\cup B \\) (Union)\n",
        "The union of two sets \\( A \\) and \\( B \\) consists of all elements that are in \\( A \\), in \\( B \\), or in both.\n",
        "\n",
        "\\[\n",
        "A \\cup B = \\{x \\mid x \\in A \\text{ or } x \\in B\\}\n",
        "\\]\n",
        "\n",
        "Let's list all the unique elements from both sets \\( A \\) and \\( B \\):\n",
        "\n",
        "- From \\( A \\): \\( 2, 3, 4, 5, 6, 7 \\)\n",
        "- From \\( B \\): \\( 0, 2, 6, 8, 10 \\)\n",
        "\n",
        "Combining these and removing duplicates, we get:\n",
        "\\[ A \\cup B = \\{0, 2, 3, 4, 5, 6, 7, 8, 10\\} \\]\n",
        "\n",
        "### Summary\n",
        "(i) \\( A \\cap B = \\{2, 6\\} \\)\n",
        "\n",
        "(ii) \\( A \\cup B = \\{0, 2, 3, 4, 5, 6, 7, 8, 10\\} \\)"
      ],
      "metadata": {
        "id": "ZPczizktytmO"
      }
    },
    {
      "cell_type": "markdown",
      "source": [
        "Q8. What do you understand about skewness in data?"
      ],
      "metadata": {
        "id": "2g1Yu02zzXzS"
      }
    },
    {
      "cell_type": "markdown",
      "source": [
        "Skewness is a measure of the asymmetry of the probability distribution of a real-valued random variable about its mean. It can be:\n",
        "\n",
        "- **Positive Skewness**: When the tail on the right side of the distribution is longer or fatter than the left side. It indicates that the data has more outliers on the high end.\n",
        "- **Negative Skewness**: When the tail on the left side is longer or fatter than the right side. It suggests more outliers on the low end.\n",
        "- **Zero Skewness**: Indicates that the tails on both sides of the mean are symmetrical.\n",
        "\n",
        "Skewness affects many aspects of data analysis, including hypothesis testing and confidence intervals."
      ],
      "metadata": {
        "id": "0S2TuiB-ziLu"
      }
    },
    {
      "cell_type": "markdown",
      "source": [
        "Q9. If a data is right skewed then what will be the position of median with respect to mean?"
      ],
      "metadata": {
        "id": "EOglOCbozsQs"
      }
    },
    {
      "cell_type": "markdown",
      "source": [
        "In a right-skewed (positively skewed) distribution, the median will typically be less than the mean. This is because the long tail to the right pulls the mean higher than the median."
      ],
      "metadata": {
        "id": "_eVWFPuGzvY2"
      }
    },
    {
      "cell_type": "markdown",
      "source": [
        "Q10. Explain the difference between covariance and correlation. How are these measures used in\n",
        "statistical analysis?"
      ],
      "metadata": {
        "id": "6v_3rMidz01v"
      }
    },
    {
      "cell_type": "markdown",
      "source": [
        "Covariance and correlation are both measures of the relationship between two variables:\n",
        "\n",
        "- **Covariance**: Indicates the direction of the linear relationship between variables. It can be positive, indicating that both variables tend to move in the same direction, or negative, indicating that they move in opposite directions. However, it doesn't provide the strength of the relationship and is affected by the scale of the variables.\n",
        "\n",
        "- **Correlation**: Also indicates the direction of the linear relationship but, unlike covariance, it provides both the strength and direction of this relationship. Correlation values range from -1 to 1. A value closer to 1 implies a strong positive relationship, a value closer to -1 implies a strong negative relationship, and a value around 0 implies no relationship.\n",
        "\n",
        "In statistical analysis, these measures are used to determine how changes in one variable are associated with changes in another variable. This can help in understanding relationships between variables and in building predictive models."
      ],
      "metadata": {
        "id": "YikAFn0yz4Ur"
      }
    },
    {
      "cell_type": "markdown",
      "source": [
        "Q11. What is the formula for calculating the sample mean? Provide an example calculation for a\n",
        "dataset."
      ],
      "metadata": {
        "id": "cbnSbMht0IBg"
      }
    },
    {
      "cell_type": "markdown",
      "source": [
        "The formula for calculating the sample mean is:\n",
        "\n",
        "\\[ \\bar{x} = \\frac{1}{n} \\sum_{i=1}^{n} x_i \\]\n",
        "\n",
        "where:\n",
        "- \\(\\bar{x}\\) is the sample mean,\n",
        "- \\(n\\) is the number of observations in the sample,\n",
        "- \\(x_i\\) represents each individual observation in the sample,\n",
        "- \\(\\sum\\) denotes the summation.\n",
        "\n",
        "### Example Calculation\n",
        "\n",
        "Let's consider a dataset with the following values: \\( \\{5, 7, 3, 9, 10\\} \\).\n",
        "\n",
        "1. **Step 1: Sum all the values in the dataset:**\n",
        "\n",
        "\\[ 5 + 7 + 3 + 9 + 10 = 34 \\]\n",
        "\n",
        "2. **Step 2: Count the number of observations in the dataset:**\n",
        "\n",
        "There are \\( n = 5 \\) observations.\n",
        "\n",
        "3. **Step 3: Divide the sum by the number of observations:**\n",
        "\n",
        "\\[ \\bar{x} = \\frac{34}{5} = 6.8 \\]\n",
        "\n",
        "So, the sample mean for the dataset \\(\\{5, 7, 3, 9, 10\\}\\) is \\( 6.8 \\)."
      ],
      "metadata": {
        "id": "bLNXklIc0K6V"
      }
    },
    {
      "cell_type": "markdown",
      "source": [
        "Q12. For a normal distribution data what is the relationship between its measure of central tendency?"
      ],
      "metadata": {
        "id": "Z_obSyTO0QFa"
      }
    },
    {
      "cell_type": "markdown",
      "source": [
        "In a normal distribution, the mean, median, and mode are all equal and located at the center of the distribution. This is because a normal distribution is symmetrical around its center"
      ],
      "metadata": {
        "id": "8OfNmNH50Tez"
      }
    },
    {
      "cell_type": "markdown",
      "source": [
        "Q13. How is covariance different from correlation?"
      ],
      "metadata": {
        "id": "bonSExcB0dJ0"
      }
    },
    {
      "cell_type": "markdown",
      "source": [
        "Covariance and correlation both measure the relationship between two variables, but they differ in the following ways:\n",
        "\n",
        "Covariance indicates the direction of the linear relationship between variables. It can take any value between negative infinity and positive infinity. Its value is affected by the scale of the variables.\n",
        "Correlation, on the other hand, measures both the strength and direction of the linear relationship between two variables. It is standardized, so its value always ranges from -1 to 1."
      ],
      "metadata": {
        "id": "lAuD6x2v0fto"
      }
    },
    {
      "cell_type": "markdown",
      "source": [
        "Q14. How do outliers affect measures of central tendency and dispersion? Provide an example."
      ],
      "metadata": {
        "id": "P3IvScRJ0r6r"
      }
    },
    {
      "cell_type": "markdown",
      "source": [
        "Outliers can significantly affect measures of central tendency and dispersion. Let's break down their impact on each measure with an example for better understanding.\n",
        "\n",
        "### Central Tendency\n",
        "\n",
        "**Mean (Arithmetic Average):**\n",
        "- The mean is very sensitive to outliers because it takes into account all values in the dataset.\n",
        "- An outlier can skew the mean significantly, making it higher or lower than the central value of the majority of the data.\n",
        "\n",
        "**Example:**\n",
        "Consider the dataset: 1, 2, 3, 4, 5\n",
        "- Mean = (1 + 2 + 3 + 4 + 5) / 5 = 3\n",
        "\n",
        "Now, add an outlier, 100:\n",
        "- New dataset: 1, 2, 3, 4, 5, 100\n",
        "- New mean = (1 + 2 + 3 + 4 + 5 + 100) / 6 = 19.17\n",
        "\n",
        "The mean has increased significantly due to the outlier.\n",
        "\n",
        "**Median:**\n",
        "- The median is the middle value of a dataset and is less sensitive to outliers because it depends only on the position of data points.\n",
        "- An outlier has little effect on the median, especially in larger datasets.\n",
        "\n",
        "**Example:**\n",
        "Using the same datasets:\n",
        "- Original dataset median = 3\n",
        "- New dataset: 1, 2, 3, 4, 5, 100\n",
        "  - Sorted: 1, 2, 3, 4, 5, 100\n",
        "  - Median (average of 3rd and 4th values) = (3 + 4) / 2 = 3.5\n",
        "\n",
        "The median changes slightly but not dramatically.\n",
        "\n",
        "**Mode:**\n",
        "- The mode is the most frequently occurring value in a dataset and is not typically affected by outliers unless the outlier is very frequent.\n",
        "\n",
        "### Dispersion\n",
        "\n",
        "**Range:**\n",
        "- The range is the difference between the highest and lowest values in the dataset.\n",
        "- An outlier can greatly increase the range.\n",
        "\n",
        "**Example:**\n",
        "- Original range: 5 - 1 = 4\n",
        "- New range: 100 - 1 = 99\n",
        "\n",
        "The range increases significantly due to the outlier.\n",
        "\n",
        "**Variance and Standard Deviation:**\n",
        "- Both variance and standard deviation measure the spread of the data around the mean and are sensitive to outliers.\n",
        "- Outliers can cause both metrics to increase, indicating more spread in the data.\n",
        "\n",
        "**Example:**\n",
        "Consider the variance and standard deviation of the original dataset and the one with an outlier:\n",
        "- Original dataset: Variance = 2.5, Standard deviation = √2.5 ≈ 1.58\n",
        "- New dataset with 100:\n",
        "  - Mean = 19.17\n",
        "  - Sum of squared deviations = (1-19.17)² + (2-19.17)² + (3-19.17)² + (4-19.17)² + (5-19.17)² + (100-19.17)²\n",
        "  - Variance = (sum of squared deviations) / (n-1) = large value\n",
        "  - Standard deviation = √(large variance)\n",
        "\n",
        "The variance and standard deviation increase significantly due to the outlier.\n",
        "\n",
        "### Summary\n",
        "- **Mean**: Highly affected by outliers.\n",
        "- **Median**: Less affected by outliers.\n",
        "- **Mode**: Generally unaffected unless the outlier is frequent.\n",
        "- **Range**: Highly affected by outliers.\n",
        "- **Variance and Standard Deviation**: Highly affected by outliers.\n",
        "\n",
        "Outliers can distort the perception of the dataset by making measures of central tendency and dispersion reflect values that do not accurately represent the majority of the data."
      ],
      "metadata": {
        "id": "_wvZJOnL0wSP"
      }
    }
  ]
}