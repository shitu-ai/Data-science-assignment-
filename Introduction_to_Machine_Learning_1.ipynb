{
  "nbformat": 4,
  "nbformat_minor": 0,
  "metadata": {
    "colab": {
      "provenance": []
    },
    "kernelspec": {
      "name": "python3",
      "display_name": "Python 3"
    },
    "language_info": {
      "name": "python"
    }
  },
  "cells": [
    {
      "cell_type": "markdown",
      "source": [
        "Q1- Explain thK following with an example:\n",
        "\n",
        "i) Artificial IntKlligence\n",
        "\n",
        "ii) Machine Learning\n",
        "\n",
        "iii) Deep Learning"
      ],
      "metadata": {
        "id": "muUx_hemHm4X"
      }
    },
    {
      "cell_type": "markdown",
      "source": [
        "Artificial Intelligence (AI):\n",
        "\n",
        "Definition: Artificial Intelligence refers to the development of computer systems that can perform tasks typically requiring human intelligence. These systems learn from experience, adapt to new information, and make decisions.\n",
        "\n",
        "Examples:\n",
        "\n",
        "Virtual Personal Assistants: Siri, Alexa, Google Assistant\n",
        "\n",
        "Autonomous Vehicles: Tesla's self-driving cars\n",
        "\n",
        "Customer Service Chatbots: Chatbots used by companies like H&M, Sephora, and Bank of America\n",
        "\n",
        "Recommendation Systems: Netflix, Amazon, YouTube\n",
        "\n",
        "Fraud Detection: AI systems used by banks and financial institutions\n",
        "\n",
        "Smart Home Devices: Smart thermostats (Nest), smart security systems (Ring)\n",
        "\n",
        "Impact: AI automates processes, enhances decision-making, and transforms various industries.\n"
      ],
      "metadata": {
        "id": "A2SuFsUoIB34"
      }
    },
    {
      "cell_type": "markdown",
      "source": [
        "Machine Learning:\n",
        "It provides statstool to learn,analyse ,visulise, and develop predictive models from the data\n",
        "\n",
        "Impact: ML powers applications in finance, healthcare, and personalized experiences.\n",
        "\n",
        "Example:\n",
        "Recomandation system: Amazon , Netflix etc.\n",
        "Email Filtering: Spam filters in Gmail\n",
        "\n",
        "Predictive Maintenance: Predictive maintenance in manufacturing using ML to predict when machinery might fail\n",
        "\n",
        "Speech Recognition: Voice-to-text applications\n",
        "\n",
        "Healthcare Diagnosis: ML models used to predict diseases based on medical records\n",
        "\n",
        "Credit Scoring: Algorithms that assess the creditworthiness of loan applicants\n",
        "\n",
        "Stock Market Trading: ML algorithms used for high-frequency trading\n"
      ],
      "metadata": {
        "id": "lJGeJ_F3JgUm"
      }
    },
    {
      "cell_type": "markdown",
      "source": [],
      "metadata": {
        "id": "zqIm86owMWmk"
      }
    },
    {
      "cell_type": "markdown",
      "source": [],
      "metadata": {
        "id": "8-rnPKRJKkg8"
      }
    },
    {
      "cell_type": "markdown",
      "source": [
        "Deep Learning:\n",
        "Deep Learning is a specialized form of ML that uses neural networks with multiple layers (deep architectures). It excels at complex tasks like image recognition and natural language processing.\n",
        "\n",
        "Examples:\n",
        "\n",
        "Self-Driving Cars (Image Recognition):Deep learning analyzes camera data to identify pedestrians, road signs, and obstacles.\n",
        "\n",
        "Chatbots and Virtual Assistants: Deep learning enables natural language understanding and conversation.\n",
        "\n",
        "\n",
        "Facial Recognition Systems: Deep learning achieves high precision in recognizing faces.\n",
        "\n",
        "Impact: Deep learning revolutionizes fields like computer vision, NLP, and recommendation engines.\n"
      ],
      "metadata": {
        "id": "hQVJ5ZWEKkh-"
      }
    },
    {
      "cell_type": "markdown",
      "source": [
        "Q2- What is supervised learning ? List some examples of supervised learning."
      ],
      "metadata": {
        "id": "5RvcOp5KMYSR"
      }
    },
    {
      "cell_type": "markdown",
      "source": [
        "Supervised learning is an essential approach in machine learning that leverages labeled data sets to train algorithms. By associating input data with corresponding output labels, supervised learning models learn to make predictions and classify new data.\n",
        "\n",
        "Here are some examples of supervised learning tasks:\n",
        "\n",
        "Email Filtering: In email filtering, supervised learning helps classify incoming emails as either spam or legitimate based on labeled training data1.\n",
        "\n",
        "Credit Scoring: For credit scoring, supervised learning predicts the creditworthiness of loan applicants by analyzing features such as income, credit history, and other relevant factors1.\n",
        "\n",
        "Voice Recognition: Virtual assistants and other applications use supervised learning to recognize and understand spoken commands. By training on labeled voice data, these systems improve their accuracy over time1.\n",
        "\n",
        "Supervised learning is a powerful tool for solving various real-world problems, from predicting stock prices to detecting fraudulent transactions"
      ],
      "metadata": {
        "id": "8zRX3WSXMX24"
      }
    },
    {
      "cell_type": "markdown",
      "source": [
        "Q3- What is unsupervised learning? List some examples of unsupervised learning."
      ],
      "metadata": {
        "id": "TxHZBiCHNNW0"
      }
    },
    {
      "cell_type": "markdown",
      "source": [
        "Unsupervised learning is a machine learning approach that infers hidden patterns from historical data without relying on labeled examples. Unlike supervised learning, which uses labeled data to predict outputs, unsupervised learning explores raw data to discover similarities, differences, and structures. Here are some examples of unsupervised learning tasks:\n",
        "\n",
        "Clustering with k-means: This algorithm groups similar data points together based on their features. For instance, it can identify customer segments for targeted marketing campaigns1.\n",
        "\n",
        "Association rule learning using Apriori: Apriori discovers associations between items in a dataset. For example, it can reveal that customers who buy diapers often purchase baby clothes and sippy cups1.\n",
        "\n",
        "Topic modeling with Latent Dirichlet Allocation (LDA): LDA identifies topics within a collection of text passages. It helps associate keywords to topics, aiding content organization and recommendation systems1.\n",
        "\n",
        "Unsupervised learning finds applications in data exploration, customer segmentation, recommender systems, and more"
      ],
      "metadata": {
        "id": "EVgBdR9DNh6F"
      }
    },
    {
      "cell_type": "markdown",
      "source": [
        "Q4: What is the difference between AI, ML, DL, and DS?"
      ],
      "metadata": {
        "id": "hnADRlANN-V5"
      }
    },
    {
      "cell_type": "markdown",
      "source": [
        "Artificial Intelligence (AI): AI represents the pinnacle of machine capabilities. It encompasses algorithms and models that enable machines to perform tasks typically requiring human intelligence. From natural language processing (NLP) to computer vision and decision-making systems, AI aims to create machines that learn, reason, perceive, infer, communicate, and act in the physical world. Think of it as giving a computer a brain—like Siri understanding your voice or Netflix recommending shows based on your preferences1."
      ],
      "metadata": {
        "id": "MqtXKL0XPYZZ"
      }
    },
    {
      "cell_type": "markdown",
      "source": [
        "Machine Learning (ML): ML evolves from AI. It allows systems to learn and improve from data without explicit programming. ML algorithms learn patterns and make predictions. For instance, spam filters in your email learn what you consider junk and keep your inbox clean1."
      ],
      "metadata": {
        "id": "7C1TfQwSPsGW"
      }
    },
    {
      "cell_type": "markdown",
      "source": [
        "Deep Learning (DL): Nested within ML, DL takes things further. It uses complex algorithms and deep neural networks to repetitively train specific models or patterns. DL enables machines to understand and operate on a level akin to human intuition1."
      ],
      "metadata": {
        "id": "1rPE15ijPzRa"
      }
    },
    {
      "cell_type": "markdown",
      "source": [
        "Data Science (DS): DS leverages ML (and sometimes DL) to analyze complex data, extract insights, and drive decision-making. It involves extracting valuable information from data sets, making it a crucial field for understanding trends and making informed choices2"
      ],
      "metadata": {
        "id": "fmSOmvVEQNIZ"
      }
    },
    {
      "cell_type": "markdown",
      "source": [
        "In summery:\n",
        "\n",
        "\n",
        "*   AI is about creating smart machines that think and learn like us.\n",
        "\n",
        "\n",
        "*   Machine learning enables to learn from data and make predictions\n",
        "\n",
        "*   Deep learning dives using nueral network for complex pattern recognition.\n",
        "\n",
        "\n",
        "\n",
        "*   Data science extracts insight of data to support decesion making\n",
        "\n",
        "\n",
        "\n",
        "\n",
        "\n"
      ],
      "metadata": {
        "id": "pqAKO_WaQOHT"
      }
    },
    {
      "cell_type": "markdown",
      "source": [
        "Q5: What are the main differences between supervised, unsupervised, and semi-supervised learning"
      ],
      "metadata": {
        "id": "LGvmsDKtQOIZ"
      }
    },
    {
      "cell_type": "markdown",
      "source": [
        "Supervised Learning:\n",
        "\n",
        "Data Labeling: In supervised learning, all data is labeled. Each data point has an associated target (output) value.\n",
        "\n",
        "Objective: The goal is to build a model that can predict the output based on input features.\n",
        "\n",
        "Examples: Decision trees, Support Vector Machines (SVM), linear regression, and Naïve Bayes classifiers.\n",
        "\n",
        "Use Cases: Image recognition, market prediction, text document classification, etc.\n",
        "\n",
        "Unsupervised Learning:\n",
        "\n",
        "Data Unlabeling: In unsupervised learning, all data is unlabeled. The algorithm discovers inherent structures or patterns in the data.\n",
        "\n",
        "Objective: The goal is to find clusters, associations, or representations without predefined output labels.\n",
        "\n",
        "Examples: K-means clustering, hierarchical clustering, and Principal Component Analysis (PCA).\n",
        "\n",
        "Use Cases: Customer segmentation, anomaly detection, and speech analysis.\n",
        "\n",
        "Semi-Supervised Learning:\n",
        "Mixed Data: Semi-supervised learning uses a combination of labeled and unlabeled data.\n",
        "\n",
        "Approach: It bridges the gap between supervised and unsupervised learning.\n",
        "Use of Labels: The labeled data helps guide the model, while the unlabeled data contributes to learning underlying patterns.\n",
        "\n",
        "Examples: Generative adversarial networks (GANs) and self-trained models.\n",
        "Use Cases: When labeled data is scarce or expensive, semi-supervised learning can be beneficial.\n",
        "\n",
        "Remember, each approach has its strengths and limitations. Supervised learning provides accurate predictions but requires labeled data, while unsupervised learning discovers hidden structures but lacks explicit guidance. Semi-supervised learning strikes a balance by leveraging both labeled and unlabeled data123."
      ],
      "metadata": {
        "id": "iPLZ0wUZSTfQ"
      }
    },
    {
      "cell_type": "markdown",
      "source": [
        "Q6: What is train, test and validation split? Explain the importance of each term."
      ],
      "metadata": {
        "id": "RShYIa8zTFpp"
      }
    },
    {
      "cell_type": "markdown",
      "source": [
        "Training Set:\n",
        "\n",
        "The training set is the data used to train a machine learning model. It’s where the model learns the underlying patterns and features in the data.\n",
        "During training, the same training data is repeatedly fed to the model (usually a neural network) in each epoch.\n",
        "A diverse training set ensures that the model learns from various scenarios, improving its ability to predict unseen data.\n",
        "\n",
        "Importance: A well-trained model requires a robust training set to generalize effectively.\n",
        "\n",
        "Validation Set:\n",
        "The validation set is separate from the training set and is used to assess model performance during training.\n",
        "After each epoch, the model’s evaluation is performed on the validation set.\n",
        "It helps us tune hyperparameters and configurations, acting as a “critic” to guide training in the right direction.\n",
        "Importance: Prevents overfitting—where the model performs well on training data but fails to generalize to new instances.\n",
        "\n",
        "Test Set:\n",
        "The test set is another separate dataset used to evaluate the model after training.\n",
        "It provides an unbiased assessment of how well the model generalizes to unseen data.\n",
        "\n",
        "Importance: Validates the model’s performance on completely new samples, ensuring it doesn’t just memorize the training data.\n",
        "Remember, using the same dataset for both training and evaluation can lead to biased results. So, split wisely!"
      ],
      "metadata": {
        "id": "RD49dVbCT__9"
      }
    },
    {
      "cell_type": "markdown",
      "source": [
        "Q7: How can unsupervised learning be used in anomaly detection?"
      ],
      "metadata": {
        "id": "sGFDJQM9UIwa"
      }
    },
    {
      "cell_type": "markdown",
      "source": [
        "Unsupervised learning plays a crucial role in anomaly detection. Let’s explore how:\n",
        "\n",
        "Clustering Algorithms:\n",
        "Clustering techniques (e.g., k-means, DBSCAN) group similar data points together.\n",
        "\n",
        "Anomalies often fall into small or isolated clusters, making them stand out.\n",
        "Detecting data points far from their cluster centers can identify anomalies.\n",
        "\n",
        "Density-Based Approaches:\n",
        "DBSCAN (Density-Based Spatial Clustering of Applications with Noise) identifies dense regions.\n",
        "Points in low-density areas are potential anomalies.\n",
        "It’s effective for detecting irregularly shaped clusters.\n",
        "\n",
        "Isolation Forests:\n",
        "Isolation Forests create random splits to isolate anomalies.\n",
        "Anomalies require fewer splits to be isolated, making them stand out.\n",
        "It’s efficient and works well even with high-dimensional data.\n",
        "\n",
        "Autoencoders:\n",
        "Autoencoders are neural networks that learn efficient representations of data.\n",
        "When trained on normal data, they reconstruct it well.\n",
        "Anomalies result in poor reconstructions, revealing their presence.\n",
        "\n",
        "One-Class SVM (Support Vector Machine):\n",
        "Trained on normal data only, One-Class SVM defines a hypersphere around it.\n",
        "Data points outside the hypersphere are considered anomalies.\n",
        "Useful when labeled anomaly data is scarce.\n",
        "\n",
        "Statistical Methods:\n",
        "Z-score, modified Z-score, and percentile-based methods identify outliers.\n",
        "\n",
        "They compare data points’ deviation from the mean or median.\n",
        "\n",
        "Extreme deviations indicate anomalies.\n",
        "Remember, choosing the right method depends on your data characteristics and problem context. Experiment and adapt!"
      ],
      "metadata": {
        "id": "Pt3MtK3OUTKl"
      }
    },
    {
      "cell_type": "markdown",
      "source": [
        "Q8: List down sor commonly used supervised learning algorithms and unsupervised learning algorithms"
      ],
      "metadata": {
        "id": "YXu93pnCVMX-"
      }
    },
    {
      "cell_type": "markdown",
      "source": [
        "Supervised Learning Algorithms:\n",
        "\n",
        "Decision Trees: These models create a tree-like structure to make decisions based on input features. They’re widely used for classification and regression tasks.\n",
        "\n",
        "Logistic Regression: A popular algorithm for binary classification, it estimates the probability of an instance belonging to a particular class.\n",
        "\n",
        "Support Vector Machines (SVM): SVMs find a hyperplane that best separates data points into different classes.\n",
        "\n",
        "Linear Regression: Used for predicting numerical values based on input features.\n",
        "Random Forest: An ensemble method that combines multiple decision trees for improved accuracy.\n",
        "\n",
        "\n",
        "Unsupervised Learning Algorithms:\n",
        "\n",
        "K-Means Clustering: Groups similar data points into clusters based on their features.\n",
        "\n",
        "Hierarchical Clustering: Builds a hierarchy of clusters by recursively merging or splitting them.\n",
        "\n",
        "Principal Component Analysis (PCA): Reduces the dimensionality of data while preserving its variance.\n",
        "\n",
        "Association Rules: Used to discover interesting relationships between variables in transactional data.\n",
        "\n",
        "Remember that supervised learning relies on labeled data, while unsupervised learning works with unlabeled data to find hidden patterns and structures12."
      ],
      "metadata": {
        "id": "PskqFrQCVQ8m"
      }
    },
    {
      "cell_type": "code",
      "execution_count": null,
      "metadata": {
        "id": "arVdrq_mHhaq"
      },
      "outputs": [],
      "source": []
    }
  ]
}