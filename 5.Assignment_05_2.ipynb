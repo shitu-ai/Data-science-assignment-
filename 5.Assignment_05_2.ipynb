{
 "cells": [
  {
   "cell_type": "code",
   "execution_count": null,
   "id": "c8f12da5-2aa0-4b40-a3cb-4aab83b379ce",
   "metadata": {},
   "outputs": [],
   "source": [
    "Q1. What is Abstraction in OOps? Explain with an example."
   ]
  },
  {
   "cell_type": "code",
   "execution_count": null,
   "id": "ff255fe7-dfa4-4a1b-8dbe-2aea71682085",
   "metadata": {},
   "outputs": [],
   "source": [
    "1. What is Abstraction? \n",
    "Abstraction is a fundamental concept in OOP. \n",
    "It involves hiding the internal details of an application from the outer world. \n",
    "The goal is to simplify complex systems by describing them in simpler terms. \n",
    "Abstraction creates a boundary between the application and client programs,\n",
    "allowing users to interact with the system without needing to understand its intricate implementation"
   ]
  },
  {
   "cell_type": "code",
   "execution_count": null,
   "id": "6a4765c7-0bab-4ad1-9820-aa39996580df",
   "metadata": {},
   "outputs": [],
   "source": [
    "Abstraction in OOP: \n",
    "    In OOP, objects are the building blocks.\n",
    "    An object contains properties (data) and methods (functions). \n",
    "    We can hide these details from the outer world using access modifiers. \n",
    "    Let’s create a simple example in Python:"
   ]
  },
  {
   "cell_type": "code",
   "execution_count": 7,
   "id": "a8429f63-b046-4ca6-82bb-1e9edc7ef7b9",
   "metadata": {},
   "outputs": [
    {
     "name": "stdout",
     "output_type": "stream",
     "text": [
      "Turn on the manual car\n",
      "Car type: Manual\n",
      "Turn on the automatic car\n",
      "Car type: Automatic\n"
     ]
    }
   ],
   "source": [
    "# Base class for Car\n",
    "class Car:\n",
    "    def turn_on_car(self):\n",
    "        pass\n",
    "\n",
    "    def turn_off_car(self):\n",
    "        pass\n",
    "\n",
    "    def get_car_type(self):\n",
    "        pass\n",
    "\n",
    "# Implementation classes for ManualCar and AutomaticCar\n",
    "class ManualCar(Car):\n",
    "    def __init__(self):\n",
    "        self.car_type = \"Manual\"\n",
    "\n",
    "    def turn_on_car(self):\n",
    "        print(\"Turn on the manual car\")\n",
    "\n",
    "    def turn_off_car(self):\n",
    "        print(\"Turn off the manual car\")\n",
    "\n",
    "    def get_car_type(self):\n",
    "        return self.car_type\n",
    "\n",
    "class AutomaticCar(Car):\n",
    "    def __init__(self):\n",
    "        self.car_type = \"Automatic\"\n",
    "\n",
    "    def turn_on_car(self):\n",
    "        print(\"Turn on the automatic car\")\n",
    "\n",
    "    def turn_off_car(self):\n",
    "        print(\"Turn off the automatic car\")\n",
    "\n",
    "    def get_car_type(self):\n",
    "        return self.car_type\n",
    "\n",
    "# Usage\n",
    "manual_car = ManualCar()\n",
    "manual_car.turn_on_car()\n",
    "print(f\"Car type: {manual_car.get_car_type()}\")\n",
    "\n",
    "automatic_car = AutomaticCar()\n",
    "automatic_car.turn_on_car()\n",
    "print(f\"Car type: {automatic_car.get_car_type()}\")\n"
   ]
  },
  {
   "cell_type": "code",
   "execution_count": null,
   "id": "88ab6ef8-b583-49c9-9ffd-ddbfb4cd52fd",
   "metadata": {},
   "outputs": [],
   "source": [
    "Q2. Differentiate between Abstraction and Encapsulation.\n",
    "Explain with an example"
   ]
  },
  {
   "cell_type": "code",
   "execution_count": null,
   "id": "b064290c-536b-4426-9945-9a0f7517f155",
   "metadata": {},
   "outputs": [],
   "source": [
    "1.Abstraction:\n",
    "Definition: \n",
    "    Abstraction is the process of simplifying complex systems by focusing on essential features while ignoring unnecessary details.\n",
    "Purpose:\n",
    "    It allows us to create models that capture the most important aspects of an object or system, without getting bogged down in implementation specifics.\n",
    "Focus:\n",
    "    Abstraction emphasizes “what” needs to be done rather than “how” it should be done.\n",
    "Example:\n",
    "Consider a geometric shape. We can define an abstract base class called Shape that provides a common interface for different shapes (e.g., circles, rectangles, triangles).\n",
    "The Shape class might have methods like area() and perimeter(), which are essential features for any shape.\n",
    "Concrete subclasses (e.g., Circle, Rectangle) will implement these methods according to their specific rules.\n",
    "Users of the Shape class don’t need to know the intricate details of each shape’s implementation; they can work with the common interface provided by Shape."
   ]
  },
  {
   "cell_type": "code",
   "execution_count": 10,
   "id": "dded9427-1ded-46a5-a967-3b5c5d1fb818",
   "metadata": {},
   "outputs": [
    {
     "name": "stdout",
     "output_type": "stream",
     "text": [
      "Circle area:78.5\n",
      "Circle perimeter:31.400000000000002\n",
      "Rectangle area: 24\n",
      "Rectangle perimeter: 20\n"
     ]
    }
   ],
   "source": [
    "from abc import ABC , abstractmethod\n",
    "\n",
    "class Shape(ABC):\n",
    "    @abstractmethod\n",
    "    def area(self):\n",
    "        pass\n",
    "    @abstractmethod\n",
    "    def perimeter(self):\n",
    "        pass\n",
    "    \n",
    "class Circle(Shape):\n",
    "    def __init__(self,radius):\n",
    "        self.radius = radius\n",
    "    def area(self):\n",
    "        return 3.14*self.radius**2\n",
    "    def perimeter(self):\n",
    "        return 2*3.14*self.radius\n",
    "class Rectangle(Shape):\n",
    "    def __init__(self,length,width):\n",
    "        self.length = length\n",
    "        self.width = width\n",
    "    def area(self):\n",
    "        return self.length*self.width\n",
    "    def perimeter(self):\n",
    "        return 2*(self.length+self.width)\n",
    "#Usage \n",
    "circle = Circle(radius=5)\n",
    "print(f\"Circle area:{circle.area()}\")\n",
    "print(f\"Circle perimeter:{circle.perimeter()}\")\n",
    "\n",
    "rectangle = Rectangle(length=4, width=6)\n",
    "print(f\"Rectangle area: { rectangle.area()}\")\n",
    "print(f\"Rectangle perimeter: { rectangle.perimeter()}\")\n",
    "    "
   ]
  },
  {
   "cell_type": "code",
   "execution_count": null,
   "id": "cef138d8-a51a-4137-a037-1fde908c0662",
   "metadata": {},
   "outputs": [],
   "source": [
    "2.Encapsulation:\n",
    "Definition: Encapsulation is the bundling of data (attributes) and methods (functions) that operate on that data into a single unit (usually a class).\n",
    "Purpose: It provides a protective shield around the data, preventing direct access from outside the class.\n",
    "Focus: Encapsulation emphasizes “how” the data should be accessed and manipulated.\n",
    "Example:\n",
    "Let’s create a simple class called Person that encapsulates personal information like name and age.\n",
    "We’ll use private attributes (denoted by a leading underscore) and public methods to interact with them."
   ]
  },
  {
   "cell_type": "code",
   "execution_count": 13,
   "id": "33c71a43-af7c-49f9-ae70-c0ed3803b5d2",
   "metadata": {},
   "outputs": [
    {
     "name": "stdout",
     "output_type": "stream",
     "text": [
      "Name: Alice\n",
      "Age: 30\n",
      "Age cannot be negative!\n"
     ]
    }
   ],
   "source": [
    "class Person:\n",
    "    def __init__(self, name, age):\n",
    "        self._name = name\n",
    "        self._age = age\n",
    "\n",
    "    def get_name(self):\n",
    "        return self._name\n",
    "\n",
    "    def set_name(self, new_name):\n",
    "        self._name = new_name\n",
    "\n",
    "    def get_age(self):\n",
    "        return self._age\n",
    "\n",
    "    def set_age(self, new_age):\n",
    "        if new_age >= 0:\n",
    "            self._age = new_age\n",
    "        else:\n",
    "            print(\"Age cannot be negative!\")\n",
    "\n",
    "# Usage\n",
    "person = Person(name=\"Alice\", age=30)\n",
    "print(f\"Name: {person.get_name()}\")\n",
    "print(f\"Age: {person.get_age()}\")\n",
    "\n",
    "person.set_age(-5)  # Trying to set a negative age\n"
   ]
  },
  {
   "cell_type": "code",
   "execution_count": null,
   "id": "bc5810f4-a3cb-4fb6-898f-18998ac4f25f",
   "metadata": {},
   "outputs": [],
   "source": [
    "The abc module in Python provides the infrastructure for defining custom abstract base classes (ABCs). Let’s explore what ABCs are and why this module is useful:\n",
    "\n",
    "Abstract Base Classes (ABCs):\n",
    "Definition: ABCs are Python classes added into an object’s inheritance tree to signal certain features of that object to an external inspector.\n",
    "Purpose: They allow you to define a common interface that other classes can inherit from. ABCs help enforce a contract by specifying which methods a subclass must implement.\n",
    "Use Case: When you want to create a base class that defines a set of methods (abstract methods) that must be overridden by its subclasses.\n",
    "How abc Works:\n",
    "The abc module works by marking methods of the base class as abstract. You achieve this by using the @abstractmethod decorator.\n",
    "A concrete class (a subclass of the abstract base class) then implements the abstract base by overriding its abstract methods.\n",
    "Key Components of the abc Module:\n",
    "ABCMeta Metaclass:\n",
    "The ABCMeta metaclass is provided by the abstract base class. Every abstract class must use ABCMeta as its metaclass.\n",
    "It allows you to create an ABC. An ABC can be subclassed directly and acts as a mix-in class.\n",
    "You can also register unrelated concrete classes (even built-in classes) and unrelated ABCs as “virtual subclasses.” These and their descendants will be considered subclasses of the registering ABC by the built-in issubclass() function.\n",
    "However, the registering ABC won’t show up in their Method Resolution Order (MRO), and method implementations defined by the registering ABC won’t be callable (not even via super()).\n",
    "ABC Helper Class:\n",
    "The ABC helper class has ABCMeta as its metaclass.\n",
    "You can create an abstract base class by simply deriving from ABC, avoiding sometimes confusing metaclass usage."
   ]
  },
  {
   "cell_type": "code",
   "execution_count": null,
   "id": "275451b2-aad1-4501-84dc-d7137c807146",
   "metadata": {},
   "outputs": [],
   "source": [
    "from abc import ABC, abstractmethod\n",
    "\n",
    "class MyABC(ABC):\n",
    "    @abstractmethod\n",
    "    def my_abstract_method(self):\n",
    "        pass\n"
   ]
  },
  {
   "cell_type": "code",
   "execution_count": null,
   "id": "6088ad8d-1cbb-4d49-964e-ef2ac2afce07",
   "metadata": {},
   "outputs": [],
   "source": [
    "Registering Subclasses:\n",
    "You can register a subclass as a “virtual subclass” of an ABC using the register() method.\n",
    "Example"
   ]
  },
  {
   "cell_type": "code",
   "execution_count": null,
   "id": "9ec12df7-ba8d-4768-9556-3c305e59beba",
   "metadata": {},
   "outputs": [],
   "source": [
    "MyABC.register(tuple)\n",
    "assert issubclass(tuple, MyABC)\n",
    "assert isinstance((), MyABC)\n"
   ]
  },
  {
   "cell_type": "code",
   "execution_count": null,
   "id": "b2f208fc-28b4-4570-b2b5-d08122617736",
   "metadata": {},
   "outputs": [],
   "source": [
    "Customizing Subclass Checks:\n",
    "You can override the __subclasshook__() method in an abstract base class to customize the behavior of issubclass() without calling register() on every class you want to consider a subclass of the ABC.\n",
    "In summary, the abc module provides tools for creating abstract base classes, enforcing method contracts, and defining common interfaces for subclasses. It’s a powerful mechanism for building robust class hierarchies! "
   ]
  },
  {
   "cell_type": "code",
   "execution_count": null,
   "id": "5896f0ed-4f29-4b6c-b13f-c69389106c7f",
   "metadata": {},
   "outputs": [],
   "source": [
    "Q4. How can we achieve data abstraction?"
   ]
  },
  {
   "cell_type": "code",
   "execution_count": null,
   "id": "90a0699b-a6df-45be-92b8-c21996ad93b1",
   "metadata": {},
   "outputs": [],
   "source": [
    "Data abstraction is a fundamental concept in programming and design.\n",
    "It involves providing essential information while hiding unnecessary details. \n",
    "Let’s explore how we achieve data abstraction in different contexts:\n",
    "    \n",
    "    Object-Oriented Programming (OOP):\n",
    "Definition: In OOP, data abstraction means displaying only essential information while hiding implementation details.\n",
    "Example in Python:\n",
    "We use abstract base classes (ABCs) to define abstract methods.\n",
    "Subclasses inherit from the ABC and implement the required methods.\n",
    "Users interact with the abstract methods without needing to understand the underlying details11.\n",
    "\n",
    "General Programming:\n",
    "Data Abstraction Principle:\n",
    "Separates how a compound data object is used from how it is constructed.\n",
    "Programs operate on “abstract data” without worrying about internal details33.\n",
    "Benefits:\n",
    "Simplicity: Users focus on essential features.\n",
    "Security: Irrelevant details are hidden, ensuring data security.\n",
    "Modularity: Code is organized into manageable components.\n",
    "Maintenance: Changes to implementation don’t affect users\n",
    "In summary, data abstraction allows us to create clean, modular, and secure systems by emphasizing essential information and shielding users from unnecessary complexity. "
   ]
  },
  {
   "cell_type": "code",
   "execution_count": null,
   "id": "4f6500c7-91c7-43de-ba91-8042b1674855",
   "metadata": {},
   "outputs": [],
   "source": [
    "Q5. Can we create an instance of an abstract class? Explain your answer."
   ]
  },
  {
   "cell_type": "code",
   "execution_count": null,
   "id": "3371c062-2021-48a9-80bf-47db2ac8503e",
   "metadata": {},
   "outputs": [],
   "source": [
    "An abstract class serves as a blueprint for other classes.\n",
    "It defines a set of methods that must be implemented by any child classes derived from it.\n",
    "Abstract classes are useful when designing large functional units or when providing a common interface for different implementations of a component.\n",
    "Here’s how you can create and use abstract classes in Python:"
   ]
  },
  {
   "cell_type": "code",
   "execution_count": null,
   "id": "5ea2285c-cd4d-457b-8aa6-1e9944d36759",
   "metadata": {},
   "outputs": [],
   "source": [
    "Defining an Abstract Class:\n",
    "By default, Python does not directly provide abstract classes. However, you can create them using the abc module (short for “Abstract Base Classes”).\n",
    "The abc module provides the infrastructure for defining abstract base classes (ABCs).\n",
    "To create an abstract class, you need to subclass the ABC class and decorate the methods you want to mark as abstract with the @abstractmethod decorato"
   ]
  },
  {
   "cell_type": "code",
   "execution_count": null,
   "id": "1bdeb693-7cac-4343-8293-ad674cfa011e",
   "metadata": {},
   "outputs": [],
   "source": [
    "Example: \n",
    "    Abstract Base Class for Polygons: \n",
    "        Let’s say we want to define an abstract base class for different types of polygons. \n",
    "        We’ll create an abstract method called noofsides that needs to be implemented by its subclasses. \n",
    "        Here’s how it looks:"
   ]
  },
  {
   "cell_type": "code",
   "execution_count": 15,
   "id": "15cdec1d-8bc5-4a6e-9877-2df2f80f1027",
   "metadata": {},
   "outputs": [
    {
     "name": "stdout",
     "output_type": "stream",
     "text": [
      "I have 3 sides\n",
      "I have 4 sides\n",
      "I have 5 sides\n",
      "I have 6 sides\n"
     ]
    }
   ],
   "source": [
    "from abc import ABC , abstractmethod\n",
    "\n",
    "class Polygon(ABC):\n",
    "    @abstractmethod\n",
    "    def noofsides(self):\n",
    "        pass\n",
    "class Triangle(Polygon):\n",
    "    def noofsides(self):\n",
    "        print(\"I have 3 sides\")\n",
    "        \n",
    "       \n",
    "    \n",
    "class Pentagon(Polygon):\n",
    "    def noofsides(self):\n",
    "        print(\"I have 5 sides\")\n",
    "        \n",
    "class Hexagon(Polygon):\n",
    "    def noofsides(self):\n",
    "        print(\"I have 6 sides\")\n",
    "        \n",
    "class Quadilateral(Polygon):\n",
    "    def noofsides(self):\n",
    "        print(\"I have 4 sides\")\n",
    "        \n",
    "        \n",
    "#Creating instances and calling the method\n",
    "R = Triangle()\n",
    "R.noofsides()\n",
    "\n",
    "K =Quadilateral()\n",
    "K.noofsides()\n",
    "\n",
    "R = Pentagon()\n",
    "R.noofsides()\n",
    "\n",
    "K = Hexagon()\n",
    "K.noofsides()"
   ]
  },
  {
   "cell_type": "code",
   "execution_count": null,
   "id": "b98f06e3-0a7a-42e0-af93-1f1cb56a34f3",
   "metadata": {},
   "outputs": [],
   "source": [
    "Explanation:\n",
    "We define the Polygon class as an abstract base class with an abstract method noofsides.\n",
    "Subclasses like Triangle, Pentagon, Hexagon, and Quadrilateral override the noofsides method and provide their own implementations.\n",
    "When we create instances of these subclasses, we can call the noofsides method to display the number of sides specific to each shape.\n",
    "In summary, abstract classes in Python allow you to define common APIs for a set of subclasses, ensuring that certain methods are implemented consistently across derived classes. They’re particularly useful when designing extensible and maintainable codebase"
   ]
  }
 ],
 "metadata": {
  "kernelspec": {
   "display_name": "Python 3 (ipykernel)",
   "language": "python",
   "name": "python3"
  },
  "language_info": {
   "codemirror_mode": {
    "name": "ipython",
    "version": 3
   },
   "file_extension": ".py",
   "mimetype": "text/x-python",
   "name": "python",
   "nbconvert_exporter": "python",
   "pygments_lexer": "ipython3",
   "version": "3.10.8"
  }
 },
 "nbformat": 4,
 "nbformat_minor": 5
}
