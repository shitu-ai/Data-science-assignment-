{
 "cells": [
  {
   "cell_type": "code",
   "execution_count": null,
   "id": "1a372dde-f3a1-4d71-9dad-43bab21d3e8f",
   "metadata": {},
   "outputs": [],
   "source": [
    "Q1. What is Exception in python? Write the difference between Exceptions and syntax errors."
   ]
  },
  {
   "cell_type": "code",
   "execution_count": null,
   "id": "fa5df8b6-03e0-4795-88b6-0cf95e816b5b",
   "metadata": {},
   "outputs": [],
   "source": [
    "\n",
    "In Python, an exception is an error that occurs during the execution of a program. \n",
    "When such an error occurs, Python generates an exception object. \n",
    "If not handled properly, these exceptions can halt the execution of the program.\n",
    "Exceptions can occur for various reasons, such as:\n",
    "\n",
    "1.Syntax errors: Errors that occur when the syntax of the code is incorrect. These errors are detected by the Python parser when it tries to parse the code.\n",
    "2.Runtime errors: Errors that occur during the execution of the program. These errors are not detected by the parser but are encountered during runtime.\n",
    "3.Logical errors: Errors that occur when the program runs but produces incorrect results due to flawed logic."
   ]
  },
  {
   "cell_type": "code",
   "execution_count": null,
   "id": "1eb74805-f17e-4d4f-bd43-79406271ee03",
   "metadata": {},
   "outputs": [],
   "source": [
    "Now, let's differentiate between exceptions and syntax errors:\n",
    "\n",
    "Exceptions:\n",
    "\n",
    "Exceptions occur during the execution of the program.\n",
    "They are not detected until the code is executed.\n",
    "Examples include division by zero, accessing an index out of range, or trying to open a file that doesn't exist.\n",
    "Exceptions can be handled using try, except, finally, and else blocks.\n",
    "\n",
    "Syntax Errors:\n",
    "Syntax errors occur during the parsing of code by the Python interpreter.\n",
    "They are detected before the code is executed.\n",
    "Examples include missing colons, incorrect indentation, or misspelled keywords.\n",
    "Syntax errors must be fixed before the program can run, as Python will not execute code with syntax errors.\n",
    "\n",
    "In summary, exceptions occur during program execution and are handled using exception handling mechanisms, while syntax errors occur during parsing and must be fixed before the program can run.\n"
   ]
  },
  {
   "cell_type": "code",
   "execution_count": null,
   "id": "105267e1-aaf1-422b-87ff-814a50d10350",
   "metadata": {},
   "outputs": [],
   "source": [
    "Q2. What happens when exception is not handled? Explain with example"
   ]
  },
  {
   "cell_type": "code",
   "execution_count": null,
   "id": "73e81e85-c19d-4d18-a342-601d32504c72",
   "metadata": {},
   "outputs": [],
   "source": [
    "\n",
    "When an exception is not handled in a Python program, it propagates up the call stack until it either encounters a handler or reaches the top level of the program. If it reaches the top level without being caught, the program terminates abruptly, and a traceback is printed, indicating the exception type, the line where it occurred, and the call stack at the time of the exception.\n",
    "\n",
    "Here's an example to illustrate what happens when an exception is not handled:"
   ]
  },
  {
   "cell_type": "code",
   "execution_count": null,
   "id": "d84f4a7e-63cf-4211-8fc9-f34725f3a4aa",
   "metadata": {},
   "outputs": [],
   "source": [
    "def divide(x, y):\n",
    "    return x / y\n",
    "\n",
    "try:\n",
    "    result = divide(10, 0)  # This will raise a ZeroDivisionError\n",
    "except ValueError:\n",
    "    print(\"ValueError occurred\")\n"
   ]
  },
  {
   "cell_type": "code",
   "execution_count": null,
   "id": "088bcb99-732a-4522-9175-bdd9433220b2",
   "metadata": {},
   "outputs": [],
   "source": [
    "In this example, the divide function attempts to divide 10 by 0, which is not allowed in Python and raises a ZeroDivisionError. However, the except block is only set up to handle ValueError, not ZeroDivisionError. Since there is no handler for ZeroDivisionError, the exception propagates up the call stack."
   ]
  },
  {
   "cell_type": "code",
   "execution_count": null,
   "id": "d82f086e-8d5f-4a8f-aed3-e06d97bf8800",
   "metadata": {},
   "outputs": [],
   "source": [
    "Q3. Which Python statements are used to catch and handle exceptions? Explain with example"
   ]
  },
  {
   "cell_type": "code",
   "execution_count": null,
   "id": "da854e9d-2931-4fc6-bc97-14004005fced",
   "metadata": {},
   "outputs": [],
   "source": [
    "In Python, the try, except, finally, and optionally else blocks are used to catch and handle exceptions.\n",
    "\n",
    "Here's how they work:\n",
    "\n",
    "try block: This block contains the code that might raise an exception. It is the block where you want to catch exceptions.\n",
    "except block: This block is executed if an exception occurs inside the corresponding try block. You can specify which exceptions to catch, or you can catch all exceptions using a generic except block.\n",
    "finally block: This block is optional and is always executed after the try block, whether an exception occurred or not. It's commonly used for cleanup code that needs to run regardless of whether an exception occurred.\n",
    "else block: This block is also optional and is executed if the try block completes successfully, i.e., no exceptions are raised. It's typically used for code that should run only if no exceptions occur.\n",
    "Here's an example demonstrating the usage of these blocks: "
   ]
  },
  {
   "cell_type": "code",
   "execution_count": 2,
   "id": "8b00efa5-9d4e-4e72-abda-f1715f6734f0",
   "metadata": {},
   "outputs": [
    {
     "name": "stdout",
     "output_type": "stream",
     "text": [
      "Division successful. Result: 5.0\n",
      "This code always runs, regardless of whether there was an exception.\n",
      "Error: Cannot divide by zero!\n",
      "This code always runs, regardless of whether there was an exception.\n",
      "This code always runs, regardless of whether there was an exception.\n"
     ]
    },
    {
     "ename": "TypeError",
     "evalue": "unsupported operand type(s) for /: 'str' and 'int'",
     "output_type": "error",
     "traceback": [
      "\u001b[0;31m---------------------------------------------------------------------------\u001b[0m",
      "\u001b[0;31mTypeError\u001b[0m                                 Traceback (most recent call last)",
      "Cell \u001b[0;32mIn[2], line 14\u001b[0m\n\u001b[1;32m     12\u001b[0m divide(\u001b[38;5;241m10\u001b[39m, \u001b[38;5;241m2\u001b[39m)  \u001b[38;5;66;03m# Division successful. Result: 5.0\u001b[39;00m\n\u001b[1;32m     13\u001b[0m divide(\u001b[38;5;241m10\u001b[39m, \u001b[38;5;241m0\u001b[39m)  \u001b[38;5;66;03m# Error: Cannot divide by zero!\u001b[39;00m\n\u001b[0;32m---> 14\u001b[0m \u001b[43mdivide\u001b[49m\u001b[43m(\u001b[49m\u001b[38;5;124;43m\"\u001b[39;49m\u001b[38;5;124;43m10\u001b[39;49m\u001b[38;5;124;43m\"\u001b[39;49m\u001b[43m,\u001b[49m\u001b[43m \u001b[49m\u001b[38;5;241;43m2\u001b[39;49m\u001b[43m)\u001b[49m  \u001b[38;5;66;03m# This code always runs, regardless of whether there was an exception.\u001b[39;00m\n",
      "Cell \u001b[0;32mIn[2], line 3\u001b[0m, in \u001b[0;36mdivide\u001b[0;34m(x, y)\u001b[0m\n\u001b[1;32m      1\u001b[0m \u001b[38;5;28;01mdef\u001b[39;00m \u001b[38;5;21mdivide\u001b[39m(x, y):\n\u001b[1;32m      2\u001b[0m     \u001b[38;5;28;01mtry\u001b[39;00m:\n\u001b[0;32m----> 3\u001b[0m         result \u001b[38;5;241m=\u001b[39m \u001b[43mx\u001b[49m\u001b[43m \u001b[49m\u001b[38;5;241;43m/\u001b[39;49m\u001b[43m \u001b[49m\u001b[43my\u001b[49m\n\u001b[1;32m      4\u001b[0m     \u001b[38;5;28;01mexcept\u001b[39;00m \u001b[38;5;167;01mZeroDivisionError\u001b[39;00m:\n\u001b[1;32m      5\u001b[0m         \u001b[38;5;28mprint\u001b[39m(\u001b[38;5;124m\"\u001b[39m\u001b[38;5;124mError: Cannot divide by zero!\u001b[39m\u001b[38;5;124m\"\u001b[39m)\n",
      "\u001b[0;31mTypeError\u001b[0m: unsupported operand type(s) for /: 'str' and 'int'"
     ]
    }
   ],
   "source": [
    "def divide(x, y):\n",
    "    try:\n",
    "        result = x / y\n",
    "    except ZeroDivisionError:\n",
    "        print(\"Error: Cannot divide by zero!\")\n",
    "    else:\n",
    "        print(\"Division successful. Result:\", result)\n",
    "    finally:\n",
    "        print(\"This code always runs, regardless of whether there was an exception.\")\n",
    "\n",
    "# Example usage\n",
    "divide(10, 2)  # Division successful. Result: 5.0\n",
    "divide(10, 0)  # Error: Cannot divide by zero!\n",
    "divide(\"10\", 2)  # This code always runs, regardless of whether there was an exception.\n"
   ]
  },
  {
   "cell_type": "code",
   "execution_count": null,
   "id": "6d3a894b-b209-4691-829f-a301e7ad819d",
   "metadata": {},
   "outputs": [],
   "source": [
    "In this example:\n",
    "\n",
    "The try block attempts to perform the division operation x / y.\n",
    "If a ZeroDivisionError occurs, the except block is executed, printing an error message.\n",
    "If no exception occurs, the else block is executed, printing the result of the division.\n",
    "The finally block always runs, printing a message indicating that it's executed regardless of whether there was an exception.\n",
    "This way, you can catch and handle exceptions gracefully while ensuring that any cleanup code in the finally block is always executed."
   ]
  },
  {
   "cell_type": "code",
   "execution_count": null,
   "id": "416a9965-2728-49fd-a9d1-d1c9d7dd85ac",
   "metadata": {},
   "outputs": [],
   "source": [
    "Q4. Explain with an example:(i) try and else (ii)finally (iii)raise"
   ]
  },
  {
   "cell_type": "code",
   "execution_count": null,
   "id": "cf880ef1-bb95-4cbd-8fea-8474c0a514af",
   "metadata": {},
   "outputs": [],
   "source": [
    "Try and Else:\n",
    "The try block is used to enclose the code that might raise an exception.\n",
    "The else block is executed only if no exception occurs in the try block.\n",
    "If an exception occurs, the else block is skipped.\n",
    "Here’s an example:"
   ]
  },
  {
   "cell_type": "code",
   "execution_count": 3,
   "id": "7b644677-9200-43ca-b7ca-a0372ba651c9",
   "metadata": {},
   "outputs": [
    {
     "name": "stdout",
     "output_type": "stream",
     "text": [
      "Yeah! Your answer is: 1\n",
      "No exception occurred!\n",
      "Sorry! You are dividing by zero.\n"
     ]
    }
   ],
   "source": [
    "def divide(x, y):\n",
    "    try:\n",
    "        result = x // y\n",
    "        print(\"Yeah! Your answer is:\", result)\n",
    "    except ZeroDivisionError:\n",
    "        print(\"Sorry! You are dividing by zero.\")\n",
    "    else:\n",
    "        print(\"No exception occurred!\")\n",
    "\n",
    "divide(3, 2)  # Output: Yeah! Your answer is: 1\n",
    "divide(3, 0)  # Output: Sorry! You are dividing by zero\n"
   ]
  },
  {
   "cell_type": "code",
   "execution_count": null,
   "id": "0ac60f95-c89c-4509-b1d3-06887ef8ed7a",
   "metadata": {},
   "outputs": [],
   "source": [
    "Finally:\n",
    "The finally block is always executed, regardless of whether an exception occurred or not.\n",
    "It’s commonly used for cleanup tasks (e.g., closing files, releasing resources).\n",
    "Here’s a simple example:"
   ]
  },
  {
   "cell_type": "code",
   "execution_count": 4,
   "id": "b8b25ab9-e2ec-4bb0-aeab-99b520dcc332",
   "metadata": {},
   "outputs": [
    {
     "name": "stdout",
     "output_type": "stream",
     "text": [
      "Inside try block\n",
      "The 'try except' is finished\n"
     ]
    }
   ],
   "source": [
    "try:\n",
    "    print(\"Inside try block\")\n",
    "except:\n",
    "    print(\"Something went wrong\")\n",
    "finally:\n",
    "    print(\"The 'try except' is finished\")\n"
   ]
  },
  {
   "cell_type": "code",
   "execution_count": null,
   "id": "dc14136e-ea5f-4aea-bc8a-011fc76bbc57",
   "metadata": {},
   "outputs": [],
   "source": [
    "Raise:\n",
    "The raise statement is used to explicitly raise an exception.\n",
    "You can raise built-in exceptions or create custom ones.\n"
   ]
  },
  {
   "cell_type": "code",
   "execution_count": 5,
   "id": "dba1b425-e03a-4112-9738-afb1af4e7575",
   "metadata": {},
   "outputs": [
    {
     "name": "stdout",
     "output_type": "stream",
     "text": [
      "Error: Age cannot be negative\n"
     ]
    }
   ],
   "source": [
    "def validate_age(age):\n",
    "    if age < 0:\n",
    "        raise ValueError(\"Age cannot be negative\")\n",
    "    return age\n",
    "\n",
    "try:\n",
    "    user_age = validate_age(-5)\n",
    "    print(f\"User's age: {user_age}\")\n",
    "except ValueError as e:\n",
    "    print(f\"Error: {e}\")\n"
   ]
  },
  {
   "cell_type": "code",
   "execution_count": null,
   "id": "08138654-1d8b-4050-9585-fd82ca45329c",
   "metadata": {},
   "outputs": [],
   "source": [
    "Q5. What a re Custom Exceptions in python? Why do we need Custom Exceptions? Explain with an example"
   ]
  },
  {
   "cell_type": "code",
   "execution_count": null,
   "id": "2eb28c49-3bc8-4c38-80b6-1fa9fd79fed7",
   "metadata": {},
   "outputs": [],
   "source": [
    "Custom exceptions, also known as user-defined exceptions, are exceptions that are defined by the user rather than provided by Python's built-in exceptions. They allow developers to create their own exception classes tailored to specific error conditions encountered in their programs.\n",
    "\n",
    "We might need custom exceptions for several reasons:\n",
    "\n",
    "Specificity: Custom exceptions can provide more descriptive error messages tailored to the specific error conditions in your application. This makes it easier to identify and debug issues.\n",
    "Modularity: By defining custom exceptions, you can separate different types of errors in your codebase, making it more modular and organized.\n",
    "Clarity: Custom exceptions make the intent of your code clearer to other developers who may read or work with your code in the future.\n",
    "Extensibility: You can define hierarchies of custom exceptions, allowing you to handle related errors in a uniform way and provide more specialized handling when necessary.\n",
    "Here's an example demonstrating the creation and usage of a custom exception in Python:"
   ]
  },
  {
   "cell_type": "code",
   "execution_count": 6,
   "id": "81a6e81e-dc9a-4c13-b4d7-93fe4448f504",
   "metadata": {},
   "outputs": [
    {
     "name": "stdout",
     "output_type": "stream",
     "text": [
      "Error: Insufficient balance (100) for withdrawal of 200.\n",
      "Withdrawal successful.\n"
     ]
    }
   ],
   "source": [
    "class WithdrawalError(Exception):\n",
    "    \"\"\"Exception raised for errors during withdrawal process.\"\"\"\n",
    "\n",
    "    def __init__(self, balance, amount):\n",
    "        self.balance = balance\n",
    "        self.amount = amount\n",
    "        super().__init__(f\"Insufficient balance ({balance}) for withdrawal of {amount}.\")\n",
    "\n",
    "def withdraw(balance, amount):\n",
    "    if amount > balance:\n",
    "        raise WithdrawalError(balance, amount)\n",
    "    else:\n",
    "        print(\"Withdrawal successful.\")\n",
    "\n",
    "# Example usage\n",
    "try:\n",
    "    withdraw(100, 200)\n",
    "except WithdrawalError as e:\n",
    "    print(\"Error:\", e)  # Error: Insufficient balance (100) for withdrawal of 200.\n",
    "\n",
    "try:\n",
    "    withdraw(200, 100)\n",
    "except WithdrawalError as e:\n",
    "    print(\"Error:\", e)  # Withdrawal successful.\n"
   ]
  },
  {
   "cell_type": "code",
   "execution_count": null,
   "id": "15155b3b-c4f0-4379-821f-e7d493c080e3",
   "metadata": {},
   "outputs": [],
   "source": [
    "Q6. Create custom exception class. Use this class to handle an exception."
   ]
  },
  {
   "cell_type": "code",
   "execution_count": null,
   "id": "92e890c8-9894-4d64-8f05-80b3b414a882",
   "metadata": {},
   "outputs": [],
   "source": [
    " Let’s create a custom exception class and demonstrate how to use it to handle an exception. I’ll walk you through the steps:\n",
    "\n",
    "Creating a Custom Exception Class:\n",
    "We’ll define a custom exception class by inheriting from the base Exception class.\n",
    "For this example, let’s create an exception called NegativeValueError, which will be raised when a negative value is encountered.\n",
    "Using the Custom Exception:\n",
    "We’ll write a function that takes an integer as input and raises the NegativeValueError if the input is negative.\n",
    "We’ll catch this exception and handle it gracefully."
   ]
  },
  {
   "cell_type": "code",
   "execution_count": 7,
   "id": "77fb8cab-f582-4f67-a88f-6a722c0b3ec9",
   "metadata": {},
   "outputs": [
    {
     "name": "stdout",
     "output_type": "stream",
     "text": [
      "Processed value: 10\n",
      "Error: Negative value encountered\n"
     ]
    }
   ],
   "source": [
    "class NegativeValueError(Exception):\n",
    "    \"\"\"Custom exception for negative values.\"\"\"\n",
    "    pass\n",
    "\n",
    "def process_value(value):\n",
    "    try:\n",
    "        if value < 0:\n",
    "            raise NegativeValueError(\"Negative value encountered\")\n",
    "        else:\n",
    "            print(f\"Processed value: {value}\")\n",
    "    except NegativeValueError as e:\n",
    "        print(f\"Error: {e}\")\n",
    "\n",
    "# Example usage\n",
    "try:\n",
    "    process_value(10)   # Output: Processed value: 10\n",
    "    process_value(-5)   # Output: Error: Negative value encountered\n",
    "except Exception:\n",
    "    print(\"An unexpected error occurred\")\n"
   ]
  },
  {
   "cell_type": "code",
   "execution_count": null,
   "id": "b657d0d6-9db5-49b1-a651-c21a2a8b85c5",
   "metadata": {},
   "outputs": [],
   "source": [
    "In this example:\n",
    "\n",
    "We define the custom exception NegativeValueError.\n",
    "The process_value function checks if the input value is negative.\n",
    "If it’s negative, we raise the custom exception.\n",
    "The except block catches the NegativeValueError and prints an error message"
   ]
  }
 ],
 "metadata": {
  "kernelspec": {
   "display_name": "Python 3 (ipykernel)",
   "language": "python",
   "name": "python3"
  },
  "language_info": {
   "codemirror_mode": {
    "name": "ipython",
    "version": 3
   },
   "file_extension": ".py",
   "mimetype": "text/x-python",
   "name": "python",
   "nbconvert_exporter": "python",
   "pygments_lexer": "ipython3",
   "version": "3.10.8"
  }
 },
 "nbformat": 4,
 "nbformat_minor": 5
}
