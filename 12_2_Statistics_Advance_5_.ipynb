{
  "nbformat": 4,
  "nbformat_minor": 0,
  "metadata": {
    "colab": {
      "provenance": []
    },
    "kernelspec": {
      "name": "python3",
      "display_name": "Python 3"
    },
    "language_info": {
      "name": "python"
    }
  },
  "cells": [
    {
      "cell_type": "markdown",
      "source": [
        "Q1. Calculate the 95% confidence interval for a sample of data with a mean of 50 and a standard deviation\n",
        "of 5 using Python. Interpret the results."
      ],
      "metadata": {
        "id": "gUfxTB0qrvZp"
      }
    },
    {
      "cell_type": "code",
      "execution_count": null,
      "metadata": {
        "colab": {
          "base_uri": "https://localhost:8080/"
        },
        "id": "qtGw6MSArplG",
        "outputId": "2c26649f-3c2f-440b-9db1-0d5d3ea51077"
      },
      "outputs": [
        {
          "output_type": "execute_result",
          "data": {
            "text/plain": [
              "(48.210805856282846, 51.789194143717154)"
            ]
          },
          "metadata": {},
          "execution_count": 4
        }
      ],
      "source": [
        "import scipy.stats as stats\n",
        "import math\n",
        "\n",
        "# Given data\n",
        "mean = 50\n",
        "std_dev = 5\n",
        "confidence_level = 0.95\n",
        "n = 30  # assuming a sample size of 30 for this calculation\n",
        "\n",
        "# Z-score for 95% confidence\n",
        "z_score = stats.norm.ppf(1 - (1 - confidence_level) / 2)\n",
        "\n",
        "# Standard error\n",
        "standard_error = std_dev / math.sqrt(n)\n",
        "\n",
        "# Confidence interval\n",
        "margin_of_error = z_score * standard_error\n",
        "confidence_interval = (mean - margin_of_error, mean + margin_of_error)\n",
        "\n",
        "confidence_interval\n"
      ]
    },
    {
      "cell_type": "markdown",
      "source": [
        "Q2. Conduct a chi-square goodness of fit test to determine if the distribution of colors of M&Ms in a bag\n",
        "matches the expected distribution of 20% blue, 20% orange, 20% green, 10% yellow, 10% red, and 20%\n",
        "brown. Use Python to perform the test with a significance level of 0.05."
      ],
      "metadata": {
        "id": "1ECaxu0axZ70"
      }
    },
    {
      "cell_type": "code",
      "source": [
        "import numpy as np\n",
        "from scipy import stats\n",
        "\n",
        "#Observed frequencies(replace these with your actual observed counts)\n",
        "observed_counts = np.array([18,22,15,8,9,28]) #blue ,orange ,green,yellow,red,brown\n",
        "\n",
        "#Expected frequencies based on the given distribution(20% each for 6 categories)\n",
        "expected_counts = np.array([0.2,0.2,0.2,0.1,0.1,0.2])*np.sum(observed_counts)\n",
        "\n",
        "\n",
        "#Perform chi-square goodness of fit test\n",
        "chi2_stat,p_value = stats.chisquare(observed_counts,expected_counts)\n",
        "\n",
        "#Degrees of freedomj\n",
        "df = len(observed_counts)-1\n",
        "\n",
        "#significance level\n",
        "alpha = 0.05\n",
        "\n",
        "#Print results\n",
        "print(f\"Chi - square statistic : {chi2_stat}\")\n",
        "print(f\"P-value:{p_value}\")\n",
        "print(f\"Degrees of freedom:{df}\")\n",
        "\n",
        "if p_value < alpha :\n",
        "  print(\"Reject the null hypothesis : The observed distribution does not match the expected distribution.\")\n",
        "else:\n",
        "  print(\"Fail to reject the null hypothesis : The observed distribution matches the expected distribution.\")\n"
      ],
      "metadata": {
        "colab": {
          "base_uri": "https://localhost:8080/"
        },
        "id": "eHVWehS9xEpa",
        "outputId": "fcc28fc5-44af-4c76-8831-da1d787eba76"
      },
      "execution_count": null,
      "outputs": [
        {
          "output_type": "stream",
          "name": "stdout",
          "text": [
            "Chi - square statistic : 5.35\n",
            "P-value:0.37467432247753435\n",
            "Degrees of freedom:5\n",
            "Fail to reject the null hypothesis : The observed distribution matches the expected distribution.\n"
          ]
        }
      ]
    },
    {
      "cell_type": "markdown",
      "source": [
        "Q3. Use Python to calculate the chi-square statistic and p-value for a contingency table with the following\n",
        "data:\n",
        "\n",
        "Interpret the results of the test."
      ],
      "metadata": {
        "id": "xTuYLbJOtfVJ"
      }
    },
    {
      "cell_type": "code",
      "source": [
        "import numpy as np\n",
        "import pandas as pd\n",
        "from scipy.stats import chi2_contingency\n",
        "\n",
        "# Create the contingency table\n",
        "observed = np.array([[20, 15],\n",
        "                     [10, 25],\n",
        "                     [15, 20]])\n",
        "\n",
        "# Calculate chi-square statistic, p-value, and degrees of freedom\n",
        "chi2, p_value, dof, expected_freq = chi2_contingency(observed)\n",
        "\n",
        "# Interpret the results\n",
        "if p_value < 0.05:\n",
        "    print(\"The p-value ({:.4f}) is less than 0.05, so we reject the null hypothesis.\".format(p_value))\n",
        "    print(\"There is evidence of an association between the outcomes and the groups.\")\n",
        "else:\n",
        "    print(\"The p-value ({:.4f}) is greater than or equal to 0.05, so we fail to reject the null hypothesis.\".format(p_value))\n",
        "    print(\"There is no significant evidence of an association between the outcomes and the groups.\")\n",
        "\n",
        "# Print the expected frequencies (optional)\n",
        "print(\"\\nExpected frequencies:\")\n",
        "print(pd.DataFrame(expected_freq, index=[\"Outcome 1\", \"Outcome 2\", \"Outcome 3\"], columns=[\"Group A\", \"Group B\"]))\n"
      ],
      "metadata": {
        "colab": {
          "base_uri": "https://localhost:8080/"
        },
        "id": "AQVy1iNotXxN",
        "outputId": "672177ac-80f6-43a2-e9ca-5c2cb0944d7c"
      },
      "execution_count": null,
      "outputs": [
        {
          "output_type": "stream",
          "name": "stdout",
          "text": [
            "The p-value (0.0541) is greater than or equal to 0.05, so we fail to reject the null hypothesis.\n",
            "There is no significant evidence of an association between the outcomes and the groups.\n",
            "\n",
            "Expected frequencies:\n",
            "           Group A  Group B\n",
            "Outcome 1     15.0     20.0\n",
            "Outcome 2     15.0     20.0\n",
            "Outcome 3     15.0     20.0\n"
          ]
        }
      ]
    },
    {
      "cell_type": "markdown",
      "source": [
        "Q4. A study of the prevalence of smoking in a population of 500 individuals found that 60 individuals\n",
        "smoked. Use Python to calculate the 95% confidence interval for the true proportion of individuals in the\n",
        "population who smoke."
      ],
      "metadata": {
        "id": "0Dp6KZ_ivWNa"
      }
    },
    {
      "cell_type": "code",
      "source": [
        "from re import S\n",
        "#Given data\n",
        "n=500\n",
        "x = 60\n",
        "\n",
        "#sample proportion\n",
        "p_hat = x/n\n",
        "\n",
        "#Z-value for 95% confidence\n",
        "Z = 1.96\n",
        "\n",
        "#Standard error\n",
        "SE = (p_hat*(1-p_hat)/n)**0.5\n",
        "\n",
        "#Confidence interval\n",
        "CI_lower = p_hat-Z*SE\n",
        "CI_upper = p_hat + Z*SE\n",
        "\n",
        "(p_hat,CI_lower,CI_upper)"
      ],
      "metadata": {
        "colab": {
          "base_uri": "https://localhost:8080/"
        },
        "id": "hvBpg9GfJDpA",
        "outputId": "256ac09e-c6ce-4d8d-d789-d7ecd1e04a37"
      },
      "execution_count": null,
      "outputs": [
        {
          "output_type": "execute_result",
          "data": {
            "text/plain": [
              "(0.12, 0.09151586546865079, 0.1484841345313492)"
            ]
          },
          "metadata": {},
          "execution_count": 2
        }
      ]
    },
    {
      "cell_type": "markdown",
      "source": [
        "Q5. Calculate the 90% confidence interval for a sample of data with a mean of 75 and a standard deviation\n",
        "of 12 using Python. Interpret the results."
      ],
      "metadata": {
        "id": "jkjB3nlMMJcL"
      }
    },
    {
      "cell_type": "code",
      "source": [
        "import scipy.stats as stats\n",
        "import math\n",
        "\n",
        "# Given data\n",
        "sample_mean = 75\n",
        "sample_std = 12\n",
        "sample_size = 100  # Assuming sample size, you can adjust this\n",
        "\n",
        "# Calculate the critical value (Z) for 90% confidence level\n",
        "confidence_level = 0.90\n",
        "alpha = 1 - confidence_level\n",
        "Z = stats.norm.ppf(1 - alpha/2)  # Two-tailed Z value\n",
        "\n",
        "# Calculate the margin of error (ME)\n",
        "margin_of_error = Z * (sample_std / math.sqrt(sample_size))\n",
        "\n",
        "# Calculate the confidence interval\n",
        "lower_bound = sample_mean - margin_of_error\n",
        "upper_bound = sample_mean + margin_of_error\n",
        "\n",
        "# Print the results\n",
        "print(f\"90% Confidence Interval: ({lower_bound}, {upper_bound})\")\n"
      ],
      "metadata": {
        "colab": {
          "base_uri": "https://localhost:8080/"
        },
        "id": "S_HalSfuPvHu",
        "outputId": "d3a10faa-33d2-4f41-fea5-e0615ecdb5af"
      },
      "execution_count": null,
      "outputs": [
        {
          "output_type": "stream",
          "name": "stdout",
          "text": [
            "90% Confidence Interval: (73.02617564765823, 76.97382435234177)\n"
          ]
        }
      ]
    },
    {
      "cell_type": "markdown",
      "source": [
        "Q6. Use Python to plot the chi-square distribution with 10 degrees of freedom. Label the axes and shade the\n",
        "area corresponding to a chi-square statistic of 15."
      ],
      "metadata": {
        "id": "fwEMoClUP37W"
      }
    },
    {
      "cell_type": "code",
      "source": [
        "import numpy as np\n",
        "import matplotlib.pyplot as plt\n",
        "import scipy.stats as stats\n",
        "\n",
        "# Parameters for the chi-square distribution\n",
        "df = 10  # degrees of freedom\n",
        "\n",
        "# Generate x values for the plot\n",
        "x = np.linspace(0, 30, 500)  # range of chi-square values from 0 to 30\n",
        "\n",
        "# Chi-square distribution with df degrees of freedom\n",
        "chi2 = stats.chi2.pdf(x, df)\n",
        "\n",
        "# Plot the chi-square distribution\n",
        "plt.figure(figsize=(10, 6))\n",
        "plt.plot(x, chi2, 'b-', label=f'Chi-square Distribution (df={df})')\n",
        "\n",
        "# Shade the area under the curve where chi-square <= 15\n",
        "x_fill = np.linspace(0, 15, 500)\n",
        "y_fill = stats.chi2.pdf(x_fill, df)\n",
        "plt.fill_between(x_fill, y_fill, color='red', alpha=0.3, label='Chi-square <= 15')\n",
        "\n",
        "# Highlight the chi-square statistic of 15\n",
        "plt.axvline(x=15, color='green', linestyle='--', linewidth=1, label='Chi-square = 15')\n",
        "\n",
        "# Add labels and title\n",
        "plt.title('Chi-square Distribution')\n",
        "plt.xlabel('Chi-square Value')\n",
        "plt.ylabel('Probability Density Function')\n",
        "plt.legend()\n",
        "\n",
        "plt.grid(True)\n",
        "plt.show()\n"
      ],
      "metadata": {
        "colab": {
          "base_uri": "https://localhost:8080/",
          "height": 419
        },
        "id": "vlnxhTzqWDTz",
        "outputId": "4c8ae725-d10f-4468-b578-2d6dab4983ec"
      },
      "execution_count": null,
      "outputs": [
        {
          "output_type": "display_data",
          "data": {
            "text/plain": [
              "<Figure size 1000x600 with 1 Axes>"
            ],
            "image/png": "[encoded data removed]"
          },
          "metadata": {}
        }
      ]
    },
    {
      "cell_type": "markdown",
      "source": [
        "Q7. A random sample of 1000 people was asked if they preferred Coke or Pepsi. Of the sample, 520\n",
        "preferred Coke. Calculate a 99% confidence interval for the true proportion of people in the population who\n",
        "prefer Coke."
      ],
      "metadata": {
        "id": "9IA5qhLCavn3"
      }
    },
    {
      "cell_type": "code",
      "source": [
        "import scipy.stats as stats\n",
        "import math\n",
        "\n",
        "#Given data\n",
        "n = 1000 #Sample size\n",
        "x = 520 #number preferring Coke\n",
        "\n",
        "#Calculate sample proportion\n",
        "p_hat = x/n\n",
        "\n",
        "#Calculate standard error\n",
        "SE = math.sqrt((p_hat*(1-p_hat))/n)\n",
        "\n",
        "#Define confidence level(1-alpha)\n",
        "confidence_level = 0.99\n",
        "\n",
        "#Calculate critical value(z-score)\n",
        "alpha = 1-confidence_level\n",
        "z_critical = stats.norm.ppf(1-alpha/2)\n",
        "\n",
        "#Calculate margin of error\n",
        "margin_of_error = z_critical *SE\n",
        "\n",
        "#Calculate confidence interval\n",
        "lower_bound = p_hat - margin_of_error\n",
        "upper_bound = p_hat + margin_of_error\n",
        "\n",
        "#Print the results\n",
        "print(f\"Sample Proportion (p_hat):{p_hat:.4f}\")\n",
        "print(f\"Standard Error (SE):{SE:.4f}\")\n",
        "print(f\"Critical Value (z_critical):{z_critical:.4f}\")\n",
        "print(f\"Margin of Error : { margin_of_error:.4f}\")\n",
        "print(f\" 99% Confidence Interval for true proportion of Coke preference:({lower_bound:.4f},{upper_bound:4f})\")\n"
      ],
      "metadata": {
        "colab": {
          "base_uri": "https://localhost:8080/"
        },
        "id": "p6n1gtw-a2Zm",
        "outputId": "a425330a-5472-43f7-b929-9a93aaf8e421"
      },
      "execution_count": null,
      "outputs": [
        {
          "output_type": "stream",
          "name": "stdout",
          "text": [
            "Sample Proportion (p_hat):0.5200\n",
            "Standard Error (SE):0.0158\n",
            "Critical Value (z_critical):2.5758\n",
            "Margin of Error : 0.0407\n",
            " 99% Confidence Interval for true proportion of Coke preference:(0.4793,0.560695)\n"
          ]
        }
      ]
    },
    {
      "cell_type": "markdown",
      "source": [
        "Q8. A researcher hypothesizes that a coin is biased towards tails. They flip the coin 100 times and observe\n",
        "45 tails. Conduct a chi-square goodness of fit test to determine if the observed frequencies match the\n",
        "expected frequencies of a fair coin. Use a significance level of 0.05."
      ],
      "metadata": {
        "id": "mcfuZA_0avmj"
      }
    },
    {
      "cell_type": "code",
      "source": [
        "import scipy.stats as stats\n",
        "\n",
        "#Observed frequencies\n",
        "observed_tails = 45\n",
        "observed_heads = 100- observed_tails\n",
        "\n",
        "#Expected frequencies (for a fair coin)\n",
        "expected_heads = 50\n",
        "expected_tails = 50\n",
        "\n",
        "#Calculate chi_square statistic\n",
        "observed = [observed_heads,observed_tails]\n",
        "expected = [ expected_heads,expected_tails]\n",
        "chi2_statistic,p_value = stats.chisquare(observed,expected)\n",
        "\n",
        "#Degree of freedom\n",
        "df = len(observed)-1\n",
        "\n",
        "#Critical value at significant level of 0.05\n",
        "critical_value = stats.chi2.ppf(0.95,df)\n",
        "\n",
        "#Output results\n",
        "print(f\"Chi-square Statistic:{chi2_statistic}\")\n",
        "print(f\"P-value :{ p_value}\")\n",
        "print(f\"Critical Value (df={df}):{critical_value}\")\n",
        "\n",
        "#Compare chi-square statistic with critical value\n",
        "if chi2_statistic>critical_value:\n",
        "  print(\"Reject the null hypothesis : The coin is biased towards tails.\")\n",
        "\n",
        "else:\n",
        "  print(\"Fail to reject the null hypothesis : the coin is fair.\")"
      ],
      "metadata": {
        "colab": {
          "base_uri": "https://localhost:8080/"
        },
        "id": "iCogD3XfhQ2f",
        "outputId": "961e70de-95ce-4793-8965-fd2c68196718"
      },
      "execution_count": null,
      "outputs": [
        {
          "output_type": "stream",
          "name": "stdout",
          "text": [
            "Chi-square Statistic:1.0\n",
            "P-value :0.31731050786291115\n",
            "Critical Value (df=1):3.841458820694124\n",
            "Fail to reject the null hypothesis : the coin is fair.\n"
          ]
        }
      ]
    },
    {
      "cell_type": "markdown",
      "source": [
        "Q9. A study was conducted to determine if there is an association between smoking status (smoker or\n",
        "non-smoker) and lung cancer diagnosis (yes or no). The results are shown in the contingency table below.\n",
        "Conduct a chi-square test for independence to determine if there is a significant association between\n",
        "smoking status and lung cancer diagnosis.\n",
        "\n",
        "Use a significance level of 0.05."
      ],
      "metadata": {
        "id": "Ga1eCUEp5ATc"
      }
    },
    {
      "cell_type": "code",
      "source": [
        "import scipy.stats as stats\n",
        "\n",
        "# Define the contingency table\n",
        "contingency_table = [[60, 140],\n",
        "                     [30, 170]]\n",
        "\n",
        "# Perform the chi-square test for independence\n",
        "chi2, p, dof, expected = stats.chi2_contingency(contingency_table)\n",
        "\n",
        "# Print the results\n",
        "print(\"Chi-square statistic:\", chi2)\n",
        "print(\"p-value:\", p)\n",
        "print(\"Degrees of freedom:\", dof)\n",
        "print(\"Expected frequencies:\", expected)\n",
        "\n",
        "# Determine if there is a significant association\n",
        "alpha = 0.05\n",
        "if p < alpha:\n",
        "    print(\"There is a significant association between smoking status and lung cancer diagnosis.\")\n",
        "else:\n",
        "    print(\"There is no significant association between smoking status and lung cancer diagnosis.\")\n"
      ],
      "metadata": {
        "colab": {
          "base_uri": "https://localhost:8080/"
        },
        "id": "547_ed2t6y7B",
        "outputId": "f0bca8fc-01b9-41fa-9f09-ecf47547621a"
      },
      "execution_count": 2,
      "outputs": [
        {
          "output_type": "stream",
          "name": "stdout",
          "text": [
            "Chi-square statistic: 12.057347670250895\n",
            "p-value: 0.0005158863863703744\n",
            "Degrees of freedom: 1\n",
            "Expected frequencies: [[ 45. 155.]\n",
            " [ 45. 155.]]\n",
            "There is a significant association between smoking status and lung cancer diagnosis.\n"
          ]
        }
      ]
    },
    {
      "cell_type": "code",
      "source": [
        "Q10. A study was conducted to determine if the proportion of people who prefer milk chocolate, dark\n",
        "chocolate, or white chocolate is different in the U.S. versus the U.K. A random sample of 500 people from\n",
        "the U.S. and a random sample of 500 people from the U.K. were surveyed. The results are shown in the\n",
        "contingency table below. Conduct a chi-square test for independence to determine if there is a significant\n",
        "association between chocolate preference and country of origin."
      ],
      "metadata": {
        "id": "eiNATS4M6y8A"
      },
      "execution_count": null,
      "outputs": []
    },
    {
      "cell_type": "code",
      "source": [
        "import scipy.stats as stats\n",
        "import numpy as np\n",
        "\n",
        "# Observed frequencies\n",
        "observed = np.array([[200, 150, 150],\n",
        "                     [225, 175, 100]])\n",
        "\n",
        "# Chi-square test for independence\n",
        "chi2, p, dof, expected = stats.chi2_contingency(observed)\n",
        "\n",
        "chi2, p, dof, expected\n"
      ],
      "metadata": {
        "colab": {
          "base_uri": "https://localhost:8080/"
        },
        "id": "svqJ9pKi7FTD",
        "outputId": "2d135f49-7acd-4fcb-87c5-660f593c1a59"
      },
      "execution_count": 3,
      "outputs": [
        {
          "output_type": "execute_result",
          "data": {
            "text/plain": [
              "(13.393665158371041,\n",
              " 0.0012348168997745918,\n",
              " 2,\n",
              " array([[212.5, 162.5, 125. ],\n",
              "        [212.5, 162.5, 125. ]]))"
            ]
          },
          "metadata": {},
          "execution_count": 3
        }
      ]
    },
    {
      "cell_type": "code",
      "source": [
        "import scipy.stats as stats\n",
        "import numpy as np\n",
        "\n",
        "# Observed frequencies\n",
        "observed = np.array([[200, 150, 150],\n",
        "                     [225, 175, 100]])\n",
        "\n",
        "# Chi-square test for independence\n",
        "chi2, p, dof, expected = stats.chi2_contingency(observed)\n",
        "\n",
        "print(f\"Chi-square statistic: {chi2}\")\n",
        "print(f\"p-value: {p}\")\n",
        "print(f\"Degrees of freedom: {dof}\")\n",
        "print(\"Expected frequencies:\")\n",
        "print(expected)\n"
      ],
      "metadata": {
        "colab": {
          "base_uri": "https://localhost:8080/"
        },
        "id": "xfhcQaky7FT5",
        "outputId": "1022c5a9-d9cf-4998-9d70-fb98bf400780"
      },
      "execution_count": 4,
      "outputs": [
        {
          "output_type": "stream",
          "name": "stdout",
          "text": [
            "Chi-square statistic: 13.393665158371041\n",
            "p-value: 0.0012348168997745918\n",
            "Degrees of freedom: 2\n",
            "Expected frequencies:\n",
            "[[212.5 162.5 125. ]\n",
            " [212.5 162.5 125. ]]\n"
          ]
        }
      ]
    },
    {
      "cell_type": "code",
      "source": [],
      "metadata": {
        "id": "sFNo63jZ_YHS"
      },
      "execution_count": null,
      "outputs": []
    },
    {
      "cell_type": "markdown",
      "source": [
        "Q11. A random sample of 30 people was selected from a population with an unknown mean and standard\n",
        "deviation. The sample mean was found to be 72 and the sample standard deviation was found to be 10.\n",
        "Conduct a hypothesis test to determine if the population mean is significantly different from 70. Use a\n",
        "significance level of 0.05."
      ],
      "metadata": {
        "id": "3HW-l1lh_ZhN"
      }
    },
    {
      "cell_type": "code",
      "source": [
        "import scipy.stats as stats\n",
        "import numpy as np\n",
        "\n",
        "# Given data\n",
        "sample_mean = 72\n",
        "sample_std = 10\n",
        "n = 30\n",
        "population_mean = 70\n",
        "alpha = 0.05\n",
        "\n",
        "# Calculate the t-statistic\n",
        "t_statistic = (sample_mean - population_mean) / (sample_std / np.sqrt(n))\n",
        "\n",
        "# Calculate the p-value\n",
        "p_value = 2 * (1 - stats.t.cdf(np.abs(t_statistic), df=n-1))\n",
        "\n",
        "# Determine the critical t-value for a two-tailed test\n",
        "t_critical = stats.t.ppf(1 - alpha/2, df=n-1)\n",
        "\n",
        "print(f\"T-statistic: {t_statistic}\")\n",
        "print(f\"P-value: {p_value}\")\n",
        "print(f\"Critical T-value: {t_critical}\")\n"
      ],
      "metadata": {
        "colab": {
          "base_uri": "https://localhost:8080/"
        },
        "id": "qSKRH6fkAAPp",
        "outputId": "e2fe8482-29fa-4632-b615-4639948d2c5a"
      },
      "execution_count": 5,
      "outputs": [
        {
          "output_type": "stream",
          "name": "stdout",
          "text": [
            "T-statistic: 1.0954451150103321\n",
            "P-value: 0.2823362372860698\n",
            "Critical T-value: 2.045229642132703\n"
          ]
        }
      ]
    },
    {
      "cell_type": "code",
      "source": [],
      "metadata": {
        "id": "fWgbbBsBABhj"
      },
      "execution_count": null,
      "outputs": []
    }
  ]
}