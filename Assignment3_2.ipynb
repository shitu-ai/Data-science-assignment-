{
 "cells": [
  {
   "cell_type": "code",
   "execution_count": null,
   "id": "635197b9-0510-40e3-9180-0871e6fcc835",
   "metadata": {},
   "outputs": [],
   "source": [
    "Q1. Create a python program to sort the given list of tuples based on integer value using a\n",
    "lambda function.\n",
    "[('Sachin Tendulkar', 34357), ('Ricky Ponting', 27483), ('Jack Kallis', 25534), ('Virat Kohli', 24936)]"
   ]
  },
  {
   "cell_type": "code",
   "execution_count": 1,
   "id": "a8b625e0-a58b-485c-bff4-201a2ec424c3",
   "metadata": {},
   "outputs": [
    {
     "name": "stdout",
     "output_type": "stream",
     "text": [
      "('Virat Kohli', 24936)\n",
      "('Jack Kallis', 25534)\n",
      "('Ricky Ponting', 27483)\n",
      "('Sachin Tendulkar', 34357)\n"
     ]
    }
   ],
   "source": [
    "# Given list of tuples\n",
    "data = [('Sachin Tendulkar', 34357), ('Ricky Ponting', 27483), ('Jack Kallis', 25534), ('Virat Kohli', 24936)]\n",
    "\n",
    "# Sort the list of tuples based on the second element (integer value) using a lambda function\n",
    "sorted_data = sorted(data, key=lambda x: x[1])\n",
    "\n",
    "# Print the sorted list\n",
    "for item in sorted_data:\n",
    "    print(item)\n"
   ]
  },
  {
   "cell_type": "code",
   "execution_count": null,
   "id": "12dc13c1-bd30-4b64-93f8-92297c26457c",
   "metadata": {},
   "outputs": [],
   "source": [
    "Q2. Write a Python Program to find the squares of all the numbers in the given list of integers using\n",
    "lambda and map functions.\n",
    "[1, 2, 3, 4, 5, 6, 7, 8, 9, 10]"
   ]
  },
  {
   "cell_type": "code",
   "execution_count": 2,
   "id": "51bc7b6a-219c-42fd-82b5-bb18ba53d47f",
   "metadata": {},
   "outputs": [
    {
     "name": "stdout",
     "output_type": "stream",
     "text": [
      "[1, 4, 9, 16, 25, 36, 49, 64, 81, 100]\n"
     ]
    }
   ],
   "source": [
    "#Define the list of integers \n",
    "numbers=[1,2,3,4,5,6,7,8,9,10]\n",
    "#Use map() function with a lambda function to find the squares of numbers \n",
    "squares=list(map(lambda x:x**2,numbers))\n",
    "print ( squares )"
   ]
  },
  {
   "cell_type": "code",
   "execution_count": null,
   "id": "5075ad44-8687-4358-b2d9-caf4c37d8ffb",
   "metadata": {},
   "outputs": [],
   "source": [
    "The list of integers is defined as numbers.\n",
    "The map() function is used to apply the lambda function lambda x: x**2 to each element of numbers.\n",
    "lambda x: x**2 returns the square of each number x.\n",
    "list() is used to convert the map object returned by map() into a list.\n",
    "Finally, the list of squares is printed."
   ]
  },
  {
   "cell_type": "code",
   "execution_count": null,
   "id": "aae7e534-774e-4cfa-8146-1fa3b193bd37",
   "metadata": {},
   "outputs": [],
   "source": [
    "Q3. Write a python program to convert the given list of integers into a tuple of strings. Use map and\n",
    "lambda functions\n",
    "Given String: [1, 2, 3, 4, 5, 6, 7, 8, 9, 10]\n",
    "Expected output: ('1', '2', '3', '4', '5', '6', '7', '8', '9', '10')"
   ]
  },
  {
   "cell_type": "code",
   "execution_count": 4,
   "id": "0e6178ba-43d6-42cc-993c-cc3296474ab0",
   "metadata": {},
   "outputs": [
    {
     "name": "stdout",
     "output_type": "stream",
     "text": [
      "('1', '2', '3', '4', '5', '6', '7', '8', '9', '10')\n"
     ]
    }
   ],
   "source": [
    "#Here's how you can achieve that using map() and a lambda function:\n",
    "numbers = [1, 2, 3, 4, 5, 6, 7, 8, 9, 10]\n",
    "# Convert the list of integers into a tuple of strings using map and lambda\n",
    "tuple_of_string = tuple(map(lambda x:str(x),numbers))\n",
    "print(tuple_of_string)"
   ]
  },
  {
   "cell_type": "code",
   "execution_count": null,
   "id": "18875cfb-9af5-483a-94a2-7e67bc757299",
   "metadata": {},
   "outputs": [],
   "source": [
    "Q4. Write a python program using reduce function to compute the product of a list containing numbers\n",
    "from 1 to 25."
   ]
  },
  {
   "cell_type": "code",
   "execution_count": null,
   "id": "54f7545f-1322-4a75-8087-a31202677f61",
   "metadata": {},
   "outputs": [],
   "source": [
    "'You can use the reduce() function from the functools module to compute the product of a list containing numbers from 1 to 25.\n",
    "Here's how you can do it:''\n",
    "\n"
   ]
  },
  {
   "cell_type": "code",
   "execution_count": 5,
   "id": "cd978c85-d8c0-423d-9f30-9a959bb7e038",
   "metadata": {},
   "outputs": [
    {
     "name": "stdout",
     "output_type": "stream",
     "text": [
      "the product is : 15511210043330985984000000\n"
     ]
    }
   ],
   "source": [
    "from functools import reduce \n",
    "# Define the list containing numbers from 1 to 25\n",
    "numbers = list(range(1,26))\n",
    "# Use reduce() function to compute the product of all numbers in the list\n",
    "product = reduce(lambda x,y : x*y,numbers)\n",
    "print(\"the product is :\",product )"
   ]
  },
  {
   "cell_type": "code",
   "execution_count": null,
   "id": "5433531d-f674-4a81-b5c9-8fec892dba71",
   "metadata": {},
   "outputs": [],
   "source": [
    "Q5. Write a python program to filter the numbers in a given list that are divisible by 2 and 3 using the\n",
    "filter function.\n",
    "[2, 3, 6, 9, 27, 60, 90, 120, 55, 46]"
   ]
  },
  {
   "cell_type": "code",
   "execution_count": 6,
   "id": "2a8395be-c7c4-4baa-88f0-01ccba0def8e",
   "metadata": {},
   "outputs": [
    {
     "name": "stdout",
     "output_type": "stream",
     "text": [
      "Numbers divisible by both 2 and 3: [6, 60, 90, 120]\n"
     ]
    }
   ],
   "source": [
    "#Given list of numbers \n",
    "numbers = [2,3,6,9,27,60,90,120,55,46]\n",
    "# Use filter() function to filter numbers divisible by both 2 and 3\n",
    "filtered_numbers=list(filter(lambda x :x%2==0 and x%3==0,numbers))\n",
    "print(\"Numbers divisible by both 2 and 3:\", filtered_numbers)"
   ]
  },
  {
   "cell_type": "code",
   "execution_count": null,
   "id": "69ed39ad-a619-4292-8cf7-639e286bbeb6",
   "metadata": {},
   "outputs": [],
   "source": [
    "Q6. Write a python program to find palindromes in the given list of strings using lambda and filter\n",
    "function.\n",
    "['python', 'php', 'aba', 'radar', 'level']"
   ]
  },
  {
   "cell_type": "code",
   "execution_count": null,
   "id": "4a11e116-f27f-46da-9274-a5cbeb477841",
   "metadata": {},
   "outputs": [],
   "source": [
    "# Given list of strings\n",
    "strings = [ 'python','php','aba','radar','level']\n",
    "# Use filter() function with a lambda function to filter palindromes\n",
    "palindrome = list(filter(lambda x:x==x[::-1}\n"
   ]
  }
 ],
 "metadata": {
  "kernelspec": {
   "display_name": "Python 3 (ipykernel)",
   "language": "python",
   "name": "python3"
  },
  "language_info": {
   "codemirror_mode": {
    "name": "ipython",
    "version": 3
   },
   "file_extension": ".py",
   "mimetype": "text/x-python",
   "name": "python",
   "nbconvert_exporter": "python",
   "pygments_lexer": "ipython3",
   "version": "3.10.8"
  }
 },
 "nbformat": 4,
 "nbformat_minor": 5
}
