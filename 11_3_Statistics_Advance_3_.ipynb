{
  "nbformat": 4,
  "nbformat_minor": 0,
  "metadata": {
    "colab": {
      "provenance": []
    },
    "kernelspec": {
      "name": "python3",
      "display_name": "Python 3"
    },
    "language_info": {
      "name": "python"
    }
  },
  "cells": [
    {
      "cell_type": "markdown",
      "source": [
        "Q1: What is Estimation Statistics? Explain point estimate and interval estimate."
      ],
      "metadata": {
        "id": "VuBl0H_5yyp7"
      }
    },
    {
      "cell_type": "markdown",
      "source": [],
      "metadata": {
        "id": "6wnTCY9Zk-IK"
      }
    },
    {
      "cell_type": "markdown",
      "source": [
        "Estimation statistics involves using sample data to estimate population parameters. There are two main types of estimation: point estimation and interval estimation.\n",
        "\n",
        "1. **Point Estimate:**\n",
        "   A point estimate is a single value estimate of a population parameter based on sample data. For example, if we want to estimate the population mean (\\(\\mu\\)), we might calculate the sample mean (\\(\\bar{x}\\)). Similarly, for estimating the population proportion (\\(p\\)), we might calculate the sample proportion (\\(\\hat{p}\\)).\n",
        "\n",
        "   - **Example:** Suppose we want to estimate the average height of students in a school. We measure the heights of a sample of students and find that the average height is 165 cm. This value (165 cm) is the point estimate of the population mean height.\n",
        "\n",
        "2. **Interval Estimate:**\n",
        "   An interval estimate provides a range of values that, with a certain level of confidence, likely contains the true value of the population parameter. It takes into account the inherent uncertainty in estimating a population parameter based on a sample.\n",
        "\n",
        "   - **Confidence Interval:** This is a common form of interval estimate. It consists of an interval calculated from the sample data, within which we expect the population parameter to lie with a specified probability (confidence level).\n",
        "\n",
        "     - For example, a 95% confidence interval for the population mean height of students might be 160 cm to 170 cm. This means that we are 95% confident that the true population mean height falls within this interval based on our sample data.\n",
        "\n",
        "   - **Margin of Error:** Interval estimates are typically accompanied by a margin of error, which quantifies the uncertainty of the estimate. It reflects how much the point estimate might vary from the true population parameter.\n",
        "\n",
        "In summary, estimation statistics involves both point estimates (single value estimates) and interval estimates (ranges of values) to provide insights into population parameters using sample data while accounting for uncertainty."
      ],
      "metadata": {
        "id": "fjIXz3bcy1__"
      }
    },
    {
      "cell_type": "markdown",
      "source": [
        "Q2. Write a Python function to estimate the population mean using a sample mean and standard\n",
        "deviation."
      ],
      "metadata": {
        "id": "1cNSKD_Uy7cI"
      }
    },
    {
      "cell_type": "markdown",
      "source": [
        "To estimate the population mean using a sample mean and standard deviation, you can use the following formula:\n",
        "Population Mean=Sample Mean±(Sample Size​Standard Deviation​)×Z-Score"
      ],
      "metadata": {
        "id": "uvGyLupCy_gv"
      }
    },
    {
      "cell_type": "code",
      "source": [
        "import scipy.stats as stats\n",
        "\n",
        "def estimate_population_mean(sample_mean,sample_std_dev,sample_size,confidence_level=0.95):\n",
        "  #Calculate the Z-score corresponding to the desired cofidence level\n",
        "  z_score = stats.norm.ppf((1+confidence_level)/2)\n",
        "\n",
        "  #Calculate the margin of error\n",
        "  margin_of_error = (sample_std_dev/(sample_size**0.5))*z_score\n",
        "\n",
        "  #Calculate the lower and upper bounds of the confidence interval\n",
        "\n",
        "  lower_bound = sample_mean- margin_of_error\n",
        "  upper_bound = sample_mean+margin_of_error\n",
        "\n",
        "  return lower_bound,upper_bound\n",
        "\n",
        "#Example usage :\n",
        "sample_mean = 120\n",
        "sample_std_dev = 15\n",
        "sample_size =50\n",
        "confidence_level =0.95\n",
        "\n",
        "lower,upper = estimate_population_mean(sample_mean,sample_std_dev,sample_size,confidence_level)\n",
        "print(f\"Estimated population mean(95% confidence interval):[{lower:.2f},{upper:.2f}]\")"
      ],
      "metadata": {
        "colab": {
          "base_uri": "https://localhost:8080/"
        },
        "id": "EoiMBBluzTAZ",
        "outputId": "0f8480fd-c7d7-492f-eccb-3a2ec64acef7"
      },
      "execution_count": null,
      "outputs": [
        {
          "output_type": "stream",
          "name": "stdout",
          "text": [
            "Estimated population mean(95% confidence interval):[115.84,124.16]\n"
          ]
        }
      ]
    },
    {
      "cell_type": "markdown",
      "source": [
        "Q3: What is Hypothesis testing? Why is it used? State the importance of Hypothesis testing."
      ],
      "metadata": {
        "id": "73JG4onT2Dyj"
      }
    },
    {
      "cell_type": "markdown",
      "source": [
        "Hypothesis testing is a statistical method used to make inferences or conclusions about a population based on sample data. It involves testing a hypothesis, which is a statement about a population parameter, using data from a sample.\n",
        "\n",
        "Here’s why hypothesis testing is used and its importance:\n",
        "\n",
        "1. **Testing Research Hypotheses:** In scientific research, hypothesis testing is crucial for testing theories and hypotheses about the nature of the world. It allows researchers to determine whether their hypotheses are supported by empirical evidence.\n",
        "\n",
        "2. **Making Informed Decisions:** In business and decision-making contexts, hypothesis testing helps in making decisions based on data rather than intuition or anecdotal evidence. For example, a company might use hypothesis testing to decide whether a new marketing strategy has a significant impact on sales.\n",
        "\n",
        "3. **Drawing Generalizations:** Hypothesis testing allows researchers to draw conclusions about a population based on a sample. By rigorously testing hypotheses, researchers can generalize findings beyond the specific sample studied.\n",
        "\n",
        "4. **Quality Control and Process Improvement:** In manufacturing and quality control, hypothesis testing is used to ensure that processes meet desired specifications and standards. It helps in identifying factors that contribute to variability and in making improvements.\n",
        "\n",
        "5. **Scientific Rigor and Validity:** Hypothesis testing provides a structured framework for evaluating claims and theories. It helps ensure that findings are not due to random chance and are statistically significant.\n",
        "\n",
        "6. **Comparison of Alternative Hypotheses:** Hypothesis testing allows for the comparison of different hypotheses or explanations for observed phenomena. This is essential for advancing scientific understanding and theory development.\n",
        "\n",
        "In essence, hypothesis testing is used to validate or refute claims and to draw reliable conclusions from data. It forms a cornerstone of statistical inference, enabling researchers, analysts, and decision-makers to make evidence-based decisions and advance knowledge in various fields."
      ],
      "metadata": {
        "id": "u-UqBEpx2HTy"
      }
    },
    {
      "cell_type": "markdown",
      "source": [
        "Q4. Create a hypothesis that states whether the average weight of male college students is greater than\n",
        "the average weight of female college students."
      ],
      "metadata": {
        "id": "nmyxQEri2S6d"
      }
    },
    {
      "cell_type": "markdown",
      "source": [
        " Let's formulate a hypothesis regarding the average weight of male and female college students. Based on available data, we can make an informed statement:\n",
        "\n",
        "**Null Hypothesis (H₀):** The average weight of male college students is equal to the average weight of female college students.\n",
        "**Alternative Hypothesis (H₁):** The average weight of male college students is greater than the average weight of female college students.\n",
        "\n",
        "Now, let's break down the reasoning behind these hypotheses:\n",
        "\n",
        "1. **Background Information:**\n",
        "   - Women outnumber men in college enrollment, both at the undergraduate and graduate levels¹.\n",
        "   - Female college students tend to gain less weight during their college years compared to women who do not attend college².\n",
        "   - College students, regardless of gender, typically gain some weight during their college years³.\n",
        "\n",
        "2. **Observations:**\n",
        "   - In the fall of 2022, approximately 8.3 million women were undergraduate college students, while 6.1 million men were enrolled in undergraduate programs¹.\n",
        "   - Women also outnumbered men in graduate programs, with 1.8 million women versus 1.1 million men¹.\n",
        "\n",
        "3. **Hypotheses Interpretation:**\n",
        "   - The null hypothesis (H₀) assumes that there is no significant difference in average weight between male and female college students.\n",
        "   - The alternative hypothesis (H₁) suggests that male college students, on average, weigh more than female college students.\n",
        "\n",
        "4. **Testing the Hypothesis:**\n",
        "   - To test this hypothesis, we would collect weight data from a random sample of male and female college students.\n",
        "   - We would then perform a statistical test (such as a t-test or ANOVA) to determine if there is sufficient evidence to reject the null hypothesis in favor of the alternative hypothesis.\n",
        "\n",
        "Keep in mind that this hypothesis is based on general trends and may not apply universally to all college students. Factors like lifestyle, diet, and genetics can also influence weight. If you're conducting an actual study, ensure proper data collection and statistical analysis to draw meaningful conclusions.\n",
        "\n"
      ],
      "metadata": {
        "id": "_Gq3cZgo2Uvp"
      }
    },
    {
      "cell_type": "markdown",
      "source": [
        "Q5. Write a Python script to conduct a hypothesis test on the difference between two population means,\n",
        "given a sample from each population."
      ],
      "metadata": {
        "id": "TplfQp1G2nRm"
      }
    },
    {
      "cell_type": "markdown",
      "source": [
        "Conducting a hypothesis test on the difference between two population means is a common statistical task. Let’s break it down into two scenarios: the one-sample t-test and the two-sample t-test.\n",
        "\n",
        "\n",
        "One-Sample T-Test:\n",
        "\n",
        "The one-sample t-test assesses whether the population mean inferred from a sample is equal to some given value.\n",
        "Null hypothesis (H₀): The population mean is equal to a hypothesized value (μ₀).\n",
        "Alternative hypotheses:\n",
        "\n",
        "Two-tailed: Population mean ≠ μ₀\n",
        "Left-tailed: Population mean < μ₀\n",
        "Right-tailed: Population mean > μ₀\n",
        "\n",
        "\n",
        "Test statistic:t=s/n​xˉ−μ0​​\n",
        "where:\n",
        "\n",
        "(x) is the sample mean\n",
        "(\\mu₀) is the hypothesized population mean\n",
        "(s) is the sample standard deviation\n",
        "(n) is the sample size\n",
        "\n",
        "\n",
        "Calculate the p-value using degrees of freedom equal to (n - 1). If the p-value is less than your chosen significance level, reject the null hypothesis.\n",
        "\n",
        "\n",
        "\n",
        "Two-Sample T-Test:\n",
        "\n",
        "The two-sample t-test compares means between two independent groups.\n",
        "Null hypothesis (H₀): The two population means are equal.\n",
        "Test statistic:t=n1​s12​​+n2​s22​​​Xˉ1​−Xˉ2​​\n",
        "where:\n",
        "\n",
        "(\\bar{X}_1) and (\\bar{X}_2) are the sample means of the two groups\n",
        "(s_1) and (s_2) are the sample standard deviations of the two groups\n",
        "(n_1) and (n_2) are the sample sizes of the two groups\n",
        "\n",
        "\n",
        "Calculate the p-value using degrees of freedom equal to (n_1 + n_2 - 1)."
      ],
      "metadata": {
        "id": "Zh_se3sZ2qeq"
      }
    },
    {
      "cell_type": "code",
      "source": [
        "import numpy as np\n",
        "import scipy.stats as stats\n",
        "\n",
        "#Generate example data (replace with your actual data)\n",
        "sample1 = np.array([10,12,15,18,20])\n",
        "sample2 = np.array([22,25,28,30,32])\n",
        "\n",
        "#Perform the two-sample t-test\n",
        "t_statistic,p_value = stats.ttest_ind(sample1,sample2, equal_var = False)\n",
        "\n",
        "#Interpret the results\n",
        "alpha = 0.05\n",
        "\n",
        "if p_value<alpha:\n",
        "  print(\"Reject the null hypothesis:Means differ significantly.\")\n",
        "\n",
        "else:\n",
        "  print(\"Fail to reject the null hypothesis:No significant difference in means.\")"
      ],
      "metadata": {
        "colab": {
          "base_uri": "https://localhost:8080/"
        },
        "id": "Xp1cRxgf2-Fb",
        "outputId": "dce29077-8364-46c1-a124-6e2a35794b06"
      },
      "execution_count": null,
      "outputs": [
        {
          "output_type": "stream",
          "name": "stdout",
          "text": [
            "Reject the null hypothesis:Means differ significantly.\n"
          ]
        }
      ]
    },
    {
      "cell_type": "markdown",
      "source": [
        "Q6: What is a null and alternative hypothesis? Give some examples."
      ],
      "metadata": {
        "id": "8n4ONcLk4lFz"
      }
    },
    {
      "cell_type": "markdown",
      "source": [
        "In statistics, the concepts of null hypothesis (H0) and alternative hypothesis (H1 or Ha) are fundamental to hypothesis testing, which is a method used to make decisions based on data.\n",
        "\n",
        "### Null Hypothesis (H0):\n",
        "The null hypothesis is a statement of no effect or no difference. It represents the status quo or the commonly accepted belief. In hypothesis testing, we assume the null hypothesis to be true and seek evidence to refute it. If there is enough evidence against the null hypothesis, we reject it in favor of the alternative hypothesis.\n",
        "\n",
        "**Examples of null hypotheses:**\n",
        "1. **Example 1 (Coin Toss):** The probability of getting heads in a coin toss is 0.5.\n",
        "   - Null Hypothesis (H0): The coin is fair, so the probability of heads (p) is 0.5.\n",
        "   - Alternative Hypothesis (H1): The coin is biased, so the probability of heads (p) is not equal to 0.5.\n",
        "\n",
        "2. **Example 2 (Drug Efficacy):** A new drug has no effect on a certain medical condition.\n",
        "   - Null Hypothesis (H0): The new drug has no effect, i.e., its effect is the same as that of a placebo.\n",
        "   - Alternative Hypothesis (H1): The new drug has an effect, i.e., it is different from a placebo.\n",
        "\n",
        "3. **Example 3 (Mean Comparison):** The mean weight of samples from two populations is equal.\n",
        "   - Null Hypothesis (H0): The mean weight of population A is equal to the mean weight of population B.\n",
        "   - Alternative Hypothesis (H1): The mean weight of population A is not equal to the mean weight of population B.\n",
        "\n",
        "### Alternative Hypothesis (H1):\n",
        "The alternative hypothesis is what researchers want to prove. It represents a departure from the status quo and is typically the hypothesis of interest. It asserts that there is a statistically significant relationship, effect, or difference between variables or groups being studied.\n",
        "\n",
        "In summary, the null hypothesis suggests no effect or no difference, while the alternative hypothesis suggests an effect, difference, or relationship. Hypothesis testing helps determine whether there is enough evidence to reject the null hypothesis in favor of the alternative hypothesis, based on sample data."
      ],
      "metadata": {
        "id": "Hl8mTr_h406d"
      }
    },
    {
      "cell_type": "markdown",
      "source": [
        "Q7: Write down the steps involved in hypothesis testing."
      ],
      "metadata": {
        "id": "etbqAXfk412V"
      }
    },
    {
      "cell_type": "markdown",
      "source": [
        "Hypothesis testing is a statistical method used to make inferences about a population based on sample data. The general steps involved in hypothesis testing are as follows:\n",
        "\n",
        "1. **State the Hypotheses**:\n",
        "   - **Null Hypothesis (\\( H_0 \\))**: This is the default hypothesis that there is no significant difference or relationship. It represents the status quo.\n",
        "   - **Alternative Hypothesis (\\( H_1 \\) or \\( H_a \\))**: This is the hypothesis you are trying to prove. It typically states that there is a significant difference or relationship.\n",
        "\n",
        "2. **Choose the Significance Level (\\( \\alpha \\))**:\n",
        "   - The significance level (\\( \\alpha \\)) is the probability of rejecting the null hypothesis when it is actually true. Common values are \\( \\alpha = 0.05 \\) or \\( \\alpha = 0.01 \\), indicating a 5% or 1% chance of rejecting the null hypothesis incorrectly.\n",
        "\n",
        "3. **Select the Test Statistic**:\n",
        "   - Choose an appropriate statistical test based on the type of data and the hypothesis being tested (e.g., t-test, chi-square test, ANOVA, etc.).\n",
        "\n",
        "4. **Formulate a Decision Rule**:\n",
        "   - Define the critical region: This is the set of all values of the test statistic for which the null hypothesis will be rejected.\n",
        "   - Determine the rejection region based on the chosen significance level (\\( \\alpha \\)) and the distribution of the test statistic under the null hypothesis.\n",
        "\n",
        "5. **Compute the Test Statistic**:\n",
        "   - Calculate the value of the test statistic from the sample data.\n",
        "\n",
        "6. **Make a Decision**:\n",
        "   - Compare the computed test statistic to the critical value(s) from the distribution of the test statistic under the null hypothesis.\n",
        "   - If the test statistic falls within the critical region, reject the null hypothesis.\n",
        "   - If the test statistic does not fall within the critical region, do not reject the null hypothesis.\n",
        "\n",
        "7. **Draw Conclusions**:\n",
        "   - Based on the decision in step 6, conclude whether there is enough evidence to reject the null hypothesis in favor of the alternative hypothesis.\n",
        "   - State the results in the context of the specific problem and interpret the practical implications of the findings.\n",
        "\n",
        "8. **Consideration of Assumptions**:\n",
        "   - Assess whether the assumptions of the chosen test are met, as violations may affect the validity of the results.\n",
        "\n",
        "9. **Report the Results**:\n",
        "   - Communicate the findings, including the test statistic, p-value (if applicable), and the decision made regarding the null hypothesis.\n",
        "\n",
        "These steps provide a structured approach to systematically evaluate hypotheses and draw statistically grounded conclusions based on sample data."
      ],
      "metadata": {
        "id": "h6QzC-ov43xH"
      }
    },
    {
      "cell_type": "markdown",
      "source": [
        "Q8. Define p-value and explain its significance in hypothesis testing."
      ],
      "metadata": {
        "id": "O6fKNawk5JEI"
      }
    },
    {
      "cell_type": "markdown",
      "source": [
        "In hypothesis testing, the p-value is a measure that helps determine the strength of the evidence against the null hypothesis. Here’s a more detailed explanation:\n",
        "\n",
        "### Definition of p-value:\n",
        "The p-value is the probability of obtaining a test statistic at least as extreme as the one that was actually observed, assuming that the null hypothesis is true. In simpler terms, it indicates how likely it is to get results as unusual or more unusual than the observed results, if the null hypothesis were actually true.\n",
        "\n",
        "### Significance in hypothesis testing:\n",
        "1. **Decision Rule**: In hypothesis testing, after calculating the test statistic (such as t-statistic, z-statistic, etc.) and obtaining the p-value, we compare this p-value to a significance level (usually denoted as alpha, often set at 0.05). If the p-value is less than or equal to the significance level, we reject the null hypothesis. This suggests that the observed data is statistically significant and provides evidence against the null hypothesis.\n",
        "\n",
        "2. **Interpretation**: A small p-value (typically less than 0.05) indicates strong evidence against the null hypothesis, suggesting that the observed data is unlikely to occur if the null hypothesis were true. This leads to rejecting the null hypothesis in favor of the alternative hypothesis. On the other hand, a large p-value suggests weak evidence against the null hypothesis, indicating that the observed data is likely to occur even if the null hypothesis were true, thus we fail to reject the null hypothesis.\n",
        "\n",
        "3. **No Decision on Truth**: Importantly, the p-value does not indicate the probability that the null hypothesis is true or false. It only assesses the strength of evidence against the null hypothesis based on the observed data.\n",
        "\n",
        "### Summary:\n",
        "The p-value serves as a crucial tool in hypothesis testing by quantifying the likelihood of observing the data under the assumption that the null hypothesis is true. It helps researchers and analysts make informed decisions about whether to accept or reject the null hypothesis, thereby drawing conclusions about the population being studied."
      ],
      "metadata": {
        "id": "Mw5WfmNk5NAL"
      }
    },
    {
      "cell_type": "markdown",
      "source": [
        "Q9. Generate a Student's t-distribution plot using Python's matplotlib library, with the degrees of freedom\n",
        "parameter set to 10."
      ],
      "metadata": {
        "id": "mL7OwF_85cDh"
      }
    },
    {
      "cell_type": "code",
      "source": [
        "import matplotlib.pyplot as plt\n",
        "import numpy as np\n",
        "from scipy.stats import t\n",
        "\n",
        "# Generate data points for the x-axis\n",
        "x = np.linspace(-5, 5, 100)\n",
        "\n",
        "# Set the degrees of freedom\n",
        "degrees_of_freedom = 10\n",
        "\n",
        "# Compute the t-distribution values\n",
        "t_distribution = t.pdf(x, df=degrees_of_freedom)\n",
        "\n",
        "# Create the plot\n",
        "plt.plot(x, t_distribution, label=f\"df = {degrees_of_freedom}\", color='blue')\n",
        "plt.xlabel(\"x value\")\n",
        "plt.ylabel(\"Density\")\n",
        "plt.title(\"Student's t-Distribution (df = 10)\")\n",
        "plt.legend()\n",
        "plt.grid(True)\n",
        "plt.show()\n"
      ],
      "metadata": {
        "colab": {
          "base_uri": "https://localhost:8080/",
          "height": 472
        },
        "id": "d-j_XI9a5svZ",
        "outputId": "bf05051a-2601-405e-ea30-e10a4082ffae"
      },
      "execution_count": null,
      "outputs": [
        {
          "output_type": "display_data",
          "data": {
            "text/plain": [
              "<Figure size 640x480 with 1 Axes>"
            ],
            "image/png": "[encoded data removed]"
          },
          "metadata": {}
        }
      ]
    },
    {
      "cell_type": "markdown",
      "source": [
        "Q10. Write a Python program to calculate the two-sample t-test for independent samples, given two\n",
        "random samples of equal size and a null hypothesis that the population means are equal."
      ],
      "metadata": {
        "id": "J251xcVd7Ygm"
      }
    },
    {
      "cell_type": "markdown",
      "source": [
        "Let’s calculate the two-sample t-test for independent samples in Python. This test is used to compare the means of two groups and determine if they are statistically different. Here’s how you can do it using the scipy library:"
      ],
      "metadata": {
        "id": "HuK9p5S97eup"
      }
    },
    {
      "cell_type": "code",
      "source": [
        "import numpy as np\n",
        "import scipy.stats as stats\n",
        "\n",
        "#Example data(replace with your actual data)\n",
        "data_group1 = np.array([14, 15, 15, 16, 13, 8, 14, 17, 16, 14, 19, 20, 21, 15, 15, 16, 16, 13, 14, 12])\n",
        "data_group2 = np.array([15, 17, 14, 17, 14, 8, 12, 19, 19, 14, 17, 22, 24, 16, 13, 16, 13, 18, 15, 13])\n",
        "\n",
        "#Check if the data groups have equals variance\n",
        "variance_group1 = np.var(data_group1)\n",
        "variance_group2 = np.var(data_group2)\n",
        "\n",
        "#Perform the two-sample t-test\n",
        "t_statistic, p_value = stats.ttest_ind(data_group1,data_group2,equal_var=False)\n",
        "\n",
        "#Print results\n",
        "print(f\" Variance of Group 1 : { variance_group1:.2f}\")\n",
        "print(f\" Variance of Group 2 : { variance_group2: .2f}\")\n",
        "print(f\" T-Statistic : { t_statistic: .2f}\")\n",
        "print(f\"p-Value : {p_value:.4f}\")"
      ],
      "metadata": {
        "colab": {
          "base_uri": "https://localhost:8080/"
        },
        "id": "rsJuQv_U8JpR",
        "outputId": "4dd1bf00-decf-4482-f3c3-580cbd867b65"
      },
      "execution_count": null,
      "outputs": [
        {
          "output_type": "stream",
          "name": "stdout",
          "text": [
            " Variance of Group 1 : 7.73\n",
            " Variance of Group 2 :  12.26\n",
            " T-Statistic : -0.63\n",
            "p-Value : 0.5302\n"
          ]
        }
      ]
    },
    {
      "cell_type": "markdown",
      "source": [
        "Q11: What is Student’s t distribution? When to use the t-Distribution."
      ],
      "metadata": {
        "id": "e0Bqr69mfGTx"
      }
    },
    {
      "cell_type": "markdown",
      "source": [
        "**Student’s t-Distribution**\n",
        "\n",
        "The Student’s t-distribution, often referred to simply as the t-distribution, is a probability distribution that is symmetric and bell-shaped, similar to the normal distribution but with heavier tails. This means it has a greater chance of producing values that fall far from its mean. The t-distribution is characterized by the degrees of freedom (df), which is a parameter that impacts the shape of the distribution.\n",
        "\n",
        "As the degrees of freedom increase, the t-distribution approaches the normal distribution. For small degrees of freedom, the t-distribution is more spread out with heavier tails. It was introduced by William Sealy Gosset under the pseudonym \"Student\".\n",
        "\n",
        "**Formula of the t-Distribution**\n",
        "\n",
        "The probability density function (PDF) of the t-distribution for \\( t \\) with \\( \\nu \\) degrees of freedom is given by:\n",
        "\n",
        "\\[ f(t|\\nu) = \\frac{\\Gamma\\left(\\frac{\\nu+1}{2}\\right)}{\\sqrt{\\nu\\pi} \\, \\Gamma\\left(\\frac{\\nu}{2}\\right)} \\left(1 + \\frac{t^2}{\\nu}\\right)^{-\\frac{\\nu+1}{2}} \\]\n",
        "\n",
        "where:\n",
        "- \\( \\Gamma \\) is the gamma function.\n",
        "- \\( \\nu \\) is the degrees of freedom.\n",
        "\n",
        "**When to Use the t-Distribution**\n",
        "\n",
        "1. **Small Sample Sizes**:\n",
        "   - When the sample size is small (typically \\( n < 30 \\)), the t-distribution is used instead of the normal distribution because the sample standard deviation is a less reliable estimate of the population standard deviation.\n",
        "\n",
        "2. **Unknown Population Standard Deviation**:\n",
        "   - When the population standard deviation is unknown and has to be estimated from the sample data, the t-distribution is used to account for the additional variability.\n",
        "\n",
        "3. **Confidence Intervals**:\n",
        "   - When constructing confidence intervals for the mean of a population from a small sample, the t-distribution provides more accurate intervals by accounting for the sample size.\n",
        "\n",
        "4. **Hypothesis Testing**:\n",
        "   - The t-distribution is used in hypothesis tests concerning the mean (e.g., one-sample t-test, two-sample t-test, paired t-test) when the sample size is small and/or the population standard deviation is unknown.\n",
        "\n",
        "**Applications**\n",
        "\n",
        "1. **One-Sample t-Test**:\n",
        "   - Used to determine if the mean of a single sample differs significantly from a known or hypothesized population mean.\n",
        "\n",
        "2. **Two-Sample t-Test**:\n",
        "   - Used to compare the means of two independent samples to determine if they come from populations with equal means.\n",
        "\n",
        "3. **Paired t-Test**:\n",
        "   - Used to compare the means of two related groups, such as measurements before and after a treatment on the same subjects.\n",
        "\n",
        "4. **Estimating Population Parameters**:\n",
        "   - The t-distribution is often used in constructing confidence intervals for the mean of a normally distributed population when the sample size is small and the population standard deviation is unknown.\n",
        "\n",
        "**Summary**\n",
        "\n",
        "In summary, the Student’s t-distribution is a key tool in inferential statistics, especially useful for small sample sizes and when the population standard deviation is unknown. It adjusts for the additional uncertainty introduced by using the sample standard deviation as an estimate, making it an essential distribution for accurate statistical inference in these scenarios."
      ],
      "metadata": {
        "id": "5_c7XgsxfN5t"
      }
    },
    {
      "cell_type": "markdown",
      "source": [
        "Q12: What is t-statistic? State the formula for t-statistic."
      ],
      "metadata": {
        "id": "q95xdHLlf4xc"
      }
    },
    {
      "cell_type": "markdown",
      "source": [
        "The t-statistic is a type of test statistic that is used in hypothesis testing to determine whether there is a significant difference between the sample mean and the population mean, or between the means of two samples. It is particularly useful when dealing with small sample sizes or when the population standard deviation is unknown.\n",
        "\n",
        "The formula for the t-statistic depends on the specific hypothesis test being conducted. Here are two common scenarios where the t-statistic is used:\n",
        "\n",
        "### 1. **Single Sample t-test**\n",
        "In a single sample t-test, the t-statistic is used to test whether the sample mean (\\(\\bar{x}\\)) is significantly different from a known population mean (\\(\\mu\\)).\n",
        "\n",
        "The formula is:\n",
        "\\[ t = \\frac{\\bar{x} - \\mu}{\\frac{s}{\\sqrt{n}}} \\]\n",
        "\n",
        "Where:\n",
        "- \\(\\bar{x}\\) = sample mean\n",
        "- \\(\\mu\\) = population mean\n",
        "- \\(s\\) = sample standard deviation\n",
        "- \\(n\\) = sample size\n",
        "\n",
        "### 2. **Two-Sample t-test (Independent samples)**\n",
        "In a two-sample t-test, the t-statistic is used to test whether the means of two independent samples (\\(\\bar{x}_1\\) and \\(\\bar{x}_2\\)) are significantly different.\n",
        "\n",
        "The formula is:\n",
        "\\[ t = \\frac{\\bar{x}_1 - \\bar{x}_2}{\\sqrt{\\frac{s_1^2}{n_1} + \\frac{s_2^2}{n_2}}} \\]\n",
        "\n",
        "Where:\n",
        "- \\(\\bar{x}_1\\) = mean of sample 1\n",
        "- \\(\\bar{x}_2\\) = mean of sample 2\n",
        "- \\(s_1\\) = standard deviation of sample 1\n",
        "- \\(s_2\\) = standard deviation of sample 2\n",
        "- \\(n_1\\) = sample size of sample 1\n",
        "- \\(n_2\\) = sample size of sample 2\n",
        "\n",
        "### Pooled Variance (for equal variances assumption)\n",
        "If the variances of the two samples are assumed to be equal, a pooled variance \\(s_p^2\\) can be used:\n",
        "\n",
        "\\[ s_p^2 = \\frac{(n_1 - 1)s_1^2 + (n_2 - 1)s_2^2}{n_1 + n_2 - 2} \\]\n",
        "\n",
        "The t-statistic formula with pooled variance becomes:\n",
        "\n",
        "\\[ t = \\frac{\\bar{x}_1 - \\bar{x}_2}{s_p \\sqrt{\\frac{1}{n_1} + \\frac{1}{n_2}}} \\]\n",
        "\n",
        "These formulas are used to calculate the t-statistic, which is then compared against critical values from the t-distribution to determine the significance of the test result."
      ],
      "metadata": {
        "id": "6rRAmmq6f9Ik"
      }
    },
    {
      "cell_type": "markdown",
      "source": [
        "Q13. A coffee shop owner wants to estimate the average daily revenue for their shop. They take a random\n",
        "sample of 50 days and find the sample mean revenue to be $500 with a standard deviation of $50.\n",
        "Estimate the population mean revenue with a 95% confidence interval."
      ],
      "metadata": {
        "id": "LXGaj5DUgHj2"
      }
    },
    {
      "cell_type": "markdown",
      "source": [
        "To estimate the population mean revenue with a 95% confidence interval, we can use the formula for the confidence interval for the mean when the population standard deviation is unknown. The formula is given by:\n",
        "\n",
        "\\[\n",
        "\\text{CI} = \\left( \\bar{x} - t \\left(\\frac{s}{\\sqrt{n}}\\right), \\bar{x} + t \\left(\\frac{s}{\\sqrt{n}}\\right) \\right)\n",
        "\\]\n",
        "\n",
        "Where:\n",
        "- \\(\\bar{x}\\) is the sample mean\n",
        "- \\(s\\) is the sample standard deviation\n",
        "- \\(n\\) is the sample size\n",
        "- \\(t\\) is the t-score from the t-distribution for the desired confidence level and degrees of freedom (\\(df = n - 1\\))\n",
        "\n",
        "Given the data:\n",
        "- Sample mean \\(\\bar{x} = 500\\)\n",
        "- Sample standard deviation \\(s = 50\\)\n",
        "- Sample size \\(n = 50\\)\n",
        "\n",
        "Degrees of freedom \\(df = n - 1 = 50 - 1 = 49\\)\n",
        "\n",
        "For a 95% confidence interval, the t-score for \\(df = 49\\) can be found from the t-distribution table or using a calculator. For large sample sizes, the t-score approximates the z-score. Here, \\(t_{0.025, 49} \\approx 2.009\\).\n",
        "\n",
        "Now, we can calculate the margin of error (ME):\n",
        "\n",
        "\\[\n",
        "\\text{ME} = t \\left(\\frac{s}{\\sqrt{n}}\\right) = 2.009 \\left(\\frac{50}{\\sqrt{50}}\\right)\n",
        "\\]\n",
        "\n",
        "\\[\n",
        "\\text{ME} = 2.009 \\left(\\frac{50}{7.071}\\right) \\approx 2.009 \\times 7.071 \\approx 14.19\n",
        "\\]\n",
        "\n",
        "Thus, the confidence interval is:\n",
        "\n",
        "\\[\n",
        "\\text{CI} = \\left(500 - 14.19, 500 + 14.19\\right) = (485.81, 514.19)\n",
        "\\]\n",
        "\n",
        "Therefore, the 95% confidence interval for the population mean revenue is approximately \\(\\$485.81\\) to \\(\\$514.19\\)."
      ],
      "metadata": {
        "id": "7KiZFUNigMib"
      }
    },
    {
      "cell_type": "markdown",
      "source": [
        "Let’s write a Python program to estimate the population mean revenue with a 95% confidence interval based on the given sample data."
      ],
      "metadata": {
        "id": "f1jXNNbPhMl5"
      }
    },
    {
      "cell_type": "code",
      "source": [
        "import numpy as np\n",
        "import scipy.stats as stats\n",
        "\n",
        "#Given sample data\n",
        "sample_mean = 500\n",
        "sample_std = 50\n",
        "sample_size = 50\n",
        "confidence_level = 0.95\n",
        "\n",
        "#Calculate the standard error(SE)\n",
        "se = sample_std/np.sqrt(sample_size)\n",
        "\n",
        "#Find the z-score for the desired confidence level\n",
        "z_critical = stats.norm.ppf(1-(1-confidence_level)/2)\n",
        "\n",
        "#Calculate the confidence interval\n",
        "lower_bound = sample_mean - margin_of_error\n",
        "upper_bound = sample_mean + margin_of_error\n",
        "\n",
        "#Print the result\n",
        "print(f\"Sample Mean : ${sample_mean:.2f}\")\n",
        "print(f\"Standard Error (SE): ${se:.2f}\")\n",
        "print(f\"Margin of Error(ME): ${margin_of_error:.2f}\")\n",
        "print(f\"95% Confidence Interval : ${lower_bound:.2f} to ${upper_bound:.2f}\")"
      ],
      "metadata": {
        "colab": {
          "base_uri": "https://localhost:8080/"
        },
        "id": "vgndy6GUg471",
        "outputId": "a60deb27-ca61-4263-ade6-c739e0f68be0"
      },
      "execution_count": null,
      "outputs": [
        {
          "output_type": "stream",
          "name": "stdout",
          "text": [
            "Sample Mean : $500.00\n",
            "Standard Error (SE): $7.07\n",
            "Margin of Error(ME): $14.21\n",
            "95% Confidence Interval : $485.79 to $514.21\n"
          ]
        }
      ]
    },
    {
      "cell_type": "code",
      "source": [],
      "metadata": {
        "id": "Bq4VvNEDjyVy"
      },
      "execution_count": null,
      "outputs": []
    },
    {
      "cell_type": "markdown",
      "source": [
        "Q14. A researcher hypothesizes that a new drug will decrease blood pressure by 10 mmHg. They conduct a\n",
        "clinical trial with 100 patients and find that the sample mean decrease in blood pressure is 8 mmHg with a\n",
        "standard deviation of 3 mmHg. Test the hypothesis with a significance level of 0.05."
      ],
      "metadata": {
        "id": "z1pHXZCokJ8h"
      }
    },
    {
      "cell_type": "markdown",
      "source": [
        "\n",
        "\n",
        "### Step-by-Step Solution:\n",
        "\n",
        "1. **State the null and alternative hypotheses:**\n",
        "   - Null hypothesis (\\(H_0\\)): The true mean decrease in blood pressure is 10 mmHg (\\(\\mu = 10\\)).\n",
        "   - Alternative hypothesis (\\(H_1\\)): The true mean decrease in blood pressure is not 10 mmHg (\\(\\mu \\neq 10\\)).\n",
        "\n",
        "2. **Given data:**\n",
        "   - Sample mean (\\(\\bar{x}\\)) = 8 mmHg\n",
        "   - Hypothesized mean (\\(\\mu\\)) = 10 mmHg\n",
        "   - Sample standard deviation (\\(s\\)) = 3 mmHg\n",
        "   - Sample size (\\(n\\)) = 100\n",
        "\n",
        "3. **Calculate the test statistic:**\n",
        "   \\[\n",
        "   t = \\frac{\\bar{x} - \\mu}{s / \\sqrt{n}}\n",
        "   \\]\n",
        "   \\[\n",
        "   t = \\frac{8 - 10}{3 / \\sqrt{100}} = \\frac{-2}{3 / 10} = \\frac{-2}{0.3} = -6.67\n",
        "   \\]\n",
        "\n",
        "4. **Determine the critical value and the p-value:**\n",
        "   - Degrees of freedom (\\(df\\)) = \\(n - 1 = 100 - 1 = 99\\)\n",
        "   - For a two-tailed test at a significance level of 0.05, the critical t-value can be found from the t-distribution table. For \\(df = 99\\), the critical t-value is approximately \\(\\pm 1.984\\).\n",
        "\n",
        "5. **Calculate the p-value:**\n",
        "   The p-value can be calculated using the t-distribution:\n",
        "   \\[\n",
        "   p = 2 \\times \\text{P}(T \\geq |t|)\n",
        "   \\]\n",
        "\n",
        "\n",
        "```\n",
        "\n",
        "\n",
        "```\n",
        "\n",
        "### Conclusion:\n",
        "- The test statistic is \\(-6.667\\).\n",
        "- The p-value is approximately \\(0.000\\), which is less than the significance level of 0.05.\n",
        "- Since the p-value is less than 0.05, we reject the null hypothesis.\n",
        "\n"
      ],
      "metadata": {
        "id": "R600yW2tkWyU"
      }
    },
    {
      "cell_type": "code",
      "source": [
        "import scipy.stats as stats\n",
        "\n",
        "#Given data\n",
        "sample_mean = 8\n",
        "hypothesized_mean = 10\n",
        "sample_std = 3\n",
        "sample_size = 100\n",
        "alpha = 0.05\n",
        "\n",
        "#Calculate the t-statics\n",
        "t_statistic = (sample_mean - hypothesized_mean)/(sample_std/(sample_size**0.5))\n",
        "\n",
        "#Calculate the critical t- value for a two-tailed test\n",
        "t_critical = stats.t.ppf(1-alpha/2,df = sample_size-1)\n",
        "\n",
        "#Calculate the p-value\n",
        "p_value = 2*(1-stats.t.cdf(abs(t_statistic),df = sample_size-1))\n",
        "\n",
        "#Make a decision\n",
        "if abs(t_statistic)>t_critical:\n",
        "  print(\"Reject the null hypothesis.\")\n",
        "\n",
        "else:\n",
        "  print(\"Fail to reject the null hypothesis.\")\n",
        "\n",
        "\n",
        "print(f\"t-statistic : {t_statistic:.4f}\")\n",
        "print(f\"Critical t-value : {t_critical:.4f}\")\n",
        "print(f\"P-value :{p_value:.4f}\")"
      ],
      "metadata": {
        "colab": {
          "base_uri": "https://localhost:8080/"
        },
        "id": "0i1OVE40lXzj",
        "outputId": "6c7a6b50-16a4-4c2b-e70b-dd6dc5e00c9f"
      },
      "execution_count": null,
      "outputs": [
        {
          "output_type": "stream",
          "name": "stdout",
          "text": [
            "Reject the null hypothesis.\n",
            "t-statistic : -6.6667\n",
            "Critical t-value : 1.9842\n",
            "P-value :0.0000\n"
          ]
        }
      ]
    },
    {
      "cell_type": "markdown",
      "source": [
        "Q15. An electronics company produces a certain type of product with a mean weight of 5 pounds and a\n",
        "standard deviation of 0.5 pounds. A random sample of 25 products is taken, and the sample mean weight\n",
        "is found to be 4.8 pounds. Test the hypothesis that the true mean weight of the products is less than 5\n",
        "pounds with a significance level of 0.01."
      ],
      "metadata": {
        "id": "waNjzAkjlB-W"
      }
    },
    {
      "cell_type": "code",
      "source": [
        "import scipy.stats as stats\n",
        "\n",
        "#Given data\n",
        "sample_mean = 4.8\n",
        "population_mean = 5\n",
        "sample_std_dev = 0.5\n",
        "sample_size = 25\n",
        "significance_level = 0.01\n",
        "\n",
        "#Calculate the test statistic\n",
        "t_statistic = (sample_mean-population_mean)/(sample_std_dev/(sample_size**0.5))\n",
        "\n",
        "#Find the critical value from the t-distribution\n",
        "critical_value = stats.t.ppf(significance_level, df=sample_size-1)\n",
        "\n",
        "#Make a decision\n",
        "if t_statistic <critical_value:\n",
        "  print(\"Reject the null hypothesis:The true mean weight is less than 5 pounds.\")\n",
        "\n",
        "else:\n",
        "  print(\"Fail to reject the null hypothesis :No significant evidence to suggest the mean weight is less than 5 pounds.\")"
      ],
      "metadata": {
        "colab": {
          "base_uri": "https://localhost:8080/"
        },
        "id": "jgMY_Q9cmEfG",
        "outputId": "f6e7fa94-2f93-4213-9646-a4646f14330a"
      },
      "execution_count": 1,
      "outputs": [
        {
          "output_type": "stream",
          "name": "stdout",
          "text": [
            "Fail to reject the null hypothesis :No significant evidence to suggest the mean weight is less than 5 pounds.\n"
          ]
        }
      ]
    },
    {
      "cell_type": "markdown",
      "source": [
        "Q16. Two groups of students are given different study materials to prepare for a test. The first group (n1 =\n",
        "30) has a mean score of 80 with a standard deviation of 10, and the second group (n2 = 40) has a mean\n",
        "score of 75 with a standard deviation of 8. Test the hypothesis that the population means for the two\n",
        "groups are equal with a significance level of 0.01."
      ],
      "metadata": {
        "id": "_qTy0Yz2onF3"
      }
    },
    {
      "cell_type": "code",
      "source": [
        "import scipy.stats as stats\n",
        "\n",
        "#Given data\n",
        "mean1 =80\n",
        "std1 = 10\n",
        "n1 =30\n",
        "\n",
        "mean2 = 75\n",
        "std2 = 8\n",
        "n2 = 40\n",
        "\n",
        "\n",
        "#Calculate pooled standard deviation\n",
        "sp = ((std1**2/n1)+(std2**2/n2))**0.5\n",
        "\n",
        "#Calculate t-statistic\n",
        "t_statistic = (mean1-mean2)/(sp*(1/n1+1/n2)**0.5)\n",
        "\n",
        "#Calculate degree of freedom\n",
        "df = ((std1**2/n1 +std2**2/n2)**2)/((std1**2/n1)**2/(n1-1) + (std2**2/n2)**2/(n2-1))\n",
        "\n",
        "#Calculate p-value\n",
        "p_value = 2*(1-stats.t.cdf(abs(t_statistic),df))\n",
        "\n",
        "#Set significance level\n",
        "alpha = 0.01\n",
        "\n",
        "#Compare P-value with significance level\n",
        "if p_value <alpha :\n",
        "  print(\"Reject the null hyothesis:Population means are different.\")\n",
        "\n",
        "else:\n",
        "  print(\"Fail to reject the null hypothesis : No significant difference in means.\")"
      ],
      "metadata": {
        "colab": {
          "base_uri": "https://localhost:8080/"
        },
        "id": "kopEuIpnocbV",
        "outputId": "f6a70d7e-11c9-400d-9eba-6c7cfdf5120d"
      },
      "execution_count": 2,
      "outputs": [
        {
          "output_type": "stream",
          "name": "stdout",
          "text": [
            "Reject the null hyothesis:Population means are different.\n"
          ]
        }
      ]
    },
    {
      "cell_type": "code",
      "source": [],
      "metadata": {
        "id": "29nGUsG9sdmT"
      },
      "execution_count": null,
      "outputs": []
    },
    {
      "cell_type": "markdown",
      "source": [
        "Q17. A marketing company wants to estimate the average number of ads watched by viewers during a TV\n",
        "program. They take a random sample of 50 viewers and find that the sample mean is 4 with a standard\n",
        "deviation of 1.5. Estimate the population mean with a 99% confidence interval."
      ],
      "metadata": {
        "id": "89u9Og_bskKR"
      }
    },
    {
      "cell_type": "code",
      "source": [
        "import scipy.stats as stats\n",
        "\n",
        "#Given sample data\n",
        "sample_mean = 4\n",
        "sample_std = 1.5\n",
        "sample_size = 50\n",
        "confidence_level = 0.99\n",
        "\n",
        "#Calculate the critical z - value\n",
        "z_critical = stats.norm.ppf(1-(1-confidence_level)/2)\n",
        "\n",
        "#Calculate the margin of error\n",
        "margin_of_error = z_critical*(sample_std/(sample_size**0.5))\n",
        "\n",
        "#Construct the confidence interval\n",
        "lower_bound = sample_mean - margin_of_error\n",
        "upper_bound = sample_mean + margin_of_error\n",
        "\n",
        "print(f\"99% Confidence Interval:[{lower_bound:.3f},{upper_bound:.3f}]\")"
      ],
      "metadata": {
        "colab": {
          "base_uri": "https://localhost:8080/"
        },
        "id": "c62R3k3Ysrc-",
        "outputId": "3c5ecf09-f5fc-479d-950c-29828fc1179e"
      },
      "execution_count": 4,
      "outputs": [
        {
          "output_type": "stream",
          "name": "stdout",
          "text": [
            "99% Confidence Interval:[3.454,4.546]\n"
          ]
        }
      ]
    },
    {
      "cell_type": "code",
      "source": [],
      "metadata": {
        "id": "hnNvUumWuhCe"
      },
      "execution_count": null,
      "outputs": []
    }
  ]
}