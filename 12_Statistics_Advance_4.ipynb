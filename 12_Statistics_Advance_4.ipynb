{
  "nbformat": 4,
  "nbformat_minor": 0,
  "metadata": {
    "colab": {
      "provenance": []
    },
    "kernelspec": {
      "name": "python3",
      "display_name": "Python 3"
    },
    "language_info": {
      "name": "python"
    }
  },
  "cells": [
    {
      "cell_type": "markdown",
      "source": [
        "Q1: What is the difference between a t-test and a z-test? Provide an example scenario where you would\n",
        "use each type of test."
      ],
      "metadata": {
        "id": "6fIYlfU68p6G"
      }
    },
    {
      "cell_type": "markdown",
      "source": [
        "Differences between a Z-test and a T-test:\n",
        "\n",
        "Z-Test:\n",
        "Population Standard Deviation Known: The Z-test is used when you have a large sample size (typically n > 30) and know the population standard deviation.\n",
        "Comparison: It assesses whether the sample mean significantly differs from the population mean.\n",
        "\n",
        "Example Scenario: Suppose you’re analyzing the average response time of a website feature. You collect a large sample of user response times and compare it to the known population average response time.\n",
        "\n",
        "T-Test:\n",
        "Population Standard Deviation Unknown or Small Sample Size: The T-test is employed when you have a small sample size (usually n < 30) or don’t know the population standard deviation.\n",
        "Comparison: It evaluates whether the sample mean significantly differs from a hypothesized population mean.\n",
        "\n",
        "Example Scenario: Imagine you’re testing a new drug’s effectiveness. You randomly assign a small group of patients to receive the drug and compare their recovery time to a control group (placebo). Since the population standard deviation is unknown, you’d use a T-test."
      ],
      "metadata": {
        "id": "3YzVZYVP8x6F"
      }
    },
    {
      "cell_type": "markdown",
      "source": [
        "Q2: Differentiate between one-tailed and two-tailed tests."
      ],
      "metadata": {
        "id": "ky_grDsZ9Yqe"
      }
    },
    {
      "cell_type": "markdown",
      "source": [
        "One-Tailed Test:\n",
        "Also known as a one-sided test.\n",
        "Used when you have a specific directional hypothesis (e.g., “The new drug improves recovery time”).\n",
        "Focuses on whether the sample data significantly deviates in only one direction (either larger or smaller) from the null hypothesis.\n",
        "Example: Testing whether a new ad campaign increases click-through rates (alternative hypothesis: mean CTR > null hypothesis mean CTR).\n",
        "\n",
        "Two-Tailed Test:\n",
        "Also called a two-sided test.\n",
        "Appropriate when you have a non-directional hypothesis (e.g., “The coin is biased”).\n",
        "Assesses whether the sample data significantly differs from the null hypothesis in either direction (larger or smaller).\n",
        "Example: Checking if a coin is fair (alternative hypothesis: mean ≠ 0.5)."
      ],
      "metadata": {
        "id": "xrsk3dF29c_u"
      }
    },
    {
      "cell_type": "markdown",
      "source": [
        "Q3: Explain the concept of Type 1 and Type 2 errors in hypothesis testing. Provide an example scenario for\n",
        "each type of error."
      ],
      "metadata": {
        "id": "S6ATWTBF9rVy"
      }
    },
    {
      "cell_type": "markdown",
      "source": [
        "In hypothesis testing, Type I and Type II errors are crucial concepts. Let me break them down for you:\n",
        "\n",
        "Type I Error (False Positive):\n",
        "A Type I error occurs when we incorrectly reject a true null hypothesis. In other words, we conclude that there is an effect or difference when there isn’t one in reality.\n",
        "It’s like a false alarm—we think something significant happened, but it didn’t.\n",
        "\n",
        "Example: Imagine testing a new drug for an autoimmune disease. The null hypothesis is that the drug has no effect on symptoms. If we mistakenly conclude that the drug works (when it doesn’t), that’s a Type I error1.\n",
        "\n",
        "Type II Error (False Negative):\n",
        "A Type II error happens when we fail to reject a false null hypothesis. In this case, there is a real effect, but we miss it.\n",
        "It’s like overlooking something important.\n",
        "\n",
        "Example: Continuing with the drug test scenario, if the drug actually works (alternative hypothesis is true), but our test fails to show statistical significance, that’s a Type II error1.\n",
        "Remember, minimizing both types of errors involves careful study design and choosing appropriate significance levels"
      ],
      "metadata": {
        "id": "n_A9jbCw9uP1"
      }
    },
    {
      "cell_type": "markdown",
      "source": [
        "Q4: Explain Bayes's theorem with an example."
      ],
      "metadata": {
        "id": "objdsBSG-LcH"
      }
    },
    {
      "cell_type": "markdown",
      "source": [
        "Bayes's theorem is a mathematical formula used for calculating conditional probabilities. It allows us to update our prior beliefs based on new evidence. The theorem is named after Thomas Bayes, an 18th-century statistician and clergyman.\n",
        "\n",
        "The formula for Bayes's theorem is:\n",
        "\n",
        "\\[ P(A|B) = \\frac{P(B|A) \\cdot P(A)}{P(B)} \\]\n",
        "\n",
        "Where:\n",
        "- \\( P(A|B) \\) is the probability of event \\( A \\) occurring given that \\( B \\) is true.\n",
        "- \\( P(B|A) \\) is the probability of event \\( B \\) occurring given that \\( A \\) is true.\n",
        "- \\( P(A) \\) is the probability of event \\( A \\) occurring.\n",
        "- \\( P(B) \\) is the probability of event \\( B \\) occurring.\n",
        "\n",
        "### Example: Medical Diagnosis\n",
        "\n",
        "Let's consider a scenario where a doctor wants to determine the probability that a patient has a certain disease (D) given that the patient has tested positive (T) for it.\n",
        "\n",
        "#### Given Data:\n",
        "- The probability of having the disease, \\( P(D) \\), is 0.01 (1% of the population has the disease).\n",
        "- The probability of testing positive if the patient has the disease, \\( P(T|D) \\), is 0.99 (the test is 99% accurate for those with the disease).\n",
        "- The probability of testing positive regardless of disease status, \\( P(T) \\), can be found using the law of total probability.\n",
        "\n",
        "To find \\( P(T) \\), we consider:\n",
        "\\[ P(T) = P(T|D) \\cdot P(D) + P(T|\\neg D) \\cdot P(\\neg D) \\]\n",
        "where \\( P(T|\\neg D) \\) is the probability of testing positive if the patient does not have the disease and \\( P(\\neg D) \\) is the probability of not having the disease.\n",
        "\n",
        "Assume the probability of testing positive if the patient does not have the disease, \\( P(T|\\neg D) \\), is 0.05 (5% false positive rate).\n",
        "\n",
        "#### Calculations:\n",
        "1. \\( P(\\neg D) = 1 - P(D) = 0.99 \\)\n",
        "2. \\( P(T) = (0.99 \\cdot 0.01) + (0.05 \\cdot 0.99) = 0.0099 + 0.0495 = 0.0594 \\)\n",
        "\n",
        "Now, applying Bayes's theorem:\n",
        "\\[ P(D|T) = \\frac{P(T|D) \\cdot P(D)}{P(T)} \\]\n",
        "\\[ P(D|T) = \\frac{0.99 \\cdot 0.01}{0.0594} \\]\n",
        "\\[ P(D|T) = \\frac{0.0099}{0.0594} \\approx 0.167 \\]\n",
        "\n",
        "So, the probability that the patient has the disease given a positive test result is approximately 16.7%.\n",
        "\n",
        "This example shows how Bayes's theorem helps in updating the probability of having a disease based on test results, taking into account both the accuracy of the test and the prior probability of having the disease."
      ],
      "metadata": {
        "id": "iT66O-zE-Oyn"
      }
    },
    {
      "cell_type": "markdown",
      "source": [
        "Q5: What is a confidence interval? How to calculate the confidence interval, explain with an example."
      ],
      "metadata": {
        "id": "R-QImbSM_Vuk"
      }
    },
    {
      "cell_type": "markdown",
      "source": [
        "A confidence interval is a range of values, derived from sample data, that is likely to contain the value of an unknown population parameter. The interval has an associated confidence level that quantifies the level of confidence that the parameter lies within the interval. For example, a 95% confidence level means that if we were to take 100 different samples and compute a confidence interval for each sample, then approximately 95 of the 100 confidence intervals will contain the population parameter.\n",
        "\n",
        "## How to Calculate a Confidence Interval\n",
        "\n",
        "To calculate a confidence interval for a population mean, you generally use the following steps:\n",
        "\n",
        "1. **Calculate the sample mean (\\(\\bar{x}\\))**: This is the average of your sample data.\n",
        "2. **Calculate the standard error of the mean (SEM)**: This is the standard deviation of your sample (\\(s\\)) divided by the square root of the sample size (\\(n\\)).\n",
        "   \\[\n",
        "   SEM = \\frac{s}{\\sqrt{n}}\n",
        "   \\]\n",
        "3. **Find the critical value**: This value depends on your desired confidence level and the sample size. For large samples, this is typically obtained from the standard normal distribution (Z-distribution) for a given confidence level (e.g., 1.96 for 95% confidence). For smaller samples, you might use the t-distribution.\n",
        "4. **Calculate the margin of error (MOE)**: This is the critical value multiplied by the standard error.\n",
        "   \\[\n",
        "   MOE = Z \\times SEM\n",
        "   \\]\n",
        "5. **Determine the confidence interval**: Add and subtract the margin of error from the sample mean.\n",
        "   \\[\n",
        "   \\text{CI} = \\left(\\bar{x} - MOE, \\bar{x} + MOE\\right)\n",
        "   \\]\n",
        "\n",
        "### Example\n",
        "\n",
        "Let's calculate a 95% confidence interval for the mean of a sample.\n",
        "\n",
        "- **Sample Data**: 5, 7, 8, 6, 9\n",
        "- **Sample Size (\\(n\\))**: 5\n",
        "- **Sample Mean (\\(\\bar{x}\\))**:\n",
        "  \\[\n",
        "  \\bar{x} = \\frac{5 + 7 + 8 + 6 + 9}{5} = 7\n",
        "  \\]\n",
        "- **Sample Standard Deviation (\\(s\\))**:\n",
        "  \\[\n",
        "  s = \\sqrt{\\frac{\\sum (x_i - \\bar{x})^2}{n-1}} = \\sqrt{\\frac{(5-7)^2 + (7-7)^2 + (8-7)^2 + (6-7)^2 + (9-7)^2}{4}} = \\sqrt{\\frac{4 + 0 + 1 + 1 + 4}{4}} = \\sqrt{2.5} \\approx 1.58\n",
        "  \\]\n",
        "- **Standard Error of the Mean (SEM)**:\n",
        "  \\[\n",
        "  SEM = \\frac{s}{\\sqrt{n}} = \\frac{1.58}{\\sqrt{5}} \\approx 0.71\n",
        "  \\]\n",
        "- **Critical Value for 95% Confidence (Z)**: 1.96 (from Z-distribution table)\n",
        "- **Margin of Error (MOE)**:\n",
        "  \\[\n",
        "  MOE = 1.96 \\times 0.71 \\approx 1.39\n",
        "  \\]\n",
        "- **Confidence Interval (CI)**:\n",
        "  \\[\n",
        "  \\text{CI} = \\left(7 - 1.39, 7 + 1.39\\right) = \\left(5.61, 8.39\\right)\n",
        "  \\]\n",
        "\n",
        "So, the 95% confidence interval for the population mean is (5.61, 8.39). This means we are 95% confident that the true population mean lies within this interval."
      ],
      "metadata": {
        "id": "30g0kZiT_aQu"
      }
    },
    {
      "cell_type": "markdown",
      "source": [
        "Q6. Use Bayes' Theorem to calculate the probability of an event occurring given prior knowledge of the\n",
        "event's probability and new evidence. Provide a sample problem and solution."
      ],
      "metadata": {
        "id": "xKBXgX_Z_-56"
      }
    },
    {
      "cell_type": "markdown",
      "source": [
        "Bayes' Theorem is used to update the probability of a hypothesis based on new evidence. The formula is:\n",
        "\n",
        "\\[\n",
        "P(A|B) = \\frac{P(B|A) \\cdot P(A)}{P(B)}\n",
        "\\]\n",
        "\n",
        "Where:\n",
        "- \\(P(A|B)\\) is the posterior probability: the probability of event \\(A\\) occurring given that \\(B\\) is true.\n",
        "- \\(P(B|A)\\) is the likelihood: the probability of event \\(B\\) occurring given that \\(A\\) is true.\n",
        "- \\(P(A)\\) is the prior probability: the initial probability of event \\(A\\).\n",
        "- \\(P(B)\\) is the marginal likelihood: the total probability of event \\(B\\) occurring.\n",
        "\n",
        "### Sample Problem\n",
        "\n",
        "Suppose a doctor knows that 1% of patients have a certain disease. There is a test for the disease which is 99% accurate (both sensitivity and specificity are 99%). If a patient tests positive, what is the probability that they actually have the disease?\n",
        "\n",
        "Let's define the events:\n",
        "- \\(D\\): The event that the patient has the disease.\n",
        "- \\(T\\): The event that the patient tests positive.\n",
        "\n",
        "We know:\n",
        "- \\(P(D) = 0.01\\)\n",
        "- \\(P(\\neg D) = 0.99\\)\n",
        "- \\(P(T|D) = 0.99\\) (sensitivity)\n",
        "- \\(P(T|\\neg D) = 0.01\\) (false positive rate)\n",
        "\n",
        "We want to find \\(P(D|T)\\).\n",
        "\n",
        "Using Bayes' Theorem:\n",
        "\\[\n",
        "P(D|T) = \\frac{P(T|D) \\cdot P(D)}{P(T)}\n",
        "\\]\n",
        "\n",
        "To find \\(P(T)\\), we use the law of total probability:\n",
        "\\[\n",
        "P(T) = P(T|D) \\cdot P(D) + P(T|\\neg D) \\cdot P(\\neg D)\n",
        "\\]\n",
        "\n",
        "Substitute the values:\n",
        "\\[\n",
        "P(T) = (0.99 \\cdot 0.01) + (0.01 \\cdot 0.99) = 0.0099 + 0.0099 = 0.0198\n",
        "\\]\n",
        "\n",
        "Now we can find \\(P(D|T)\\):\n",
        "\\[\n",
        "P(D|T) = \\frac{0.99 \\cdot 0.01}{0.0198} \\approx 0.5\n",
        "\\]\n",
        "\n",
        "So, the probability that the patient actually has the disease given a positive test result is approximately 50%.\n",
        "\n"
      ],
      "metadata": {
        "id": "ASa5XKYsATml"
      }
    },
    {
      "cell_type": "code",
      "source": [
        "#Probability of having the disease\n",
        "P_D = 0.01\n",
        "#Probability of not having the disease\n",
        "P_not_D = 0.99\n",
        "\n",
        "#Probability of testing positive given having the disease(sensitivity)\n",
        "P_T_given_D = 0.99\n",
        "\n",
        "#Probability of testing positive given not having the disease(false positive rate)\n",
        "P_T_given_not_D = 0.01\n",
        "\n",
        "#Total probability of testing positive(marginal likelihood)\n",
        "P_T = (P_T_given_D *P_D)+(P_T_given_not_D*P_not_D)\n",
        "\n",
        "#Bayes' Theorem:P(D|T)\n",
        "P_D_given_T = (P_T_given_D*P_D)/P_T\n",
        "\n",
        "P_D_given_T"
      ],
      "metadata": {
        "colab": {
          "base_uri": "https://localhost:8080/"
        },
        "id": "aIxsJJI3A33j",
        "outputId": "405debe5-26f3-4065-b001-48b8a25fb35d"
      },
      "execution_count": null,
      "outputs": [
        {
          "output_type": "execute_result",
          "data": {
            "text/plain": [
              "0.5"
            ]
          },
          "metadata": {},
          "execution_count": 1
        }
      ]
    },
    {
      "cell_type": "markdown",
      "source": [
        "Q7. Calculate the 95% confidence interval for a sample of data with a mean of 50 and a standard deviation\n",
        "of 5. Interpret the results."
      ],
      "metadata": {
        "id": "vjVjIvfdDi66"
      }
    },
    {
      "cell_type": "markdown",
      "source": [
        "To calculate the 95% confidence interval for a sample of data with a given mean and standard deviation in Python, we can use the formula for the confidence interval for the mean when the population standard deviation is unknown:\n",
        "\n",
        "𝐶\n",
        "𝐼\n",
        "=\n",
        "𝑥\n",
        "ˉ\n",
        "±\n",
        "𝑡\n",
        "(\n",
        "𝑠\n",
        "𝑛\n",
        ")\n",
        "CI=\n",
        "x\n",
        "ˉ\n",
        " ±t(\n",
        "n\n",
        "​\n",
        "\n",
        "s\n",
        "​\n",
        " )\n",
        "\n",
        "where:\n",
        "\n",
        "𝑥\n",
        "ˉ\n",
        "x\n",
        "ˉ\n",
        "  is the sample mean.\n",
        "𝑠\n",
        "s is the sample standard deviation.\n",
        "𝑛\n",
        "n is the sample size.\n",
        "𝑡\n",
        "t is the t-score from the t-distribution for the desired confidence level and degrees of freedom (\n",
        "𝑛\n",
        "−\n",
        "1\n",
        "n−1).\n",
        "Let's assume a sample size\n",
        "𝑛\n",
        "n for calculation. If you have a specific sample size, please provide it. Otherwise, I will assume a sample size of 30 for the calculation.\n",
        "\n",
        "Here's the Python code to calculate the 95% confidence interval:"
      ],
      "metadata": {
        "id": "QT7PNpVfESP6"
      }
    },
    {
      "cell_type": "code",
      "source": [
        "import scipy.stats as stats\n",
        "import numpy as np\n",
        "\n",
        "#Given values\n",
        "mean = 50\n",
        "std_dev =5\n",
        "sample_size = 30 #Assuming a sample size of 30\n",
        "\n",
        "#Calculate the standard error\n",
        "standard_error = std_dev/np.sqrt(sample_size)\n",
        "\n",
        "#Calculate the t-score for 95% confidence level and 29 degrees of freedom(n-1)\n",
        "t_score = stats.t.ppf(0.975,df=sample_size-1)\n",
        "\n",
        "#Calculate the margin of error\n",
        "margin_of_error = t_score *standard_error\n",
        "\n",
        "#Calculate the confidence interval\n",
        "confidence_interval = (mean - margin_of_error,mean + margin_of_error)\n",
        "\n",
        "confidence_interval\n",
        "\n"
      ],
      "metadata": {
        "colab": {
          "base_uri": "https://localhost:8080/"
        },
        "id": "YLphRA-UAqDd",
        "outputId": "3d6ad20f-bd98-4ff2-ce08-276d19e6b38f"
      },
      "execution_count": null,
      "outputs": [
        {
          "output_type": "execute_result",
          "data": {
            "text/plain": [
              "(48.1329693162095, 51.8670306837905)"
            ]
          },
          "metadata": {},
          "execution_count": 2
        }
      ]
    },
    {
      "cell_type": "code",
      "source": [],
      "metadata": {
        "id": "Y2akH96vGcFw"
      },
      "execution_count": null,
      "outputs": []
    },
    {
      "cell_type": "markdown",
      "source": [
        "Q8. What is the margin of error in a confidence interval? How does sample size affect the margin of error?\n",
        "Provide an example of a scenario where a larger sample size would result in a smaller margin of error."
      ],
      "metadata": {
        "id": "ayfIX9C3Gj8Q"
      }
    },
    {
      "cell_type": "markdown",
      "source": [
        "Margin of Error in a Confidence Interval\n",
        "The margin of error (MOE) in a confidence interval is the range of values below and above the sample statistic in a confidence interval. It quantifies the uncertainty or variability in the estimate of a population parameter based on a sample.\n",
        "\n",
        "\n",
        "\n",
        "Effect of Sample Size on Margin of Error:-\n",
        "\n",
        "The sample size\n",
        "𝑛\n",
        "n has an inverse relationship with the margin of error. As the sample size increases, the margin of error decreases. This is because the term\n",
        "𝑛\n",
        "n\n",
        "​\n",
        "  appears in the denominator of the margin of error formula. A larger sample size reduces the variability of the sample mean, leading to a more precise estimate of the population parameter.\n",
        "\n",
        "\n",
        "Example with Python\n",
        "Let's consider an example where we estimate the mean height of a population. We'll calculate the margin of error for different sample sizes and demonstrate how a larger sample size results in a smaller margin of error."
      ],
      "metadata": {
        "id": "6Kn_-Nc8Ggfo"
      }
    },
    {
      "cell_type": "code",
      "source": [
        "import scipy.stats as stats\n",
        "import numpy as np\n",
        "import matplotlib.pyplot as plt\n",
        "\n",
        "# Step 1: Define Parameters\n",
        "mu = 70  # Population mean height (inches)\n",
        "sigma = 3  # Population standard deviation (inches)\n",
        "confidence_level = 0.95\n",
        "\n",
        "# Z-score for the given confidence level\n",
        "z_score = stats.norm.ppf((1 + confidence_level) / 2)\n",
        "\n",
        "# Sample sizes to compare\n",
        "sample_sizes = np.array([30, 50, 100, 200, 500, 1000])\n",
        "\n",
        "# Step 2: Calculate Margin of Error\n",
        "margins_of_error = z_score * (sigma / np.sqrt(sample_sizes))\n",
        "\n",
        "# Step 3: Print/Plot Results\n",
        "for n, moe in zip(sample_sizes, margins_of_error):\n",
        "    print(f\"Sample Size: {n}, Margin of Error: {moe:.2f} inches\")\n",
        "\n",
        "# Plotting the margin of error vs sample size\n",
        "plt.figure(figsize=(10, 6))\n",
        "plt.plot(sample_sizes, margins_of_error, marker='o')\n",
        "plt.xlabel('Sample Size')\n",
        "plt.ylabel('Margin of Error (inches)')\n",
        "plt.title('Margin of Error vs Sample Size')\n",
        "plt.grid(True)\n",
        "plt.show()\n"
      ],
      "metadata": {
        "colab": {
          "base_uri": "https://localhost:8080/",
          "height": 668
        },
        "id": "N8OhcqqS8pBy",
        "outputId": "9ea7a77c-a22f-4a1a-fb2e-b0a6f55d98ee"
      },
      "execution_count": 3,
      "outputs": [
        {
          "output_type": "stream",
          "name": "stdout",
          "text": [
            "Sample Size: 30, Margin of Error: 1.07 inches\n",
            "Sample Size: 50, Margin of Error: 0.83 inches\n",
            "Sample Size: 100, Margin of Error: 0.59 inches\n",
            "Sample Size: 200, Margin of Error: 0.42 inches\n",
            "Sample Size: 500, Margin of Error: 0.26 inches\n",
            "Sample Size: 1000, Margin of Error: 0.19 inches\n"
          ]
        },
        {
          "output_type": "display_data",
          "data": {
            "text/plain": [
              "<Figure size 1000x600 with 1 Axes>"
            ],
            "image/png": "[encoded data removed]"
          },
          "metadata": {}
        }
      ]
    },
    {
      "cell_type": "markdown",
      "source": [
        "Q9. Calculate the z-score for a data point with a value of 75, a population mean of 70, and a population\n",
        "standard deviation of 5. Interpret the results."
      ],
      "metadata": {
        "id": "bdZAXzD58npC"
      }
    },
    {
      "cell_type": "markdown",
      "source": [
        "### Calculating the Z-Score\n",
        "\n",
        "The z-score is a measure that describes a data point's position relative to the mean of a group of values. It indicates how many standard deviations a data point is from the mean. The formula to calculate the z-score is:\n",
        "\n",
        "\\[ z = \\frac{X - \\mu}{\\sigma} \\]\n",
        "\n",
        "where:\n",
        "- \\( X \\) is the value of the data point\n",
        "- \\( \\mu \\) is the population mean\n",
        "- \\( \\sigma \\) is the population standard deviation\n",
        "\n",
        "Given:\n",
        "- \\( X = 75 \\)\n",
        "- \\( \\mu = 70 \\)\n",
        "- \\( \\sigma = 5 \\)\n",
        "\n",
        "We can plug these values into the formula:\n",
        "\n",
        "\\[ z = \\frac{75 - 70}{5} \\]\n",
        "\n",
        "\\[ z = \\frac{5}{5} \\]\n",
        "\n",
        "\\[ z = 1 \\]\n",
        "\n",
        "### Interpretation of the Results\n",
        "\n",
        "A z-score of 1 means that the data point (75) is 1 standard deviation above the mean (70). In a normal distribution:\n",
        "- Approximately 68% of the data lies within ±1 standard deviation of the mean.\n",
        "- A z-score of 1 places the data point within this range, indicating it is not an extreme value but rather within the typical range of values expected in this population.\n",
        "\n",
        "\n",
        "\n",
        "\n"
      ],
      "metadata": {
        "id": "gBJxIRO2Az6M"
      }
    },
    {
      "cell_type": "code",
      "source": [
        "#Given value\n",
        "X =75 #Data point value\n",
        "mu = 70 #population mean\n",
        "sigma = 5 #Poplation standard deviation\n",
        "\n",
        "#Calculating the z-score\n",
        "z_score = (X-mu)/sigma\n",
        "\n",
        "#Print the result\n",
        "print(f\"The z-score for a data point value of {X} is {z_score:.2f}.\")"
      ],
      "metadata": {
        "colab": {
          "base_uri": "https://localhost:8080/"
        },
        "id": "KlZZtD4MBV4k",
        "outputId": "ff71cf26-33dc-4567-fa0a-10ed2bec35c1"
      },
      "execution_count": 4,
      "outputs": [
        {
          "output_type": "stream",
          "name": "stdout",
          "text": [
            "The z-score for a data point value of 75 is 1.00.\n"
          ]
        }
      ]
    },
    {
      "cell_type": "markdown",
      "source": [
        "Q10. In a study of the effectiveness of a new weight loss drug, a sample of 50 participants lost an average\n",
        "of 6 pounds with a standard deviation of 2.5 pounds. Conduct a hypothesis test to determine if the drug is\n",
        "significantly effective at a 95% confidence level using a t-test."
      ],
      "metadata": {
        "id": "fRdaU8UiDrRt"
      }
    },
    {
      "cell_type": "markdown",
      "source": [
        "Hypothesis Test Using a t-Test\n",
        "To determine if the weight loss drug is significantly effective, we will perform a one-sample t-test. The hypotheses are:\n",
        "\n",
        "Null Hypothesis (\n",
        "𝐻\n",
        "0\n",
        "H\n",
        "0\n",
        "​\n",
        " ): The average weight loss is zero (\n",
        "𝜇\n",
        "=\n",
        "0\n",
        "μ=0).\n",
        "Alternative Hypothesis (\n",
        "𝐻\n",
        "𝑎\n",
        "H\n",
        "a\n",
        "​\n",
        " ): The average weight loss is greater than zero (\n",
        "𝜇\n",
        ">\n",
        "0\n",
        "μ>0).\n",
        "We'll conduct the t-test at a 95% confidence level, which corresponds to a significance level (\n",
        "𝛼\n",
        "α) of 0.05.\n",
        "\n"
      ],
      "metadata": {
        "id": "2nVmA2e6Exrz"
      }
    },
    {
      "cell_type": "code",
      "source": [
        "import scipy.stats as stats\n",
        "#Step1:Define Parameters\n",
        "sample_mean = 6.0 #Sample mean weight loss\n",
        "population_mean = 0.0 #Population mean under null hypothesis (no weight loss)\n",
        "std_dev = 2.5 #Standard deviation of sample\n",
        "sample_size = 50 #Number of participants\n",
        "alpha = 0.05 #Significance level\n",
        "\n",
        "#Step 2 : Calculate the t-statistic\n",
        "t_statistic = (sample_mean - population_std_dev)/(std_dev/(sample_size**0.5))\n",
        "\n",
        "#Step 3 : Determine the Critical t-value\n",
        "degrees_of_freedom = sample_size-1\n",
        "critical_t_value = stats.t.ppf(1-alpha,degrees_of_freedom)\n",
        "\n",
        "#Step 4 : Compare t-statistic to Critical t-value and Make Conclusion\n",
        "if t_statistic > critical_t_value:\n",
        "  conclusion = \"Reject the null hypothesis . The drug is significantly effective.\"\n",
        "else:\n",
        "  conclusion = \"Fail to reject the null hypothesis .There is not evedence to conclude the drug is effective.\"\n",
        "\n",
        "#Step5: Print the Results\n",
        "print(f\"t-statistic :{t_statistic:.2f}\")\n",
        "print(f\"Critical t-value :{critical_t_value:.2f}\")\n",
        "print(conclusion)"
      ],
      "metadata": {
        "colab": {
          "base_uri": "https://localhost:8080/"
        },
        "id": "wRrsNLGnDdTY",
        "outputId": "347da3be-b1cf-4f75-c215-226a561c9d16"
      },
      "execution_count": 6,
      "outputs": [
        {
          "output_type": "stream",
          "name": "stdout",
          "text": [
            "t-statistic :-11.31\n",
            "Critical t-value :1.68\n",
            "Fail to reject the null hypothesis .There is not evedence to conclude the drug is effective.\n"
          ]
        }
      ]
    },
    {
      "cell_type": "markdown",
      "source": [
        "Q11. In a survey of 500 people, 65% reported being satisfied with their current job. Calculate the 95%\n",
        "confidence interval for the true proportion of people who are satisfied with their job."
      ],
      "metadata": {
        "id": "91vqE12DZ0Nd"
      }
    },
    {
      "cell_type": "code",
      "source": [
        "import numpy as np\n",
        "import scipy.stats as st\n",
        "sample_proportion = 0.65\n",
        "sample_size = 500\n",
        "\n",
        "#Calculate the standard error\n",
        "standard_error = np.sqrt(sample_proportion*(1-sample_proportion)/sample_size)\n",
        "\n",
        "#Determine the critical t-value for a 95% confidence interval(with 499 degrees of freedom):\n",
        "confidence_level = 0.95\n",
        "t_value = st.t.ppf((1+confidence_level)/2,df = sample_size-1)\n",
        "\n",
        "#Calculate the margin of error\n",
        "margin_of_error = t_value *standard_error\n",
        "\n",
        "#Compute the confidence interval:\n",
        "lower_bound = sample_proportion - margin_of_error\n",
        "upper_bound = sample_proportion + margin_of_error\n",
        "\n",
        "(lower_bound , upper_bound)"
      ],
      "metadata": {
        "colab": {
          "base_uri": "https://localhost:8080/"
        },
        "id": "aotHFSuhaLyQ",
        "outputId": "30beb4e1-f01a-49e4-ff53-05a6b73c82b0"
      },
      "execution_count": 10,
      "outputs": [
        {
          "output_type": "execute_result",
          "data": {
            "text/plain": [
              "(0.6080908897873757, 0.6919091102126244)"
            ]
          },
          "metadata": {},
          "execution_count": 10
        }
      ]
    },
    {
      "cell_type": "markdown",
      "source": [
        "Q12. A researcher is testing the effectiveness of two different teaching methods on student performance.\n",
        "Sample A has a mean score of 85 with a standard deviation of 6, while sample B has a mean score of 82\n",
        "with a standard deviation of 5. Conduct a hypothesis test to determine if the two teaching methods have a\n",
        "significant difference in student performance using a t-test with a significance level of 0.01."
      ],
      "metadata": {
        "id": "Lt03S-I4c1_1"
      }
    },
    {
      "cell_type": "code",
      "source": [
        "import scipy.stats as st\n",
        "#sample A\n",
        "mean_A = 85\n",
        "std_A = 6\n",
        "n_A = 30 #Assuming sample size\n",
        "\n",
        "#Sample B\n",
        "mean_B = 82\n",
        "std_B = 5\n",
        "n_B = 30 #Assuming sample size\n",
        "\n",
        "#Calculate the test statistic\n",
        "t_statistic,p_value = st.ttest_ind_from_stats(mean_A,std_A,n_A,mean_B,std_B,n_B)\n",
        "\n",
        "#Set significance level\n",
        "alpha = 0.01\n",
        "\n",
        "print(p_value)\n",
        "\n",
        "#Make a decision\n",
        "if p_value < alpha :\n",
        "  print(\"Reject the null hypothesis.There is a significant difference in student performance\")\n",
        "\n",
        "else:\n",
        "  print(\"Fail to the reject the null hypothesis .No significant difference detected .\")"
      ],
      "metadata": {
        "colab": {
          "base_uri": "https://localhost:8080/"
        },
        "id": "zDe0Q10qdILj",
        "outputId": "b3a89f70-b4e6-4291-dd53-bacc9b4fd678"
      },
      "execution_count": 12,
      "outputs": [
        {
          "output_type": "stream",
          "name": "stdout",
          "text": [
            "0.03973697161571063\n",
            "Fail to the reject the null hypothesis .No significant difference detected .\n"
          ]
        }
      ]
    },
    {
      "cell_type": "markdown",
      "source": [],
      "metadata": {
        "id": "K5SirvmDgz8h"
      }
    },
    {
      "cell_type": "markdown",
      "source": [
        "Q13. A population has a mean of 60 and a standard deviation of 8. A sample of 50 observations has a mean\n",
        "of 65. Calculate the 90% confidence interval for the true population mean."
      ],
      "metadata": {
        "id": "fIbMhkCjgz9l"
      }
    },
    {
      "cell_type": "markdown",
      "source": [
        "Given:\n",
        "\n",
        "Population mean (\n",
        "𝜇\n",
        "μ) = 60 (not directly used in the confidence interval calculation)\n",
        "Population standard deviation (\n",
        "𝜎\n",
        "σ) = 8\n",
        "Sample size (\n",
        "𝑛\n",
        "n) = 50\n",
        "Sample mean (\n",
        "𝑥\n",
        "ˉ\n",
        "x\n",
        "ˉ\n",
        " ) = 65\n",
        "Let's calculate the 90% confidence interval using Python."
      ],
      "metadata": {
        "id": "aGd3Lw3mhmNh"
      }
    },
    {
      "cell_type": "code",
      "source": [
        "import scipy.stats as stats\n",
        "import math\n",
        "#Given values\n",
        "population_mean = 60\n",
        "population_std_dev = 8\n",
        "sample_size = 50\n",
        "sample_mean = 65\n",
        "confidence_level = 0.90\n",
        "\n",
        "#Z-score for 90% confidence level\n",
        "z_score = stats.norm.ppf((1+confidence_level)/2)\n",
        "\n",
        "#standard error\n",
        "standard_error = population_std_dev/math.sqrt(sample_size)\n",
        "\n",
        "#Margin of error\n",
        "margin_of_error = z_score*standard_error\n",
        "\n",
        "#Confidence interval\n",
        "confidence_interval = (sample_mean-margin_of_error,sample_mean + margin_of_error)\n",
        "confidence_interval\n",
        ""
      ],
      "metadata": {
        "colab": {
          "base_uri": "https://localhost:8080/"
        },
        "id": "tF2jQb9ldIMg",
        "outputId": "7fdde291-b120-4b5b-b737-53c59d6d0795"
      },
      "execution_count": 13,
      "outputs": [
        {
          "output_type": "execute_result",
          "data": {
            "text/plain": [
              "(63.13906055411732, 66.86093944588268)"
            ]
          },
          "metadata": {},
          "execution_count": 13
        }
      ]
    },
    {
      "cell_type": "markdown",
      "source": [],
      "metadata": {
        "id": "ahbTcLG6jw6K"
      }
    },
    {
      "cell_type": "markdown",
      "source": [
        "Q14. In a study of the effects of caffeine on reaction time, a sample of 30 participants had an average\n",
        "reaction time of 0.25 seconds with a standard deviation of 0.05 seconds. Conduct a hypothesis test to\n",
        "determine if the caffeine has a significant effect on reaction time at a 90% confidence level using a t-test."
      ],
      "metadata": {
        "id": "fAnjcvrEjw7b"
      }
    },
    {
      "cell_type": "code",
      "source": [
        "import numpy as np\n",
        "import scipy.stats as st\n",
        "\n",
        "#Given data\n",
        "sample_mean = 0.25\n",
        "sample_std = 0.05\n",
        "sample_size = 30\n",
        "hypothesized_mean = 0.25\n",
        "\n",
        "#Calculate t-statistic\n",
        "t_statistic = (sample_mean - hypothesized_mean )/(sample_std/np.sqrt(sample_size))\n",
        "\n",
        "#Calculate critical t-value\n",
        "t_critical = st.t.ppf(0.95,df=29)\n",
        "\n",
        "#Calculate p-value\n",
        "p_value = st.t.sf(np.abs(t_statistic),df = 29)*2 #Two-tailed test\n",
        "\n",
        "#Compare t-statistic with critical t-value\n",
        "if np.abs(t_statistic)>t_critical:\n",
        "  print(\"Reject the null hypothesis :Caffeine has a significant effect on reaction time \")\n",
        "\n",
        "else:\n",
        "  print(\"Fail to reject the null hypothesis : No significant effect of caffiene on reation time.\")\n",
        "\n",
        "print(f\"t-statistic :{t_statistic:.4f}\")\n",
        "print(f\"p-value : {p_value:.4f}\")"
      ],
      "metadata": {
        "colab": {
          "base_uri": "https://localhost:8080/"
        },
        "id": "I-qF01CgV86D",
        "outputId": "514d779c-2bf5-4b2a-da87-868ae380aeb9"
      },
      "execution_count": 14,
      "outputs": [
        {
          "output_type": "stream",
          "name": "stdout",
          "text": [
            "Fail to reject the null hypothesis : No significant effect of caffiene on reation time.\n",
            "t-statistic :0.0000\n",
            "p-value : 1.0000\n"
          ]
        }
      ]
    },
    {
      "cell_type": "code",
      "source": [],
      "metadata": {
        "id": "UgaiR4sanRiC"
      },
      "execution_count": null,
      "outputs": []
    }
  ]
}