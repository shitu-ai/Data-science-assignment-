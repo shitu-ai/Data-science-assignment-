{
 "cells": [
  {
   "cell_type": "code",
   "execution_count": null,
   "id": "04752395-0e95-4349-8be7-893c661b9f90",
   "metadata": {},
   "outputs": [],
   "source": [
    "Q1. What is multiprocessing in python? Why is it useful?"
   ]
  },
  {
   "cell_type": "code",
   "execution_count": null,
   "id": "eafe3dda-8b10-44dd-85d8-25151ac4981e",
   "metadata": {},
   "outputs": [],
   "source": [
    "Multiprocessing in Python refers to the capability of a program to create and manage multiple processes simultaneously. Each process runs independently and can execute its own code concurrently with other processes. The multiprocessing module in Python provides support for creating and managing multiple processes, allowing for parallel execution of tasks.\n",
    "\n",
    "Multiprocessing is useful for several reasons:\n",
    "\n",
    "1. **Improved Performance**: By leveraging multiple CPU cores or processors, multiprocessing enables parallel execution of tasks, leading to improved performance and faster execution times, especially for CPU-bound tasks.\n",
    "\n",
    "2. **Concurrency**: Multiprocessing allows multiple tasks to run concurrently, enabling programs to perform multiple operations simultaneously without blocking or waiting for one another.\n",
    "\n",
    "3. **Resource Isolation**: Each process has its own memory space, stack, and resources, providing better isolation and avoiding interference between processes. This makes multiprocessing suitable for running independent and potentially resource-intensive tasks concurrently.\n",
    "\n",
    "4. **Fault Isolation**: In multiprocessing, each process runs in its own address space. If one process encounters an error or crashes, it typically does not affect other processes, providing better fault isolation and reliability compared to multithreading.\n",
    "\n",
    "5. **Scalability**: Multiprocessing allows programs to scale across multiple CPU cores or processors, making it suitable for parallelizing computationally intensive tasks or processing large datasets efficiently.\n",
    "\n",
    "Overall, multiprocessing in Python offers a powerful mechanism for parallel and concurrent programming, enabling programs to take advantage of modern hardware architectures with multiple CPU cores and processors. It is particularly beneficial for CPU-bound tasks and applications that require high-performance computing capabilities."
   ]
  },
  {
   "cell_type": "code",
   "execution_count": null,
   "id": "6e42e826-cff2-4dda-9e79-5005660ee770",
   "metadata": {},
   "outputs": [],
   "source": [
    "Q2. What are the differences between multiprocessing and multithreading?"
   ]
  },
  {
   "cell_type": "code",
   "execution_count": null,
   "id": "d0d1e777-e8ee-410d-9399-f0f817bdad4e",
   "metadata": {},
   "outputs": [],
   "source": [
    "Multiprocessing and multithreading are both techniques used to achieve concurrency and parallelism in Python, but they differ in several key aspects:\n",
    "\n",
    "1. **Execution Model**:\n",
    "   - **Multiprocessing**: In multiprocessing, multiple processes run independently and have their own memory space. Each process has its own global interpreter lock (GIL) and runs in a separate memory space, enabling true parallelism on multi-core CPUs.\n",
    "   - **Multithreading**: In multithreading, multiple threads share the same memory space within a single process. Threads share the same global interpreter lock (GIL), meaning that only one thread can execute Python bytecode at a time, limiting parallelism on multi-core CPUs.\n",
    "\n",
    "2. **Resource Overhead**:\n",
    "   - **Multiprocessing**: Creating and managing processes typically incurs more overhead in terms of memory and system resources compared to threads. Each process has its own memory space, stack, and system resources.\n",
    "   - **Multithreading**: Threads within the same process share memory space and resources, resulting in lower overhead compared to processes. However, care must be taken to synchronize access to shared resources to avoid race conditions and ensure thread safety.\n",
    "\n",
    "3. **Isolation**:\n",
    "   - **Multiprocessing**: Each process runs in its own memory space, providing better isolation and fault tolerance. If one process crashes, it typically does not affect other processes.\n",
    "   - **Multithreading**: Threads share the same memory space within a process, making them more prone to interference and potential data corruption if proper synchronization mechanisms are not used.\n",
    "\n",
    "4. **Communication and Synchronization**:\n",
    "   - **Multiprocessing**: Communication between processes is typically achieved using inter-process communication (IPC) mechanisms such as pipes, queues, shared memory, or sockets. Processes do not share memory directly and require explicit communication mechanisms.\n",
    "   - **Multithreading**: Threads within the same process can communicate and share data more easily through shared variables and objects. However, care must be taken to synchronize access to shared resources to avoid race conditions and ensure thread safety.\n",
    "\n",
    "5. **Scalability**:\n",
    "   - **Multiprocessing**: Multiprocessing is well-suited for scaling across multiple CPU cores or processors, enabling true parallelism and efficient utilization of hardware resources.\n",
    "   - **Multithreading**: Multithreading is limited by the global interpreter lock (GIL) in Python, which prevents multiple threads from executing Python bytecode concurrently. As a result, multithreading may not fully utilize multiple CPU cores and may not scale as effectively for CPU-bound tasks.\n",
    "\n",
    "In summary, multiprocessing and multithreading offer different concurrency models with their own advantages and limitations. Multiprocessing provides better isolation, fault tolerance, and scalability for CPU-bound tasks, while multithreading offers lower overhead and easier communication for I/O-bound tasks within a single process. The choice between multiprocessing and multithreading depends on the specific requirements and characteristics of the application."
   ]
  },
  {
   "cell_type": "code",
   "execution_count": null,
   "id": "17c0b8ad-231b-4458-9df0-3ec33b568e1a",
   "metadata": {},
   "outputs": [],
   "source": [
    "Q3. Write a python code to create a process using the multiprocessing module."
   ]
  },
  {
   "cell_type": "code",
   "execution_count": 1,
   "id": "fa96725f-123e-4dc3-b0b6-31bf9ce53f48",
   "metadata": {},
   "outputs": [
    {
     "name": "stdout",
     "output_type": "stream",
     "text": [
      "Child process PID:4259\n",
      "Worker process executing.\n",
      "Main process PID : 3809\n",
      "Main process completed.\n"
     ]
    }
   ],
   "source": [
    "import multiprocessing\n",
    "import os\n",
    "\n",
    "def worker_func():\n",
    "    \"\"\"Function to be executed by the child process\"\"\"\n",
    "    print(f\"Child process PID:{os.getpid()}\")\n",
    "    print(f\"Worker process executing.\")\n",
    "    \n",
    "    \n",
    "if __name__ ==\"__main__\":\n",
    "    #Create a multiprocessing Process object\n",
    "    process = multiprocessing.Process(target = worker_func)\n",
    "    \n",
    "    process.start()\n",
    "    process.join()\n",
    "    \n",
    "    print(f\"Main process PID : {os.getpid()}\")\n",
    "    print(f\"Main process completed.\")\n",
    "    "
   ]
  },
  {
   "cell_type": "code",
   "execution_count": null,
   "id": "96db526e-9497-4911-be99-afcc20e0c4c1",
   "metadata": {},
   "outputs": [],
   "source": [
    "In this code:\n",
    "\n",
    "We define a function worker_func() that will be executed by the child process.\n",
    "Within the __main__ block, we create a multiprocessing.Process object, specifying the target function (worker_func) that the process will execute.\n",
    "We start the process using the start() method.\n",
    "We use the join() method to wait for the process to finish before proceeding with the main process.\n",
    "Finally, we print the process ID (PID) of both the main process and the child process (worker_func), demonstrating that they run as separate processes.\n",
    "When you run this code, it will create a child process that executes the worker_func, while the main process waits for the child process to complete. After the child process finishes its execution, the main process completes as well."
   ]
  },
  {
   "cell_type": "code",
   "execution_count": null,
   "id": "0f196b2b-9a3e-4449-82e0-d89ff4365d5d",
   "metadata": {},
   "outputs": [],
   "source": [
    "Q4. What is a multiprocessing pool in python? Why is it used?"
   ]
  },
  {
   "cell_type": "code",
   "execution_count": null,
   "id": "dc658576-fe16-41e0-ad46-1f0d857d5e33",
   "metadata": {},
   "outputs": [],
   "source": [
    "In Python, the multiprocessing pool provides a convenient way to manage parallelism and execute tasks concurrently using multiple processes. Let’s explore it further:\n",
    "\n",
    "What is a Multiprocessing Pool?:\n",
    "The multiprocessing pool is part of the multiprocessing module in Python.\n",
    "It allows you to create a pool of worker processes that can execute tasks in parallel.\n",
    "The pool manages these worker processes, distributing tasks efficiently across them.\n",
    "You can submit tasks to the pool, and it handles the process creation, execution, and resource management.\n",
    "Why Use Multiprocessing Pools?:\n",
    "Parallelization: Pools are ideal for parallelizing CPU-bound tasks. If you have computationally intensive operations (e.g., mathematical calculations, data processing), using a pool can significantly speed up execution.\n",
    "Efficient Resource Utilization: Pools reuse existing processes, avoiding the overhead of creating new processes for each task.\n",
    "Asynchronous Execution: You can submit tasks asynchronously, allowing the main program to continue without waiting for individual tasks to complete.\n",
    "Load Balancing: The pool automatically distributes tasks across available processes, balancing the workload.\n",
    "Example Usage:\n",
    "Let’s say we want to calculate the squares of a list of numbers concurrently using a multiprocessing pool:"
   ]
  },
  {
   "cell_type": "code",
   "execution_count": 4,
   "id": "9b40e618-18e6-4c4b-b387-875dd9792f27",
   "metadata": {},
   "outputs": [
    {
     "name": "stdout",
     "output_type": "stream",
     "text": [
      "Squared results: [1, 4, 9, 16, 25]\n"
     ]
    }
   ],
   "source": [
    "from multiprocessing import Pool\n",
    "\n",
    "def calculate_squares(num):\n",
    "    return num * num\n",
    "if __name__ == '__main__':\n",
    "    numbers = [1,2,3,4,5]\n",
    "    \n",
    "    with Pool(processes=3) as pool:\n",
    "        result = pool.map(calculate_squares, numbers)\n",
    "        \n",
    "    print(\"Squared results:\", result)"
   ]
  },
  {
   "cell_type": "code",
   "execution_count": null,
   "id": "a0c7c243-eb00-4103-9bd7-4523c47f6316",
   "metadata": {},
   "outputs": [],
   "source": [
    "Q5. How can we create a pool of worker processes in python using the multiprocessing module?"
   ]
  },
  {
   "cell_type": "code",
   "execution_count": null,
   "id": "8f129cf8-3a64-496f-b22e-4f909bfe5153",
   "metadata": {},
   "outputs": [],
   "source": [
    "To create a pool of worker processes in Python using the multiprocessing module, you can use the Pool class.\n",
    "The Pool allows you to manage a group of worker processes that can execute tasks concurrently. \n",
    "Here’s how you can create and use a multiprocessing pool:\n",
    "    Import the multiprocessing module: First, make sure you import the multiprocessing module:\n",
    "        from multiprocessing import Pool\n",
    "Define a function to be executed by the worker processes: Create a function that represents the task you want to parallelize. This function will be executed by each worker process.\n",
    "Create a Pool object: Initialize a Pool object with the desired number of worker processes. You can specify the number of processes using the processes parameter.\n",
    "Submit tasks to the pool: Use the map, imap, or other methods provided by the Pool class to submit tasks to the pool. These methods distribute the tasks among the worker processes.\n",
    "Wait for tasks to complete: After submitting tasks, you can use the join method to wait for all worker processes to finish executing their tasks.\n",
    "        \n",
    "    "
   ]
  },
  {
   "cell_type": "code",
   "execution_count": 7,
   "id": "cc6f4202-136b-4ed4-9226-201bb1998654",
   "metadata": {},
   "outputs": [
    {
     "name": "stdout",
     "output_type": "stream",
     "text": [
      "Factorials: [6, 24, 120, 720, 5040]\n"
     ]
    }
   ],
   "source": [
    "from multiprocessing import Pool\n",
    "\n",
    "def calculate_factorial(num):\n",
    "    if num == 0:\n",
    "        return 1\n",
    "    factorial = 1\n",
    "    for i in range(1,num+1):\n",
    "        factorial *=i\n",
    "    return factorial\n",
    "\n",
    "if __name__ == '__main__':\n",
    "    #Create a pool with 4 worker process\n",
    "    with Pool(processes= 4) as pool:\n",
    "        numbers = [ 3,4,5,6,7]\n",
    "        results = pool.map(calculate_factorial,numbers)\n",
    "        \n",
    "    print(\"Factorials:\", results)"
   ]
  },
  {
   "cell_type": "code",
   "execution_count": null,
   "id": "35566e92-3e7b-4c7a-852e-dc7e46aa98fb",
   "metadata": {},
   "outputs": [],
   "source": [
    "Q6. Write a python program to create 4 processes, each process should print a different number using the\n",
    "multiprocessing module in python."
   ]
  },
  {
   "cell_type": "code",
   "execution_count": null,
   "id": "060464a5-5b19-4bbb-b9a7-be83b8345580",
   "metadata": {},
   "outputs": [],
   "source": [
    "Creating multiple processes in Python using the multiprocessing module is a great way to take advantage of multi-core CPUs.\n",
    "Let’s write a simple example where each process prints a different number. \n",
    "I’ll provide two different approaches for achieving this."
   ]
  },
  {
   "cell_type": "code",
   "execution_count": null,
   "id": "c26faf62-3a9b-4fcc-be6c-c3027a7a3c1d",
   "metadata": {},
   "outputs": [],
   "source": [
    "Approach 1: Using the Process class"
   ]
  },
  {
   "cell_type": "code",
   "execution_count": 10,
   "id": "33f5b922-5914-44ca-848f-78d0b0ce2a6d",
   "metadata": {},
   "outputs": [
    {
     "name": "stdout",
     "output_type": "stream",
     "text": [
      "Process 1: My lucky number is 1\n",
      "Process 2: My lucky number is 2\n",
      "Process 3: My lucky number is 3\n",
      "Process 4: My lucky number is 4\n"
     ]
    }
   ],
   "source": [
    "import multiprocessing\n",
    "\n",
    "def print_number(number):\n",
    "    print(f\"Process {number}: My lucky number is {number}\")\n",
    "\n",
    "if __name__ == \"__main__\":\n",
    "    processes = []\n",
    "    for i in range(1, 5):\n",
    "        process = multiprocessing.Process(target=print_number, args=(i,))\n",
    "        processes.append(process)\n",
    "        process.start()\n",
    "\n",
    "    for process in processes:\n",
    "        process.join()\n"
   ]
  },
  {
   "cell_type": "code",
   "execution_count": null,
   "id": "ee617fff-25d6-4365-92e5-f0d220c1dfdb",
   "metadata": {},
   "outputs": [],
   "source": [
    "In this example:\n",
    "\n",
    "We define a function print_number that takes a single argument (number) and prints a message.\n",
    "The if __name__ == \"__main__\": block ensures that the code runs only when the script is executed directly (not when imported as a module).\n",
    "We create four processes, each targeting the print_number function with a different argument (1, 2, 3, or 4).\n",
    "The start() method starts each process, and the join() method waits for all processes to finish."
   ]
  },
  {
   "cell_type": "code",
   "execution_count": null,
   "id": "9f58267f-484f-4440-b854-3e2e636dec9f",
   "metadata": {},
   "outputs": [],
   "source": [
    "Approach 2: Using a loop"
   ]
  },
  {
   "cell_type": "code",
   "execution_count": 11,
   "id": "88a9f6fe-cf70-4642-8523-0c981974abd7",
   "metadata": {},
   "outputs": [
    {
     "name": "stdout",
     "output_type": "stream",
     "text": [
      "Process 1: My lucky number is 1\n",
      "Process 2: My lucky number is 2\n",
      "Process 3: My lucky number is 3\n",
      "Process 4: My lucky number is 4\n"
     ]
    }
   ],
   "source": [
    "import multiprocessing\n",
    "\n",
    "def print_number(number):\n",
    "    print(f\"Process {number}: My lucky number is {number}\")\n",
    "\n",
    "if __name__ == \"__main__\":\n",
    "    num_processes = 4\n",
    "    processes = []\n",
    "\n",
    "    for i in range(num_processes):\n",
    "        process = multiprocessing.Process(target=print_number, args=(i + 1,))\n",
    "        processes.append(process)\n",
    "        process.start()\n",
    "\n",
    "    for process in processes:\n",
    "        process.join()\n"
   ]
  },
  {
   "cell_type": "code",
   "execution_count": null,
   "id": "a9c057e3-8807-48f5-9649-e081063f686d",
   "metadata": {},
   "outputs": [],
   "source": []
  }
 ],
 "metadata": {
  "kernelspec": {
   "display_name": "Python 3 (ipykernel)",
   "language": "python",
   "name": "python3"
  },
  "language_info": {
   "codemirror_mode": {
    "name": "ipython",
    "version": 3
   },
   "file_extension": ".py",
   "mimetype": "text/x-python",
   "name": "python",
   "nbconvert_exporter": "python",
   "pygments_lexer": "ipython3",
   "version": "3.10.8"
  }
 },
 "nbformat": 4,
 "nbformat_minor": 5
}
