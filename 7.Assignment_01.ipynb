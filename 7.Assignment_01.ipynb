{
 "cells": [
  {
   "cell_type": "code",
   "execution_count": null,
   "id": "f8d596a1-6f95-4959-922a-382ae040f692",
   "metadata": {},
   "outputs": [],
   "source": [
    "Q1. What is a database? Differentiate between SQL and NoSQL databases."
   ]
  },
  {
   "cell_type": "code",
   "execution_count": null,
   "id": "02a2af89-4f9c-45a6-bffe-92a23c81aba3",
   "metadata": {},
   "outputs": [],
   "source": [
    "   Let’s dive into the world of databases and explore the differences between SQL (Structured Query Language) and NoSQL (Non-relational) databases:\n",
    "\n",
    "Definition:\n",
    "SQL Databases (Relational Databases):\n",
    "These databases follow a structured format and are based on tables with predefined schemas.\n",
    "They use SQL for defining, querying, and manipulating data.\n",
    "NoSQL Databases (Non-relational or Distributed Databases):\n",
    "These databases have a flexible schema, allowing them to handle unstructured data.\n",
    "They can be document-oriented, column-oriented, graph-based, or key-value stores.\n",
    "Language:\n",
    "SQL Databases:\n",
    "Use SQL for data manipulation.\n",
    "Powerful for complex queries.\n",
    "Requires predefined schemas.\n",
    "NoSQL Databases:\n",
    "Use dynamic schemas.\n",
    "Data can be added without a predefined structure.\n",
    "Each document can have a unique structure.\n",
    "Scalability:\n",
    "SQL Databases:\n",
    "Vertically scalable (add resources to a single server).\n",
    "NoSQL Databases:\n",
    "Horizontally scalable (add more servers).\n",
    "Preferred for large or dynamic data sets.\n",
    "Structure:\n",
    "SQL Databases:\n",
    "Table-based structure.\n",
    "Suitable for multi-row transactions (e.g., accounting systems).\n",
    "NoSQL Databases:\n",
    "Key-value pairs, document-based, graph databases, or wide-column stores."
   ]
  },
  {
   "cell_type": "code",
   "execution_count": null,
   "id": "5cbe0eec-1249-4578-9a30-7a16aeb958f0",
   "metadata": {},
   "outputs": [],
   "source": [
    "Here’s a simple example::"
   ]
  },
  {
   "cell_type": "code",
   "execution_count": null,
   "id": "b3158513-cd10-485d-a22a-956700733958",
   "metadata": {},
   "outputs": [],
   "source": [
    "SQL (Structured):\n",
    "Product table:\n",
    "    {\"id\":\"101\", \"category\":\"food\", \"name\":\"Apple\", \"qty\":150}\n",
    "\n",
    "NoSQL (Unstructured):\n",
    "Products:\n",
    "    [\n",
    "        {\"id\":\"101\",\"category\":\"food\",\"name\":\"California Apples\"},\n",
    "        {\"id\":\"102\", \"category\":\"beverage\", \"name\": \"Orange Juice\"}\n",
    "        \n",
    "    ]\n"
   ]
  },
  {
   "cell_type": "code",
   "execution_count": null,
   "id": "77ee82b9-57a1-417b-b84e-820ba9c9a4bc",
   "metadata": {},
   "outputs": [],
   "source": [
    "Q2. What is DDL? Explain why CREATE, DROP, ALTER, and TRUNCATE are used with an example."
   ]
  },
  {
   "cell_type": "code",
   "execution_count": null,
   "id": "8c30f928-d3ab-43be-b3df-9baa2f58d48c",
   "metadata": {},
   "outputs": [],
   "source": [
    "DDL:\n",
    "    DDL is a subset of SQL (Structured Query Language) used for defining and managing database structures.\n",
    "It includes commands to create, modify, and delete database objects."
   ]
  },
  {
   "cell_type": "code",
   "execution_count": null,
   "id": "179c1725-0478-4fff-883c-54a6f2160e73",
   "metadata": {},
   "outputs": [],
   "source": [
    "CREATE:\n",
    "    The CREATE command is used to create a new table in SQL.\n",
    "    \n",
    "Syntax:\n",
    "    CREATE TABLE table_name(\n",
    "        column_1 datatype,\n",
    "        column_2 datatype,\n",
    "        .........\n",
    "    );\n",
    "Example: Suppose we want to create a table to store student information in a college:\n",
    "    \n",
    "    CREATE TABLE Student_info(\n",
    "        College_Id number(2),\n",
    "        College_name varchar(30),\n",
    "        Branch varchar(10)\n",
    "    );\n",
    "    "
   ]
  },
  {
   "cell_type": "code",
   "execution_count": null,
   "id": "f4bea031-11ba-4623-9334-305a940027cd",
   "metadata": {},
   "outputs": [],
   "source": [
    "ALTER:The ALTER command modifies an existing table by adding, deleting, or changing columns.\n",
    "\n",
    "Syntax to add a column:\n",
    "    ALTER TABLE table_name ADD column_name datatypes;\n",
    "\n",
    "    \n",
    "Example: To add a new column for CGPA in our Student_info table:\n",
    "              ALTER TABLE Student_info ADD CGPA number;\n"
   ]
  },
  {
   "cell_type": "code",
   "execution_count": null,
   "id": "c0f3e10a-909b-42ee-9c37-664a80514768",
   "metadata": {},
   "outputs": [],
   "source": [
    "TRUNCATE:The TRUNCATE command removes all rows from a table while preserving its structure.\n",
    "\n",
    "Syntax:\n",
    "    TRUNCATE TABLE table_name;\n",
    "    \n",
    "Example: If the college wants to remove student details for new batches but keep the table structure:\n",
    "    TRUNCATE TABLE Student_info;\n",
    "\n"
   ]
  },
  {
   "cell_type": "code",
   "execution_count": null,
   "id": "697ce6c2-cc71-4522-a5a9-35a93533a747",
   "metadata": {},
   "outputs": [],
   "source": [
    "DROP: \n",
    "    The DROP command deletes an existing table along with its structure from the database.\n",
    "Syntax:\n",
    "    DROP TABLE table_name;\n",
    "\n",
    "Example: If the college wants to delete the Student_info table entirely:\n",
    "    \n",
    "DROP TABLE Student_info;\n"
   ]
  },
  {
   "cell_type": "code",
   "execution_count": null,
   "id": "105bff42-1714-4236-bd57-ad1cdb439354",
   "metadata": {},
   "outputs": [],
   "source": [
    "Q3. What is DML? Explain INSERT, UPDATE, and DELETE with an example."
   ]
  },
  {
   "cell_type": "code",
   "execution_count": null,
   "id": "43333e2a-d672-4653-aea8-84241c847b04",
   "metadata": {},
   "outputs": [],
   "source": [
    " DML:\n",
    "       DML stands for Data Manipulation Language. It's a subset of SQL (Structured Query Language) used for manipulating data within database objects such as tables. DML commands are primarily used to insert, update, delete, and retrieve data from a database. "
   ]
  },
  {
   "cell_type": "code",
   "execution_count": null,
   "id": "a170961f-1cb4-4e13-b5a0-b1ecf702296b",
   "metadata": {},
   "outputs": [],
   "source": [
    "INSERT:\n",
    "The INSERT statement adds new records (rows) into a table.\n",
    "\n",
    "Syntax:\n",
    "    INSERT INTO table_name (column1, column2 ,.........)\n",
    "    VALUES (value1 , values2,...................)\n",
    "Example: Suppose we want to add a new patient record to the Patient table:\n",
    "    INSERT INTO Patient (PatientID , Surname , FirstName , DOB,Sex,Weight,Height,Vaccinated)\n",
    "    VALUES (15225,'Johnson', 'Emma', '05/05/2020','F',18.7,26.5,'N');\n",
    "\n"
   ]
  },
  {
   "cell_type": "code",
   "execution_count": null,
   "id": "2a297535-a14b-44e1-ad67-61207b407937",
   "metadata": {},
   "outputs": [],
   "source": [
    "UPDATE:\n",
    "The UPDATE statement modifies existing records in a table.\n",
    "Syntax:\n",
    "    UPDATE table_name\n",
    "    SET column1 = value1, column2 = value2,...........\n",
    "    WHERE condition;\n",
    "\n",
    "Example: To update the weight of patient Arjun Agarwal:\n",
    "    UPDATE Patient\n",
    "    SET Weight = 29.5\n",
    "    WHERE FirstName = 'Arjun' AND Surname = 'Agarwal';\n"
   ]
  },
  {
   "cell_type": "code",
   "execution_count": null,
   "id": "28a2b286-4670-4121-ad05-a86fc1e25292",
   "metadata": {},
   "outputs": [],
   "source": [
    "DELETE:\n",
    "The DELETE statement removes records from a table.\n",
    "Syntax:\n",
    "    DELETE FROM table_name\n",
    "    WHERE condition;\n",
    "\n",
    "Example: To delete records of patients who are not vaccinated:\n",
    "    DELETE FROM Patient\n",
    "    WHERE Vaccinated = 'N';\n",
    "    \n"
   ]
  },
  {
   "cell_type": "code",
   "execution_count": null,
   "id": "8c035675-64b8-4bb4-9fd7-bbb6dbc277fa",
   "metadata": {},
   "outputs": [],
   "source": [
    "Q4. What is DQL? Explain SELECT with an example."
   ]
  },
  {
   "cell_type": "code",
   "execution_count": null,
   "id": "cbdffd85-16d0-4c5e-a310-3fca46363bc3",
   "metadata": {},
   "outputs": [],
   "source": [
    "DQL Overview:\n",
    "    DQL deals with querying and retrieving data from the database.\n",
    "The primary command in DQL is the SELECT statement.\n",
    "It allows you to retrieve specific columns or all columns from one or more tables.\n",
    " \n",
    "    \n",
    "SELECT Statement Syntax:\n",
    "    The basic syntax for the SELECT statement is as follows:\n",
    "        SELECT column1, column2,.....\n",
    "        FROM table_name\n",
    "        WHERE condition;\n",
    "        \n",
    "Example: Suppose we have a table called Employees with the following columns: EmployeeID, FirstName, LastName, Salary, and Department. To retrieve the first and last names of employees whose salary is greater than $50,000:\n",
    "    \n",
    "SELECT FirstName, LastName\n",
    "FROM Employees\n",
    "WHERE Salary > 50000;\n"
   ]
  },
  {
   "cell_type": "code",
   "execution_count": null,
   "id": "c09adb36-0b21-4e17-9b2c-db4b0bd98ca5",
   "metadata": {},
   "outputs": [],
   "source": [
    "Q5. Explain Primary Key and Foreign Key."
   ]
  },
  {
   "cell_type": "code",
   "execution_count": null,
   "id": "0a67af3a-1d9c-4ba1-bc97-bca1e1a015a8",
   "metadata": {},
   "outputs": [],
   "source": [
    "Primary Key:\n",
    "    A primary key is a column or a set of columns in a table whose values uniquely identify each row in that table. It ensures the integrity and uniqueness of the data within the table. Here are some key points about primary keys:\n",
    "\n",
    "Uniqueness: Each value in a primary key column must be unique within the table. No two rows can have the same value for the primary key column(s).\n",
    "Non-null: Primary key columns cannot contain null values. Each row must have a value in the primary key column(s).\n",
    "Indexed: Primary keys are automatically indexed by most database systems for faster retrieval of data.\n",
    "Declares entity integrity: It ensures that each row in the table is uniquely identifiable."
   ]
  },
  {
   "cell_type": "code",
   "execution_count": null,
   "id": "f42ab681-ace4-4024-b680-6fcefa4f9dbb",
   "metadata": {},
   "outputs": [],
   "source": [
    "For example, consider a table named students with a primary key column student_id. Each student in the table should have a unique student_id:\n",
    "\n",
    "syntax:\n",
    "    CREATE TABLE students (\n",
    "        student_id INT PRIMARY KEY,\n",
    "        name VARCHAR(50),\n",
    "        age INT\n",
    "    );"
   ]
  },
  {
   "cell_type": "code",
   "execution_count": null,
   "id": "582ebbd8-05f7-41d3-8792-b3d364b5e992",
   "metadata": {},
   "outputs": [],
   "source": [
    "Foreign Key:\n",
    "\n",
    "A foreign key is a column or a set of columns in a table that establishes a link between data in two tables. It creates a relationship between two tables by referencing the primary key of another table. Here are some key points about foreign keys:\n",
    "\n",
    "Referential Integrity: Foreign keys enforce referential integrity by ensuring that values in the foreign key column(s) match values in the primary key column(s) of the referenced table.\n",
    "Child Table Relationship: The table containing the foreign key is called the child table or referencing table. It holds values that correspond to the primary key values in the parent table.\n",
    "Cascading Actions: Foreign keys can be configured to perform cascading actions such as ON DELETE or ON UPDATE, which automatically propagate changes to related rows."
   ]
  },
  {
   "cell_type": "code",
   "execution_count": null,
   "id": "cb77b7a6-fbc5-460f-b28b-7e61ec606b7f",
   "metadata": {},
   "outputs": [],
   "source": [
    "For example, consider a table named orders with a foreign key column customer_id that references the customer_id column in a customers table:\n",
    "    \n",
    "    \n",
    "    CREATE TABLE orders(\n",
    "        order_id INT PRIMARY KEY,\n",
    "        order_date DATE,\n",
    "        customer_id INT,\n",
    "        FOREIGN KEY (customer_id) REFERENCES customers(customer_id)\n",
    "    );\n",
    "    \n",
    "In this example, the customer_id column in the orders table is a foreign key that references the customer_id column in the customers table. This ensures that each order is associated with a valid customer.   \n"
   ]
  },
  {
   "cell_type": "code",
   "execution_count": null,
   "id": "b120c0d2-d8cf-4368-b547-1d717868ffc7",
   "metadata": {},
   "outputs": [],
   "source": [
    "Q6. Write a python code to connect MySQL to python. \n",
    "Explain the cursor() and execute() method."
   ]
  },
  {
   "cell_type": "code",
   "execution_count": null,
   "id": "9f1fdada-130a-49b5-a0ba-f7fa308ac118",
   "metadata": {},
   "outputs": [],
   "source": [
    "Connecting to MySQL: First, make sure you have MySQL installed on your computer. If not, you can download it from the official MySQL website. Next, install the MySQL Connector using pip:"
   ]
  },
  {
   "cell_type": "code",
   "execution_count": 2,
   "id": "c018f8b2-dbc9-41b2-ad8d-7d3ca5eb572a",
   "metadata": {},
   "outputs": [
    {
     "name": "stdout",
     "output_type": "stream",
     "text": [
      "Collecting mysql-connector-python\n",
      "  Downloading mysql_connector_python-8.4.0-cp310-cp310-manylinux_2_17_x86_64.whl (19.4 MB)\n",
      "\u001b[2K     \u001b[90m━━━━━━━━━━━━━━━━━━━━━━━━━━━━━━━━━━━━━━━━\u001b[0m \u001b[32m19.4/19.4 MB\u001b[0m \u001b[31m57.4 MB/s\u001b[0m eta \u001b[36m0:00:00\u001b[0m00:01\u001b[0m00:01\u001b[0m\n",
      "\u001b[?25hInstalling collected packages: mysql-connector-python\n",
      "Successfully installed mysql-connector-python-8.4.0\n",
      "Note: you may need to restart the kernel to use updated packages.\n"
     ]
    }
   ],
   "source": [
    " pip install mysql-connector-python\n"
   ]
  },
  {
   "cell_type": "code",
   "execution_count": null,
   "id": "fb9e7646-dcda-4a67-b361-e53a68f125e5",
   "metadata": {},
   "outputs": [],
   "source": [
    "Now, create a Python script (e.g., connect_to_mysql.py) with the following content:"
   ]
  },
  {
   "cell_type": "code",
   "execution_count": null,
   "id": "e0e46812-4368-4038-8f92-9f9494f58592",
   "metadata": {},
   "outputs": [],
   "source": [
    "import mysql.connector\n",
    "\n",
    "#Create a connection to the database\n",
    "\n",
    "mydb = mysql.connector.connect(\n",
    "    host = \"localhost\",\n",
    "    user = \"yourusername\",\n",
    "    password = \"yourpassword\",\n",
    "    database = \"yourdatabase\"\n",
    ")\n",
    "print(\"Connection succesful!\")\n",
    "\n",
    "#Close the connection\n",
    "mydb.close()"
   ]
  },
  {
   "cell_type": "code",
   "execution_count": null,
   "id": "c7b32b3d-dd4a-4976-840e-7cb19e4464e0",
   "metadata": {},
   "outputs": [],
   "source": [
    "Explanation:\n",
    "The mysql.connector.connect() method establishes a connection to the MySQL server. It takes parameters such as host, user, password, and database.\n",
    "The mydb object represents the connection.\n",
    "The print(\"Connection successful!\") line confirms that the connection was successful.\n",
    "Finally, we close the connection using mydb.close()."
   ]
  },
  {
   "cell_type": "code",
   "execution_count": null,
   "id": "8448cb5b-056a-4d06-bc78-d1bedf049d1a",
   "metadata": {},
   "outputs": [],
   "source": [
    "Explanation:\n",
    "The mysql.connector.connect() method establishes a connection to the MySQL server. It takes parameters such as host, user, password, and database.\n",
    "The mydb object represents the connection.\n",
    "The print(\"Connection successful!\") line confirms that the connection was successful.\n",
    "Finally, we close the connection using mydb.close()."
   ]
  },
  {
   "cell_type": "code",
   "execution_count": null,
   "id": "8b19914a-c9bf-4fd0-a8e1-7a66e66a808d",
   "metadata": {},
   "outputs": [],
   "source": [
    "Here’s how you can use the cursor and execute methods:"
   ]
  },
  {
   "cell_type": "code",
   "execution_count": null,
   "id": "72e333b0-f5f0-4553-b47b-ee59ded198ac",
   "metadata": {},
   "outputs": [],
   "source": [
    "import mysql.connector\n",
    "\n",
    "# Create a connection to the database\n",
    "mydb = mysql.connector.connect(\n",
    "    host=\"localhost\",\n",
    "    user=\"yourusername\",\n",
    "    password=\"yourpassword\",\n",
    "    database=\"yourdatabase\"\n",
    ")\n",
    "\n",
    "print(\"Connection successful!\")\n",
    "\n",
    "# Close the connection\n",
    "mydb.close()\n"
   ]
  },
  {
   "cell_type": "code",
   "execution_count": null,
   "id": "586fcb05-ec55-4744-b7f6-d6af073ff986",
   "metadata": {},
   "outputs": [],
   "source": [
    "In this example:\n",
    "\n",
    "We create a cursor using mycursor = mydb.cursor().\n",
    "We execute a SELECT query to retrieve data from the employees table.\n",
    "The fetchall() method retrieves all rows returned by the query."
   ]
  },
  {
   "cell_type": "code",
   "execution_count": null,
   "id": "91663717-e91f-4117-86c9-1850524aa061",
   "metadata": {},
   "outputs": [],
   "source": [
    "Q7. Give the order of execution of SQL clauses in an SQL query.\n"
   ]
  },
  {
   "cell_type": "code",
   "execution_count": null,
   "id": "bfc8886a-4d71-430a-a4cd-6733f106298b",
   "metadata": {},
   "outputs": [],
   "source": [
    "When executing an SQL query, the clauses are processed in a specific order. Let’s break it down:"
   ]
  },
  {
   "cell_type": "code",
   "execution_count": null,
   "id": "3c099cf2-8e0a-4249-8bee-eb43f63b02e3",
   "metadata": {},
   "outputs": [],
   "source": [
    "FROM Clause:\n",
    "The FROM clause specifies the tables involved in the query, including any joins or subqueries.\n",
    "If the query contains JOIN clauses, the tables are combined by merging rows before evaluating the FROM clause.\n",
    "So, JOIN predates FROM in statements with joins"
   ]
  },
  {
   "cell_type": "code",
   "execution_count": null,
   "id": "f2c6abef-8452-43dd-abbb-9ff0ff95aa6c",
   "metadata": {},
   "outputs": [],
   "source": [
    "WHERE Clause:\n",
    "The WHERE clause filters rows based on specified conditions.\n",
    "It operates on the table data processed by the JOIN and FROM clauses.\n",
    "Rows that don’t satisfy the conditions are discarded, reducing the data to be processed further"
   ]
  },
  {
   "cell_type": "code",
   "execution_count": null,
   "id": "38ef4845-4e0e-4be9-9377-8f0cc1c43a5b",
   "metadata": {},
   "outputs": [],
   "source": [
    "GROUP BY Clause:\n",
    "If the query has a GROUP BY clause, it’s executed next.\n",
    "The data is grouped based on specified columns.\n",
    "This reduces the number of rows to be processed further, equal to the number of distinct values in the GROUP BY column.\n",
    "Useful for calculating aggregate functions"
   ]
  },
  {
   "cell_type": "code",
   "execution_count": null,
   "id": "a65eeb3e-11ff-495e-9b03-5c59ed69bfbc",
   "metadata": {},
   "outputs": [],
   "source": [
    "HAVING Clause:\n",
    "If the query had a GROUP BY clause, the HAVING clause is evaluated immediately after GROUP BY.\n",
    "It filters the grouped rows based on specified conditions.\n",
    "Similar to the WHERE clause, it discards rows that don’t meet the conditions"
   ]
  },
  {
   "cell_type": "code",
   "execution_count": null,
   "id": "2ed78557-e6bf-4055-80f7-3a6105da5ca3",
   "metadata": {},
   "outputs": [],
   "source": [
    "SELECT Clause:\n",
    "The SELECT clause is executed next.\n",
    "It computes expressions (arithmetic, aggregate, etc.) and aliases given in the SELECT clause.\n",
    "Computation occurs on the smallest dataset after filtering and grouping operations from previous clauses."
   ]
  },
  {
   "cell_type": "code",
   "execution_count": null,
   "id": "e74b0b52-6864-4665-88b4-ff3d986d92cd",
   "metadata": {},
   "outputs": [],
   "source": [
    "DISTINCT Clause:\n",
    "The DISTINCT clause is executed after evaluating expressions and aliases.\n",
    "It ensures that only unique rows are returned in the result set"
   ]
  },
  {
   "cell_type": "code",
   "execution_count": null,
   "id": "a340311d-d8ca-4877-8d92-559cecf8d9cc",
   "metadata": {},
   "outputs": [],
   "source": [
    " Let’s create a simple example to illustrate the concepts we discussed"
   ]
  },
  {
   "cell_type": "code",
   "execution_count": null,
   "id": "58cf1523-4f0a-459b-b64e-8594a43636d5",
   "metadata": {},
   "outputs": [],
   "source": [
    "Suppose we want to manage information about students and their courses. \n",
    "We’ll create two tables: Students and Courses."
   ]
  },
  {
   "cell_type": "code",
   "execution_count": null,
   "id": "81909e4c-eb8c-479b-b990-bbd3248b949a",
   "metadata": {},
   "outputs": [],
   "source": [
    "Creating Tables:\n",
    "First, let’s create the tables using SQL statements.\n",
    "We’ll assume that each student has a unique student ID (StudentID) and each course has a unique course code (CourseCode)."
   ]
  },
  {
   "cell_type": "code",
   "execution_count": null,
   "id": "031fd1cd-5902-4a50-9bf0-68d3378edb44",
   "metadata": {},
   "outputs": [],
   "source": [
    "#__Create the Students table\n",
    "CREATE TABLE Students(\n",
    "    StudentID INT PRIMARY KEY,\n",
    "    FirstName VARCHAR(50),\n",
    "    LastName VARCHAR(50),\n",
    "    Age INT\n",
    ");\n",
    "\n",
    "#__Create the Courses table\n",
    "\n",
    "CREATE TABLE Courses (\n",
    "    CourseCode VARCHAR(50) PRIMARY KEY,\n",
    "    CourseName VARCHAR (100),\n",
    "    Instructor VARCHAR(50)\n",
    ");"
   ]
  },
  {
   "cell_type": "code",
   "execution_count": null,
   "id": "36198f04-7a71-4e42-b949-6b6f94c4a5ce",
   "metadata": {},
   "outputs": [],
   "source": [
    "inserting Data:\n",
    "Next, we’ll insert some sample data into both tables."
   ]
  },
  {
   "cell_type": "code",
   "execution_count": null,
   "id": "227a4d44-675b-4d4d-8a28-6ea340fe82b7",
   "metadata": {},
   "outputs": [],
   "source": [
    "#Insert student data \n",
    "INSERT INTO Students(StudentID,FirstName,LastName,Age)\n",
    "VALUES\n",
    "     (101, 'John', 'Doe', 20),\n",
    "     (102, 'Alice', 'Smith',22),\n",
    "     (103, 'Bob', 'Johnson',21);\n",
    "    \n",
    "#Insert course data \n",
    "INSERT INTO Courses(CourseCode, CourseName, Instructor)\n",
    "VALUES\n",
    "      ('CSCI101', 'Introduction to Computer Science','Dr.Brown'),\n",
    "      ('MATH201' , 'Calculus I', 'Prof.White'),\n",
    "      ('ENG202' , 'English Literature', 'Dr.Adams');"
   ]
  },
  {
   "cell_type": "code",
   "execution_count": null,
   "id": "e85d41aa-4f95-42f0-a8f5-5544477ae7f3",
   "metadata": {},
   "outputs": [],
   "source": [
    "Querying Data:\n",
    "Now let’s retrieve information from our tables."
   ]
  },
  {
   "cell_type": "code",
   "execution_count": null,
   "id": "f1c804c8-598e-40eb-a4fa-23231282b205",
   "metadata": {},
   "outputs": [],
   "source": [
    "#Retrieve student names and their enrolled coures\n",
    "SELECT Students.FirstName, Student.LastName , Courses.CourseName\n",
    "FROM Students\n",
    "JOIN Enrollments ON Students.StudentsID = Enrollments.StudentID\n",
    "JOIN Courses ON Enrollments.CourseCode = CourseCode;"
   ]
  },
  {
   "cell_type": "code",
   "execution_count": null,
   "id": "4709f884-ef12-4fdc-9a90-51c101bfbcb1",
   "metadata": {},
   "outputs": [],
   "source": [
    "In this example:\n",
    "\n",
    "We create two tables: Students and Courses.\n",
    "We insert sample data for students and courses.\n",
    "The query retrieves student names and the courses they are enrolled in."
   ]
  }
 ],
 "metadata": {
  "kernelspec": {
   "display_name": "Python 3 (ipykernel)",
   "language": "python",
   "name": "python3"
  },
  "language_info": {
   "codemirror_mode": {
    "name": "ipython",
    "version": 3
   },
   "file_extension": ".py",
   "mimetype": "text/x-python",
   "name": "python",
   "nbconvert_exporter": "python",
   "pygments_lexer": "ipython3",
   "version": "3.10.8"
  }
 },
 "nbformat": 4,
 "nbformat_minor": 5
}
