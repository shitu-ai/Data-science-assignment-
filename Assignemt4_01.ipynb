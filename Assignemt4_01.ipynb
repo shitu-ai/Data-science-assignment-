{
 "cells": [
  {
   "cell_type": "code",
   "execution_count": null,
   "id": "40a51907-d39d-45af-8ac6-452fa84b5d6c",
   "metadata": {},
   "outputs": [],
   "source": [
    "Q1, Create a vehicle class with an init method having instance variables as name_of_vehicle, max_speed\n",
    "and average_of_vehicle."
   ]
  },
  {
   "cell_type": "code",
   "execution_count": null,
   "id": "ceb5d8cc-700e-4840-8a9e-e82a1a67fa56",
   "metadata": {},
   "outputs": [],
   "source": []
  },
  {
   "cell_type": "code",
   "execution_count": 3,
   "id": "45b2bba1-e7e8-4217-be69-e11cd7365ebb",
   "metadata": {},
   "outputs": [
    {
     "name": "stdout",
     "output_type": "stream",
     "text": [
      "Name of vehicle: Toyota Camry\n",
      "Max speed: 120 km/h\n",
      "Average speed: 60 km/h\n"
     ]
    }
   ],
   "source": [
    "class Vehicle:\n",
    "    def __init__(self, name_of_vehicle, max_speed, average_speed):\n",
    "        self.name_of_vehicle = name_of_vehicle\n",
    "        self.max_speed = max_speed\n",
    "        self.average_speed = average_speed\n",
    "\n",
    "# Example usage:\n",
    "car = Vehicle(name_of_vehicle=\"Toyota Camry\", max_speed=120, average_speed=60)\n",
    "print(f\"Name of vehicle: {car.name_of_vehicle}\")\n",
    "print(f\"Max speed: {car.max_speed} km/h\")\n",
    "print(f\"Average speed: {car.average_speed} km/h\")\n"
   ]
  },
  {
   "cell_type": "code",
   "execution_count": null,
   "id": "d200420b-c54c-43c1-b470-d47707bae3a3",
   "metadata": {},
   "outputs": [],
   "source": [
    "Q2. Create a child class car from the vehicle class created in Que 1, which will inherit the vehicle class.\n",
    "Create a method named seating_capacity which takes capacity as an argument and returns the name of\n",
    "the vehicle and its seating capacity."
   ]
  },
  {
   "cell_type": "code",
   "execution_count": 4,
   "id": "40335dea-bfe3-4aed-9039-4b623664536e",
   "metadata": {},
   "outputs": [
    {
     "name": "stdout",
     "output_type": "stream",
     "text": [
      "Toyota Camry has a seating capacity of 5 passengers.\n"
     ]
    }
   ],
   "source": [
    "class Vehicle:\n",
    "    def __init__(self, name_of_vehicle, max_speed, average_speed):\n",
    "        self.name_of_vehicle = name_of_vehicle\n",
    "        self.max_speed = max_speed\n",
    "        self.average_speed = average_speed\n",
    "\n",
    "class Car(Vehicle):\n",
    "    def seating_capacity(self, capacity):\n",
    "        return f\"{self.name_of_vehicle} has a seating capacity of {capacity} passengers.\"\n",
    "\n",
    "# Example usage:\n",
    "car = Car(name_of_vehicle=\"Toyota Camry\", max_speed=120, average_speed=60)\n",
    "print(car.seating_capacity(capacity=5))\n"
   ]
  },
  {
   "cell_type": "code",
   "execution_count": null,
   "id": "8ee5a05a-ab1d-4910-ba5c-735a9b05b938",
   "metadata": {},
   "outputs": [],
   "source": [
    "Q3. What is multiple inheritance? Write a python code to demonstrate multiple inheritance."
   ]
  },
  {
   "cell_type": "code",
   "execution_count": null,
   "id": "f55b999d-fcbd-438d-88ff-ac9cecad5cb9",
   "metadata": {},
   "outputs": [],
   "source": [
    "Multiple inheritance in Python refers to a situation where a class inherits from more than one base class. \n",
    "This allows the derived class to inherit attributes and methods from multiple parent classes."
   ]
  },
  {
   "cell_type": "code",
   "execution_count": 1,
   "id": "bc880049-905a-4f4f-9066-a835488a3c61",
   "metadata": {},
   "outputs": [
    {
     "name": "stdout",
     "output_type": "stream",
     "text": [
      "Animal speaks\n",
      "Mammal walks\n",
      "Bird flies\n",
      "Bat uses echolocation\n"
     ]
    }
   ],
   "source": [
    "class Animal:\n",
    "    def speak(self):\n",
    "        print(\"Animal speaks\")\n",
    "\n",
    "class Mammal(Animal):\n",
    "    def walk(self):\n",
    "        print(\"Mammal walks\")\n",
    "\n",
    "class Bird(Animal):\n",
    "    def fly(self):\n",
    "        print(\"Bird flies\")\n",
    "\n",
    "class Bat(Mammal, Bird):\n",
    "    def echo_location(self):\n",
    "        print(\"Bat uses echolocation\")\n",
    "\n",
    "# Create an instance of the Bat class\n",
    "bat = Bat()\n",
    "\n",
    "# Demonstrate multiple inheritance\n",
    "bat.speak()  # Calls Animal's speak method\n",
    "bat.walk()   # Calls Mammal's walk method\n",
    "bat.fly()    # Calls Bird's fly method\n",
    "bat.echo_location()  # Calls Bat's echo_location method\n"
   ]
  },
  {
   "cell_type": "code",
   "execution_count": null,
   "id": "94d5349f-1641-43e8-9a9f-9ddc44c4e6f6",
   "metadata": {},
   "outputs": [],
   "source": [
    "Q4. What are getter and setter in python?\n",
    "Create a class and create a getter and a setter method in this class."
   ]
  },
  {
   "cell_type": "code",
   "execution_count": null,
   "id": "85c3328f-c113-403b-b9f9-ec3a452dab2a",
   "metadata": {},
   "outputs": [],
   "source": [
    "In Python, getter and setter methods provide an interface for retrieving \n",
    "and updating an object’s state while hiding the implementation details. \n",
    "These methods help maintain encapsulation by preventing direct access to object attributes."
   ]
  },
  {
   "cell_type": "code",
   "execution_count": 3,
   "id": "dc263633-2c11-4c4e-939f-1c427e129ab9",
   "metadata": {},
   "outputs": [
    {
     "name": "stdout",
     "output_type": "stream",
     "text": [
      "Original name: Alice\n",
      "Updated name: Alicia\n",
      "Original age: 30\n",
      "Updated age: 35\n",
      "Age cannot be negative!\n"
     ]
    }
   ],
   "source": [
    "class Person:\n",
    "    def __init__(self, name, age):\n",
    "        self._name = name\n",
    "        self._age = age\n",
    "\n",
    "    # Getter method for 'name'\n",
    "    def get_name(self):\n",
    "        return self._name\n",
    "\n",
    "    # Setter method for 'name'\n",
    "    def set_name(self, new_name):\n",
    "        self._name = new_name\n",
    "\n",
    "    # Getter method for 'age'\n",
    "    def get_age(self):\n",
    "        return self._age\n",
    "\n",
    "    # Setter method for 'age'\n",
    "    def set_age(self, new_age):\n",
    "        if new_age >= 0:\n",
    "            self._age = new_age\n",
    "        else:\n",
    "            print(\"Age cannot be negative!\")\n",
    "\n",
    "# Create an instance of the Person class\n",
    "person = Person(\"Alice\", 30)\n",
    "\n",
    "# Get and set 'name'\n",
    "print(f\"Original name: {person.get_name()}\")\n",
    "person.set_name(\"Alicia\")\n",
    "print(f\"Updated name: {person.get_name()}\")\n",
    "\n",
    "# Get and set 'age'\n",
    "print(f\"Original age: {person.get_age()}\")\n",
    "person.set_age(35)\n",
    "print(f\"Updated age: {person.get_age()}\")\n",
    "\n",
    "# Try setting negative age\n",
    "person.set_age(-5)\n"
   ]
  },
  {
   "cell_type": "code",
   "execution_count": null,
   "id": "fb2ce5a1-e563-4eac-87cc-7cef947fb986",
   "metadata": {},
   "outputs": [],
   "source": [
    "Q5.What is method overriding in python? Write a python code to demonstrate method overriding."
   ]
  },
  {
   "cell_type": "code",
   "execution_count": null,
   "id": "b897281a-3cf1-458a-a48f-1e0e62d292b8",
   "metadata": {},
   "outputs": [],
   "source": [
    "In Python, method overriding allows a subclass to provide its own implementation for a method that is already defined in its superclass. \n",
    "When a method in a subclass has the same name, same parameters, and same return type as a method in its super-class, \n",
    "then the method in the subclass is said to override the method in the super-class"
   ]
  }
 ],
 "metadata": {
  "kernelspec": {
   "display_name": "Python 3 (ipykernel)",
   "language": "python",
   "name": "python3"
  },
  "language_info": {
   "codemirror_mode": {
    "name": "ipython",
    "version": 3
   },
   "file_extension": ".py",
   "mimetype": "text/x-python",
   "name": "python",
   "nbconvert_exporter": "python",
   "pygments_lexer": "ipython3",
   "version": "3.10.8"
  }
 },
 "nbformat": 4,
 "nbformat_minor": 5
}
