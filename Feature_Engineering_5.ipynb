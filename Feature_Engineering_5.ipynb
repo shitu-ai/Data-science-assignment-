{
  "nbformat": 4,
  "nbformat_minor": 0,
  "metadata": {
    "colab": {
      "provenance": []
    },
    "kernelspec": {
      "name": "python3",
      "display_name": "Python 3"
    },
    "language_info": {
      "name": "python"
    }
  },
  "cells": [
    {
      "cell_type": "markdown",
      "source": [
        "Q1. What is the difference between Ordinal Encoding and Label Encoding? Provide an example of when you\n",
        "might choose one over the other."
      ],
      "metadata": {
        "id": "QGMaS-nbV2DL"
      }
    },
    {
      "cell_type": "markdown",
      "source": [
        "Ordinal Encoding and Label Encoding are both techniques used in machine learning to encode categorical variables into numerical format, but they are used in different contexts:\n",
        "\n",
        "1. **Label Encoding**:\n",
        "   - Label Encoding is simply converting each category in a categorical variable into a numerical value. Each category is assigned a unique integer.\n",
        "   - Example:\n",
        "     - Categorical variable: [\"red\", \"green\", \"blue\"]\n",
        "     - Label Encoding: {\"red\": 0, \"green\": 1, \"blue\": 2}\n",
        "   - Use cases:\n",
        "     - When the categorical variable is ordinal, meaning it has a clear ordering (e.g., \"low\", \"medium\", \"high\").\n",
        "\n",
        "2. **Ordinal Encoding**:\n",
        "   - Ordinal Encoding involves assigning a numerical value to each category, but in a way that preserves the order or rank among the categories.\n",
        "   - Example:\n",
        "     - Categorical variable: [\"low\", \"medium\", \"high\"]\n",
        "     - Ordinal Encoding: {\"low\": 1, \"medium\": 2, \"high\": 3}\n",
        "   - Use cases:\n",
        "     - When the categorical variable is ordinal and the categories have a meaningful order that should be preserved in the encoding (e.g., levels of education: \"high school\", \"college\", \"graduate\").\n",
        "\n",
        "**Choosing between them:**\n",
        "\n",
        "- Use **Label Encoding** when:\n",
        "  - The categorical variable is nominal (unordered categories) or binary.\n",
        "  - There is no meaningful order to the categories.\n",
        "\n",
        "- Use **Ordinal Encoding** when:\n",
        "  - The categorical variable is ordinal (categories have a clear order).\n",
        "  - Preserving the order is important for the model (e.g., in decision trees where the split points depend on numerical values).\n",
        "\n",
        "In summary, the choice between Ordinal Encoding and Label Encoding depends on whether the categorical variable has a meaningful order that should be reflected in the numerical encoding."
      ],
      "metadata": {
        "id": "iUkWtiSZV7Z1"
      }
    },
    {
      "cell_type": "markdown",
      "source": [
        "Q2. Explain how Target Guided Ordinal Encoding works and provide an example of when you might use it in\n",
        "a machine learning project."
      ],
      "metadata": {
        "id": "-fc4oCh9WX3-"
      }
    },
    {
      "cell_type": "markdown",
      "source": [
        "Target Guided Ordinal Encoding is a technique used to encode categorical variables based on the target variable in a supervised machine learning problem. It assigns numerical labels to categories in such a way that the labels are ordered according to the target variable's mean or median value for each category. Here's how it typically works:\n",
        "\n",
        "1. **Calculate Mean or Median Target Value**: For each category of the categorical variable, compute the mean (or median) of the target variable (the variable you're trying to predict).\n",
        "\n",
        "2. **Order Categories**: Sort the categories based on these mean (or median) values in ascending or descending order.\n",
        "\n",
        "3. **Assign Ordinal Labels**: Assign ordinal labels (integers) to each category based on their rank order according to the computed values.\n",
        "\n",
        "Let's illustrate this with an example:\n",
        "\n",
        "Suppose you have a dataset with a categorical variable `education_level` and a target variable `income` (numeric, representing income levels). The `education_level` categories are \"high school\", \"college\", and \"graduate\". Here's how you might apply Target Guided Ordinal Encoding:\n",
        "\n",
        "- Calculate the mean `income` for each category:\n",
        "  - Mean income for \"high school\": $40,000\n",
        "  - Mean income for \"college\": $60,000\n",
        "  - Mean income for \"graduate\": $80,000\n",
        "\n",
        "- Order the categories based on their mean income in ascending order:\n",
        "  - \"high school\" < \"college\" < \"graduate\"\n",
        "\n",
        "- Assign ordinal labels:\n",
        "  - \"high school\" -> 1\n",
        "  - \"college\" -> 2\n",
        "  - \"graduate\" -> 3\n",
        "\n",
        "In this example, \"high school\" gets the lowest label because it has the lowest mean income, while \"graduate\" gets the highest label due to the highest mean income.\n",
        "\n",
        "**When to use Target Guided Ordinal Encoding in a machine learning project:**\n",
        "\n",
        "- **Ordinal Variables with Target Relationship**: Use it when the categorical variable has an ordinal nature and there is a clear relationship between the categories and the target variable. For instance, in the example above, education level is typically correlated with income level.\n",
        "\n",
        "- **Decision Tree Algorithms**: It can be particularly useful in decision tree-based algorithms (like Random Forests, Gradient Boosting Machines) where the order of categories can influence the split points, improving the model's predictive performance.\n",
        "\n",
        "- **Avoiding Curse of Dimensionality**: It helps in reducing the dimensionality of categorical variables by converting them into ordinal variables, which can simplify the model without losing important information.\n",
        "\n",
        "In summary, Target Guided Ordinal Encoding is beneficial when you want to leverage the relationship between a categorical variable and the target variable by encoding it in a way that preserves this relationship effectively for predictive modeling."
      ],
      "metadata": {
        "id": "SVckReWWWiXE"
      }
    },
    {
      "cell_type": "markdown",
      "source": [],
      "metadata": {
        "id": "4bYaydA2WiYS"
      }
    },
    {
      "cell_type": "code",
      "execution_count": 1,
      "metadata": {
        "colab": {
          "base_uri": "https://localhost:8080/"
        },
        "id": "viyK4qV-VvUw",
        "outputId": "d3adb22f-5789-46ac-bb1d-b10218ea2557"
      },
      "outputs": [
        {
          "output_type": "stream",
          "name": "stdout",
          "text": [
            "  education_level  income  education_level_ordinal\n",
            "0     high school   40000                        1\n",
            "1         college   60000                        2\n",
            "2        graduate   80000                        3\n",
            "3     high school   35000                        1\n",
            "4        graduate   90000                        3\n"
          ]
        }
      ],
      "source": [
        "import pandas as pd\n",
        "import numpy as np\n",
        "\n",
        "# Sample data\n",
        "data = {\n",
        "    'education_level': ['high school', 'college', 'graduate', 'high school', 'graduate'],\n",
        "    'income': [40000, 60000, 80000, 35000, 90000]\n",
        "}\n",
        "\n",
        "df = pd.DataFrame(data)\n",
        "\n",
        "# Calculate mean income for each education level\n",
        "education_mean_income = df.groupby('education_level')['income'].mean().sort_values()\n",
        "\n",
        "# Create a mapping dictionary based on the sorted order\n",
        "ordinal_mapping = {level: idx for idx, level in enumerate(education_mean_income.index, 1)}\n",
        "\n",
        "# Map the categorical variable to ordinal using the mapping\n",
        "df['education_level_ordinal'] = df['education_level'].map(ordinal_mapping)\n",
        "\n",
        "print(df)\n"
      ]
    },
    {
      "cell_type": "markdown",
      "source": [
        "Q3. Define covariance and explain why it is important in statistical analysis. How is covariance calculated?"
      ],
      "metadata": {
        "id": "rgrlDRlAYNiL"
      }
    },
    {
      "cell_type": "markdown",
      "source": [
        "Covariance is a measure of how much two random variables vary together. In essence, it indicates the degree to which two variables tend to deviate from their respective means in a similar way. Here’s a breakdown:\n",
        "\n",
        "1. **Definition**: Covariance between two variables \\( X \\) and \\( Y \\) is denoted as \\( \\text{Cov}(X, Y) \\). It’s calculated as the expected value (or average value in the long run) of the product of the deviations of \\( X \\) from its mean \\( \\mu_X \\) and \\( Y \\) from its mean \\( \\mu_Y \\):\n",
        "\n",
        "   \\[\n",
        "   \\text{Cov}(X, Y) = E[(X - \\mu_X)(Y - \\mu_Y)]\n",
        "   \\]\n",
        "\n",
        "   - If \\( X \\) and \\( Y \\) tend to increase (or decrease) together, their covariance is positive.\n",
        "   - If \\( X \\) increases while \\( Y \\) decreases, or vice versa, the covariance is negative.\n",
        "   - A covariance of zero indicates that there is no linear relationship between \\( X \\) and \\( Y \\).\n",
        "\n",
        "2. **Importance in Statistical Analysis**:\n",
        "   - **Relationship Assessment**: Covariance helps in understanding the direction of the relationship between two variables. A positive covariance indicates that higher values of one variable tend to correspond with higher values of the other, and vice versa for negative covariance.\n",
        "   - **Scale Dependent**: The magnitude of covariance depends on the scales of \\( X \\) and \\( Y \\). This makes interpretation difficult without normalization or standardization.\n",
        "   - **Basis for Other Measures**: Covariance is foundational for calculating correlation coefficients, which standardize the relationship between variables to facilitate easier interpretation and comparison.\n",
        "\n",
        "3. **Calculation**: To compute covariance from a sample, you use the following formula:\n",
        "\n",
        "   \\[\n",
        "   \\text{Cov}(X, Y) = \\frac{1}{n-1} \\sum_{i=1}^{n} (X_i - \\bar{X})(Y_i - \\bar{Y})\n",
        "   \\]\n",
        "\n",
        "   Where:\n",
        "   - \\( X_i \\) and \\( Y_i \\) are individual data points,\n",
        "   - \\( \\bar{X} \\) and \\( \\bar{Y} \\) are the sample means of \\( X \\) and \\( Y \\),\n",
        "   - \\( n \\) is the number of data points.\n",
        "\n",
        "   This formula adjusts for sample bias, making it suitable for practical statistical analysis.\n",
        "\n",
        "In summary, covariance provides insights into the relationship between two variables, though its interpretation is influenced by the units of measurement of the variables involved."
      ],
      "metadata": {
        "id": "Jj0Rt1C3YnGU"
      }
    },
    {
      "cell_type": "code",
      "source": [
        "def covariance(X, Y):\n",
        "    n = len(X)\n",
        "    if n != len(Y):\n",
        "        raise ValueError(\"Lists X and Y must have the same length\")\n",
        "\n",
        "    mean_X = sum(X) / n\n",
        "    mean_Y = sum(Y) / n\n",
        "\n",
        "    cov = sum((X[i] - mean_X) * (Y[i] - mean_Y) for i in range(n)) / (n - 1)\n",
        "    return cov\n",
        "\n",
        "# Example usage:\n",
        "X = [1, 2, 3, 4, 5]\n",
        "Y = [5, 4, 3, 2, 1]\n",
        "\n",
        "covariance_value = covariance(X, Y)\n",
        "print(f\"Covariance between X and Y: {covariance_value}\")\n"
      ],
      "metadata": {
        "colab": {
          "base_uri": "https://localhost:8080/"
        },
        "id": "pO4w2252YFit",
        "outputId": "217fd0e0-7d37-4610-ec90-bbae6013b2af"
      },
      "execution_count": 2,
      "outputs": [
        {
          "output_type": "stream",
          "name": "stdout",
          "text": [
            "Covariance between X and Y: -2.5\n"
          ]
        }
      ]
    },
    {
      "cell_type": "markdown",
      "source": [
        "Q4. For a dataset with the following categorical variables: Color (red, green, blue), Size (small, medium,\n",
        "large), and Material (wood, metal, plastic), perform label encoding using Python's scikit-learn library.\n",
        "Show your code and explain the output."
      ],
      "metadata": {
        "id": "wh7eioeAZT_p"
      }
    },
    {
      "cell_type": "code",
      "source": [
        "from sklearn.preprocessing import LabelEncoder\n",
        "import pandas as pd\n",
        "\n",
        "# Example dataset\n",
        "data = {\n",
        "    'Color': ['red', 'green', 'blue', 'green', 'red'],\n",
        "    'Size': ['small', 'medium', 'large', 'small', 'large'],\n",
        "    'Material': ['wood', 'metal', 'plastic', 'metal', 'plastic']\n",
        "}\n",
        "df = pd.DataFrame(data)\n",
        "# Initialize LabelEncoder\n",
        "label_encoder = LabelEncoder()\n",
        "\n",
        "# Encode each categorical column\n",
        "df['Color_encoded'] = label_encoder.fit_transform(df['Color'])\n",
        "df['Size_encoded'] = label_encoder.fit_transform(df['Size'])\n",
        "df['Material_encoded'] = label_encoder.fit_transform(df['Material'])\n",
        "\n",
        "print(df)\n"
      ],
      "metadata": {
        "colab": {
          "base_uri": "https://localhost:8080/"
        },
        "id": "QF-nm1elYvWj",
        "outputId": "71cd2cb9-62d2-41d3-c1b4-e734f751b2b0"
      },
      "execution_count": 7,
      "outputs": [
        {
          "output_type": "stream",
          "name": "stdout",
          "text": [
            "   Color    Size Material  Color_encoded  Size_encoded  Material_encoded\n",
            "0    red   small     wood              2             2                 2\n",
            "1  green  medium    metal              1             1                 0\n",
            "2   blue   large  plastic              0             0                 1\n",
            "3  green   small    metal              1             2                 0\n",
            "4    red   large  plastic              2             0                 1\n"
          ]
        }
      ]
    },
    {
      "cell_type": "code",
      "source": [
        "df"
      ],
      "metadata": {
        "colab": {
          "base_uri": "https://localhost:8080/",
          "height": 206
        },
        "id": "-5v5FGxeawyy",
        "outputId": "3ee7500a-6aed-42de-c085-eaf752861333"
      },
      "execution_count": 4,
      "outputs": [
        {
          "output_type": "execute_result",
          "data": {
            "text/plain": [
              "   Color    Size Material\n",
              "0    red   small     wood\n",
              "1  green  medium    metal\n",
              "2   blue   large  plastic\n",
              "3  green   small    metal\n",
              "4    red   large  plastic"
            ],
            "text/html": [
              "\n",
              "  <div id=\"df-7d310188-25fb-42ea-85ae-1716dee3b0a1\" class=\"colab-df-container\">\n",
              "    <div>\n",
              "<style scoped>\n",
              "    .dataframe tbody tr th:only-of-type {\n",
              "        vertical-align: middle;\n",
              "    }\n",
              "\n",
              "    .dataframe tbody tr th {\n",
              "        vertical-align: top;\n",
              "    }\n",
              "\n",
              "    .dataframe thead th {\n",
              "        text-align: right;\n",
              "    }\n",
              "</style>\n",
              "<table border=\"1\" class=\"dataframe\">\n",
              "  <thead>\n",
              "    <tr style=\"text-align: right;\">\n",
              "      <th></th>\n",
              "      <th>Color</th>\n",
              "      <th>Size</th>\n",
              "      <th>Material</th>\n",
              "    </tr>\n",
              "  </thead>\n",
              "  <tbody>\n",
              "    <tr>\n",
              "      <th>0</th>\n",
              "      <td>red</td>\n",
              "      <td>small</td>\n",
              "      <td>wood</td>\n",
              "    </tr>\n",
              "    <tr>\n",
              "      <th>1</th>\n",
              "      <td>green</td>\n",
              "      <td>medium</td>\n",
              "      <td>metal</td>\n",
              "    </tr>\n",
              "    <tr>\n",
              "      <th>2</th>\n",
              "      <td>blue</td>\n",
              "      <td>large</td>\n",
              "      <td>plastic</td>\n",
              "    </tr>\n",
              "    <tr>\n",
              "      <th>3</th>\n",
              "      <td>green</td>\n",
              "      <td>small</td>\n",
              "      <td>metal</td>\n",
              "    </tr>\n",
              "    <tr>\n",
              "      <th>4</th>\n",
              "      <td>red</td>\n",
              "      <td>large</td>\n",
              "      <td>plastic</td>\n",
              "    </tr>\n",
              "  </tbody>\n",
              "</table>\n",
              "</div>\n",
              "    <div class=\"colab-df-buttons\">\n",
              "\n",
              "  <div class=\"colab-df-container\">\n",
              "    <button class=\"colab-df-convert\" onclick=\"convertToInteractive('df-7d310188-25fb-42ea-85ae-1716dee3b0a1')\"\n",
              "            title=\"Convert this dataframe to an interactive table.\"\n",
              "            style=\"display:none;\">\n",
              "\n",
              "  <svg xmlns=\"http://www.w3.org/2000/svg\" height=\"24px\" viewBox=\"0 -960 960 960\">\n",
              "    <path d=\"M120-120v-720h720v720H120Zm60-500h600v-160H180v160Zm220 220h160v-160H400v160Zm0 220h160v-160H400v160ZM180-400h160v-160H180v160Zm440 0h160v-160H620v160ZM180-180h160v-160H180v160Zm440 0h160v-160H620v160Z\"/>\n",
              "  </svg>\n",
              "    </button>\n",
              "\n",
              "  <style>\n",
              "    .colab-df-container {\n",
              "      display:flex;\n",
              "      gap: 12px;\n",
              "    }\n",
              "\n",
              "    .colab-df-convert {\n",
              "      background-color: #E8F0FE;\n",
              "      border: none;\n",
              "      border-radius: 50%;\n",
              "      cursor: pointer;\n",
              "      display: none;\n",
              "      fill: #1967D2;\n",
              "      height: 32px;\n",
              "      padding: 0 0 0 0;\n",
              "      width: 32px;\n",
              "    }\n",
              "\n",
              "    .colab-df-convert:hover {\n",
              "      background-color: #E2EBFA;\n",
              "      box-shadow: 0px 1px 2px rgba(60, 64, 67, 0.3), 0px 1px 3px 1px rgba(60, 64, 67, 0.15);\n",
              "      fill: #174EA6;\n",
              "    }\n",
              "\n",
              "    .colab-df-buttons div {\n",
              "      margin-bottom: 4px;\n",
              "    }\n",
              "\n",
              "    [theme=dark] .colab-df-convert {\n",
              "      background-color: #3B4455;\n",
              "      fill: #D2E3FC;\n",
              "    }\n",
              "\n",
              "    [theme=dark] .colab-df-convert:hover {\n",
              "      background-color: #434B5C;\n",
              "      box-shadow: 0px 1px 3px 1px rgba(0, 0, 0, 0.15);\n",
              "      filter: drop-shadow(0px 1px 2px rgba(0, 0, 0, 0.3));\n",
              "      fill: #FFFFFF;\n",
              "    }\n",
              "  </style>\n",
              "\n",
              "    <script>\n",
              "      const buttonEl =\n",
              "        document.querySelector('#df-7d310188-25fb-42ea-85ae-1716dee3b0a1 button.colab-df-convert');\n",
              "      buttonEl.style.display =\n",
              "        google.colab.kernel.accessAllowed ? 'block' : 'none';\n",
              "\n",
              "      async function convertToInteractive(key) {\n",
              "        const element = document.querySelector('#df-7d310188-25fb-42ea-85ae-1716dee3b0a1');\n",
              "        const dataTable =\n",
              "          await google.colab.kernel.invokeFunction('convertToInteractive',\n",
              "                                                    [key], {});\n",
              "        if (!dataTable) return;\n",
              "\n",
              "        const docLinkHtml = 'Like what you see? Visit the ' +\n",
              "          '<a target=\"_blank\" href=https://colab.research.google.com/notebooks/data_table.ipynb>data table notebook</a>'\n",
              "          + ' to learn more about interactive tables.';\n",
              "        element.innerHTML = '';\n",
              "        dataTable['output_type'] = 'display_data';\n",
              "        await google.colab.output.renderOutput(dataTable, element);\n",
              "        const docLink = document.createElement('div');\n",
              "        docLink.innerHTML = docLinkHtml;\n",
              "        element.appendChild(docLink);\n",
              "      }\n",
              "    </script>\n",
              "  </div>\n",
              "\n",
              "\n",
              "<div id=\"df-c6305288-12ae-4f50-974b-bcb9346d7f48\">\n",
              "  <button class=\"colab-df-quickchart\" onclick=\"quickchart('df-c6305288-12ae-4f50-974b-bcb9346d7f48')\"\n",
              "            title=\"Suggest charts\"\n",
              "            style=\"display:none;\">\n",
              "\n",
              "<svg xmlns=\"http://www.w3.org/2000/svg\" height=\"24px\"viewBox=\"0 0 24 24\"\n",
              "     width=\"24px\">\n",
              "    <g>\n",
              "        <path d=\"M19 3H5c-1.1 0-2 .9-2 2v14c0 1.1.9 2 2 2h14c1.1 0 2-.9 2-2V5c0-1.1-.9-2-2-2zM9 17H7v-7h2v7zm4 0h-2V7h2v10zm4 0h-2v-4h2v4z\"/>\n",
              "    </g>\n",
              "</svg>\n",
              "  </button>\n",
              "\n",
              "<style>\n",
              "  .colab-df-quickchart {\n",
              "      --bg-color: #E8F0FE;\n",
              "      --fill-color: #1967D2;\n",
              "      --hover-bg-color: #E2EBFA;\n",
              "      --hover-fill-color: #174EA6;\n",
              "      --disabled-fill-color: #AAA;\n",
              "      --disabled-bg-color: #DDD;\n",
              "  }\n",
              "\n",
              "  [theme=dark] .colab-df-quickchart {\n",
              "      --bg-color: #3B4455;\n",
              "      --fill-color: #D2E3FC;\n",
              "      --hover-bg-color: #434B5C;\n",
              "      --hover-fill-color: #FFFFFF;\n",
              "      --disabled-bg-color: #3B4455;\n",
              "      --disabled-fill-color: #666;\n",
              "  }\n",
              "\n",
              "  .colab-df-quickchart {\n",
              "    background-color: var(--bg-color);\n",
              "    border: none;\n",
              "    border-radius: 50%;\n",
              "    cursor: pointer;\n",
              "    display: none;\n",
              "    fill: var(--fill-color);\n",
              "    height: 32px;\n",
              "    padding: 0;\n",
              "    width: 32px;\n",
              "  }\n",
              "\n",
              "  .colab-df-quickchart:hover {\n",
              "    background-color: var(--hover-bg-color);\n",
              "    box-shadow: 0 1px 2px rgba(60, 64, 67, 0.3), 0 1px 3px 1px rgba(60, 64, 67, 0.15);\n",
              "    fill: var(--button-hover-fill-color);\n",
              "  }\n",
              "\n",
              "  .colab-df-quickchart-complete:disabled,\n",
              "  .colab-df-quickchart-complete:disabled:hover {\n",
              "    background-color: var(--disabled-bg-color);\n",
              "    fill: var(--disabled-fill-color);\n",
              "    box-shadow: none;\n",
              "  }\n",
              "\n",
              "  .colab-df-spinner {\n",
              "    border: 2px solid var(--fill-color);\n",
              "    border-color: transparent;\n",
              "    border-bottom-color: var(--fill-color);\n",
              "    animation:\n",
              "      spin 1s steps(1) infinite;\n",
              "  }\n",
              "\n",
              "  @keyframes spin {\n",
              "    0% {\n",
              "      border-color: transparent;\n",
              "      border-bottom-color: var(--fill-color);\n",
              "      border-left-color: var(--fill-color);\n",
              "    }\n",
              "    20% {\n",
              "      border-color: transparent;\n",
              "      border-left-color: var(--fill-color);\n",
              "      border-top-color: var(--fill-color);\n",
              "    }\n",
              "    30% {\n",
              "      border-color: transparent;\n",
              "      border-left-color: var(--fill-color);\n",
              "      border-top-color: var(--fill-color);\n",
              "      border-right-color: var(--fill-color);\n",
              "    }\n",
              "    40% {\n",
              "      border-color: transparent;\n",
              "      border-right-color: var(--fill-color);\n",
              "      border-top-color: var(--fill-color);\n",
              "    }\n",
              "    60% {\n",
              "      border-color: transparent;\n",
              "      border-right-color: var(--fill-color);\n",
              "    }\n",
              "    80% {\n",
              "      border-color: transparent;\n",
              "      border-right-color: var(--fill-color);\n",
              "      border-bottom-color: var(--fill-color);\n",
              "    }\n",
              "    90% {\n",
              "      border-color: transparent;\n",
              "      border-bottom-color: var(--fill-color);\n",
              "    }\n",
              "  }\n",
              "</style>\n",
              "\n",
              "  <script>\n",
              "    async function quickchart(key) {\n",
              "      const quickchartButtonEl =\n",
              "        document.querySelector('#' + key + ' button');\n",
              "      quickchartButtonEl.disabled = true;  // To prevent multiple clicks.\n",
              "      quickchartButtonEl.classList.add('colab-df-spinner');\n",
              "      try {\n",
              "        const charts = await google.colab.kernel.invokeFunction(\n",
              "            'suggestCharts', [key], {});\n",
              "      } catch (error) {\n",
              "        console.error('Error during call to suggestCharts:', error);\n",
              "      }\n",
              "      quickchartButtonEl.classList.remove('colab-df-spinner');\n",
              "      quickchartButtonEl.classList.add('colab-df-quickchart-complete');\n",
              "    }\n",
              "    (() => {\n",
              "      let quickchartButtonEl =\n",
              "        document.querySelector('#df-c6305288-12ae-4f50-974b-bcb9346d7f48 button');\n",
              "      quickchartButtonEl.style.display =\n",
              "        google.colab.kernel.accessAllowed ? 'block' : 'none';\n",
              "    })();\n",
              "  </script>\n",
              "</div>\n",
              "\n",
              "  <div id=\"id_3c27552b-807f-4cb0-889a-c5caf1f57578\">\n",
              "    <style>\n",
              "      .colab-df-generate {\n",
              "        background-color: #E8F0FE;\n",
              "        border: none;\n",
              "        border-radius: 50%;\n",
              "        cursor: pointer;\n",
              "        display: none;\n",
              "        fill: #1967D2;\n",
              "        height: 32px;\n",
              "        padding: 0 0 0 0;\n",
              "        width: 32px;\n",
              "      }\n",
              "\n",
              "      .colab-df-generate:hover {\n",
              "        background-color: #E2EBFA;\n",
              "        box-shadow: 0px 1px 2px rgba(60, 64, 67, 0.3), 0px 1px 3px 1px rgba(60, 64, 67, 0.15);\n",
              "        fill: #174EA6;\n",
              "      }\n",
              "\n",
              "      [theme=dark] .colab-df-generate {\n",
              "        background-color: #3B4455;\n",
              "        fill: #D2E3FC;\n",
              "      }\n",
              "\n",
              "      [theme=dark] .colab-df-generate:hover {\n",
              "        background-color: #434B5C;\n",
              "        box-shadow: 0px 1px 3px 1px rgba(0, 0, 0, 0.15);\n",
              "        filter: drop-shadow(0px 1px 2px rgba(0, 0, 0, 0.3));\n",
              "        fill: #FFFFFF;\n",
              "      }\n",
              "    </style>\n",
              "    <button class=\"colab-df-generate\" onclick=\"generateWithVariable('df')\"\n",
              "            title=\"Generate code using this dataframe.\"\n",
              "            style=\"display:none;\">\n",
              "\n",
              "  <svg xmlns=\"http://www.w3.org/2000/svg\" height=\"24px\"viewBox=\"0 0 24 24\"\n",
              "       width=\"24px\">\n",
              "    <path d=\"M7,19H8.4L18.45,9,17,7.55,7,17.6ZM5,21V16.75L18.45,3.32a2,2,0,0,1,2.83,0l1.4,1.43a1.91,1.91,0,0,1,.58,1.4,1.91,1.91,0,0,1-.58,1.4L9.25,21ZM18.45,9,17,7.55Zm-12,3A5.31,5.31,0,0,0,4.9,8.1,5.31,5.31,0,0,0,1,6.5,5.31,5.31,0,0,0,4.9,4.9,5.31,5.31,0,0,0,6.5,1,5.31,5.31,0,0,0,8.1,4.9,5.31,5.31,0,0,0,12,6.5,5.46,5.46,0,0,0,6.5,12Z\"/>\n",
              "  </svg>\n",
              "    </button>\n",
              "    <script>\n",
              "      (() => {\n",
              "      const buttonEl =\n",
              "        document.querySelector('#id_3c27552b-807f-4cb0-889a-c5caf1f57578 button.colab-df-generate');\n",
              "      buttonEl.style.display =\n",
              "        google.colab.kernel.accessAllowed ? 'block' : 'none';\n",
              "\n",
              "      buttonEl.onclick = () => {\n",
              "        google.colab.notebook.generateWithVariable('df');\n",
              "      }\n",
              "      })();\n",
              "    </script>\n",
              "  </div>\n",
              "\n",
              "    </div>\n",
              "  </div>\n"
            ],
            "application/vnd.google.colaboratory.intrinsic+json": {
              "type": "dataframe",
              "variable_name": "df",
              "summary": "{\n  \"name\": \"df\",\n  \"rows\": 5,\n  \"fields\": [\n    {\n      \"column\": \"Color\",\n      \"properties\": {\n        \"dtype\": \"string\",\n        \"num_unique_values\": 3,\n        \"samples\": [\n          \"red\",\n          \"green\",\n          \"blue\"\n        ],\n        \"semantic_type\": \"\",\n        \"description\": \"\"\n      }\n    },\n    {\n      \"column\": \"Size\",\n      \"properties\": {\n        \"dtype\": \"string\",\n        \"num_unique_values\": 3,\n        \"samples\": [\n          \"small\",\n          \"medium\",\n          \"large\"\n        ],\n        \"semantic_type\": \"\",\n        \"description\": \"\"\n      }\n    },\n    {\n      \"column\": \"Material\",\n      \"properties\": {\n        \"dtype\": \"string\",\n        \"num_unique_values\": 3,\n        \"samples\": [\n          \"wood\",\n          \"metal\",\n          \"plastic\"\n        ],\n        \"semantic_type\": \"\",\n        \"description\": \"\"\n      }\n    }\n  ]\n}"
            }
          },
          "metadata": {},
          "execution_count": 4
        }
      ]
    },
    {
      "cell_type": "code",
      "source": [
        "label_encoder"
      ],
      "metadata": {
        "colab": {
          "base_uri": "https://localhost:8080/",
          "height": 74
        },
        "id": "-_ls83TsbAWI",
        "outputId": "edb9e490-6308-4686-f7ae-d3655a3693f0"
      },
      "execution_count": 6,
      "outputs": [
        {
          "output_type": "execute_result",
          "data": {
            "text/plain": [
              "LabelEncoder()"
            ],
            "text/html": [
              "<style>#sk-container-id-1 {color: black;background-color: white;}#sk-container-id-1 pre{padding: 0;}#sk-container-id-1 div.sk-toggleable {background-color: white;}#sk-container-id-1 label.sk-toggleable__label {cursor: pointer;display: block;width: 100%;margin-bottom: 0;padding: 0.3em;box-sizing: border-box;text-align: center;}#sk-container-id-1 label.sk-toggleable__label-arrow:before {content: \"▸\";float: left;margin-right: 0.25em;color: #696969;}#sk-container-id-1 label.sk-toggleable__label-arrow:hover:before {color: black;}#sk-container-id-1 div.sk-estimator:hover label.sk-toggleable__label-arrow:before {color: black;}#sk-container-id-1 div.sk-toggleable__content {max-height: 0;max-width: 0;overflow: hidden;text-align: left;background-color: #f0f8ff;}#sk-container-id-1 div.sk-toggleable__content pre {margin: 0.2em;color: black;border-radius: 0.25em;background-color: #f0f8ff;}#sk-container-id-1 input.sk-toggleable__control:checked~div.sk-toggleable__content {max-height: 200px;max-width: 100%;overflow: auto;}#sk-container-id-1 input.sk-toggleable__control:checked~label.sk-toggleable__label-arrow:before {content: \"▾\";}#sk-container-id-1 div.sk-estimator input.sk-toggleable__control:checked~label.sk-toggleable__label {background-color: #d4ebff;}#sk-container-id-1 div.sk-label input.sk-toggleable__control:checked~label.sk-toggleable__label {background-color: #d4ebff;}#sk-container-id-1 input.sk-hidden--visually {border: 0;clip: rect(1px 1px 1px 1px);clip: rect(1px, 1px, 1px, 1px);height: 1px;margin: -1px;overflow: hidden;padding: 0;position: absolute;width: 1px;}#sk-container-id-1 div.sk-estimator {font-family: monospace;background-color: #f0f8ff;border: 1px dotted black;border-radius: 0.25em;box-sizing: border-box;margin-bottom: 0.5em;}#sk-container-id-1 div.sk-estimator:hover {background-color: #d4ebff;}#sk-container-id-1 div.sk-parallel-item::after {content: \"\";width: 100%;border-bottom: 1px solid gray;flex-grow: 1;}#sk-container-id-1 div.sk-label:hover label.sk-toggleable__label {background-color: #d4ebff;}#sk-container-id-1 div.sk-serial::before {content: \"\";position: absolute;border-left: 1px solid gray;box-sizing: border-box;top: 0;bottom: 0;left: 50%;z-index: 0;}#sk-container-id-1 div.sk-serial {display: flex;flex-direction: column;align-items: center;background-color: white;padding-right: 0.2em;padding-left: 0.2em;position: relative;}#sk-container-id-1 div.sk-item {position: relative;z-index: 1;}#sk-container-id-1 div.sk-parallel {display: flex;align-items: stretch;justify-content: center;background-color: white;position: relative;}#sk-container-id-1 div.sk-item::before, #sk-container-id-1 div.sk-parallel-item::before {content: \"\";position: absolute;border-left: 1px solid gray;box-sizing: border-box;top: 0;bottom: 0;left: 50%;z-index: -1;}#sk-container-id-1 div.sk-parallel-item {display: flex;flex-direction: column;z-index: 1;position: relative;background-color: white;}#sk-container-id-1 div.sk-parallel-item:first-child::after {align-self: flex-end;width: 50%;}#sk-container-id-1 div.sk-parallel-item:last-child::after {align-self: flex-start;width: 50%;}#sk-container-id-1 div.sk-parallel-item:only-child::after {width: 0;}#sk-container-id-1 div.sk-dashed-wrapped {border: 1px dashed gray;margin: 0 0.4em 0.5em 0.4em;box-sizing: border-box;padding-bottom: 0.4em;background-color: white;}#sk-container-id-1 div.sk-label label {font-family: monospace;font-weight: bold;display: inline-block;line-height: 1.2em;}#sk-container-id-1 div.sk-label-container {text-align: center;}#sk-container-id-1 div.sk-container {/* jupyter's `normalize.less` sets `[hidden] { display: none; }` but bootstrap.min.css set `[hidden] { display: none !important; }` so we also need the `!important` here to be able to override the default hidden behavior on the sphinx rendered scikit-learn.org. See: https://github.com/scikit-learn/scikit-learn/issues/21755 */display: inline-block !important;position: relative;}#sk-container-id-1 div.sk-text-repr-fallback {display: none;}</style><div id=\"sk-container-id-1\" class=\"sk-top-container\"><div class=\"sk-text-repr-fallback\"><pre>LabelEncoder()</pre><b>In a Jupyter environment, please rerun this cell to show the HTML representation or trust the notebook. <br />On GitHub, the HTML representation is unable to render, please try loading this page with nbviewer.org.</b></div><div class=\"sk-container\" hidden><div class=\"sk-item\"><div class=\"sk-estimator sk-toggleable\"><input class=\"sk-toggleable__control sk-hidden--visually\" id=\"sk-estimator-id-1\" type=\"checkbox\" checked><label for=\"sk-estimator-id-1\" class=\"sk-toggleable__label sk-toggleable__label-arrow\">LabelEncoder</label><div class=\"sk-toggleable__content\"><pre>LabelEncoder()</pre></div></div></div></div></div>"
            ]
          },
          "metadata": {},
          "execution_count": 6
        }
      ]
    },
    {
      "cell_type": "markdown",
      "source": [
        "Q5. Calculate the covariance matrix for the following variables in a dataset: Age, Income, and Education\n",
        "level. Interpret the results."
      ],
      "metadata": {
        "id": "gEJrQPvvawg-"
      }
    },
    {
      "cell_type": "code",
      "source": [
        "import numpy as np\n",
        "\n",
        "# Example data (replace with your actual dataset)\n",
        "age = [30, 40, 35, 28, 45]\n",
        "income = [60000, 80000, 70000, 55000, 90000]\n",
        "education = [12, 16, 14, 10, 18]\n",
        "\n",
        "# Create a matrix with the three variables\n",
        "data_matrix = np.array([age, income, education])\n",
        "\n",
        "# Calculate the covariance matrix\n",
        "cov_matrix = np.cov(data_matrix)\n",
        "\n",
        "print(cov_matrix)\n"
      ],
      "metadata": {
        "colab": {
          "base_uri": "https://localhost:8080/"
        },
        "id": "CNst6NrZbnT2",
        "outputId": "c0a741a5-efd0-4656-b44f-0cb6b9ec7f67"
      },
      "execution_count": 8,
      "outputs": [
        {
          "output_type": "stream",
          "name": "stdout",
          "text": [
            "[[4.930e+01 1.005e+05 2.200e+01]\n",
            " [1.005e+05 2.050e+08 4.500e+04]\n",
            " [2.200e+01 4.500e+04 1.000e+01]]\n"
          ]
        }
      ]
    },
    {
      "cell_type": "code",
      "source": [
        "data_matrix"
      ],
      "metadata": {
        "colab": {
          "base_uri": "https://localhost:8080/"
        },
        "id": "3V-0yKF3bpTh",
        "outputId": "02e02665-51f1-454e-adb7-8d59bf2daea3"
      },
      "execution_count": 9,
      "outputs": [
        {
          "output_type": "execute_result",
          "data": {
            "text/plain": [
              "array([[   30,    40,    35,    28,    45],\n",
              "       [60000, 80000, 70000, 55000, 90000],\n",
              "       [   12,    16,    14,    10,    18]])"
            ]
          },
          "metadata": {},
          "execution_count": 9
        }
      ]
    },
    {
      "cell_type": "code",
      "source": [],
      "metadata": {
        "id": "Oq8hBHQzbrei"
      },
      "execution_count": null,
      "outputs": []
    },
    {
      "cell_type": "markdown",
      "source": [
        "Q6. You are working on a machine learning project with a dataset containing several categorical\n",
        "variables, including \"Gender\" (Male/Female), \"Education Level\" (High School/Bachelor's/Master's/PhD),\n",
        "and \"Employment Status\" (Unemployed/Part-Time/Full-Time). Which encoding method would you use for\n",
        "each variable, and why?"
      ],
      "metadata": {
        "id": "UNLQaAkJbxOk"
      }
    },
    {
      "cell_type": "markdown",
      "source": [
        "Certainly! Let's discuss the appropriate encoding methods for each of the categorical variables in your dataset:\n",
        "\n",
        "1. **Gender (Binary Encoding):**\n",
        "   - Since \"Gender\" has only two categories (Male and Female), binary encoding is suitable.\n",
        "   - Binary encoding assigns 0 to one category and 1 to the other, creating a compact representation.\n",
        "   - For example:\n",
        "     - Male → 0\n",
        "     - Female → 1\n",
        "\n",
        "2. **Education Level (One-Hot Encoding):**\n",
        "   - \"Education Level\" has multiple unordered categories (High School, Bachelor's, Master's, PhD).\n",
        "   - One-hot encoding creates binary columns for each category, indicating presence (1) or absence (0).\n",
        "   - For example:\n",
        "     - High School → [1, 0, 0, 0]\n",
        "     - Bachelor's → [0, 1, 0, 0]\n",
        "     - Master's → [0, 0, 1, 0]\n",
        "     - PhD → [0, 0, 0, 1]\n",
        "\n",
        "3. **Employment Status (Ordinal Encoding or Custom Mapping):**\n",
        "   - \"Employment Status\" has an inherent order (Unemployed < Part-Time < Full-Time).\n",
        "   - Ordinal encoding assigns integer labels based on the order (e.g., 0, 1, 2).\n",
        "   - Alternatively, you can create a custom mapping (e.g., Unemployed → 0, Part-Time → 1, Full-Time → 2).\n",
        "\n",
        "Remember to choose the encoding method based on the nature of your data and the requirements of your machine learning model! 😊"
      ],
      "metadata": {
        "id": "XjUNSWs-cCGR"
      }
    },
    {
      "cell_type": "code",
      "source": [
        "import pandas as pd\n",
        "from sklearn.preprocessing import OneHotEncoder, OrdinalEncoder\n",
        "\n",
        "# Example dataset\n",
        "data = {\n",
        "    'Gender': ['Male', 'Female', 'Male', 'Female'],\n",
        "    'Education Level': ['Bachelor\\'s', 'Master\\'s', 'PhD', 'High School'],\n",
        "    'Employment Status': ['Full-Time', 'Part-Time', 'Unemployed', 'Full-Time']\n",
        "}\n",
        "\n",
        "df = pd.DataFrame(data)\n",
        "\n",
        "# Binary Encoding for Gender\n",
        "df['Gender'] = df['Gender'].replace({'Male': 0, 'Female': 1})\n",
        "\n",
        "# Ordinal Encoding for Education Level\n",
        "ordinal_encoder = OrdinalEncoder(categories=[['High School', 'Bachelor\\'s', 'Master\\'s', 'PhD']])\n",
        "df['Education Level'] = ordinal_encoder.fit_transform(df[['Education Level']])\n",
        "\n",
        "# One-Hot Encoding for Employment Status\n",
        "encoder = OneHotEncoder(sparse=False, drop='first')\n",
        "employment_encoded = encoder.fit_transform(df[['Employment Status']])\n",
        "employment_encoded_df = pd.DataFrame(employment_encoded, columns=encoder.get_feature_names_out(['Employment Status']))\n",
        "df = pd.concat([df, employment_encoded_df], axis=1)\n",
        "\n",
        "print(df)\n"
      ],
      "metadata": {
        "colab": {
          "base_uri": "https://localhost:8080/"
        },
        "id": "-eYgWWcWcM_e",
        "outputId": "05012ba4-5626-4bd5-ec28-e90bd69afcf7"
      },
      "execution_count": 11,
      "outputs": [
        {
          "output_type": "stream",
          "name": "stdout",
          "text": [
            "   Gender  Education Level Employment Status  Employment Status_Part-Time  \\\n",
            "0       0              1.0         Full-Time                          0.0   \n",
            "1       1              2.0         Part-Time                          1.0   \n",
            "2       0              3.0        Unemployed                          0.0   \n",
            "3       1              0.0         Full-Time                          0.0   \n",
            "\n",
            "   Employment Status_Unemployed  \n",
            "0                           0.0  \n",
            "1                           0.0  \n",
            "2                           1.0  \n",
            "3                           0.0  \n"
          ]
        },
        {
          "output_type": "stream",
          "name": "stderr",
          "text": [
            "/usr/local/lib/python3.10/dist-packages/sklearn/preprocessing/_encoders.py:868: FutureWarning: `sparse` was renamed to `sparse_output` in version 1.2 and will be removed in 1.4. `sparse_output` is ignored unless you leave `sparse` to its default value.\n",
            "  warnings.warn(\n"
          ]
        }
      ]
    },
    {
      "cell_type": "markdown",
      "source": [
        "Q7. You are analyzing a dataset with two continuous variables, \"Temperature\" and \"Humidity\", and two\n",
        "categorical variables, \"Weather Condition\" (Sunny/Cloudy/Rainy) and \"Wind Direction\" (North/South/\n",
        "East/West). Calculate the covariance between each pair of variables and interpret the results."
      ],
      "metadata": {
        "id": "M4mZXqMdczGc"
      }
    },
    {
      "cell_type": "markdown",
      "source": [
        "To calculate the covariance between each pair of variables in your dataset, follow these steps:\n",
        "\n",
        "1. **Pair 1: Temperature and Humidity**\n",
        "   - Let's denote Temperature as \\( X \\) and Humidity as \\( Y \\).\n",
        "   - Calculate the covariance \\( \\text{Cov}(X, Y) \\) using the formula:\n",
        "     \\[\n",
        "     \\text{Cov}(X, Y) = \\frac{1}{n} \\sum_{i=1}^{n} (x_i - \\bar{x})(y_i - \\bar{y})\n",
        "     \\]\n",
        "     where \\( x_i \\) and \\( y_i \\) are individual data points of Temperature and Humidity, respectively, \\( \\bar{x} \\) and \\( \\bar{y} \\) are the means of Temperature and Humidity, and \\( n \\) is the number of data points.\n",
        "\n",
        "2. **Pair 2: Temperature and Weather Condition**\n",
        "   - Temperature (continuous) and Weather Condition (categorical) don't have a straightforward covariance calculation because Weather Condition is categorical. Usually, covariance is computed between two continuous variables.\n",
        "\n",
        "3. **Pair 3: Temperature and Wind Direction**\n",
        "   - Similarly, Temperature (continuous) and Wind Direction (categorical) don't have a direct covariance calculation due to the categorical nature of Wind Direction.\n",
        "\n",
        "4. **Pair 4: Humidity and Weather Condition**\n",
        "   - Again, Humidity (continuous) and Weather Condition (categorical) don't have a direct covariance calculation.\n",
        "\n",
        "5. **Pair 5: Humidity and Wind Direction**\n",
        "   - Humidity (continuous) and Wind Direction (categorical) also don't have a direct covariance calculation.\n",
        "\n",
        "Interpreting covariance:\n",
        "- **Positive Covariance:** Indicates that as one variable increases, the other tends to increase as well.\n",
        "- **Negative Covariance:** Indicates that as one variable increases, the other tends to decrease.\n",
        "- **Zero Covariance:** Indicates no linear relationship between the variables.\n",
        "\n",
        "For categorical variables like Weather Condition and Wind Direction, covariance is not applicable. Instead, you might consider contingency tables or other measures depending on your analysis goals (e.g., chi-square tests for independence).\n",
        "\n",
        "Would you like more specific calculations or interpretations for Temperature and Humidity?"
      ],
      "metadata": {
        "id": "4ue6eRpKdR-l"
      }
    },
    {
      "cell_type": "code",
      "source": [
        "import numpy as np\n",
        "\n",
        "# Sample data (replace with your actual dataset)\n",
        "temperature = np.array([20, 25, 30, 22, 28])  # Example temperatures\n",
        "humidity = np.array([50, 55, 60, 52, 58])     # Example humidities\n",
        "\n",
        "# Calculate covariance\n",
        "covariance = np.cov(temperature, humidity)[0, 1]\n",
        "\n",
        "print(f\"Covariance between Temperature and Humidity: {covariance}\")\n"
      ],
      "metadata": {
        "colab": {
          "base_uri": "https://localhost:8080/"
        },
        "id": "jPfGE8FSdnKA",
        "outputId": "cb248f4c-9127-4186-8cd2-9c9e75347484"
      },
      "execution_count": 12,
      "outputs": [
        {
          "output_type": "stream",
          "name": "stdout",
          "text": [
            "Covariance between Temperature and Humidity: 17.0\n"
          ]
        }
      ]
    },
    {
      "cell_type": "code",
      "source": [
        "def predict_weather(temperature, humidity):\n",
        "    if temperature > 30 and humidity > 60:\n",
        "        return \"Hot and Humid\"\n",
        "    elif temperature > 30 and humidity <= 60:\n",
        "        return \"Hot\"\n",
        "    elif temperature <= 30 and humidity > 60:\n",
        "        return \"Humid\"\n",
        "    else:\n",
        "        return \"Moderate\"\n",
        "\n",
        "# Example usage:\n",
        "temperature = 28  # Example temperature in Celsius\n",
        "humidity = 65     # Example humidity in percentage\n",
        "\n",
        "predicted_weather = predict_weather(temperature, humidity)\n",
        "print(f\"For temperature {temperature}°C and humidity {humidity}%, predicted weather is: {predicted_weather}\")\n"
      ],
      "metadata": {
        "colab": {
          "base_uri": "https://localhost:8080/"
        },
        "id": "Qw1wop1BcjV9",
        "outputId": "e7bb613b-166d-46aa-f531-e949bda0eb06"
      },
      "execution_count": 13,
      "outputs": [
        {
          "output_type": "stream",
          "name": "stdout",
          "text": [
            "For temperature 28°C and humidity 65%, predicted weather is: Humid\n"
          ]
        }
      ]
    },
    {
      "cell_type": "code",
      "source": [],
      "metadata": {
        "id": "qlSDOurEdyPm"
      },
      "execution_count": null,
      "outputs": []
    }
  ]
}