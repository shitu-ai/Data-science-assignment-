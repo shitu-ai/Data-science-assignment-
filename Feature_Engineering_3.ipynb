{
  "nbformat": 4,
  "nbformat_minor": 0,
  "metadata": {
    "colab": {
      "provenance": []
    },
    "kernelspec": {
      "name": "python3",
      "display_name": "Python 3"
    },
    "language_info": {
      "name": "python"
    }
  },
  "cells": [
    {
      "cell_type": "code",
      "execution_count": null,
      "metadata": {
        "id": "2CJ7aXiy2w7x"
      },
      "outputs": [],
      "source": []
    },
    {
      "cell_type": "markdown",
      "source": [
        "Q1. What is Min-Max scaling, and how is it used in data preprocessing? Provide an example to illustrate its\n",
        "application."
      ],
      "metadata": {
        "id": "2jPEEsOU22kP"
      }
    },
    {
      "cell_type": "markdown",
      "source": [
        "Min-Max scaling, also known as normalization, is a data preprocessing technique used to transform the values of numerical features to a specific range, typically between 0 and 1. This is done to ensure that all features contribute equally to the model, preventing features with larger ranges from dominating those with smaller ranges.\n",
        "\n",
        "### Formula\n",
        "The formula for Min-Max scaling is:\n",
        "\n",
        "\\[ X_{scaled} = \\frac{X - X_{min}}{X_{max} - X_{min}} \\]\n",
        "\n",
        "where:\n",
        "- \\( X \\) is the original value.\n",
        "- \\( X_{min} \\) is the minimum value of the feature.\n",
        "- \\( X_{max} \\) is the maximum value of the feature.\n",
        "- \\( X_{scaled} \\) is the scaled value.\n",
        "\n",
        "### Steps\n",
        "1. Identify the minimum and maximum values for each feature in the dataset.\n",
        "2. Apply the Min-Max scaling formula to each value in the feature.\n",
        "\n",
        "### Example\n",
        "Let's consider a simple dataset with one feature:\n",
        "\n",
        "| Original Value |\n",
        "|----------------|\n",
        "| 10             |\n",
        "| 20             |\n",
        "| 30             |\n",
        "| 40             |\n",
        "| 50             |\n",
        "\n",
        "1. **Identify Min and Max:**\n",
        "   - \\( X_{min} = 10 \\)\n",
        "   - \\( X_{max} = 50 \\)\n",
        "\n",
        "2. **Apply Min-Max Scaling:**\n",
        "   - For value 10:\n",
        "     \\[ X_{scaled} = \\frac{10 - 10}{50 - 10} = \\frac{0}{40} = 0 \\]\n",
        "   - For value 20:\n",
        "     \\[ X_{scaled} = \\frac{20 - 10}{50 - 10} = \\frac{10}{40} = 0.25 \\]\n",
        "   - For value 30:\n",
        "     \\[ X_{scaled} = \\frac{30 - 10}{50 - 10} = \\frac{20}{40} = 0.5 \\]\n",
        "   - For value 40:\n",
        "     \\[ X_{scaled} = \\frac{40 - 10}{50 - 10} = \\frac{30}{40} = 0.75 \\]\n",
        "   - For value 50:\n",
        "     \\[ X_{scaled} = \\frac{50 - 10}{50 - 10} = \\frac{40}{40} = 1 \\]\n",
        "\n",
        "The scaled dataset is:\n",
        "\n",
        "| Scaled Value |\n",
        "|--------------|\n",
        "| 0            |\n",
        "| 0.25         |\n",
        "| 0.5          |\n",
        "| 0.75         |\n",
        "| 1            |\n",
        "\n",
        "### Application\n",
        "Min-Max scaling is particularly useful in machine learning algorithms that rely on distance metrics, such as k-nearest neighbors (KNN) and support vector machines (SVM). It helps ensure that all features are on a similar scale, improving the performance and convergence speed of the models."
      ],
      "metadata": {
        "id": "KCZZ0Fsj29BF"
      }
    },
    {
      "cell_type": "markdown",
      "source": [
        "Q2. What is the Unit Vector technique in feature scaling, and how does it differ from Min-Max scaling?\n",
        "Provide an example to illustrate its application."
      ],
      "metadata": {
        "id": "LtppbKY53ln8"
      }
    },
    {
      "cell_type": "markdown",
      "source": [
        "Unit vector scaling ensures that each feature vector has a consistent magnitude, making it useful for algorithms sensitive to feature scales"
      ],
      "metadata": {
        "id": "KZmqxnxz4RAa"
      }
    },
    {
      "cell_type": "markdown",
      "source": [
        "The Unit Vector technique in feature scaling, also known as normalization, involves scaling a dataset to a unit vector where the sum of squares of each data point is equal to 1. This technique ensures that all the values of the features lie within the range [0, 1], but more specifically, it transforms the data into a unit vector.\n",
        "\n",
        "### Unit Vector Technique (Normalization)\n",
        "\n",
        "In mathematical terms, normalization is performed by dividing each element of a vector by the Euclidean norm (L2 norm) of the vector. The formula for normalization of a vector \\( \\mathbf{x} = [x_1, x_2, \\ldots, x_n] \\) is:\n",
        "\n",
        "\\[ \\mathbf{x'} = \\frac{\\mathbf{x}}{\\| \\mathbf{x} \\|_2} = \\frac{\\mathbf{x}}{\\sqrt{x_1^2 + x_2^2 + \\ldots + x_n^2}} \\]\n",
        "\n",
        "### Min-Max Scaling\n",
        "\n",
        "Min-Max scaling, on the other hand, transforms the data to fit within a given range, usually [0, 1]. This is done by subtracting the minimum value of the feature and then dividing by the range (maximum - minimum). The formula for Min-Max scaling is:\n",
        "\n",
        "\\[ x' = \\frac{x - \\min(x)}{\\max(x) - \\min(x)} \\]\n",
        "\n",
        "### Differences Between Unit Vector Technique and Min-Max Scaling\n",
        "\n",
        "- **Range**: Min-Max scaling transforms the data to a specified range [0, 1] or [-1, 1], whereas normalization transforms the data to have a unit norm.\n",
        "- **Magnitude**: Normalization is useful when the magnitude of the vector is important and needs to be preserved relative to other vectors. Min-Max scaling focuses more on the relative differences between data points.\n",
        "\n",
        "### Example\n",
        "\n",
        "Consider the following dataset:\n",
        "\\[ \\mathbf{x} = [1, 2, 3, 4, 5] \\]\n",
        "\n",
        "#### Unit Vector Technique\n",
        "\n",
        "First, we calculate the Euclidean norm of \\( \\mathbf{x} \\):\n",
        "\n",
        "\\[ \\| \\mathbf{x} \\|_2 = \\sqrt{1^2 + 2^2 + 3^2 + 4^2 + 5^2} = \\sqrt{55} \\]\n",
        "\n",
        "Then, we normalize \\( \\mathbf{x} \\):\n",
        "\n",
        "\\[ \\mathbf{x'} = \\frac{\\mathbf{x}}{\\sqrt{55}} = \\left[ \\frac{1}{\\sqrt{55}}, \\frac{2}{\\sqrt{55}}, \\frac{3}{\\sqrt{55}}, \\frac{4}{\\sqrt{55}}, \\frac{5}{\\sqrt{55}} \\right] \\]\n",
        "\n",
        "\\[ \\mathbf{x'} \\approx [0.13, 0.27, 0.40, 0.54, 0.67] \\]\n",
        "\n",
        "#### Min-Max Scaling\n",
        "\n",
        "For Min-Max scaling, we use the min and max values of \\( \\mathbf{x} \\):\n",
        "\n",
        "\\[ \\min(x) = 1, \\max(x) = 5 \\]\n",
        "\n",
        "Then, we scale \\( \\mathbf{x} \\):\n",
        "\n",
        "\\[ x' = \\frac{x - 1}{5 - 1} = \\frac{x - 1}{4} \\]\n",
        "\n",
        "\\[ \\mathbf{x'} = \\left[ \\frac{1-1}{4}, \\frac{2-1}{4}, \\frac{3-1}{4}, \\frac{4-1}{4}, \\frac{5-1}{4} \\right] = [0, 0.25, 0.5, 0.75, 1] \\]\n",
        "\n",
        "### Summary\n",
        "\n",
        "- **Unit Vector (Normalization)**: Transforms data to have a unit norm.\n",
        "- **Min-Max Scaling**: Transforms data to a specified range, typically [0, 1].\n",
        "\n",
        "Each technique has its use cases and can be chosen based on the specific requirements of the analysis or machine learning algorithm being used."
      ],
      "metadata": {
        "id": "LBr9iIdm4kpL"
      }
    },
    {
      "cell_type": "markdown",
      "source": [
        "Q3. What is PCA (Principle Component Analysis), and how is it used in dimensionality reduction? Provide an\n",
        "example to illustrate its application."
      ],
      "metadata": {
        "id": "mA5zz6M049u9"
      }
    },
    {
      "cell_type": "markdown",
      "source": [
        "Principal Component Analysis (PCA) is a statistical technique used for dimensionality reduction. It transforms a large set of variables into a smaller one that still contains most of the information in the large set. This is achieved by identifying the principal components, which are the directions in which the data varies the most.\n",
        "\n",
        "### How PCA Works:\n",
        "\n",
        "1. **Standardize the Data:** Since PCA is affected by the scale of the data, the data is often standardized to have a mean of 0 and a standard deviation of 1.\n",
        "\n",
        "2. **Covariance Matrix Computation:** Calculate the covariance matrix to understand how the variables in the dataset relate to each other.\n",
        "\n",
        "3. **Eigenvalues and Eigenvectors:** Compute the eigenvalues and eigenvectors of the covariance matrix. The eigenvectors represent the directions of the principal components, while the eigenvalues represent the magnitude of these components.\n",
        "\n",
        "4. **Sort Eigenvalues and Eigenvectors:** Sort the eigenvalues and their corresponding eigenvectors in descending order. The eigenvector with the highest eigenvalue is the first principal component.\n",
        "\n",
        "5. **Projection Onto Principal Components:** Transform the original data into the new space defined by the principal components, reducing the number of dimensions.\n",
        "\n",
        "### Example of PCA Application:\n",
        "\n",
        "Imagine you have a dataset of student scores in three subjects: Math, Science, and English. You want to reduce this three-dimensional data into two dimensions to visualize the performance more easily.\n",
        "\n",
        "1. **Standardize the Data:**\n",
        "   - Calculate the mean and standard deviation for each subject.\n",
        "   - Standardize each score by subtracting the mean and dividing by the standard deviation.\n",
        "\n",
        "2. **Compute the Covariance Matrix:**\n",
        "   \\[\n",
        "   \\text{Cov} =\n",
        "   \\begin{bmatrix}\n",
        "   \\text{Var}(Math) & \\text{Cov}(Math, Science) & \\text{Cov}(Math, English) \\\\\n",
        "   \\text{Cov}(Science, Math) & \\text{Var}(Science) & \\text{Cov}(Science, English) \\\\\n",
        "   \\text{Cov}(English, Math) & \\text{Cov}(English, Science) & \\text{Var}(English)\n",
        "   \\end{bmatrix}\n",
        "   \\]\n",
        "\n",
        "3. **Calculate Eigenvalues and Eigenvectors:**\n",
        "   - Solve the equation \\(Cov \\times V = \\lambda \\times V\\) to get the eigenvalues (\\(\\lambda\\)) and eigenvectors (V).\n",
        "\n",
        "4. **Sort and Select Principal Components:**\n",
        "   - Sort the eigenvalues in descending order and select the top 2 eigenvalues and their corresponding eigenvectors.\n",
        "\n",
        "5. **Transform the Data:**\n",
        "   - Multiply the original standardized data by the selected eigenvectors to obtain the new 2-dimensional data.\n",
        "\n",
        "### Visualizing the Result:\n",
        "\n",
        "Let's say after applying PCA, the first principal component captures the overall performance trend, while the second captures the variance between subjects. You can plot the students in this new 2D space, where each point represents a student's performance in a reduced dimension. This helps in visualizing clusters, outliers, and patterns more effectively than in the original 3D space.\n",
        "\n",
        "PCA is widely used in fields such as image processing, genomics, and finance to simplify data, speed up algorithms, and reduce noise without losing critical information."
      ],
      "metadata": {
        "id": "Q1ThyywI5Dof"
      }
    },
    {
      "cell_type": "markdown",
      "source": [
        "Q4. What is the relationship between PCA and Feature Extraction, and how can PCA be used for Feature\n",
        "Extraction? Provide an example to illustrate this concept."
      ],
      "metadata": {
        "id": "Wu2z9qqf5c2G"
      }
    },
    {
      "cell_type": "markdown",
      "source": [
        "Principal Component Analysis (PCA) is a statistical technique that is commonly used for feature extraction in data analysis. Feature extraction is the process of transforming the data into a set of features that better describe the data and often result in a lower-dimensional representation. PCA achieves this by identifying the principal components, which are the directions in which the data varies the most.\n",
        "\n",
        "### Relationship Between PCA and Feature Extraction\n",
        "\n",
        "PCA is directly related to feature extraction in the following ways:\n",
        "\n",
        "1. **Dimensionality Reduction**: PCA reduces the number of features while retaining the most important information from the original dataset. This is achieved by transforming the original features into a new set of orthogonal features (principal components) that capture the maximum variance in the data.\n",
        "\n",
        "2. **Data Interpretation**: PCA simplifies the complexity of high-dimensional data by transforming it into a lower-dimensional form, making it easier to visualize and interpret.\n",
        "\n",
        "3. **Noise Reduction**: By focusing on the components with the highest variance, PCA can help reduce the impact of noise and less important variations in the data.\n",
        "\n",
        "### How PCA is Used for Feature Extraction\n",
        "\n",
        "PCA can be used for feature extraction through the following steps:\n",
        "\n",
        "1. **Standardize the Data**: Since PCA is affected by the scale of the data, standardizing the dataset to have zero mean and unit variance is often the first step.\n",
        "   \n",
        "2. **Compute the Covariance Matrix**: The covariance matrix of the data is computed to understand how the variables are varying from the mean with respect to each other.\n",
        "\n",
        "3. **Calculate the Eigenvalues and Eigenvectors**: The eigenvalues and eigenvectors of the covariance matrix are calculated. The eigenvectors (principal components) represent the directions of maximum variance, and the eigenvalues indicate the magnitude of the variance in these directions.\n",
        "\n",
        "4. **Select Principal Components**: The principal components are sorted in order of decreasing eigenvalues, and a subset of the components that explain a significant portion of the variance is selected.\n",
        "\n",
        "5. **Transform the Data**: The original data is projected onto the selected principal components to obtain the new set of features.\n",
        "\n",
        "### Example of PCA for Feature Extraction\n",
        "\n",
        "Consider a dataset with two features, `X1` and `X2`. Here is a simple example illustrating PCA:\n",
        "\n",
        "1. **Standardize the Data**:\n",
        "   Suppose the standardized data matrix \\(X\\) is:\n",
        "   \\[\n",
        "   X = \\begin{pmatrix}\n",
        "   2.5 & 2.4 \\\\\n",
        "   0.5 & 0.7 \\\\\n",
        "   2.2 & 2.9 \\\\\n",
        "   1.9 & 2.2 \\\\\n",
        "   3.1 & 3.0 \\\\\n",
        "   2.3 & 2.7 \\\\\n",
        "   2 & 1.6 \\\\\n",
        "   1 & 1.1 \\\\\n",
        "   1.5 & 1.6 \\\\\n",
        "   1.1 & 0.9\n",
        "   \\end{pmatrix}\n",
        "   \\]\n",
        "\n",
        "2. **Compute the Covariance Matrix**:\n",
        "   \\[\n",
        "   \\text{Cov}(X) = \\begin{pmatrix}\n",
        "   0.61655556 & 0.61544444 \\\\\n",
        "   0.61544444 & 0.71655556\n",
        "   \\end{pmatrix}\n",
        "   \\]\n",
        "\n",
        "3. **Calculate Eigenvalues and Eigenvectors**:\n",
        "   Eigenvalues: \\(\\lambda_1 = 1.28402771, \\lambda_2 = 0.04908339\\)  \n",
        "   Eigenvectors:\n",
        "   \\[\n",
        "   \\text{Eigenvector}_1 = \\begin{pmatrix}\n",
        "   0.6778734 \\\\\n",
        "   0.73517866\n",
        "   \\end{pmatrix}, \\quad\n",
        "   \\text{Eigenvector}_2 = \\begin{pmatrix}\n",
        "   -0.73517866 \\\\\n",
        "   0.6778734\n",
        "   \\end{pmatrix}\n",
        "   \\]\n",
        "\n",
        "4. **Select Principal Components**:\n",
        "   Choose the eigenvector corresponding to the largest eigenvalue as the principal component.\n",
        "\n",
        "5. **Transform the Data**:\n",
        "   Project the data onto the principal component:\n",
        "   \\[\n",
        "   X' = X \\times \\text{Eigenvector}_1\n",
        "   \\]\n",
        "   The resulting transformed data matrix \\(X'\\) will be a single feature representing the original data in terms of the principal component with the highest variance.\n",
        "\n",
        "This simplified example demonstrates how PCA can reduce the dimensionality of the dataset from two features to one while retaining most of the variance in the data. In practice, PCA can be applied to datasets with many features, and the number of principal components selected depends on the desired level of variance to be retained."
      ],
      "metadata": {
        "id": "_sEZfSSb5jYC"
      }
    },
    {
      "cell_type": "markdown",
      "source": [
        "Q5. You are working on a project to build a recommendation system for a food delivery service. The dataset\n",
        "contains features such as price, rating, and delivery time. Explain how you would use Min-Max scaling to\n",
        "preprocess the data."
      ],
      "metadata": {
        "id": "zM9HbZB96fek"
      }
    },
    {
      "cell_type": "markdown",
      "source": [
        "Min-Max scaling is a common preprocessing technique used to normalize data, especially when features have different units or scales. In the context of building a recommendation system for a food delivery service, we can use Min-Max scaling to ensure that features like price, rating, and delivery time are on a similar scale, which helps in improving the performance of machine learning algorithms. Here’s how you can apply Min-Max scaling to your dataset:"
      ],
      "metadata": {
        "id": "Y5wzzZGP6ria"
      }
    },
    {
      "cell_type": "markdown",
      "source": [
        "Steps to Apply Min-Max Scaling\n",
        "Identify the Features: Identify the features that need to be scaled. In this case, we have price, rating, and delivery time.\n",
        "\n",
        "Calculate Min and Max Values: For each feature, calculate the minimum and maximum values in the dataset.\n",
        "\n",
        "min\n",
        "price\n",
        "min\n",
        "price\n",
        "​\n",
        " : Minimum value of price\n",
        "max\n",
        "price\n",
        "max\n",
        "price\n",
        "​\n",
        " : Maximum value of price\n",
        "min\n",
        "rating\n",
        "min\n",
        "rating\n",
        "​\n",
        " : Minimum value of rating\n",
        "max\n",
        "rating\n",
        "max\n",
        "rating\n",
        "​\n",
        " : Maximum value of rating\n",
        "min\n",
        "delivery time\n",
        "min\n",
        "delivery time\n",
        "​\n",
        " : Minimum value of delivery time\n",
        "max\n",
        "delivery time\n",
        "max\n",
        "delivery time\n",
        "​\n",
        " : Maximum value of delivery time\n",
        "Apply the Min-Max Scaling Formula: Use the following formula to scale each feature\n",
        "𝑥\n",
        "x to a range\n",
        "[\n",
        "0\n",
        ",\n",
        "1\n",
        "]\n",
        "[0,1]:\n",
        "\n",
        "𝑥\n",
        "′\n",
        "=\n",
        "𝑥\n",
        "−\n",
        "min\n",
        "(\n",
        "𝑥\n",
        ")\n",
        "max\n",
        "(\n",
        "𝑥\n",
        ")\n",
        "−\n",
        "min\n",
        "(\n",
        "𝑥\n",
        ")\n",
        "x\n",
        "′\n",
        " =\n",
        "max(x)−min(x)\n",
        "x−min(x)\n",
        "​\n",
        "\n",
        "Here,\n",
        "𝑥\n",
        "x is the original value,\n",
        "min\n",
        "(\n",
        "𝑥\n",
        ")\n",
        "min(x) is the minimum value of the feature, and\n",
        "max\n",
        "(\n",
        "𝑥\n",
        ")\n",
        "max(x) is the maximum value of the feature.\n",
        "\n",
        "Transform the Dataset: Apply the above formula to each feature in the dataset.\n",
        "\n",
        "Example\n",
        "Suppose we have the following sample data:\n",
        "\n",
        "Price: [10, 20, 30, 40, 50]\n",
        "Rating: [3, 4, 5, 2, 1]\n",
        "Delivery Time: [30, 20, 10, 50, 40]\n",
        "Calculation:\n",
        "Price Scaling:\n",
        "\n",
        "min\n",
        "price\n",
        "=\n",
        "10\n",
        "min\n",
        "price\n",
        "​\n",
        " =10\n",
        "max\n",
        "price\n",
        "=\n",
        "50\n",
        "max\n",
        "price\n",
        "​\n",
        " =50\n",
        "Applying the formula:\n",
        "\n",
        "𝑥\n",
        "price\n",
        "′\n",
        "=\n",
        "𝑥\n",
        "−\n",
        "10\n",
        "50\n",
        "−\n",
        "10\n",
        "=\n",
        "𝑥\n",
        "−\n",
        "10\n",
        "40\n",
        "x\n",
        "price\n",
        "′\n",
        "​\n",
        " =\n",
        "50−10\n",
        "x−10\n",
        "​\n",
        " =\n",
        "40\n",
        "x−10\n",
        "​\n",
        "\n",
        "Scaled prices: [0, 0.25, 0.5, 0.75, 1]\n",
        "\n",
        "Rating Scaling:\n",
        "\n",
        "min\n",
        "rating\n",
        "=\n",
        "1\n",
        "min\n",
        "rating\n",
        "​\n",
        " =1\n",
        "max\n",
        "rating\n",
        "=\n",
        "5\n",
        "max\n",
        "rating\n",
        "​\n",
        " =5\n",
        "Applying the formula:\n",
        "\n",
        "𝑥\n",
        "rating\n",
        "′\n",
        "=\n",
        "𝑥\n",
        "−\n",
        "1\n",
        "5\n",
        "−\n",
        "1\n",
        "=\n",
        "𝑥\n",
        "−\n",
        "1\n",
        "4\n",
        "x\n",
        "rating\n",
        "′\n",
        "​\n",
        " =\n",
        "5−1\n",
        "x−1\n",
        "​\n",
        " =\n",
        "4\n",
        "x−1\n",
        "​\n",
        "\n",
        "Scaled ratings: [0.5, 0.75, 1, 0.25, 0]\n",
        "\n",
        "Delivery Time Scaling:\n",
        "\n",
        "min\n",
        "delivery time\n",
        "=\n",
        "10\n",
        "min\n",
        "delivery time\n",
        "​\n",
        " =10\n",
        "max\n",
        "delivery time\n",
        "=\n",
        "50\n",
        "max\n",
        "delivery time\n",
        "​\n",
        " =50\n",
        "Applying the formula:\n",
        "\n",
        "𝑥\n",
        "delivery time\n",
        "′\n",
        "=\n",
        "𝑥\n",
        "−\n",
        "10\n",
        "50\n",
        "−\n",
        "10\n",
        "=\n",
        "𝑥\n",
        "−\n",
        "10\n",
        "40\n",
        "x\n",
        "delivery time\n",
        "′\n",
        "​\n",
        " =\n",
        "50−10\n",
        "x−10\n",
        "​\n",
        " =\n",
        "40\n",
        "x−10\n",
        "​\n",
        "\n",
        "Scaled delivery times: [0.5, 0.25, 0, 1, 0.75]"
      ],
      "metadata": {
        "id": "juZBMJsc7Iid"
      }
    },
    {
      "cell_type": "markdown",
      "source": [
        "Conclusion\n",
        "By applying Min-Max scaling, the features price, rating, and delivery time are transformed to a common scale of\n",
        "[\n",
        "0\n",
        ",\n",
        "1\n",
        "]\n",
        "[0,1]. This normalization helps in ensuring that each feature contributes equally to the model training process, avoiding biases due to differences in the range or units of the features. This preprocessing step is crucial for building an effective recommendation system for your food delivery service."
      ],
      "metadata": {
        "id": "SAlNBpoK7UwO"
      }
    },
    {
      "cell_type": "code",
      "source": [
        "import pandas as pd\n",
        "from sklearn.preprocessing import MinMaxScaler\n",
        "\n",
        "# Sample dataset\n",
        "data = {\n",
        "    'price': [10, 20, 30, 40, 50],\n",
        "    'rating': [3, 4, 5, 2, 1],\n",
        "    'delivery_time': [30, 20, 10, 50, 40]\n",
        "}\n",
        "\n",
        "# Create a DataFrame\n",
        "df = pd.DataFrame(data)\n",
        "\n",
        "# Initialize the MinMaxScaler\n",
        "scaler = MinMaxScaler()\n",
        "\n",
        "# Apply Min-Max scaling\n",
        "scaled_data = scaler.fit_transform(df)\n",
        "\n",
        "# Create a new DataFrame with the scaled data\n",
        "scaled_df = pd.DataFrame(scaled_data, columns=df.columns)\n",
        "\n",
        "print(\"Original Data:\")\n",
        "print(df)\n",
        "print(\"\\nScaled Data:\")\n",
        "print(scaled_df)\n"
      ],
      "metadata": {
        "colab": {
          "base_uri": "https://localhost:8080/"
        },
        "id": "g_qx9UXc7eNH",
        "outputId": "a0c4d722-593d-4875-95b3-2b887179480a"
      },
      "execution_count": 4,
      "outputs": [
        {
          "output_type": "stream",
          "name": "stdout",
          "text": [
            "Original Data:\n",
            "   price  rating  delivery_time\n",
            "0     10       3             30\n",
            "1     20       4             20\n",
            "2     30       5             10\n",
            "3     40       2             50\n",
            "4     50       1             40\n",
            "\n",
            "Scaled Data:\n",
            "   price  rating  delivery_time\n",
            "0   0.00    0.50           0.50\n",
            "1   0.25    0.75           0.25\n",
            "2   0.50    1.00           0.00\n",
            "3   0.75    0.25           1.00\n",
            "4   1.00    0.00           0.75\n"
          ]
        }
      ]
    },
    {
      "cell_type": "code",
      "source": [],
      "metadata": {
        "id": "V0q9u4Og9TRg"
      },
      "execution_count": null,
      "outputs": []
    },
    {
      "cell_type": "markdown",
      "source": [
        "Q6. You are working on a project to build a model to predict stock prices. The dataset contains many\n",
        "features, such as company financial data and market trends. Explain how you would use PCA to reduce the\n",
        "dimensionality of the dataset."
      ],
      "metadata": {
        "id": "jRYRjcq29yhD"
      }
    },
    {
      "cell_type": "markdown",
      "source": [
        "Principal Component Analysis (PCA) is a powerful technique for reducing the dimensionality of large datasets, which helps to simplify the dataset while preserving as much variability as possible. This is particularly useful in stock price prediction models, where datasets often contain numerous features such as company financial data and market trends. Here's how you would use PCA to reduce the dimensionality of the dataset:"
      ],
      "metadata": {
        "id": "X-_nk77d-ChX"
      }
    },
    {
      "cell_type": "markdown",
      "source": [
        "Steps to Apply PCA\n",
        "Standardize the Data: Since PCA is affected by the scale of the data, it is important to standardize the features (i.e., mean = 0 and variance = 1) before applying PCA. This ensures that each feature contributes equally to the analysis.\n",
        "\n",
        "Compute the Covariance Matrix: Calculate the covariance matrix of the standardized data to understand how the features vary with respect to each other.\n",
        "\n",
        "Calculate Eigenvalues and Eigenvectors: Compute the eigenvalues and eigenvectors of the covariance matrix. The eigenvectors determine the direction of the new feature space, and the eigenvalues determine their magnitude (i.e., the amount of variance they capture).\n",
        "\n",
        "Sort Eigenvalues and Eigenvectors: Sort the eigenvalues and their corresponding eigenvectors in descending order. The eigenvectors corresponding to the largest eigenvalues are the principal components, which capture the most variance in the data.\n",
        "\n",
        "Select Principal Components: Decide the number of principal components to retain. This can be based on a desired level of explained variance (e.g., 95%) or using a scree plot to identify the point of diminishing returns.\n",
        "\n",
        "Transform the Data: Project the original standardized data onto the selected principal components to obtain the reduced-dimensionality dataset."
      ],
      "metadata": {
        "id": "8oQth76F-rTn"
      }
    },
    {
      "cell_type": "code",
      "source": [
        "import pandas as pd\n",
        "from sklearn.preprocessing import StandardScaler\n",
        "from sklearn.decomposition import PCA\n",
        "import matplotlib.pyplot as plt\n",
        "\n",
        "#Sample dataset\n",
        "data = {\n",
        "    'financial_feature1':[10,20,30,40,50],\n",
        "    'financial_feature2':[15,25,35,45,55],\n",
        "    'market_trend1':[100,200,300,400,500],\n",
        "    'market_trend2':[150,250,350,450,550]\n",
        "}\n",
        "#Create a DataFrame\n",
        "df = pd.DataFrame(data)\n",
        "\n",
        "#Standardize the data\n",
        "scaler = StandardScaler()\n",
        "standardized_data = scaler.fit_transform(df)\n",
        "\n",
        "#Initialize PCA\n",
        "pca = PCA()\n",
        "\n",
        "#Fit PCA on the standardized data\n",
        "pca.fit(standardized_data)\n",
        "\n",
        "#Calculate explained variance ratio\n",
        "explained_variance_ratio = pca.explained_variance_ratio_\n",
        "\n",
        "#Calculate cumulative explained variance\n",
        "cumulative_explained_variance = explained_variance_ratio.cumsum()\n",
        "\n",
        "#plot cumulative explained variance to decide the number of components\n",
        "plt.figure(figsize=(8,5))\n",
        "plt.plot(range(1,len(cumulative_explained_variance)+1),cumulative_explained_variance,marker='o',linestyle='--')\n",
        "plt.title('Cumulative Explained Variance')\n",
        "plt.xlabel('Number of Principal Components')\n",
        "plt.ylabel('Cumulative Explained Variance' )\n",
        "plt.grid()\n",
        "plt.show()\n",
        "\n",
        "#Select number of components (e.g. ,2 components to explain >95% variance )\n",
        "n_components = 2\n",
        "pca =PCA(n_components = n_components)\n",
        "\n",
        "#Transform the data\n",
        "reduced_data = pca.fit_transform(standardized_data)\n",
        "\n",
        "#Create a new DataFrame with the reduced data\n",
        "reduced_df =pd.DataFrame(reduced_data,columns=[f'PC{i+1}' for i in range(n_components)])\n",
        "\n",
        "print(\"Original Data:\")\n",
        "print(df)\n",
        "print(\"\\nReduced Data:\")\n",
        "print(reduced_df)"
      ],
      "metadata": {
        "colab": {
          "base_uri": "https://localhost:8080/",
          "height": 700
        },
        "id": "HrJjRhFJ-unc",
        "outputId": "ec848c09-4877-423c-c119-5bcbfa0469b5"
      },
      "execution_count": 7,
      "outputs": [
        {
          "output_type": "display_data",
          "data": {
            "text/plain": [
              "<Figure size 800x500 with 1 Axes>"
            ],
            "image/png": "[encoded data removed]"
          },
          "metadata": {}
        },
        {
          "output_type": "stream",
          "name": "stdout",
          "text": [
            "Original Data:\n",
            "   financial_feature1  financial_feature2  market_trend1  market_trend2\n",
            "0                  10                  15            100            150\n",
            "1                  20                  25            200            250\n",
            "2                  30                  35            300            350\n",
            "3                  40                  45            400            450\n",
            "4                  50                  55            500            550\n",
            "\n",
            "Reduced Data:\n",
            "        PC1           PC2\n",
            "0  2.828427  3.648565e-16\n",
            "1  1.414214 -1.216188e-16\n",
            "2 -0.000000  0.000000e+00\n",
            "3 -1.414214  1.216188e-16\n",
            "4 -2.828427  2.432377e-16\n"
          ]
        }
      ]
    },
    {
      "cell_type": "markdown",
      "source": [
        "Q7. For a dataset containing the following values: [1, 5, 10, 15, 20], perform Min-Max scaling to transform the\n",
        "values to a range of -1 to 1."
      ],
      "metadata": {
        "id": "b-vHHWYnEXMS"
      }
    },
    {
      "cell_type": "code",
      "source": [
        "import numpy as np\n",
        "#Original dataset\n",
        "data = np.array([1,5,10,15,20])\n",
        "\n",
        "#Min and Max value of the original data\n",
        "min_x = data.min()\n",
        "max_x = data.max()\n",
        "\n",
        "#Desired range\n",
        "min_scaled =-2\n",
        "max_scaled = 1\n",
        "\n",
        "#Min-Max scaling formula to transform data to the range[-1,1]\n",
        "scaled_data = (data-min_x)/(max_x-min_x)*(max_scaled-min_scaled)+min_scaled\n",
        "\n",
        "print(\"Original Data:\",data)\n",
        "print(\"Scaled Data:\",scaled_data)\n"
      ],
      "metadata": {
        "colab": {
          "base_uri": "https://localhost:8080/"
        },
        "id": "xOmXFUL9D5o6",
        "outputId": "d194d906-c0ff-4824-96b2-5a8c91756a03"
      },
      "execution_count": 9,
      "outputs": [
        {
          "output_type": "stream",
          "name": "stdout",
          "text": [
            "Original Data: [ 1  5 10 15 20]\n",
            "Scaled Data: [-2.         -1.36842105 -0.57894737  0.21052632  1.        ]\n"
          ]
        }
      ]
    },
    {
      "cell_type": "code",
      "source": [],
      "metadata": {
        "id": "e1OMzZkJEbeC"
      },
      "execution_count": null,
      "outputs": []
    },
    {
      "cell_type": "markdown",
      "source": [
        "Q8. For a dataset containing the following features: [height, weight, age, gender, blood pressure], perform\n",
        "Feature Extraction using PCA. How many principal components would you choose to retain, and why?"
      ],
      "metadata": {
        "id": "pja5N_QhHM_Q"
      }
    },
    {
      "cell_type": "code",
      "source": [
        "import pandas as pd\n",
        "from sklearn.preprocessing import StandardScaler\n",
        "from sklearn.decomposition import PCA\n",
        "import matplotlib.pyplot as plt\n",
        "\n",
        "# Sample dataset\n",
        "data = {\n",
        "    'height': [150, 160, 170, 180, 190],\n",
        "    'weight': [50, 60, 70, 80, 90],\n",
        "    'age': [20, 30, 40, 50, 60],\n",
        "    'gender': ['M', 'F', 'M', 'F', 'M'],  # Categorical feature\n",
        "    'blood_pressure': [120, 130, 140, 150, 160]\n",
        "}\n",
        "\n",
        "# Create a DataFrame\n",
        "df = pd.DataFrame(data)\n",
        "\n",
        "# Encode the categorical 'gender' feature\n",
        "df['gender'] = df['gender'].map({'M': 0, 'F': 1})\n",
        "\n",
        "# Standardize the data\n",
        "scaler = StandardScaler()\n",
        "standardized_data = scaler.fit_transform(df)\n",
        "\n",
        "# Initialize PCA\n",
        "pca = PCA()\n",
        "\n",
        "# Fit PCA on the standardized data\n",
        "pca.fit(standardized_data)\n",
        "\n",
        "# Calculate explained variance ratio\n",
        "explained_variance_ratio = pca.explained_variance_ratio_\n",
        "\n",
        "# Calculate cumulative explained variance\n",
        "cumulative_explained_variance = explained_variance_ratio.cumsum()\n",
        "\n",
        "# Plot cumulative explained variance to decide the number of components\n",
        "plt.figure(figsize=(8, 5))\n",
        "plt.plot(range(1, len(cumulative_explained_variance) + 1), cumulative_explained_variance, marker='o', linestyle='--')\n",
        "plt.title('Cumulative Explained Variance')\n",
        "plt.xlabel('Number of Principal Components')\n",
        "plt.ylabel('Cumulative Explained Variance')\n",
        "plt.grid()\n",
        "plt.show()\n"
      ],
      "metadata": {
        "colab": {
          "base_uri": "https://localhost:8080/",
          "height": 435
        },
        "id": "qS9gV6UBHRFb",
        "outputId": "06cd0445-306c-4438-d121-4d6702ef57c9"
      },
      "execution_count": 10,
      "outputs": [
        {
          "output_type": "display_data",
          "data": {
            "text/plain": [
              "<Figure size 800x500 with 1 Axes>"
            ],
            "image/png": "[encoded data removed]"
          },
          "metadata": {}
        }
      ]
    },
    {
      "cell_type": "code",
      "source": [
        "# Select the number of components (e.g., 3 components)\n",
        "n_components = 3\n",
        "pca = PCA(n_components=n_components)\n",
        "\n",
        "# Transform the data\n",
        "reduced_data = pca.fit_transform(standardized_data)\n",
        "\n",
        "# Create a new DataFrame with the reduced data\n",
        "reduced_df = pd.DataFrame(reduced_data, columns=[f'PC{i+1}' for i in range(n_components)])\n",
        "\n",
        "print(\"Original Data:\")\n",
        "print(df)\n",
        "print(\"\\nReduced Data:\")\n",
        "print(reduced_df)\n"
      ],
      "metadata": {
        "colab": {
          "base_uri": "https://localhost:8080/"
        },
        "id": "OciwZqI-HdtE",
        "outputId": "d0d93fe7-7347-4a12-b016-4a99aad18028"
      },
      "execution_count": 11,
      "outputs": [
        {
          "output_type": "stream",
          "name": "stdout",
          "text": [
            "Original Data:\n",
            "   height  weight  age  gender  blood_pressure\n",
            "0     150      50   20       0             120\n",
            "1     160      60   30       1             130\n",
            "2     170      70   40       0             140\n",
            "3     180      80   50       1             150\n",
            "4     190      90   60       0             160\n",
            "\n",
            "Reduced Data:\n",
            "        PC1       PC2           PC3\n",
            "0  2.828427 -0.816497  2.837773e-16\n",
            "1  1.414214  1.224745 -4.611949e-32\n",
            "2 -0.000000 -0.816497 -8.107923e-17\n",
            "3 -1.414214  1.224745  2.432377e-16\n",
            "4 -2.828427 -0.816497  1.621585e-16\n"
          ]
        }
      ]
    },
    {
      "cell_type": "code",
      "source": [],
      "metadata": {
        "id": "H-3coCl7HnAE"
      },
      "execution_count": null,
      "outputs": []
    },
    {
      "cell_type": "markdown",
      "source": [
        "By using PCA for feature extraction, we reduced the dimensionality of the dataset while retaining the most important information. In this example, 3 principal components were chosen to retain 95% of the variance, balancing dimensionality reduction and information retention."
      ],
      "metadata": {
        "id": "9O5rwpwMHs9H"
      }
    },
    {
      "cell_type": "markdown",
      "source": [],
      "metadata": {
        "id": "yQpVvIZwHwhG"
      }
    }
  ]
}