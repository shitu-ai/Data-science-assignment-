{
  "nbformat": 4,
  "nbformat_minor": 0,
  "metadata": {
    "colab": {
      "provenance": []
    },
    "kernelspec": {
      "name": "python3",
      "display_name": "Python 3"
    },
    "language_info": {
      "name": "python"
    }
  },
  "cells": [
    {
      "cell_type": "markdown",
      "source": [
        "Q1. Write a Python function that takes in two arrays of data and calculates the F-value for a variance ratio\n",
        "test. The function should return the F-value and the corresponding p-value for the test."
      ],
      "metadata": {
        "id": "JfTxW_DGxi8i"
      }
    },
    {
      "cell_type": "code",
      "execution_count": 2,
      "metadata": {
        "id": "AihwyUsZwxAQ",
        "colab": {
          "base_uri": "https://localhost:8080/"
        },
        "outputId": "61ccc7df-b1e4-40e2-a8a1-997e3724c023"
      },
      "outputs": [
        {
          "output_type": "stream",
          "name": "stdout",
          "text": [
            "F-value: 2.8444444444444446\n",
            "P-value: 0.19122469029954248\n"
          ]
        }
      ],
      "source": [
        "import numpy as np\n",
        "from scipy.stats import f\n",
        "\n",
        "def variance_ratio_test(data1, data2):\n",
        "    \"\"\"\n",
        "    Perform a variance ratio test (F-test) to compare the variances of two samples.\n",
        "\n",
        "    Parameters:\n",
        "    data1 (array-like): First sample of data.\n",
        "    data2 (array-like): Second sample of data.\n",
        "\n",
        "    Returns:\n",
        "    F_value (float): The F-value for the variance ratio test.\n",
        "    p_value (float): The p-value corresponding to the F-value.\n",
        "    \"\"\"\n",
        "    # Calculate the variances of the two samples\n",
        "    var1 = np.var(data1, ddof=1)\n",
        "    var2 = np.var(data2, ddof=1)\n",
        "\n",
        "    # Calculate the F-value\n",
        "    F_value = var1 / var2\n",
        "\n",
        "    # Degrees of freedom\n",
        "    df1 = len(data1) - 1\n",
        "    df2 = len(data2) - 1\n",
        "\n",
        "    # Calculate the p-value\n",
        "    p_value = 1 - f.cdf(F_value, df1, df2)\n",
        "\n",
        "    # The F-test is a two-tailed test, so we double the p-value\n",
        "    p_value = 2 * min(p_value, 1 - p_value)\n",
        "\n",
        "    return F_value, p_value\n",
        "\n",
        "# Example usage:\n",
        "data1 = [10, 12, 23, 23, 16, 23, 21, 16]\n",
        "data2 = [14, 22, 17, 24, 19, 21, 19, 18]\n",
        "\n",
        "F_value, p_value = variance_ratio_test(data1, data2)\n",
        "print(f\"F-value: {F_value}\")\n",
        "print(f\"P-value: {p_value}\")\n"
      ]
    },
    {
      "cell_type": "markdown",
      "source": [
        "Q2. Given a significance level of 0.05 and the degrees of freedom for the numerator and denominator of an\n",
        "F-distribution, write a Python function that returns the critical F-value for a two-tailed test."
      ],
      "metadata": {
        "id": "PrvORi0mxkG9"
      }
    },
    {
      "cell_type": "code",
      "source": [
        "from scipy.stats import f\n",
        "\n",
        "def critical_f_value(num_df, den_df, alpha=0.05):\n",
        "    \"\"\"\n",
        "    Returns the critical F-value for a two-tailed test.\n",
        "\n",
        "    Parameters:\n",
        "    num_df (int): degrees of freedom for the numerator\n",
        "    den_df (int): degrees of freedom for the denominator\n",
        "    alpha (float, optional): significance level (default=0.05)\n",
        "\n",
        "    Returns:\n",
        "    critical_f (float): critical F-value for a two-tailed test\n",
        "    \"\"\"\n",
        "    critical_f = f.ppf(1 - alpha/2, num_df, den_df)\n",
        "    return critical_f"
      ],
      "metadata": {
        "id": "tSQiU9Aq4sP2"
      },
      "execution_count": 3,
      "outputs": []
    },
    {
      "cell_type": "code",
      "source": [
        "num_df = 3\n",
        "den_df = 10\n",
        "alpha = 0.05\n",
        "critical_f = critical_f_value(num_df, den_df, alpha)\n",
        "print(critical_f)"
      ],
      "metadata": {
        "colab": {
          "base_uri": "https://localhost:8080/"
        },
        "id": "BHq1mBXD4sQq",
        "outputId": "ae651ede-1560-46fc-e355-ddfa6448253d"
      },
      "execution_count": 4,
      "outputs": [
        {
          "output_type": "stream",
          "name": "stdout",
          "text": [
            "4.825621493405406\n"
          ]
        }
      ]
    },
    {
      "cell_type": "markdown",
      "source": [
        "Q3. Write a Python program that generates random samples from two normal distributions with known\n",
        "\n",
        "variances and uses an F-test to determine if the variances are equal. The program should output the F-\n",
        "value, degrees of freedom, and p-value for the test."
      ],
      "metadata": {
        "id": "QQLEPH8Bxi-D"
      }
    },
    {
      "cell_type": "code",
      "source": [
        "import numpy as np\n",
        "import scipy.stats as stats\n",
        "\n",
        "# Function to generate random samples from a normal distribution\n",
        "def generate_samples(mean, variance, size):\n",
        "    return np.random.normal(mean, np.sqrt(variance), size)\n",
        "\n",
        "# Function to perform F-test\n",
        "def perform_f_test(sample1, sample2):\n",
        "    # Calculate variances of the two samples\n",
        "    var1 = np.var(sample1, ddof=1)\n",
        "    var2 = np.var(sample2, ddof=1)\n",
        "\n",
        "    # Calculate F-value\n",
        "    F = var1 / var2 if var1 > var2 else var2 / var1\n",
        "\n",
        "    # Degrees of freedom\n",
        "    df1 = len(sample1) - 1\n",
        "    df2 = len(sample2) - 1\n",
        "\n",
        "    # Calculate p-value\n",
        "    p_value = 1 - stats.f.cdf(F, df1, df2)\n",
        "\n",
        "    return F, df1, df2, p_value\n",
        "\n",
        "# Parameters for the normal distributions\n",
        "mean1 = 0\n",
        "variance1 = 1\n",
        "mean2 = 0\n",
        "variance2 = 2\n",
        "sample_size = 100\n",
        "\n",
        "# Generate random samples\n",
        "sample1 = generate_samples(mean1, variance1, sample_size)\n",
        "sample2 = generate_samples(mean2, variance2, sample_size)\n",
        "\n",
        "# Perform F-test\n",
        "F, df1, df2, p_value = perform_f_test(sample1, sample2)\n",
        "\n",
        "# Output the results\n",
        "print(f\"F-value: {F}\")\n",
        "print(f\"Degrees of freedom: {df1} and {df2}\")\n",
        "print(f\"P-value: {p_value}\")\n"
      ],
      "metadata": {
        "colab": {
          "base_uri": "https://localhost:8080/"
        },
        "id": "ICOFbUxs6Fog",
        "outputId": "ad8770e5-6d2d-4fcb-85d8-31c59647b379"
      },
      "execution_count": 6,
      "outputs": [
        {
          "output_type": "stream",
          "name": "stdout",
          "text": [
            "F-value: 2.3750728142927104\n",
            "Degrees of freedom: 99 and 99\n",
            "P-value: 1.1761135510601761e-05\n"
          ]
        }
      ]
    },
    {
      "cell_type": "markdown",
      "source": [
        "Q4.The variances of two populations are known to be 10 and 15. A sample of 12 observations is taken from\n",
        "each population. Conduct an F-test at the 5% significance level to determine if the variances are\n",
        "significantly different."
      ],
      "metadata": {
        "id": "LSOqQF5Q-wyg"
      }
    },
    {
      "cell_type": "code",
      "source": [
        "import scipy.stats as stats\n",
        "\n",
        "#Given data\n",
        "variance1 = 10\n",
        "variance2 = 15\n",
        "n1 = 12\n",
        "n2 =12\n",
        "\n",
        "#Calculate the F-statistic\n",
        "F = variance1/variance2\n",
        "\n",
        "#Degree of freedom\n",
        "df1 = n1-1\n",
        "df2 = n2-1\n",
        "\n",
        "#Calculate the p-value\n",
        "p_value = stats.f.cdf(F,df1,df2)\n",
        "\n",
        "alpha = 0.05\n",
        "if p_value<alpha :\n",
        "  conclusion = \"The variance are significantly different.\"\n",
        "else:\n",
        "  conclusion = \"The variance are not significantly different.\"\n",
        "\n",
        "#Print the result\n",
        "print(f\"F-statistic:{F}\")\n",
        "print(f\"p-value:{p_value}\")\n",
        "print(conclusion)"
      ],
      "metadata": {
        "colab": {
          "base_uri": "https://localhost:8080/"
        },
        "id": "osiyGSsU-ilN",
        "outputId": "f12690e6-021a-49d4-a7c1-159989f2f308"
      },
      "execution_count": 7,
      "outputs": [
        {
          "output_type": "stream",
          "name": "stdout",
          "text": [
            "F-statistic:0.6666666666666666\n",
            "p-value:0.2561948993678998\n",
            "The variance are not significantly different.\n"
          ]
        }
      ]
    },
    {
      "cell_type": "markdown",
      "source": [
        "Q5. A manufacturer claims that the variance of the diameter of a certain product is 0.005. A sample of 25\n",
        "products is taken, and the sample variance is found to be 0.006. Conduct an F-test at the 1% significance\n",
        "level to determine if the claim is justified."
      ],
      "metadata": {
        "id": "UpHZOC7L-wzh"
      }
    },
    {
      "cell_type": "code",
      "source": [
        "import scipy.stats as stats\n",
        "\n",
        "#Given data\n",
        "n = 25 #sample size\n",
        "sample_variance = 0.006\n",
        "claimed_variance = 0.005\n",
        "alpha = 0.001 #significance level\n",
        "\n",
        "#Calculate the F-test statistic\n",
        "F_statistic = sample_variance/claimed_variance\n",
        "\n",
        "#Degree of freedom\n",
        "df_between = 1 #degree of freedom numerator\n",
        "df_within = n-1 #degree of freedom denominator\n",
        "\n",
        "#Calculator the critical value from the F-distribution\n",
        "F_critical = stats.f.ppf(1-alpha/2,df_between,df_within)\n",
        "\n",
        "#Print result\n",
        "print(f\"F-statistic :{F_statistic}\")\n",
        "print(f\"Critical value:{F_critical}\")\n",
        "\n",
        "#Compare F_statistic with F_critical to make a decision\n",
        "if F_statistic > F_critical:\n",
        "  print(\"Reject the null hypothesis . The manufacturer's claim is not justified.\")\n",
        "else:\n",
        "  print(\"Fail to reject the null hypothesis.The manufacturer's claim is justified.\")"
      ],
      "metadata": {
        "colab": {
          "base_uri": "https://localhost:8080/"
        },
        "id": "8dfNIp3kBSZx",
        "outputId": "793625ee-d713-41b6-fce4-c3b62235ce71"
      },
      "execution_count": 8,
      "outputs": [
        {
          "output_type": "stream",
          "name": "stdout",
          "text": [
            "F-statistic :1.2\n",
            "Critical value:16.166342262799052\n",
            "Fail to reject the null hypothesis.The manufacturer's claim is justified.\n"
          ]
        }
      ]
    },
    {
      "cell_type": "markdown",
      "source": [
        "Q6. Write a Python function that takes in the degrees of freedom for the numerator and denominator of an\n",
        "F-distribution and calculates the mean and variance of the distribution. The function should return the\n",
        "mean and variance as a tuple."
      ],
      "metadata": {
        "id": "TaH_3vrMEOkP"
      }
    },
    {
      "cell_type": "code",
      "source": [
        "import scipy.stats as stats\n",
        "\n",
        "def f_distribution_mean_variance(df1,df2):\n",
        "  \"\"\" Calculate mean and variance of F-distrubution.\n",
        "  Args:\n",
        "  df1(int): Degrees of freedom for the numerator.\n",
        "  df2(int): Degrees of freedom for the denominator.\n",
        "\n",
        "  Returns:\n",
        "  tuple:Mean and variance of the F-distribution.\n",
        "  \"\"\"\n",
        "  mean = df2/(df2-2) if df2>2 else float(\"inf\")\n",
        "  variance = (2*df2**2*(df1+df2-2))/(df1*(df2-2)**2*(df2-4)) if df2>4 else float(\"inf\")\n",
        "  return mean,variance\n",
        "\n",
        "#Example usage:\n",
        "df1 = 5 #Numerator degrees of freedom\n",
        "df2 = 12 #Denominator degrees of freedom\n",
        "\n",
        "mean,variance = f_distribution_mean_variance(df1,df2)\n",
        "print(f\"Mean of F-distribution :{mean:.4f}\")\n",
        "print(f\"Variance of F-distribution:{variance:.4f}\")"
      ],
      "metadata": {
        "colab": {
          "base_uri": "https://localhost:8080/"
        },
        "id": "Qn0nJLWtBSaj",
        "outputId": "3745cd55-71c2-429a-f3ba-fda242a564ae"
      },
      "execution_count": 9,
      "outputs": [
        {
          "output_type": "stream",
          "name": "stdout",
          "text": [
            "Mean of F-distribution :1.2000\n",
            "Variance of F-distribution:1.0800\n"
          ]
        }
      ]
    },
    {
      "cell_type": "markdown",
      "source": [
        "Q7. A random sample of 10 measurements is taken from a normal population with unknown variance. The\n",
        "sample variance is found to be 25. Another random sample of 15 measurements is taken from another\n",
        "normal population with unknown variance, and the sample variance is found to be 20. Conduct an F-test\n",
        "at the 10% significance level to determine if the variances are significantly different."
      ],
      "metadata": {
        "id": "SvljT2wZEOla"
      }
    },
    {
      "cell_type": "code",
      "source": [
        "import scipy.stats as stats\n",
        "\n",
        "#sample information\n",
        "n1 = 10\n",
        "n2 = 15\n",
        "s1_squared = 25\n",
        "s2_squared = 20\n",
        "alpha = 0.10\n",
        "\n",
        "#Calculate the F-statistic\n",
        "F_statistic = s1_squared/s2_squared\n",
        "\n",
        "#Degree of freedom\n",
        "df1 = n1-1\n",
        "df2 = n2-1\n",
        "\n",
        "#Critical value from the F-distribution\n",
        "critical_value = stats.f.ppf(1-alpha/2,df1,df2)\n",
        "\n",
        "# Compare F-statistic with critical value\n",
        "if F_statistic > critical_value:\n",
        "    print(f\"F-statistic: {F_statistic:.4f}\")\n",
        "    print(f\"Critical value: {critical_value:.4f}\")\n",
        "    print(\"Reject the null hypothesis. The variances are significantly different.\")\n",
        "else:\n",
        "    print(f\"F-statistic: {F_statistic:.4f}\")\n",
        "    print(f\"Critical value: {critical_value:.4f}\")\n",
        "    print(\"Fail to reject the null hypothesis. The variances are not significantly different.\")\n"
      ],
      "metadata": {
        "colab": {
          "base_uri": "https://localhost:8080/"
        },
        "id": "_6B7GxSRHGwg",
        "outputId": "ca8351e0-0772-4a96-f0e4-a8e7ad267e54"
      },
      "execution_count": 10,
      "outputs": [
        {
          "output_type": "stream",
          "name": "stdout",
          "text": [
            "F-statistic: 1.2500\n",
            "Critical value: 2.6458\n",
            "Fail to reject the null hypothesis. The variances are not significantly different.\n"
          ]
        }
      ]
    },
    {
      "cell_type": "markdown",
      "source": [
        "Q8. The following data represent the waiting times in minutes at two different restaurants on a Saturday\n",
        "night: Restaurant A: 24, 25, 28, 23, 22, 20, 27; Restaurant B: 31, 33, 35, 30, 32, 36. Conduct an F-test at the 5%\n",
        "significance level to determine if the variances are significantly different."
      ],
      "metadata": {
        "id": "U29cLigJI_O5"
      }
    },
    {
      "cell_type": "code",
      "source": [
        "import numpy as np\n",
        "import scipy.stats as stats\n",
        "\n",
        "#Waiting times data\n",
        "waiting_times_A = np.array([24,25,28,23,22,20,27])\n",
        "waiting_times_B = np.array([31,33,35,30,32,36])\n",
        "\n",
        "#Sample variances\n",
        "squared_var_A = np.var(waiting_times_A,ddof=1)\n",
        "squared_var_B = np.var(waiting_times_B,ddof=1)\n",
        "\n",
        "#sample size\n",
        "n_A = len(waiting_times_A)\n",
        "n_B = len(waiting_times_B)\n",
        "\n",
        "#Calculate the F-staistic\n",
        "F_static = squared_var_A/squared_var_B\n",
        "\n",
        "#Degree of freedom\n",
        "df1 = n_A -1\n",
        "df2 = n_B - 1\n",
        "\n",
        "#Significance level\n",
        "alpha = 0.05\n",
        "\n",
        "#Critical value from the F-distribution\n",
        "critical_value = stats.f.ppf(1-alpha/2,df1,df2)\n",
        "\n",
        "# Compare F-statistic with critical value\n",
        "if F_statistic > critical_value:\n",
        "    print(f\"F-statistic: {F_statistic:.4f}\")\n",
        "    print(f\"Critical value: {critical_value:.4f}\")\n",
        "    print(\"Reject the null hypothesis. The variances are significantly different.\")\n",
        "else:\n",
        "    print(f\"F-statistic: {F_statistic:.4f}\")\n",
        "    print(f\"Critical value: {critical_value:.4f}\")\n",
        "    print(\"Fail to reject the null hypothesis. The variances are not significantly different.\")"
      ],
      "metadata": {
        "colab": {
          "base_uri": "https://localhost:8080/"
        },
        "id": "PLx7lZVKI8h_",
        "outputId": "d2119df0-dbee-4ecd-e048-a28d55032200"
      },
      "execution_count": 11,
      "outputs": [
        {
          "output_type": "stream",
          "name": "stdout",
          "text": [
            "F-statistic: 1.2500\n",
            "Critical value: 6.9777\n",
            "Fail to reject the null hypothesis. The variances are not significantly different.\n"
          ]
        }
      ]
    },
    {
      "cell_type": "markdown",
      "source": [
        "Q9. The following data represent the test scores of two groups of students: Group A: 80, 85, 90, 92, 87, 83;\n",
        "Group B: 75, 78, 82, 79, 81, 84. Conduct an F-test at the 1% significance level to determine if the variances\n",
        "are significantly different."
      ],
      "metadata": {
        "id": "MO6P4Q5HMTHc"
      }
    },
    {
      "cell_type": "code",
      "source": [
        "import numpy as np\n",
        "import scipy.stats as stats\n",
        "\n",
        "# Test scores data\n",
        "scores_A = np.array([80, 85, 90, 92, 87, 83])\n",
        "scores_B = np.array([75, 78, 82, 79, 81, 84])\n",
        "\n",
        "# Sample variances\n",
        "squared_var_A = np.var(scores_A, ddof=1)\n",
        "squared_var_B = np.var(scores_B, ddof=1)\n",
        "\n",
        "# Sample sizes\n",
        "n_A = len(scores_A)\n",
        "n_B = len(scores_B)\n",
        "\n",
        "# Calculate the F-statistic\n",
        "F_statistic = squared_var_A / squared_var_B\n",
        "\n",
        "# Degrees of freedom\n",
        "df1 = n_A - 1\n",
        "df2 = n_B - 1\n",
        "\n",
        "# Significance level\n",
        "alpha = 0.01\n",
        "\n",
        "# Critical value from the F-distribution\n",
        "critical_value = stats.f.ppf(1 - alpha / 2, df1, df2)\n",
        "\n",
        "# Compare F-statistic with critical value\n",
        "if F_statistic > critical_value:\n",
        "    print(f\"F-statistic: {F_statistic:.4f}\")\n",
        "    print(f\"Critical value: {critical_value:.4f}\")\n",
        "    print(\"Reject the null hypothesis. The variances are significantly different.\")\n",
        "else:\n",
        "    print(f\"F-statistic: {F_statistic:.4f}\")\n",
        "    print(f\"Critical value: {critical_value:.4f}\")\n",
        "    print(\"Fail to reject the null hypothesis. The variances are not significantly different.\")\n"
      ],
      "metadata": {
        "colab": {
          "base_uri": "https://localhost:8080/"
        },
        "id": "4zKSI3UQML-5",
        "outputId": "b33156f0-a238-4b3d-d0fb-fb04ce488c16"
      },
      "execution_count": 12,
      "outputs": [
        {
          "output_type": "stream",
          "name": "stdout",
          "text": [
            "F-statistic: 1.9443\n",
            "Critical value: 14.9396\n",
            "Fail to reject the null hypothesis. The variances are not significantly different.\n"
          ]
        }
      ]
    },
    {
      "cell_type": "code",
      "source": [],
      "metadata": {
        "id": "z3xBz7hVMhZl"
      },
      "execution_count": null,
      "outputs": []
    }
  ]
}