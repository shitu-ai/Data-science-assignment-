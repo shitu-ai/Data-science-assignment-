{
  "nbformat": 4,
  "nbformat_minor": 0,
  "metadata": {
    "colab": {
      "provenance": []
    },
    "kernelspec": {
      "name": "python3",
      "display_name": "Python 3"
    },
    "language_info": {
      "name": "python"
    }
  },
  "cells": [
    {
      "cell_type": "markdown",
      "source": [
        "Q1. You are working on a machine learning project where you have a dataset containing numerical and categorical features.\n",
        "\n",
        "You have identified that some of the features are highly correlated and there are missing values in some of the columns.\n",
        "\n",
        " You want to build a pipeline that automates the feature engineering process and handles the missing values.\n",
        "\n",
        "\n",
        "Design a pipeline that includes the following steps:\n",
        "\n",
        "* Use an automated feature selection method to identify the important features in the dataset.\n",
        "\n",
        "* Create a numerical pipeline that includes the following steps:\n",
        "  * Impute the missing values in the numerical columns using the mean of the column values.\n",
        "\n",
        "  * Scale the numerical columns using standardisation.\n",
        "\n",
        "* Create a categorical pipeline that includes the following steps:\n",
        "  * Impute the missing values in the categorical columns using the most frequent value of the column.\n",
        "\n",
        "  * One-hot encode the categorical columns.\n",
        "\n",
        "* Combine the numerical and categorical pipelines using a Column Transformer.\n",
        "\n",
        "* Use a Random Forest Classifier to build the final model.\n",
        "\n",
        "* Evaluate the accuracy of the model on the test dataset.\n",
        "\n",
        "Note: Your solution should include code snippets for each step of the pipeline, and a brief explanation of each step. You should also provide an interpretation of the results and suggest possible improvements for the pipeline."
      ],
      "metadata": {
        "id": "PqITInEBf_pZ"
      }
    },
    {
      "cell_type": "markdown",
      "source": [
        " I'll use the well-known Titanic dataset, which contains both numerical and categorical features and includes missing values.\n",
        "\n"
      ],
      "metadata": {
        "id": "RBS72FZxieIW"
      }
    },
    {
      "cell_type": "markdown",
      "source": [
        "## 1. Import Required Libraries\n"
      ],
      "metadata": {
        "id": "_dCjIE0AgMSe"
      }
    },
    {
      "cell_type": "code",
      "source": [
        "import pandas as pd\n",
        "import numpy as np\n",
        "from sklearn.model_selection import train_test_split\n",
        "from sklearn.pipeline import Pipeline\n",
        "from sklearn.compose import ColumnTransformer\n",
        "from sklearn.impute import SimpleImputer\n",
        "from sklearn.preprocessing import StandardScaler, OneHotEncoder\n",
        "from sklearn.ensemble import RandomForestClassifier\n",
        "from sklearn.metrics import accuracy_score\n",
        "from sklearn.feature_selection import SelectFromModel\n"
      ],
      "metadata": {
        "id": "ue3paPgCiu6P"
      },
      "execution_count": 57,
      "outputs": []
    },
    {
      "cell_type": "markdown",
      "source": [
        "## 2. Load and Prepare the Titanic Dataset\n",
        "You can load the Titanic dataset directly from seaborn, which is a Python visualization library based on matplotlib. The seaborn library provides a clean and ready-to-use version of the Titanic dataset.\n",
        "\n"
      ],
      "metadata": {
        "id": "EVFbmeOvi-Y4"
      }
    },
    {
      "cell_type": "code",
      "source": [
        "import seaborn as sns\n",
        "\n",
        "# Load Titanic dataset\n",
        "data = sns.load_dataset('titanic')\n",
        "# Load the Titanic dataset\n",
        "titanic = sns.load_dataset('titanic')\n",
        "\n",
        "# Drop rows with missing target values\n",
        "titanic = titanic.dropna(subset=['survived'])\n",
        "\n",
        "# Define features and target\n",
        "X = titanic.drop(columns=['survived', 'embark_town', 'alive'])  # Drop 'embark_town' and 'alive' as they are redundant\n",
        "y = titanic['survived']\n",
        "\n",
        "# Convert 'sex' to categorical for feature processing\n",
        "X['sex'] = X['sex'].astype('category')\n",
        "\n",
        "# Split into training and testing sets\n",
        "X_train, X_test, y_train, y_test = train_test_split(X, y, test_size=0.2, random_state=42)\n",
        "\n",
        "\n"
      ],
      "metadata": {
        "id": "ffDVZdSNi9FU"
      },
      "execution_count": 58,
      "outputs": []
    },
    {
      "cell_type": "markdown",
      "source": [
        "## 3. Define Numerical and Categorical Features\n"
      ],
      "metadata": {
        "id": "Nmd2bhMKp0l4"
      }
    },
    {
      "cell_type": "code",
      "source": [
        "# Identify numerical and categorical features\n",
        "numerical_features = X.select_dtypes(include=['int64', 'float64']).columns\n",
        "categorical_features = X.select_dtypes(include=['object', 'category']).columns\n"
      ],
      "metadata": {
        "id": "WIBz0LDknD8C"
      },
      "execution_count": 59,
      "outputs": []
    },
    {
      "cell_type": "markdown",
      "source": [
        "## 4. Create Numerical Pipeline\n"
      ],
      "metadata": {
        "id": "9Fxibs2qqNFL"
      }
    },
    {
      "cell_type": "code",
      "source": [
        "numerical_pipeline = Pipeline(steps=[\n",
        "    ('imputer', SimpleImputer(strategy='mean')),  # Impute missing values with mean\n",
        "    ('scaler', StandardScaler())  # Standardize numerical features\n",
        "])\n"
      ],
      "metadata": {
        "id": "fefG5XR-nylx"
      },
      "execution_count": 60,
      "outputs": []
    },
    {
      "cell_type": "markdown",
      "source": [
        "## 5. Create Categorical Pipeline\n"
      ],
      "metadata": {
        "id": "YJyeyGsDqPcD"
      }
    },
    {
      "cell_type": "code",
      "source": [
        "categorical_pipeline = Pipeline(steps=[\n",
        "    ('imputer', SimpleImputer(strategy='most_frequent')),  # Impute missing values with most frequent value\n",
        "    ('onehot', OneHotEncoder(handle_unknown='ignore'))  # One-hot encode categorical features\n",
        "])\n"
      ],
      "metadata": {
        "id": "ATX9WIE0qPI-"
      },
      "execution_count": 61,
      "outputs": []
    },
    {
      "cell_type": "markdown",
      "source": [
        "## 6. Combine Pipelines Using Column Transformer\n"
      ],
      "metadata": {
        "id": "iGPmdSyVqT57"
      }
    },
    {
      "cell_type": "code",
      "source": [
        "preprocessor = ColumnTransformer(transformers=[\n",
        "    ('num', numerical_pipeline, numerical_features),\n",
        "    ('cat', categorical_pipeline, categorical_features)\n",
        "])\n"
      ],
      "metadata": {
        "id": "Idhr7uO-qTTC"
      },
      "execution_count": 62,
      "outputs": []
    },
    {
      "cell_type": "markdown",
      "source": [
        "## 7. Build and Combine the Full Pipeline\n"
      ],
      "metadata": {
        "id": "a7jTtfzHqYLt"
      }
    },
    {
      "cell_type": "code",
      "source": [
        "pipeline = Pipeline(steps=[\n",
        "    ('preprocessor', preprocessor),\n",
        "    ('feature_selection', SelectFromModel(RandomForestClassifier(n_estimators=100, random_state=42))),\n",
        "    ('classifier', RandomForestClassifier(n_estimators=100, random_state=42))\n",
        "])\n"
      ],
      "metadata": {
        "id": "kal_3o2OqdQ2"
      },
      "execution_count": 63,
      "outputs": []
    },
    {
      "cell_type": "markdown",
      "source": [
        "## 8. Train and Evaluate the Model\n"
      ],
      "metadata": {
        "id": "TKTSnUVzqgtt"
      }
    },
    {
      "cell_type": "code",
      "source": [
        "# Fit the pipeline\n",
        "pipeline.fit(X_train, y_train)\n",
        "\n",
        "# Predict and evaluate\n",
        "y_pred = pipeline.predict(X_test)\n",
        "accuracy = accuracy_score(y_test, y_pred)\n",
        "\n",
        "print(f\"Model Accuracy: {accuracy:.4f}\")\n"
      ],
      "metadata": {
        "colab": {
          "base_uri": "https://localhost:8080/"
        },
        "id": "_xWWTXZTqe7T",
        "outputId": "8c1b8393-2ecb-4f0d-f711-b2ced4ce1d65"
      },
      "execution_count": 64,
      "outputs": [
        {
          "output_type": "stream",
          "name": "stdout",
          "text": [
            "Model Accuracy: 0.7765\n"
          ]
        }
      ]
    },
    {
      "cell_type": "markdown",
      "source": [
        "## Explanation\n",
        "1. Loading Data: We load the Titanic dataset and remove rows with missing target values ('survived').\n",
        "\n",
        "2. Feature and Target Separation: Drop non-essential columns and separate features (X) from the target (y).\n",
        "\n",
        "3. Feature Types: Identify numerical and categorical features for specific processing.\n",
        "\n",
        "4. Numerical Pipeline: Impute missing numerical values with the mean and standardize the features.\n",
        "\n",
        "5. Categorical Pipeline: Impute missing categorical values with the most frequent value and apply one-hot encoding.\n",
        "\n",
        "6. Column Transformer: Apply appropriate pipelines to numerical and categorical features.\n",
        "\n",
        "7. Full Pipeline: Combine preprocessing with feature selection and model training using a Random Forest classifier.\n",
        "\n",
        "8. Model Training and Evaluation: Train the model and evaluate its accuracy on the test dataset."
      ],
      "metadata": {
        "id": "vIDxP3P0qtqq"
      }
    },
    {
      "cell_type": "markdown",
      "source": [
        "## Possible Improvements\n",
        "1. Feature Engineering: Add or create new features based on domain knowledge (e.g., creating features from names or ticket numbers).\n",
        "2. Hyperparameter Tuning: Use GridSearchCV or RandomizedSearchCV to optimize the Random Forest hyperparameters.\n",
        "3.Model Evaluation: Evaluate other metrics like precision, recall, and F1-score, especially if the dataset is imbalanced.\n",
        "\n",
        "This pipeline provides a robust approach to handling the Titanic dataset, ensuring that both numerical and categorical features are processed effectively before model training.\n",
        "\n",
        "\n",
        "\n",
        "\n",
        "\n",
        "\n"
      ],
      "metadata": {
        "id": "nRM9LAwWrBq3"
      }
    },
    {
      "cell_type": "markdown",
      "source": [
        "Q2. Build a pipeline that includes a random forest classifier and a logistic regression classifier, and then use a voting classifier to combine their predictions. Train the pipeline on the iris dataset and evaluate its accuracy."
      ],
      "metadata": {
        "id": "UhZmZ8h4rwLP"
      }
    },
    {
      "cell_type": "markdown",
      "source": [
        "To build a pipeline that includes a Random Forest Classifier and a Logistic Regression Classifier, and then use a Voting Classifier to combine their predictions on the Iris dataset, you can follow these steps:\n",
        "\n"
      ],
      "metadata": {
        "id": "vsij0oj3rxIN"
      }
    },
    {
      "cell_type": "markdown",
      "source": [
        "## Step 1: Import the necessary libraries\n"
      ],
      "metadata": {
        "id": "cjM_MK4Cr62z"
      }
    },
    {
      "cell_type": "code",
      "source": [
        "import numpy as np\n",
        "import pandas as pd\n",
        "from sklearn.datasets import load_iris\n",
        "from sklearn.model_selection import train_test_split\n",
        "from sklearn.ensemble import RandomForestClassifier, VotingClassifier\n",
        "from sklearn.linear_model import LogisticRegression\n",
        "from sklearn.pipeline import Pipeline\n",
        "from sklearn.preprocessing import StandardScaler\n",
        "from sklearn.metrics import accuracy_score\n"
      ],
      "metadata": {
        "id": "qWD97Zwpr9Yh"
      },
      "execution_count": 65,
      "outputs": []
    },
    {
      "cell_type": "markdown",
      "source": [
        "## Step 2: Load the Iris dataset\n"
      ],
      "metadata": {
        "id": "fCrriZXosAXe"
      }
    },
    {
      "cell_type": "code",
      "source": [
        "iris = load_iris()\n",
        "X = iris.data\n",
        "y = iris.target\n"
      ],
      "metadata": {
        "id": "4vBFn37ar9Zu"
      },
      "execution_count": 66,
      "outputs": []
    },
    {
      "cell_type": "markdown",
      "source": [
        "## Step 3: Split the data into training and test sets\n"
      ],
      "metadata": {
        "id": "DKWBoLeDsIx1"
      }
    },
    {
      "cell_type": "code",
      "source": [
        "X_train, X_test, y_train, y_test = train_test_split(X, y, test_size=0.2, random_state=42)\n"
      ],
      "metadata": {
        "id": "v9SVBTzzsEiE"
      },
      "execution_count": 67,
      "outputs": []
    },
    {
      "cell_type": "markdown",
      "source": [
        "## Step 4: Create individual pipelines for Random Forest and Logistic Regression\n"
      ],
      "metadata": {
        "id": "fEEFAPWPsMij"
      }
    },
    {
      "cell_type": "code",
      "source": [
        "pipeline_rf = Pipeline([\n",
        "    ('scaler', StandardScaler()),\n",
        "    ('rf', RandomForestClassifier(n_estimators=100, random_state=42))\n",
        "])\n",
        "\n",
        "pipeline_lr = Pipeline([\n",
        "    ('scaler', StandardScaler()),\n",
        "    ('lr', LogisticRegression(random_state=42))\n",
        "])\n"
      ],
      "metadata": {
        "id": "nuUnMK-lsMPD"
      },
      "execution_count": 68,
      "outputs": []
    },
    {
      "cell_type": "markdown",
      "source": [
        "## Step 5: Combine the pipelines using a Voting Classifier\n"
      ],
      "metadata": {
        "id": "wjNwG2H3sSd_"
      }
    },
    {
      "cell_type": "code",
      "source": [
        "voting_clf = VotingClassifier(\n",
        "    estimators=[('rf', pipeline_rf), ('lr', pipeline_lr)],\n",
        "    voting='hard'\n",
        ")\n"
      ],
      "metadata": {
        "id": "MTH3xgsOsSBE"
      },
      "execution_count": 69,
      "outputs": []
    },
    {
      "cell_type": "markdown",
      "source": [
        "## Step 6: Train the Voting Classifier on the training data\n"
      ],
      "metadata": {
        "id": "-05SSGADsW5C"
      }
    },
    {
      "cell_type": "code",
      "source": [
        "voting_clf.fit(X_train, y_train)\n"
      ],
      "metadata": {
        "colab": {
          "base_uri": "https://localhost:8080/",
          "height": 142
        },
        "id": "n4JkrpxssWlz",
        "outputId": "0da9193f-d4aa-4b09-aa4f-368a0e1e4b89"
      },
      "execution_count": 70,
      "outputs": [
        {
          "output_type": "execute_result",
          "data": {
            "text/plain": [
              "VotingClassifier(estimators=[('rf',\n",
              "                              Pipeline(steps=[('scaler', StandardScaler()),\n",
              "                                              ('rf',\n",
              "                                               RandomForestClassifier(random_state=42))])),\n",
              "                             ('lr',\n",
              "                              Pipeline(steps=[('scaler', StandardScaler()),\n",
              "                                              ('lr',\n",
              "                                               LogisticRegression(random_state=42))]))])"
            ],
            "text/html": [
              "<style>#sk-container-id-1 {color: black;}#sk-container-id-1 pre{padding: 0;}#sk-container-id-1 div.sk-toggleable {background-color: white;}#sk-container-id-1 label.sk-toggleable__label {cursor: pointer;display: block;width: 100%;margin-bottom: 0;padding: 0.3em;box-sizing: border-box;text-align: center;}#sk-container-id-1 label.sk-toggleable__label-arrow:before {content: \"▸\";float: left;margin-right: 0.25em;color: #696969;}#sk-container-id-1 label.sk-toggleable__label-arrow:hover:before {color: black;}#sk-container-id-1 div.sk-estimator:hover label.sk-toggleable__label-arrow:before {color: black;}#sk-container-id-1 div.sk-toggleable__content {max-height: 0;max-width: 0;overflow: hidden;text-align: left;background-color: #f0f8ff;}#sk-container-id-1 div.sk-toggleable__content pre {margin: 0.2em;color: black;border-radius: 0.25em;background-color: #f0f8ff;}#sk-container-id-1 input.sk-toggleable__control:checked~div.sk-toggleable__content {max-height: 200px;max-width: 100%;overflow: auto;}#sk-container-id-1 input.sk-toggleable__control:checked~label.sk-toggleable__label-arrow:before {content: \"▾\";}#sk-container-id-1 div.sk-estimator input.sk-toggleable__control:checked~label.sk-toggleable__label {background-color: #d4ebff;}#sk-container-id-1 div.sk-label input.sk-toggleable__control:checked~label.sk-toggleable__label {background-color: #d4ebff;}#sk-container-id-1 input.sk-hidden--visually {border: 0;clip: rect(1px 1px 1px 1px);clip: rect(1px, 1px, 1px, 1px);height: 1px;margin: -1px;overflow: hidden;padding: 0;position: absolute;width: 1px;}#sk-container-id-1 div.sk-estimator {font-family: monospace;background-color: #f0f8ff;border: 1px dotted black;border-radius: 0.25em;box-sizing: border-box;margin-bottom: 0.5em;}#sk-container-id-1 div.sk-estimator:hover {background-color: #d4ebff;}#sk-container-id-1 div.sk-parallel-item::after {content: \"\";width: 100%;border-bottom: 1px solid gray;flex-grow: 1;}#sk-container-id-1 div.sk-label:hover label.sk-toggleable__label {background-color: #d4ebff;}#sk-container-id-1 div.sk-serial::before {content: \"\";position: absolute;border-left: 1px solid gray;box-sizing: border-box;top: 0;bottom: 0;left: 50%;z-index: 0;}#sk-container-id-1 div.sk-serial {display: flex;flex-direction: column;align-items: center;background-color: white;padding-right: 0.2em;padding-left: 0.2em;position: relative;}#sk-container-id-1 div.sk-item {position: relative;z-index: 1;}#sk-container-id-1 div.sk-parallel {display: flex;align-items: stretch;justify-content: center;background-color: white;position: relative;}#sk-container-id-1 div.sk-item::before, #sk-container-id-1 div.sk-parallel-item::before {content: \"\";position: absolute;border-left: 1px solid gray;box-sizing: border-box;top: 0;bottom: 0;left: 50%;z-index: -1;}#sk-container-id-1 div.sk-parallel-item {display: flex;flex-direction: column;z-index: 1;position: relative;background-color: white;}#sk-container-id-1 div.sk-parallel-item:first-child::after {align-self: flex-end;width: 50%;}#sk-container-id-1 div.sk-parallel-item:last-child::after {align-self: flex-start;width: 50%;}#sk-container-id-1 div.sk-parallel-item:only-child::after {width: 0;}#sk-container-id-1 div.sk-dashed-wrapped {border: 1px dashed gray;margin: 0 0.4em 0.5em 0.4em;box-sizing: border-box;padding-bottom: 0.4em;background-color: white;}#sk-container-id-1 div.sk-label label {font-family: monospace;font-weight: bold;display: inline-block;line-height: 1.2em;}#sk-container-id-1 div.sk-label-container {text-align: center;}#sk-container-id-1 div.sk-container {/* jupyter's `normalize.less` sets `[hidden] { display: none; }` but bootstrap.min.css set `[hidden] { display: none !important; }` so we also need the `!important` here to be able to override the default hidden behavior on the sphinx rendered scikit-learn.org. See: https://github.com/scikit-learn/scikit-learn/issues/21755 */display: inline-block !important;position: relative;}#sk-container-id-1 div.sk-text-repr-fallback {display: none;}</style><div id=\"sk-container-id-1\" class=\"sk-top-container\"><div class=\"sk-text-repr-fallback\"><pre>VotingClassifier(estimators=[(&#x27;rf&#x27;,\n",
              "                              Pipeline(steps=[(&#x27;scaler&#x27;, StandardScaler()),\n",
              "                                              (&#x27;rf&#x27;,\n",
              "                                               RandomForestClassifier(random_state=42))])),\n",
              "                             (&#x27;lr&#x27;,\n",
              "                              Pipeline(steps=[(&#x27;scaler&#x27;, StandardScaler()),\n",
              "                                              (&#x27;lr&#x27;,\n",
              "                                               LogisticRegression(random_state=42))]))])</pre><b>In a Jupyter environment, please rerun this cell to show the HTML representation or trust the notebook. <br />On GitHub, the HTML representation is unable to render, please try loading this page with nbviewer.org.</b></div><div class=\"sk-container\" hidden><div class=\"sk-item sk-dashed-wrapped\"><div class=\"sk-label-container\"><div class=\"sk-label sk-toggleable\"><input class=\"sk-toggleable__control sk-hidden--visually\" id=\"sk-estimator-id-1\" type=\"checkbox\" ><label for=\"sk-estimator-id-1\" class=\"sk-toggleable__label sk-toggleable__label-arrow\">VotingClassifier</label><div class=\"sk-toggleable__content\"><pre>VotingClassifier(estimators=[(&#x27;rf&#x27;,\n",
              "                              Pipeline(steps=[(&#x27;scaler&#x27;, StandardScaler()),\n",
              "                                              (&#x27;rf&#x27;,\n",
              "                                               RandomForestClassifier(random_state=42))])),\n",
              "                             (&#x27;lr&#x27;,\n",
              "                              Pipeline(steps=[(&#x27;scaler&#x27;, StandardScaler()),\n",
              "                                              (&#x27;lr&#x27;,\n",
              "                                               LogisticRegression(random_state=42))]))])</pre></div></div></div><div class=\"sk-parallel\"><div class=\"sk-parallel-item\"><div class=\"sk-item\"><div class=\"sk-label-container\"><div class=\"sk-label sk-toggleable\"><label>rf</label></div></div><div class=\"sk-serial\"><div class=\"sk-item\"><div class=\"sk-serial\"><div class=\"sk-item\"><div class=\"sk-estimator sk-toggleable\"><input class=\"sk-toggleable__control sk-hidden--visually\" id=\"sk-estimator-id-2\" type=\"checkbox\" ><label for=\"sk-estimator-id-2\" class=\"sk-toggleable__label sk-toggleable__label-arrow\">StandardScaler</label><div class=\"sk-toggleable__content\"><pre>StandardScaler()</pre></div></div></div><div class=\"sk-item\"><div class=\"sk-estimator sk-toggleable\"><input class=\"sk-toggleable__control sk-hidden--visually\" id=\"sk-estimator-id-3\" type=\"checkbox\" ><label for=\"sk-estimator-id-3\" class=\"sk-toggleable__label sk-toggleable__label-arrow\">RandomForestClassifier</label><div class=\"sk-toggleable__content\"><pre>RandomForestClassifier(random_state=42)</pre></div></div></div></div></div></div></div></div><div class=\"sk-parallel-item\"><div class=\"sk-item\"><div class=\"sk-label-container\"><div class=\"sk-label sk-toggleable\"><label>lr</label></div></div><div class=\"sk-serial\"><div class=\"sk-item\"><div class=\"sk-serial\"><div class=\"sk-item\"><div class=\"sk-estimator sk-toggleable\"><input class=\"sk-toggleable__control sk-hidden--visually\" id=\"sk-estimator-id-4\" type=\"checkbox\" ><label for=\"sk-estimator-id-4\" class=\"sk-toggleable__label sk-toggleable__label-arrow\">StandardScaler</label><div class=\"sk-toggleable__content\"><pre>StandardScaler()</pre></div></div></div><div class=\"sk-item\"><div class=\"sk-estimator sk-toggleable\"><input class=\"sk-toggleable__control sk-hidden--visually\" id=\"sk-estimator-id-5\" type=\"checkbox\" ><label for=\"sk-estimator-id-5\" class=\"sk-toggleable__label sk-toggleable__label-arrow\">LogisticRegression</label><div class=\"sk-toggleable__content\"><pre>LogisticRegression(random_state=42)</pre></div></div></div></div></div></div></div></div></div></div></div></div>"
            ]
          },
          "metadata": {},
          "execution_count": 70
        }
      ]
    },
    {
      "cell_type": "markdown",
      "source": [
        "## Step 7: Make predictions and evaluate accuracy\n"
      ],
      "metadata": {
        "id": "LI_09ce2sbG2"
      }
    },
    {
      "cell_type": "code",
      "source": [
        "y_pred = voting_clf.predict(X_test)\n",
        "accuracy = accuracy_score(y_test, y_pred)\n",
        "print(f'Accuracy of the Voting Classifier: {accuracy:.2f}')\n"
      ],
      "metadata": {
        "colab": {
          "base_uri": "https://localhost:8080/"
        },
        "id": "YhJr8y7Hsao0",
        "outputId": "16141101-1f10-4028-b6de-a83e865f04f2"
      },
      "execution_count": 71,
      "outputs": [
        {
          "output_type": "stream",
          "name": "stdout",
          "text": [
            "Accuracy of the Voting Classifier: 1.00\n"
          ]
        }
      ]
    },
    {
      "cell_type": "markdown",
      "source": [
        "## Interpretation\n",
        "* Scaling: Both pipelines include StandardScaler to standardize features, which is important for Logistic Regression.\n",
        "* Voting Classifier: The VotingClassifier combines the predictions of Random Forest and Logistic Regression. Here, \"hard\" voting is used, which predicts the label that gets the most votes."
      ],
      "metadata": {
        "id": "CIpbeySQskRX"
      }
    },
    {
      "cell_type": "markdown",
      "source": [
        "##Suggestions for Improvement\n",
        "\n",
        "* Hyperparameter Tuning: Consider using GridSearchCV or RandomizedSearchCV to optimize hyperparameters for both classifiers.\n",
        "\n",
        "* Use of Soft Voting: Instead of hard voting, you could try soft voting, where predictions are based on the average of predicted probabilities.\n"
      ],
      "metadata": {
        "id": "flpKUkLxsqfZ"
      }
    }
  ]
}