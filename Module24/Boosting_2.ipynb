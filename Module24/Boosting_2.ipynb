{
  "nbformat": 4,
  "nbformat_minor": 0,
  "metadata": {
    "colab": {
      "provenance": []
    },
    "kernelspec": {
      "name": "python3",
      "display_name": "Python 3"
    },
    "language_info": {
      "name": "python"
    }
  },
  "cells": [
    {
      "cell_type": "markdown",
      "source": [
        "Q1. What is Gradient Boosting Regression?"
      ],
      "metadata": {
        "id": "0Nk-CB_2FzxB"
      }
    },
    {
      "cell_type": "markdown",
      "source": [
        "Gradient Boosting Regression is a machine learning technique that builds a model by combining the predictions of several simpler models, typically decision trees, to improve accuracy and robustness. Here’s a high-level overview of how it works:\n",
        "\n",
        "1. **Base Model**: It starts with a base model, usually a simple decision tree.\n",
        "\n",
        "2. **Residual Calculation**: The model's predictions are compared to the actual values, and the residuals (errors) are calculated.\n",
        "\n",
        "3. **Fit to Residuals**: A new model is then trained to predict these residuals. Essentially, this model is trying to correct the errors made by the previous model.\n",
        "\n",
        "4. **Update Predictions**: The predictions of the new model are added to the predictions of the previous model to update the overall prediction.\n",
        "\n",
        "5. **Iterate**: Steps 2 through 4 are repeated for a number of iterations or until no further improvement can be made. Each new model focuses on correcting the errors of the combined models from the previous steps.\n",
        "\n",
        "6. **Final Prediction**: The final prediction is the sum of the predictions from all the models.\n",
        "\n",
        "Gradient Boosting Regression is effective because it incrementally builds up a strong model by focusing on the mistakes of previous models, leading to improved performance on complex datasets."
      ],
      "metadata": {
        "id": "rO86pl8gF28T"
      }
    },
    {
      "cell_type": "markdown",
      "source": [
        "Q2. Implement a simple gradient boosting algorithm from scratch using Python and NumPy. Use a\n",
        "simple regression problem as an example and train the model on a small dataset. Evaluate the model's\n",
        "performance using metrics such as mean squared error and R-squared."
      ],
      "metadata": {
        "id": "z9QIDHSNGaXK"
      }
    },
    {
      "cell_type": "markdown",
      "source": [
        " Let's walk through implementing a simple gradient boosting algorithm from scratch in Python using NumPy. We'll use a small synthetic regression dataset for this example.\n",
        "\n"
      ],
      "metadata": {
        "id": "2OwX0gwnGdEA"
      }
    },
    {
      "cell_type": "markdown",
      "source": [
        "## 1. Generating a Synthetic Dataset\n",
        "We'll start by creating a small dataset for regression. This dataset will be simple and will help us focus on the gradient boosting implementation.\n",
        "\n"
      ],
      "metadata": {
        "id": "XtGlnLmkGmnR"
      }
    },
    {
      "cell_type": "code",
      "execution_count": 1,
      "metadata": {
        "id": "e8GHcqbIFtH9"
      },
      "outputs": [],
      "source": [
        "import numpy as np\n",
        "import matplotlib.pyplot as plt\n",
        "from sklearn.metrics import mean_squared_error, r2_score\n"
      ]
    },
    {
      "cell_type": "code",
      "source": [
        "# Generating a synthetic dataset\n",
        "np.random.seed(42)\n",
        "X = np.linspace(0, 10, 100).reshape(-1, 1)  # 100 samples, 1 feature\n",
        "y = 3 * X.flatten() + 7 + np.random.normal(0, 1, X.shape[0])  # Linear relation with noise\n"
      ],
      "metadata": {
        "id": "41DVUV4RGtpT"
      },
      "execution_count": 2,
      "outputs": []
    },
    {
      "cell_type": "code",
      "source": [
        "\n",
        "# Visualize the dataset\n",
        "plt.scatter(X, y, color='blue')\n",
        "plt.xlabel('X')\n",
        "plt.ylabel('y')\n",
        "plt.title('Synthetic Dataset')\n",
        "plt.show()"
      ],
      "metadata": {
        "colab": {
          "base_uri": "https://localhost:8080/",
          "height": 472
        },
        "id": "KRGsqNwUGz_U",
        "outputId": "871f8263-0048-42fa-c048-bc34e18ed87b"
      },
      "execution_count": 3,
      "outputs": [
        {
          "output_type": "display_data",
          "data": {
            "text/plain": [
              "<Figure size 640x480 with 1 Axes>"
            ],
            "image/png": "[encoded data removed]"
          },
          "metadata": {}
        }
      ]
    },
    {
      "cell_type": "markdown",
      "source": [
        "##2. Implementing Gradient Boosting from Scratch\n",
        "We'll implement a basic version of gradient boosting with decision stumps (trees with depth 1) as weak learners.\n",
        "\n"
      ],
      "metadata": {
        "id": "iKkko4X7G7Lw"
      }
    },
    {
      "cell_type": "code",
      "source": [
        "class GradientBoosting:\n",
        "    def __init__(self, n_estimators=10, learning_rate=0.1):\n",
        "        self.n_estimators = n_estimators\n",
        "        self.learning_rate = learning_rate\n",
        "        self.models = []\n",
        "        self.initial_prediction = None\n",
        "\n",
        "    def fit(self, X, y):\n",
        "        self.initial_prediction = np.mean(y)\n",
        "        residuals = y - self.initial_prediction\n",
        "\n",
        "        for _ in range(self.n_estimators):\n",
        "            model = self._fit_stump(X, residuals)\n",
        "            prediction = model.predict(X)\n",
        "            self.models.append(model)\n",
        "            residuals -= self.learning_rate * prediction\n",
        "\n",
        "    def predict(self, X):\n",
        "        predictions = np.full(X.shape[0], self.initial_prediction)\n",
        "        for model in self.models:\n",
        "            predictions += self.learning_rate * model.predict(X)\n",
        "        return predictions\n",
        "\n",
        "    def _fit_stump(self, X, residuals):\n",
        "        # Simple decision stump: one split decision tree\n",
        "        class DecisionStump:\n",
        "            def __init__(self):\n",
        "                self.split_value = None\n",
        "                self.prediction_left = None\n",
        "                self.prediction_right = None\n",
        "\n",
        "            def fit(self, X, residuals):\n",
        "                best_split = None\n",
        "                best_mse = float('inf')\n",
        "                for split_value in np.unique(X):\n",
        "                    left_mask = X.flatten() <= split_value\n",
        "                    right_mask = ~left_mask\n",
        "                    if np.sum(left_mask) == 0 or np.sum(right_mask) == 0:\n",
        "                        continue\n",
        "\n",
        "                    prediction_left = np.mean(residuals[left_mask])\n",
        "                    prediction_right = np.mean(residuals[right_mask])\n",
        "\n",
        "                    mse = (np.mean((residuals[left_mask] - prediction_left) ** 2) +\n",
        "                           np.mean((residuals[right_mask] - prediction_right) ** 2))\n",
        "\n",
        "                    if mse < best_mse:\n",
        "                        best_mse = mse\n",
        "                        best_split = split_value\n",
        "                        self.prediction_left = prediction_left\n",
        "                        self.prediction_right = prediction_right\n",
        "\n",
        "                self.split_value = best_split\n",
        "\n",
        "            def predict(self, X):\n",
        "                predictions = np.where(X.flatten() <= self.split_value,\n",
        "                                      self.prediction_left,\n",
        "                                      self.prediction_right)\n",
        "                return predictions\n",
        "\n",
        "        stump = DecisionStump()\n",
        "        stump.fit(X, residuals)\n",
        "        return stump\n"
      ],
      "metadata": {
        "id": "_Q-bISwRG3BQ"
      },
      "execution_count": 4,
      "outputs": []
    },
    {
      "cell_type": "markdown",
      "source": [
        "## 3. Training and Evaluating the Model\n",
        "Now we'll train the gradient boosting model and evaluate its performance.\n",
        "\n"
      ],
      "metadata": {
        "id": "t2Yo7ysvHqTj"
      }
    },
    {
      "cell_type": "code",
      "source": [
        "# Train the gradient boosting model\n",
        "gb = GradientBoosting(n_estimators=10, learning_rate=0.1)\n",
        "gb.fit(X, y)\n",
        "y_pred = gb.predict(X)\n",
        "\n",
        "# Evaluate performance\n",
        "mse = mean_squared_error(y, y_pred)\n",
        "r2 = r2_score(y, y_pred)\n",
        "\n",
        "print(f\"Mean Squared Error: {mse:.4f}\")\n",
        "print(f\"R-squared: {r2:.4f}\")\n",
        "\n",
        "# Plot the predictions\n",
        "plt.scatter(X, y, color='blue', label='Actual')\n",
        "plt.plot(X, y_pred, color='red', label='Predicted', linewidth=2)\n",
        "plt.xlabel('X')\n",
        "plt.ylabel('y')\n",
        "plt.title('Gradient Boosting Predictions')\n",
        "plt.legend()\n",
        "plt.show()\n"
      ],
      "metadata": {
        "colab": {
          "base_uri": "https://localhost:8080/",
          "height": 507
        },
        "id": "rEKCZv_JHKXa",
        "outputId": "e7a3efa2-bd04-4ca4-d605-b7e95585e23b"
      },
      "execution_count": 5,
      "outputs": [
        {
          "output_type": "stream",
          "name": "stdout",
          "text": [
            "Mean Squared Error: 20.7438\n",
            "R-squared: 0.7342\n"
          ]
        },
        {
          "output_type": "display_data",
          "data": {
            "text/plain": [
              "<Figure size 640x480 with 1 Axes>"
            ],
            "image/png": "[encoded data removed]"
          },
          "metadata": {}
        }
      ]
    },
    {
      "cell_type": "markdown",
      "source": [
        "This is a basic implementation to demonstrate the concept. In practice, gradient boosting frameworks like XGBoost or LightGBM are used for more complex and optimized implementations.\n",
        "\n",
        "\n",
        "\n",
        "\n",
        "\n",
        "\n"
      ],
      "metadata": {
        "id": "3UDo5K0FH4J8"
      }
    },
    {
      "cell_type": "markdown",
      "source": [
        "Q3. Experiment with different hyperparameters such as learning rate, number of trees, and tree depth to\n",
        "optimise the performance of the model. Use grid search or random search to find the best\n",
        "hyperparameters"
      ],
      "metadata": {
        "id": "2pgGSPxAH-FP"
      }
    },
    {
      "cell_type": "markdown",
      "source": [
        "To optimize a model using different hyperparameters, you can use techniques like Grid Search or Random Search. Here's a general approach for performing this task:\n",
        "\n",
        "### Steps:\n",
        "1. **Select a model**: Choose the model you want to optimize (e.g., Gradient Boosting, Random Forest, etc.).\n",
        "2. **Define the hyperparameters**: List the hyperparameters to tune, such as learning rate, number of trees, and tree depth.\n",
        "3. **Set up the search strategy**:\n",
        "   - **Grid Search**: Exhaustively searches through a manually specified subset of the hyperparameter space.\n",
        "   - **Random Search**: Randomly samples from the hyperparameter space. It is generally faster when dealing with a large number of hyperparameters.\n",
        "4. **Evaluate the performance**: Use cross-validation to evaluate the performance of each combination of hyperparameters.\n",
        "5. **Choose the best model**: Select the hyperparameters that yield the best performance.\n",
        "\n",
        "\n",
        "\n",
        "\n",
        "``\n",
        "\n",
        "### Key Points:\n",
        "- **Grid Search** is exhaustive but can be computationally expensive.\n",
        "- **Random Search** can be more efficient for larger hyperparameter spaces.\n",
        "- Use cross-validation to ensure robust performance evaluation.\n",
        "\n",
        "These techniques allow you to find the best combination of hyperparameters for your specific model and dataset."
      ],
      "metadata": {
        "id": "aPtpWAdaINoW"
      }
    },
    {
      "cell_type": "markdown",
      "source": [
        "## Example: Using Grid Search with a Random Forest\n",
        "Here is an example in Python using GridSearchCV to optimize hyperparameters for a Random Forest model:\n",
        "\n"
      ],
      "metadata": {
        "id": "8y07RdpXIj9P"
      }
    },
    {
      "cell_type": "code",
      "source": [
        "from sklearn.ensemble import RandomForestClassifier\n",
        "from sklearn.model_selection import GridSearchCV\n",
        "from sklearn.datasets import load_iris\n",
        "from sklearn.model_selection import train_test_split\n"
      ],
      "metadata": {
        "id": "9147WjbmHxX7"
      },
      "execution_count": 6,
      "outputs": []
    },
    {
      "cell_type": "code",
      "source": [
        "# Load dataset\n",
        "data = load_iris()\n",
        "X = data.data\n",
        "y = data.target\n"
      ],
      "metadata": {
        "id": "R5KVNOP5Ir_1"
      },
      "execution_count": 7,
      "outputs": []
    },
    {
      "cell_type": "code",
      "source": [
        "# Split dataset\n",
        "X_train, X_test, y_train, y_test = train_test_split(X, y, test_size=0.2, random_state=42)\n"
      ],
      "metadata": {
        "id": "PMyhV1sKIw16"
      },
      "execution_count": 8,
      "outputs": []
    },
    {
      "cell_type": "code",
      "source": [
        "# Initialize model\n",
        "rf = RandomForestClassifier()\n"
      ],
      "metadata": {
        "id": "tlLJyB-4IzW-"
      },
      "execution_count": 9,
      "outputs": []
    },
    {
      "cell_type": "code",
      "source": [
        "# Define hyperparameters\n",
        "param_grid = {\n",
        "    'n_estimators': [100, 200, 300],\n",
        "    'max_depth': [10, 20, 30, None],\n",
        "    'min_samples_split': [2, 5, 10],\n",
        "    'min_samples_leaf': [1, 2, 4],\n",
        "    'bootstrap': [True, False]\n",
        "}"
      ],
      "metadata": {
        "id": "nBkppN9kI2Hm"
      },
      "execution_count": 10,
      "outputs": []
    },
    {
      "cell_type": "code",
      "source": [
        "# Initialize GridSearchCV\n",
        "grid_search = GridSearchCV(estimator=rf, param_grid=param_grid, cv=5, n_jobs=-1, verbose=2)\n"
      ],
      "metadata": {
        "id": "EbJYq5zxI7oV"
      },
      "execution_count": 11,
      "outputs": []
    },
    {
      "cell_type": "code",
      "source": [
        "# Fit the model\n",
        "grid_search.fit(X_train, y_train)\n"
      ],
      "metadata": {
        "colab": {
          "base_uri": "https://localhost:8080/",
          "height": 306
        },
        "id": "eKJf7r6oI_6u",
        "outputId": "665c559a-7a83-40cd-a8cf-87e68969885b"
      },
      "execution_count": 12,
      "outputs": [
        {
          "output_type": "stream",
          "name": "stdout",
          "text": [
            "Fitting 5 folds for each of 216 candidates, totalling 1080 fits\n"
          ]
        },
        {
          "output_type": "execute_result",
          "data": {
            "text/plain": [
              "GridSearchCV(cv=5, estimator=RandomForestClassifier(), n_jobs=-1,\n",
              "             param_grid={'bootstrap': [True, False],\n",
              "                         'max_depth': [10, 20, 30, None],\n",
              "                         'min_samples_leaf': [1, 2, 4],\n",
              "                         'min_samples_split': [2, 5, 10],\n",
              "                         'n_estimators': [100, 200, 300]},\n",
              "             verbose=2)"
            ],
            "text/html": [
              "<style>#sk-container-id-1 {color: black;}#sk-container-id-1 pre{padding: 0;}#sk-container-id-1 div.sk-toggleable {background-color: white;}#sk-container-id-1 label.sk-toggleable__label {cursor: pointer;display: block;width: 100%;margin-bottom: 0;padding: 0.3em;box-sizing: border-box;text-align: center;}#sk-container-id-1 label.sk-toggleable__label-arrow:before {content: \"▸\";float: left;margin-right: 0.25em;color: #696969;}#sk-container-id-1 label.sk-toggleable__label-arrow:hover:before {color: black;}#sk-container-id-1 div.sk-estimator:hover label.sk-toggleable__label-arrow:before {color: black;}#sk-container-id-1 div.sk-toggleable__content {max-height: 0;max-width: 0;overflow: hidden;text-align: left;background-color: #f0f8ff;}#sk-container-id-1 div.sk-toggleable__content pre {margin: 0.2em;color: black;border-radius: 0.25em;background-color: #f0f8ff;}#sk-container-id-1 input.sk-toggleable__control:checked~div.sk-toggleable__content {max-height: 200px;max-width: 100%;overflow: auto;}#sk-container-id-1 input.sk-toggleable__control:checked~label.sk-toggleable__label-arrow:before {content: \"▾\";}#sk-container-id-1 div.sk-estimator input.sk-toggleable__control:checked~label.sk-toggleable__label {background-color: #d4ebff;}#sk-container-id-1 div.sk-label input.sk-toggleable__control:checked~label.sk-toggleable__label {background-color: #d4ebff;}#sk-container-id-1 input.sk-hidden--visually {border: 0;clip: rect(1px 1px 1px 1px);clip: rect(1px, 1px, 1px, 1px);height: 1px;margin: -1px;overflow: hidden;padding: 0;position: absolute;width: 1px;}#sk-container-id-1 div.sk-estimator {font-family: monospace;background-color: #f0f8ff;border: 1px dotted black;border-radius: 0.25em;box-sizing: border-box;margin-bottom: 0.5em;}#sk-container-id-1 div.sk-estimator:hover {background-color: #d4ebff;}#sk-container-id-1 div.sk-parallel-item::after {content: \"\";width: 100%;border-bottom: 1px solid gray;flex-grow: 1;}#sk-container-id-1 div.sk-label:hover label.sk-toggleable__label {background-color: #d4ebff;}#sk-container-id-1 div.sk-serial::before {content: \"\";position: absolute;border-left: 1px solid gray;box-sizing: border-box;top: 0;bottom: 0;left: 50%;z-index: 0;}#sk-container-id-1 div.sk-serial {display: flex;flex-direction: column;align-items: center;background-color: white;padding-right: 0.2em;padding-left: 0.2em;position: relative;}#sk-container-id-1 div.sk-item {position: relative;z-index: 1;}#sk-container-id-1 div.sk-parallel {display: flex;align-items: stretch;justify-content: center;background-color: white;position: relative;}#sk-container-id-1 div.sk-item::before, #sk-container-id-1 div.sk-parallel-item::before {content: \"\";position: absolute;border-left: 1px solid gray;box-sizing: border-box;top: 0;bottom: 0;left: 50%;z-index: -1;}#sk-container-id-1 div.sk-parallel-item {display: flex;flex-direction: column;z-index: 1;position: relative;background-color: white;}#sk-container-id-1 div.sk-parallel-item:first-child::after {align-self: flex-end;width: 50%;}#sk-container-id-1 div.sk-parallel-item:last-child::after {align-self: flex-start;width: 50%;}#sk-container-id-1 div.sk-parallel-item:only-child::after {width: 0;}#sk-container-id-1 div.sk-dashed-wrapped {border: 1px dashed gray;margin: 0 0.4em 0.5em 0.4em;box-sizing: border-box;padding-bottom: 0.4em;background-color: white;}#sk-container-id-1 div.sk-label label {font-family: monospace;font-weight: bold;display: inline-block;line-height: 1.2em;}#sk-container-id-1 div.sk-label-container {text-align: center;}#sk-container-id-1 div.sk-container {/* jupyter's `normalize.less` sets `[hidden] { display: none; }` but bootstrap.min.css set `[hidden] { display: none !important; }` so we also need the `!important` here to be able to override the default hidden behavior on the sphinx rendered scikit-learn.org. See: https://github.com/scikit-learn/scikit-learn/issues/21755 */display: inline-block !important;position: relative;}#sk-container-id-1 div.sk-text-repr-fallback {display: none;}</style><div id=\"sk-container-id-1\" class=\"sk-top-container\"><div class=\"sk-text-repr-fallback\"><pre>GridSearchCV(cv=5, estimator=RandomForestClassifier(), n_jobs=-1,\n",
              "             param_grid={&#x27;bootstrap&#x27;: [True, False],\n",
              "                         &#x27;max_depth&#x27;: [10, 20, 30, None],\n",
              "                         &#x27;min_samples_leaf&#x27;: [1, 2, 4],\n",
              "                         &#x27;min_samples_split&#x27;: [2, 5, 10],\n",
              "                         &#x27;n_estimators&#x27;: [100, 200, 300]},\n",
              "             verbose=2)</pre><b>In a Jupyter environment, please rerun this cell to show the HTML representation or trust the notebook. <br />On GitHub, the HTML representation is unable to render, please try loading this page with nbviewer.org.</b></div><div class=\"sk-container\" hidden><div class=\"sk-item sk-dashed-wrapped\"><div class=\"sk-label-container\"><div class=\"sk-label sk-toggleable\"><input class=\"sk-toggleable__control sk-hidden--visually\" id=\"sk-estimator-id-1\" type=\"checkbox\" ><label for=\"sk-estimator-id-1\" class=\"sk-toggleable__label sk-toggleable__label-arrow\">GridSearchCV</label><div class=\"sk-toggleable__content\"><pre>GridSearchCV(cv=5, estimator=RandomForestClassifier(), n_jobs=-1,\n",
              "             param_grid={&#x27;bootstrap&#x27;: [True, False],\n",
              "                         &#x27;max_depth&#x27;: [10, 20, 30, None],\n",
              "                         &#x27;min_samples_leaf&#x27;: [1, 2, 4],\n",
              "                         &#x27;min_samples_split&#x27;: [2, 5, 10],\n",
              "                         &#x27;n_estimators&#x27;: [100, 200, 300]},\n",
              "             verbose=2)</pre></div></div></div><div class=\"sk-parallel\"><div class=\"sk-parallel-item\"><div class=\"sk-item\"><div class=\"sk-label-container\"><div class=\"sk-label sk-toggleable\"><input class=\"sk-toggleable__control sk-hidden--visually\" id=\"sk-estimator-id-2\" type=\"checkbox\" ><label for=\"sk-estimator-id-2\" class=\"sk-toggleable__label sk-toggleable__label-arrow\">estimator: RandomForestClassifier</label><div class=\"sk-toggleable__content\"><pre>RandomForestClassifier()</pre></div></div></div><div class=\"sk-serial\"><div class=\"sk-item\"><div class=\"sk-estimator sk-toggleable\"><input class=\"sk-toggleable__control sk-hidden--visually\" id=\"sk-estimator-id-3\" type=\"checkbox\" ><label for=\"sk-estimator-id-3\" class=\"sk-toggleable__label sk-toggleable__label-arrow\">RandomForestClassifier</label><div class=\"sk-toggleable__content\"><pre>RandomForestClassifier()</pre></div></div></div></div></div></div></div></div></div></div>"
            ]
          },
          "metadata": {},
          "execution_count": 12
        }
      ]
    },
    {
      "cell_type": "code",
      "source": [
        "# Best hyperparameters\n",
        "print(f\"Best Hyperparameters: {grid_search.best_params_}\")\n"
      ],
      "metadata": {
        "colab": {
          "base_uri": "https://localhost:8080/"
        },
        "id": "eo_m1roVJFBL",
        "outputId": "fd9e8113-ba26-4a23-d872-9022daf4a3a8"
      },
      "execution_count": 13,
      "outputs": [
        {
          "output_type": "stream",
          "name": "stdout",
          "text": [
            "Best Hyperparameters: {'bootstrap': True, 'max_depth': 10, 'min_samples_leaf': 2, 'min_samples_split': 5, 'n_estimators': 300}\n"
          ]
        }
      ]
    },
    {
      "cell_type": "code",
      "source": [
        "# Evaluate performance on the test set\n",
        "best_model = grid_search.best_estimator_\n",
        "accuracy = best_model.score(X_test, y_test)\n",
        "print(f\"Test Accuracy: {accuracy:.2f}\")"
      ],
      "metadata": {
        "colab": {
          "base_uri": "https://localhost:8080/"
        },
        "id": "gh-VMNDkKZ-0",
        "outputId": "698d1400-7780-4af7-a7e9-316239edc07d"
      },
      "execution_count": 14,
      "outputs": [
        {
          "output_type": "stream",
          "name": "stdout",
          "text": [
            "Test Accuracy: 1.00\n"
          ]
        }
      ]
    },
    {
      "cell_type": "markdown",
      "source": [
        "## Example: Using Random Search with a Gradient Boosting Classifier\n",
        "Here is an example using RandomizedSearchCV for a Gradient Boosting model:\n",
        "\n"
      ],
      "metadata": {
        "id": "0zJmjdDQKfB4"
      }
    },
    {
      "cell_type": "code",
      "source": [
        "from sklearn.ensemble import GradientBoostingClassifier\n",
        "from sklearn.model_selection import RandomizedSearchCV\n",
        "import numpy as np\n"
      ],
      "metadata": {
        "id": "4oxr86LCKk9_"
      },
      "execution_count": 15,
      "outputs": []
    },
    {
      "cell_type": "code",
      "source": [
        "# Initialize model\n",
        "gb = GradientBoostingClassifier()\n"
      ],
      "metadata": {
        "id": "3ByvH6I_Koi5"
      },
      "execution_count": 16,
      "outputs": []
    },
    {
      "cell_type": "code",
      "source": [
        "# Define hyperparameters\n",
        "param_dist = {\n",
        "    'learning_rate': [0.01, 0.1, 0.2],\n",
        "    'n_estimators': np.arange(100, 1000, 100),\n",
        "    'max_depth': np.arange(3, 10),\n",
        "    'min_samples_split': [2, 5, 10],\n",
        "    'min_samples_leaf': [1, 2, 4],\n",
        "    'subsample': [0.6, 0.8, 1.0]\n",
        "}"
      ],
      "metadata": {
        "id": "6gieMYhsKrDA"
      },
      "execution_count": 17,
      "outputs": []
    },
    {
      "cell_type": "code",
      "source": [
        "# Initialize RandomizedSearchCV\n",
        "random_search = RandomizedSearchCV(estimator=gb, param_distributions=param_dist, n_iter=100, cv=5, random_state=42, n_jobs=-1, verbose=2)\n"
      ],
      "metadata": {
        "id": "UezLqCHmKtcP"
      },
      "execution_count": 18,
      "outputs": []
    },
    {
      "cell_type": "code",
      "source": [
        "# Fit the model\n",
        "random_search.fit(X_train, y_train)\n"
      ],
      "metadata": {
        "colab": {
          "base_uri": "https://localhost:8080/",
          "height": 133
        },
        "id": "fzvk7kXdKxKa",
        "outputId": "eb37c4f2-9e5e-4d37-d11d-152d8a343aeb"
      },
      "execution_count": 19,
      "outputs": [
        {
          "output_type": "stream",
          "name": "stdout",
          "text": [
            "Fitting 5 folds for each of 100 candidates, totalling 500 fits\n"
          ]
        },
        {
          "output_type": "execute_result",
          "data": {
            "text/plain": [
              "RandomizedSearchCV(cv=5, estimator=GradientBoostingClassifier(), n_iter=100,\n",
              "                   n_jobs=-1,\n",
              "                   param_distributions={'learning_rate': [0.01, 0.1, 0.2],\n",
              "                                        'max_depth': array([3, 4, 5, 6, 7, 8, 9]),\n",
              "                                        'min_samples_leaf': [1, 2, 4],\n",
              "                                        'min_samples_split': [2, 5, 10],\n",
              "                                        'n_estimators': array([100, 200, 300, 400, 500, 600, 700, 800, 900]),\n",
              "                                        'subsample': [0.6, 0.8, 1.0]},\n",
              "                   random_state=42, verbose=2)"
            ],
            "text/html": [
              "<style>#sk-container-id-2 {color: black;}#sk-container-id-2 pre{padding: 0;}#sk-container-id-2 div.sk-toggleable {background-color: white;}#sk-container-id-2 label.sk-toggleable__label {cursor: pointer;display: block;width: 100%;margin-bottom: 0;padding: 0.3em;box-sizing: border-box;text-align: center;}#sk-container-id-2 label.sk-toggleable__label-arrow:before {content: \"▸\";float: left;margin-right: 0.25em;color: #696969;}#sk-container-id-2 label.sk-toggleable__label-arrow:hover:before {color: black;}#sk-container-id-2 div.sk-estimator:hover label.sk-toggleable__label-arrow:before {color: black;}#sk-container-id-2 div.sk-toggleable__content {max-height: 0;max-width: 0;overflow: hidden;text-align: left;background-color: #f0f8ff;}#sk-container-id-2 div.sk-toggleable__content pre {margin: 0.2em;color: black;border-radius: 0.25em;background-color: #f0f8ff;}#sk-container-id-2 input.sk-toggleable__control:checked~div.sk-toggleable__content {max-height: 200px;max-width: 100%;overflow: auto;}#sk-container-id-2 input.sk-toggleable__control:checked~label.sk-toggleable__label-arrow:before {content: \"▾\";}#sk-container-id-2 div.sk-estimator input.sk-toggleable__control:checked~label.sk-toggleable__label {background-color: #d4ebff;}#sk-container-id-2 div.sk-label input.sk-toggleable__control:checked~label.sk-toggleable__label {background-color: #d4ebff;}#sk-container-id-2 input.sk-hidden--visually {border: 0;clip: rect(1px 1px 1px 1px);clip: rect(1px, 1px, 1px, 1px);height: 1px;margin: -1px;overflow: hidden;padding: 0;position: absolute;width: 1px;}#sk-container-id-2 div.sk-estimator {font-family: monospace;background-color: #f0f8ff;border: 1px dotted black;border-radius: 0.25em;box-sizing: border-box;margin-bottom: 0.5em;}#sk-container-id-2 div.sk-estimator:hover {background-color: #d4ebff;}#sk-container-id-2 div.sk-parallel-item::after {content: \"\";width: 100%;border-bottom: 1px solid gray;flex-grow: 1;}#sk-container-id-2 div.sk-label:hover label.sk-toggleable__label {background-color: #d4ebff;}#sk-container-id-2 div.sk-serial::before {content: \"\";position: absolute;border-left: 1px solid gray;box-sizing: border-box;top: 0;bottom: 0;left: 50%;z-index: 0;}#sk-container-id-2 div.sk-serial {display: flex;flex-direction: column;align-items: center;background-color: white;padding-right: 0.2em;padding-left: 0.2em;position: relative;}#sk-container-id-2 div.sk-item {position: relative;z-index: 1;}#sk-container-id-2 div.sk-parallel {display: flex;align-items: stretch;justify-content: center;background-color: white;position: relative;}#sk-container-id-2 div.sk-item::before, #sk-container-id-2 div.sk-parallel-item::before {content: \"\";position: absolute;border-left: 1px solid gray;box-sizing: border-box;top: 0;bottom: 0;left: 50%;z-index: -1;}#sk-container-id-2 div.sk-parallel-item {display: flex;flex-direction: column;z-index: 1;position: relative;background-color: white;}#sk-container-id-2 div.sk-parallel-item:first-child::after {align-self: flex-end;width: 50%;}#sk-container-id-2 div.sk-parallel-item:last-child::after {align-self: flex-start;width: 50%;}#sk-container-id-2 div.sk-parallel-item:only-child::after {width: 0;}#sk-container-id-2 div.sk-dashed-wrapped {border: 1px dashed gray;margin: 0 0.4em 0.5em 0.4em;box-sizing: border-box;padding-bottom: 0.4em;background-color: white;}#sk-container-id-2 div.sk-label label {font-family: monospace;font-weight: bold;display: inline-block;line-height: 1.2em;}#sk-container-id-2 div.sk-label-container {text-align: center;}#sk-container-id-2 div.sk-container {/* jupyter's `normalize.less` sets `[hidden] { display: none; }` but bootstrap.min.css set `[hidden] { display: none !important; }` so we also need the `!important` here to be able to override the default hidden behavior on the sphinx rendered scikit-learn.org. See: https://github.com/scikit-learn/scikit-learn/issues/21755 */display: inline-block !important;position: relative;}#sk-container-id-2 div.sk-text-repr-fallback {display: none;}</style><div id=\"sk-container-id-2\" class=\"sk-top-container\"><div class=\"sk-text-repr-fallback\"><pre>RandomizedSearchCV(cv=5, estimator=GradientBoostingClassifier(), n_iter=100,\n",
              "                   n_jobs=-1,\n",
              "                   param_distributions={&#x27;learning_rate&#x27;: [0.01, 0.1, 0.2],\n",
              "                                        &#x27;max_depth&#x27;: array([3, 4, 5, 6, 7, 8, 9]),\n",
              "                                        &#x27;min_samples_leaf&#x27;: [1, 2, 4],\n",
              "                                        &#x27;min_samples_split&#x27;: [2, 5, 10],\n",
              "                                        &#x27;n_estimators&#x27;: array([100, 200, 300, 400, 500, 600, 700, 800, 900]),\n",
              "                                        &#x27;subsample&#x27;: [0.6, 0.8, 1.0]},\n",
              "                   random_state=42, verbose=2)</pre><b>In a Jupyter environment, please rerun this cell to show the HTML representation or trust the notebook. <br />On GitHub, the HTML representation is unable to render, please try loading this page with nbviewer.org.</b></div><div class=\"sk-container\" hidden><div class=\"sk-item sk-dashed-wrapped\"><div class=\"sk-label-container\"><div class=\"sk-label sk-toggleable\"><input class=\"sk-toggleable__control sk-hidden--visually\" id=\"sk-estimator-id-4\" type=\"checkbox\" ><label for=\"sk-estimator-id-4\" class=\"sk-toggleable__label sk-toggleable__label-arrow\">RandomizedSearchCV</label><div class=\"sk-toggleable__content\"><pre>RandomizedSearchCV(cv=5, estimator=GradientBoostingClassifier(), n_iter=100,\n",
              "                   n_jobs=-1,\n",
              "                   param_distributions={&#x27;learning_rate&#x27;: [0.01, 0.1, 0.2],\n",
              "                                        &#x27;max_depth&#x27;: array([3, 4, 5, 6, 7, 8, 9]),\n",
              "                                        &#x27;min_samples_leaf&#x27;: [1, 2, 4],\n",
              "                                        &#x27;min_samples_split&#x27;: [2, 5, 10],\n",
              "                                        &#x27;n_estimators&#x27;: array([100, 200, 300, 400, 500, 600, 700, 800, 900]),\n",
              "                                        &#x27;subsample&#x27;: [0.6, 0.8, 1.0]},\n",
              "                   random_state=42, verbose=2)</pre></div></div></div><div class=\"sk-parallel\"><div class=\"sk-parallel-item\"><div class=\"sk-item\"><div class=\"sk-label-container\"><div class=\"sk-label sk-toggleable\"><input class=\"sk-toggleable__control sk-hidden--visually\" id=\"sk-estimator-id-5\" type=\"checkbox\" ><label for=\"sk-estimator-id-5\" class=\"sk-toggleable__label sk-toggleable__label-arrow\">estimator: GradientBoostingClassifier</label><div class=\"sk-toggleable__content\"><pre>GradientBoostingClassifier()</pre></div></div></div><div class=\"sk-serial\"><div class=\"sk-item\"><div class=\"sk-estimator sk-toggleable\"><input class=\"sk-toggleable__control sk-hidden--visually\" id=\"sk-estimator-id-6\" type=\"checkbox\" ><label for=\"sk-estimator-id-6\" class=\"sk-toggleable__label sk-toggleable__label-arrow\">GradientBoostingClassifier</label><div class=\"sk-toggleable__content\"><pre>GradientBoostingClassifier()</pre></div></div></div></div></div></div></div></div></div></div>"
            ]
          },
          "metadata": {},
          "execution_count": 19
        }
      ]
    },
    {
      "cell_type": "code",
      "source": [
        "# Best hyperparameters\n",
        "print(f\"Best Hyperparameters: {random_search.best_params_}\")"
      ],
      "metadata": {
        "colab": {
          "base_uri": "https://localhost:8080/"
        },
        "id": "d2f-BJfVKz3B",
        "outputId": "5e301d3f-4607-46ce-b049-5309a0e748a6"
      },
      "execution_count": 20,
      "outputs": [
        {
          "output_type": "stream",
          "name": "stdout",
          "text": [
            "Best Hyperparameters: {'subsample': 1.0, 'n_estimators': 100, 'min_samples_split': 2, 'min_samples_leaf': 4, 'max_depth': 6, 'learning_rate': 0.01}\n"
          ]
        }
      ]
    },
    {
      "cell_type": "code",
      "source": [
        "# Evaluate performance on the test set\n",
        "best_model = random_search.best_estimator_\n",
        "accuracy = best_model.score(X_test, y_test)\n",
        "print(f\"Test Accuracy: {accuracy:.2f}\")"
      ],
      "metadata": {
        "colab": {
          "base_uri": "https://localhost:8080/"
        },
        "id": "sLeUzKb2NzPw",
        "outputId": "92a1ac5f-931d-41bf-8921-33887465942c"
      },
      "execution_count": 21,
      "outputs": [
        {
          "output_type": "stream",
          "name": "stdout",
          "text": [
            "Test Accuracy: 1.00\n"
          ]
        }
      ]
    },
    {
      "cell_type": "markdown",
      "source": [
        "Q4. What is a weak learner in Gradient Boosting?"
      ],
      "metadata": {
        "id": "KJBuYBYsOFVw"
      }
    },
    {
      "cell_type": "markdown",
      "source": [
        "In **Gradient Boosting**, a **weak learner** refers to a model that performs only slightly better than random guessing. Specifically, decision trees are commonly used as weak learners in Gradient Boosting. These trees are usually shallow, containing only a few splits, and therefore, they are weak in their predictive power¹². The idea behind Gradient Boosting is to combine many such weak learners to create a strong ensemble model that improves prediction accuracy by sequentially minimizing the errors left over by previous models¹."
      ],
      "metadata": {
        "id": "AxW-BXA5OJcf"
      }
    },
    {
      "cell_type": "markdown",
      "source": [
        "Q5. What is the intuition behind the Gradient Boosting algorithm?"
      ],
      "metadata": {
        "id": "U-pb3RrYOTcC"
      }
    },
    {
      "cell_type": "markdown",
      "source": [
        "Certainly! The intuition behind **Gradient Boosting** lies in combining many weak predictive models (usually decision trees) to create a strong ensemble model. Here's how it works:\n",
        "\n",
        "1. **Initialization**: Start with a base model, which could be as simple as a decision tree. This model makes initial predictions for each instance in the dataset.\n",
        "2. **Compute Residuals**: Calculate the residuals (errors) for each prediction. These residuals are the differences between the predicted and actual values.\n",
        "3. **Build Successive Trees**: Each new tree in the sequence is built to predict the residuals of the previous tree. Essentially, it tries to correct the mistakes of its predecessors.\n",
        "4. **Gradient Descent Step**: Adjust the model parameters to minimize the loss function. Gradually boosting is done by fitting the new trees to the negative gradient of the loss function.\n",
        "5. **Combine Predictors**: The predictions from all trees are then combined through a weighted sum to make the final prediction. The weights are typically determined by the learning rate, which controls how fast the model learns.\n",
        "\n",
        "**Key Features**:\n",
        "- **Loss Function**: Gradient boosting can be used with different loss functions, making it adaptable to regression, classification, and other tasks.\n",
        "- **Learning Rate**: This parameter controls the contribution of each tree to the final outcome. A smaller learning rate might require more trees but can lead to a more robust model.\n",
        "- **Number of Trees**: Carefully tune the number of trees (boosting stages) to avoid underfitting or overfitting.\n",
        "\n",
        "**Practical Applications**: Gradient boosting is versatile and widely used in finance (credit scoring), marketing (customer churn prediction), and healthcare (predictive diagnostics) due to its high predictive accuracy⁴."
      ],
      "metadata": {
        "id": "T9z4iZhWOa-Z"
      }
    },
    {
      "cell_type": "markdown",
      "source": [
        "Q5. What is the intuition behind the Gradient Boosting algorithm?"
      ],
      "metadata": {
        "id": "xnanpPJrPcoL"
      }
    },
    {
      "cell_type": "markdown",
      "source": [
        "Certainly! The intuition behind **Gradient Boosting** lies in combining many weak predictive models (usually decision trees) to create a strong ensemble model. Here's how it works:\n",
        "\n",
        "1. **Initialization**: Start with a base model, which could be as simple as a decision tree. This model makes initial predictions for each instance in the dataset.\n",
        "2. **Compute Residuals**: Calculate the residuals (errors) for each prediction. These residuals are the differences between the predicted and actual values.\n",
        "3. **Build Successive Trees**: Each new tree in the sequence is built to predict the residuals of the previous tree. Essentially, it tries to correct the mistakes of its predecessors.\n",
        "4. **Gradient Descent Step**: Adjust the model parameters to minimize the loss function. Gradually boosting is done by fitting the new trees to the negative gradient of the loss function.\n",
        "5. **Combine Predictors**: The predictions from all trees are then combined through a weighted sum to make the final prediction. The weights are typically determined by the learning rate, which controls how fast the model learns.\n",
        "\n",
        "**Key Features**:\n",
        "- **Loss Function**: Gradient boosting can be used with different loss functions, making it adaptable to regression, classification, and other tasks.\n",
        "- **Learning Rate**: This parameter controls the contribution of each tree to the final outcome. A smaller learning rate might require more trees but can lead to a more robust model.\n",
        "- **Number of Trees**: Carefully tune the number of trees (boosting stages) to avoid underfitting or overfitting.\n",
        "\n",
        "**Practical Applications**: Gradient boosting is versatile and widely used in finance (credit scoring), marketing (customer churn prediction), and healthcare (predictive diagnostics) due to its high predictive accuracy⁴."
      ],
      "metadata": {
        "id": "_3evUsKGPhBR"
      }
    },
    {
      "cell_type": "markdown",
      "source": [
        "Q6. How does Gradient Boosting algorithm build an ensemble of weak learners?"
      ],
      "metadata": {
        "id": "PEqzwg7zPmLV"
      }
    },
    {
      "cell_type": "markdown",
      "source": [
        "Certainly! **Gradient Boosting** is a powerful ensemble learning algorithm used for both classification and regression tasks. Let me break it down for you:\n",
        "\n",
        "1. **Sequential Training**:\n",
        "   - Gradient Boosting trains models sequentially, where each new model tries to correct the errors made by the previous one.\n",
        "   - It combines several **weak learners** (often simple decision trees) into a **strong learner**.\n",
        "\n",
        "2. **Loss Function Minimization**:\n",
        "   - The algorithm minimizes a loss function (e.g., mean squared error or cross-entropy) of the previous model using **gradient descent**.\n",
        "   - In each iteration, it computes the gradient of the loss function with respect to the current ensemble's predictions.\n",
        "   - Then, it trains a new weak model to minimize this gradient.\n",
        "\n",
        "3. **Residual Errors**:\n",
        "   - Unlike AdaBoost, which adjusts instance weights, Gradient Boosting trains each predictor using **residual errors** of the predecessor as labels.\n",
        "   - The residual errors represent the difference between the actual target values and the predictions made by the current ensemble.\n",
        "\n",
        "4. **Ensemble Building**:\n",
        "   - The ensemble consists of multiple trees (usually called **Gradient Boosted Trees**).\n",
        "   - Each tree is trained using the feature matrix and the residual errors from the previous tree.\n",
        "   - The process continues until a stopping criterion (e.g., maximum number of trees or minimum improvement) is met.\n",
        "\n",
        "5. **Shrinkage**:\n",
        "   - Shrinkage refers to scaling down the predictions of each tree by multiplying them with a **learning rate** (usually between 0 and 1).\n",
        "   - This helps prevent overfitting and allows fine-tuning of the model's performance.\n",
        "\n",
        "6. **Final Prediction**:\n",
        "   - The final prediction is the sum of predictions from all trees:\n",
        "     $$ y_{\\text{pred}} = y_1 + (\\eta \\cdot r_1) + (\\eta \\cdot r_2) + \\ldots + (\\eta \\cdot r_N) $$\n",
        "\n",
        "In summary, Gradient Boosting builds an ensemble by iteratively improving weak models using gradient-based updates. It's a robust technique that often outperforms random forests!\n"
      ],
      "metadata": {
        "id": "bjPeJLunPovx"
      }
    },
    {
      "cell_type": "markdown",
      "source": [
        "Q7. What are the steps involved in constructing the mathematical intuition of Gradient Boosting\n",
        "algorithm?"
      ],
      "metadata": {
        "id": "LND2mUsvP8ot"
      }
    },
    {
      "cell_type": "markdown",
      "source": [
        "Certainly! Let's delve into the steps involved in constructing the mathematical intuition of the Gradient Boosting algorithm:\n",
        "\n",
        "1. **Build a Base Model**:\n",
        "   - Start by creating a base model (often a simple one, like the average of the output values) to predict the observations in the training dataset.\n",
        "\n",
        "2. **Compute Pseudo Residuals**:\n",
        "   - Calculate the residuals (errors) between the actual target values and the predictions made by the base model.\n",
        "   - These residuals represent the part of the target variable that the base model couldn't capture.\n",
        "\n",
        "3. **Build a Model on Calculated Residuals**:\n",
        "   - Construct a new decision tree (weak learner) based on the residuals.\n",
        "   - The goal is to improve the predictions by capturing the remaining patterns in the data.\n",
        "\n",
        "4. **Compute Decision Tree Output**:\n",
        "   - Add the newly created tree to the ensemble.\n",
        "   - Combine it with the previous models, learning from their errors.\n",
        "   - The combined model aims to minimize the loss function (e.g., mean squared error).\n",
        "\n",
        "5. **Update Previous Model Predictions**:\n",
        "   - Adjust the current model's prediction by adding the output of the new tree.\n",
        "   - Gradually, the ensemble improves its predictions by iteratively adding trees and adjusting the predictions.\n",
        "\n",
        "Remember, gradient boosting is an iterative process that sequentially combines weak models to create a strong ensemble. Each new tree focuses on the remaining errors, gradually improving the overall prediction performance⁴⁵⁶. 🌟\n",
        "\n"
      ],
      "metadata": {
        "id": "PHjPZNDJP_mc"
      }
    },
    {
      "cell_type": "markdown",
      "source": [],
      "metadata": {
        "id": "zQjYxil4QM9a"
      }
    },
    {
      "cell_type": "code",
      "source": [],
      "metadata": {
        "id": "1nt8TF4PN4yQ"
      },
      "execution_count": null,
      "outputs": []
    }
  ]
}