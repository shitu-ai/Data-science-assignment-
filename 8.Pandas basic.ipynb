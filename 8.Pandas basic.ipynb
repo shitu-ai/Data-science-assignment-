{
 "cells": [
  {
   "cell_type": "code",
   "execution_count": null,
   "id": "c7877d46-91b8-4fd6-b214-a837d8013d67",
   "metadata": {},
   "outputs": [],
   "source": [
    "Q1. Create a Pandas Series that contains the following data: 4, 8, 15, 16, 23, and 42. Then, print the series."
   ]
  },
  {
   "cell_type": "code",
   "execution_count": 2,
   "id": "f589c17b-0329-4bd9-ab7d-9c6e92f1063b",
   "metadata": {},
   "outputs": [
    {
     "name": "stdout",
     "output_type": "stream",
     "text": [
      "0     4\n",
      "1     8\n",
      "2    15\n",
      "3    16\n",
      "4    23\n",
      "5    42\n",
      "dtype: int64\n"
     ]
    }
   ],
   "source": [
    "import pandas as pd \n",
    "#Creating a Pandas Series\n",
    "data= [4,8,15,16,23,42]\n",
    "my_series = pd.Series(data)\n",
    "#print series\n",
    "print(my_series)"
   ]
  },
  {
   "cell_type": "code",
   "execution_count": null,
   "id": "b3a1b134-a3de-4192-b20b-0a1e64ff5e6a",
   "metadata": {},
   "outputs": [],
   "source": [
    "Q2. Create a variable of list type containing 10 elements in it, and apply pandas.Series function on the\n",
    "variable print it."
   ]
  },
  {
   "cell_type": "code",
   "execution_count": 3,
   "id": "f0c9e43b-1871-4a39-a209-d2b64b66f0b6",
   "metadata": {},
   "outputs": [
    {
     "name": "stdout",
     "output_type": "stream",
     "text": [
      "0     4\n",
      "1     8\n",
      "2    15\n",
      "3    16\n",
      "4    23\n",
      "5    42\n",
      "dtype: int64\n"
     ]
    }
   ],
   "source": [
    "import pandas as pd\n",
    "#Create a list with 10 elements\n",
    "my_list = [ 4,8,15,16,23,42,7,9,10,11]\n",
    "#Create a Pandas Series from the list\n",
    "my_list = pd.Series(my_list)\n",
    "#Print the Seres\n",
    "print(my_series)"
   ]
  },
  {
   "cell_type": "code",
   "execution_count": 5,
   "id": "3f588183-475c-4b7f-80d4-6f3838224c02",
   "metadata": {},
   "outputs": [
    {
     "name": "stdout",
     "output_type": "stream",
     "text": [
      "     Name  Age  Gender\n",
      "0   Alice   25  Female\n",
      "1     Bob   30    Male\n",
      "2  Claire   27  Female\n"
     ]
    }
   ],
   "source": [
    "import pandas as pd\n",
    "#Create dictionary with data\n",
    "data = {\n",
    "    'Name':['Alice','Bob','Claire'],\n",
    "    'Age':[25,30,27],\n",
    "    'Gender':['Female','Male','Female']\n",
    "}\n",
    "#Create DataFrame\n",
    "df = pd.DataFrame(data)\n",
    "#print the DataFrame\n",
    "print(df)"
   ]
  },
  {
   "cell_type": "code",
   "execution_count": null,
   "id": "619f804c-d842-4e49-bfa1-91b48d5cc39e",
   "metadata": {},
   "outputs": [],
   "source": [
    "Q4. What is ‘DataFrame’ in pandas and how is it different from pandas.series? Explain with an example."
   ]
  },
  {
   "cell_type": "code",
   "execution_count": null,
   "id": "0bdd9ee1-117c-4eb2-8eeb-7b0720f06757",
   "metadata": {},
   "outputs": [],
   "source": [
    "DataFrame:\n",
    "    \n",
    "In Pandas, a DataFrame is a two-dimensional, size-mutable, and potentially heterogeneous tabular data structure with labeled axes (rows and columns). It is similar to a spreadsheet or SQL table, where data is stored in rows and columns. Each column in a DataFrame is a Pandas Series.\n",
    "\n",
    "        "
   ]
  },
  {
   "cell_type": "code",
   "execution_count": null,
   "id": "f8a67229-12fb-49dd-b6c2-f9b5be01efbf",
   "metadata": {},
   "outputs": [],
   "source": [
    "A Pandas Series, on the other hand, is a one-dimensional labeled array capable of holding any data type (e.g., integers, strings, floats, etc.). \n",
    "It's like a single column of data."
   ]
  },
  {
   "cell_type": "code",
   "execution_count": null,
   "id": "50cf0f54-a53e-4b77-a687-6d2880509f3f",
   "metadata": {},
   "outputs": [],
   "source": [
    "here are two separate programs to demonstrate the difference between a DataFrame and a Series:"
   ]
  },
  {
   "cell_type": "code",
   "execution_count": null,
   "id": "4f7f2236-c570-4260-b294-f150156742fe",
   "metadata": {},
   "outputs": [],
   "source": [
    "Program 1: Using DataFrame"
   ]
  },
  {
   "cell_type": "code",
   "execution_count": 6,
   "id": "bfe516d7-7c83-46bc-8841-48e3c59ae744",
   "metadata": {},
   "outputs": [
    {
     "name": "stdout",
     "output_type": "stream",
     "text": [
      "DataFrame:\n",
      "     Name  Age  Gender\n",
      "0   Alice   25  Female\n",
      "1     Bob   30    Male\n",
      "2  Claire   27  Female\n"
     ]
    }
   ],
   "source": [
    "import pandas as pd\n",
    "#Creating a DataFrame\n",
    "data = {\n",
    "    'Name':['Alice','Bob','Claire'],\n",
    "    'Age' :[25,30,27],\n",
    "    'Gender':['Female','Male','Female']\n",
    "}\n",
    "df =pd.DataFrame(data)\n",
    "print(\"DataFrame:\")\n",
    "print(df)"
   ]
  },
  {
   "cell_type": "code",
   "execution_count": null,
   "id": "33912303-0371-4284-bf35-aaad5d09ff1e",
   "metadata": {},
   "outputs": [],
   "source": [
    "Program 2: Using Series"
   ]
  },
  {
   "cell_type": "code",
   "execution_count": 7,
   "id": "84970d2c-974c-411a-9092-1ba2ac6593e2",
   "metadata": {},
   "outputs": [
    {
     "name": "stdout",
     "output_type": "stream",
     "text": [
      "Series (Age Column):\n",
      "0    25\n",
      "1    30\n",
      "2    27\n",
      "Name: Age, dtype: int64\n"
     ]
    }
   ],
   "source": [
    "import pandas as pd\n",
    "#Creating a Series\n",
    "age_series = pd.Series([25,30,27],name = 'Age')\n",
    "print(\"Series (Age Column):\")\n",
    "print(age_series)"
   ]
  },
  {
   "cell_type": "code",
   "execution_count": null,
   "id": "c8b46f6f-94b6-4c1b-8f82-6ace6d53620f",
   "metadata": {},
   "outputs": [],
   "source": [
    "Q5. What are some common functions you can use to manipulate data in a Pandas DataFrame? Can\n",
    "you give an example of when you might use one of these functions?"
   ]
  },
  {
   "cell_type": "code",
   "execution_count": null,
   "id": "8d50d449-d7c9-4d28-8f46-4b9e246b798c",
   "metadata": {},
   "outputs": [],
   "source": [
    "There are several common functions available in Pandas to manipulate data in a DataFrame. Some of these functions include:\n",
    "\n",
    "1.head() and tail(): These functions allow you to view the first or last few rows of the DataFrame.\n",
    "2.info(): Provides a concise summary of the DataFrame including the data types, number of non-null values, and memory usage.\n",
    "3.describe(): Generates descriptive statistics that summarize the central tendency, dispersion, and shape of a dataset's distribution.\n",
    "4.loc[] and iloc[]: These are used for selecting rows and columns by label (loc[]) or by integer position (iloc[]).\n",
    "5.drop(): Allows you to drop specified labels from rows or columns.\n",
    "6.fillna(): Fill missing values in the DataFrame with a specified value or method.\n",
    "7.groupby(): Used to group data based on one or more columns and perform operations on the grouped data.\n",
    "8.merge(), join(), concat(): These functions are used to combine DataFrames either by merging on columns, joining on index, or concatenating along an axis.\n",
    "9.pivot_table(): Create a spreadsheet-style pivot table as a DataFrame.\n",
    "10.apply(): Apply a function along an axis of the DataFrame.\n",
    "11.sort_values(): Sort the DataFrame by specified column(s).\n",
    "12.rename(): Rename index or columns labels.\n",
    "13.astype(): Cast a pandas object to a specified dtype.\n",
    "14.drop_duplicates(): Remove duplicate rows from the DataFrame.\n",
    "15.isin(): Check whether values are contained in a Series or DataFrame"
   ]
  },
  {
   "cell_type": "code",
   "execution_count": 9,
   "id": "38d6c892-797c-4993-8233-05c0327dcb10",
   "metadata": {},
   "outputs": [
    {
     "name": "stdout",
     "output_type": "stream",
     "text": [
      "First 2 rows:\n",
      "    Name  Age  Gender\n",
      "0  Alice   25  Female\n",
      "1    Bob   30    Male\n",
      "\n",
      "\n",
      "Last 2 rows:\n",
      "    Name  Age  Gender\n",
      "3  David   35    Male\n",
      "4   Emma   28  Female\n"
     ]
    }
   ],
   "source": [
    "#1. head() and tail()\n",
    "#Creating a DataFrame\n",
    "data= {\n",
    "    'Name':['Alice','Bob','Claire','David','Emma'],\n",
    "    'Age': [25,30,27,35,28],\n",
    "    'Gender':['Female','Male','Female','Male','Female'],\n",
    "}\n",
    "df = pd.DataFrame(data)\n",
    "\n",
    "#Using head to display the first 3 rows\n",
    "print(\"First 2 rows:\")\n",
    "print(df.head(2))\n",
    "print(\"\\n\")\n",
    "\n",
    "#Using tail to display the last 2 rows\n",
    "print(\"Last 2 rows:\")\n",
    "print(df.tail(2))"
   ]
  },
  {
   "cell_type": "code",
   "execution_count": 10,
   "id": "0065c01f-611f-4347-ae75-735ac009cf99",
   "metadata": {},
   "outputs": [
    {
     "name": "stdout",
     "output_type": "stream",
     "text": [
      "DataFrame Summary:\n",
      "<class 'pandas.core.frame.DataFrame'>\n",
      "RangeIndex: 5 entries, 0 to 4\n",
      "Data columns (total 3 columns):\n",
      " #   Column  Non-Null Count  Dtype \n",
      "---  ------  --------------  ----- \n",
      " 0   Name    5 non-null      object\n",
      " 1   Age     5 non-null      int64 \n",
      " 2   Gender  5 non-null      object\n",
      "dtypes: int64(1), object(2)\n",
      "memory usage: 248.0+ bytes\n",
      "None\n"
     ]
    }
   ],
   "source": [
    "#2. info()\n",
    "#Creating a DataFrame\n",
    "data= {\n",
    "    'Name':['Alice','Bob','Claire','David','Emma'],\n",
    "    'Age': [25,30,27,35,28],\n",
    "    'Gender':['Female','Male','Female','Male','Female'],\n",
    "}\n",
    "df = pd.DataFrame(data)\n",
    "#Display concise summary of the DataFrame\n",
    "print(\"DataFrame Summary:\")\n",
    "print(df.info())"
   ]
  },
  {
   "cell_type": "code",
   "execution_count": 11,
   "id": "605f6404-9e8d-409a-a292-9a7254ad5e97",
   "metadata": {},
   "outputs": [
    {
     "name": "stdout",
     "output_type": "stream",
     "text": [
      "Descriptive Statistics:\n",
      "             Age\n",
      "count   5.000000\n",
      "mean   29.000000\n",
      "std     3.807887\n",
      "min    25.000000\n",
      "25%    27.000000\n",
      "50%    28.000000\n",
      "75%    30.000000\n",
      "max    35.000000\n"
     ]
    }
   ],
   "source": [
    "#3. describe()\n",
    "#Creating a DataFrame\n",
    "data= {\n",
    "    'Name':['Alice','Bob','Claire','David','Emma'],\n",
    "    'Age': [25,30,27,35,28],\n",
    "    'Gender':['Female','Male','Female','Male','Female'],\n",
    "}\n",
    "df = pd.DataFrame(data)\n",
    "# Display descriptive statistics\n",
    "print(\"Descriptive Statistics:\")\n",
    "print(df.describe())\n"
   ]
  },
  {
   "cell_type": "code",
   "execution_count": 13,
   "id": "9ca96d67-255f-4ef1-9b23-995de2f5a734",
   "metadata": {},
   "outputs": [
    {
     "name": "stdout",
     "output_type": "stream",
     "text": [
      "Shape of the DataFrame:\n",
      "Number of rows: 3\n",
      "Number of columns: 3\n"
     ]
    }
   ],
   "source": [
    "#Shape \n",
    "import pandas as pd\n",
    "\n",
    "# Create a DataFrame\n",
    "data = {\n",
    "    'Name': ['Alice', 'Bob', 'Claire'],\n",
    "    'Age': [25, 30, 27],\n",
    "    'Gender': ['Female', 'Male', 'Female']\n",
    "}\n",
    "df = pd.DataFrame(data)\n",
    "\n",
    "# Get the shape of the DataFrame\n",
    "df_shape = df.shape\n",
    "\n",
    "print(\"Shape of the DataFrame:\")\n",
    "print(\"Number of rows:\", df_shape[0])\n",
    "print(\"Number of columns:\", df_shape[1])\n"
   ]
  },
  {
   "cell_type": "code",
   "execution_count": 14,
   "id": "7af4d261-b907-43e8-9c7b-fa6b0297a185",
   "metadata": {},
   "outputs": [
    {
     "name": "stdout",
     "output_type": "stream",
     "text": [
      "Using loc:\n",
      "     Name  Age\n",
      "1     Bob   30\n",
      "2  Claire   27\n",
      "\n",
      "\n",
      "Using iloc:\n",
      "     Name  Age\n",
      "1     Bob   30\n",
      "2  Claire   27\n"
     ]
    }
   ],
   "source": [
    "#4. loc[] and iloc[]\n",
    "#Selecting rows and colums by label\n",
    "print(\"Using loc:\")\n",
    "print(df.loc[1:3,['Name','Age']])\n",
    "print(\"\\n\")\n",
    "\n",
    "#Selecting rows and columns by integer position\n",
    "print(\"Using iloc:\")\n",
    "print(df.iloc[1:3,0:2])"
   ]
  },
  {
   "cell_type": "code",
   "execution_count": 15,
   "id": "52fbee74-d009-4485-8c72-3b2ac48b8b84",
   "metadata": {},
   "outputs": [
    {
     "name": "stdout",
     "output_type": "stream",
     "text": [
      "DataFrames after dropping 'Age' column:\n",
      "     Name  Gender\n",
      "0   Alice  Female\n",
      "1     Bob    Male\n",
      "2  Claire  Female\n"
     ]
    }
   ],
   "source": [
    "#5. drop()\n",
    "#Dropping a column\n",
    "df_dropped = df.drop(columns=['Age'])\n",
    "print(\"DataFrames after dropping 'Age' column:\")\n",
    "print(df_dropped)"
   ]
  },
  {
   "cell_type": "code",
   "execution_count": 16,
   "id": "4584d41e-482e-4fbe-9c5c-5b54bc545bac",
   "metadata": {},
   "outputs": [
    {
     "name": "stdout",
     "output_type": "stream",
     "text": [
      "DataFrame after filling missing values:\n",
      "     Name  Age  Gender\n",
      "0   Alice   25  Female\n",
      "1     Bob   30    Male\n",
      "2  Claire   27  Female\n"
     ]
    }
   ],
   "source": [
    "#6. fillna()\n",
    "#Filling missing values in \"Age\" column with mean age\n",
    "df['Age'].fillna(df['Age'].mean(), inplace=True)\n",
    "print(\"DataFrame after filling missing values:\")\n",
    "print(df)"
   ]
  },
  {
   "cell_type": "code",
   "execution_count": 17,
   "id": "c63d8db0-f818-4270-81bb-8fc690a43f0a",
   "metadata": {},
   "outputs": [
    {
     "name": "stdout",
     "output_type": "stream",
     "text": [
      "Grouped DataFrame:\n",
      "         Age\n",
      "Gender      \n",
      "Female  26.0\n",
      "Male    30.0\n"
     ]
    },
    {
     "name": "stderr",
     "output_type": "stream",
     "text": [
      "/tmp/ipykernel_2881/1326121071.py:3: FutureWarning: The default value of numeric_only in DataFrameGroupBy.mean is deprecated. In a future version, numeric_only will default to False. Either specify numeric_only or select only columns which should be valid for the function.\n",
      "  grouped_df =df.groupby('Gender').mean()\n"
     ]
    }
   ],
   "source": [
    "#7. groupby()\n",
    "#Grouping by 'Gender'and calculating average age\n",
    "grouped_df =df.groupby('Gender').mean()\n",
    "print(\"Grouped DataFrame:\")\n",
    "print(grouped_df)"
   ]
  },
  {
   "cell_type": "code",
   "execution_count": 18,
   "id": "a0d4ea59-3943-49e0-bcde-52340aef7ff5",
   "metadata": {},
   "outputs": [
    {
     "name": "stdout",
     "output_type": "stream",
     "text": [
      "Merged DataFrame:\n",
      "     Name  Age  Gender  Salary\n",
      "0   Alice   25  Female   50000\n",
      "1     Bob   30    Male   60000\n",
      "2  Claire   27  Female   55000\n"
     ]
    }
   ],
   "source": [
    "#8. merge()\n",
    "#Creating another DataFrame for merging\n",
    "data2={\n",
    "    'Name': ['Alice','Bob','Claire'],\n",
    "    'Salary':[50000,60000,55000]\n",
    "}\n",
    "df2 = pd.DataFrame(data2)\n",
    "\n",
    "#Merging on 'Name' column\n",
    "merged_df = pd.merge(df,df2,on='Name')\n",
    "print(\"Merged DataFrame:\")\n",
    "print(merged_df)\n"
   ]
  },
  {
   "cell_type": "code",
   "execution_count": 20,
   "id": "c9ae3038-c19b-4c57-a828-ced3f328473b",
   "metadata": {},
   "outputs": [
    {
     "name": "stdout",
     "output_type": "stream",
     "text": [
      "Pivot Table:\n",
      "        Age\n",
      "Name       \n",
      "Alice    25\n",
      "Bob      30\n",
      "Claire   27\n"
     ]
    }
   ],
   "source": [
    "#9. pivot_table()\n",
    "#Creating a pivot table\n",
    "pivot_table = pd.pivot_table(df,index='Name',values='Age',aggfunc='mean')\n",
    "print(\"Pivot Table:\")\n",
    "print(pivot_table)\n"
   ]
  },
  {
   "cell_type": "code",
   "execution_count": 21,
   "id": "20c17f2a-6f45-42b0-89ba-15d23792a2d0",
   "metadata": {},
   "outputs": [
    {
     "name": "stdout",
     "output_type": "stream",
     "text": [
      "DataFrame after applying function:\n",
      "     Name  Age  Gender\n",
      "0   Alice   26  Female\n",
      "1     Bob   31    Male\n",
      "2  Claire   28  Female\n"
     ]
    }
   ],
   "source": [
    "#10. apply()\n",
    "# Applying a function to 'Age' column\n",
    "df['Age']= df['Age'].apply(lambda x:x+1)\n",
    "print(\"DataFrame after applying function:\")\n",
    "print(df)"
   ]
  },
  {
   "cell_type": "code",
   "execution_count": 22,
   "id": "ed7cdb87-7838-4ab2-a038-39935efe2ebf",
   "metadata": {},
   "outputs": [
    {
     "name": "stdout",
     "output_type": "stream",
     "text": [
      " DataFrame sorted by 'Age' in descending order:\n",
      "     Name  Age  Gender\n",
      "1     Bob   31    Male\n",
      "2  Claire   28  Female\n",
      "0   Alice   26  Female\n"
     ]
    }
   ],
   "source": [
    "#11. sort_values()\n",
    "#Sorting by 'Age' in descending order\n",
    "sorted_df = df.sort_values(by = 'Age', ascending=False)\n",
    "print(\" DataFrame sorted by 'Age' in descending order:\")\n",
    "print(sorted_df)"
   ]
  },
  {
   "cell_type": "code",
   "execution_count": 24,
   "id": "a11d9276-014b-4bf9-a253-d45af6b78a1e",
   "metadata": {},
   "outputs": [
    {
     "name": "stdout",
     "output_type": "stream",
     "text": [
      "DataFrame after renaminf 'Gender'to 'Sex':\n",
      "     Name  Age     Sex\n",
      "0   Alice   26  Female\n",
      "1     Bob   31    Male\n",
      "2  Claire   28  Female\n"
     ]
    }
   ],
   "source": [
    "#12. rename()\n",
    "#Renaming the 'Gender' column to 'Sex'\n",
    "df_renamed = df.rename(columns={'Gender': 'Sex'})\n",
    "print(\"DataFrame after renaminf 'Gender'to 'Sex':\")\n",
    "print(df_renamed)"
   ]
  },
  {
   "cell_type": "code",
   "execution_count": 25,
   "id": "a72920ab-cc7c-4c2a-b24c-9c23a9d656f5",
   "metadata": {},
   "outputs": [
    {
     "name": "stdout",
     "output_type": "stream",
     "text": [
      "DataFrame after converting 'Age' column to float:\n",
      "     Name   Age  Gender\n",
      "0   Alice  26.0  Female\n",
      "1     Bob  31.0    Male\n",
      "2  Claire  28.0  Female\n"
     ]
    }
   ],
   "source": [
    "#13. astype()\n",
    "#Converting 'Age' column to float\n",
    "df['Age'] = df['Age'].astype(float)\n",
    "print(\"DataFrame after converting 'Age' column to float:\")\n",
    "print(df)"
   ]
  },
  {
   "cell_type": "code",
   "execution_count": 26,
   "id": "49a59568-6f19-462c-8d73-01a62fc6fc11",
   "metadata": {},
   "outputs": [
    {
     "name": "stdout",
     "output_type": "stream",
     "text": [
      "DataFrames after dropping duplicates:\n",
      "     Name   Age  Gender\n",
      "0   Alice  26.0  Female\n",
      "1     Bob  31.0    Male\n",
      "2  Claire  28.0  Female\n"
     ]
    }
   ],
   "source": [
    "#14. drop_duplicates()\n",
    "#Dropping duplicate rows \n",
    "df_no_duplicates = df.drop_duplicates()\n",
    "print(\"DataFrames after dropping duplicates:\")\n",
    "print(df_no_duplicates)"
   ]
  },
  {
   "cell_type": "code",
   "execution_count": 27,
   "id": "cd2e716c-cbde-4181-b291-f5c37cc8aa53",
   "metadata": {},
   "outputs": [
    {
     "name": "stdout",
     "output_type": "stream",
     "text": [
      "DataFrame showing which names are present:\n",
      "0     True\n",
      "1    False\n",
      "2    False\n",
      "Name: Name, dtype: bool\n"
     ]
    }
   ],
   "source": [
    "#15. isin()\n",
    "#Checking if values are contained in a series\n",
    "isin_check = df['Name'].isin(['Alice', 'Emma', 'John'] )\n",
    "print(\"DataFrame showing which names are present:\")\n",
    "print(isin_check)"
   ]
  },
  {
   "cell_type": "code",
   "execution_count": 31,
   "id": "966ff1dd-2856-484c-ada3-e96e247392c5",
   "metadata": {},
   "outputs": [
    {
     "name": "stdout",
     "output_type": "stream",
     "text": [
      "DataFrame after adding a new row:\n",
      "     Name  Age  Gender\n",
      "0   Alice   25  Female\n",
      "1     Bob   30    Male\n",
      "2  Claire   27  Female\n",
      "3   David   35    Male\n",
      "DataFrame after adding another row:\n",
      "     Name  Age  Gender\n",
      "0   Alice   25  Female\n",
      "1     Bob   30    Male\n",
      "2  Claire   27  Female\n",
      "3   David   35    Male\n",
      "4    Emma   28  Female\n",
      "DataFrame after adding a new column:\n",
      "     Name  Age  Gender           City\n",
      "0   Alice   25  Female       New York\n",
      "1     Bob   30    Male    Los Angeles\n",
      "2  Claire   27  Female        Chicago\n",
      "3   David   35    Male  San Francisco\n",
      "4    Emma   28  Female         Boston\n",
      "DataFrame after adding multiple columns:\n",
      "     Name  Age  Gender           City  Salary\n",
      "0   Alice   25  Female       New York   50000\n",
      "1     Bob   30    Male    Los Angeles   60000\n",
      "2  Claire   27  Female        Chicago   55000\n",
      "3   David   35    Male  San Francisco   65000\n",
      "4    Emma   28  Female         Boston   52000\n"
     ]
    },
    {
     "name": "stderr",
     "output_type": "stream",
     "text": [
      "/tmp/ipykernel_2881/1846131313.py:17: FutureWarning: The frame.append method is deprecated and will be removed from pandas in a future version. Use pandas.concat instead.\n",
      "  df = df.append(new_row,ignore_index=True)\n"
     ]
    }
   ],
   "source": [
    "#Adding Rows/Columns:\n",
    "#Adding Rows by Using append():\n",
    "\n",
    "import pandas as pd\n",
    "\n",
    "# Create a DataFrame\n",
    "data = {\n",
    "    'Name': ['Alice', 'Bob', 'Claire'],\n",
    "    'Age': [25, 30, 27],\n",
    "    'Gender': ['Female', 'Male', 'Female']\n",
    "}\n",
    "df = pd.DataFrame(data)\n",
    "\n",
    "#Row to be added\n",
    "new_row = {'Name':'David','Age':35,'Gender':'Male'}\n",
    "#Append the new row\n",
    "df = df.append(new_row,ignore_index=True)\n",
    "print(\"DataFrame after adding a new row:\")\n",
    "print(df)\n",
    "\n",
    "#Using loc[]:\n",
    "#Add a row using loc[]\n",
    "df.loc[len(df)] = ['Emma',28,'Female']\n",
    "print(\"DataFrame after adding another row:\")\n",
    "print(df)\n",
    "\n",
    "#Adding Columns:\n",
    "#Adding a single column:\n",
    "# Adding a new column 'City'\n",
    "df['City'] = ['New York', 'Los Angeles', 'Chicago', 'San Francisco', 'Boston']\n",
    "\n",
    "print(\"DataFrame after adding a new column:\")\n",
    "print(df)\n",
    "\n",
    "#Adding multiple columns:\n",
    "# Adding multiple columns at once\n",
    "df = pd.concat([df, pd.DataFrame({'Salary': [50000, 60000, 55000, 65000, 52000]})], axis=1)\n",
    "\n",
    "print(\"DataFrame after adding multiple columns:\")\n",
    "print(df)\n",
    "\n",
    "   "
   ]
  },
  {
   "cell_type": "code",
   "execution_count": 32,
   "id": "ed1a908a-5cd9-4a05-baaf-048bb41125d2",
   "metadata": {},
   "outputs": [
    {
     "name": "stdout",
     "output_type": "stream",
     "text": [
      "DataFrame after removing a row:\n",
      "    Name  Age  Gender\n",
      "0  Alice   25  Female\n",
      "1    Bob   30    Male\n",
      "3  David   35    Male\n",
      "4   Emma   28  Female\n"
     ]
    }
   ],
   "source": [
    "#Removing Rows:\n",
    "#Using drop():\n",
    "import pandas as pd\n",
    "\n",
    "# Create a DataFrame\n",
    "data = {\n",
    "    'Name': ['Alice', 'Bob', 'Claire', 'David', 'Emma'],\n",
    "    'Age': [25, 30, 27, 35, 28],\n",
    "    'Gender': ['Female', 'Male', 'Female', 'Male', 'Female']\n",
    "}\n",
    "df = pd.DataFrame(data)\n",
    "\n",
    "#Remove the rows with index 2\n",
    "df = df.drop(index=2)\n",
    "print(\"DataFrame after removing a row:\")\n",
    "print(df)"
   ]
  },
  {
   "cell_type": "code",
   "execution_count": 33,
   "id": "2ab471f8-bef0-4ec2-b9e0-af147c127747",
   "metadata": {},
   "outputs": [
    {
     "name": "stdout",
     "output_type": "stream",
     "text": [
      "DataFrame after removing the 'Gender' column:\n",
      "    Name  Age\n",
      "0  Alice   25\n",
      "1    Bob   30\n",
      "3  David   35\n",
      "4   Emma   28\n"
     ]
    }
   ],
   "source": [
    "#Removing Columns:\n",
    "#Using drop() with axis=1:\n",
    "#Remove the 'Gender ' column\n",
    "df = df.drop(columns= 'Gender')\n",
    "print(\"DataFrame after removing the 'Gender' column:\")\n",
    "print(df)"
   ]
  },
  {
   "cell_type": "code",
   "execution_count": 39,
   "id": "7bf273f1-da51-4781-9df6-dcdb412d17dc",
   "metadata": {},
   "outputs": [
    {
     "name": "stdout",
     "output_type": "stream",
     "text": [
      "Inner join result:\n",
      "     Name  Age  Salary\n",
      "0     Bob   30   60000\n",
      "1  Claire   27   55000\n",
      "\n",
      "Left join result:\n",
      "     Name  Age   Salary\n",
      "0   Alice   25      NaN\n",
      "1     Bob   30  60000.0\n",
      "2  Claire   27  55000.0\n",
      "\n",
      "Right join result:\n",
      "     Name   Age  Salary\n",
      "0     Bob  30.0   60000\n",
      "1  Claire  27.0   55000\n",
      "2   David   NaN   65000\n",
      "\n",
      "Outer join result:\n",
      "     Name   Age   Salary\n",
      "0   Alice  25.0      NaN\n",
      "1     Bob  30.0  60000.0\n",
      "2  Claire  27.0  55000.0\n",
      "3   David   NaN  65000.0\n"
     ]
    }
   ],
   "source": [
    "import pandas as pd\n",
    "\n",
    "# Create the first DataFrame\n",
    "data1 = {\n",
    "    'Name': ['Alice', 'Bob', 'Claire'],\n",
    "    'Age': [25, 30, 27],\n",
    "}\n",
    "df1 = pd.DataFrame(data1)\n",
    "\n",
    "# Create the second DataFrame\n",
    "data2 = {\n",
    "    'Name': ['Bob', 'Claire', 'David'],\n",
    "    'Salary': [60000, 55000, 65000]\n",
    "}\n",
    "df2 = pd.DataFrame(data2)\n",
    "\n",
    "# Merge the DataFrames based on the 'Name' column\n",
    "merged_df_inner = pd.merge(df1, df2, on='Name')\n",
    "\n",
    "print(\"Inner join result:\")\n",
    "print(merged_df_inner)\n",
    "\n",
    "#Example 2: Left Join\n",
    "# Merge the DataFrames using a left join\n",
    "merged_df_left = pd.merge(df1, df2, on='Name', how='left')\n",
    "\n",
    "print(\"\\nLeft join result:\")\n",
    "print(merged_df_left)\n",
    "\n",
    "#Example 3: Right Join\n",
    "# Merge the DataFrames using a right join\n",
    "merged_df_right = pd.merge(df1, df2, on='Name', how='right')\n",
    "\n",
    "print(\"\\nRight join result:\")\n",
    "print(merged_df_right)\n",
    "\n",
    "#Example 4: Outer Join\n",
    "# Merge the DataFrames using an outer join\n",
    "merged_df_outer = pd.merge(df1, df2, on='Name', how='outer')\n",
    "\n",
    "print(\"\\nOuter join result:\")\n",
    "print(merged_df_outer)\n"
   ]
  },
  {
   "cell_type": "code",
   "execution_count": null,
   "id": "38398c21-550c-41e6-b8f7-b082421be8ac",
   "metadata": {},
   "outputs": [],
   "source": [
    "Q6. Which of the following is mutable in nature Series, DataFrame, Panel?"
   ]
  },
  {
   "cell_type": "code",
   "execution_count": null,
   "id": "44fce92f-7772-4e09-adfe-d6fb34a99939",
   "metadata": {},
   "outputs": [],
   "source": [
    "Series:\n",
    "You can modify existing elements directly, showing mutability.\n",
    "Adding a new element to the Series effectively creates a new Series because the index is immutable in the sense that its size cannot be changed without creating a new Series.\n",
    "Removing an element also results in a new Series.\n",
    "\n",
    "\n",
    "DataFrame:\n",
    "The DataFrame is mutable as you can modify existing elements, add new columns, and rows.\n",
    "Removing a row results in a new DataFrame without the removed row.\n",
    "\n",
    "\n",
    "Key Points:\n",
    "Series Values: Mutable (you can change the values).\n",
    "Series Size: Immutable (adding/removing elements results in a new Series).\n",
    "DataFrame: Fully mutable (values, columns, and rows can be changed, added, or removed).\n",
    "\n",
    "In conclusion, pandas Series is mutable in terms of its values, but changes to its size (like adding or removing elements) result in creating a new Series. DataFrame is fully mutable, allowing changes in both structure and data"
   ]
  },
  {
   "cell_type": "code",
   "execution_count": null,
   "id": "3eee719b-575f-458d-821f-ef3256164ac6",
   "metadata": {},
   "outputs": [],
   "source": [
    "Mutability Example in Pandas Series and DataFrame"
   ]
  },
  {
   "cell_type": "code",
   "execution_count": 5,
   "id": "09522bde-0498-4a9e-a24d-aeff3d365033",
   "metadata": {},
   "outputs": [
    {
     "name": "stdout",
     "output_type": "stream",
     "text": [
      "__Series__\n",
      "Original Series:\n",
      "a    10\n",
      "b    20\n",
      "c    30\n",
      "d    40\n",
      "e    50\n",
      "dtype: int64\n",
      "\n",
      "Series after modifying an element:\n",
      "a     10\n",
      "b    100\n",
      "c     30\n",
      "d     40\n",
      "e     50\n",
      "dtype: int64\n",
      "\n",
      "Series after adding an element:\n",
      "a     10\n",
      "b    100\n",
      "c     30\n",
      "d     40\n",
      "e     50\n",
      "f     60\n",
      "dtype: int64\n",
      "\n",
      "Series after removing an element:\n",
      "a     10\n",
      "b    100\n",
      "d     40\n",
      "e     50\n",
      "f     60\n",
      "dtype: int64\n"
     ]
    }
   ],
   "source": [
    "import pandas as pd \n",
    "\n",
    "#Demonstrating mutability in Series\n",
    "print(\"__Series__\")\n",
    "#Create a Series\n",
    "series = pd.Series([10,20,30,40,50],index=['a','b','c','d','e'])\n",
    "print(\"Original Series:\")\n",
    "print(series)\n",
    "\n",
    "#Modify an element in the Series (this is mutable)\n",
    "series['b'] = 100\n",
    "print(\"\\nSeries after modifying an element:\")\n",
    "print(series)\n",
    "\n",
    "#Add a new element to the Series (actually creates a new Series with extend index)\n",
    "series['f']=60\n",
    "print(\"\\nSeries after adding an element:\")\n",
    "print(series)\n",
    "\n",
    "#Remove an element from the Series(creates a new Series without the element)\n",
    "series = series.drop('c')\n",
    "print(\"\\nSeries after removing an element:\")\n",
    "print(series)\n"
   ]
  },
  {
   "cell_type": "code",
   "execution_count": 9,
   "id": "c8636f1a-1774-4d41-b272-e9eb40cf93c3",
   "metadata": {},
   "outputs": [
    {
     "name": "stdout",
     "output_type": "stream",
     "text": [
      "\n",
      "===DataFrame==\n",
      "Original DataFrame:\n",
      "   A   B\n",
      "a  1  10\n",
      "b  2  20\n",
      "c  3  30\n",
      "d  4  40\n",
      "\n",
      "DataFrame after modifing an element:\n",
      "     A   B\n",
      "a    1  10\n",
      "b  200  20\n",
      "c    3  30\n",
      "d    4  40\n",
      "\n",
      "DataFrame after adding a new column:\n",
      "     A   B    C\n",
      "a    1  10  100\n",
      "b  200  20  200\n",
      "c    3  30  300\n",
      "d    4  40  400\n",
      "\n",
      "DataFrame after adding a new row:\n",
      "     A   B    C\n",
      "a    1  10  100\n",
      "b  200  20  200\n",
      "c    3  30  300\n",
      "d    4  40  400\n",
      "e    5  50  500\n"
     ]
    }
   ],
   "source": [
    "#Demonstrating mutability in DataFrames\n",
    "print(\"\\n===DataFrame==\")\n",
    "\n",
    "#Create a DataFrame\n",
    "data = {\n",
    "    'A':[1,2,3,4],\n",
    "    'B':[10,20,30,40]\n",
    "}\n",
    "df=pd.DataFrame(data,index=['a','b','c','d'])\n",
    "print(\"Original DataFrame:\")\n",
    "print(df)\n",
    "\n",
    "#Modify an element in the DataFrame (this is mutable)\n",
    "df.loc['b','A']=200\n",
    "print(\"\\nDataFrame after modifing an element:\")\n",
    "print(df)\n",
    "\n",
    "#Add a new column to the DataFrame(this is mutable)\n",
    "df['C']=[100,200,300,400]\n",
    "print(\"\\nDataFrame after adding a new column:\")\n",
    "print(df)\n",
    "\n",
    "#Add a new row to the DataFrame(this is mutable)\n",
    "df.loc['e'] = [5,50,500]\n",
    "print(\"\\nDataFrame after adding a new row:\")\n",
    "print(df)"
   ]
  },
  {
   "cell_type": "code",
   "execution_count": null,
   "id": "a808c67b-d08f-4c20-a8b7-02c21a533b9f",
   "metadata": {},
   "outputs": [],
   "source": [
    "Q7. Create a DataFrame using multiple Series. Explain with an example."
   ]
  },
  {
   "cell_type": "code",
   "execution_count": null,
   "id": "b97c2e38-4daa-4880-9e4b-ea011c2432c5",
   "metadata": {},
   "outputs": [],
   "source": [
    "Imagine we’re analyzing the performance of a fictional company called TechCo. We have the following data:\n",
    "\n",
    "Employee Data:\n",
    "Employee names: ‘Alice’, ‘Bob’, ‘Charlie’, ‘David’\n",
    "Years of experience: 5, 8, 3, 10\n",
    "Salary (in thousands): 80, 120, 65, 150\n",
    "Project Data:\n",
    "Project IDs: ‘P101’, ‘P102’, ‘P103’, ‘P104’\n",
    "Project completion percentage: 90%, 75%, 60%, 95%\n",
    "Department Data:\n",
    "Department codes: ‘HR’, ‘Engineering’, ‘Marketing’, ‘Finance’\n",
    "Number of employees: 12, 25, 8, 15\n",
    "Now, let’s create a comprehensive DataFrame combining these Series:"
   ]
  },
  {
   "cell_type": "code",
   "execution_count": 11,
   "id": "beedcafd-7f54-40ee-859d-00e45a1dcb69",
   "metadata": {},
   "outputs": [
    {
     "name": "stdout",
     "output_type": "stream",
     "text": [
      "  Employee  Experience(y)  Salary(in k)    ID  Completion(in %)         Code  \\\n",
      "0    Alice              5            80  P101                90           HR   \n",
      "1      Bob              8           120  P102                75  Engineering   \n",
      "2  Charlie              3            65  P103                60    Marketing   \n",
      "3    David             10           150  P104                95      Finance   \n",
      "\n",
      "   No Employ  \n",
      "0         12  \n",
      "1         25  \n",
      "2          8  \n",
      "3         15  \n"
     ]
    }
   ],
   "source": [
    "import pandas as pd \n",
    "#Create Employee Series\n",
    "employees = pd.Series(['Alice','Bob','Charlie','David'])\n",
    "experience = pd.Series([5,8,3,10])\n",
    "salary =pd.Series([80,120,65,150])\n",
    "\n",
    "#Create Project Series\n",
    "projects = pd.Series(['P101','P102','P103','P104'])\n",
    "completion_percentage = pd.Series([90,75,60,95])\n",
    "\n",
    "#Create Deparment Series\n",
    "deparments= pd.Series(['HR', 'Engineering','Marketing','Finance'])\n",
    "num_employees= pd.Series([12,25,8,15])\n",
    "\n",
    "#Combine into dictionaries\n",
    "employees_frame= {'Employee':employees,'Experience(y)':experience,'Salary(in k)':salary\n",
    "                 }\n",
    "project_frame = {'ID':projects,'Completion(in %)':completion_percentage}\n",
    "department_frame = { 'Code':departments,'No Employ':num_employees}\n",
    "\n",
    "#Create DataFrames\n",
    "employee_df =pd.DataFrame(employees_frame)\n",
    "project_df= pd.DataFrame(project_frame)\n",
    "department_df = pd.DataFrame(department_frame)\n",
    "\n",
    "#Merge DataFrames\n",
    "techo_df= pd.merge(employee_df,project_df,left_index=True,right_index=True)\n",
    "techo_df= pd.merge(techo_df,department_df,left_index=True,right_index=True)\n",
    "\n",
    "print(techo_df)"
   ]
  },
  {
   "cell_type": "code",
   "execution_count": null,
   "id": "b879e581-16b0-4bc3-a9f4-1fb43fc31f5b",
   "metadata": {},
   "outputs": [],
   "source": []
  }
 ],
 "metadata": {
  "kernelspec": {
   "display_name": "Python 3 (ipykernel)",
   "language": "python",
   "name": "python3"
  },
  "language_info": {
   "codemirror_mode": {
    "name": "ipython",
    "version": 3
   },
   "file_extension": ".py",
   "mimetype": "text/x-python",
   "name": "python",
   "nbconvert_exporter": "python",
   "pygments_lexer": "ipython3",
   "version": "3.10.8"
  }
 },
 "nbformat": 4,
 "nbformat_minor": 5
}
