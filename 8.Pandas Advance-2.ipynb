{
 "cells": [
  {
   "cell_type": "code",
   "execution_count": null,
   "id": "43c6124c-d54f-428f-ac6e-f9e4103dbaf0",
   "metadata": {},
   "outputs": [],
   "source": [
    "Consider following code to answer further questions:"
   ]
  },
  {
   "cell_type": "code",
   "execution_count": null,
   "id": "61c7e560-495d-44db-bf76-57a47ebc846f",
   "metadata": {},
   "outputs": [],
   "source": [
    "import pandas as pd\n",
    "\n",
    "course_name = ['Data Science', 'Machine Learning', 'Big Data', 'Data Engineer']\n",
    "duration = [2, 3, 6, 4]\n",
    "\n",
    "df = pd.DataFrame(data={'course_name': course_name, 'duration': duration})\n"
   ]
  },
  {
   "cell_type": "code",
   "execution_count": null,
   "id": "d0fa7e07-0561-460c-9fb4-29075df3866a",
   "metadata": {},
   "outputs": [],
   "source": [
    "Q1. Write a code to print the data present in the second row of the dataframe, df."
   ]
  },
  {
   "cell_type": "code",
   "execution_count": null,
   "id": "fa48f29c-a750-498c-af9e-8b4ef12efa85",
   "metadata": {},
   "outputs": [],
   "source": [
    "#Print the data present in the second row of the dataframe\n",
    "second_row = df.iloc[1]\n",
    "print(second_row)"
   ]
  },
  {
   "cell_type": "code",
   "execution_count": null,
   "id": "bf804022-4ced-42ba-a228-f3dd60f8bd57",
   "metadata": {},
   "outputs": [],
   "source": [
    "Q2. What is the difference between the functions loc and iloc in pandas.DataFrame?"
   ]
  },
  {
   "cell_type": "code",
   "execution_count": null,
   "id": "feba0208-61b1-41a2-9ed4-01aa2094a36a",
   "metadata": {},
   "outputs": [],
   "source": [
    "Using loc (Label-based indexing)\n",
    "loc will access rows and columns by their labels. Since our DataFrame's index is the default integer index, loc will act similarly to iloc in this particular case, but using labels"
   ]
  },
  {
   "cell_type": "code",
   "execution_count": null,
   "id": "13f5d2f4-3e99-4e09-b847-25a3054d275f",
   "metadata": {},
   "outputs": [],
   "source": [
    "#Access row with index label 1\n",
    "print(\"Using loc to access row with index label 1:\")\n",
    "print(df.loc[1])\n",
    "\n",
    "#Access rows with index label1 and 2\n",
    "print(\"\\nUsing loc to access rows with index labels 1 to 2 (inclusive):\")\n",
    "print(df.loc[1:2])"
   ]
  },
  {
   "cell_type": "code",
   "execution_count": null,
   "id": "93fb8c71-2f2d-4266-9d45-46a0163a8978",
   "metadata": {},
   "outputs": [],
   "source": [
    "Using iloc (Integer-based indexing)\n",
    "iloc will access rows and columns by their integer positions."
   ]
  },
  {
   "cell_type": "code",
   "execution_count": null,
   "id": "3e35c3bc-d79a-47dc-9de1-9611bee8681b",
   "metadata": {},
   "outputs": [],
   "source": [
    "#Access the second row(index position1)\n",
    "print(\"Using iloc to access the second row (index position 1):\")\n",
    "print(df.iloc[1])\n",
    "\n",
    "#Access the second and third rows (index position 1 and 2)\n",
    "print(\"\\nUsing iloc to access the rows from position 1 to 2 (3 is exclusive):\")\n",
    "print(df.iloc[1:3])"
   ]
  },
  {
   "cell_type": "code",
   "execution_count": null,
   "id": "a31eaed9-9ec8-4a8c-a854-957686ae337b",
   "metadata": {},
   "outputs": [],
   "source": [
    "Q3. Reindex the given dataframe using a variable, reindex = [3,0,1,2] and store it in the variable, new_df\n",
    "then find the output for both new_df.loc[2] and new_df.iloc[2]."
   ]
  },
  {
   "cell_type": "code",
   "execution_count": null,
   "id": "8f06894a-35c9-4df6-b84a-47a2578bccd8",
   "metadata": {},
   "outputs": [],
   "source": [
    "#reindex the dataframe\n",
    "reindex = [ 3,0,1,2]\n",
    "new_df = df.reindex(reindex)\n",
    "\n",
    "#Output for new_df.loc[2]\n",
    "print(\"Output for new_df.loc[2]:\")\n",
    "print(new_df.loc[2])\n",
    "\n",
    "#Output for new_df.iloc[2]\n",
    "print(\"\\nOutput for new_df.iloc[2]:\")\n",
    "print(new_df.iloc[2])"
   ]
  },
  {
   "cell_type": "code",
   "execution_count": null,
   "id": "b57463ec-c1ca-4701-8c92-bcdc17f6f745",
   "metadata": {},
   "outputs": [],
   "source": [
    "new_df"
   ]
  },
  {
   "cell_type": "code",
   "execution_count": null,
   "id": "5c222c7f-c4e8-4a59-b2f8-49b685e3a558",
   "metadata": {},
   "outputs": [],
   "source": [
    "Consider the below code to answer further questions:\n",
    "import pandas as pd\n",
    "import numpy as np\n",
    "columns = ['column_1', 'column_2', 'column_3', 'column_4', 'column_5', 'column_6']\n",
    "indices = [1,2,3,4,5,6]\n",
    "#Creating a dataframe:\n",
    "df1 = pd.DataFrame(np.random.rand(6,6), columns = columns, index = indices)"
   ]
  },
  {
   "cell_type": "code",
   "execution_count": null,
   "id": "10f73596-1c8c-4ed7-9031-a6e01a9ce582",
   "metadata": {},
   "outputs": [],
   "source": [
    "import pandas as pd\n",
    "import numpy as np\n",
    "columns = ['column_1', 'column_2', 'column_3', 'column_4', 'column_5', 'column_6']\n",
    "indices = [1,2,3,4,5,6]\n",
    "#Creating a dataframe:\n",
    "df1 = pd.DataFrame(np.random.rand(6,6), columns = columns, index = indices)"
   ]
  },
  {
   "cell_type": "code",
   "execution_count": null,
   "id": "a8e7b615-b5f5-4bbb-99e3-0cfeee5282af",
   "metadata": {},
   "outputs": [],
   "source": [
    "df1"
   ]
  },
  {
   "cell_type": "code",
   "execution_count": null,
   "id": "28614009-665c-4487-b3ce-9c371c5fff9c",
   "metadata": {},
   "outputs": [],
   "source": [
    "Q4. Write a code to find the following statistical measurements for the above dataframe df1:\n",
    "(i) mean of each and every column present in the dataframe.\n",
    "(ii) standard deviation of column, ‘column_2’"
   ]
  },
  {
   "cell_type": "code",
   "execution_count": null,
   "id": "6fea29e8-18f2-4885-96e9-1218dd1da3e3",
   "metadata": {},
   "outputs": [],
   "source": [
    "#(i) Mean of each and every column\n",
    "mean_values = df1.mean()\n",
    "print(\"Mean of each column:\")\n",
    "print(mean_values)"
   ]
  },
  {
   "cell_type": "code",
   "execution_count": null,
   "id": "a9ab3872-59ee-43a9-b3b6-9cffd8c5369a",
   "metadata": {},
   "outputs": [],
   "source": [
    "#(ii)Standard deviation of column 'column2'\n",
    "std_column_2 = df1['column_2'].std()\n",
    "print(\"\\nStandard deviation of column_2:\")\n",
    "print(std_column_2)"
   ]
  },
  {
   "cell_type": "code",
   "execution_count": null,
   "id": "dc1c97e4-4f12-4ae5-ba7d-e8d690d6fda4",
   "metadata": {},
   "outputs": [],
   "source": [
    "Q5. Replace the data present in the second row of column, ‘column_2’ by a string variable then find the\n",
    "mean of column, column_2.\n",
    "If you are getting errors in executing it then explain why.\n",
    "[Hint: To replace the data use df1.loc[] and equate this to string data of your choice.]"
   ]
  },
  {
   "cell_type": "code",
   "execution_count": null,
   "id": "8f07e15d-0d46-447c-9175-10534bdc0477",
   "metadata": {},
   "outputs": [],
   "source": [
    "\n",
    "To replace the data in the second row of column_2 with a string and then find the mean of column_2, you can follow these steps. However, you will encounter an error because inserting a string into a column of numeric data will convert the column to an object data type, which does not support mean calculation directly."
   ]
  },
  {
   "cell_type": "code",
   "execution_count": null,
   "id": "3aebefdb-61fd-4a13-9172-aeba570e28b3",
   "metadata": {},
   "outputs": [],
   "source": [
    "#Replace the second row of column_2 with a string\n",
    "df1.loc[2,'column_2'] = 'string_value'\n",
    "\n",
    "#Try to calculate the mean of column_2\n",
    "try:\n",
    "    mean_column_2=df1['column_2'].mean()\n",
    "    \n",
    "except Exception as e :\n",
    "    mean_column_2 = str(e)\n",
    "    \n",
    "df1,mean_column_2"
   ]
  },
  {
   "cell_type": "code",
   "execution_count": null,
   "id": "5a064625-7b22-4afa-b66f-890e2147b7cb",
   "metadata": {},
   "outputs": [],
   "source": [
    "This error occurs because df1['column_2'] now contains both floats and a string, making it impossible for pandas to perform a numeric operation like calculating the mean.\n",
    "\n",
    "To resolve this, you could either:\n",
    "\n",
    "Ensure all data in the column are numeric before calculating the mean.\n",
    "Remove or ignore non-numeric data when calculating the mean.\n",
    "\n",
    "Here is a modified version of the code that skips non-numeric values when calculating the mean:"
   ]
  },
  {
   "cell_type": "code",
   "execution_count": null,
   "id": "b547200a-95ed-4b37-aca3-3e75e0546c39",
   "metadata": {},
   "outputs": [],
   "source": [
    "# Calculate the mean of column_2, ignoring non-numeric values\n",
    "mean_column_2 = pd.to_numeric(df1['column_2'], errors='coerce').mean()\n",
    "\n",
    "df1, mean_column_2"
   ]
  },
  {
   "cell_type": "code",
   "execution_count": null,
   "id": "ca061d94-a8a6-49a4-ba8a-b05abbd1ac5d",
   "metadata": {},
   "outputs": [],
   "source": [
    "Q6. What do you understand about the windows function in pandas and list the types of windows\n",
    "functions?"
   ]
  },
  {
   "cell_type": "code",
   "execution_count": null,
   "id": "de522592-70c6-4dd2-a061-aa7ee838dc57",
   "metadata": {},
   "outputs": [],
   "source": [
    "In pandas, window functions allow you to perform calculations across a subset of data points within a defined window. These functions are particularly useful for time series data and other ordered data, where you might want to calculate statistics over a rolling or expanding window. Window functions in pandas are used to provide flexible and powerful tools for working with such datasets."
   ]
  },
  {
   "cell_type": "code",
   "execution_count": null,
   "id": "c39d0407-4039-404f-91d0-bcb42286c9db",
   "metadata": {},
   "outputs": [],
   "source": [
    "Types of Window Functions in pandas:\n",
    "\n",
    "Rolling Window:\n",
    "\n",
    "Applies a function to a moving window of fixed size.\n",
    "Commonly used for calculating rolling statistics like moving averages, rolling sums, etc.\n",
    "Example: .rolling(window=3).mean() calculates the mean over a rolling window of 3 observations.\n",
    "Syntax: df.rolling(window, min_periods=None, center=False, win_type=None, on=None, axis=0, closed=None)\n",
    "Parameters:\n",
    "window: Size of the moving window.\n",
    "min_periods: Minimum number of observations required to have a value.\n",
    "center: Whether to set the labels at the center of the window.\n",
    "win_type: Type of window (e.g., 'boxcar', 'triang', 'blackman')."
   ]
  },
  {
   "cell_type": "code",
   "execution_count": null,
   "id": "e897f97d-8684-46ce-b42a-52d12774b271",
   "metadata": {},
   "outputs": [],
   "source": [
    "df['rolling_mean'] = df['column'].rolling(window=3).mean()\n",
    "df['rolling_sum'] = df['column'].rolling(window=3).sum()\n"
   ]
  },
  {
   "cell_type": "code",
   "execution_count": null,
   "id": "3cc9e9c3-5e9f-4350-8305-d953bb8a228d",
   "metadata": {},
   "outputs": [],
   "source": [
    "Expanding Window:\n",
    "Applies a function to an expanding window, starting from the beginning of the data and expanding as more data points are included.\n",
    "Useful for cumulative calculations.\n",
    "Example: .expanding().sum() calculates the cumulative sum.\n",
    "Syntax: df.expanding(min_periods=1, axis=0)\n",
    "Parameters:\n",
    "min_periods: Minimum number of observations required to have a value.\n",
    "axis: Axis along which to perform the expanding window calculation."
   ]
  },
  {
   "cell_type": "code",
   "execution_count": null,
   "id": "2f0eb505-4cdb-4441-ac3e-2c53d098bf1c",
   "metadata": {},
   "outputs": [],
   "source": [
    "df['expanding_sum'] = df['column'].expanding().sum()\n",
    "df['expanding_mean'] = df['column'].expanding().mean()\n"
   ]
  },
  {
   "cell_type": "code",
   "execution_count": null,
   "id": "6da19dfe-ee87-43b4-b47b-e8a8510f24f5",
   "metadata": {},
   "outputs": [],
   "source": [
    "Exponentially Weighted Window (EWMA):\n",
    "Applies a function using an exponentially weighted window.\n",
    "Places more weight on recent observations, which can be more responsive to changes in the data.\n",
    "Example: .ewm(span=3).mean() calculates the exponentially weighted moving average with a span of 3.\n",
    "Syntax: df.ewm(com=None, span=None, halflife=None, alpha=None, min_periods=0, adjust=True, ignore_na=False, axis=0)\n",
    "com, span, halflife, alpha: Specify decay in terms of center of mass, span, half-life, or smoothing factor.\n",
    "min_periods: Minimum number of observations required to have a value.\n",
    "adjust: \n",
    "    If True, calculates weights like this: (1−𝛼)^t.\n",
    "    If False, calculates recursively"
   ]
  },
  {
   "cell_type": "code",
   "execution_count": null,
   "id": "9e7d8718-c447-4f99-9ec7-6892c3bfb1e6",
   "metadata": {},
   "outputs": [],
   "source": [
    "df['ewm_mean'] = df['column'].ewm(span=3).mean()\n",
    "df['ewm_std'] = df['column'].ewm(span=3).std()\n"
   ]
  },
  {
   "cell_type": "code",
   "execution_count": null,
   "id": "b37b482e-f554-4dd8-bc8c-53e8c2dc4c0c",
   "metadata": {},
   "outputs": [],
   "source": [
    "Q7. Write a code to print only the current month and year at the time of answering this question.\n",
    "[Hint: Use pandas.datetime function]"
   ]
  },
  {
   "cell_type": "code",
   "execution_count": null,
   "id": "4f649535-6f5b-4004-b3c3-06746fa7e05d",
   "metadata": {},
   "outputs": [],
   "source": [
    "import pandas as pd \n",
    "\n",
    "#Get the current date \n",
    "current_date = pd.Timestamp.now()\n",
    "\n",
    "#Extract the month and year\n",
    "current_month = current_date.month\n",
    "current_year = current_date.year\n",
    "\n",
    "print(\"Current Month:\",current_month)\n",
    "print(\"Current Year:\",current_year)\n",
    "print(current_date)"
   ]
  },
  {
   "cell_type": "code",
   "execution_count": null,
   "id": "270c01b8-99cd-48ae-896d-d845df76fa98",
   "metadata": {},
   "outputs": [],
   "source": [
    "Q8. Write a Python program that takes in two dates as input (in the format YYYY-MM-DD) and\n",
    "calculates the difference between them in days, hours, and minutes using Pandas time delta. The\n",
    "program should prompt the user to enter the dates and display the result."
   ]
  },
  {
   "cell_type": "code",
   "execution_count": null,
   "id": "063c7940-273f-4bbf-abb8-d17ce828580f",
   "metadata": {},
   "outputs": [],
   "source": [
    "import pandas as pd\n",
    "\n",
    "#Get input from the user\n",
    "date1_str = input(\"Enter the first date (YYYY-MM-DD):\")\n",
    "date2_str = input(\"Enter the second date (YYYY-MM-DD):\")\n",
    "\n",
    "#Convert input string to datetime objects\n",
    "date1=pd.to_datetime(date1_str)\n",
    "date2=pd.to_datetime(date2_str)\n",
    "\n",
    "#Calculate the time diffrence\n",
    "time_diff = date2 - date1\n",
    "\n",
    "#Extract days,hours, and minutes\n",
    "days = time_diff.days\n",
    "hours = time_diff.seconds//3600\n",
    "minutes = (time_diff.seconds%3600)//60\n",
    "\n",
    "#Display the result\n",
    "print(f\"Time difference:{days}days,{hours}hours,{minutes} minutes\")"
   ]
  },
  {
   "cell_type": "code",
   "execution_count": null,
   "id": "fc19e70a-5551-406d-b1c5-03ff866e6230",
   "metadata": {},
   "outputs": [],
   "source": [
    "Q9. Write a Python program that reads a CSV file containing categorical data and converts a specified\n",
    "column to a categorical data type. The program should prompt the user to enter the file path, column\n",
    "name, and category order, and then display the sorted data."
   ]
  },
  {
   "cell_type": "code",
   "execution_count": null,
   "id": "231cdd63-8569-4648-a843-2b1fe3e27739",
   "metadata": {},
   "outputs": [],
   "source": [
    "import pandas as pd\n",
    "\n",
    "def main():\n",
    "    # Prompt user for file path\n",
    "    file_path = input(\"Enter the path to the CSV file: \")\n",
    "\n",
    "    # Prompt user for column name\n",
    "    column_name = input(\"Enter the name of the column to convert to categorical: \")\n",
    "\n",
    "    # Read CSV file into a DataFrame\n",
    "    try:\n",
    "        df = pd.read_csv(players_csv.csv)\n",
    "    except FileNotFoundError:\n",
    "        print(\"File not found.\")\n",
    "        return\n",
    "    except pd.errors.EmptyDataError:\n",
    "        print(\"File is empty.\")\n",
    "        return\n",
    "\n",
    "    # Check if the column exists\n",
    "    if column_name not in df.columns:\n",
    "        print(f\"Column '{column_name}' not found in the CSV file.\")\n",
    "        return\n",
    "\n",
    "    # Prompt user for category order\n",
    "    categories_input = input(\"Enter the categories in the desired order separated by commas: \")\n",
    "    categories = [cat.strip() for cat in categories_input.split(\",\")]\n",
    "\n",
    "    # Convert specified column to categorical data type\n",
    "    df[column_name] = pd.Categorical(df[column_name], categories=categories, ordered=True)\n",
    "\n",
    "    # Display sorted data\n",
    "    sorted_df = df.sort_values(by=[column_name])\n",
    "    print(\"\\nSorted Data:\")\n",
    "    print(sorted_df)\n",
    "\n",
    "if __name__ == \"__main__\":\n",
    "    main()\n"
   ]
  },
  {
   "cell_type": "code",
   "execution_count": null,
   "id": "cae553e9-dbb4-4714-a4b2-ed68d4a77de7",
   "metadata": {},
   "outputs": [],
   "source": [
    "Q10. Write a Python program that reads a CSV file containing sales data for different products and\n",
    "visualizes the data using a stacked bar chart to show the sales of each product category over time. The\n",
    "program should prompt the user to enter the file path and display the chart."
   ]
  },
  {
   "cell_type": "code",
   "execution_count": null,
   "id": "60b6b5e8-1383-4dc6-9492-34d9df17d1a6",
   "metadata": {},
   "outputs": [],
   "source": [
    "import pandas as pd\n",
    "import matplotlib.pyplot as plt\n",
    "\n",
    "def main():\n",
    "    # Prompt user for file path\n",
    "    file_path = input(\"Enter the path to the CSV file: \")\n",
    "\n",
    "    # Read CSV file into a DataFrame\n",
    "    try:\n",
    "        df = pd.read_csv(file_path)\n",
    "    except FileNotFoundError:\n",
    "        print(\"File not found.\")\n",
    "        return\n",
    "    except pd.errors.EmptyDataError:\n",
    "        print(\"File is empty.\")\n",
    "        return\n",
    "\n",
    "    # Check if required columns exist\n",
    "    if 'Product' not in df.columns or 'Category' not in df.columns or 'Date' not in df.columns or 'Sales' not in df.columns:\n",
    "        print(\"Required columns not found in the CSV file.\")\n",
    "        return\n",
    "\n",
    "    # Convert 'Date' column to datetime type\n",
    "    df['Date'] = pd.to_datetime(df['Date'])\n",
    "\n",
    "    # Extract year and month from the 'Date' column\n",
    "    df['Year'] = df['Date'].dt.year\n",
    "    df['Month'] = df['Date'].dt.month\n",
    "\n",
    "    # Group by year, month, and category, summing up the sales\n",
    "    grouped_data = df.groupby(['Year', 'Month', 'Category'])['Sales'].sum().reset_index()\n",
    "\n",
    "    # Pivot the data to have categories as columns\n",
    "    pivoted_data = grouped_data.pivot_table(index=['Year', 'Month'], columns='Category', values='Sales', fill_value=0)\n",
    "\n",
    "    # Create stacked bar chart\n",
    "    pivoted_data.plot(kind='bar', stacked=True, figsize=(10, 6))\n",
    "    plt.title('Sales of Each Product Category Over Time')\n",
    "    plt.xlabel('Year-Month')\n",
    "    plt.ylabel('Sales')\n",
    "    plt.legend(title='Category')\n",
    "    plt.xticks(rotation=45)\n",
    "    plt.tight_layout()\n",
    "    plt.show()\n",
    "\n",
    "if __name__ == \"__main__\":\n",
    "    main()\n"
   ]
  },
  {
   "cell_type": "code",
   "execution_count": null,
   "id": "371cd22b-1d39-4a87-b04b-c87e52c11406",
   "metadata": {},
   "outputs": [],
   "source": [
    "Q11. You are given a CSV file containing student data that includes the student ID and their test score. Write\n",
    "a Python program that reads the CSV file, calculates the mean, median, and mode of the test scores, and\n",
    "displays the results in a table.\n",
    "The program should do the followingM\n",
    "I Prompt the user to enter the file path of the CSV file containing the student dataR\n",
    "I Read the CSV file into a Pandas DataFrameR\n",
    "I Calculate the mean, median, and mode of the test scores using Pandas toolsR\n",
    "I Display the mean, median, and mode in a table.\n",
    "Assume the CSV file contains the following columnsM\n",
    "I Student ID: The ID of the studentR\n",
    "I Test Score: The score of the student's test.\n",
    "Example usage of the program:\n",
    "Enter the file path of the CSV file containing the student data: student_data.csv\n",
    "+-----------+--------+\n",
    "| Statistic | Value |\n",
    "+-----------+--------+\n",
    "| Mean | 79.6 |\n",
    "| Median | 82 |\n",
    "| Mode | 85, 90 |\n",
    "+-----------+--------+\n",
    "Assume that the CSV file student_data.csv contains the following data:\n",
    "Student ID,Test Score\n",
    "1,85\n",
    "2,90\n",
    "3,80\n",
    "4,75\n",
    "5,85\n",
    "6,82\n",
    "7,78\n",
    "8,85\n",
    "9,90\n",
    "10,85\n",
    "The program should calculate the mean, median, and mode of the test scores and display the results\n",
    "in a table."
   ]
  },
  {
   "cell_type": "code",
   "execution_count": null,
   "id": "41e7e346-daf2-48c3-9d92-572dd4fd648c",
   "metadata": {},
   "outputs": [],
   "source": [
    "import pandas as pd\n",
    "\n",
    "# Prompting user for the file path\n",
    "file_path = input(\"Enter the file path of the CSV file containing the student data: \")\n",
    "\n",
    "# Reading the CSV file into a Pandas DataFrame\n",
    "data = pd.read_csv(file_path)\n",
    "\n",
    "# Calculating mean, median, and mode\n",
    "mean_score = data['Test Score'].mean()\n",
    "median_score = data['Test Score'].median()\n",
    "mode_scores = data['Test Score'].mode()\n",
    "\n",
    "# Displaying results in a table\n",
    "print(\"+-----------+--------+\")\n",
    "print(\"| Statistic | Value  |\")\n",
    "print(\"+-----------+--------+\")\n",
    "print(f\"| Mean      | {mean_score:.1f}   |\")\n",
    "print(\"| Median    |\", f\"{median_score}   |\")\n",
    "print(\"| Mode      |\", ', '.join(map(str, mode_scores)), \"  |\")\n",
    "print(\"+-----------+--------+\")\n"
   ]
  },
  {
   "cell_type": "code",
   "execution_count": null,
   "id": "c73c5152-a7e0-4190-9f3f-ddecc43458f3",
   "metadata": {},
   "outputs": [],
   "source": []
  }
 ],
 "metadata": {
  "kernelspec": {
   "display_name": "Python 3 (ipykernel)",
   "language": "python",
   "name": "python3"
  },
  "language_info": {
   "codemirror_mode": {
    "name": "ipython",
    "version": 3
   },
   "file_extension": ".py",
   "mimetype": "text/x-python",
   "name": "python",
   "nbconvert_exporter": "python",
   "pygments_lexer": "ipython3",
   "version": "3.10.8"
  }
 },
 "nbformat": 4,
 "nbformat_minor": 5
}
