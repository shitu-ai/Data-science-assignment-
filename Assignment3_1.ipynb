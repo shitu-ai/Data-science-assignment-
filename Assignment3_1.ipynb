{
 "cells": [
  {
   "cell_type": "code",
   "execution_count": null,
   "id": "8195884d-d6a2-47bc-a5bc-75e051ebcfc1",
   "metadata": {},
   "outputs": [],
   "source": [
    "Q1. Which keyword is used to create a function? Create a function to return a list of odd numbers in the\n",
    "range of 1 to 25."
   ]
  },
  {
   "cell_type": "code",
   "execution_count": null,
   "id": "54d556e1-208f-4047-a092-5b6cadefabe8",
   "metadata": {},
   "outputs": [],
   "source": [
    "Answr1:\n",
    "    \n",
    "In Python, the def keyword is used to create a function. \n",
    "It's followed by the function name and a set of parentheses containing optional parameters, if any, and then a colon to indicate the start of the function body."
   ]
  },
  {
   "cell_type": "code",
   "execution_count": 1,
   "id": "34c36339-41e3-42ce-a1b3-cfd291312987",
   "metadata": {},
   "outputs": [
    {
     "name": "stdout",
     "output_type": "stream",
     "text": [
      "[1, 3, 5, 7, 9, 11, 13, 15, 17, 19, 21, 23, 25]\n"
     ]
    }
   ],
   "source": [
    "def get_odd_numbers():\n",
    "    # Initialize an empty list to store odd numbers\n",
    "    odd_numbers = []\n",
    "\n",
    "    # Iterate through the range from 1 to 25\n",
    "    for num in range(1, 26):\n",
    "        if num % 2 != 0:\n",
    "            odd_numbers.append(num)\n",
    "\n",
    "    return odd_numbers\n",
    "\n",
    "# Call the function and print the result\n",
    "print(get_odd_numbers())\n"
   ]
  },
  {
   "cell_type": "code",
   "execution_count": null,
   "id": "67410a33-057e-46c3-910d-acf0bdfe5265",
   "metadata": {},
   "outputs": [],
   "source": [
    "Q2. Why *args and **kwargs is used in some functions? Create a function each for *args and **kwargs\n",
    "to demonstrate their use."
   ]
  },
  {
   "cell_type": "code",
   "execution_count": null,
   "id": "f4524204-e101-4d60-ac86-8aa50a171585",
   "metadata": {},
   "outputs": [],
   "source": [
    "Answr2:\n",
    "    *args (Non-Keyword Arguments):\n",
    "The special syntax *args allows a function to accept a variable number of non-keyworded arguments.\n",
    "It is used when we want to pass an arbitrary number of arguments to a function.\n",
    "By convention, we often use the word args after the *.\n",
    "With *args, any number of extra arguments can be tacked on to the current formal parameters (including zero extra arguments).\n",
    "\n",
    "**kwargs (Keyword Arguments):\n",
    "The special syntax **kwargs allows a function to accept a variable number of keyword arguments.\n",
    "It is used when we want to pass an arbitrary number of keyword arguments (like a dictionary) to a function.\n",
    "By convention, we use the name kwargs with the double star.\n",
    "When iterating over kwargs, there isn’t a specific order in which the arguments were passed.\n",
    "\n",
    "    "
   ]
  },
  {
   "cell_type": "code",
   "execution_count": 8,
   "id": "595c5ddc-3f8c-45bb-b584-fa664dbb9a63",
   "metadata": {},
   "outputs": [
    {
     "name": "stdout",
     "output_type": "stream",
     "text": [
      "Sum of all numbers: 15\n",
      "name: John\n",
      "age: 30\n",
      "city: New York\n"
     ]
    }
   ],
   "source": [
    "# Function using *args to calculate the sum of all arguments\n",
    "def sum_all(*args):\n",
    "    total = 0\n",
    "    for num in args:\n",
    "        total += num\n",
    "    return total\n",
    "\n",
    "# Function using **kwargs to print key-value pairs\n",
    "def print_info(**kwargs):\n",
    "    for key, value in kwargs.items():\n",
    "        print(f\"{key}: {value}\")\n",
    "\n",
    "# Test the functions\n",
    "print(\"Sum of all numbers:\", sum_all(1, 2, 3, 4, 5))  # Output: 15\n",
    "\n",
    "print_info(name=\"John\", age=30, city=\"New York\")      # Output: name: John, age: 30, city: New York\n"
   ]
  },
  {
   "cell_type": "code",
   "execution_count": null,
   "id": "27f6ff0e-c1c6-4b5d-8fef-1319090c8b6d",
   "metadata": {},
   "outputs": [],
   "source": [
    "In the sum_all function, *args collects all the positional arguments (1, 2, 3, 4, 5) into a tuple, allowing us to sum them up easily.\n",
    "\n",
    "In the print_info function, **kwargs collects all the keyword arguments (name=\"John\", age=30, city=\"New York\") into a dictionary, enabling us to iterate over and print each key-value pair."
   ]
  },
  {
   "cell_type": "code",
   "execution_count": null,
   "id": "ac9a60aa-4174-4a5c-8a1d-f83483dc735c",
   "metadata": {},
   "outputs": [],
   "source": [
    "Q3. What is an iterator in python? Name the method used to initialise the iterator object and the method\n",
    "used for iteration. \n",
    "Use these methods to print the first five elements of the given list [2, 4, 6, 8, 10, 12, 14,\n",
    "16, 18, 20]."
   ]
  },
  {
   "cell_type": "code",
   "execution_count": null,
   "id": "08e6005d-b9d1-43ac-9262-75283553ee9d",
   "metadata": {},
   "outputs": [],
   "source": [
    "What is an Iterator?\n",
    "An iterator in Python is an object that allows us to traverse through a collection of elements (such as a list, tuple, or string) one by one.\n",
    "It provides a way to access the elements sequentially without needing to know the underlying structure or implementation details of the collection.\n",
    "\n",
    "Methods for Iterators:\n",
    "To create an iterator, we need to implement two essential methods:\n",
    "__iter__(): Initializes the iterator and returns itself.\n",
    "__next__(): Provides the next item in the sequence."
   ]
  },
  {
   "cell_type": "code",
   "execution_count": 11,
   "id": "6477b769-e330-43ff-8839-03f7f7e156a1",
   "metadata": {},
   "outputs": [
    {
     "name": "stdout",
     "output_type": "stream",
     "text": [
      "2\n",
      "4\n",
      "6\n",
      "8\n",
      "10\n"
     ]
    }
   ],
   "source": [
    "def print_first_five_elements(lst):\n",
    "    myiter = iter(lst)\n",
    "    for _ in range(5):\n",
    "        print(next(myiter))\n",
    "\n",
    "my_list = [2, 4, 6, 8, 10, 12, 14, 16, 18, 20]\n",
    "print_first_five_elements(my_list)\n"
   ]
  },
  {
   "cell_type": "code",
   "execution_count": null,
   "id": "76816806-5bf5-405d-83c9-36c7f42f5fb6",
   "metadata": {},
   "outputs": [],
   "source": [
    "The function print_first_five_elements() initializes an iterator for the given list and prints the first five elements.\n",
    "In summary, iterators allow us to efficiently traverse through collections, and their methods (__iter__() and __next__()) make Python code more elegant and powerful"
   ]
  },
  {
   "cell_type": "code",
   "execution_count": null,
   "id": "4c3459bb-3b69-4235-9e70-4874a89a130b",
   "metadata": {},
   "outputs": [],
   "source": [
    "Q4. What is a generator function in python? Why yield keyword is used? Give an example of a generator\n",
    "function."
   ]
  },
  {
   "cell_type": "code",
   "execution_count": null,
   "id": "f8a186f0-f15a-4c65-9949-6d32474929bb",
   "metadata": {},
   "outputs": [],
   "source": [
    "What is a Generator Function?\n",
    "A generator function is a special kind of function that allows you to create iterators.\n",
    "Unlike regular functions that compute and return a value all at once, generator functions generate a sequence of values on-the-fly as required.\n",
    "They are particularly useful when dealing with large data streams, infinite sequences, or situations where memory efficiency matters.\n",
    "Generator functions provide a faster and memory-efficient way to create iterators compared to other methods.\n",
    "\n",
    "Why Is the yield Keyword Used?\n",
    "\n",
    "The magic lies in the yield keyword within a generator function.\n",
    "When a generator function encounters the yield statement, it pauses execution, saves its state, and yields a value to the caller.\n",
    "The function can then be resumed from where it left off when the next value is requested.\n",
    "Essentially, yield allows you to create an iterator that produces values on demand, without loading everything into memory at once."
   ]
  },
  {
   "cell_type": "code",
   "execution_count": 12,
   "id": "2b2a36d7-23a9-439a-8800-b54ba072ea61",
   "metadata": {},
   "outputs": [
    {
     "name": "stdout",
     "output_type": "stream",
     "text": [
      "First 10 Fibonacci numbers:\n",
      "0 1 1 2 3 5 8 13 21 34 "
     ]
    }
   ],
   "source": [
    "#Example of a Generator Function:\n",
    "'Let’s create a simple generator function that generates the first n Fibonacci numbers:'\n",
    "def fibonacci_generator(n):\n",
    "    a, b = 0, 1\n",
    "    count = 0\n",
    "    while count < n:\n",
    "        yield a\n",
    "        a, b = b, a + b\n",
    "        count += 1\n",
    "\n",
    "# Usage\n",
    "n = 10\n",
    "fib_iter = fibonacci_generator(n)\n",
    "print(f\"First {n} Fibonacci numbers:\")\n",
    "for fib_num in fib_iter:\n",
    "    print(fib_num, end=\" \")\n"
   ]
  },
  {
   "cell_type": "code",
   "execution_count": null,
   "id": "330f8b19-a9f0-4186-abb8-419202f5e8ca",
   "metadata": {},
   "outputs": [],
   "source": [
    "Summary:\n",
    "Generator functions are powerful tools for lazy evaluation, memory efficiency, and handling large data.\n",
    "Remember: Generators don’t compute everything upfront; they yield values as requested! "
   ]
  },
  {
   "cell_type": "code",
   "execution_count": null,
   "id": "0125d29f-9cf8-46a6-a451-d6fb8a35573b",
   "metadata": {},
   "outputs": [],
   "source": [
    "Q5. Create a generator function for prime numbers less than 1000. Use the next() method to print the\n",
    "first 20 prime numbers."
   ]
  },
  {
   "cell_type": "code",
   "execution_count": 13,
   "id": "01f96e89-2c3e-4174-8a9d-46ed4d4b5b1a",
   "metadata": {},
   "outputs": [
    {
     "name": "stdout",
     "output_type": "stream",
     "text": [
      "2\n",
      "3\n",
      "5\n",
      "7\n",
      "11\n",
      "13\n",
      "17\n",
      "19\n",
      "23\n",
      "29\n",
      "31\n",
      "37\n",
      "41\n",
      "43\n",
      "47\n",
      "53\n",
      "59\n",
      "61\n",
      "67\n",
      "71\n"
     ]
    }
   ],
   "source": [
    "def prime_generator():\n",
    "    # Define a helper function to check if a number is prime\n",
    "    def is_prime(num):\n",
    "        if num <= 1:\n",
    "            return False\n",
    "        if num == 2:\n",
    "            return True\n",
    "        if num % 2 == 0:\n",
    "            return False\n",
    "        for i in range(3, int(num**0.5) + 1, 2):\n",
    "            if num % i == 0:\n",
    "                return False\n",
    "        return True\n",
    "    \n",
    "    # Yield prime numbers less than 1000\n",
    "    for num in range(2, 1000):\n",
    "        if is_prime(num):\n",
    "            yield num\n",
    "\n",
    "# Use the generator function to print the first 20 prime numbers\n",
    "prime_gen = prime_generator()\n",
    "for _ in range(20):\n",
    "    print(next(prime_gen))\n"
   ]
  },
  {
   "cell_type": "code",
   "execution_count": null,
   "id": "7f28e727-93b1-4f19-8551-0095c64de66d",
   "metadata": {},
   "outputs": [],
   "source": [
    "Q6. Write a python program to print the first 10 Fibonacci numbers using a while loop."
   ]
  },
  {
   "cell_type": "code",
   "execution_count": 14,
   "id": "a4fad5a5-f647-4555-a1ca-dd80db926c93",
   "metadata": {},
   "outputs": [
    {
     "name": "stdout",
     "output_type": "stream",
     "text": [
      "0 1 1 2 3 5 8 13 21 34 "
     ]
    }
   ],
   "source": [
    "# Initialize the first two terms of the Fibonacci sequence\n",
    "n1, n2 = 0, 1\n",
    "\n",
    "# Print the first 10 Fibonacci numbers\n",
    "count = 0\n",
    "while count < 10:\n",
    "    print(n1, end=\" \")\n",
    "    nth = n1 + n2\n",
    "    n1 = n2\n",
    "    n2 = nth\n",
    "    count += 1\n"
   ]
  },
  {
   "cell_type": "code",
   "execution_count": null,
   "id": "cde089ec-58f1-4e48-9536-fb81913f5ee2",
   "metadata": {},
   "outputs": [],
   "source": [
    "Q7. Write a List Comprehension to iterate through the given string: ‘pwskills’.\n",
    "Expected output: ['p', 'w', 's', 'k', 'i', 'l', 'l', 's']"
   ]
  },
  {
   "cell_type": "code",
   "execution_count": 15,
   "id": "aa42bebe-bced-4192-962c-5369d7e7cd7e",
   "metadata": {},
   "outputs": [
    {
     "name": "stdout",
     "output_type": "stream",
     "text": [
      "['p', 'w', 's', 'k', 'i', 'l', 'l', 's']\n"
     ]
    }
   ],
   "source": [
    "string = 'pwskills'\n",
    "\n",
    "output = [char for char in string if char in 'pwskills']\n",
    "\n",
    "print(output)\n"
   ]
  },
  {
   "cell_type": "code",
   "execution_count": null,
   "id": "1f1ff8c3-4e41-4a19-a25e-1fbd9e33c8e1",
   "metadata": {},
   "outputs": [],
   "source": [
    "Q8. Write a python program to check whether a given number is Palindrome or not using a while loop."
   ]
  },
  {
   "cell_type": "code",
   "execution_count": null,
   "id": "95b999cb-f945-40be-9bd2-956ea0eee928",
   "metadata": {},
   "outputs": [],
   "source": [
    "A palindrome number remains the same when its digits are reversed.\n",
    "\n",
    "Here are three different approaches to achieve this:\n",
    "\n",
    "Using a While Loop (Hardcoded Input):\n",
    "In this program, we’ll hardcode the input number and check if it’s a palindrome."
   ]
  },
  {
   "cell_type": "code",
   "execution_count": 18,
   "id": "c64ef53b-d1a7-44e4-884e-2d5e421663c4",
   "metadata": {},
   "outputs": [
    {
     "name": "stdout",
     "output_type": "stream",
     "text": [
      "1331 is a Palindrome\n"
     ]
    }
   ],
   "source": [
    "# Palindrome program in Python using a while loop\n",
    "num = 1331  # Example: Change this to any positive integer\n",
    "original_number = num\n",
    "reverse = 0\n",
    "\n",
    "while num != 0:\n",
    "    remainder = num % 10\n",
    "    reverse = reverse * 10 + remainder\n",
    "    num = num // 10\n",
    "\n",
    "if original_number == reverse:\n",
    "    print(original_number, 'is a Palindrome')\n",
    "else:\n",
    "    print(original_number, 'is not a Palindrome')\n"
   ]
  },
  {
   "cell_type": "code",
   "execution_count": null,
   "id": "4a462aa3-71c1-4419-9d54-9c1108c46f5d",
   "metadata": {},
   "outputs": [],
   "source": [
    "Q9. Write a code to print odd numbers from 1 to 100 using list comprehension.\n",
    "Note: Use a list comprehension to create a list from 1 to 100 and use another List comprehension to filter\n",
    "out odd numbers."
   ]
  },
  {
   "cell_type": "code",
   "execution_count": 19,
   "id": "048b0a8a-2183-471b-a656-a7ed9c0a47ca",
   "metadata": {},
   "outputs": [
    {
     "name": "stdout",
     "output_type": "stream",
     "text": [
      "[1, 3, 5, 7, 9, 11, 13, 15, 17, 19, 21, 23, 25, 27, 29, 31, 33, 35, 37, 39, 41, 43, 45, 47, 49, 51, 53, 55, 57, 59, 61, 63, 65, 67, 69, 71, 73, 75, 77, 79, 81, 83, 85, 87, 89, 91, 93, 95, 97, 99]\n"
     ]
    }
   ],
   "source": [
    "# List comprehension to create a list from 1 to 100\n",
    "numbers = [num for num in range(1, 101)]\n",
    "\n",
    "# List comprehension to filter out odd numbers\n",
    "odd_numbers = [num for num in numbers if num % 2 != 0]\n",
    "\n",
    "# Printing the odd numbers\n",
    "print(odd_numbers)\n"
   ]
  },
  {
   "cell_type": "code",
   "execution_count": null,
   "id": "93c28eaa-d88f-45ed-8988-2a341bfb8e04",
   "metadata": {},
   "outputs": [],
   "source": []
  }
 ],
 "metadata": {
  "kernelspec": {
   "display_name": "Python 3 (ipykernel)",
   "language": "python",
   "name": "python3"
  },
  "language_info": {
   "codemirror_mode": {
    "name": "ipython",
    "version": 3
   },
   "file_extension": ".py",
   "mimetype": "text/x-python",
   "name": "python",
   "nbconvert_exporter": "python",
   "pygments_lexer": "ipython3",
   "version": "3.10.8"
  }
 },
 "nbformat": 4,
 "nbformat_minor": 5
}
