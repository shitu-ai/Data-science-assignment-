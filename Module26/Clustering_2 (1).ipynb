{
  "nbformat": 4,
  "nbformat_minor": 0,
  "metadata": {
    "colab": {
      "provenance": []
    },
    "kernelspec": {
      "name": "python3",
      "display_name": "Python 3"
    },
    "language_info": {
      "name": "python"
    }
  },
  "cells": [
    {
      "cell_type": "markdown",
      "source": [
        "Q1. What is hierarchical clustering, and how is it different from other clustering techniques?"
      ],
      "metadata": {
        "id": "VnAM6mZpfF4e"
      }
    },
    {
      "cell_type": "markdown",
      "source": [
        "**Hierarchical Clustering** is a type of clustering technique that builds a hierarchy of clusters. It is an unsupervised learning method used to group similar data points into clusters based on their similarity or distance.\n",
        "\n",
        "### **Key Concepts of Hierarchical Clustering**\n",
        "\n",
        "1. **Agglomerative (Bottom-Up) Approach:**\n",
        "   - Start with each data point as its own cluster.\n",
        "   - At each step, merge the two closest clusters based on a distance metric (e.g., Euclidean distance).\n",
        "   - Continue merging until all points are in a single cluster or until a stopping criterion is met.\n",
        "   - The result can be visualized using a **dendrogram**, a tree-like diagram showing the order in which clusters were merged.\n",
        "\n",
        "2. **Divisive (Top-Down) Approach:**\n",
        "   - Start with all data points in a single cluster.\n",
        "   - Recursively split the cluster into smaller clusters.\n",
        "   - Continue splitting until each data point is in its own cluster or until a stopping criterion is met.\n",
        "\n",
        "### **Differences from Other Clustering Techniques**\n",
        "\n",
        "1. **vs. K-Means Clustering:**\n",
        "   - **Number of Clusters:** K-Means requires the number of clusters to be specified beforehand, while hierarchical clustering does not. The number of clusters can be determined by cutting the dendrogram at a chosen level.\n",
        "   - **Cluster Shape:** K-Means tends to form spherical clusters due to the use of centroids, whereas hierarchical clustering can form clusters of arbitrary shapes.\n",
        "   - **Complexity:** K-Means is generally faster and more scalable for large datasets compared to hierarchical clustering, which can be computationally expensive for large datasets.\n",
        "\n",
        "2. **vs. DBSCAN (Density-Based Spatial Clustering of Applications with Noise):**\n",
        "   - **Handling Noise:** DBSCAN is better at handling noise and outliers by designating points that do not belong to any cluster as noise. Hierarchical clustering does not explicitly handle noise.\n",
        "   - **Cluster Shape:** DBSCAN can find clusters of varying shapes and sizes, whereas hierarchical clustering’s effectiveness can depend on the chosen distance metric.\n",
        "   - **Scalability:** Like K-Means, DBSCAN is typically more scalable for large datasets compared to hierarchical clustering.\n",
        "\n",
        "### **When to Use Hierarchical Clustering**\n",
        "Hierarchical clustering is particularly useful when:\n",
        "- The number of clusters is unknown.\n",
        "- You want to understand the structure and relationships between data points.\n",
        "- The data is small to medium-sized due to the algorithm's higher computational complexity.\n",
        "\n",
        "### **Visual Representation**\n",
        "- The **dendrogram** is a key output of hierarchical clustering, allowing you to visually inspect and decide on the number of clusters by choosing a height to \"cut\" the tree."
      ],
      "metadata": {
        "id": "IbActNy1fLC2"
      }
    },
    {
      "cell_type": "markdown",
      "source": [
        "Q2. What are the two main types of hierarchical clustering algorithms? Describe each in brief."
      ],
      "metadata": {
        "id": "sqlfcFoGTEkk"
      }
    },
    {
      "cell_type": "markdown",
      "source": [
        "The two main types of hierarchical clustering algorithms are **Agglomerative Hierarchical Clustering** and **Divisive Hierarchical Clustering**. Here’s a brief description of each:\n",
        "\n",
        "### 1. Agglomerative Hierarchical Clustering\n",
        "- **Bottom-Up Approach**: This method starts with each data point as its own individual cluster.\n",
        "- **Merging Process**: At each step, the two closest clusters are merged together based on a specified linkage criterion (such as single linkage, complete linkage, or average linkage).\n",
        "- **Termination**: This process continues until all data points are merged into a single cluster or a predefined number of clusters is reached.\n",
        "- **Dendrogram**: The output of the agglomerative method is often represented as a dendrogram, a tree-like diagram that shows the order and distances at which clusters were merged.\n",
        "\n",
        "### 2. Divisive Hierarchical Clustering\n",
        "- **Top-Down Approach**: This method begins with all data points in a single cluster.\n",
        "- **Splitting Process**: At each step, the cluster is split into two sub-clusters, usually based on some criterion to maximize the distance between the resulting clusters or minimize within-cluster variance.\n",
        "- **Termination**: This process continues recursively, splitting clusters until each data point is its own cluster or a desired number of clusters is achieved.\n",
        "- **Dendrogram**: Like the agglomerative method, divisive clustering can also be represented by a dendrogram, but it starts from the top with a single root and splits downward.\n",
        "\n",
        "Overall, agglomerative clustering is more commonly used because it is computationally less expensive, especially for large datasets, while divisive clustering is conceptually simpler but computationally intensive."
      ],
      "metadata": {
        "id": "KXClJ4LdTIuZ"
      }
    },
    {
      "cell_type": "markdown",
      "source": [
        "Q3. How do you determine the distance between two clusters in hierarchical clustering, and what are the\n",
        "common distance metrics used?"
      ],
      "metadata": {
        "id": "qzwps1rfT1ZD"
      }
    },
    {
      "cell_type": "markdown",
      "source": [
        "In hierarchical clustering, the distance between two clusters is determined based on the chosen linkage criterion, which defines how the distance between clusters is measured. The linkage criterion specifies how the distance between clusters should be calculated as they are merged step-by-step until all data points are clustered into a single group.\n",
        "\n",
        "### Common Linkage Criteria\n",
        "\n",
        "1. **Single Linkage (Nearest Neighbor):** The distance between two clusters is defined as the shortest distance between any two points in the two clusters. Mathematically, for clusters \\(A\\) and \\(B\\):\n",
        "   \\[\n",
        "   d_{\\text{single}}(A, B) = \\min \\{d(x_i, x_j) : x_i \\in A, x_j \\in B\\}\n",
        "   \\]\n",
        "   - **Pros:** Good for capturing elongated or irregular shapes.\n",
        "   - **Cons:** Can be sensitive to noise and outliers, leading to the \"chaining\" effect where clusters may become overly extended.\n",
        "\n",
        "2. **Complete Linkage (Furthest Neighbor):** The distance between two clusters is defined as the maximum distance between any two points in the two clusters. Mathematically:\n",
        "   \\[\n",
        "   d_{\\text{complete}}(A, B) = \\max \\{d(x_i, x_j) : x_i \\in A, x_j \\in B\\}\n",
        "   \\]\n",
        "   - **Pros:** Tends to create more compact and spherical clusters.\n",
        "   - **Cons:** Can be overly conservative, merging clusters only when all points are close to each other.\n",
        "\n",
        "3. **Average Linkage (UPGMA - Unweighted Pair Group Method with Arithmetic Mean):** The distance between two clusters is defined as the average distance between all pairs of points from the two clusters. Mathematically:\n",
        "   \\[\n",
        "   d_{\\text{average}}(A, B) = \\frac{1}{|A| |B|} \\sum_{x_i \\in A} \\sum_{x_j \\in B} d(x_i, x_j)\n",
        "   \\]\n",
        "   - **Pros:** Balances between single and complete linkage.\n",
        "   - **Cons:** Computationally more expensive due to the averaging of all distances.\n",
        "\n",
        "4. **Centroid Linkage:** The distance between two clusters is defined as the distance between their centroids (mean points). Mathematically:\n",
        "   \\[\n",
        "   d_{\\text{centroid}}(A, B) = d(\\text{centroid}(A), \\text{centroid}(B))\n",
        "   \\]\n",
        "   - **Pros:** Takes the overall distribution of points into account.\n",
        "   - **Cons:** May lead to problems when merging clusters (e.g., can lead to a decrease in the overall distance measure, known as inversions).\n",
        "\n",
        "5. **Ward’s Linkage:** This method minimizes the total within-cluster variance. At each step, it merges the two clusters that result in the smallest increase in total within-cluster variance. Mathematically:\n",
        "   \\[\n",
        "   d_{\\text{Ward}}(A, B) = \\sum_{x \\in A \\cup B} \\left( x - \\text{centroid}(A \\cup B) \\right)^2 - \\sum_{x \\in A} \\left( x - \\text{centroid}(A) \\right)^2 - \\sum_{x \\in B} \\left( x - \\text{centroid}(B) \\right)^2\n",
        "   \\]\n",
        "   - **Pros:** Produces clusters of roughly equal size and is effective at minimizing variance.\n",
        "   - **Cons:** Computationally intensive and sensitive to outliers.\n",
        "\n",
        "### Common Distance Metrics\n",
        "\n",
        "The choice of distance metric is crucial and often depends on the nature of the data:\n",
        "\n",
        "1. **Euclidean Distance:**\n",
        "   \\[\n",
        "   d(x_i, x_j) = \\sqrt{\\sum_{k=1}^n (x_{ik} - x_{jk})^2}\n",
        "   \\]\n",
        "   - Most common and assumes clusters are spherical.\n",
        "   - Suitable for continuous variables.\n",
        "\n",
        "2. **Manhattan Distance (City Block or L1 Norm):**\n",
        "   \\[\n",
        "   d(x_i, x_j) = \\sum_{k=1}^n |x_{ik} - x_{jk}|\n",
        "   \\]\n",
        "   - Useful when differences are more important than actual magnitude.\n",
        "\n",
        "3. **Cosine Similarity (for Cosine Distance):**\n",
        "   \\[\n",
        "   d_{\\text{cosine}}(x_i, x_j) = 1 - \\frac{x_i \\cdot x_j}{\\|x_i\\| \\|x_j\\|}\n",
        "   \\]\n",
        "   - Useful for text or high-dimensional data where the magnitude of vectors is less relevant than their direction.\n",
        "\n",
        "4. **Minkowski Distance:** Generalization of Euclidean and Manhattan distances.\n",
        "   \\[\n",
        "   d(x_i, x_j) = \\left( \\sum_{k=1}^n |x_{ik} - x_{jk}|^p \\right)^{1/p}\n",
        "   \\]\n",
        "   - For \\(p=1\\), it's the Manhattan distance, and for \\(p=2\\), it's the Euclidean distance.\n",
        "\n",
        "5. **Mahalanobis Distance:** Takes into account the correlations of the data set and is scale-invariant.\n",
        "   \\[\n",
        "   d(x_i, x_j) = \\sqrt{(x_i - x_j)^T S^{-1} (x_i - x_j)}\n",
        "   \\]\n",
        "   - Useful for data with correlated features or different scales.\n",
        "\n",
        "### Summary\n",
        "\n",
        "The distance between two clusters in hierarchical clustering is determined by the linkage criterion, and the common distance metrics include Euclidean, Manhattan, Cosine, Minkowski, and Mahalanobis distances. The choice of linkage and distance metric depends on the specific characteristics of the data and the clustering goals."
      ],
      "metadata": {
        "id": "cFH5Ss2_UEIX"
      }
    },
    {
      "cell_type": "markdown",
      "source": [
        "Q4. How do you determine the optimal number of clusters in hierarchical clustering, and what are some\n",
        "common methods used for this purpose?"
      ],
      "metadata": {
        "id": "LeJyXa-6UnRu"
      }
    },
    {
      "cell_type": "markdown",
      "source": [
        "To determine the optimal number of clusters in hierarchical clustering, several methods are commonly used. These methods help identify the number of clusters that best represent the underlying structure of the data. Here are some common approaches:\n",
        "\n",
        "### 1. **Dendrogram Analysis**\n",
        "   - **Description**: A dendrogram is a tree-like diagram that records the sequences of merges or splits. By analyzing the dendrogram, one can visually inspect the level at which clusters should be cut. The idea is to look for the largest vertical distance between successive horizontal lines in the dendrogram (which represents a significant jump in the distance or dissimilarity measure). The optimal number of clusters corresponds to the number of vertical lines that intersect the horizontal line at the selected height.\n",
        "   - **How to Use**:\n",
        "     1. Perform hierarchical clustering on the dataset.\n",
        "     2. Plot the dendrogram.\n",
        "     3. Observe the longest vertical distance without any horizontal cut (largest gap).\n",
        "     4. Draw a horizontal line across the dendrogram where the largest vertical gap exists.\n",
        "     5. The number of clusters is determined by the number of lines intersected by the horizontal cut.\n",
        "\n",
        "### 2. **Elbow Method**\n",
        "   - **Description**: The elbow method is typically used to find the optimal number of clusters by looking at the percentage of variance explained as a function of the number of clusters. The optimal number is determined at the \"elbow\" point, where adding more clusters yields diminishing returns on reducing the within-cluster variance.\n",
        "   - **How to Use**:\n",
        "     1. Compute hierarchical clustering for a range of cluster numbers.\n",
        "     2. Calculate the within-cluster sum of squares (WCSS) or some other clustering performance metric for each number of clusters.\n",
        "     3. Plot the WCSS against the number of clusters.\n",
        "     4. Identify the \"elbow\" point where the rate of decrease sharply slows down.\n",
        "     5. The number at the elbow is considered the optimal number of clusters.\n",
        "\n",
        "### 3. **Silhouette Analysis**\n",
        "   - **Description**: Silhouette analysis measures how similar an object is to its own cluster (cohesion) compared to other clusters (separation). The silhouette score ranges from -1 to 1, where a higher value indicates that the object is well-matched to its own cluster and poorly matched to neighboring clusters.\n",
        "   - **How to Use**:\n",
        "     1. Perform hierarchical clustering for a range of cluster numbers.\n",
        "     2. Calculate the silhouette coefficient for each number of clusters.\n",
        "     3. Plot the average silhouette score for each number of clusters.\n",
        "     4. Choose the number of clusters that has the highest average silhouette score.\n",
        "\n",
        "### 4. **Gap Statistic**\n",
        "   - **Description**: The gap statistic compares the total within intra-cluster variation for different numbers of clusters with their expected values under null reference distribution of the data. The optimal number of clusters is where the gap statistic is the largest.\n",
        "   - **How to Use**:\n",
        "     1. For each number of clusters, compute the total within-cluster variance.\n",
        "     2. Generate a reference dataset using a Monte Carlo simulation.\n",
        "     3. Compute the gap statistic for each number of clusters by comparing the log of within-cluster dispersion of the data with the expected dispersion under null distribution.\n",
        "     4. Plot the gap statistic against the number of clusters.\n",
        "     5. The optimal number of clusters is the point where the gap statistic reaches its maximum.\n",
        "\n",
        "### 5. **Inconsistency Method**\n",
        "   - **Description**: The inconsistency method evaluates the dissimilarities or distances between merged clusters and compares them to the average dissimilarities of other clusters at the same level. It identifies merges that combine dissimilar clusters based on a threshold.\n",
        "   - **How to Use**:\n",
        "     1. Calculate the inconsistency coefficient for each merge in the dendrogram.\n",
        "     2. Set a threshold for inconsistency (based on domain knowledge or by experimenting).\n",
        "     3. The optimal number of clusters is the number at which merging clusters becomes inconsistent beyond the threshold.\n",
        "\n",
        "### Summary\n",
        "The optimal number of clusters in hierarchical clustering is not always straightforward and may require a combination of methods and domain knowledge. The methods listed provide different perspectives and can be used together to validate findings. For example, using a dendrogram to visually inspect the clusters, the silhouette score to measure cohesion and separation, and the gap statistic to assess the clustering robustness under null distribution can provide a comprehensive view of the clustering structure."
      ],
      "metadata": {
        "id": "q36BMbMfUrow"
      }
    },
    {
      "cell_type": "markdown",
      "source": [
        "### write a program to determine the optimal number of cluster in hierarchical cluster\n",
        "\n",
        "To determine the optimal number of clusters in hierarchical clustering, you can use several methods. One common approach is to use the dendrogram to visually inspect where the largest distance between clusters occurs. Another approach is to calculate the Cophenetic Correlation Coefficient to evaluate the consistency of clusters formed. Additionally, you can use Silhouette Scores to determine the optimal number of clusters by measuring how similar an object is to its own cluster compared to other clusters.\n",
        "\n",
        "\n",
        "\n",
        "Here is a Python program that uses the dendrogram method and Silhouette Scores to determine the optimal number of clusters in hierarchical clustering:\n",
        "\n"
      ],
      "metadata": {
        "id": "qU0ALPlwXs9o"
      }
    },
    {
      "cell_type": "code",
      "source": [
        "import numpy as np\n",
        "import pandas as pd\n",
        "from sklearn.datasets import load_iris\n",
        "from scipy.cluster.hierarchy import dendrogram, linkage, fcluster\n",
        "from sklearn.metrics import silhouette_score\n",
        "import matplotlib.pyplot as plt\n"
      ],
      "metadata": {
        "id": "E3KC8VA8Xt2W"
      },
      "execution_count": 1,
      "outputs": []
    },
    {
      "cell_type": "code",
      "source": [
        "# Load the Iris dataset\n",
        "iris = load_iris()\n",
        "X = iris.data\n"
      ],
      "metadata": {
        "id": "_Bw03QpSYvTQ"
      },
      "execution_count": 2,
      "outputs": []
    },
    {
      "cell_type": "code",
      "source": [
        "# Step 1: Hierarchical Clustering using Ward's method\n",
        "Z = linkage(X, method='ward')\n"
      ],
      "metadata": {
        "id": "qxpokNSDYvUk"
      },
      "execution_count": 3,
      "outputs": []
    },
    {
      "cell_type": "code",
      "source": [
        "# Step 2: Dendrogram to visually inspect the number of clusters\n",
        "plt.figure(figsize=(10, 7))\n",
        "plt.title('Dendrogram for Iris Dataset')\n",
        "plt.xlabel('Samples')\n",
        "plt.ylabel('Distance')\n",
        "dendrogram(Z)\n",
        "plt.axhline(y=7.0, color='r', linestyle='--')  # Example threshold line, adjust based on the dendrogram\n",
        "plt.show()"
      ],
      "metadata": {
        "colab": {
          "base_uri": "https://localhost:8080/",
          "height": 641
        },
        "id": "HkQpdJINYvVk",
        "outputId": "1f04836d-055a-4e72-f0ed-b5515817e8bd"
      },
      "execution_count": 4,
      "outputs": [
        {
          "output_type": "display_data",
          "data": {
            "text/plain": [
              "<Figure size 1000x700 with 1 Axes>"
            ],
            "image/png": "[encoded data removed]"
          },
          "metadata": {}
        }
      ]
    },
    {
      "cell_type": "code",
      "source": [
        "# Step 3: Silhouette Analysis to determine the optimal number of clusters\n",
        "silhouette_scores = []\n",
        "cluster_range = range(2, 10)  # Evaluate clusters from 2 to 10\n",
        "\n",
        "for n_clusters in cluster_range:\n",
        "     cluster_labels = fcluster(Z, n_clusters, criterion='maxclust')\n",
        "     silhouette_avg = silhouette_score(X, cluster_labels)\n",
        "     silhouette_scores.append(silhouette_avg)\n",
        "     print(f\"Number of Clusters: {n_clusters}, Silhouette Score: {silhouette_avg:.4f}\")\n"
      ],
      "metadata": {
        "colab": {
          "base_uri": "https://localhost:8080/"
        },
        "id": "YaqPO61SYvfX",
        "outputId": "438d3fec-4482-4c03-bb13-1e5dd1f45fde"
      },
      "execution_count": 5,
      "outputs": [
        {
          "output_type": "stream",
          "name": "stdout",
          "text": [
            "Number of Clusters: 2, Silhouette Score: 0.6867\n",
            "Number of Clusters: 3, Silhouette Score: 0.5543\n",
            "Number of Clusters: 4, Silhouette Score: 0.4890\n",
            "Number of Clusters: 5, Silhouette Score: 0.4844\n",
            "Number of Clusters: 6, Silhouette Score: 0.3592\n",
            "Number of Clusters: 7, Silhouette Score: 0.3422\n",
            "Number of Clusters: 8, Silhouette Score: 0.3436\n",
            "Number of Clusters: 9, Silhouette Score: 0.3305\n"
          ]
        }
      ]
    },
    {
      "cell_type": "code",
      "source": [
        "# Step 4: Plotting Silhouette Scores\n",
        "plt.figure(figsize=(8, 5))\n",
        "plt.plot(cluster_range, silhouette_scores, marker='o')\n",
        "plt.title('Silhouette Scores for Different Number of Clusters (Iris Dataset)')\n",
        "plt.xlabel('Number of Clusters')\n",
        "plt.ylabel('Silhouette Score')\n",
        "plt.grid(True)\n",
        "plt.show()\n"
      ],
      "metadata": {
        "colab": {
          "base_uri": "https://localhost:8080/",
          "height": 487
        },
        "id": "cDCUXM8PYvoI",
        "outputId": "8aaba92f-3ac7-44cd-d15c-24468ef6e0ff"
      },
      "execution_count": 6,
      "outputs": [
        {
          "output_type": "display_data",
          "data": {
            "text/plain": [
              "<Figure size 800x500 with 1 Axes>"
            ],
            "image/png": "[encoded data removed]"
          },
          "metadata": {}
        }
      ]
    },
    {
      "cell_type": "code",
      "source": [
        "\n",
        "# Step 5: Finding the optimal number of clusters\n",
        "optimal_clusters = cluster_range[np.argmax(silhouette_scores)]\n",
        "print(f'The optimal number of clusters is: {optimal_clusters}')\n"
      ],
      "metadata": {
        "colab": {
          "base_uri": "https://localhost:8080/"
        },
        "id": "fq3-h6EcYvpL",
        "outputId": "af76a478-f82b-4aa5-f697-458eea9fb361"
      },
      "execution_count": 7,
      "outputs": [
        {
          "output_type": "stream",
          "name": "stdout",
          "text": [
            "The optimal number of clusters is: 2\n"
          ]
        }
      ]
    },
    {
      "cell_type": "markdown",
      "source": [
        "Let's use the Wine dataset, another well-known dataset in machine learning. The Wine dataset consists of 13 features derived from chemical analysis of wines grown in the same region in Italy but derived from three different cultivars.\n",
        "\n",
        "\n",
        "We'll perform hierarchical clustering on the Wine dataset and determine the optimal number of clusters using a dendrogram and silhouette analysis.\n",
        "\n",
        "\n"
      ],
      "metadata": {
        "id": "brspb11vZ3N8"
      }
    },
    {
      "cell_type": "code",
      "source": [
        "import numpy as np\n",
        "import pandas as pd\n",
        "from sklearn.datasets import load_wine\n",
        "from scipy.cluster.hierarchy import dendrogram, linkage, fcluster\n",
        "from sklearn.metrics import silhouette_score\n",
        "import matplotlib.pyplot as plt"
      ],
      "metadata": {
        "id": "P95XgcgSYvqO"
      },
      "execution_count": 8,
      "outputs": []
    },
    {
      "cell_type": "code",
      "source": [
        "# Load the Wine dataset\n",
        "wine = load_wine()\n",
        "X = wine.data"
      ],
      "metadata": {
        "id": "Mfgo2DvqYvrV"
      },
      "execution_count": 9,
      "outputs": []
    },
    {
      "cell_type": "code",
      "source": [
        "# Step 1: Hierarchical Clustering using Ward's method\n",
        "Z = linkage(X, method='ward')"
      ],
      "metadata": {
        "id": "JmTsnbbNYvsw"
      },
      "execution_count": 10,
      "outputs": []
    },
    {
      "cell_type": "code",
      "source": [
        "# Step 2: Dendrogram to visually inspect the number of clusters\n",
        "plt.figure(figsize=(10, 7))\n",
        "plt.title('Dendrogram for Wine Dataset')\n",
        "plt.xlabel('Samples')\n",
        "plt.ylabel('Distance')\n",
        "dendrogram(Z)\n",
        "plt.axhline(y=500, color='r', linestyle='--')  # Example threshold line, adjust based on the dendrogram\n",
        "plt.show()"
      ],
      "metadata": {
        "colab": {
          "base_uri": "https://localhost:8080/",
          "height": 641
        },
        "id": "7zmzxVWvYv3G",
        "outputId": "11b927b7-7d7d-42e4-89f0-e62722b031e4"
      },
      "execution_count": 11,
      "outputs": [
        {
          "output_type": "display_data",
          "data": {
            "text/plain": [
              "<Figure size 1000x700 with 1 Axes>"
            ],
            "image/png": "[encoded data removed]"
          },
          "metadata": {}
        }
      ]
    },
    {
      "cell_type": "code",
      "source": [
        "# Step 3: Silhouette Analysis to determine the optimal number of clusters\n",
        "silhouette_scores = []\n",
        "cluster_range = range(2, 10)  # Evaluate clusters from 2 to 10\n",
        "\n",
        "for n_clusters in cluster_range:\n",
        "    cluster_labels = fcluster(Z, n_clusters, criterion='maxclust')\n",
        "    silhouette_avg = silhouette_score(X, cluster_labels)\n",
        "    silhouette_scores.append(silhouette_avg)\n",
        "    print(f\"Number of Clusters: {n_clusters}, Silhouette Score: {silhouette_avg:.4f}\")"
      ],
      "metadata": {
        "colab": {
          "base_uri": "https://localhost:8080/"
        },
        "id": "x5S0ktfyYv4L",
        "outputId": "9dab2044-50dc-40ad-bb8d-27209a2556d2"
      },
      "execution_count": 12,
      "outputs": [
        {
          "output_type": "stream",
          "name": "stdout",
          "text": [
            "Number of Clusters: 2, Silhouette Score: 0.6587\n",
            "Number of Clusters: 3, Silhouette Score: 0.5645\n",
            "Number of Clusters: 4, Silhouette Score: 0.5607\n",
            "Number of Clusters: 5, Silhouette Score: 0.5075\n",
            "Number of Clusters: 6, Silhouette Score: 0.5271\n",
            "Number of Clusters: 7, Silhouette Score: 0.5369\n",
            "Number of Clusters: 8, Silhouette Score: 0.5299\n",
            "Number of Clusters: 9, Silhouette Score: 0.5307\n"
          ]
        }
      ]
    },
    {
      "cell_type": "code",
      "source": [
        "# Step 4: Plotting Silhouette Scores\n",
        "plt.figure(figsize=(8, 5))\n",
        "plt.plot(cluster_range, silhouette_scores, marker='o')\n",
        "plt.title('Silhouette Scores for Different Number of Clusters (Wine Dataset)')\n",
        "plt.xlabel('Number of Clusters')\n",
        "plt.ylabel('Silhouette Score')\n",
        "plt.grid(True)\n",
        "plt.show()"
      ],
      "metadata": {
        "colab": {
          "base_uri": "https://localhost:8080/",
          "height": 487
        },
        "id": "GPS8YeLZaPpX",
        "outputId": "c5d7e4b5-6437-46db-fa24-9c1674e6e1e7"
      },
      "execution_count": 13,
      "outputs": [
        {
          "output_type": "display_data",
          "data": {
            "text/plain": [
              "<Figure size 800x500 with 1 Axes>"
            ],
            "image/png": "[encoded data removed]"
          },
          "metadata": {}
        }
      ]
    },
    {
      "cell_type": "code",
      "source": [
        "# Step 5: Finding the optimal number of clusters\n",
        "optimal_clusters = cluster_range[np.argmax(silhouette_scores)]\n",
        "print(f'The optimal number of clusters is: {optimal_clusters}')"
      ],
      "metadata": {
        "colab": {
          "base_uri": "https://localhost:8080/"
        },
        "id": "CnDKfHwZaPtg",
        "outputId": "b39e5466-7649-42c0-c4e1-751b599293ef"
      },
      "execution_count": 14,
      "outputs": [
        {
          "output_type": "stream",
          "name": "stdout",
          "text": [
            "The optimal number of clusters is: 2\n"
          ]
        }
      ]
    },
    {
      "cell_type": "markdown",
      "source": [
        "Q5. What are dendrograms in hierarchical clustering, and how are they useful in analyzing the results?"
      ],
      "metadata": {
        "id": "nQqSudQzVXxI"
      }
    },
    {
      "cell_type": "markdown",
      "source": [
        "A **dendrogram** is a tree-like diagram that is used to visualize the results of hierarchical clustering, which is a method of cluster analysis that seeks to build a hierarchy of clusters. The dendrogram represents the nested grouping of the data points and the order in which clusters are merged or split.\n",
        "\n",
        "### Key Features of a Dendrogram:\n",
        "\n",
        "1. **Vertical or Horizontal Structure**: A dendrogram can be drawn either vertically or horizontally, depending on the orientation you prefer. The points at the bottom (or side) of the dendrogram represent individual data points or objects.\n",
        "\n",
        "2. **Branches**: The lines connecting the data points represent clusters being merged. As you move up (or across) the dendrogram, clusters are combined at different levels. The point where two branches meet represents the merging of two clusters.\n",
        "\n",
        "3. **Height**: The height of the branches (y-axis in a vertical dendrogram) represents the distance or dissimilarity between clusters when they are merged. The greater the height of a merge point, the more dissimilar the clusters being merged are.\n",
        "\n",
        "### How Dendrograms are Useful in Analyzing Hierarchical Clustering Results:\n",
        "\n",
        "1. **Visualizing Cluster Formation**: A dendrogram provides a visual summary of the clustering process. It shows how individual data points are initially grouped into small clusters, which are then merged into larger clusters, and so on. This visualization helps to understand the structure of the data and the relationships between different clusters.\n",
        "\n",
        "2. **Determining the Number of Clusters**: By examining the dendrogram, you can decide the optimal number of clusters to retain. This is often done by drawing a horizontal line across the dendrogram. The number of vertical lines intersected by this horizontal line represents the number of clusters. The height of the horizontal line is chosen based on the level of dissimilarity that is acceptable.\n",
        "\n",
        "3. **Interpreting the Clustering Process**: The dendrogram shows the sequence in which clusters were merged and the distances at which merges occurred. This can provide insights into the relative similarities between different data points or clusters. Clusters that merge at lower heights (closer to the bottom of the dendrogram) are more similar to each other than those that merge at higher heights.\n",
        "\n",
        "4. **Identifying Outliers**: In a dendrogram, outliers may appear as individual branches that do not merge with other clusters until the very top of the dendrogram (i.e., they remain separate for a long time). This can help in detecting anomalies or outliers in the dataset.\n",
        "\n",
        "5. **Comparing Clustering Solutions**: Dendrograms can be used to compare different hierarchical clustering solutions by visualizing how the structure of the clusters changes with different distance metrics (e.g., Euclidean, Manhattan) or linkage criteria (e.g., single linkage, complete linkage, average linkage).\n",
        "\n",
        "### Example of Using a Dendrogram:\n",
        "\n",
        "Suppose you have a dataset of customer purchasing behavior and you want to perform hierarchical clustering to identify different customer segments. By constructing a dendrogram, you can visualize how customers are grouped based on their purchasing patterns. The dendrogram may reveal natural clusters of customers who have similar buying habits, which could be useful for targeted marketing strategies or personalized recommendations.\n",
        "\n",
        "Overall, dendrograms are a powerful tool for understanding the underlying structure of data and making informed decisions about the number of clusters in hierarchical clustering."
      ],
      "metadata": {
        "id": "ae7qhLHTVcJ4"
      }
    },
    {
      "cell_type": "markdown",
      "source": [
        "Q6. Can hierarchical clustering be used for both numerical and categorical data? If yes, how are the\n",
        "distance metrics different for each type of data?"
      ],
      "metadata": {
        "id": "ok0oOAlPV4Fn"
      }
    },
    {
      "cell_type": "markdown",
      "source": [
        "Yes, hierarchical clustering can be used for both numerical and categorical data. However, the choice of distance metrics differs for each type of data, as they require different approaches to measure similarity or dissimilarity.\n",
        "\n",
        "### 1. **Hierarchical Clustering with Numerical Data:**\n",
        "\n",
        "For numerical data, distance metrics are based on calculating the difference between numerical values. Some common distance metrics used for numerical data include:\n",
        "\n",
        "- **Euclidean Distance:** Measures the straight-line distance between two points in Euclidean space. It's the most common metric for numerical data.\n",
        "\n",
        "  \\[\n",
        "  \\text{Euclidean distance} = \\sqrt{\\sum_{i=1}^{n} (x_i - y_i)^2}\n",
        "  \\]\n",
        "\n",
        "- **Manhattan Distance (L1 norm):** Measures the sum of absolute differences between the coordinates of two points.\n",
        "\n",
        "  \\[\n",
        "  \\text{Manhattan distance} = \\sum_{i=1}^{n} |x_i - y_i|\n",
        "  \\]\n",
        "\n",
        "- **Minkowski Distance:** A generalization of both Euclidean and Manhattan distances, controlled by a parameter \\(p\\).\n",
        "\n",
        "  \\[\n",
        "  \\text{Minkowski distance} = \\left( \\sum_{i=1}^{n} |x_i - y_i|^p \\right)^{1/p}\n",
        "  \\]\n",
        "\n",
        "- **Cosine Similarity:** Measures the cosine of the angle between two vectors, often used when the magnitude of the vectors is less important than their direction.\n",
        "\n",
        "  \\[\n",
        "  \\text{Cosine similarity} = \\frac{\\sum_{i=1}^{n} x_i y_i}{\\sqrt{\\sum_{i=1}^{n} x_i^2} \\sqrt{\\sum_{i=1}^{n} y_i^2}}\n",
        "  \\]\n",
        "\n",
        "### 2. **Hierarchical Clustering with Categorical Data:**\n",
        "\n",
        "For categorical data, distance metrics must handle non-numerical values. The following metrics are commonly used:\n",
        "\n",
        "- **Hamming Distance:** Measures the number of positions at which two categorical vectors differ. It is suitable for binary or categorical data.\n",
        "\n",
        "  \\[\n",
        "  \\text{Hamming distance} = \\frac{\\sum_{i=1}^{n} (x_i \\neq y_i)}{n}\n",
        "  \\]\n",
        "\n",
        "- **Jaccard Similarity (or Distance):** Measures the similarity between two sets based on the ratio of the intersection to the union of the sets. It is useful for binary and categorical data.\n",
        "\n",
        "  \\[\n",
        "  \\text{Jaccard similarity} = \\frac{|X \\cap Y|}{|X \\cup Y|}, \\quad \\text{Jaccard distance} = 1 - \\text{Jaccard similarity}\n",
        "  \\]\n",
        "\n",
        "- **Gower Distance:** A metric that can handle both numerical and categorical data. It is a composite measure that calculates distance differently for each type of attribute (numerical or categorical) and then combines them into a single distance measure.\n",
        "\n",
        "  \\[\n",
        "  \\text{Gower distance} = \\frac{1}{n} \\sum_{i=1}^{n} d_i(x, y)\n",
        "  \\]\n",
        "\n",
        "  where \\(d_i(x, y)\\) is the normalized distance for the \\(i\\)-th feature, handled differently for numerical and categorical data.\n",
        "\n",
        "### 3. **Combining Numerical and Categorical Data:**\n",
        "\n",
        "When the dataset contains both numerical and categorical data, a combination of these metrics can be used. The most common approach is to use the **Gower Distance**, which computes a weighted average of distances calculated separately on numerical and categorical features.\n",
        "\n",
        "In summary, hierarchical clustering can be applied to both numerical and categorical data, but the distance metric chosen must be appropriate for the data type to correctly measure the similarity or dissimilarity between data points."
      ],
      "metadata": {
        "id": "nNUc_WVFV7cz"
      }
    },
    {
      "cell_type": "markdown",
      "source": [
        "## write a programm to handle hierarchical clustering of categorical data\n",
        "\n",
        "Hierarchical clustering is commonly used for numerical data, but it can also be applied to categorical data using appropriate distance measures. For categorical data, a common distance measure is the Hamming distance (which counts the number of mismatches between categorical attributes).\n",
        "\n"
      ],
      "metadata": {
        "id": "pq5StPVabPSu"
      }
    },
    {
      "cell_type": "code",
      "source": [
        "import pandas as pd\n",
        "import numpy as np\n",
        "from sklearn.preprocessing import OrdinalEncoder\n",
        "from scipy.cluster.hierarchy import linkage, dendrogram\n",
        "import matplotlib.pyplot as plt\n",
        "from scipy.spatial.distance import pdist\n"
      ],
      "metadata": {
        "id": "oNWTkXTUbWt8"
      },
      "execution_count": 15,
      "outputs": []
    },
    {
      "cell_type": "code",
      "source": [
        "# Sample categorical dataset\n",
        "data = {\n",
        "    'Color': ['Red', 'Blue', 'Green', 'Blue', 'Red', 'Green'],\n",
        "    'Size': ['S', 'M', 'L', 'M', 'S', 'L'],\n",
        "    'Shape': ['Circle', 'Square', 'Triangle', 'Square', 'Circle', 'Triangle']\n",
        "}\n",
        "\n",
        "df = pd.DataFrame(data)"
      ],
      "metadata": {
        "id": "bPJSu4MjbWvS"
      },
      "execution_count": 16,
      "outputs": []
    },
    {
      "cell_type": "code",
      "source": [
        "# Encode categorical features into numerical values\n",
        "encoder = OrdinalEncoder()\n",
        "encoded_data = encoder.fit_transform(df)\n"
      ],
      "metadata": {
        "id": "yESQKVqObWwZ"
      },
      "execution_count": 17,
      "outputs": []
    },
    {
      "cell_type": "code",
      "source": [
        "# Calculate the Hamming distance matrix\n",
        "distance_matrix = pdist(encoded_data, metric='hamming')\n"
      ],
      "metadata": {
        "id": "9ELvNIUfbnVB"
      },
      "execution_count": 18,
      "outputs": []
    },
    {
      "cell_type": "code",
      "source": [
        "# Perform hierarchical clustering using the 'average' linkage method\n",
        "Z = linkage(distance_matrix, method='average')\n"
      ],
      "metadata": {
        "id": "KMp5gU0mbnWU"
      },
      "execution_count": 19,
      "outputs": []
    },
    {
      "cell_type": "code",
      "source": [
        "# Plot the dendrogram\n",
        "plt.figure(figsize=(10, 7))\n",
        "plt.title('Hierarchical Clustering Dendrogram')\n",
        "dendrogram(Z, labels=df.index)\n",
        "plt.xlabel('Index')\n",
        "plt.ylabel('Distance')\n",
        "plt.show()"
      ],
      "metadata": {
        "colab": {
          "base_uri": "https://localhost:8080/",
          "height": 645
        },
        "id": "zm9i_p0abnXb",
        "outputId": "b5649f3a-f28d-4b1f-b76c-2617544bdd91"
      },
      "execution_count": 20,
      "outputs": [
        {
          "output_type": "display_data",
          "data": {
            "text/plain": [
              "<Figure size 1000x700 with 1 Axes>"
            ],
            "image/png": "[encoded data removed]"
          },
          "metadata": {}
        }
      ]
    },
    {
      "cell_type": "code",
      "source": [],
      "metadata": {
        "id": "v3PGbr50bnZL"
      },
      "execution_count": null,
      "outputs": []
    },
    {
      "cell_type": "markdown",
      "source": [
        "Q7. How can you use hierarchical clustering to identify outliers or anomalies in your data?"
      ],
      "metadata": {
        "id": "GsavRpS0WlPn"
      }
    },
    {
      "cell_type": "markdown",
      "source": [
        "Certainly! Hierarchical clustering can be useful for identifying outliers or anomalies in your data. Here's how you can approach it:\n",
        "\n",
        "1. **Agglomerative Hierarchical Clustering**:\n",
        "   - Start by performing agglomerative hierarchical clustering on your dataset.\n",
        "   - You'll create a dendrogram that shows how data points are grouped together based on similarity.\n",
        "   - Outliers may appear as singletons (isolated data points) or as small clusters with very few members.\n",
        "\n",
        "2. **Height Threshold**:\n",
        "   - Set a height threshold on the dendrogram. This threshold determines the number of clusters you want to obtain.\n",
        "   - Data points that form small clusters below this threshold are potential outliers.\n",
        "\n",
        "3. **Distance Metrics**:\n",
        "   - Use appropriate distance metrics (such as Euclidean or Manhattan) to measure similarity between data points.\n",
        "   - Outliers may have unusually large distances from other points.\n",
        "\n",
        "4. **Inspect Cluster Sizes**:\n",
        "   - Check the sizes of the clusters formed by hierarchical clustering.\n",
        "   - Small clusters (with significantly fewer points than others) could contain outliers.\n",
        "\n",
        "5. **Visual Inspection**:\n",
        "   - Visualize the dendrogram and the resulting clusters.\n",
        "   - Look for branches with very few data points or isolated points.\n",
        "\n",
        "6. **Silhouette Score**:\n",
        "   - Calculate the silhouette score for each data point.\n",
        "   - Outliers tend to have low silhouette scores (indicating poor fit within their clusters).\n",
        "\n",
        "7. **Depth in the Dendrogram**:\n",
        "   - Outliers often appear at the periphery of the dendrogram (i.e., at higher levels).\n",
        "   - Look for data points that are merged late in the clustering process.\n",
        "\n",
        "Remember that hierarchical clustering is just one approach. You can also explore other techniques like DBSCAN, Isolation Forest, or Local Outlier Factor (LOF) for outlier detection. Each method has its own strengths and limitations, so choose based on your specific problem and dataset. 🚀"
      ],
      "metadata": {
        "id": "4zYm58xnWoeK"
      }
    },
    {
      "cell_type": "markdown",
      "source": [
        "## write a programm  where you  can use hierarchical clustering to identify outliers or anomalies in your data?\n",
        "\n",
        "\n",
        "To use hierarchical clustering to identify outliers or anomalies in a dataset, we'll use the \"Wholesale Customers\" dataset from the UCI Machine Learning Repository. This dataset contains information about different categories of product purchases by customers from a wholesale distributor.\n",
        "\n",
        "Dataset Description:\n",
        "\n",
        "* The dataset has 8 attributes: Fresh, Milk, Grocery, Frozen, Detergents_Paper, Delicassen, Channel, and Region.\n",
        "\n",
        "* We will use the Fresh, Milk, Grocery, Frozen, Detergents_Paper, and Delicassen attributes for clustering, as Channel and Region are categorical.\n"
      ],
      "metadata": {
        "id": "y6qoYCpkcSov"
      }
    },
    {
      "cell_type": "code",
      "source": [
        "# Step 1: Import necessary libraries\n",
        "import pandas as pd\n",
        "import numpy as np\n",
        "from scipy.cluster.hierarchy import dendrogram, linkage, fcluster\n",
        "import matplotlib.pyplot as plt\n",
        "from sklearn.preprocessing import StandardScaler\n"
      ],
      "metadata": {
        "id": "3QAyqZDOdENy"
      },
      "execution_count": 21,
      "outputs": []
    },
    {
      "cell_type": "code",
      "source": [
        "# Step 2: Load the dataset\n",
        "# The dataset can be found at UCI repository: https://archive.ics.uci.edu/ml/datasets/Wholesale+customers\n",
        "# You can download the dataset and load it as follows:\n",
        "url = \"https://archive.ics.uci.edu/ml/machine-learning-databases/00292/Wholesale%20customers%20data.csv\"\n",
        "data = pd.read_csv(url)"
      ],
      "metadata": {
        "id": "s5Y2IWrndEPe"
      },
      "execution_count": 22,
      "outputs": []
    },
    {
      "cell_type": "code",
      "source": [
        "data"
      ],
      "metadata": {
        "colab": {
          "base_uri": "https://localhost:8080/",
          "height": 423
        },
        "id": "66jL0TXOdEid",
        "outputId": "5f2b1523-9352-4bd2-b9fd-481443eddf3f"
      },
      "execution_count": 23,
      "outputs": [
        {
          "output_type": "execute_result",
          "data": {
            "text/plain": [
              "     Channel  Region  Fresh   Milk  Grocery  Frozen  Detergents_Paper  \\\n",
              "0          2       3  12669   9656     7561     214              2674   \n",
              "1          2       3   7057   9810     9568    1762              3293   \n",
              "2          2       3   6353   8808     7684    2405              3516   \n",
              "3          1       3  13265   1196     4221    6404               507   \n",
              "4          2       3  22615   5410     7198    3915              1777   \n",
              "..       ...     ...    ...    ...      ...     ...               ...   \n",
              "435        1       3  29703  12051    16027   13135               182   \n",
              "436        1       3  39228   1431      764    4510                93   \n",
              "437        2       3  14531  15488    30243     437             14841   \n",
              "438        1       3  10290   1981     2232    1038               168   \n",
              "439        1       3   2787   1698     2510      65               477   \n",
              "\n",
              "     Delicassen  \n",
              "0          1338  \n",
              "1          1776  \n",
              "2          7844  \n",
              "3          1788  \n",
              "4          5185  \n",
              "..          ...  \n",
              "435        2204  \n",
              "436        2346  \n",
              "437        1867  \n",
              "438        2125  \n",
              "439          52  \n",
              "\n",
              "[440 rows x 8 columns]"
            ],
            "text/html": [
              "\n",
              "  <div id=\"df-43d87306-f682-4daf-aeb2-390a92abaf16\" class=\"colab-df-container\">\n",
              "    <div>\n",
              "<style scoped>\n",
              "    .dataframe tbody tr th:only-of-type {\n",
              "        vertical-align: middle;\n",
              "    }\n",
              "\n",
              "    .dataframe tbody tr th {\n",
              "        vertical-align: top;\n",
              "    }\n",
              "\n",
              "    .dataframe thead th {\n",
              "        text-align: right;\n",
              "    }\n",
              "</style>\n",
              "<table border=\"1\" class=\"dataframe\">\n",
              "  <thead>\n",
              "    <tr style=\"text-align: right;\">\n",
              "      <th></th>\n",
              "      <th>Channel</th>\n",
              "      <th>Region</th>\n",
              "      <th>Fresh</th>\n",
              "      <th>Milk</th>\n",
              "      <th>Grocery</th>\n",
              "      <th>Frozen</th>\n",
              "      <th>Detergents_Paper</th>\n",
              "      <th>Delicassen</th>\n",
              "    </tr>\n",
              "  </thead>\n",
              "  <tbody>\n",
              "    <tr>\n",
              "      <th>0</th>\n",
              "      <td>2</td>\n",
              "      <td>3</td>\n",
              "      <td>12669</td>\n",
              "      <td>9656</td>\n",
              "      <td>7561</td>\n",
              "      <td>214</td>\n",
              "      <td>2674</td>\n",
              "      <td>1338</td>\n",
              "    </tr>\n",
              "    <tr>\n",
              "      <th>1</th>\n",
              "      <td>2</td>\n",
              "      <td>3</td>\n",
              "      <td>7057</td>\n",
              "      <td>9810</td>\n",
              "      <td>9568</td>\n",
              "      <td>1762</td>\n",
              "      <td>3293</td>\n",
              "      <td>1776</td>\n",
              "    </tr>\n",
              "    <tr>\n",
              "      <th>2</th>\n",
              "      <td>2</td>\n",
              "      <td>3</td>\n",
              "      <td>6353</td>\n",
              "      <td>8808</td>\n",
              "      <td>7684</td>\n",
              "      <td>2405</td>\n",
              "      <td>3516</td>\n",
              "      <td>7844</td>\n",
              "    </tr>\n",
              "    <tr>\n",
              "      <th>3</th>\n",
              "      <td>1</td>\n",
              "      <td>3</td>\n",
              "      <td>13265</td>\n",
              "      <td>1196</td>\n",
              "      <td>4221</td>\n",
              "      <td>6404</td>\n",
              "      <td>507</td>\n",
              "      <td>1788</td>\n",
              "    </tr>\n",
              "    <tr>\n",
              "      <th>4</th>\n",
              "      <td>2</td>\n",
              "      <td>3</td>\n",
              "      <td>22615</td>\n",
              "      <td>5410</td>\n",
              "      <td>7198</td>\n",
              "      <td>3915</td>\n",
              "      <td>1777</td>\n",
              "      <td>5185</td>\n",
              "    </tr>\n",
              "    <tr>\n",
              "      <th>...</th>\n",
              "      <td>...</td>\n",
              "      <td>...</td>\n",
              "      <td>...</td>\n",
              "      <td>...</td>\n",
              "      <td>...</td>\n",
              "      <td>...</td>\n",
              "      <td>...</td>\n",
              "      <td>...</td>\n",
              "    </tr>\n",
              "    <tr>\n",
              "      <th>435</th>\n",
              "      <td>1</td>\n",
              "      <td>3</td>\n",
              "      <td>29703</td>\n",
              "      <td>12051</td>\n",
              "      <td>16027</td>\n",
              "      <td>13135</td>\n",
              "      <td>182</td>\n",
              "      <td>2204</td>\n",
              "    </tr>\n",
              "    <tr>\n",
              "      <th>436</th>\n",
              "      <td>1</td>\n",
              "      <td>3</td>\n",
              "      <td>39228</td>\n",
              "      <td>1431</td>\n",
              "      <td>764</td>\n",
              "      <td>4510</td>\n",
              "      <td>93</td>\n",
              "      <td>2346</td>\n",
              "    </tr>\n",
              "    <tr>\n",
              "      <th>437</th>\n",
              "      <td>2</td>\n",
              "      <td>3</td>\n",
              "      <td>14531</td>\n",
              "      <td>15488</td>\n",
              "      <td>30243</td>\n",
              "      <td>437</td>\n",
              "      <td>14841</td>\n",
              "      <td>1867</td>\n",
              "    </tr>\n",
              "    <tr>\n",
              "      <th>438</th>\n",
              "      <td>1</td>\n",
              "      <td>3</td>\n",
              "      <td>10290</td>\n",
              "      <td>1981</td>\n",
              "      <td>2232</td>\n",
              "      <td>1038</td>\n",
              "      <td>168</td>\n",
              "      <td>2125</td>\n",
              "    </tr>\n",
              "    <tr>\n",
              "      <th>439</th>\n",
              "      <td>1</td>\n",
              "      <td>3</td>\n",
              "      <td>2787</td>\n",
              "      <td>1698</td>\n",
              "      <td>2510</td>\n",
              "      <td>65</td>\n",
              "      <td>477</td>\n",
              "      <td>52</td>\n",
              "    </tr>\n",
              "  </tbody>\n",
              "</table>\n",
              "<p>440 rows × 8 columns</p>\n",
              "</div>\n",
              "    <div class=\"colab-df-buttons\">\n",
              "\n",
              "  <div class=\"colab-df-container\">\n",
              "    <button class=\"colab-df-convert\" onclick=\"convertToInteractive('df-43d87306-f682-4daf-aeb2-390a92abaf16')\"\n",
              "            title=\"Convert this dataframe to an interactive table.\"\n",
              "            style=\"display:none;\">\n",
              "\n",
              "  <svg xmlns=\"http://www.w3.org/2000/svg\" height=\"24px\" viewBox=\"0 -960 960 960\">\n",
              "    <path d=\"M120-120v-720h720v720H120Zm60-500h600v-160H180v160Zm220 220h160v-160H400v160Zm0 220h160v-160H400v160ZM180-400h160v-160H180v160Zm440 0h160v-160H620v160ZM180-180h160v-160H180v160Zm440 0h160v-160H620v160Z\"/>\n",
              "  </svg>\n",
              "    </button>\n",
              "\n",
              "  <style>\n",
              "    .colab-df-container {\n",
              "      display:flex;\n",
              "      gap: 12px;\n",
              "    }\n",
              "\n",
              "    .colab-df-convert {\n",
              "      background-color: #E8F0FE;\n",
              "      border: none;\n",
              "      border-radius: 50%;\n",
              "      cursor: pointer;\n",
              "      display: none;\n",
              "      fill: #1967D2;\n",
              "      height: 32px;\n",
              "      padding: 0 0 0 0;\n",
              "      width: 32px;\n",
              "    }\n",
              "\n",
              "    .colab-df-convert:hover {\n",
              "      background-color: #E2EBFA;\n",
              "      box-shadow: 0px 1px 2px rgba(60, 64, 67, 0.3), 0px 1px 3px 1px rgba(60, 64, 67, 0.15);\n",
              "      fill: #174EA6;\n",
              "    }\n",
              "\n",
              "    .colab-df-buttons div {\n",
              "      margin-bottom: 4px;\n",
              "    }\n",
              "\n",
              "    [theme=dark] .colab-df-convert {\n",
              "      background-color: #3B4455;\n",
              "      fill: #D2E3FC;\n",
              "    }\n",
              "\n",
              "    [theme=dark] .colab-df-convert:hover {\n",
              "      background-color: #434B5C;\n",
              "      box-shadow: 0px 1px 3px 1px rgba(0, 0, 0, 0.15);\n",
              "      filter: drop-shadow(0px 1px 2px rgba(0, 0, 0, 0.3));\n",
              "      fill: #FFFFFF;\n",
              "    }\n",
              "  </style>\n",
              "\n",
              "    <script>\n",
              "      const buttonEl =\n",
              "        document.querySelector('#df-43d87306-f682-4daf-aeb2-390a92abaf16 button.colab-df-convert');\n",
              "      buttonEl.style.display =\n",
              "        google.colab.kernel.accessAllowed ? 'block' : 'none';\n",
              "\n",
              "      async function convertToInteractive(key) {\n",
              "        const element = document.querySelector('#df-43d87306-f682-4daf-aeb2-390a92abaf16');\n",
              "        const dataTable =\n",
              "          await google.colab.kernel.invokeFunction('convertToInteractive',\n",
              "                                                    [key], {});\n",
              "        if (!dataTable) return;\n",
              "\n",
              "        const docLinkHtml = 'Like what you see? Visit the ' +\n",
              "          '<a target=\"_blank\" href=https://colab.research.google.com/notebooks/data_table.ipynb>data table notebook</a>'\n",
              "          + ' to learn more about interactive tables.';\n",
              "        element.innerHTML = '';\n",
              "        dataTable['output_type'] = 'display_data';\n",
              "        await google.colab.output.renderOutput(dataTable, element);\n",
              "        const docLink = document.createElement('div');\n",
              "        docLink.innerHTML = docLinkHtml;\n",
              "        element.appendChild(docLink);\n",
              "      }\n",
              "    </script>\n",
              "  </div>\n",
              "\n",
              "\n",
              "<div id=\"df-d6eb83ca-146b-409d-b4a0-8bc028e1e31d\">\n",
              "  <button class=\"colab-df-quickchart\" onclick=\"quickchart('df-d6eb83ca-146b-409d-b4a0-8bc028e1e31d')\"\n",
              "            title=\"Suggest charts\"\n",
              "            style=\"display:none;\">\n",
              "\n",
              "<svg xmlns=\"http://www.w3.org/2000/svg\" height=\"24px\"viewBox=\"0 0 24 24\"\n",
              "     width=\"24px\">\n",
              "    <g>\n",
              "        <path d=\"M19 3H5c-1.1 0-2 .9-2 2v14c0 1.1.9 2 2 2h14c1.1 0 2-.9 2-2V5c0-1.1-.9-2-2-2zM9 17H7v-7h2v7zm4 0h-2V7h2v10zm4 0h-2v-4h2v4z\"/>\n",
              "    </g>\n",
              "</svg>\n",
              "  </button>\n",
              "\n",
              "<style>\n",
              "  .colab-df-quickchart {\n",
              "      --bg-color: #E8F0FE;\n",
              "      --fill-color: #1967D2;\n",
              "      --hover-bg-color: #E2EBFA;\n",
              "      --hover-fill-color: #174EA6;\n",
              "      --disabled-fill-color: #AAA;\n",
              "      --disabled-bg-color: #DDD;\n",
              "  }\n",
              "\n",
              "  [theme=dark] .colab-df-quickchart {\n",
              "      --bg-color: #3B4455;\n",
              "      --fill-color: #D2E3FC;\n",
              "      --hover-bg-color: #434B5C;\n",
              "      --hover-fill-color: #FFFFFF;\n",
              "      --disabled-bg-color: #3B4455;\n",
              "      --disabled-fill-color: #666;\n",
              "  }\n",
              "\n",
              "  .colab-df-quickchart {\n",
              "    background-color: var(--bg-color);\n",
              "    border: none;\n",
              "    border-radius: 50%;\n",
              "    cursor: pointer;\n",
              "    display: none;\n",
              "    fill: var(--fill-color);\n",
              "    height: 32px;\n",
              "    padding: 0;\n",
              "    width: 32px;\n",
              "  }\n",
              "\n",
              "  .colab-df-quickchart:hover {\n",
              "    background-color: var(--hover-bg-color);\n",
              "    box-shadow: 0 1px 2px rgba(60, 64, 67, 0.3), 0 1px 3px 1px rgba(60, 64, 67, 0.15);\n",
              "    fill: var(--button-hover-fill-color);\n",
              "  }\n",
              "\n",
              "  .colab-df-quickchart-complete:disabled,\n",
              "  .colab-df-quickchart-complete:disabled:hover {\n",
              "    background-color: var(--disabled-bg-color);\n",
              "    fill: var(--disabled-fill-color);\n",
              "    box-shadow: none;\n",
              "  }\n",
              "\n",
              "  .colab-df-spinner {\n",
              "    border: 2px solid var(--fill-color);\n",
              "    border-color: transparent;\n",
              "    border-bottom-color: var(--fill-color);\n",
              "    animation:\n",
              "      spin 1s steps(1) infinite;\n",
              "  }\n",
              "\n",
              "  @keyframes spin {\n",
              "    0% {\n",
              "      border-color: transparent;\n",
              "      border-bottom-color: var(--fill-color);\n",
              "      border-left-color: var(--fill-color);\n",
              "    }\n",
              "    20% {\n",
              "      border-color: transparent;\n",
              "      border-left-color: var(--fill-color);\n",
              "      border-top-color: var(--fill-color);\n",
              "    }\n",
              "    30% {\n",
              "      border-color: transparent;\n",
              "      border-left-color: var(--fill-color);\n",
              "      border-top-color: var(--fill-color);\n",
              "      border-right-color: var(--fill-color);\n",
              "    }\n",
              "    40% {\n",
              "      border-color: transparent;\n",
              "      border-right-color: var(--fill-color);\n",
              "      border-top-color: var(--fill-color);\n",
              "    }\n",
              "    60% {\n",
              "      border-color: transparent;\n",
              "      border-right-color: var(--fill-color);\n",
              "    }\n",
              "    80% {\n",
              "      border-color: transparent;\n",
              "      border-right-color: var(--fill-color);\n",
              "      border-bottom-color: var(--fill-color);\n",
              "    }\n",
              "    90% {\n",
              "      border-color: transparent;\n",
              "      border-bottom-color: var(--fill-color);\n",
              "    }\n",
              "  }\n",
              "</style>\n",
              "\n",
              "  <script>\n",
              "    async function quickchart(key) {\n",
              "      const quickchartButtonEl =\n",
              "        document.querySelector('#' + key + ' button');\n",
              "      quickchartButtonEl.disabled = true;  // To prevent multiple clicks.\n",
              "      quickchartButtonEl.classList.add('colab-df-spinner');\n",
              "      try {\n",
              "        const charts = await google.colab.kernel.invokeFunction(\n",
              "            'suggestCharts', [key], {});\n",
              "      } catch (error) {\n",
              "        console.error('Error during call to suggestCharts:', error);\n",
              "      }\n",
              "      quickchartButtonEl.classList.remove('colab-df-spinner');\n",
              "      quickchartButtonEl.classList.add('colab-df-quickchart-complete');\n",
              "    }\n",
              "    (() => {\n",
              "      let quickchartButtonEl =\n",
              "        document.querySelector('#df-d6eb83ca-146b-409d-b4a0-8bc028e1e31d button');\n",
              "      quickchartButtonEl.style.display =\n",
              "        google.colab.kernel.accessAllowed ? 'block' : 'none';\n",
              "    })();\n",
              "  </script>\n",
              "</div>\n",
              "\n",
              "  <div id=\"id_da56fe91-efba-4a21-8a6d-0c0297dbc87e\">\n",
              "    <style>\n",
              "      .colab-df-generate {\n",
              "        background-color: #E8F0FE;\n",
              "        border: none;\n",
              "        border-radius: 50%;\n",
              "        cursor: pointer;\n",
              "        display: none;\n",
              "        fill: #1967D2;\n",
              "        height: 32px;\n",
              "        padding: 0 0 0 0;\n",
              "        width: 32px;\n",
              "      }\n",
              "\n",
              "      .colab-df-generate:hover {\n",
              "        background-color: #E2EBFA;\n",
              "        box-shadow: 0px 1px 2px rgba(60, 64, 67, 0.3), 0px 1px 3px 1px rgba(60, 64, 67, 0.15);\n",
              "        fill: #174EA6;\n",
              "      }\n",
              "\n",
              "      [theme=dark] .colab-df-generate {\n",
              "        background-color: #3B4455;\n",
              "        fill: #D2E3FC;\n",
              "      }\n",
              "\n",
              "      [theme=dark] .colab-df-generate:hover {\n",
              "        background-color: #434B5C;\n",
              "        box-shadow: 0px 1px 3px 1px rgba(0, 0, 0, 0.15);\n",
              "        filter: drop-shadow(0px 1px 2px rgba(0, 0, 0, 0.3));\n",
              "        fill: #FFFFFF;\n",
              "      }\n",
              "    </style>\n",
              "    <button class=\"colab-df-generate\" onclick=\"generateWithVariable('data')\"\n",
              "            title=\"Generate code using this dataframe.\"\n",
              "            style=\"display:none;\">\n",
              "\n",
              "  <svg xmlns=\"http://www.w3.org/2000/svg\" height=\"24px\"viewBox=\"0 0 24 24\"\n",
              "       width=\"24px\">\n",
              "    <path d=\"M7,19H8.4L18.45,9,17,7.55,7,17.6ZM5,21V16.75L18.45,3.32a2,2,0,0,1,2.83,0l1.4,1.43a1.91,1.91,0,0,1,.58,1.4,1.91,1.91,0,0,1-.58,1.4L9.25,21ZM18.45,9,17,7.55Zm-12,3A5.31,5.31,0,0,0,4.9,8.1,5.31,5.31,0,0,0,1,6.5,5.31,5.31,0,0,0,4.9,4.9,5.31,5.31,0,0,0,6.5,1,5.31,5.31,0,0,0,8.1,4.9,5.31,5.31,0,0,0,12,6.5,5.46,5.46,0,0,0,6.5,12Z\"/>\n",
              "  </svg>\n",
              "    </button>\n",
              "    <script>\n",
              "      (() => {\n",
              "      const buttonEl =\n",
              "        document.querySelector('#id_da56fe91-efba-4a21-8a6d-0c0297dbc87e button.colab-df-generate');\n",
              "      buttonEl.style.display =\n",
              "        google.colab.kernel.accessAllowed ? 'block' : 'none';\n",
              "\n",
              "      buttonEl.onclick = () => {\n",
              "        google.colab.notebook.generateWithVariable('data');\n",
              "      }\n",
              "      })();\n",
              "    </script>\n",
              "  </div>\n",
              "\n",
              "    </div>\n",
              "  </div>\n"
            ],
            "application/vnd.google.colaboratory.intrinsic+json": {
              "type": "dataframe",
              "variable_name": "data",
              "summary": "{\n  \"name\": \"data\",\n  \"rows\": 440,\n  \"fields\": [\n    {\n      \"column\": \"Channel\",\n      \"properties\": {\n        \"dtype\": \"number\",\n        \"std\": 0,\n        \"min\": 1,\n        \"max\": 2,\n        \"num_unique_values\": 2,\n        \"samples\": [\n          1,\n          2\n        ],\n        \"semantic_type\": \"\",\n        \"description\": \"\"\n      }\n    },\n    {\n      \"column\": \"Region\",\n      \"properties\": {\n        \"dtype\": \"number\",\n        \"std\": 0,\n        \"min\": 1,\n        \"max\": 3,\n        \"num_unique_values\": 3,\n        \"samples\": [\n          3,\n          1\n        ],\n        \"semantic_type\": \"\",\n        \"description\": \"\"\n      }\n    },\n    {\n      \"column\": \"Fresh\",\n      \"properties\": {\n        \"dtype\": \"number\",\n        \"std\": 12647,\n        \"min\": 3,\n        \"max\": 112151,\n        \"num_unique_values\": 433,\n        \"samples\": [\n          21117,\n          20398\n        ],\n        \"semantic_type\": \"\",\n        \"description\": \"\"\n      }\n    },\n    {\n      \"column\": \"Milk\",\n      \"properties\": {\n        \"dtype\": \"number\",\n        \"std\": 7380,\n        \"min\": 55,\n        \"max\": 73498,\n        \"num_unique_values\": 421,\n        \"samples\": [\n          8384,\n          7184\n        ],\n        \"semantic_type\": \"\",\n        \"description\": \"\"\n      }\n    },\n    {\n      \"column\": \"Grocery\",\n      \"properties\": {\n        \"dtype\": \"number\",\n        \"std\": 9503,\n        \"min\": 3,\n        \"max\": 92780,\n        \"num_unique_values\": 430,\n        \"samples\": [\n          5160,\n          3\n        ],\n        \"semantic_type\": \"\",\n        \"description\": \"\"\n      }\n    },\n    {\n      \"column\": \"Frozen\",\n      \"properties\": {\n        \"dtype\": \"number\",\n        \"std\": 4854,\n        \"min\": 25,\n        \"max\": 60869,\n        \"num_unique_values\": 426,\n        \"samples\": [\n          269,\n          7530\n        ],\n        \"semantic_type\": \"\",\n        \"description\": \"\"\n      }\n    },\n    {\n      \"column\": \"Detergents_Paper\",\n      \"properties\": {\n        \"dtype\": \"number\",\n        \"std\": 4767,\n        \"min\": 3,\n        \"max\": 40827,\n        \"num_unique_values\": 417,\n        \"samples\": [\n          302,\n          6740\n        ],\n        \"semantic_type\": \"\",\n        \"description\": \"\"\n      }\n    },\n    {\n      \"column\": \"Delicassen\",\n      \"properties\": {\n        \"dtype\": \"number\",\n        \"std\": 2820,\n        \"min\": 3,\n        \"max\": 47943,\n        \"num_unique_values\": 403,\n        \"samples\": [\n          14472,\n          172\n        ],\n        \"semantic_type\": \"\",\n        \"description\": \"\"\n      }\n    }\n  ]\n}"
            }
          },
          "metadata": {},
          "execution_count": 23
        }
      ]
    },
    {
      "cell_type": "code",
      "source": [
        "data['Channel'].value_counts()"
      ],
      "metadata": {
        "colab": {
          "base_uri": "https://localhost:8080/",
          "height": 178
        },
        "id": "687FcW8sdEjr",
        "outputId": "30789e59-d72e-4516-9d29-2801d19506cf"
      },
      "execution_count": 25,
      "outputs": [
        {
          "output_type": "execute_result",
          "data": {
            "text/plain": [
              "Channel\n",
              "1    298\n",
              "2    142\n",
              "Name: count, dtype: int64"
            ],
            "text/html": [
              "<div>\n",
              "<style scoped>\n",
              "    .dataframe tbody tr th:only-of-type {\n",
              "        vertical-align: middle;\n",
              "    }\n",
              "\n",
              "    .dataframe tbody tr th {\n",
              "        vertical-align: top;\n",
              "    }\n",
              "\n",
              "    .dataframe thead th {\n",
              "        text-align: right;\n",
              "    }\n",
              "</style>\n",
              "<table border=\"1\" class=\"dataframe\">\n",
              "  <thead>\n",
              "    <tr style=\"text-align: right;\">\n",
              "      <th></th>\n",
              "      <th>count</th>\n",
              "    </tr>\n",
              "    <tr>\n",
              "      <th>Channel</th>\n",
              "      <th></th>\n",
              "    </tr>\n",
              "  </thead>\n",
              "  <tbody>\n",
              "    <tr>\n",
              "      <th>1</th>\n",
              "      <td>298</td>\n",
              "    </tr>\n",
              "    <tr>\n",
              "      <th>2</th>\n",
              "      <td>142</td>\n",
              "    </tr>\n",
              "  </tbody>\n",
              "</table>\n",
              "</div><br><label><b>dtype:</b> int64</label>"
            ]
          },
          "metadata": {},
          "execution_count": 25
        }
      ]
    },
    {
      "cell_type": "code",
      "source": [
        "data['Milk'].value_counts()"
      ],
      "metadata": {
        "colab": {
          "base_uri": "https://localhost:8080/",
          "height": 489
        },
        "id": "dH300MoedEte",
        "outputId": "555c784c-15b5-4d24-affa-f23d44f70971"
      },
      "execution_count": 28,
      "outputs": [
        {
          "output_type": "execute_result",
          "data": {
            "text/plain": [
              "Milk\n",
              "3045     2\n",
              "1610     2\n",
              "5139     2\n",
              "2428     2\n",
              "3587     2\n",
              "        ..\n",
              "1596     1\n",
              "7152     1\n",
              "13252    1\n",
              "4280     1\n",
              "1698     1\n",
              "Name: count, Length: 421, dtype: int64"
            ],
            "text/html": [
              "<div>\n",
              "<style scoped>\n",
              "    .dataframe tbody tr th:only-of-type {\n",
              "        vertical-align: middle;\n",
              "    }\n",
              "\n",
              "    .dataframe tbody tr th {\n",
              "        vertical-align: top;\n",
              "    }\n",
              "\n",
              "    .dataframe thead th {\n",
              "        text-align: right;\n",
              "    }\n",
              "</style>\n",
              "<table border=\"1\" class=\"dataframe\">\n",
              "  <thead>\n",
              "    <tr style=\"text-align: right;\">\n",
              "      <th></th>\n",
              "      <th>count</th>\n",
              "    </tr>\n",
              "    <tr>\n",
              "      <th>Milk</th>\n",
              "      <th></th>\n",
              "    </tr>\n",
              "  </thead>\n",
              "  <tbody>\n",
              "    <tr>\n",
              "      <th>3045</th>\n",
              "      <td>2</td>\n",
              "    </tr>\n",
              "    <tr>\n",
              "      <th>1610</th>\n",
              "      <td>2</td>\n",
              "    </tr>\n",
              "    <tr>\n",
              "      <th>5139</th>\n",
              "      <td>2</td>\n",
              "    </tr>\n",
              "    <tr>\n",
              "      <th>2428</th>\n",
              "      <td>2</td>\n",
              "    </tr>\n",
              "    <tr>\n",
              "      <th>3587</th>\n",
              "      <td>2</td>\n",
              "    </tr>\n",
              "    <tr>\n",
              "      <th>...</th>\n",
              "      <td>...</td>\n",
              "    </tr>\n",
              "    <tr>\n",
              "      <th>1596</th>\n",
              "      <td>1</td>\n",
              "    </tr>\n",
              "    <tr>\n",
              "      <th>7152</th>\n",
              "      <td>1</td>\n",
              "    </tr>\n",
              "    <tr>\n",
              "      <th>13252</th>\n",
              "      <td>1</td>\n",
              "    </tr>\n",
              "    <tr>\n",
              "      <th>4280</th>\n",
              "      <td>1</td>\n",
              "    </tr>\n",
              "    <tr>\n",
              "      <th>1698</th>\n",
              "      <td>1</td>\n",
              "    </tr>\n",
              "  </tbody>\n",
              "</table>\n",
              "<p>421 rows × 1 columns</p>\n",
              "</div><br><label><b>dtype:</b> int64</label>"
            ]
          },
          "metadata": {},
          "execution_count": 28
        }
      ]
    },
    {
      "cell_type": "code",
      "source": [
        "# Step 3: Data preprocessing\n",
        "# Selecting features for clustering\n",
        "features = ['Fresh', 'Milk', 'Grocery', 'Frozen', 'Detergents_Paper', 'Delicassen']\n",
        "X = data[features].values"
      ],
      "metadata": {
        "id": "yxfCDmnrd8jU"
      },
      "execution_count": 29,
      "outputs": []
    },
    {
      "cell_type": "code",
      "source": [
        "X"
      ],
      "metadata": {
        "colab": {
          "base_uri": "https://localhost:8080/"
        },
        "id": "-GBCiIX4eBDp",
        "outputId": "70f55bc2-8369-4651-ef19-c70a7eee6805"
      },
      "execution_count": 30,
      "outputs": [
        {
          "output_type": "execute_result",
          "data": {
            "text/plain": [
              "array([[12669,  9656,  7561,   214,  2674,  1338],\n",
              "       [ 7057,  9810,  9568,  1762,  3293,  1776],\n",
              "       [ 6353,  8808,  7684,  2405,  3516,  7844],\n",
              "       ...,\n",
              "       [14531, 15488, 30243,   437, 14841,  1867],\n",
              "       [10290,  1981,  2232,  1038,   168,  2125],\n",
              "       [ 2787,  1698,  2510,    65,   477,    52]])"
            ]
          },
          "metadata": {},
          "execution_count": 30
        }
      ]
    },
    {
      "cell_type": "code",
      "source": [
        "# Standardize the features\n",
        "scaler = StandardScaler()\n",
        "X_scaled = scaler.fit_transform(X)\n"
      ],
      "metadata": {
        "id": "7MZtKg3WeB7Z"
      },
      "execution_count": 31,
      "outputs": []
    },
    {
      "cell_type": "code",
      "source": [
        "# Step 4: Hierarchical clustering\n",
        "# Perform hierarchical clustering using 'ward' linkage\n",
        "Z = linkage(X_scaled, method='ward')\n"
      ],
      "metadata": {
        "id": "UylKMJG-eH_5"
      },
      "execution_count": 32,
      "outputs": []
    },
    {
      "cell_type": "code",
      "source": [
        "# Plot dendrogram to visualize the clusters\n",
        "plt.figure(figsize=(10, 7))\n",
        "plt.title(\"Dendrogram for Hierarchical Clustering\")\n",
        "dendrogram(Z)\n",
        "plt.xlabel('Sample Index')\n",
        "plt.ylabel('Distance')\n",
        "plt.show()"
      ],
      "metadata": {
        "colab": {
          "base_uri": "https://localhost:8080/",
          "height": 641
        },
        "id": "BYgzvknDeL8J",
        "outputId": "3b2fbac5-d654-4029-c602-8c83aa53e21e"
      },
      "execution_count": 33,
      "outputs": [
        {
          "output_type": "display_data",
          "data": {
            "text/plain": [
              "<Figure size 1000x700 with 1 Axes>"
            ],
            "image/png": "[encoded data removed]"
          },
          "metadata": {}
        }
      ]
    },
    {
      "cell_type": "code",
      "source": [
        "# Step 5: Cut the dendrogram at a chosen threshold to form flat clusters\n",
        "# Let's form 5 clusters as an example\n",
        "num_clusters = 5\n",
        "clusters = fcluster(Z, num_clusters, criterion='maxclust')"
      ],
      "metadata": {
        "id": "TJwK6cBpePQZ"
      },
      "execution_count": 34,
      "outputs": []
    },
    {
      "cell_type": "code",
      "source": [
        "\n",
        "\n",
        "# Step 6: Add cluster labels to the original data\n",
        "data['Cluster'] = clusters"
      ],
      "metadata": {
        "id": "8n_JO3JOeY3Z"
      },
      "execution_count": 35,
      "outputs": []
    },
    {
      "cell_type": "code",
      "source": [
        "# Step 7: Identify outliers or anomalies\n",
        "# Outliers could be defined as points that are far from their respective cluster centers.\n",
        "# We calculate the distance from each point to its cluster centroid and define outliers as those above a certain threshold.\n",
        "from scipy.spatial.distance import cdist"
      ],
      "metadata": {
        "id": "J0rENW17ea95"
      },
      "execution_count": 36,
      "outputs": []
    },
    {
      "cell_type": "code",
      "source": [
        "# Calculate centroids for each cluster\n",
        "centroids = np.array([X_scaled[clusters == i].mean(axis=0) for i in range(1, num_clusters + 1)])\n",
        "\n",
        "# Calculate distance of each point from its cluster centroid\n",
        "distances = np.min(cdist(X_scaled, centroids), axis=1)\n",
        "\n",
        "# Define threshold for outliers as 2 standard deviations away from the mean distance\n",
        "threshold = np.mean(distances) + 2 * np.std(distances)\n",
        "\n",
        "# Identify outliers\n",
        "outliers = data[distances > threshold]\n",
        "\n",
        "print(\"Identified Outliers:\")\n",
        "outliers"
      ],
      "metadata": {
        "colab": {
          "base_uri": "https://localhost:8080/",
          "height": 599
        },
        "id": "4QibD2AjefZp",
        "outputId": "ffc2b3cc-e0ee-416b-e2b4-a0f9d066c0f2"
      },
      "execution_count": 38,
      "outputs": [
        {
          "output_type": "stream",
          "name": "stdout",
          "text": [
            "Identified Outliers:\n"
          ]
        },
        {
          "output_type": "execute_result",
          "data": {
            "text/plain": [
              "     Channel  Region   Fresh   Milk  Grocery  Frozen  Detergents_Paper  \\\n",
              "23         2       3   26373  36423    22019    5154              4337   \n",
              "56         2       3    4098  29892    26866    2616             17740   \n",
              "65         2       3      85  20959    45828      36             24231   \n",
              "71         1       3   18291   1266    21042    5373              4173   \n",
              "85         2       3   16117  46197    92780    1026             40827   \n",
              "86         2       3   22925  73498    32114     987             20070   \n",
              "87         1       3   43265   5025     8117    6312              1579   \n",
              "92         2       3    9198  27472    32034    3232             18906   \n",
              "93         1       3   11314   3090     2062   35009                71   \n",
              "103        1       3   56082   3504     8906   18028              1480   \n",
              "125        1       3   76237   3473     7102   16538               778   \n",
              "181        1       3  112151  29627    18148   16745              4948   \n",
              "211        2       1   12119  28326    39694    4736             19410   \n",
              "251        2       1    6134  23133    33586    6746             18594   \n",
              "284        1       3   68951   4411    12609    8692               751   \n",
              "325        1       2   32717  16784    13626   60869              1272   \n",
              "333        2       2    8565   4980    67298     131             38102   \n",
              "\n",
              "     Delicassen  Cluster  \n",
              "23        16523        5  \n",
              "56         1340        3  \n",
              "65         1423        3  \n",
              "71        14472        5  \n",
              "85         2944        1  \n",
              "86          903        1  \n",
              "87        14351        5  \n",
              "92         5130        3  \n",
              "93         2698        5  \n",
              "103        2498        5  \n",
              "125         918        5  \n",
              "181        8550        5  \n",
              "211        2870        3  \n",
              "251        5121        3  \n",
              "284        2406        5  \n",
              "325        5609        5  \n",
              "333        1215        1  "
            ],
            "text/html": [
              "\n",
              "  <div id=\"df-f1951528-06cf-4089-8517-e3d4389a9b31\" class=\"colab-df-container\">\n",
              "    <div>\n",
              "<style scoped>\n",
              "    .dataframe tbody tr th:only-of-type {\n",
              "        vertical-align: middle;\n",
              "    }\n",
              "\n",
              "    .dataframe tbody tr th {\n",
              "        vertical-align: top;\n",
              "    }\n",
              "\n",
              "    .dataframe thead th {\n",
              "        text-align: right;\n",
              "    }\n",
              "</style>\n",
              "<table border=\"1\" class=\"dataframe\">\n",
              "  <thead>\n",
              "    <tr style=\"text-align: right;\">\n",
              "      <th></th>\n",
              "      <th>Channel</th>\n",
              "      <th>Region</th>\n",
              "      <th>Fresh</th>\n",
              "      <th>Milk</th>\n",
              "      <th>Grocery</th>\n",
              "      <th>Frozen</th>\n",
              "      <th>Detergents_Paper</th>\n",
              "      <th>Delicassen</th>\n",
              "      <th>Cluster</th>\n",
              "    </tr>\n",
              "  </thead>\n",
              "  <tbody>\n",
              "    <tr>\n",
              "      <th>23</th>\n",
              "      <td>2</td>\n",
              "      <td>3</td>\n",
              "      <td>26373</td>\n",
              "      <td>36423</td>\n",
              "      <td>22019</td>\n",
              "      <td>5154</td>\n",
              "      <td>4337</td>\n",
              "      <td>16523</td>\n",
              "      <td>5</td>\n",
              "    </tr>\n",
              "    <tr>\n",
              "      <th>56</th>\n",
              "      <td>2</td>\n",
              "      <td>3</td>\n",
              "      <td>4098</td>\n",
              "      <td>29892</td>\n",
              "      <td>26866</td>\n",
              "      <td>2616</td>\n",
              "      <td>17740</td>\n",
              "      <td>1340</td>\n",
              "      <td>3</td>\n",
              "    </tr>\n",
              "    <tr>\n",
              "      <th>65</th>\n",
              "      <td>2</td>\n",
              "      <td>3</td>\n",
              "      <td>85</td>\n",
              "      <td>20959</td>\n",
              "      <td>45828</td>\n",
              "      <td>36</td>\n",
              "      <td>24231</td>\n",
              "      <td>1423</td>\n",
              "      <td>3</td>\n",
              "    </tr>\n",
              "    <tr>\n",
              "      <th>71</th>\n",
              "      <td>1</td>\n",
              "      <td>3</td>\n",
              "      <td>18291</td>\n",
              "      <td>1266</td>\n",
              "      <td>21042</td>\n",
              "      <td>5373</td>\n",
              "      <td>4173</td>\n",
              "      <td>14472</td>\n",
              "      <td>5</td>\n",
              "    </tr>\n",
              "    <tr>\n",
              "      <th>85</th>\n",
              "      <td>2</td>\n",
              "      <td>3</td>\n",
              "      <td>16117</td>\n",
              "      <td>46197</td>\n",
              "      <td>92780</td>\n",
              "      <td>1026</td>\n",
              "      <td>40827</td>\n",
              "      <td>2944</td>\n",
              "      <td>1</td>\n",
              "    </tr>\n",
              "    <tr>\n",
              "      <th>86</th>\n",
              "      <td>2</td>\n",
              "      <td>3</td>\n",
              "      <td>22925</td>\n",
              "      <td>73498</td>\n",
              "      <td>32114</td>\n",
              "      <td>987</td>\n",
              "      <td>20070</td>\n",
              "      <td>903</td>\n",
              "      <td>1</td>\n",
              "    </tr>\n",
              "    <tr>\n",
              "      <th>87</th>\n",
              "      <td>1</td>\n",
              "      <td>3</td>\n",
              "      <td>43265</td>\n",
              "      <td>5025</td>\n",
              "      <td>8117</td>\n",
              "      <td>6312</td>\n",
              "      <td>1579</td>\n",
              "      <td>14351</td>\n",
              "      <td>5</td>\n",
              "    </tr>\n",
              "    <tr>\n",
              "      <th>92</th>\n",
              "      <td>2</td>\n",
              "      <td>3</td>\n",
              "      <td>9198</td>\n",
              "      <td>27472</td>\n",
              "      <td>32034</td>\n",
              "      <td>3232</td>\n",
              "      <td>18906</td>\n",
              "      <td>5130</td>\n",
              "      <td>3</td>\n",
              "    </tr>\n",
              "    <tr>\n",
              "      <th>93</th>\n",
              "      <td>1</td>\n",
              "      <td>3</td>\n",
              "      <td>11314</td>\n",
              "      <td>3090</td>\n",
              "      <td>2062</td>\n",
              "      <td>35009</td>\n",
              "      <td>71</td>\n",
              "      <td>2698</td>\n",
              "      <td>5</td>\n",
              "    </tr>\n",
              "    <tr>\n",
              "      <th>103</th>\n",
              "      <td>1</td>\n",
              "      <td>3</td>\n",
              "      <td>56082</td>\n",
              "      <td>3504</td>\n",
              "      <td>8906</td>\n",
              "      <td>18028</td>\n",
              "      <td>1480</td>\n",
              "      <td>2498</td>\n",
              "      <td>5</td>\n",
              "    </tr>\n",
              "    <tr>\n",
              "      <th>125</th>\n",
              "      <td>1</td>\n",
              "      <td>3</td>\n",
              "      <td>76237</td>\n",
              "      <td>3473</td>\n",
              "      <td>7102</td>\n",
              "      <td>16538</td>\n",
              "      <td>778</td>\n",
              "      <td>918</td>\n",
              "      <td>5</td>\n",
              "    </tr>\n",
              "    <tr>\n",
              "      <th>181</th>\n",
              "      <td>1</td>\n",
              "      <td>3</td>\n",
              "      <td>112151</td>\n",
              "      <td>29627</td>\n",
              "      <td>18148</td>\n",
              "      <td>16745</td>\n",
              "      <td>4948</td>\n",
              "      <td>8550</td>\n",
              "      <td>5</td>\n",
              "    </tr>\n",
              "    <tr>\n",
              "      <th>211</th>\n",
              "      <td>2</td>\n",
              "      <td>1</td>\n",
              "      <td>12119</td>\n",
              "      <td>28326</td>\n",
              "      <td>39694</td>\n",
              "      <td>4736</td>\n",
              "      <td>19410</td>\n",
              "      <td>2870</td>\n",
              "      <td>3</td>\n",
              "    </tr>\n",
              "    <tr>\n",
              "      <th>251</th>\n",
              "      <td>2</td>\n",
              "      <td>1</td>\n",
              "      <td>6134</td>\n",
              "      <td>23133</td>\n",
              "      <td>33586</td>\n",
              "      <td>6746</td>\n",
              "      <td>18594</td>\n",
              "      <td>5121</td>\n",
              "      <td>3</td>\n",
              "    </tr>\n",
              "    <tr>\n",
              "      <th>284</th>\n",
              "      <td>1</td>\n",
              "      <td>3</td>\n",
              "      <td>68951</td>\n",
              "      <td>4411</td>\n",
              "      <td>12609</td>\n",
              "      <td>8692</td>\n",
              "      <td>751</td>\n",
              "      <td>2406</td>\n",
              "      <td>5</td>\n",
              "    </tr>\n",
              "    <tr>\n",
              "      <th>325</th>\n",
              "      <td>1</td>\n",
              "      <td>2</td>\n",
              "      <td>32717</td>\n",
              "      <td>16784</td>\n",
              "      <td>13626</td>\n",
              "      <td>60869</td>\n",
              "      <td>1272</td>\n",
              "      <td>5609</td>\n",
              "      <td>5</td>\n",
              "    </tr>\n",
              "    <tr>\n",
              "      <th>333</th>\n",
              "      <td>2</td>\n",
              "      <td>2</td>\n",
              "      <td>8565</td>\n",
              "      <td>4980</td>\n",
              "      <td>67298</td>\n",
              "      <td>131</td>\n",
              "      <td>38102</td>\n",
              "      <td>1215</td>\n",
              "      <td>1</td>\n",
              "    </tr>\n",
              "  </tbody>\n",
              "</table>\n",
              "</div>\n",
              "    <div class=\"colab-df-buttons\">\n",
              "\n",
              "  <div class=\"colab-df-container\">\n",
              "    <button class=\"colab-df-convert\" onclick=\"convertToInteractive('df-f1951528-06cf-4089-8517-e3d4389a9b31')\"\n",
              "            title=\"Convert this dataframe to an interactive table.\"\n",
              "            style=\"display:none;\">\n",
              "\n",
              "  <svg xmlns=\"http://www.w3.org/2000/svg\" height=\"24px\" viewBox=\"0 -960 960 960\">\n",
              "    <path d=\"M120-120v-720h720v720H120Zm60-500h600v-160H180v160Zm220 220h160v-160H400v160Zm0 220h160v-160H400v160ZM180-400h160v-160H180v160Zm440 0h160v-160H620v160ZM180-180h160v-160H180v160Zm440 0h160v-160H620v160Z\"/>\n",
              "  </svg>\n",
              "    </button>\n",
              "\n",
              "  <style>\n",
              "    .colab-df-container {\n",
              "      display:flex;\n",
              "      gap: 12px;\n",
              "    }\n",
              "\n",
              "    .colab-df-convert {\n",
              "      background-color: #E8F0FE;\n",
              "      border: none;\n",
              "      border-radius: 50%;\n",
              "      cursor: pointer;\n",
              "      display: none;\n",
              "      fill: #1967D2;\n",
              "      height: 32px;\n",
              "      padding: 0 0 0 0;\n",
              "      width: 32px;\n",
              "    }\n",
              "\n",
              "    .colab-df-convert:hover {\n",
              "      background-color: #E2EBFA;\n",
              "      box-shadow: 0px 1px 2px rgba(60, 64, 67, 0.3), 0px 1px 3px 1px rgba(60, 64, 67, 0.15);\n",
              "      fill: #174EA6;\n",
              "    }\n",
              "\n",
              "    .colab-df-buttons div {\n",
              "      margin-bottom: 4px;\n",
              "    }\n",
              "\n",
              "    [theme=dark] .colab-df-convert {\n",
              "      background-color: #3B4455;\n",
              "      fill: #D2E3FC;\n",
              "    }\n",
              "\n",
              "    [theme=dark] .colab-df-convert:hover {\n",
              "      background-color: #434B5C;\n",
              "      box-shadow: 0px 1px 3px 1px rgba(0, 0, 0, 0.15);\n",
              "      filter: drop-shadow(0px 1px 2px rgba(0, 0, 0, 0.3));\n",
              "      fill: #FFFFFF;\n",
              "    }\n",
              "  </style>\n",
              "\n",
              "    <script>\n",
              "      const buttonEl =\n",
              "        document.querySelector('#df-f1951528-06cf-4089-8517-e3d4389a9b31 button.colab-df-convert');\n",
              "      buttonEl.style.display =\n",
              "        google.colab.kernel.accessAllowed ? 'block' : 'none';\n",
              "\n",
              "      async function convertToInteractive(key) {\n",
              "        const element = document.querySelector('#df-f1951528-06cf-4089-8517-e3d4389a9b31');\n",
              "        const dataTable =\n",
              "          await google.colab.kernel.invokeFunction('convertToInteractive',\n",
              "                                                    [key], {});\n",
              "        if (!dataTable) return;\n",
              "\n",
              "        const docLinkHtml = 'Like what you see? Visit the ' +\n",
              "          '<a target=\"_blank\" href=https://colab.research.google.com/notebooks/data_table.ipynb>data table notebook</a>'\n",
              "          + ' to learn more about interactive tables.';\n",
              "        element.innerHTML = '';\n",
              "        dataTable['output_type'] = 'display_data';\n",
              "        await google.colab.output.renderOutput(dataTable, element);\n",
              "        const docLink = document.createElement('div');\n",
              "        docLink.innerHTML = docLinkHtml;\n",
              "        element.appendChild(docLink);\n",
              "      }\n",
              "    </script>\n",
              "  </div>\n",
              "\n",
              "\n",
              "<div id=\"df-e51f8eef-8bc1-4e55-a093-9caecdc9ecc2\">\n",
              "  <button class=\"colab-df-quickchart\" onclick=\"quickchart('df-e51f8eef-8bc1-4e55-a093-9caecdc9ecc2')\"\n",
              "            title=\"Suggest charts\"\n",
              "            style=\"display:none;\">\n",
              "\n",
              "<svg xmlns=\"http://www.w3.org/2000/svg\" height=\"24px\"viewBox=\"0 0 24 24\"\n",
              "     width=\"24px\">\n",
              "    <g>\n",
              "        <path d=\"M19 3H5c-1.1 0-2 .9-2 2v14c0 1.1.9 2 2 2h14c1.1 0 2-.9 2-2V5c0-1.1-.9-2-2-2zM9 17H7v-7h2v7zm4 0h-2V7h2v10zm4 0h-2v-4h2v4z\"/>\n",
              "    </g>\n",
              "</svg>\n",
              "  </button>\n",
              "\n",
              "<style>\n",
              "  .colab-df-quickchart {\n",
              "      --bg-color: #E8F0FE;\n",
              "      --fill-color: #1967D2;\n",
              "      --hover-bg-color: #E2EBFA;\n",
              "      --hover-fill-color: #174EA6;\n",
              "      --disabled-fill-color: #AAA;\n",
              "      --disabled-bg-color: #DDD;\n",
              "  }\n",
              "\n",
              "  [theme=dark] .colab-df-quickchart {\n",
              "      --bg-color: #3B4455;\n",
              "      --fill-color: #D2E3FC;\n",
              "      --hover-bg-color: #434B5C;\n",
              "      --hover-fill-color: #FFFFFF;\n",
              "      --disabled-bg-color: #3B4455;\n",
              "      --disabled-fill-color: #666;\n",
              "  }\n",
              "\n",
              "  .colab-df-quickchart {\n",
              "    background-color: var(--bg-color);\n",
              "    border: none;\n",
              "    border-radius: 50%;\n",
              "    cursor: pointer;\n",
              "    display: none;\n",
              "    fill: var(--fill-color);\n",
              "    height: 32px;\n",
              "    padding: 0;\n",
              "    width: 32px;\n",
              "  }\n",
              "\n",
              "  .colab-df-quickchart:hover {\n",
              "    background-color: var(--hover-bg-color);\n",
              "    box-shadow: 0 1px 2px rgba(60, 64, 67, 0.3), 0 1px 3px 1px rgba(60, 64, 67, 0.15);\n",
              "    fill: var(--button-hover-fill-color);\n",
              "  }\n",
              "\n",
              "  .colab-df-quickchart-complete:disabled,\n",
              "  .colab-df-quickchart-complete:disabled:hover {\n",
              "    background-color: var(--disabled-bg-color);\n",
              "    fill: var(--disabled-fill-color);\n",
              "    box-shadow: none;\n",
              "  }\n",
              "\n",
              "  .colab-df-spinner {\n",
              "    border: 2px solid var(--fill-color);\n",
              "    border-color: transparent;\n",
              "    border-bottom-color: var(--fill-color);\n",
              "    animation:\n",
              "      spin 1s steps(1) infinite;\n",
              "  }\n",
              "\n",
              "  @keyframes spin {\n",
              "    0% {\n",
              "      border-color: transparent;\n",
              "      border-bottom-color: var(--fill-color);\n",
              "      border-left-color: var(--fill-color);\n",
              "    }\n",
              "    20% {\n",
              "      border-color: transparent;\n",
              "      border-left-color: var(--fill-color);\n",
              "      border-top-color: var(--fill-color);\n",
              "    }\n",
              "    30% {\n",
              "      border-color: transparent;\n",
              "      border-left-color: var(--fill-color);\n",
              "      border-top-color: var(--fill-color);\n",
              "      border-right-color: var(--fill-color);\n",
              "    }\n",
              "    40% {\n",
              "      border-color: transparent;\n",
              "      border-right-color: var(--fill-color);\n",
              "      border-top-color: var(--fill-color);\n",
              "    }\n",
              "    60% {\n",
              "      border-color: transparent;\n",
              "      border-right-color: var(--fill-color);\n",
              "    }\n",
              "    80% {\n",
              "      border-color: transparent;\n",
              "      border-right-color: var(--fill-color);\n",
              "      border-bottom-color: var(--fill-color);\n",
              "    }\n",
              "    90% {\n",
              "      border-color: transparent;\n",
              "      border-bottom-color: var(--fill-color);\n",
              "    }\n",
              "  }\n",
              "</style>\n",
              "\n",
              "  <script>\n",
              "    async function quickchart(key) {\n",
              "      const quickchartButtonEl =\n",
              "        document.querySelector('#' + key + ' button');\n",
              "      quickchartButtonEl.disabled = true;  // To prevent multiple clicks.\n",
              "      quickchartButtonEl.classList.add('colab-df-spinner');\n",
              "      try {\n",
              "        const charts = await google.colab.kernel.invokeFunction(\n",
              "            'suggestCharts', [key], {});\n",
              "      } catch (error) {\n",
              "        console.error('Error during call to suggestCharts:', error);\n",
              "      }\n",
              "      quickchartButtonEl.classList.remove('colab-df-spinner');\n",
              "      quickchartButtonEl.classList.add('colab-df-quickchart-complete');\n",
              "    }\n",
              "    (() => {\n",
              "      let quickchartButtonEl =\n",
              "        document.querySelector('#df-e51f8eef-8bc1-4e55-a093-9caecdc9ecc2 button');\n",
              "      quickchartButtonEl.style.display =\n",
              "        google.colab.kernel.accessAllowed ? 'block' : 'none';\n",
              "    })();\n",
              "  </script>\n",
              "</div>\n",
              "\n",
              "  <div id=\"id_cb222153-5864-4a3b-a136-4ec218f077c5\">\n",
              "    <style>\n",
              "      .colab-df-generate {\n",
              "        background-color: #E8F0FE;\n",
              "        border: none;\n",
              "        border-radius: 50%;\n",
              "        cursor: pointer;\n",
              "        display: none;\n",
              "        fill: #1967D2;\n",
              "        height: 32px;\n",
              "        padding: 0 0 0 0;\n",
              "        width: 32px;\n",
              "      }\n",
              "\n",
              "      .colab-df-generate:hover {\n",
              "        background-color: #E2EBFA;\n",
              "        box-shadow: 0px 1px 2px rgba(60, 64, 67, 0.3), 0px 1px 3px 1px rgba(60, 64, 67, 0.15);\n",
              "        fill: #174EA6;\n",
              "      }\n",
              "\n",
              "      [theme=dark] .colab-df-generate {\n",
              "        background-color: #3B4455;\n",
              "        fill: #D2E3FC;\n",
              "      }\n",
              "\n",
              "      [theme=dark] .colab-df-generate:hover {\n",
              "        background-color: #434B5C;\n",
              "        box-shadow: 0px 1px 3px 1px rgba(0, 0, 0, 0.15);\n",
              "        filter: drop-shadow(0px 1px 2px rgba(0, 0, 0, 0.3));\n",
              "        fill: #FFFFFF;\n",
              "      }\n",
              "    </style>\n",
              "    <button class=\"colab-df-generate\" onclick=\"generateWithVariable('outliers')\"\n",
              "            title=\"Generate code using this dataframe.\"\n",
              "            style=\"display:none;\">\n",
              "\n",
              "  <svg xmlns=\"http://www.w3.org/2000/svg\" height=\"24px\"viewBox=\"0 0 24 24\"\n",
              "       width=\"24px\">\n",
              "    <path d=\"M7,19H8.4L18.45,9,17,7.55,7,17.6ZM5,21V16.75L18.45,3.32a2,2,0,0,1,2.83,0l1.4,1.43a1.91,1.91,0,0,1,.58,1.4,1.91,1.91,0,0,1-.58,1.4L9.25,21ZM18.45,9,17,7.55Zm-12,3A5.31,5.31,0,0,0,4.9,8.1,5.31,5.31,0,0,0,1,6.5,5.31,5.31,0,0,0,4.9,4.9,5.31,5.31,0,0,0,6.5,1,5.31,5.31,0,0,0,8.1,4.9,5.31,5.31,0,0,0,12,6.5,5.46,5.46,0,0,0,6.5,12Z\"/>\n",
              "  </svg>\n",
              "    </button>\n",
              "    <script>\n",
              "      (() => {\n",
              "      const buttonEl =\n",
              "        document.querySelector('#id_cb222153-5864-4a3b-a136-4ec218f077c5 button.colab-df-generate');\n",
              "      buttonEl.style.display =\n",
              "        google.colab.kernel.accessAllowed ? 'block' : 'none';\n",
              "\n",
              "      buttonEl.onclick = () => {\n",
              "        google.colab.notebook.generateWithVariable('outliers');\n",
              "      }\n",
              "      })();\n",
              "    </script>\n",
              "  </div>\n",
              "\n",
              "    </div>\n",
              "  </div>\n"
            ],
            "application/vnd.google.colaboratory.intrinsic+json": {
              "type": "dataframe",
              "variable_name": "outliers",
              "summary": "{\n  \"name\": \"outliers\",\n  \"rows\": 17,\n  \"fields\": [\n    {\n      \"column\": \"Channel\",\n      \"properties\": {\n        \"dtype\": \"number\",\n        \"std\": 0,\n        \"min\": 1,\n        \"max\": 2,\n        \"num_unique_values\": 2,\n        \"samples\": [\n          1,\n          2\n        ],\n        \"semantic_type\": \"\",\n        \"description\": \"\"\n      }\n    },\n    {\n      \"column\": \"Region\",\n      \"properties\": {\n        \"dtype\": \"number\",\n        \"std\": 0,\n        \"min\": 1,\n        \"max\": 3,\n        \"num_unique_values\": 3,\n        \"samples\": [\n          3,\n          1\n        ],\n        \"semantic_type\": \"\",\n        \"description\": \"\"\n      }\n    },\n    {\n      \"column\": \"Fresh\",\n      \"properties\": {\n        \"dtype\": \"number\",\n        \"std\": 30968,\n        \"min\": 85,\n        \"max\": 112151,\n        \"num_unique_values\": 17,\n        \"samples\": [\n          26373,\n          4098\n        ],\n        \"semantic_type\": \"\",\n        \"description\": \"\"\n      }\n    },\n    {\n      \"column\": \"Milk\",\n      \"properties\": {\n        \"dtype\": \"number\",\n        \"std\": 19382,\n        \"min\": 1266,\n        \"max\": 73498,\n        \"num_unique_values\": 17,\n        \"samples\": [\n          36423,\n          29892\n        ],\n        \"semantic_type\": \"\",\n        \"description\": \"\"\n      }\n    },\n    {\n      \"column\": \"Grocery\",\n      \"properties\": {\n        \"dtype\": \"number\",\n        \"std\": 23387,\n        \"min\": 2062,\n        \"max\": 92780,\n        \"num_unique_values\": 17,\n        \"samples\": [\n          22019,\n          26866\n        ],\n        \"semantic_type\": \"\",\n        \"description\": \"\"\n      }\n    },\n    {\n      \"column\": \"Frozen\",\n      \"properties\": {\n        \"dtype\": \"number\",\n        \"std\": 15600,\n        \"min\": 36,\n        \"max\": 60869,\n        \"num_unique_values\": 17,\n        \"samples\": [\n          5154,\n          2616\n        ],\n        \"semantic_type\": \"\",\n        \"description\": \"\"\n      }\n    },\n    {\n      \"column\": \"Detergents_Paper\",\n      \"properties\": {\n        \"dtype\": \"number\",\n        \"std\": 13215,\n        \"min\": 71,\n        \"max\": 40827,\n        \"num_unique_values\": 17,\n        \"samples\": [\n          4337,\n          17740\n        ],\n        \"semantic_type\": \"\",\n        \"description\": \"\"\n      }\n    },\n    {\n      \"column\": \"Delicassen\",\n      \"properties\": {\n        \"dtype\": \"number\",\n        \"std\": 5141,\n        \"min\": 903,\n        \"max\": 16523,\n        \"num_unique_values\": 17,\n        \"samples\": [\n          16523,\n          1340\n        ],\n        \"semantic_type\": \"\",\n        \"description\": \"\"\n      }\n    },\n    {\n      \"column\": \"Cluster\",\n      \"properties\": {\n        \"dtype\": \"int32\",\n        \"num_unique_values\": 3,\n        \"samples\": [\n          5,\n          3\n        ],\n        \"semantic_type\": \"\",\n        \"description\": \"\"\n      }\n    }\n  ]\n}"
            }
          },
          "metadata": {},
          "execution_count": 38
        }
      ]
    },
    {
      "cell_type": "code",
      "source": [
        "# Visualize outliers\n",
        "plt.figure(figsize=(10, 7))\n",
        "plt.scatter(X_scaled[:, 0], X_scaled[:, 1], c=clusters, cmap='rainbow')\n",
        "plt.scatter(outliers.index, distances[distances > threshold], c='red', marker='x', s=100)\n",
        "plt.title('Outlier Detection using Hierarchical Clustering')\n",
        "plt.xlabel('Feature 1 (scaled)')\n",
        "plt.ylabel('Feature 2 (scaled)')\n",
        "plt.show()"
      ],
      "metadata": {
        "colab": {
          "base_uri": "https://localhost:8080/",
          "height": 641
        },
        "id": "FpXz-o6qekvp",
        "outputId": "62630aff-0931-4251-fa85-94746bed766d"
      },
      "execution_count": 39,
      "outputs": [
        {
          "output_type": "display_data",
          "data": {
            "text/plain": [
              "<Figure size 1000x700 with 1 Axes>"
            ],
            "image/png": "[encoded data removed]"
          },
          "metadata": {}
        }
      ]
    },
    {
      "cell_type": "code",
      "source": [],
      "metadata": {
        "id": "-w0BbKIdeuwo"
      },
      "execution_count": null,
      "outputs": []
    }
  ]
}