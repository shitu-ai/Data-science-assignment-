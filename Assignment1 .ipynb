{
 "cells": [
  {
   "cell_type": "code",
   "execution_count": null,
   "id": "f0a1dfa7-f3c5-45d6-b818-35b8433a4ba3",
   "metadata": {},
   "outputs": [],
   "source": [
    "#Q1. Create one variable containing following type of data:\n",
    "#(i) string\n",
    "#(ii) list\n",
    "#(iii) float\n",
    "# (iv) tuple\n",
    "\n",
    "# (i) String\n",
    "my_string = \"Hello, World!\"\n",
    "\n",
    "# (ii) List\n",
    "my_list = [1, 2, 3, 4, 5]\n",
    "\n",
    "# (iii) Float\n",
    "my_float = 3.14\n",
    "\n",
    "# (iv) Tuple\n",
    "my_tuple = (1, 2, 3, 4, 5)\n"
   ]
  },
  {
   "cell_type": "code",
   "execution_count": null,
   "id": "291d3466-228f-485e-abb7-44d64e308e07",
   "metadata": {},
   "outputs": [],
   "source": [
    "#Q2. Given are some following variables containing data:\n",
    "#(i) var1 = ‘ ‘\n",
    "#(ii) var2 = ‘[ DS , ML , Python]’\n",
    "#(iii) var3 = [ ‘DS’ , ’ML’ , ‘Python’ ]\n",
    "#(iv) var4 = 1.\n",
    "# (i) String variable\n",
    "var1 = ' '\n",
    "\n",
    "# (ii) String variable containing a list-like string\n",
    "var2 = '[ DS , ML , Python]'\n",
    "# Convert the string in var2 to a list\n",
    "var2_list = var2.strip('[]').replace(' ', '').split(',')\n",
    "\n",
    "\n",
    "# (iii) List variable\n",
    "var3 = ['DS', 'ML', 'Python']\n",
    "\n",
    "# (iv) Float variable\n",
    "var4 = 1.0\n"
   ]
  },
  {
   "cell_type": "code",
   "execution_count": null,
   "id": "ce7bbd9f-3704-4e4a-9bf3-a5a3ea79918d",
   "metadata": {},
   "outputs": [],
   "source": [
    "#Q3. Explain the use of the following operators using an example:\n",
    "#(i) /\n",
    "#The / operator is used for division.\n",
    "result = 10 / 3\n",
    "print(result)  # Output: 3.3333333333333335\n",
    "\n",
    "#(ii) %\n",
    "#The % operator gives the remainder of the division of the left operand by the right operand.\n",
    "remainder = 10 % 3\n",
    "print(remainder)  # Output: 1\n",
    "\n",
    "#(iii) //\n",
    "#The // operator is used for floor division. It divides the left operand by the right operand and returns the largest integer less than or equal to the result.\n",
    "result_floor = 10 // 3\n",
    "print(result_floor)  # Output: 3\n",
    "\n",
    "\n",
    "#(iv) **\n",
    "#The ** operator is used for exponentiation. It raises the left operand to the power of the right operand.\n",
    "result_power = 2 ** 3\n",
    "print(result_power)  # Output: 8\n",
    "\n",
    "\n"
   ]
  },
  {
   "cell_type": "code",
   "execution_count": null,
   "id": "18d79e7e-20b8-4270-a195-dc82e628be4c",
   "metadata": {},
   "outputs": [],
   "source": [
    "#Q4. Create a list of length 10 of your choice containing multiple types of data. Using for loop print theelement and its data type.\n",
    "my_list = [1, 'Hello', 3.14, True, [5, 6], {'key': 'value'}, None, 8, 'World', False]\n",
    "\n",
    "for element in my_list:\n",
    "    print(f\"Element: {element}, Data Type: {type(element)}\")\n"
   ]
  },
  {
   "cell_type": "code",
   "execution_count": null,
   "id": "969edfdd-4142-47af-9923-1c381eefca55",
   "metadata": {},
   "outputs": [],
   "source": [
    "#Q5. Using a while loop, verify if the number A is purely divisible by number B and if so then how many\n",
    "#times it can be divisible.\n",
    "# Input the numbers A and B\n",
    "A = int(input(\"Enter the dividend (A): \"))\n",
    "B = int(input(\"Enter the divisor (B): \"))\n",
    "\n",
    "# Initialize a counter for the number of divisions\n",
    "divisions_count = 0\n",
    "\n",
    "# Use a while loop to perform divisions until A is not divisible by B\n",
    "while A % B == 0:\n",
    "    A = A // B\n",
    "    divisions_count += 1\n",
    "\n",
    "# Print the result\n",
    "if divisions_count > 0:\n",
    "    print(f\"{A} is purely divisible by {B} and can be divided {divisions_count} times.\")\n",
    "else:\n",
    "    print(f\"{A} is not purely divisible by {B}.\")\n"
   ]
  },
  {
   "cell_type": "code",
   "execution_count": null,
   "id": "5216dfed-c5b2-4526-b610-8271dd12ac98",
   "metadata": {},
   "outputs": [],
   "source": [
    "#Q6. Create a list containing 25 int type data. Using for loop and if-else condition print if the element isdivisible by 3 or not.\n",
    "# Create a list with 25 int type data\n",
    "my_list = [i for i in range(1, 26)]\n",
    "\n",
    "# Use a for loop and if-else condition to check divisibility by 3\n",
    "for element in my_list:\n",
    "    if element % 3 == 0:\n",
    "        print(f\"{element} is divisible by 3.\")\n",
    "    else:\n",
    "        print(f\"{element} is not divisible by 3.\")\n"
   ]
  },
  {
   "cell_type": "code",
   "execution_count": null,
   "id": "1844ce6b-d832-4ca1-be94-f8f5eff414c1",
   "metadata": {},
   "outputs": [],
   "source": [
    "#Q7. What do you understand about mutable and immutable data types? Give examples for both showing\n",
    "#this property.\n",
    "# Mutable Example: List\n",
    "mutable_list = [1, 2, 3]\n",
    "print(\"Original List:\", mutable_list)\n",
    "\n",
    "# Modifying the list in place\n",
    "mutable_list.append(4)\n",
    "print(\"Modified List:\", mutable_list)\n",
    "\n",
    "# Immutable Example: Tuple\n",
    "immutable_tuple = (1, 2, 3)\n",
    "print(\"Original Tuple:\", immutable_tuple)\n",
    "\n",
    "# Creating a new tuple, as tuples are immutable\n",
    "new_tuple = immutable_tuple + (4,)\n",
    "print(\"New Tuple:\", new_tuple)\n",
    "\n"
   ]
  }
 ],
 "metadata": {
  "kernelspec": {
   "display_name": "Python 3 (ipykernel)",
   "language": "python",
   "name": "python3"
  },
  "language_info": {
   "codemirror_mode": {
    "name": "ipython",
    "version": 3
   },
   "file_extension": ".py",
   "mimetype": "text/x-python",
   "name": "python",
   "nbconvert_exporter": "python",
   "pygments_lexer": "ipython3",
   "version": "3.10.8"
  }
 },
 "nbformat": 4,
 "nbformat_minor": 5
}
