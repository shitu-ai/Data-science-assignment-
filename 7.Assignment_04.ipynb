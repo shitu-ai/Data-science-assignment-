{
 "cells": [
  {
   "cell_type": "code",
   "execution_count": null,
   "id": "ded1f761-a749-495e-bbed-743206e46d64",
   "metadata": {},
   "outputs": [],
   "source": [
    "Q1. What is Flask Framework?\n",
    "What are the advantages of Flask Framework?"
   ]
  },
  {
   "cell_type": "code",
   "execution_count": null,
   "id": "8c9dcac5-3637-45ad-95d2-4f650b78a5b9",
   "metadata": {},
   "outputs": [],
   "source": [
    "Flask is a lightweight web application framework written in Python. \n",
    "It’s designed for building web applications with minimal dependencies and offers flexibility for customization"
   ]
  },
  {
   "cell_type": "code",
   "execution_count": null,
   "id": "f2b329a9-78b7-418c-97f1-f96434feb5f6",
   "metadata": {},
   "outputs": [],
   "source": [
    "Advantages of Flask Framework:\n",
    "\n",
    "Simplicity: Flask follows a minimalist philosophy, keeping the core of the framework simple and easy to understand. This makes it a great choice for beginners or projects that don't require the complexity of larger frameworks.\n",
    "\n",
    "Flexibility: Flask provides a flexible structure that allows developers to choose the components and libraries they need for their specific project requirements. It doesn't impose strict conventions, giving developers the freedom to organize their code as they see fit.\n",
    "\n",
    "Modularity: Flask is highly modular, allowing developers to easily add or remove features as needed. Its extension ecosystem provides a wide range of third-party extensions for tasks like authentication, database integration, and more, enabling developers to extend Flask's functionality without reinventing the wheel.\n",
    "\n",
    "Easy to get started: Flask has a simple and intuitive API, making it quick and easy to get started with web development in Python. Its lightweight nature means you can set up a basic Flask application with just a few lines of code, making it ideal for prototyping and small projects.\n",
    "\n",
    "Widely adopted: Flask is one of the most popular web frameworks for Python, with a large and active community of developers. This means there are plenty of resources, tutorials, and extensions available to help you get the most out of Flask and solve any problems you encounter along the way.\n",
    "\n",
    "Well-documented: Flask has excellent documentation that covers all aspects of the framework, from basic usage to advanced topics. This makes it easy for developers to learn Flask and find answers to their questions without having to search far and wide.\n",
    "\n",
    "Overall, Flask's simplicity, flexibility, and modularity make it a powerful tool for building web applications and APIs in Python, whether you're a beginner or an experienced developer.\n",
    "\n",
    "\n",
    "\n",
    "\n",
    "\n",
    "\n"
   ]
  },
  {
   "cell_type": "code",
   "execution_count": null,
   "id": "21f4edbc-7d43-42a4-82c6-93f2e991b31f",
   "metadata": {},
   "outputs": [],
   "source": [
    "Q2. Create a simple Flask application to display ‘Hello World!!’. Attach the screenshot of the output in\n",
    "Jupyter Notebook."
   ]
  },
  {
   "cell_type": "code",
   "execution_count": null,
   "id": "b5eb522b-862b-4c2b-aee0-93becda0ebb5",
   "metadata": {},
   "outputs": [],
   "source": [
    "from flask import Flask\n",
    "from flask import request\n",
    "\n",
    "app = Flask(__name__)\n",
    "\n",
    "@app.route(\"/\")\n",
    "def hello_world():\n",
    "    return \"<h1>Hello, World!</h1>\"\n",
    "\n",
    "\n",
    "if __name__==\"__main__\":\n",
    "    app.run(host=\"0.0.0.0\")"
   ]
  },
  {
   "cell_type": "code",
   "execution_count": null,
   "id": "7b4d93c3-ba32-4885-8172-2e6d356445a3",
   "metadata": {},
   "outputs": [],
   "source": [
    "Q3. What is App routing in Flask? Why do we use app routes?"
   ]
  },
  {
   "cell_type": "code",
   "execution_count": null,
   "id": "c22cf132-d039-4d3f-bc12-042cd1659cbe",
   "metadata": {},
   "outputs": [],
   "source": [
    "App routing in Flask refers to the process of mapping URLs (Uniform Resource Locators) to specific functions within your web application. When a user navigates to a particular URL, Flask determines which function should handle the logic for that URL. Here’s why we use app routes:\n",
    "\n",
    "URL Mapping:\n",
    "App routes allow you to associate specific URLs with corresponding Python functions.\n",
    "For example, if a user visits /hello, Flask triggers the associated function to handle that route.\n",
    "Meaningful URLs:\n",
    "Modern web frameworks use more meaningful URLs to help users remember and navigate.\n",
    "Instead of cryptic paths, Flask lets you create descriptive routes (e.g., /user/profile or /products/123).\n",
    "Customization and Control:\n",
    "You can customize how different parts of your application respond to different URLs.\n",
    "Each route corresponds to a specific action or view, making your code organized and maintainable.\n",
    "Dynamic URLs:\n",
    "Flask supports dynamic URLs by using variables in the route.\n",
    "For instance, /user/<username> can handle any username dynamically.\n",
    "Variable Converters:\n",
    "You can specify variable types (e.g., integer, float, string) using converters.\n",
    "For example, /post/<int:id> accepts positive integers for the id variable.\n",
    "In summary, app routes in Flask provide a flexible way to handle different URLs and create a logical structure for your web application"
   ]
  },
  {
   "cell_type": "code",
   "execution_count": null,
   "id": "188d0b40-9291-4e09-b7f0-496cdc1360c9",
   "metadata": {},
   "outputs": [],
   "source": [
    "**App routes** in **Flask** serve several essential purposes, making them a fundamental part of web application development:\n",
    "\n",
    "1. **URL Mapping and Navigation**:\n",
    "   - App routes allow you to map specific URLs (endpoints) to corresponding Python functions (view functions).\n",
    "   - When a user visits a particular URL, Flask invokes the associated function to handle the request.\n",
    "   - This navigation system ensures that users can access different parts of your application based on the URL they enter.\n",
    "\n",
    "2. **Logical Organization**:\n",
    "   - By defining routes, you create a clear structure for your application.\n",
    "   - Each route corresponds to a specific feature or functionality (e.g., user profile, product details, login page).\n",
    "   - This organization improves code readability and maintainability.\n",
    "\n",
    "3. **Dynamic Routes and Variables**:\n",
    "   - Flask supports dynamic routes with placeholders (e.g., `<username>` or `<post_id>`).\n",
    "   - These placeholders allow you to handle variable data (e.g., user-specific pages, post details) within a single route.\n",
    "   - For example:\n",
    "     - `/user/<username>` can display a user's profile based on their username.\n",
    "     - `/post/<int:post_id>` can retrieve a specific post by its ID.\n",
    "\n",
    "4. **RESTful APIs**:\n",
    "   - App routes are crucial for building RESTful APIs.\n",
    "   - You can define routes for creating, reading, updating, and deleting resources (e.g., `/api/posts`, `/api/users`).\n",
    "\n",
    "5. **Custom Error Pages**:\n",
    "   - Flask lets you create custom error pages for specific HTTP status codes (e.g., 404 Not Found, 500 Internal Server Error).\n",
    "   - By defining error handlers, you can provide user-friendly error messages.\n",
    "\n",
    "6. **Middleware and Authentication**:\n",
    "   - Routes allow you to apply middleware (e.g., authentication checks, logging) selectively.\n",
    "   - You can secure specific routes by requiring authentication or authorization.\n",
    "\n",
    "In summary, app routes provide a powerful mechanism for handling URLs, organizing your application, and creating a seamless user experience. 🌟"
   ]
  },
  {
   "cell_type": "code",
   "execution_count": null,
   "id": "090f36ad-5b80-496e-84fa-810e6a6534a4",
   "metadata": {},
   "outputs": [],
   "source": [
    "Q4. Create a “/welcome” route to display the welcome message “Welcome to ABC Corporation” and a “/”\n",
    "route to show the following details:\n",
    "Company Name: ABC Corporation\n",
    "Location: India\n",
    "Contact Detail: 999-999-9999"
   ]
  },
  {
   "cell_type": "code",
   "execution_count": null,
   "id": "2a4f9bf8-9f72-4003-8f05-0e7451d21442",
   "metadata": {},
   "outputs": [],
   "source": [
    "from flask import Flask\n",
    "\n",
    "app=Flask(__name__)\n",
    "\n",
    "#Route for \"/welcome\"\n",
    "@app.route(\"/welcome\")\n",
    "def welcome():\n",
    "    return \"Welcome to ABC Corporation\"\n",
    "\n",
    "#Route for \"/\"\n",
    "@app.route(\"/\")\n",
    "def company_details():\n",
    "    return \"\"\"\n",
    "    Company Name: ABC Corpation\n",
    "    Location: India\n",
    "    Contact Details:999-999-999\n",
    "    \"\"\"\n",
    "if __name__ == \"__main__\":\n",
    "    app.run()"
   ]
  },
  {
   "cell_type": "code",
   "execution_count": null,
   "id": "721c9486-bc69-4776-a1e6-bb8a9f906bff",
   "metadata": {},
   "outputs": [],
   "source": [
    "Q5. What function is used in Flask for URL Building? Write a Python code to demonstrate the working of the\n",
    "url_for() function."
   ]
  },
  {
   "cell_type": "code",
   "execution_count": null,
   "id": "428d4914-b1d6-4aad-93ba-7240b762aac5",
   "metadata": {},
   "outputs": [],
   "source": [
    "In Flask, the url_for() function is used for URL building. \n",
    "It generates a URL to a specific function based on its name."
   ]
  },
  {
   "cell_type": "code",
   "execution_count": null,
   "id": "a6347cbe-4b50-4b6d-8e4b-51c9b6c40c89",
   "metadata": {},
   "outputs": [],
   "source": [
    "Here's a Python code to demonstrate the working of the url_for() function:"
   ]
  },
  {
   "cell_type": "code",
   "execution_count": null,
   "id": "e7d0f476-9583-4181-871e-e08a95f46f86",
   "metadata": {},
   "outputs": [],
   "source": [
    "from flask import Flask, url_for\n",
    "app = Flask(__name__)\n",
    "\n",
    "@app.route('/')\n",
    "def index():\n",
    "    return 'Welcome to the homepage!'\n",
    "\n",
    "@app.route('/about')\n",
    "def about():\n",
    "    return 'About Us Page'\n",
    "@app.route('/contact')\n",
    "def contact():\n",
    "    return 'Contact Us Page'\n",
    "\n",
    "if__name__ == '__main__':\n",
    "    with app.test_request_context():\n",
    "        #Generating URLs using url_for()\n",
    "        homepage_url = url_for('index')\n",
    "        about_url = url_for('about')\n",
    "        contact_url = url_for('contact')\n",
    "        \n",
    "        #Printing thr generated URls\n",
    "        print(\"Homepage URL:\",homepage_url)\n",
    "        print(\"About URL:\", about_url)\n",
    "        print(\"Connect URL:\",contact_url)"
   ]
  },
  {
   "cell_type": "code",
   "execution_count": null,
   "id": "f814b053-0b30-43f3-ad3d-d907bc180eab",
   "metadata": {},
   "outputs": [],
   "source": []
  }
 ],
 "metadata": {
  "kernelspec": {
   "display_name": "Python 3 (ipykernel)",
   "language": "python",
   "name": "python3"
  },
  "language_info": {
   "codemirror_mode": {
    "name": "ipython",
    "version": 3
   },
   "file_extension": ".py",
   "mimetype": "text/x-python",
   "name": "python",
   "nbconvert_exporter": "python",
   "pygments_lexer": "ipython3",
   "version": "3.10.8"
  }
 },
 "nbformat": 4,
 "nbformat_minor": 5
}
