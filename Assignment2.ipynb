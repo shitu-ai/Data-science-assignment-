{
 "cells": [
  {
   "cell_type": "code",
   "execution_count": null,
   "id": "c4f5422f-beba-428a-9067-1c971a54da96",
   "metadata": {},
   "outputs": [],
   "source": [
    "Q1. How do you comment code in Python? What are the different types of comments?"
   ]
  },
  {
   "cell_type": "code",
   "execution_count": null,
   "id": "afab3a13-774e-4b73-8c2e-b1c9d91659e3",
   "metadata": {},
   "outputs": [],
   "source": [
    "Answer1. you can write comments to document your code or temporarily disable certain parts of it. \n",
    "There are two main types of comments:\n",
    "    (A)Single-line comments: Single-line comments start with the \"# \"character and continue until the end of the line. \n",
    "    Anything after the' #' on that line is considered a comment.\n",
    "    \n",
    " "
   ]
  },
  {
   "cell_type": "code",
   "execution_count": 1,
   "id": "c52341b0-da98-49d9-88f8-1459956feed4",
   "metadata": {},
   "outputs": [
    {
     "name": "stdout",
     "output_type": "stream",
     "text": [
      "Hello, world!\n"
     ]
    }
   ],
   "source": [
    "# This is a single-line comment\n",
    "print(\"Hello, world!\")  # This is also a comment"
   ]
  },
  {
   "cell_type": "code",
   "execution_count": null,
   "id": "d05b07c6-48e2-4287-8548-b6f9e2fd16ef",
   "metadata": {},
   "outputs": [],
   "source": [
    "(B)Multi-line comments or block comments:\n",
    "     Python doesn't' have a built-in syntax for multi-line comments like some other programming languages do. \n",
    "    However, you can use triple quotes (\"\"\" or ''') to create multi-line strings, and these are often used as multi-line comments. \n",
    "    Python ignores these strings if they are not assigned to a variable or used in any other way.\n",
    "    while the triple-quoted string is commonly used for multi-line comments,\n",
    "    it's not considered a true comment by Python; \n",
    "    it's treated as a string literal. \n",
    "    Therefore, it will still take up memory when the program runs."
   ]
  },
  {
   "cell_type": "code",
   "execution_count": 2,
   "id": "26caf2dc-c08c-4a49-985b-6a023de339fd",
   "metadata": {},
   "outputs": [
    {
     "name": "stdout",
     "output_type": "stream",
     "text": [
      "Hello, world!\n"
     ]
    }
   ],
   "source": [
    "\"\"\"\n",
    "This is a multi-line comment.\n",
    "It spans across multiple lines.\n",
    "It's actually a multi-line string, but commonly used for comments.\n",
    "\"\"\"\n",
    "print(\"Hello, world!\")\n"
   ]
  },
  {
   "cell_type": "code",
   "execution_count": null,
   "id": "73ee8881-7bc9-417e-8259-c1a9cc4194be",
   "metadata": {},
   "outputs": [],
   "source": [
    "Q2. What are variables in Python? How do you declare and assign values to variables?"
   ]
  },
  {
   "cell_type": "code",
   "execution_count": null,
   "id": "94678535-f7b4-4444-a21f-2d88639310b0",
   "metadata": {},
   "outputs": [],
   "source": [
    "Answer2.In Python, variables are used to store data values. \n",
    "They act as containers for storing information that can be referenced and manipulated throughout the program.\n",
    "Variables can hold various types of data such as numbers, strings, lists, dictionaries, etc.\n",
    "\n",
    "To declare and assign values to variables in Python,\n",
    "you simply use the variable name followed by an assignment operator (=) and the value you want to assign to it \n",
    "\n",
    "Rules for Python Variables:Variable names must follow these rules:\n",
    "Start with a letter or an underscore (_).\n",
    "Cannot start with a number.\n",
    "Can contain alphanumeric characters and underscores (A-z, 0-9, and _).\n",
    "Are case-sensitive (e.g., name, Name, and NAME are distinct variables).\n",
    "Avoid using reserved words (keywords) as variable names."
   ]
  },
  {
   "cell_type": "code",
   "execution_count": 4,
   "id": "1791e4c6-f270-4164-9363-578f91e98271",
   "metadata": {},
   "outputs": [],
   "source": [
    "geeks = 1\n",
    "Geeks = 2\n",
    "Ge_e_ks = 5\n",
    "_geeks = 6\n",
    "geeks_ = 7\n",
    "_GEEKS_ = 8\n"
   ]
  },
  {
   "cell_type": "code",
   "execution_count": 5,
   "id": "3331586d-2bb6-4dd0-bc80-85bd98f144ca",
   "metadata": {},
   "outputs": [
    {
     "name": "stdout",
     "output_type": "stream",
     "text": [
      "Before declare: 100\n",
      "After re-declare: 120.3\n"
     ]
    }
   ],
   "source": [
    "#You can re-declare a variable after its initial assignment:\n",
    "Number = 100\n",
    "print(\"Before declare:\", Number)\n",
    "Number = 120.3\n",
    "print(\"After re-declare:\", Number)\n"
   ]
  },
  {
   "cell_type": "code",
   "execution_count": 6,
   "id": "f1ea1c04-a7d4-4f0b-9c5c-2f5a2fdd2fc9",
   "metadata": {},
   "outputs": [],
   "source": [
    "#You can assign different values in a single line using commas:\n",
    "x, y, z = 5, \"John\", True\n",
    "\n",
    "#Here, x is an integer, y is a string, and z is a boolean."
   ]
  },
  {
   "cell_type": "code",
   "execution_count": 8,
   "id": "afa842c5-f557-4585-9ce6-ca12856398f1",
   "metadata": {},
   "outputs": [
    {
     "data": {
      "text/plain": [
       "'John'"
      ]
     },
     "execution_count": 8,
     "metadata": {},
     "output_type": "execute_result"
    }
   ],
   "source": [
    "y"
   ]
  },
  {
   "cell_type": "code",
   "execution_count": 9,
   "id": "c32643f2-90a6-49c5-bc3b-9b1fdbfc3123",
   "metadata": {},
   "outputs": [],
   "source": [
    "#Assign different types of values to variables:Python\n",
    "age = 45  # An integer\n",
    "salary = 1456.8  # A floating-point number\n",
    "name = \"John\"  # A string\n"
   ]
  },
  {
   "cell_type": "code",
   "execution_count": null,
   "id": "1590dd32-5f13-4b02-9199-1b9e1c505fe6",
   "metadata": {},
   "outputs": [],
   "source": [
    "Q3. How do you convert one data type to another in Python?"
   ]
  },
  {
   "cell_type": "code",
   "execution_count": 11,
   "id": "3c790a14-31dc-46b1-8442-a363d724a4a1",
   "metadata": {},
   "outputs": [
    {
     "name": "stdout",
     "output_type": "stream",
     "text": [
      "x is of type: <class 'int'>\n",
      "y is of type: <class 'float'>\n",
      "20.6\n",
      "z is of type: <class 'float'>\n"
     ]
    }
   ],
   "source": [
    "''' In Python, you can convert one data type to another using built-in functions or constructors specific to each data type. \n",
    "Here are some common methods for type conversion:'''\n",
    "'''\n",
    "1.Implicit Type Conversion:\n",
    "    In implicit type conversion, Python automatically converts one data type to another without user intervention.     '''\n",
    "x = 10\n",
    "print(\"x is of type:\", type(x))  # Output: x is of type: <class 'int'>\n",
    "\n",
    "y = 10.6\n",
    "print(\"y is of type:\", type(y))  # Output: y is of type: <class 'float'>\n",
    "\n",
    "z = x + y\n",
    "print(z)  # Output: 20.6\n",
    "print(\"z is of type:\", type(z))  # Output: z is of type: <class 'float'>\n",
    "\n",
    "#z gets automatically converted to a float due to type promotion during addition."
   ]
  },
  {
   "cell_type": "code",
   "execution_count": 15,
   "id": "01db6ad0-c32c-4232-baef-57ca65d28cd7",
   "metadata": {},
   "outputs": [
    {
     "name": "stdout",
     "output_type": "stream",
     "text": [
      "After converting to integer base 2: 18\n",
      "After converting to float: 10010.0\n",
      "Converts  float to string: 10010.0\n"
     ]
    },
    {
     "data": {
      "text/plain": [
       "str"
      ]
     },
     "execution_count": 15,
     "metadata": {},
     "output_type": "execute_result"
    }
   ],
   "source": [
    "'''2.Explicit type conversion (Type casting): \n",
    "You can explicitly convert one data type to another using constructor functions like int(), float(), str(), etc.'''\n",
    "\n",
    "s = \"10010\"\n",
    "c = int(s, 2)  # Converts binary string to integer\n",
    "print(\"After converting to integer base 2:\", c)  # Output: 18\n",
    "\n",
    "e = float(s)  # Converts string to float\n",
    "print(\"After converting to float:\", e)  # Output: 10010.0\n",
    "f=str(e) # Converts  float to string\n",
    "print(\"Converts  float to string:\", f)  # Output: 10010.0\n",
    "type(f)\n"
   ]
  },
  {
   "cell_type": "code",
   "execution_count": 16,
   "id": "40e3c582-ce0c-484a-ac01-845434333770",
   "metadata": {},
   "outputs": [
    {
     "name": "stdout",
     "output_type": "stream",
     "text": [
      "100\n"
     ]
    }
   ],
   "source": [
    "'''Using constructor functions: Certain data types have constructor functions that can convert data from other types.'''\n",
    "# Using constructor functions: string to integer\n",
    "num_str = \"100\"\n",
    "num_int = int(num_str)\n",
    "print(num_int)  # Output: 100\n",
    "\n",
    "\n"
   ]
  },
  {
   "cell_type": "code",
   "execution_count": 22,
   "id": "eefb4624-6f6a-454b-977f-6bda7a84f68b",
   "metadata": {},
   "outputs": [
    {
     "name": "stdout",
     "output_type": "stream",
     "text": [
      "42\n"
     ]
    },
    {
     "data": {
      "text/plain": [
       "str"
      ]
     },
     "execution_count": 22,
     "metadata": {},
     "output_type": "execute_result"
    }
   ],
   "source": [
    "'''Using format() method: You can also use the format() method of strings to convert other data types into strings.'''\n",
    "# Using format() method: integer to string\n",
    "num = 42\n",
    "\n",
    "num_str = \"{}\".format(num)\n",
    "print(num_str)  # Output: '42'\n",
    "\n",
    "type(num_str)\n"
   ]
  },
  {
   "cell_type": "code",
   "execution_count": 23,
   "id": "99dd273c-3e7b-41d5-bb7e-f67ac1450f7b",
   "metadata": {},
   "outputs": [
    {
     "name": "stdout",
     "output_type": "stream",
     "text": [
      "100\n"
     ]
    }
   ],
   "source": [
    "'''Using eval() function: This function evaluates the specified expression and returns the result.'''\n",
    "# Using eval() function: string to integer\n",
    "num_str = \"100\"\n",
    "num_int = eval(num_str)\n",
    "print(num_int)  # Output: 100\n"
   ]
  },
  {
   "cell_type": "code",
   "execution_count": null,
   "id": "b3ec2650-3b26-491a-a630-4d81230b9380",
   "metadata": {},
   "outputs": [],
   "source": [
    "Q4. How do you write and execute a Python script from the command line?\n",
    " Running Python scripts from the command line is essential for executing your code and accomplishing tasks. Let’s explore how to do it:\n",
    "\n",
    "Writing a Python Script:\n",
    "A Python script or program is a file containing executable Python code.\n",
    "Create a new text file with the .py extension (e.g., my_script.py).\n",
    "Write your Python code within this file. For example\n",
    "# my_script.py\n",
    "print(\"Hello, World!\")\n",
    "\n",
    "Executing Python Scripts from the Command Line:\n",
    "Open your terminal or command prompt.\n",
    "Navigate to the directory where your Python script is located.\n",
    "Use the python command followed by the script’s filename to run it\n",
    "python my_script.py\n",
    "\n",
    "After pressing Enter, you’ll see the output of your script on the screen:Hello, World!\n"
   ]
  },
  {
   "cell_type": "code",
   "execution_count": 24,
   "id": "4352fea1-d0d6-4a3a-b806-b167726ca378",
   "metadata": {},
   "outputs": [
    {
     "name": "stdout",
     "output_type": "stream",
     "text": [
      "[2, 3]\n"
     ]
    }
   ],
   "source": [
    "'''Q5.Given a list my_list = [1, 2, 3, 4, 5], write the code to slice the list and obtain the sub-list [2, 3].'''\n",
    "#Answer. To obtain the sub-list [2, 3] from the list my_list = [1, 2, 3, 4, 5], you can use slicing. \n",
    "my_list = [1, 2, 3, 4, 5]\n",
    "\n",
    "# Slice the list to obtain the sub-list [2, 3]\n",
    "sub_list = my_list[1:3]\n",
    "\n",
    "print(sub_list)  # Output: [2, 3]\n"
   ]
  },
  {
   "cell_type": "code",
   "execution_count": null,
   "id": "4ddf9515-96c4-47ab-9aeb-3cfa6bb157f7",
   "metadata": {},
   "outputs": [],
   "source": [
    "Q6. What is a complex number in mathematics, and how is it represented in Python?\n",
    "'''Answer. In mathematics, a complex number is a number that consists of both a real part and an imaginary part.\n",
    "It is often used in mathematical and scientific computations where real numbers alone may not suffice. \n",
    "Geometrically, the phase of a complex number represents the angle between the positive real axis and the vector representing the complex number.\n",
    "Let’s explore how complex numbers are represented and manipulated in Python:'''\n",
    "\n",
    " ''' Representation in Python:\n",
    "In Python, a complex number is represented as x + yi, where x is the real part and y is the imaginary part.\n",
    "Python provides the built-in complex() function to create complex numbers. '''\n",
    "   \n",
    "    "
   ]
  },
  {
   "cell_type": "code",
   "execution_count": 27,
   "id": "983f0f5d-c080-4f8b-b491-f499bdfc6190",
   "metadata": {},
   "outputs": [
    {
     "name": "stdout",
     "output_type": "stream",
     "text": [
      "The real part of the complex number is: 5.0\n",
      "The imaginary part of the complex number is: 3.0\n"
     ]
    }
   ],
   "source": [
    " #Initializing real numbers\n",
    "x = 5\n",
    "y = 3\n",
    "\n",
    "# Converting x and y into a complex number\n",
    "z = complex(x, y)\n",
    "\n",
    "# Printing real and imaginary parts of the complex number\n",
    "print(\"The real part of the complex number is:\", z.real)\n",
    "print(\"The imaginary part of the complex number is:\", z.imag)\n"
   ]
  },
  {
   "cell_type": "code",
   "execution_count": 28,
   "id": "da4dd629-aa6a-4de0-9ab5-06939af89d02",
   "metadata": {},
   "outputs": [
    {
     "name": "stdout",
     "output_type": "stream",
     "text": [
      "Real part: 3.0\n",
      "Imaginary part: 4.0\n",
      "Addition: (5+9j)\n",
      "Subtraction: (1-1j)\n",
      "Multiplication: (-14+23j)\n",
      "Division: (0.896551724137931-0.24137931034482757j)\n"
     ]
    }
   ],
   "source": [
    "# Creating complex numbers\n",
    "z1 = complex(3, 4)  # 3 + 4i\n",
    "z2 = 2 + 5j        # 2 + 5i\n",
    "\n",
    "# Accessing real and imaginary parts\n",
    "real_part = z1.real\n",
    "imaginary_part = z1.imag\n",
    "\n",
    "# Addition, subtraction, multiplication, division\n",
    "addition = z1 + z2\n",
    "subtraction = z1 - z2\n",
    "multiplication = z1 * z2\n",
    "division = z1 / z2\n",
    "\n",
    "print(\"Real part:\", real_part)\n",
    "print(\"Imaginary part:\", imaginary_part)\n",
    "print(\"Addition:\", addition)\n",
    "print(\"Subtraction:\", subtraction)\n",
    "print(\"Multiplication:\", multiplication)\n",
    "print(\"Division:\", division)\n"
   ]
  },
  {
   "cell_type": "code",
   "execution_count": 29,
   "id": "4e02ddf8-a848-4c97-b0a6-c477d5fae7e4",
   "metadata": {},
   "outputs": [
    {
     "name": "stdout",
     "output_type": "stream",
     "text": [
      "Age: 25\n"
     ]
    }
   ],
   "source": [
    "'''Q7. What is the correct way to declare a variable named age and assign the value 25 to it?\n",
    "Answer.To declare a variable named age and assign the value 25 to it in Python, \n",
    "you simply use the variable name followed by an equal sign and then the value you want to assign. \n",
    "declare a variable named age and assign the value 25 to it '''\n",
    "\n",
    "# Declare a variable named \"age\" and assign the value 25 to it\n",
    "age = 25\n",
    "\n",
    "# Print the value of the variable\n",
    "print(\"Age:\", age)\n"
   ]
  },
  {
   "cell_type": "code",
   "execution_count": 30,
   "id": "a2f1e0c6-cf5e-478c-b797-87f96558887c",
   "metadata": {},
   "outputs": [
    {
     "name": "stdout",
     "output_type": "stream",
     "text": [
      "Price: 9.99\n"
     ]
    }
   ],
   "source": [
    "''' Q8. Declare a variable named price and assign the value 9.99 to it. What data type does this variable\n",
    "belong to?''' \n",
    "#Answer. \n",
    "#declare a variable named price and assign the value 9.99 to it\n",
    "#Certainly! The variable named price has been declared and assigned the value 9.99. \n",
    "#In Python, this variable belongs to the float data type. Floats represent decimal numbers (numbers with fractional parts)\n",
    "\n",
    "# Declare a variable named \"price\" and assign the value 9.99 to it\n",
    "price = 9.99\n",
    "\n",
    "# Print the value of the variable\n",
    "print(\"Price:\", price)\n"
   ]
  },
  {
   "cell_type": "code",
   "execution_count": 31,
   "id": "f6d32f34-4b0d-4895-9f94-c1cafb15dad5",
   "metadata": {},
   "outputs": [
    {
     "name": "stdout",
     "output_type": "stream",
     "text": [
      "Name: John Doe\n"
     ]
    }
   ],
   "source": [
    "''' 'Q9. Create a variable named name and assign your full name to it as a string. How would you print the\n",
    "value of this variable?'''\n",
    "Answer. \n",
    "To create a variable named name and assign your full name to it as a string & To print the value of this variable, you can use the print() function:\n",
    "# Create a variable named \"name\" and assign your full name to it as a string\n",
    "name = \"John Doe\"\n",
    "\n",
    "# Print the value of the variable\n",
    "print(\"Name:\", name)\n"
   ]
  },
  {
   "cell_type": "code",
   "execution_count": null,
   "id": "054a2f4d-70ef-4b50-9511-bcabbc46b513",
   "metadata": {},
   "outputs": [],
   "source": [
    "'''  Q10. Given the string \"Hello, World!\", extract the substring \"World\".''' \n",
    "Answer :\n",
    "There are several methods in Python to extract the substring \"World\" from the string \"Hello, World!\". Here are some of them:\n",
    "\n",
    "String slicing: substring = string[7:12]\n",
    "Split and indexing: substring = string.split(\", \")[1]\n",
    "Using find() and string slicing: substring = string[string.find(\"World\"):].split()[0]\n",
    "Regular expression match: substring = re.search(r'World', string).group()\n",
    "Using index() and string slicing: substring = string[string.index(\"World\"):string.index(\"World\")+len(\"World\")]\n",
    "Using partition(): _, _, substring = string.partition(\", \")\n",
    "Using rsplit(): substring = string.rsplit(\", \", 1)[1]\n",
    "Using negative indexing with split(): substring = string.split()[-1][:-1]\n",
    "So, there are at least 8 methods in Python to extract the substring \"World\" from the given string.\n",
    "    \n"
   ]
  },
  {
   "cell_type": "code",
   "execution_count": 35,
   "id": "a2e087d3-f5b1-47b0-be90-f65ab0803134",
   "metadata": {},
   "outputs": [
    {
     "name": "stdout",
     "output_type": "stream",
     "text": [
      "Extracted substring: World\n"
     ]
    }
   ],
   "source": [
    "# Given string\n",
    "original_string = \"Hello, World!\"\n",
    "\n",
    "# Extract the substring \"World\"\n",
    "substring = original_string[7:12]\n",
    "\n",
    "# Print the extracted substring\n",
    "print(\"Extracted substring:\", substring)\n"
   ]
  },
  {
   "cell_type": "code",
   "execution_count": 38,
   "id": "1e17f1b5-f818-4413-be86-cea2ec597d84",
   "metadata": {},
   "outputs": [
    {
     "name": "stdout",
     "output_type": "stream",
     "text": [
      "Am I currently a student? True\n",
      " I Am not  currently a student? False\n"
     ]
    }
   ],
   "source": [
    "#Q11. Create a variable named \"is_student\" and assign it a boolean value indicating whether you are\n",
    "#currently a student or not.\n",
    " #Answer: \n",
    " #I’ve created a variable named is_student and assigned it a boolean value of True to indicate that I am currently a student.\n",
    "# Create a variable named \"is_student\" and assign a boolean value (True or False)\n",
    "is_student = True\n",
    "\n",
    "# Print the value of the variable\n",
    "print(\"Am I currently a student?\", is_student)\n",
    "\n",
    "is_student = False\n",
    "# Print the value of the variable\n",
    "print(\" I Am not  currently a student?\", is_student)\n"
   ]
  },
  {
   "cell_type": "code",
   "execution_count": null,
   "id": "d0f983fc-8255-4e14-8e08-4479607667b8",
   "metadata": {},
   "outputs": [],
   "source": []
  }
 ],
 "metadata": {
  "kernelspec": {
   "display_name": "Python 3 (ipykernel)",
   "language": "python",
   "name": "python3"
  },
  "language_info": {
   "codemirror_mode": {
    "name": "ipython",
    "version": 3
   },
   "file_extension": ".py",
   "mimetype": "text/x-python",
   "name": "python",
   "nbconvert_exporter": "python",
   "pygments_lexer": "ipython3",
   "version": "3.10.8"
  }
 },
 "nbformat": 4,
 "nbformat_minor": 5
}
