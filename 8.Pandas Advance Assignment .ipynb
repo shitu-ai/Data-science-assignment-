{
 "cells": [
  {
   "cell_type": "code",
   "execution_count": null,
   "id": "7780c3eb-30dd-4a54-be4e-0f782dc10135",
   "metadata": {},
   "outputs": [],
   "source": [
    "Pandas Advance-1"
   ]
  },
  {
   "cell_type": "code",
   "execution_count": null,
   "id": "82fbf931-d6c5-415d-a7f0-66d7809ed80b",
   "metadata": {},
   "outputs": [],
   "source": [
    "Q1. List any five functions of the pandas library with execution."
   ]
  },
  {
   "cell_type": "code",
   "execution_count": null,
   "id": "8c74ed64-69c4-4b96-a33a-b641277ab44f",
   "metadata": {},
   "outputs": [],
   "source": [
    "1.read_csv(): This function is used to read data from a CSV file into a pandas DataFrame."
   ]
  },
  {
   "cell_type": "code",
   "execution_count": null,
   "id": "7729771b-24f0-40f6-97a8-2899d4cdca49",
   "metadata": {},
   "outputs": [],
   "source": [
    "import pandas as pd\n",
    "#Read a CSV file into a DataFrame\n",
    "df=pd.read_csv('data.csv')\n",
    "print(df.head())"
   ]
  },
  {
   "cell_type": "code",
   "execution_count": null,
   "id": "dc206442-3a43-4364-a810-d2eafb81f6af",
   "metadata": {},
   "outputs": [],
   "source": [
    "2.head(): This function is used to display the first few rows of a DataFrame. \n",
    "By default, it displays the first 5 rows.\n",
    "\n",
    "# Display the first few rows of the DataFrame\n",
    "print(df.head())"
   ]
  },
  {
   "cell_type": "code",
   "execution_count": null,
   "id": "cc0c6e39-c320-4f6d-b857-3cb4a6804918",
   "metadata": {},
   "outputs": [],
   "source": [
    "3.describe(): This function generates descriptive statistics of the DataFrame like count, mean, standard deviation, etc."
   ]
  },
  {
   "cell_type": "code",
   "execution_count": null,
   "id": "75eecc99-cccd-490f-bd87-7c5a4cc5971b",
   "metadata": {},
   "outputs": [],
   "source": [
    "# Generate descriptive statistics\n",
    "print(df.describe())\n"
   ]
  },
  {
   "cell_type": "code",
   "execution_count": null,
   "id": "4414c02c-6a92-426b-8cdf-447b9d4068e1",
   "metadata": {},
   "outputs": [],
   "source": [
    "4.info(): This function provides a concise summary of a DataFrame including the data types of each column and memory usage.\n",
    "\n",
    "# Display DataFrame info\n",
    "print(df.info())\n"
   ]
  },
  {
   "cell_type": "code",
   "execution_count": null,
   "id": "4d03a094-0ef7-4937-9e32-7b6235210d14",
   "metadata": {},
   "outputs": [],
   "source": [
    "5.groupby(): This function is used to split the DataFrame into groups based on some criteria and then applies a function to each group separately.\n",
    "\n",
    "\n",
    "# Group data by a specific column\n",
    "grouped_data = df.groupby('column_name')\n",
    "print(grouped_data.mean())\n"
   ]
  },
  {
   "cell_type": "code",
   "execution_count": null,
   "id": "232dcdcb-3c7f-40d2-90c7-464a16c0b032",
   "metadata": {},
   "outputs": [],
   "source": [
    "Q2. Given a Pandas DataFrame df with columns 'A', 'B', and 'C', write a Python function to re-index the\n",
    "DataFrame with a new index that starts from 1 and increments by 2 for each row."
   ]
  },
  {
   "cell_type": "code",
   "execution_count": 8,
   "id": "ca7ed09b-b0ed-4965-a3d0-9965b8ca84d2",
   "metadata": {},
   "outputs": [
    {
     "name": "stdout",
     "output_type": "stream",
     "text": [
      "Original DataFrame:\n",
      "    A   B    C\n",
      "0  10  50   90\n",
      "1  20  60  100\n",
      "2  30  70  110\n",
      "3  40  80  120\n",
      "4  40  50   60\n",
      "5  50  60   70\n",
      "6  60  70   80\n",
      "7  70  80   90\n",
      "\n",
      "DataFrame with new index:\n",
      "     A   B    C\n",
      "1   10  50   90\n",
      "3   20  60  100\n",
      "5   30  70  110\n",
      "7   40  80  120\n",
      "9   40  50   60\n",
      "11  50  60   70\n",
      "13  60  70   80\n",
      "15  70  80   90\n"
     ]
    },
    {
     "name": "stderr",
     "output_type": "stream",
     "text": [
      "/tmp/ipykernel_3196/1601086273.py:12: FutureWarning: The frame.append method is deprecated and will be removed from pandas in a future version. Use pandas.concat instead.\n",
      "  df = df.append({'A': i * 10, 'B': i * 10 + 10, 'C': i * 10 + 20}, ignore_index=True)\n",
      "/tmp/ipykernel_3196/1601086273.py:12: FutureWarning: The frame.append method is deprecated and will be removed from pandas in a future version. Use pandas.concat instead.\n",
      "  df = df.append({'A': i * 10, 'B': i * 10 + 10, 'C': i * 10 + 20}, ignore_index=True)\n",
      "/tmp/ipykernel_3196/1601086273.py:12: FutureWarning: The frame.append method is deprecated and will be removed from pandas in a future version. Use pandas.concat instead.\n",
      "  df = df.append({'A': i * 10, 'B': i * 10 + 10, 'C': i * 10 + 20}, ignore_index=True)\n",
      "/tmp/ipykernel_3196/1601086273.py:12: FutureWarning: The frame.append method is deprecated and will be removed from pandas in a future version. Use pandas.concat instead.\n",
      "  df = df.append({'A': i * 10, 'B': i * 10 + 10, 'C': i * 10 + 20}, ignore_index=True)\n"
     ]
    }
   ],
   "source": [
    "import pandas as pd\n",
    "\n",
    "# Create a sample DataFrame\n",
    "df = pd.DataFrame({\n",
    "    'A': [10, 20, 30, 40],\n",
    "    'B': [50, 60, 70, 80],\n",
    "    'C': [90, 100, 110, 120]\n",
    "})\n",
    "\n",
    "# Add some additional rows to make it a tough example\n",
    "for i in range(4, 8):\n",
    "    df = df.append({'A': i * 10, 'B': i * 10 + 10, 'C': i * 10 + 20}, ignore_index=True)\n",
    "\n",
    "# Print the original DataFrame\n",
    "print(\"Original DataFrame:\")\n",
    "print(df)\n",
    "\n",
    "def reindex_dataframe(df):\n",
    "    # Reset the index and drop the existing index\n",
    "    df.reset_index(drop=True, inplace=True)\n",
    "    \n",
    "    # Create a new index starting from 1 and incrementing by 2 for each row\n",
    "    new_index = pd.Series(range(1, len(df) * 2, 2))\n",
    "    \n",
    "    # Assign the new index to the DataFrame\n",
    "    df.index = new_index\n",
    "    \n",
    "    return df\n",
    "\n",
    "# Reindex the DataFrame\n",
    "df_reindexed = reindex_dataframe(df)\n",
    "print(\"\\nDataFrame with new index:\")\n",
    "print(df_reindexed)\n"
   ]
  },
  {
   "cell_type": "code",
   "execution_count": 4,
   "id": "4f21e0e8-f359-47b8-aacd-d900ad61cf1e",
   "metadata": {},
   "outputs": [
    {
     "data": {
      "text/html": [
       "<div>\n",
       "<style scoped>\n",
       "    .dataframe tbody tr th:only-of-type {\n",
       "        vertical-align: middle;\n",
       "    }\n",
       "\n",
       "    .dataframe tbody tr th {\n",
       "        vertical-align: top;\n",
       "    }\n",
       "\n",
       "    .dataframe thead th {\n",
       "        text-align: right;\n",
       "    }\n",
       "</style>\n",
       "<table border=\"1\" class=\"dataframe\">\n",
       "  <thead>\n",
       "    <tr style=\"text-align: right;\">\n",
       "      <th></th>\n",
       "      <th>A</th>\n",
       "      <th>B</th>\n",
       "      <th>C</th>\n",
       "    </tr>\n",
       "  </thead>\n",
       "  <tbody>\n",
       "    <tr>\n",
       "      <th>0</th>\n",
       "      <td>10</td>\n",
       "      <td>50</td>\n",
       "      <td>90</td>\n",
       "    </tr>\n",
       "    <tr>\n",
       "      <th>1</th>\n",
       "      <td>20</td>\n",
       "      <td>60</td>\n",
       "      <td>100</td>\n",
       "    </tr>\n",
       "    <tr>\n",
       "      <th>2</th>\n",
       "      <td>30</td>\n",
       "      <td>70</td>\n",
       "      <td>110</td>\n",
       "    </tr>\n",
       "    <tr>\n",
       "      <th>3</th>\n",
       "      <td>40</td>\n",
       "      <td>80</td>\n",
       "      <td>120</td>\n",
       "    </tr>\n",
       "  </tbody>\n",
       "</table>\n",
       "</div>"
      ],
      "text/plain": [
       "    A   B    C\n",
       "0  10  50   90\n",
       "1  20  60  100\n",
       "2  30  70  110\n",
       "3  40  80  120"
      ]
     },
     "execution_count": 4,
     "metadata": {},
     "output_type": "execute_result"
    }
   ],
   "source": [
    "df"
   ]
  },
  {
   "cell_type": "code",
   "execution_count": null,
   "id": "eabc0e97-ac19-4c1e-acf9-7db690f33ffc",
   "metadata": {},
   "outputs": [],
   "source": [
    "Q3. You have a Pandas DataFrame df with a column named 'Values'. Write a Python function that\n",
    "iterates over the DataFrame and calculates the sum of the first three values in the 'Values' column. The\n",
    "function should print the sum to the console.\n",
    "For example, if the 'Values' column of df contains the values [10, 20, 30, 40, 50], your function should\n",
    "calculate and print the sum of the first three values, which is 60."
   ]
  },
  {
   "cell_type": "code",
   "execution_count": 15,
   "id": "fdf88369-c141-4de3-b35b-414ec4591f08",
   "metadata": {},
   "outputs": [
    {
     "name": "stdout",
     "output_type": "stream",
     "text": [
      "The sum of the first three values in the 'Values'column is :60\n"
     ]
    }
   ],
   "source": [
    "import pandas as pd\n",
    "#Assuming you have a DataFrame named 'df' with a column 'Values' containg the values[10,20,30,40,50]\n",
    "def calculate_sum_of_first_three_values(df):\n",
    "    #Get the first three values from the 'Values' column\n",
    "    first_three_values = df['Values'][:3]\n",
    "    \n",
    "    #Calculate the sum\n",
    "    total_sum = first_three_values.sum()\n",
    "    \n",
    "    #print the result\n",
    "    print(f\"The sum of the first three values in the 'Values'column is :{total_sum}\")\n",
    "    \n",
    "#example usage\n",
    "df = pd.DataFrame({'Values':[10,20,30,40,50]})\n",
    "calculate_sum_of_first_three_values(df)"
   ]
  },
  {
   "cell_type": "code",
   "execution_count": null,
   "id": "86770da9-0260-4550-8bb0-5199619c14d8",
   "metadata": {},
   "outputs": [],
   "source": [
    "Q4. Given a Pandas DataFrame df with a column 'Text', write a Python function to create a new column\n",
    "'Word_Count' that contains the number of words in each row of the 'Text' column."
   ]
  },
  {
   "cell_type": "code",
   "execution_count": 17,
   "id": "7e4760dc-e2c3-4538-aaa3-509c0b05a07b",
   "metadata": {},
   "outputs": [
    {
     "name": "stdout",
     "output_type": "stream",
     "text": [
      "                                               Text  Word_Count\n",
      "0                            This is the first row.           5\n",
      "1            Her is the second row with more words.           8\n",
      "2                                        Short row.           2\n",
      "3  Another example row for testing the words count.           8\n"
     ]
    }
   ],
   "source": [
    "import pandas as pd\n",
    "\n",
    "def add_word_count_column(df):\n",
    "    #Check if 'Text' column exits in the DataFrame\n",
    "    if 'Text' not in df.columns:\n",
    "        print(\"Error : 'Text' column not found in the DataFrame.\")\n",
    "        return\n",
    "    #Create 'Word_count' column by applying a lambda function to count words\n",
    "    df['Word_Count'] = df['Text'].apply(lambda x:len(str(x).split()))\n",
    "    return df\n",
    "#Example usage \n",
    "#Assuming df is your existing DataFrame with a column named 'Text'\n",
    "df = pd.DataFrame({\n",
    "    'Text':[\n",
    "        'This is the first row.',\n",
    "        'Her is the second row with more words.',\n",
    "        'Short row.',\n",
    "        'Another example row for testing the words count.'\n",
    "    ]\n",
    "})\n",
    "#Call the function\n",
    "df = add_word_count_column(df)\n",
    "print(df)\n"
   ]
  },
  {
   "cell_type": "code",
   "execution_count": null,
   "id": "94b223f0-9c78-440c-beb1-be46b5384d73",
   "metadata": {},
   "outputs": [],
   "source": [
    "Q5. How are DataFrame.size() and DataFrame.shape() different?"
   ]
  },
  {
   "cell_type": "code",
   "execution_count": null,
   "id": "95ccb7dd-b1d3-455c-b066-ba11ac63fbc0",
   "metadata": {},
   "outputs": [],
   "source": [
    "DataFrame.size:\n",
    "\n",
    "Definition: The size attribute returns the total number of elements in the DataFrame.\n",
    "Calculation: It is calculated as the number of rows multiplied by the number of columns.\n",
    "Type: Returns an integer."
   ]
  },
  {
   "cell_type": "code",
   "execution_count": 18,
   "id": "396be0db-335e-4ecf-935a-cea5327eb1e4",
   "metadata": {},
   "outputs": [
    {
     "name": "stdout",
     "output_type": "stream",
     "text": [
      "9\n"
     ]
    }
   ],
   "source": [
    "import pandas as pd\n",
    "\n",
    "df = pd.DataFrame({\n",
    "    'A': [1, 2, 3],\n",
    "    'B': [4, 5, 6],\n",
    "    'C': [7, 8, 9]\n",
    "})\n",
    "\n",
    "print(df.size)\n"
   ]
  },
  {
   "cell_type": "code",
   "execution_count": null,
   "id": "55c9cbd3-7b28-4666-989a-f084752aee6b",
   "metadata": {},
   "outputs": [],
   "source": [
    "DataFrame.shape:\n",
    "\n",
    "Definition: The shape attribute returns a tuple representing the dimensions of the DataFrame.\n",
    "Content: The tuple contains two values - the number of rows and the number of columns.\n",
    "Type: Returns a tuple of two integers."
   ]
  },
  {
   "cell_type": "code",
   "execution_count": 19,
   "id": "3bfdaeeb-8da6-4003-9ef7-638132a94ea2",
   "metadata": {},
   "outputs": [
    {
     "name": "stdout",
     "output_type": "stream",
     "text": [
      "(3, 3)\n"
     ]
    }
   ],
   "source": [
    "import pandas as pd\n",
    "\n",
    "df = pd.DataFrame({\n",
    "    'A': [1, 2, 3],\n",
    "    'B': [4, 5, 6],\n",
    "    'C': [7, 8, 9]\n",
    "})\n",
    "\n",
    "print(df.shape)  \n"
   ]
  },
  {
   "cell_type": "code",
   "execution_count": null,
   "id": "ee5b0f6c-e65c-4684-96cb-03f9fe7b8b13",
   "metadata": {},
   "outputs": [],
   "source": [
    "Q6. Which function of pandas do we use to read an excel file?"
   ]
  },
  {
   "cell_type": "code",
   "execution_count": null,
   "id": "0348c0f0-b6b6-4d00-b94f-b78a12f175cd",
   "metadata": {},
   "outputs": [],
   "source": [
    " To read Excel files in Python using Pandas, you can use the read_excel() function. This function allows you to read data from an Excel file and load it into a Pandas DataFrame. Let me show you how to use it:"
   ]
  },
  {
   "cell_type": "code",
   "execution_count": null,
   "id": "883191ff-00e9-42c8-a24d-dc3b78a0e052",
   "metadata": {},
   "outputs": [],
   "source": [
    "import pandas as pd\n",
    "\n",
    "# Read an Excel file into a DataFrame\n",
    "df = pd.read_excel('/path/to/your/excel/file.xlsx')\n",
    "\n",
    "# If you want to read a specific sheet, you can specify the sheet name\n",
    "# For example:\n",
    "# df = pd.read_excel('/path/to/your/excel/file.xlsx', sheet_name='Sheet1')\n",
    "\n",
    "# Now you can work with the data in the DataFrame 'df'\n",
    "# For instance, you can display the first few rows using:\n",
    "print(df.head())\n"
   ]
  },
  {
   "cell_type": "code",
   "execution_count": null,
   "id": "6aa96f7f-91c5-42c4-a4b5-49105c5ae9e4",
   "metadata": {},
   "outputs": [],
   "source": [
    "Q7. You have a Pandas DataFrame df that contains a column named 'Email' that contains email\n",
    "addresses in the format 'username@domain.com'. Write a Python function that creates a new column\n",
    "'Username' in df that contains only the username part of each email address.\n",
    "The username is the part of the email address that appears before the '@' symbol. For example, if the\n",
    "email address is 'john.doe@example.com', the 'Username' column should contain 'john.doe'. Your\n",
    "function should extract the username from each email address and store it in the new 'Username'\n",
    "column."
   ]
  },
  {
   "cell_type": "code",
   "execution_count": 23,
   "id": "c0d61b32-9438-45f9-816b-6a8048c4b21a",
   "metadata": {},
   "outputs": [
    {
     "name": "stdout",
     "output_type": "stream",
     "text": [
      "                          Email          Username\n",
      "0          john.doe@example.com          john.doe\n",
      "1        jane.smith@example.com        jane.smith\n",
      "2  alice.wonderland@example.com  alice.wonderland\n"
     ]
    }
   ],
   "source": [
    "import pandas as pd\n",
    "\n",
    "#Sample DataFrame with an 'Email' column\n",
    "data = {'Email':['john.doe@example.com' , 'jane.smith@example.com','alice.wonderland@example.com']}\n",
    "df = pd.DataFrame(data)\n",
    "        \n",
    "#Extract the username from the emails address\n",
    "df['Username'] = df['Email'].str.split('@').str[0]\n",
    "print(df)"
   ]
  },
  {
   "cell_type": "code",
   "execution_count": null,
   "id": "9d90814b-939c-455a-be9d-c40d3bda27ed",
   "metadata": {},
   "outputs": [],
   "source": [
    "Q8. You have a Pandas DataFrame df with columns 'A', 'B', and 'C'. Write a Python function that selects\n",
    "all rows where the value in column 'A' is greater than 5 and the value in column 'B' is less than 10. The\n",
    "function should return a new DataFrame that contains only the selected rows.\n",
    "\n",
    "For example, if df contains the following values:\n",
    "A B C\n",
    "0 3 5 1\n",
    "1 8 2 7\n",
    "2 6 9 4\n",
    "3 2 3 5\n",
    "4 9 1 2\n",
    "\n",
    "Your function should select the following rows: A B C\n",
    "1 8 2 7\n",
    "4 9 1 2\n",
    "The function should return a new DataFrame that contains only the selected rows."
   ]
  },
  {
   "cell_type": "code",
   "execution_count": 24,
   "id": "cb49ad27-1cb3-4a4c-945c-131296c2358f",
   "metadata": {},
   "outputs": [
    {
     "name": "stdout",
     "output_type": "stream",
     "text": [
      "   A  B  C\n",
      "1  8  2  7\n",
      "2  6  9  4\n",
      "4  9  1  2\n"
     ]
    }
   ],
   "source": [
    "import pandas as pd\n",
    "\n",
    "def filter_dataframe(df):\n",
    "    \"\"\"\n",
    "    Filters rows where 'A' > 5 and 'B' < 10.\n",
    "    \n",
    "    Args:\n",
    "        df (pd.DataFrame): Input DataFrame with columns 'A', 'B', and 'C'.\n",
    "    \n",
    "    Returns:\n",
    "        pd.DataFrame: New DataFrame containing only the selected rows.\n",
    "    \"\"\"\n",
    "    selected_rows = df[(df['A'] > 5) & (df['B'] < 10)]\n",
    "    return selected_rows\n",
    "\n",
    "# Example usage:\n",
    "data = {'A': [3, 8, 6, 2, 9],\n",
    "        'B': [5, 2, 9, 3, 1],\n",
    "        'C': [1, 7, 4, 5, 2]}\n",
    "df = pd.DataFrame(data)\n",
    "\n",
    "filtered_df = filter_dataframe(df)\n",
    "print(filtered_df)\n"
   ]
  },
  {
   "cell_type": "code",
   "execution_count": null,
   "id": "b53afb53-38ae-4505-a370-50869b77ce5f",
   "metadata": {},
   "outputs": [],
   "source": [
    "Q9. Given a Pandas DataFrame df with a column 'Values', write a Python function to calculate the mean,\n",
    "median, and standard deviation of the values in the 'Values' column."
   ]
  },
  {
   "cell_type": "code",
   "execution_count": 25,
   "id": "89cbf39b-1f5e-479a-b901-d7a43f09f3ee",
   "metadata": {},
   "outputs": [
    {
     "name": "stdout",
     "output_type": "stream",
     "text": [
      "Mean:20.00\n",
      "Median:20.00\n",
      "Standard Deviation:7.91\n"
     ]
    }
   ],
   "source": [
    "import pandas as pd\n",
    "\n",
    "#Create a sample DataFrame\n",
    "data = {'Values':[10,15,20,25,30]}\n",
    "df= pd.DataFrame(data)\n",
    "\n",
    "#Calculate mean,median , and standard deviation\n",
    "mean_value= df['Values'].mean()\n",
    "median_value= df['Values'].median()\n",
    "std_deviation =df['Values'].std()\n",
    "\n",
    "print(f\"Mean:{mean_value:.2f}\")\n",
    "print(f\"Median:{median_value:.2f}\")\n",
    "print(f\"Standard Deviation:{std_deviation:.2f}\")"
   ]
  },
  {
   "cell_type": "code",
   "execution_count": null,
   "id": "36ac94e4-c282-4b99-8132-dd2ac8bb1a3d",
   "metadata": {},
   "outputs": [],
   "source": [
    "Q10. Given a Pandas DataFrame df with a column 'Sales' and a column 'Date', write a Python function to\n",
    "create a new column 'MovingAverage' that contains the moving average of the sales for the past 7 days\n",
    "for each row in the DataFrame. The moving average should be calculated using a window of size 7 and\n",
    "should include the current day."
   ]
  },
  {
   "cell_type": "code",
   "execution_count": 30,
   "id": "d568f4dc-bed9-483f-a112-c7f31ec328ff",
   "metadata": {},
   "outputs": [
    {
     "name": "stdout",
     "output_type": "stream",
     "text": [
      "        Date  Sales  MovingAverage\n",
      "0 2024-05-01    100     100.000000\n",
      "1 2024-05-02    150     125.000000\n",
      "2 2024-05-03    200     150.000000\n",
      "3 2024-05-04    180     157.500000\n",
      "4 2024-05-05    250     176.000000\n",
      "5 2024-05-06    220     183.333333\n",
      "6 2024-05-07    300     200.000000\n",
      "7 2024-05-08    280     225.714286\n",
      "8 2024-05-09    320     250.000000\n",
      "9 2024-05-10    350     271.428571\n"
     ]
    }
   ],
   "source": [
    "import pandas as pd\n",
    "\n",
    "data = {\n",
    "    'Date': ['2024-05-01', '2024-05-02', '2024-05-03', '2024-05-04', '2024-05-05', \n",
    "             '2024-05-06', '2024-05-07', '2024-05-08', '2024-05-09', '2024-05-10'],\n",
    "    'Sales': [100, 150, 200, 180, 250, 220, 300, 280, 320, 350]\n",
    "}\n",
    "\n",
    "df = pd.DataFrame(data)\n",
    "\n",
    "import pandas as pd\n",
    "\n",
    "def calculate_moving_average(df):\n",
    "    # Convert 'Date' column to datetime if it's not already\n",
    "    df['Date'] = pd.to_datetime(df['Date'])\n",
    "    \n",
    "    # Sort DataFrame by date\n",
    "    df.sort_values(by='Date', inplace=True)\n",
    "    \n",
    "    # Calculate moving average with window size 7\n",
    "    df['MovingAverage'] = df['Sales'].rolling(window=7, min_periods=1).mean()\n",
    "    \n",
    "    return df\n",
    "\n",
    "# Example usage:\n",
    "# Assuming df is your DataFrame with columns 'Date' and 'Sales'\n",
    "df = calculate_moving_average(df)\n",
    "print(df)\n"
   ]
  },
  {
   "cell_type": "code",
   "execution_count": null,
   "id": "f723009e-7d95-4a63-a0b4-ed76fd1b0236",
   "metadata": {},
   "outputs": [],
   "source": [
    "Q11. You have a Pandas DataFrame df with a column 'Date'. Write a Python function that creates a new\n",
    "column 'Weekday' in the DataFrame. The 'Weekday' column should contain the weekday name (e.g.\n",
    "Monday, Tuesday) corresponding to each date in the 'Date' column.\n",
    "For example, if df contains the following values:\n",
    "Date\n",
    "0 2023-01-01\n",
    "1 2023-01-02\n",
    "2 2023-01-03\n",
    "3 2023-01-04\n",
    "4 2023-01-05\n",
    "Your function should create the following DataFrame:\n",
    "\n",
    "Date Weekday\n",
    "0 2023-01-01 Sunday\n",
    "1 2023-01-02 Monday\n",
    "2 2023-01-03 Tuesday\n",
    "3 2023-01-04 Wednesday\n",
    "4 2023-01-05 Thursday\n",
    "\n",
    "The function should return the modified DataFrame.\n"
   ]
  },
  {
   "cell_type": "code",
   "execution_count": null,
   "id": "b4b30fb2-f1ae-4a52-b721-71655d922327",
   "metadata": {},
   "outputs": [],
   "source": [
    "\n",
    "To achieve this task, you can use the pandas library in Python, specifically the datetime functionality provided by pandas. Here is a step-by-step guide and the corresponding code:\n",
    "\n",
    "Ensure the 'Date' column is in datetime format: Convert the 'Date' column to datetime if it is not already.\n",
    "Extract the weekday name: Use the .dt.day_name() method to extract the weekday names.\n",
    "Add the 'Weekday' column: Create a new column 'Weekday' in the DataFrame with the extracted weekday names"
   ]
  },
  {
   "cell_type": "code",
   "execution_count": 1,
   "id": "669fa68d-7048-465f-a2b1-f2b76b8bd5f1",
   "metadata": {},
   "outputs": [
    {
     "name": "stdout",
     "output_type": "stream",
     "text": [
      "        Date    Weekday\n",
      "0 2023-01-01     Sunday\n",
      "1 2023-01-02     Monday\n",
      "2 2023-01-03    Tuesday\n",
      "3 2023-01-04  Wednesday\n",
      "4 2023-01-05   Thursday\n"
     ]
    }
   ],
   "source": [
    "import pandas as pd\n",
    "\n",
    "def add_weekday_column(df):\n",
    "    #Convert the 'Date' column to datetime\n",
    "    df['Date'] = pd.to_datetime(df['Date'])\n",
    "    \n",
    "    #Create the 'Weekday'column\n",
    "    df['Weekday'] = df['Date'].dt.day_name()\n",
    "    return df \n",
    "\n",
    "#Example usage\n",
    "data = {\n",
    "    'Date': ['2023-01-01','2023-01-02', '2023-01-03', '2023-01-04', '2023-01-05']\n",
    "}\n",
    "df = pd.DataFrame(data)\n",
    "modified_df = add_weekday_column(df)\n",
    "print(modified_df)"
   ]
  },
  {
   "cell_type": "code",
   "execution_count": null,
   "id": "f7e63663-bbb3-4127-8336-210e3875c2f0",
   "metadata": {},
   "outputs": [],
   "source": [
    "Q12. Given a Pandas DataFrame df with a column 'Date' that contains timestamps, write a Python\n",
    "function to select all rows where the date is between '2023-01-01' and '2023-01-31'."
   ]
  },
  {
   "cell_type": "code",
   "execution_count": 6,
   "id": "0b7e2526-71cb-4ff3-8432-a7688e6730e9",
   "metadata": {},
   "outputs": [
    {
     "name": "stdout",
     "output_type": "stream",
     "text": [
      "        Date  Value\n",
      "1 2023-01-01     20\n",
      "2 2023-01-15     30\n",
      "3 2023-01-31     40\n"
     ]
    }
   ],
   "source": [
    "import pandas as pd\n",
    "\n",
    "def select_rows_in_date_range(df):\n",
    "    # Convert the 'Date' column to datetime\n",
    "    df['Date'] = pd.to_datetime(df['Date'])\n",
    "    \n",
    "    # Define the start and end dates\n",
    "    start_date = '2023-01-01'\n",
    "    end_date = '2023-01-31'\n",
    "    \n",
    "    # Filter the DataFrame for dates within the specified range\n",
    "    mask = (df['Date'] >= start_date) & (df['Date'] <= end_date)\n",
    "    filtered_df = df[mask]\n",
    "    \n",
    "    return filtered_df\n",
    "\n",
    "# Example usage\n",
    "data = {\n",
    "    'Date': ['2022-12-31', '2023-01-01', '2023-01-15', '2023-01-31', '2023-02-01'],\n",
    "    'Value': [10, 20, 30, 40, 50]\n",
    "}\n",
    "\n",
    "df = pd.DataFrame(data)\n",
    "filtered_df = select_rows_in_date_range(df)\n",
    "print(filtered_df)\n"
   ]
  },
  {
   "cell_type": "code",
   "execution_count": null,
   "id": "645548e3-ed84-4903-8f78-a09e07a80d2f",
   "metadata": {},
   "outputs": [],
   "source": [
    "Q13. To use the basic functions of pandas, what is the first and foremost necessary library that needs to\n",
    "be imported?"
   ]
  },
  {
   "cell_type": "code",
   "execution_count": null,
   "id": "270f4b0b-87b9-44af-9b53-1b60feff4d50",
   "metadata": {},
   "outputs": [],
   "source": [
    "To use the basic functions of Pandas, the first and foremost necessary library that needs to be imported is pandas. \n",
    "You can import it with the following line of code:"
   ]
  },
  {
   "cell_type": "code",
   "execution_count": null,
   "id": "fc6ad08a-ad6c-4d6b-b15c-64f2cef62373",
   "metadata": {},
   "outputs": [],
   "source": [
    "import pandas as pd\n"
   ]
  },
  {
   "cell_type": "code",
   "execution_count": null,
   "id": "ae5bbf12-3fe2-44e9-9d48-406b3852acfb",
   "metadata": {},
   "outputs": [],
   "source": [
    "This import statement is essential for accessing all the functionalities provided by the Pandas library. \n",
    "By convention, pandas is imported with the alias pd for ease of use."
   ]
  }
 ],
 "metadata": {
  "kernelspec": {
   "display_name": "Python 3 (ipykernel)",
   "language": "python",
   "name": "python3"
  },
  "language_info": {
   "codemirror_mode": {
    "name": "ipython",
    "version": 3
   },
   "file_extension": ".py",
   "mimetype": "text/x-python",
   "name": "python",
   "nbconvert_exporter": "python",
   "pygments_lexer": "ipython3",
   "version": "3.10.8"
  }
 },
 "nbformat": 4,
 "nbformat_minor": 5
}
