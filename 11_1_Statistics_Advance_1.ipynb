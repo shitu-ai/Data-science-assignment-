{
  "nbformat": 4,
  "nbformat_minor": 0,
  "metadata": {
    "colab": {
      "provenance": []
    },
    "kernelspec": {
      "name": "python3",
      "display_name": "Python 3"
    },
    "language_info": {
      "name": "python"
    }
  },
  "cells": [
    {
      "cell_type": "markdown",
      "source": [
        "Q1. What is the Probability density function?"
      ],
      "metadata": {
        "id": "taRmCAm4MlPw"
      }
    },
    {
      "cell_type": "markdown",
      "source": [
        "The **Probability Density Function (PDF)** describes the likelihood of a continuous random variable falling within a specific range of values. It's denoted by \\(f(x)\\) and satisfies the following properties:\n",
        "\n",
        "1. **Nonnegativity**: \\(f(x)\\) is positive or non-negative for any value of \\(x\\).\n",
        "2. **Area under the curve**: The integral of the PDF over the entire space is always equal to 1.\n",
        "\n",
        "In other words, the PDF provides a relative likelihood that the random variable would be equal to a given sample. It's essential for understanding continuous distributions and calculating probabilities using integrals.\n",
        "\n"
      ],
      "metadata": {
        "id": "nkUu034NM2e8"
      }
    },
    {
      "cell_type": "markdown",
      "source": [
        "Q2. What are the types of Probability distribution?"
      ],
      "metadata": {
        "id": "9kN9E9VGNHs2"
      }
    },
    {
      "cell_type": "markdown",
      "source": [
        "There are several types of probability distributions, each serving different purposes. Let’s explore a few common ones:\n",
        "\n",
        "**Binomial Distribution:** Used for discrete events with two possible outcomes (e.g., success/failure, heads/tails). It models the number of successes in a fixed number of independent trials1.\n",
        "\n",
        "**Poisson Distribution:** Describes the number of events occurring in a fixed interval of time or space. It’s often used for rare events, such as the number of phone calls received at a call center in an hour1.\n",
        "\n",
        "**Normal (Gaussian) Distribution:** Also known as the bell curve, it’s continuous and symmetric. Many natural phenomena follow this distribution, such as heights, weights, and IQ scores1.\n",
        "\n",
        "**Uniform Distribution**: Represents equally likely outcomes within a specified range. For example, rolling a fair six-sided die follows a uniform distribution1.\n",
        "\n",
        "**Exponential Distribution:** Models the time between events in a Poisson process (e.g., time between arrivals at a bus stop). It’s memoryless, meaning the probability of an event occurring in the next interval doesn’t depend on past intervals1.\n",
        "\n",
        "**Student’s t-Distribution**: Used for small sample sizes when estimating population parameters. It’s similar to the normal distribution but accounts for greater uncertainty1.\n",
        "\n",
        "**Chi-Square Distribution:** Commonly used in hypothesis testing, especially for comparing observed and expected frequencies in contingency tables2.\n",
        "Remember, each distribution has its unique characteristics and applications"
      ],
      "metadata": {
        "id": "uwnoyPICNKRA"
      }
    },
    {
      "cell_type": "markdown",
      "source": [
        "Q3. Write a Python function to calculate the probability density function of a normal distribution with\n",
        "given mean and standard deviation at a given point."
      ],
      "metadata": {
        "id": "uUVsdI_mNWjU"
      }
    },
    {
      "cell_type": "markdown",
      "source": [
        "To calculate the probability density function (PDF) of a normal distribution at a given point, we can use the formula:\n",
        "\n",
        "𝑓\n",
        "(\n",
        "𝑥\n",
        "∣\n",
        "𝜇\n",
        ",\n",
        "𝜎\n",
        ")\n",
        "=\n",
        "1\n",
        "𝜎\n",
        "2\n",
        "𝜋\n",
        "exp\n",
        "⁡\n",
        "(\n",
        "−\n",
        "(\n",
        "𝑥\n",
        "−\n",
        "𝜇\n",
        ")\n",
        "2\n",
        "2\n",
        "𝜎\n",
        "2\n",
        ")\n",
        "f(x∣μ,σ)=\n",
        "σ\n",
        "2π\n",
        "​\n",
        "\n",
        "1\n",
        "​\n",
        " exp(−\n",
        "2σ\n",
        "2\n",
        "\n",
        "(x−μ)\n",
        "2\n",
        "\n",
        "​\n",
        " )\n",
        "\n",
        "where:\n",
        "\n",
        "𝑥\n",
        "x is the point at which we are calculating the PDF\n",
        "𝜇\n",
        "μ is the mean of the distribution\n",
        "𝜎\n",
        "σ is the standard deviation of the distribution"
      ],
      "metadata": {
        "id": "9hkQqZpgPpOf"
      }
    },
    {
      "cell_type": "code",
      "source": [
        "import math\n",
        "\n",
        "def normal_pdf(x,mean,std_dev):\n",
        "  \"\"\"\n",
        "  Calculate the PDF of a normal distribution at a given point.\n",
        "\n",
        "  Args:\n",
        "      x(float): The point at which to evaluate the PDF.\n",
        "      mean(float):Mean of the normal distribution.\n",
        "      std_dev(float): Standard deviation of the normal distribution.\n",
        "\n",
        "  Returns:\n",
        "  float: The PDF value at the specified point.\n",
        "  \"\"\"\n",
        "  exponent = -(x-mean)**2/(2*std_dev**2)\n",
        "  pdf_value = (1/(std_dev *math.sqrt(2*math.pi)))*math.exp(exponent)\n",
        "  return pdf_value\n",
        "\n",
        "#Example usage:\n",
        "mean = 5.0\n",
        "std_dev = 2.0\n",
        "point = 6.0\n",
        "pdf_at_point = normal_pdf(point,mean,std_dev)\n",
        "print(f\"PDF at x = {point}:{pdf_at_point:.4f}\")"
      ],
      "metadata": {
        "colab": {
          "base_uri": "https://localhost:8080/"
        },
        "id": "ACV0_UGRPT9h",
        "outputId": "8a27896c-e5df-4d23-d95a-a1970482c45c"
      },
      "execution_count": 2,
      "outputs": [
        {
          "output_type": "stream",
          "name": "stdout",
          "text": [
            "PDF at x = 6.0:0.1760\n"
          ]
        }
      ]
    },
    {
      "cell_type": "code",
      "source": [],
      "metadata": {
        "id": "CT4xd3VUR9wU"
      },
      "execution_count": null,
      "outputs": []
    },
    {
      "cell_type": "markdown",
      "source": [
        "Q4. What are the properties of Binomial distribution? Give two examples of events where binomial\n",
        "distribution can be applied."
      ],
      "metadata": {
        "id": "TeTPIXsASysA"
      }
    },
    {
      "cell_type": "markdown",
      "source": [
        "The Binomial distribution is a discrete probability distribution that models the number of successes in a fixed number of independent Bernoulli trials, each with the same probability of success. Here are the key properties of the Binomial distribution:\n",
        "\n",
        "### Properties of Binomial Distribution:\n",
        "\n",
        "1. **Fixed Number of Trials (n)**:\n",
        "   The number of trials or experiments, \\( n \\), is fixed.\n",
        "\n",
        "2. **Two Possible Outcomes**:\n",
        "   Each trial has exactly two possible outcomes: success (usually denoted as 1) and failure (denoted as 0).\n",
        "\n",
        "3. **Constant Probability of Success (p)**:\n",
        "   The probability of success, \\( p \\), is the same for each trial.\n",
        "\n",
        "4. **Independence**:\n",
        "   Each trial is independent of the others. The outcome of one trial does not affect the outcome of another.\n",
        "\n",
        "5. **Random Variable (X)**:\n",
        "   The random variable \\( X \\) represents the number of successes in \\( n \\) trials. \\( X \\) follows a Binomial distribution with parameters \\( n \\) and \\( p \\), denoted as \\( X \\sim \\text{Binomial}(n, p) \\).\n",
        "\n",
        "### Probability Mass Function (PMF):\n",
        "\n",
        "The probability of observing exactly \\( k \\) successes in \\( n \\) trials is given by the PMF:\n",
        "\n",
        "\\[ P(X = k) = \\binom{n}{k} p^k (1-p)^{n-k} \\]\n",
        "\n",
        "where:\n",
        "- \\( \\binom{n}{k} \\) is the binomial coefficient, calculated as \\( \\frac{n!}{k!(n-k)!} \\).\n",
        "- \\( p \\) is the probability of success on a single trial.\n",
        "- \\( 1-p \\) is the probability of failure on a single trial.\n",
        "- \\( k \\) is the number of successes (0 ≤ \\( k \\) ≤ \\( n \\)).\n",
        "\n",
        "### Mean and Variance:\n",
        "\n",
        "- **Mean (Expected Value)**: \\( \\mu = np \\)\n",
        "- **Variance**: \\( \\sigma^2 = np(1-p) \\)\n",
        "\n",
        "### Examples of Events Where Binomial Distribution Can Be Applied:\n",
        "\n",
        "1. **Quality Control in Manufacturing**:\n",
        "   Suppose a factory produces light bulbs, and each bulb has a 95% chance of passing quality control tests. If you randomly select 10 bulbs, the number of bulbs that pass the quality control test follows a Binomial distribution with \\( n = 10 \\) and \\( p = 0.95 \\).\n",
        "\n",
        "2. **Survey Results**:\n",
        "   In a survey, each respondent has a 60% chance of preferring a particular brand over another. If 50 people are surveyed, the number of people who prefer that brand can be modeled by a Binomial distribution with \\( n = 50 \\) and \\( p = 0.60 \\).\n",
        "\n",
        "These examples illustrate the applicability of the Binomial distribution in scenarios where the conditions align with its properties: fixed number of trials, two possible outcomes, constant probability of success, and independence of trials."
      ],
      "metadata": {
        "id": "bwbz9m-QS3G8"
      }
    },
    {
      "cell_type": "markdown",
      "source": [
        "Q5. Generate a random sample of size 1000 from a binomial distribution with probability of success 0.4\n",
        "and plot a histogram of the results using matplotlib."
      ],
      "metadata": {
        "id": "-S-lXWIcTau8"
      }
    },
    {
      "cell_type": "markdown",
      "source": [
        "Let’s break this down into two steps:\n",
        "\n",
        "Generate the random sample from a binomial distribution:\n",
        "We’ll use the numpy.random.binomial function to draw samples from a binomial distribution with the specified parameters.\n",
        "\n",
        "For instance, if we want to simulate flipping a coin 10 times and repeat this process 1000 times, we can set n = 10 (number of trials) and p = 0.4 (probability of success).\n",
        "The resulting array s will contain the number of successes (heads) in each of the 1000 trials.\n",
        "\n",
        "Plot a histogram using Matplotlib:\n",
        "We’ll create a histogram to visualize the distribution of the sample.\n",
        "The x-axis will represent the number of successes, and the y-axis will show the frequency of each outcome"
      ],
      "metadata": {
        "id": "Av8hoYwBVkxz"
      }
    },
    {
      "cell_type": "code",
      "source": [
        "import numpy as np\n",
        "import matplotlib.pyplot as plt\n",
        "\n",
        "#Generate the random sample\n",
        "n,p = 10,0.4\n",
        "s = np.random.binomial(n,p,1000)\n",
        "\n",
        "#Plot the histogram\n",
        "plt.hist(s,bins=20,edgecolor='black',alpha = 0.7)\n",
        "plt.xlabel(\"Number of Success\")\n",
        "plt.ylabel(\"Frequency\")\n",
        "plt.title(\"Binomial Distribution(n=10,p=0.4)\")\n",
        "plt.grid(True)\n",
        "plt.show()"
      ],
      "metadata": {
        "colab": {
          "base_uri": "https://localhost:8080/",
          "height": 472
        },
        "id": "dLzXqXJtVx_o",
        "outputId": "83dc8541-229f-447b-bdd0-a0bafb80d12c"
      },
      "execution_count": 6,
      "outputs": [
        {
          "output_type": "display_data",
          "data": {
            "text/plain": [
              "<Figure size 640x480 with 1 Axes>"
            ],
            "image/png": "[encoded data removed]"
          },
          "metadata": {}
        }
      ]
    },
    {
      "cell_type": "code",
      "source": [
        "import numpy as np\n",
        "import matplotlib.pyplot as plt\n",
        "\n",
        "n = 1000\n",
        "p = 0.4\n",
        "\n",
        "sample = np.random.binomial(n=1, p=p, size=n)\n",
        "\n",
        "plt.hist(sample, bins=2, edgecolor='black', alpha=0.7)\n",
        "plt.title('Histogram of Binomial Distribution (p=0.4, n=1000)')\n",
        "plt.xlabel('Number of successes')\n",
        "plt.ylabel('Frequency')\n",
        "plt.xticks([0, 1])\n",
        "plt.grid(axis='y', linestyle='--', alpha=0.7)\n",
        "plt.show()\n"
      ],
      "metadata": {
        "colab": {
          "base_uri": "https://localhost:8080/",
          "height": 472
        },
        "id": "PEUoDmX0WeF0",
        "outputId": "73af96dd-12f0-44ed-a410-bf775fd58fdf"
      },
      "execution_count": 7,
      "outputs": [
        {
          "output_type": "display_data",
          "data": {
            "text/plain": [
              "<Figure size 640x480 with 1 Axes>"
            ],
            "image/png": "[encoded data removed]"
          },
          "metadata": {}
        }
      ]
    },
    {
      "cell_type": "code",
      "source": [],
      "metadata": {
        "id": "oXTmLokvYDe3"
      },
      "execution_count": null,
      "outputs": []
    },
    {
      "cell_type": "markdown",
      "source": [
        "Q6. Write a Python function to calculate the cumulative distribution function of a Poisson distribution\n",
        "with given mean at a given point."
      ],
      "metadata": {
        "id": "75Ok4oBXYMNj"
      }
    },
    {
      "cell_type": "markdown",
      "source": [
        "To calculate the cumulative distribution function (CDF) of a Poisson distribution with a given mean (μ) at a specific point (k), you can use the scipy.stats.poisson.cdf() function"
      ],
      "metadata": {
        "id": "pWknGYFeab4n"
      }
    },
    {
      "cell_type": "code",
      "source": [
        "import numpy as np\n",
        "import matplotlib.pyplot as plt\n",
        "from scipy.stats import poisson\n",
        "\n",
        "# Define the mean (μ)\n",
        "mu = 2.5\n",
        "\n",
        "# Calculate the CDF for various values of k\n",
        "k_values = np.arange(0, 11)\n",
        "cdf_values = poisson.cdf(k_values, mu)\n",
        "\n",
        "# Plot the CDF\n",
        "plt.figure(figsize=(8, 6))\n",
        "plt.plot(k_values, cdf_values, marker='o', linestyle='-', color='b')\n",
        "plt.xlabel('k (Point)')\n",
        "plt.ylabel('CDF')\n",
        "plt.title(f'Poisson Distribution (μ = {mu:.2f}) - CDF')\n",
        "plt.grid(True)\n",
        "plt.show()\n"
      ],
      "metadata": {
        "colab": {
          "base_uri": "https://localhost:8080/",
          "height": 564
        },
        "id": "I9h2_UAEYNHK",
        "outputId": "b34d230a-251f-4d9a-d9e5-f7b7b136b3ec"
      },
      "execution_count": 11,
      "outputs": [
        {
          "output_type": "display_data",
          "data": {
            "text/plain": [
              "<Figure size 800x600 with 1 Axes>"
            ],
            "image/png": "[encoded data removed]"
          },
          "metadata": {}
        }
      ]
    },
    {
      "cell_type": "markdown",
      "source": [
        "Q7. How Binomial distribution different from Poisson distribution?"
      ],
      "metadata": {
        "id": "rPPd_Vwape4S"
      }
    },
    {
      "cell_type": "markdown",
      "source": [
        "The Binomial distribution and the Poisson distribution are both discrete probability distributions, but they have different characteristics and are used in different contexts. Here are the key differences between them:\n",
        "\n",
        "### 1. Definition and Context\n",
        "\n",
        "- **Binomial Distribution**:\n",
        "  - **Definition**: The Binomial distribution models the number of successes in a fixed number of independent Bernoulli trials, each with the same probability of success.\n",
        "  - **Context**: Used when there is a fixed number of trials (n), each trial has two possible outcomes (success or failure), and the probability of success (p) is constant for each trial.\n",
        "  - **Parameters**: Number of trials \\( n \\) and probability of success \\( p \\).\n",
        "  - **Example**: Flipping a coin 10 times and counting the number of heads.\n",
        "\n",
        "- **Poisson Distribution**:\n",
        "  - **Definition**: The Poisson distribution models the number of events occurring in a fixed interval of time or space, given the average number of events (λ) in that interval.\n",
        "  - **Context**: Used for modeling the number of times an event occurs in a given interval of time or space when these events occur with a known constant mean rate and independently of the time since the last event.\n",
        "  - **Parameter**: Rate parameter \\( \\lambda \\) (average number of events in the interval).\n",
        "  - **Example**: The number of emails received in an hour.\n",
        "\n",
        "### 2. Mathematical Formulation\n",
        "\n",
        "- **Binomial Distribution**:\n",
        "  - **Probability Mass Function (PMF)**:\n",
        "    \\[\n",
        "    P(X = k) = \\binom{n}{k} p^k (1 - p)^{n - k}\n",
        "    \\]\n",
        "    where \\( k \\) is the number of successes, \\( \\binom{n}{k} \\) is the binomial coefficient, \\( p \\) is the probability of success, and \\( n \\) is the number of trials.\n",
        "\n",
        "- **Poisson Distribution**:\n",
        "  - **Probability Mass Function (PMF)**:\n",
        "    \\[\n",
        "    P(X = k) = \\frac{\\lambda^k e^{-\\lambda}}{k!}\n",
        "    \\]\n",
        "    where \\( k \\) is the number of events, \\( \\lambda \\) is the average rate of events, and \\( e \\) is the base of the natural logarithm.\n",
        "\n",
        "### 3. Assumptions and Conditions\n",
        "\n",
        "- **Binomial Distribution**:\n",
        "  - Fixed number of trials \\( n \\).\n",
        "  - Each trial is independent.\n",
        "  - Each trial results in a success with probability \\( p \\) or a failure with probability \\( 1 - p \\).\n",
        "  - The number of successes is counted.\n",
        "\n",
        "- **Poisson Distribution**:\n",
        "  - The number of events in non-overlapping intervals is independent.\n",
        "  - The probability of more than one event occurring in an infinitesimally small interval is negligible.\n",
        "  - The average rate \\( \\lambda \\) is constant.\n",
        "\n",
        "### 4. Relationship\n",
        "\n",
        "- When the number of trials \\( n \\) is large and the probability of success \\( p \\) is small such that the product \\( \\lambda = np \\) is moderate, the Binomial distribution can be approximated by the Poisson distribution with parameter \\( \\lambda \\).\n",
        "\n",
        "### Summary\n",
        "\n",
        "- **Binomial Distribution**: Used for a fixed number of trials with two outcomes (success/failure) and a constant probability of success.\n",
        "- **Poisson Distribution**: Used for modeling the number of events in a fixed interval of time or space with a known average rate and independent occurrence.\n",
        "\n",
        "Understanding these differences helps in choosing the appropriate distribution for modeling and solving problems in probability and statistics."
      ],
      "metadata": {
        "id": "JS43ZLyIpqr9"
      }
    },
    {
      "cell_type": "markdown",
      "source": [
        "Q8. Generate a random sample of size 1000 from a Poisson distribution with mean 5 and calculate the\n",
        "sample mean and variance."
      ],
      "metadata": {
        "id": "fdMyMTPqp3uZ"
      }
    },
    {
      "cell_type": "markdown",
      "source": [
        "Generate a Random Sample from a Poisson Distribution:\n",
        "We’ll use Python’s numpy library to create the sample.\n",
        "The Poisson distribution has only one parameter, λ (lambda), which represents the mean number of events."
      ],
      "metadata": {
        "id": "8dU7PMcCrdZJ"
      }
    },
    {
      "cell_type": "code",
      "source": [
        "import numpy as np\n",
        "#set the seed for reproducibility\n",
        "np.random.seed(42)\n",
        "\n",
        "#Generate a random sample of size 1000 from a Poisson distribution with mean 6\n",
        "sample = np.random.poisson(lam=5,size = 1000)\n",
        "\n",
        "#Calculate the sample mean\n",
        "sample_mean = np.mean(sample)\n",
        "\n",
        "#Calculate the sample varience\n",
        "sample_variance = np.var(sample)\n",
        "\n",
        "sample_mean,sample_variance"
      ],
      "metadata": {
        "colab": {
          "base_uri": "https://localhost:8080/"
        },
        "id": "H0_gMFfdsGWx",
        "outputId": "f2e62cea-55c3-40f9-f4f1-29069a025750"
      },
      "execution_count": 12,
      "outputs": [
        {
          "output_type": "execute_result",
          "data": {
            "text/plain": [
              "(4.985, 4.9967749999999995)"
            ]
          },
          "metadata": {},
          "execution_count": 12
        }
      ]
    },
    {
      "cell_type": "code",
      "source": [],
      "metadata": {
        "id": "g3E9dr0FtWEp"
      },
      "execution_count": null,
      "outputs": []
    },
    {
      "cell_type": "markdown",
      "source": [
        "Q9. How mean and variance are related in Binomial distribution and Poisson distribution?"
      ],
      "metadata": {
        "id": "vgBYyeMTtfJS"
      }
    },
    {
      "cell_type": "markdown",
      "source": [
        "In both the **Binomial distribution** and the **Poisson distribution**, the mean and variance are related, but the formulas differ:\n",
        "\n",
        "1. **Binomial Distribution**:\n",
        "   - **Mean (μ)**: The mean of a binomial distribution is given by:\n",
        "     $$ μ = n \\cdot p $$\n",
        "     where:\n",
        "     - \\(n\\) is the number of trials.\n",
        "     - \\(p\\) is the probability of success in each trial.\n",
        "   - **Variance (σ²)**: The variance of a binomial distribution is given by:\n",
        "     $$ σ^2 = n \\cdot p \\cdot (1-p) $$\n",
        "\n",
        "2. **Poisson Distribution**:\n",
        "   - Both the mean and variance of a Poisson distribution are equal to the parameter \\(λ\\):\n",
        "     - **Mean (λ)**: The average number of events.\n",
        "     - **Variance (λ)**: The spread or variability around this average.\n",
        "\n",
        "In summary, while the binomial distribution has separate formulas for mean and variance, the Poisson distribution uses the same parameter for both. 📊¹²\n",
        "\n"
      ],
      "metadata": {
        "id": "anSllRvjtgDZ"
      }
    },
    {
      "cell_type": "markdown",
      "source": [
        "Q10. In normal distribution with respect to mean position, where does the least frequent data appear?"
      ],
      "metadata": {
        "id": "_p16Icfyt122"
      }
    },
    {
      "cell_type": "markdown",
      "source": [
        "In a normal distribution, the least frequent data appears in the tails of the distribution, which are farthest from the mean. The normal distribution is symmetric around the mean, with data points becoming increasingly less frequent as they move away from the mean towards the extreme values in either direction. Therefore, the least frequent data appears in the regions farthest from the mean, often referred to as the \"tails\" of the distribution. These are typically beyond ±3 standard deviations from the mean, where the probability density is very low."
      ],
      "metadata": {
        "id": "7o3-37QCuK5B"
      }
    },
    {
      "cell_type": "code",
      "source": [],
      "metadata": {
        "id": "6EFAmpOAt47r"
      },
      "execution_count": null,
      "outputs": []
    }
  ]
}