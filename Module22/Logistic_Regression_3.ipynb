{
  "nbformat": 4,
  "nbformat_minor": 0,
  "metadata": {
    "colab": {
      "provenance": []
    },
    "kernelspec": {
      "name": "python3",
      "display_name": "Python 3"
    },
    "language_info": {
      "name": "python"
    }
  },
  "cells": [
    {
      "cell_type": "markdown",
      "source": [
        "Q1. Explain the concept of precision and recall in the context of classification models."
      ],
      "metadata": {
        "id": "iLTh-FsIuUsa"
      }
    },
    {
      "cell_type": "markdown",
      "source": [
        "Precision and recall are two key metrics used to evaluate the performance of classification models, especially in situations where the classes are imbalanced. Here’s what each term means:\n",
        "\n",
        "### Precision\n",
        "- **Definition**: Precision measures the accuracy of the positive predictions made by the model. It is the ratio of true positive predictions to the total number of positive predictions made (both true positives and false positives).\n",
        "- **Formula**:\n",
        "  \\[\n",
        "  \\text{Precision} = \\frac{\\text{True Positives}}{\\text{True Positives} + \\text{False Positives}}\n",
        "  \\]\n",
        "- **Interpretation**: High precision indicates that when the model predicts a positive class, it is often correct. It is useful when the cost of false positives is high. For example, in medical testing, precision is important if you want to ensure that a positive diagnosis is correct before proceeding with treatment.\n",
        "\n",
        "### Recall\n",
        "- **Definition**: Recall measures the ability of the model to identify all relevant positive cases. It is the ratio of true positive predictions to the total number of actual positives (both true positives and false negatives).\n",
        "- **Formula**:\n",
        "  \\[\n",
        "  \\text{Recall} = \\frac{\\text{True Positives}}{\\text{True Positives} + \\text{False Negatives}}\n",
        "  \\]\n",
        "- **Interpretation**: High recall means that the model is good at identifying positive cases and missing fewer of them. It is useful when the cost of false negatives is high. For instance, in disease screening, high recall ensures that most cases of the disease are detected, even if it means having some false alarms.\n",
        "\n",
        "### Trade-Off\n",
        "Precision and recall are often in tension with each other: increasing one can lead to a decrease in the other. The balance between precision and recall can be managed using the F1 score, which is the harmonic mean of the two. The F1 score is particularly useful when you need a single metric to assess performance and there is a trade-off between precision and recall.\n",
        "\n",
        "In summary:\n",
        "- **Precision** answers the question: Of all the positive predictions made, how many were actually correct?\n",
        "- **Recall** answers the question: Of all the actual positives, how many were correctly identified by the model?"
      ],
      "metadata": {
        "id": "4v7Yry7cubB9"
      }
    },
    {
      "cell_type": "markdown",
      "source": [
        "##Python Program Example\n"
      ],
      "metadata": {
        "id": "fHl-VKqTvIc3"
      }
    },
    {
      "cell_type": "code",
      "execution_count": 1,
      "metadata": {
        "colab": {
          "base_uri": "https://localhost:8080/"
        },
        "id": "I6wR-erwuSU9",
        "outputId": "265ff966-3bcd-4615-9730-3f753104d782"
      },
      "outputs": [
        {
          "output_type": "stream",
          "name": "stdout",
          "text": [
            "Confusion Matrix:\n",
            "[[264   6]\n",
            " [ 17  13]]\n",
            "Precision: 0.68\n",
            "Recall: 0.43\n"
          ]
        }
      ],
      "source": [
        "import numpy as np\n",
        "from sklearn.metrics import precision_score, recall_score, confusion_matrix\n",
        "from sklearn.model_selection import train_test_split\n",
        "from sklearn.datasets import make_classification\n",
        "from sklearn.ensemble import RandomForestClassifier\n",
        "\n",
        "# Create a synthetic dataset\n",
        "X, y = make_classification(n_samples=1000, n_features=20, n_classes=2, weights=[0.9, 0.1], flip_y=0.1, random_state=42)\n",
        "\n",
        "# Split the dataset into training and testing sets\n",
        "X_train, X_test, y_train, y_test = train_test_split(X, y, test_size=0.3, random_state=42)\n",
        "\n",
        "# Train a RandomForestClassifier\n",
        "clf = RandomForestClassifier(n_estimators=100, random_state=42)\n",
        "clf.fit(X_train, y_train)\n",
        "\n",
        "# Make predictions\n",
        "y_pred = clf.predict(X_test)\n",
        "\n",
        "# Calculate precision and recall\n",
        "precision = precision_score(y_test, y_pred)\n",
        "recall = recall_score(y_test, y_pred)\n",
        "\n",
        "# Display the results\n",
        "print(\"Confusion Matrix:\")\n",
        "print(confusion_matrix(y_test, y_pred))\n",
        "print(f\"Precision: {precision:.2f}\")\n",
        "print(f\"Recall: {recall:.2f}\")\n",
        "\n",
        "# Example output may vary depending on the classifier and dataset\n"
      ]
    },
    {
      "cell_type": "markdown",
      "source": [
        "Q2. What is the F1 score and how is it calculated? How is it different from precision and recall?"
      ],
      "metadata": {
        "id": "Yi3bjhG_vteH"
      }
    },
    {
      "cell_type": "markdown",
      "source": [
        "The F1 score is a metric used to evaluate the performance of a classification model, especially when dealing with imbalanced classes. It provides a balance between precision and recall, making it useful in scenarios where one metric alone might be misleading.\n",
        "\n",
        "### Calculation of F1 Score\n",
        "\n",
        "The F1 score is the harmonic mean of precision and recall. It is calculated using the following formula:\n",
        "\n",
        "\\[ \\text{F1 Score} = 2 \\times \\frac{\\text{Precision} \\times \\text{Recall}}{\\text{Precision} + \\text{Recall}} \\]\n",
        "\n",
        "Where:\n",
        "- **Precision** is the ratio of true positive predictions to the total number of positive predictions (i.e., true positives + false positives).\n",
        "- **Recall** (or Sensitivity) is the ratio of true positive predictions to the total number of actual positive instances (i.e., true positives + false negatives).\n",
        "\n",
        "### Definitions\n",
        "\n",
        "- **Precision**: Measures how many of the predicted positive cases are actually positive.\n",
        "  \\[ \\text{Precision} = \\frac{\\text{True Positives}}{\\text{True Positives} + \\text{False Positives}} \\]\n",
        "\n",
        "- **Recall**: Measures how many of the actual positive cases are correctly identified.\n",
        "  \\[ \\text{Recall} = \\frac{\\text{True Positives}}{\\text{True Positives} + \\text{False Negatives}} \\]\n",
        "\n",
        "### Differences\n",
        "\n",
        "- **Precision** focuses on the accuracy of positive predictions. A high precision means that when the model predicts positive, it is often correct.\n",
        "- **Recall** focuses on the model's ability to identify all relevant positive instances. A high recall means the model is capturing most of the actual positives.\n",
        "\n",
        "The F1 score combines these two metrics into a single value. It is particularly useful when you need a balance between precision and recall, and you have an imbalanced dataset where one metric alone might not adequately represent the model's performance."
      ],
      "metadata": {
        "id": "7yrDl4bUvvJ1"
      }
    },
    {
      "cell_type": "code",
      "source": [
        "from sklearn.datasets import load_iris\n",
        "from sklearn.model_selection import train_test_split\n",
        "from sklearn.ensemble import RandomForestClassifier\n",
        "from sklearn.metrics import precision_score, recall_score, f1_score\n"
      ],
      "metadata": {
        "id": "ROy9Bosovir7"
      },
      "execution_count": 2,
      "outputs": []
    },
    {
      "cell_type": "code",
      "source": [
        "# Load the Iris dataset\n",
        "iris = load_iris()\n",
        "X = iris.data\n",
        "y = iris.target\n"
      ],
      "metadata": {
        "id": "oc13nmLDwygk"
      },
      "execution_count": 3,
      "outputs": []
    },
    {
      "cell_type": "code",
      "source": [
        "# For simplicity, we'll convert this to a binary classification problem\n",
        "# We will classify only two classes: class 0 vs class 1\n",
        "# We will classify only two classes: class 0 vs class 1\n",
        "y_binary = (y == 0).astype(int)  # True if class 0, False otherwise\n"
      ],
      "metadata": {
        "id": "-sdojzsPw3VB"
      },
      "execution_count": 4,
      "outputs": []
    },
    {
      "cell_type": "code",
      "source": [
        "# Split the dataset into training and testing sets\n",
        "X_train, X_test, y_train, y_test = train_test_split(X, y_binary, test_size=0.3, random_state=42)\n"
      ],
      "metadata": {
        "id": "-fs_ERxKw_Ih"
      },
      "execution_count": 5,
      "outputs": []
    },
    {
      "cell_type": "code",
      "source": [
        "# Train a RandomForest classifier\n",
        "clf = RandomForestClassifier()\n",
        "clf.fit(X_train, y_train)\n"
      ],
      "metadata": {
        "colab": {
          "base_uri": "https://localhost:8080/",
          "height": 74
        },
        "id": "OSzNAFh2xCzA",
        "outputId": "056e00f5-b215-4e49-ff37-9608461b1bfb"
      },
      "execution_count": 6,
      "outputs": [
        {
          "output_type": "execute_result",
          "data": {
            "text/plain": [
              "RandomForestClassifier()"
            ],
            "text/html": [
              "<style>#sk-container-id-1 {color: black;}#sk-container-id-1 pre{padding: 0;}#sk-container-id-1 div.sk-toggleable {background-color: white;}#sk-container-id-1 label.sk-toggleable__label {cursor: pointer;display: block;width: 100%;margin-bottom: 0;padding: 0.3em;box-sizing: border-box;text-align: center;}#sk-container-id-1 label.sk-toggleable__label-arrow:before {content: \"▸\";float: left;margin-right: 0.25em;color: #696969;}#sk-container-id-1 label.sk-toggleable__label-arrow:hover:before {color: black;}#sk-container-id-1 div.sk-estimator:hover label.sk-toggleable__label-arrow:before {color: black;}#sk-container-id-1 div.sk-toggleable__content {max-height: 0;max-width: 0;overflow: hidden;text-align: left;background-color: #f0f8ff;}#sk-container-id-1 div.sk-toggleable__content pre {margin: 0.2em;color: black;border-radius: 0.25em;background-color: #f0f8ff;}#sk-container-id-1 input.sk-toggleable__control:checked~div.sk-toggleable__content {max-height: 200px;max-width: 100%;overflow: auto;}#sk-container-id-1 input.sk-toggleable__control:checked~label.sk-toggleable__label-arrow:before {content: \"▾\";}#sk-container-id-1 div.sk-estimator input.sk-toggleable__control:checked~label.sk-toggleable__label {background-color: #d4ebff;}#sk-container-id-1 div.sk-label input.sk-toggleable__control:checked~label.sk-toggleable__label {background-color: #d4ebff;}#sk-container-id-1 input.sk-hidden--visually {border: 0;clip: rect(1px 1px 1px 1px);clip: rect(1px, 1px, 1px, 1px);height: 1px;margin: -1px;overflow: hidden;padding: 0;position: absolute;width: 1px;}#sk-container-id-1 div.sk-estimator {font-family: monospace;background-color: #f0f8ff;border: 1px dotted black;border-radius: 0.25em;box-sizing: border-box;margin-bottom: 0.5em;}#sk-container-id-1 div.sk-estimator:hover {background-color: #d4ebff;}#sk-container-id-1 div.sk-parallel-item::after {content: \"\";width: 100%;border-bottom: 1px solid gray;flex-grow: 1;}#sk-container-id-1 div.sk-label:hover label.sk-toggleable__label {background-color: #d4ebff;}#sk-container-id-1 div.sk-serial::before {content: \"\";position: absolute;border-left: 1px solid gray;box-sizing: border-box;top: 0;bottom: 0;left: 50%;z-index: 0;}#sk-container-id-1 div.sk-serial {display: flex;flex-direction: column;align-items: center;background-color: white;padding-right: 0.2em;padding-left: 0.2em;position: relative;}#sk-container-id-1 div.sk-item {position: relative;z-index: 1;}#sk-container-id-1 div.sk-parallel {display: flex;align-items: stretch;justify-content: center;background-color: white;position: relative;}#sk-container-id-1 div.sk-item::before, #sk-container-id-1 div.sk-parallel-item::before {content: \"\";position: absolute;border-left: 1px solid gray;box-sizing: border-box;top: 0;bottom: 0;left: 50%;z-index: -1;}#sk-container-id-1 div.sk-parallel-item {display: flex;flex-direction: column;z-index: 1;position: relative;background-color: white;}#sk-container-id-1 div.sk-parallel-item:first-child::after {align-self: flex-end;width: 50%;}#sk-container-id-1 div.sk-parallel-item:last-child::after {align-self: flex-start;width: 50%;}#sk-container-id-1 div.sk-parallel-item:only-child::after {width: 0;}#sk-container-id-1 div.sk-dashed-wrapped {border: 1px dashed gray;margin: 0 0.4em 0.5em 0.4em;box-sizing: border-box;padding-bottom: 0.4em;background-color: white;}#sk-container-id-1 div.sk-label label {font-family: monospace;font-weight: bold;display: inline-block;line-height: 1.2em;}#sk-container-id-1 div.sk-label-container {text-align: center;}#sk-container-id-1 div.sk-container {/* jupyter's `normalize.less` sets `[hidden] { display: none; }` but bootstrap.min.css set `[hidden] { display: none !important; }` so we also need the `!important` here to be able to override the default hidden behavior on the sphinx rendered scikit-learn.org. See: https://github.com/scikit-learn/scikit-learn/issues/21755 */display: inline-block !important;position: relative;}#sk-container-id-1 div.sk-text-repr-fallback {display: none;}</style><div id=\"sk-container-id-1\" class=\"sk-top-container\"><div class=\"sk-text-repr-fallback\"><pre>RandomForestClassifier()</pre><b>In a Jupyter environment, please rerun this cell to show the HTML representation or trust the notebook. <br />On GitHub, the HTML representation is unable to render, please try loading this page with nbviewer.org.</b></div><div class=\"sk-container\" hidden><div class=\"sk-item\"><div class=\"sk-estimator sk-toggleable\"><input class=\"sk-toggleable__control sk-hidden--visually\" id=\"sk-estimator-id-1\" type=\"checkbox\" checked><label for=\"sk-estimator-id-1\" class=\"sk-toggleable__label sk-toggleable__label-arrow\">RandomForestClassifier</label><div class=\"sk-toggleable__content\"><pre>RandomForestClassifier()</pre></div></div></div></div></div>"
            ]
          },
          "metadata": {},
          "execution_count": 6
        }
      ]
    },
    {
      "cell_type": "code",
      "source": [
        "# Make predictions on the test set\n",
        "y_pred = clf.predict(X_test)\n"
      ],
      "metadata": {
        "id": "Om1gP_ACxGOw"
      },
      "execution_count": 7,
      "outputs": []
    },
    {
      "cell_type": "code",
      "source": [
        "# Calculate Precision, Recall, and F1 Score\n",
        "precision = precision_score(y_test, y_pred)\n",
        "recall = recall_score(y_test, y_pred)\n",
        "f1 = f1_score(y_test, y_pred)\n"
      ],
      "metadata": {
        "id": "AiwR8Nu-xJdg"
      },
      "execution_count": 8,
      "outputs": []
    },
    {
      "cell_type": "code",
      "source": [
        "# Print results\n",
        "print(f'Precision: {precision:.2f}')\n",
        "print(f'Recall: {recall:.2f}')\n",
        "print(f'F1 Score: {f1:.2f}')"
      ],
      "metadata": {
        "colab": {
          "base_uri": "https://localhost:8080/"
        },
        "id": "6YBvpkrtxQEO",
        "outputId": "7cbb8182-7033-468e-bb75-cca0ad4d952d"
      },
      "execution_count": 9,
      "outputs": [
        {
          "output_type": "stream",
          "name": "stdout",
          "text": [
            "Precision: 1.00\n",
            "Recall: 1.00\n",
            "F1 Score: 1.00\n"
          ]
        }
      ]
    },
    {
      "cell_type": "markdown",
      "source": [
        "Q3. What is ROC and AUC, and how are they used to evaluate the performance of classification models?"
      ],
      "metadata": {
        "id": "5B9JhEi3xUc5"
      }
    },
    {
      "cell_type": "markdown",
      "source": [
        "ROC (Receiver Operating Characteristic) and AUC (Area Under the Curve) are important metrics for evaluating the performance of classification models, especially when dealing with imbalanced datasets.\n",
        "\n",
        "### ROC Curve\n",
        "\n",
        "- **Definition**: The ROC curve is a graphical plot that illustrates the diagnostic ability of a binary classifier as its discrimination threshold is varied.\n",
        "- **Axes**:\n",
        "  - **True Positive Rate (TPR)**, also known as Sensitivity or Recall, is plotted on the Y-axis.\n",
        "  - **False Positive Rate (FPR)** is plotted on the X-axis.\n",
        "- **Purpose**: It shows the trade-off between sensitivity and specificity (or TPR and FPR). The curve helps visualize the performance of a model across different thresholds.\n",
        "\n",
        "### AUC (Area Under the Curve)\n",
        "\n",
        "- **Definition**: The AUC is the area under the ROC curve. It provides a single scalar value to summarize the performance of a classifier.\n",
        "- **Interpretation**:\n",
        "  - **AUC = 1**: Perfect model (no false positives or false negatives).\n",
        "  - **AUC = 0.5**: Model with no discrimination ability (random guessing).\n",
        "  - **0.5 < AUC < 1**: The model has some discriminatory ability.\n",
        "\n",
        "### How They Are Used\n",
        "\n",
        "1. **Model Comparison**: ROC and AUC are often used to compare the performance of different classification models. A model with a higher AUC is generally considered better.\n",
        "\n",
        "2. **Threshold Selection**: The ROC curve helps in choosing an optimal threshold for the classifier by analyzing the trade-offs between TPR and FPR at different thresholds.\n",
        "\n",
        "3. **Imbalanced Datasets**: AUC is particularly useful for evaluating models on imbalanced datasets, where the number of positive and negative instances is not equal.\n",
        "\n",
        "Overall, ROC and AUC provide a comprehensive view of a classifier's performance, especially in scenarios where classes are imbalanced or when you need to understand the trade-offs between different types of classification errors."
      ],
      "metadata": {
        "id": "mw_OwGLw0pha"
      }
    },
    {
      "cell_type": "markdown",
      "source": [
        "Q4. How do you choose the best metric to evaluate the performance of a classification model?\n",
        "What is multiclass classification and how is it different from binary classification?"
      ],
      "metadata": {
        "id": "r6WEW9s82guo"
      }
    },
    {
      "cell_type": "markdown",
      "source": [
        "Certainly! Let's explore both topics:\n",
        "\n",
        "1. **Choosing Evaluation Metrics for Classification Models:**\n",
        "    - Evaluating the performance of a classification model involves selecting appropriate metrics that provide insights beyond simple accuracy.\n",
        "    - Here are some common evaluation metrics for classification models:\n",
        "\n",
        "        - **Accuracy**: Measures how often the classifier correctly predicts. It's the ratio of correct predictions to the total number of predictions. However, accuracy can be misleading for imbalanced datasets⁷.\n",
        "        - **Precision**: The proportion of true positive predictions among all positive predictions. It focuses on minimizing false positives.\n",
        "        - **Recall (Sensitivity)**: The proportion of true positive predictions among all actual positive instances. It emphasizes minimizing false negatives.\n",
        "        - **F1-Score**: The harmonic mean of precision and recall. Useful when you want to balance precision and recall.\n",
        "        - **Logarithmic Loss (Log Loss)**: Measures the difference between predicted probabilities and actual class labels. Lower log loss indicates better performance.\n",
        "        - **Receiver Operating Characteristic (ROC) Curve and Area Under the Curve (AUC)**: ROC plots TPR against FPR at different thresholds, and AUC summarizes overall model performance. Useful for imbalanced datasets¹.\n",
        "\n",
        "2. **Multiclass vs. Binary Classification:**\n",
        "    - **Binary Classification**:\n",
        "        - Involves distinguishing between two classes (e.g., spam vs. not spam).\n",
        "        - Output labels are either \"positive\" or \"negative.\"\n",
        "        - Common examples include email spam detection.\n",
        "    - **Multiclass Classification**:\n",
        "        - Categorizes data into more than two classes (e.g., classifying animals into \"dog,\" \"cat,\" \"bird,\" etc.).\n",
        "        - Output labels represent multiple distinct categories.\n",
        "        - Examples include image recognition with multiple object classes.\n",
        "    - **Multiclass vs. Multilabel**:\n",
        "        - Multiclass assigns exactly one class label to each instance.\n",
        "        - Multilabel allows multiple labels per instance (e.g., tagging an image with both \"sunset\" and \"beach\")²⁴.\n",
        "\n"
      ],
      "metadata": {
        "id": "dcgho8kq3B1h"
      }
    },
    {
      "cell_type": "markdown",
      "source": [
        "Let’s use the popular Breast Cancer Wisconsin dataset for binary classification and the Wine dataset for multiclass classification. Both datasets are available in scikit-learn."
      ],
      "metadata": {
        "id": "KWY4jyYK4Inr"
      }
    },
    {
      "cell_type": "markdown",
      "source": [],
      "metadata": {
        "id": "SKvazMJb4QCQ"
      }
    },
    {
      "cell_type": "code",
      "source": [
        "import numpy as np\n",
        "import matplotlib.pyplot as plt\n",
        "import seaborn as sns\n",
        "import pandas as pd\n",
        "from sklearn.datasets import load_breast_cancer, load_wine\n",
        "from sklearn.model_selection import train_test_split\n",
        "from sklearn.linear_model import LogisticRegression\n",
        "from sklearn.metrics import (\n",
        "    accuracy_score, precision_score, recall_score, f1_score, roc_auc_score,\n",
        "    confusion_matrix, classification_report, roc_curve, precision_recall_curve\n",
        ")\n",
        "from sklearn.preprocessing import label_binarize"
      ],
      "metadata": {
        "id": "0uVNNG_94Tte"
      },
      "execution_count": 32,
      "outputs": []
    },
    {
      "cell_type": "code",
      "source": [
        "# Load and prepare the Breast Cancer dataset for binary classification\n",
        "breast_cancer = load_breast_cancer()\n",
        "X_bc = breast_cancer.data\n",
        "y_bc = breast_cancer.target"
      ],
      "metadata": {
        "id": "IYDts6634Tuj"
      },
      "execution_count": 33,
      "outputs": []
    },
    {
      "cell_type": "code",
      "source": [
        "# Split the data into training and test sets\n",
        "X_train_bc, X_test_bc, y_train_bc, y_test_bc = train_test_split(X_bc, y_bc, test_size=0.3, random_state=42)\n"
      ],
      "metadata": {
        "id": "_VhDxbIl4lFv"
      },
      "execution_count": 34,
      "outputs": []
    },
    {
      "cell_type": "code",
      "source": [
        "# Train a Logistic Regression model for binary classification\n",
        "model_bc = LogisticRegression(max_iter=200)\n",
        "model_bc.fit(X_train_bc, y_train_bc)\n",
        "y_pred_bc = model_bc.predict(X_test_bc)\n",
        "y_pred_prob_bc = model_bc.predict_proba(X_test_bc)[:, 1]"
      ],
      "metadata": {
        "colab": {
          "base_uri": "https://localhost:8080/"
        },
        "id": "GtDE4i344lHC",
        "outputId": "dcb187bb-4016-4293-d71e-1fe8cff6c42c"
      },
      "execution_count": 35,
      "outputs": [
        {
          "output_type": "stream",
          "name": "stderr",
          "text": [
            "/usr/local/lib/python3.10/dist-packages/sklearn/linear_model/_logistic.py:460: ConvergenceWarning: lbfgs failed to converge (status=1):\n",
            "STOP: TOTAL NO. of ITERATIONS REACHED LIMIT.\n",
            "\n",
            "Increase the number of iterations (max_iter) or scale the data as shown in:\n",
            "    https://scikit-learn.org/stable/modules/preprocessing.html\n",
            "Please also refer to the documentation for alternative solver options:\n",
            "    https://scikit-learn.org/stable/modules/linear_model.html#logistic-regression\n",
            "  n_iter_i = _check_optimize_result(\n"
          ]
        }
      ]
    },
    {
      "cell_type": "code",
      "source": [
        "# Metrics for binary classification\n",
        "print(\"Binary Classification Metrics (Breast Cancer Dataset):\")\n",
        "print(f\"Accuracy: {accuracy_score(y_test_bc, y_pred_bc):.4f}\")\n",
        "print(f\"Precision: {precision_score(y_test_bc, y_pred_bc):.4f}\")\n",
        "print(f\"Recall: {recall_score(y_test_bc, y_pred_bc):.4f}\")\n",
        "print(f\"F1 Score: {f1_score(y_test_bc, y_pred_bc):.4f}\")\n",
        "print(f\"Confusion Matrix:\\n{confusion_matrix(y_test_bc, y_pred_bc)}\")\n"
      ],
      "metadata": {
        "colab": {
          "base_uri": "https://localhost:8080/"
        },
        "id": "abnMUKQc4lPI",
        "outputId": "0f252ea9-1c5e-4a50-be36-c3641e3fd1ae"
      },
      "execution_count": 36,
      "outputs": [
        {
          "output_type": "stream",
          "name": "stdout",
          "text": [
            "Binary Classification Metrics (Breast Cancer Dataset):\n",
            "Accuracy: 0.9649\n",
            "Precision: 0.9636\n",
            "Recall: 0.9815\n",
            "F1 Score: 0.9725\n",
            "Confusion Matrix:\n",
            "[[ 59   4]\n",
            " [  2 106]]\n"
          ]
        }
      ]
    },
    {
      "cell_type": "code",
      "source": [
        "# Plot Confusion Matrix\n",
        "plt.figure(figsize=(10, 7))\n",
        "cm_bc = confusion_matrix(y_test_bc, y_pred_bc)\n",
        "sns.heatmap(cm_bc, annot=True, fmt='d', cmap='Blues', xticklabels=breast_cancer.target_names, yticklabels=breast_cancer.target_names)\n",
        "plt.title('Confusion Matrix (Breast Cancer)')\n",
        "plt.xlabel('Predicted')\n",
        "plt.ylabel('Actual')\n",
        "plt.show()"
      ],
      "metadata": {
        "colab": {
          "base_uri": "https://localhost:8080/",
          "height": 517
        },
        "id": "MqhjvATT58PP",
        "outputId": "32d0e3cb-fc34-40e5-fbf5-5fcde30232f7"
      },
      "execution_count": 37,
      "outputs": [
        {
          "output_type": "display_data",
          "data": {
            "text/plain": [
              "<Figure size 1000x700 with 2 Axes>"
            ],
            "image/png": "[encoded data removed]"
          },
          "metadata": {}
        }
      ]
    },
    {
      "cell_type": "code",
      "source": [
        "# Plot ROC Curve\n",
        "fpr, tpr, _ = roc_curve(y_test_bc, y_pred_prob_bc)\n",
        "plt.figure(figsize=(10, 7))\n",
        "plt.plot(fpr, tpr, marker='o')\n",
        "plt.title('ROC Curve (Breast Cancer)')\n",
        "plt.xlabel('False Positive Rate')\n",
        "plt.ylabel('True Positive Rate')\n",
        "plt.show()"
      ],
      "metadata": {
        "colab": {
          "base_uri": "https://localhost:8080/",
          "height": 481
        },
        "id": "3nA2pEzl6CTN",
        "outputId": "a69768a2-6b9c-40e9-e956-e79e9e408014"
      },
      "execution_count": 38,
      "outputs": [
        {
          "output_type": "display_data",
          "data": {
            "text/plain": [
              "<Figure size 1000x700 with 1 Axes>"
            ],
            "image/png": "[encoded data removed]"
          },
          "metadata": {}
        }
      ]
    },
    {
      "cell_type": "code",
      "source": [
        "# Plot Precision-Recall Curve\n",
        "precision, recall, _ = precision_recall_curve(y_test_bc, y_pred_prob_bc)\n",
        "plt.figure(figsize=(10, 7))\n",
        "plt.plot(recall, precision, marker='o')\n",
        "plt.title('Precision-Recall Curve (Breast Cancer)')\n",
        "plt.xlabel('Recall')\n",
        "plt.ylabel('Precision')\n",
        "plt.show()"
      ],
      "metadata": {
        "colab": {
          "base_uri": "https://localhost:8080/",
          "height": 476
        },
        "id": "p7IjZoAl6Gm0",
        "outputId": "cf21fac1-4c7e-4b90-89f1-89e96668cedc"
      },
      "execution_count": 39,
      "outputs": [
        {
          "output_type": "display_data",
          "data": {
            "text/plain": [
              "<Figure size 1000x700 with 1 Axes>"
            ],
            "image/png": "[encoded data removed]"
          },
          "metadata": {}
        }
      ]
    },
    {
      "cell_type": "code",
      "source": [
        "# Load and prepare the Wine dataset for multiclass classification\n",
        "wine = load_wine()\n",
        "X_wine = wine.data\n",
        "y_wine = wine.target\n"
      ],
      "metadata": {
        "id": "V6W39C7z4lQX"
      },
      "execution_count": 40,
      "outputs": []
    },
    {
      "cell_type": "code",
      "source": [
        "# Split the data into training and test sets\n",
        "X_train_wine, X_test_wine, y_train_wine, y_test_wine = train_test_split(X_wine, y_wine, test_size=0.3, random_state=42)\n"
      ],
      "metadata": {
        "id": "BmKDCLX84lUV"
      },
      "execution_count": 27,
      "outputs": []
    },
    {
      "cell_type": "code",
      "source": [
        "# Train a Logistic Regression model for multiclass classification\n",
        "model_wine = LogisticRegression(max_iter=200, multi_class='ovr')\n",
        "model_wine.fit(X_train_wine, y_train_wine)\n",
        "y_pred_wine = model_wine.predict(X_test_wine)\n"
      ],
      "metadata": {
        "colab": {
          "base_uri": "https://localhost:8080/"
        },
        "id": "8-jpvMOg4lVb",
        "outputId": "1d986706-614d-4393-b9ac-52124e889c45"
      },
      "execution_count": 28,
      "outputs": [
        {
          "output_type": "stream",
          "name": "stderr",
          "text": [
            "/usr/local/lib/python3.10/dist-packages/sklearn/linear_model/_logistic.py:460: ConvergenceWarning: lbfgs failed to converge (status=1):\n",
            "STOP: TOTAL NO. of ITERATIONS REACHED LIMIT.\n",
            "\n",
            "Increase the number of iterations (max_iter) or scale the data as shown in:\n",
            "    https://scikit-learn.org/stable/modules/preprocessing.html\n",
            "Please also refer to the documentation for alternative solver options:\n",
            "    https://scikit-learn.org/stable/modules/linear_model.html#logistic-regression\n",
            "  n_iter_i = _check_optimize_result(\n"
          ]
        }
      ]
    },
    {
      "cell_type": "code",
      "source": [
        "# Metrics for multiclass classification\n",
        "print(\"\\nMulticlass Classification Metrics (Wine Dataset):\")\n",
        "print(\"Confusion Matrix:\")\n",
        "print(confusion_matrix(y_test_wine, y_pred_wine))"
      ],
      "metadata": {
        "colab": {
          "base_uri": "https://localhost:8080/"
        },
        "id": "elPtKGew4lfN",
        "outputId": "a81a8e5a-fa0b-46a7-e2e4-88bae35b2aac"
      },
      "execution_count": 29,
      "outputs": [
        {
          "output_type": "stream",
          "name": "stdout",
          "text": [
            "\n",
            "Multiclass Classification Metrics (Wine Dataset):\n",
            "Confusion Matrix:\n",
            "[[19  0  0]\n",
            " [ 0 21  0]\n",
            " [ 0  0 14]]\n"
          ]
        }
      ]
    },
    {
      "cell_type": "code",
      "source": [
        "print(\"\\nClassification Report:\")\n",
        "report = classification_report(y_test_wine, y_pred_wine, target_names=wine.target_names, output_dict=True)\n",
        "report_df = pd.DataFrame(report).transpose()"
      ],
      "metadata": {
        "colab": {
          "base_uri": "https://localhost:8080/"
        },
        "id": "PTWinyd44lgS",
        "outputId": "b9521e57-f1e7-4df3-dcc1-2b148a6b49f9"
      },
      "execution_count": 41,
      "outputs": [
        {
          "output_type": "stream",
          "name": "stdout",
          "text": [
            "\n",
            "Classification Report:\n"
          ]
        }
      ]
    },
    {
      "cell_type": "code",
      "source": [
        "report_df"
      ],
      "metadata": {
        "colab": {
          "base_uri": "https://localhost:8080/",
          "height": 237
        },
        "id": "2nJqGuZt6ZWX",
        "outputId": "2537214f-baf9-43f2-9b4a-c5ad6d0fa4c0"
      },
      "execution_count": 42,
      "outputs": [
        {
          "output_type": "execute_result",
          "data": {
            "text/plain": [
              "              precision  recall  f1-score  support\n",
              "class_0             1.0     1.0       1.0     19.0\n",
              "class_1             1.0     1.0       1.0     21.0\n",
              "class_2             1.0     1.0       1.0     14.0\n",
              "accuracy            1.0     1.0       1.0      1.0\n",
              "macro avg           1.0     1.0       1.0     54.0\n",
              "weighted avg        1.0     1.0       1.0     54.0"
            ],
            "text/html": [
              "\n",
              "  <div id=\"df-53bcd1f5-9964-475c-953e-d48b3b9cf487\" class=\"colab-df-container\">\n",
              "    <div>\n",
              "<style scoped>\n",
              "    .dataframe tbody tr th:only-of-type {\n",
              "        vertical-align: middle;\n",
              "    }\n",
              "\n",
              "    .dataframe tbody tr th {\n",
              "        vertical-align: top;\n",
              "    }\n",
              "\n",
              "    .dataframe thead th {\n",
              "        text-align: right;\n",
              "    }\n",
              "</style>\n",
              "<table border=\"1\" class=\"dataframe\">\n",
              "  <thead>\n",
              "    <tr style=\"text-align: right;\">\n",
              "      <th></th>\n",
              "      <th>precision</th>\n",
              "      <th>recall</th>\n",
              "      <th>f1-score</th>\n",
              "      <th>support</th>\n",
              "    </tr>\n",
              "  </thead>\n",
              "  <tbody>\n",
              "    <tr>\n",
              "      <th>class_0</th>\n",
              "      <td>1.0</td>\n",
              "      <td>1.0</td>\n",
              "      <td>1.0</td>\n",
              "      <td>19.0</td>\n",
              "    </tr>\n",
              "    <tr>\n",
              "      <th>class_1</th>\n",
              "      <td>1.0</td>\n",
              "      <td>1.0</td>\n",
              "      <td>1.0</td>\n",
              "      <td>21.0</td>\n",
              "    </tr>\n",
              "    <tr>\n",
              "      <th>class_2</th>\n",
              "      <td>1.0</td>\n",
              "      <td>1.0</td>\n",
              "      <td>1.0</td>\n",
              "      <td>14.0</td>\n",
              "    </tr>\n",
              "    <tr>\n",
              "      <th>accuracy</th>\n",
              "      <td>1.0</td>\n",
              "      <td>1.0</td>\n",
              "      <td>1.0</td>\n",
              "      <td>1.0</td>\n",
              "    </tr>\n",
              "    <tr>\n",
              "      <th>macro avg</th>\n",
              "      <td>1.0</td>\n",
              "      <td>1.0</td>\n",
              "      <td>1.0</td>\n",
              "      <td>54.0</td>\n",
              "    </tr>\n",
              "    <tr>\n",
              "      <th>weighted avg</th>\n",
              "      <td>1.0</td>\n",
              "      <td>1.0</td>\n",
              "      <td>1.0</td>\n",
              "      <td>54.0</td>\n",
              "    </tr>\n",
              "  </tbody>\n",
              "</table>\n",
              "</div>\n",
              "    <div class=\"colab-df-buttons\">\n",
              "\n",
              "  <div class=\"colab-df-container\">\n",
              "    <button class=\"colab-df-convert\" onclick=\"convertToInteractive('df-53bcd1f5-9964-475c-953e-d48b3b9cf487')\"\n",
              "            title=\"Convert this dataframe to an interactive table.\"\n",
              "            style=\"display:none;\">\n",
              "\n",
              "  <svg xmlns=\"http://www.w3.org/2000/svg\" height=\"24px\" viewBox=\"0 -960 960 960\">\n",
              "    <path d=\"M120-120v-720h720v720H120Zm60-500h600v-160H180v160Zm220 220h160v-160H400v160Zm0 220h160v-160H400v160ZM180-400h160v-160H180v160Zm440 0h160v-160H620v160ZM180-180h160v-160H180v160Zm440 0h160v-160H620v160Z\"/>\n",
              "  </svg>\n",
              "    </button>\n",
              "\n",
              "  <style>\n",
              "    .colab-df-container {\n",
              "      display:flex;\n",
              "      gap: 12px;\n",
              "    }\n",
              "\n",
              "    .colab-df-convert {\n",
              "      background-color: #E8F0FE;\n",
              "      border: none;\n",
              "      border-radius: 50%;\n",
              "      cursor: pointer;\n",
              "      display: none;\n",
              "      fill: #1967D2;\n",
              "      height: 32px;\n",
              "      padding: 0 0 0 0;\n",
              "      width: 32px;\n",
              "    }\n",
              "\n",
              "    .colab-df-convert:hover {\n",
              "      background-color: #E2EBFA;\n",
              "      box-shadow: 0px 1px 2px rgba(60, 64, 67, 0.3), 0px 1px 3px 1px rgba(60, 64, 67, 0.15);\n",
              "      fill: #174EA6;\n",
              "    }\n",
              "\n",
              "    .colab-df-buttons div {\n",
              "      margin-bottom: 4px;\n",
              "    }\n",
              "\n",
              "    [theme=dark] .colab-df-convert {\n",
              "      background-color: #3B4455;\n",
              "      fill: #D2E3FC;\n",
              "    }\n",
              "\n",
              "    [theme=dark] .colab-df-convert:hover {\n",
              "      background-color: #434B5C;\n",
              "      box-shadow: 0px 1px 3px 1px rgba(0, 0, 0, 0.15);\n",
              "      filter: drop-shadow(0px 1px 2px rgba(0, 0, 0, 0.3));\n",
              "      fill: #FFFFFF;\n",
              "    }\n",
              "  </style>\n",
              "\n",
              "    <script>\n",
              "      const buttonEl =\n",
              "        document.querySelector('#df-53bcd1f5-9964-475c-953e-d48b3b9cf487 button.colab-df-convert');\n",
              "      buttonEl.style.display =\n",
              "        google.colab.kernel.accessAllowed ? 'block' : 'none';\n",
              "\n",
              "      async function convertToInteractive(key) {\n",
              "        const element = document.querySelector('#df-53bcd1f5-9964-475c-953e-d48b3b9cf487');\n",
              "        const dataTable =\n",
              "          await google.colab.kernel.invokeFunction('convertToInteractive',\n",
              "                                                    [key], {});\n",
              "        if (!dataTable) return;\n",
              "\n",
              "        const docLinkHtml = 'Like what you see? Visit the ' +\n",
              "          '<a target=\"_blank\" href=https://colab.research.google.com/notebooks/data_table.ipynb>data table notebook</a>'\n",
              "          + ' to learn more about interactive tables.';\n",
              "        element.innerHTML = '';\n",
              "        dataTable['output_type'] = 'display_data';\n",
              "        await google.colab.output.renderOutput(dataTable, element);\n",
              "        const docLink = document.createElement('div');\n",
              "        docLink.innerHTML = docLinkHtml;\n",
              "        element.appendChild(docLink);\n",
              "      }\n",
              "    </script>\n",
              "  </div>\n",
              "\n",
              "\n",
              "<div id=\"df-585bd0bc-d657-4144-81af-464f86322ad9\">\n",
              "  <button class=\"colab-df-quickchart\" onclick=\"quickchart('df-585bd0bc-d657-4144-81af-464f86322ad9')\"\n",
              "            title=\"Suggest charts\"\n",
              "            style=\"display:none;\">\n",
              "\n",
              "<svg xmlns=\"http://www.w3.org/2000/svg\" height=\"24px\"viewBox=\"0 0 24 24\"\n",
              "     width=\"24px\">\n",
              "    <g>\n",
              "        <path d=\"M19 3H5c-1.1 0-2 .9-2 2v14c0 1.1.9 2 2 2h14c1.1 0 2-.9 2-2V5c0-1.1-.9-2-2-2zM9 17H7v-7h2v7zm4 0h-2V7h2v10zm4 0h-2v-4h2v4z\"/>\n",
              "    </g>\n",
              "</svg>\n",
              "  </button>\n",
              "\n",
              "<style>\n",
              "  .colab-df-quickchart {\n",
              "      --bg-color: #E8F0FE;\n",
              "      --fill-color: #1967D2;\n",
              "      --hover-bg-color: #E2EBFA;\n",
              "      --hover-fill-color: #174EA6;\n",
              "      --disabled-fill-color: #AAA;\n",
              "      --disabled-bg-color: #DDD;\n",
              "  }\n",
              "\n",
              "  [theme=dark] .colab-df-quickchart {\n",
              "      --bg-color: #3B4455;\n",
              "      --fill-color: #D2E3FC;\n",
              "      --hover-bg-color: #434B5C;\n",
              "      --hover-fill-color: #FFFFFF;\n",
              "      --disabled-bg-color: #3B4455;\n",
              "      --disabled-fill-color: #666;\n",
              "  }\n",
              "\n",
              "  .colab-df-quickchart {\n",
              "    background-color: var(--bg-color);\n",
              "    border: none;\n",
              "    border-radius: 50%;\n",
              "    cursor: pointer;\n",
              "    display: none;\n",
              "    fill: var(--fill-color);\n",
              "    height: 32px;\n",
              "    padding: 0;\n",
              "    width: 32px;\n",
              "  }\n",
              "\n",
              "  .colab-df-quickchart:hover {\n",
              "    background-color: var(--hover-bg-color);\n",
              "    box-shadow: 0 1px 2px rgba(60, 64, 67, 0.3), 0 1px 3px 1px rgba(60, 64, 67, 0.15);\n",
              "    fill: var(--button-hover-fill-color);\n",
              "  }\n",
              "\n",
              "  .colab-df-quickchart-complete:disabled,\n",
              "  .colab-df-quickchart-complete:disabled:hover {\n",
              "    background-color: var(--disabled-bg-color);\n",
              "    fill: var(--disabled-fill-color);\n",
              "    box-shadow: none;\n",
              "  }\n",
              "\n",
              "  .colab-df-spinner {\n",
              "    border: 2px solid var(--fill-color);\n",
              "    border-color: transparent;\n",
              "    border-bottom-color: var(--fill-color);\n",
              "    animation:\n",
              "      spin 1s steps(1) infinite;\n",
              "  }\n",
              "\n",
              "  @keyframes spin {\n",
              "    0% {\n",
              "      border-color: transparent;\n",
              "      border-bottom-color: var(--fill-color);\n",
              "      border-left-color: var(--fill-color);\n",
              "    }\n",
              "    20% {\n",
              "      border-color: transparent;\n",
              "      border-left-color: var(--fill-color);\n",
              "      border-top-color: var(--fill-color);\n",
              "    }\n",
              "    30% {\n",
              "      border-color: transparent;\n",
              "      border-left-color: var(--fill-color);\n",
              "      border-top-color: var(--fill-color);\n",
              "      border-right-color: var(--fill-color);\n",
              "    }\n",
              "    40% {\n",
              "      border-color: transparent;\n",
              "      border-right-color: var(--fill-color);\n",
              "      border-top-color: var(--fill-color);\n",
              "    }\n",
              "    60% {\n",
              "      border-color: transparent;\n",
              "      border-right-color: var(--fill-color);\n",
              "    }\n",
              "    80% {\n",
              "      border-color: transparent;\n",
              "      border-right-color: var(--fill-color);\n",
              "      border-bottom-color: var(--fill-color);\n",
              "    }\n",
              "    90% {\n",
              "      border-color: transparent;\n",
              "      border-bottom-color: var(--fill-color);\n",
              "    }\n",
              "  }\n",
              "</style>\n",
              "\n",
              "  <script>\n",
              "    async function quickchart(key) {\n",
              "      const quickchartButtonEl =\n",
              "        document.querySelector('#' + key + ' button');\n",
              "      quickchartButtonEl.disabled = true;  // To prevent multiple clicks.\n",
              "      quickchartButtonEl.classList.add('colab-df-spinner');\n",
              "      try {\n",
              "        const charts = await google.colab.kernel.invokeFunction(\n",
              "            'suggestCharts', [key], {});\n",
              "      } catch (error) {\n",
              "        console.error('Error during call to suggestCharts:', error);\n",
              "      }\n",
              "      quickchartButtonEl.classList.remove('colab-df-spinner');\n",
              "      quickchartButtonEl.classList.add('colab-df-quickchart-complete');\n",
              "    }\n",
              "    (() => {\n",
              "      let quickchartButtonEl =\n",
              "        document.querySelector('#df-585bd0bc-d657-4144-81af-464f86322ad9 button');\n",
              "      quickchartButtonEl.style.display =\n",
              "        google.colab.kernel.accessAllowed ? 'block' : 'none';\n",
              "    })();\n",
              "  </script>\n",
              "</div>\n",
              "\n",
              "  <div id=\"id_60b41f86-1904-4ebe-8bee-adee7e4c1b7f\">\n",
              "    <style>\n",
              "      .colab-df-generate {\n",
              "        background-color: #E8F0FE;\n",
              "        border: none;\n",
              "        border-radius: 50%;\n",
              "        cursor: pointer;\n",
              "        display: none;\n",
              "        fill: #1967D2;\n",
              "        height: 32px;\n",
              "        padding: 0 0 0 0;\n",
              "        width: 32px;\n",
              "      }\n",
              "\n",
              "      .colab-df-generate:hover {\n",
              "        background-color: #E2EBFA;\n",
              "        box-shadow: 0px 1px 2px rgba(60, 64, 67, 0.3), 0px 1px 3px 1px rgba(60, 64, 67, 0.15);\n",
              "        fill: #174EA6;\n",
              "      }\n",
              "\n",
              "      [theme=dark] .colab-df-generate {\n",
              "        background-color: #3B4455;\n",
              "        fill: #D2E3FC;\n",
              "      }\n",
              "\n",
              "      [theme=dark] .colab-df-generate:hover {\n",
              "        background-color: #434B5C;\n",
              "        box-shadow: 0px 1px 3px 1px rgba(0, 0, 0, 0.15);\n",
              "        filter: drop-shadow(0px 1px 2px rgba(0, 0, 0, 0.3));\n",
              "        fill: #FFFFFF;\n",
              "      }\n",
              "    </style>\n",
              "    <button class=\"colab-df-generate\" onclick=\"generateWithVariable('report_df')\"\n",
              "            title=\"Generate code using this dataframe.\"\n",
              "            style=\"display:none;\">\n",
              "\n",
              "  <svg xmlns=\"http://www.w3.org/2000/svg\" height=\"24px\"viewBox=\"0 0 24 24\"\n",
              "       width=\"24px\">\n",
              "    <path d=\"M7,19H8.4L18.45,9,17,7.55,7,17.6ZM5,21V16.75L18.45,3.32a2,2,0,0,1,2.83,0l1.4,1.43a1.91,1.91,0,0,1,.58,1.4,1.91,1.91,0,0,1-.58,1.4L9.25,21ZM18.45,9,17,7.55Zm-12,3A5.31,5.31,0,0,0,4.9,8.1,5.31,5.31,0,0,0,1,6.5,5.31,5.31,0,0,0,4.9,4.9,5.31,5.31,0,0,0,6.5,1,5.31,5.31,0,0,0,8.1,4.9,5.31,5.31,0,0,0,12,6.5,5.46,5.46,0,0,0,6.5,12Z\"/>\n",
              "  </svg>\n",
              "    </button>\n",
              "    <script>\n",
              "      (() => {\n",
              "      const buttonEl =\n",
              "        document.querySelector('#id_60b41f86-1904-4ebe-8bee-adee7e4c1b7f button.colab-df-generate');\n",
              "      buttonEl.style.display =\n",
              "        google.colab.kernel.accessAllowed ? 'block' : 'none';\n",
              "\n",
              "      buttonEl.onclick = () => {\n",
              "        google.colab.notebook.generateWithVariable('report_df');\n",
              "      }\n",
              "      })();\n",
              "    </script>\n",
              "  </div>\n",
              "\n",
              "    </div>\n",
              "  </div>\n"
            ],
            "application/vnd.google.colaboratory.intrinsic+json": {
              "type": "dataframe",
              "variable_name": "report_df",
              "summary": "{\n  \"name\": \"report_df\",\n  \"rows\": 6,\n  \"fields\": [\n    {\n      \"column\": \"precision\",\n      \"properties\": {\n        \"dtype\": \"number\",\n        \"std\": 0.0,\n        \"min\": 1.0,\n        \"max\": 1.0,\n        \"num_unique_values\": 1,\n        \"samples\": [\n          1.0\n        ],\n        \"semantic_type\": \"\",\n        \"description\": \"\"\n      }\n    },\n    {\n      \"column\": \"recall\",\n      \"properties\": {\n        \"dtype\": \"number\",\n        \"std\": 0.0,\n        \"min\": 1.0,\n        \"max\": 1.0,\n        \"num_unique_values\": 1,\n        \"samples\": [\n          1.0\n        ],\n        \"semantic_type\": \"\",\n        \"description\": \"\"\n      }\n    },\n    {\n      \"column\": \"f1-score\",\n      \"properties\": {\n        \"dtype\": \"number\",\n        \"std\": 0.0,\n        \"min\": 1.0,\n        \"max\": 1.0,\n        \"num_unique_values\": 1,\n        \"samples\": [\n          1.0\n        ],\n        \"semantic_type\": \"\",\n        \"description\": \"\"\n      }\n    },\n    {\n      \"column\": \"support\",\n      \"properties\": {\n        \"dtype\": \"number\",\n        \"std\": 21.921830823785378,\n        \"min\": 1.0,\n        \"max\": 54.0,\n        \"num_unique_values\": 5,\n        \"samples\": [\n          21.0\n        ],\n        \"semantic_type\": \"\",\n        \"description\": \"\"\n      }\n    }\n  ]\n}"
            }
          },
          "metadata": {},
          "execution_count": 42
        }
      ]
    },
    {
      "cell_type": "code",
      "source": [
        "# For ROC-AUC, need to binarize the output\n",
        "y_test_wine_bin = label_binarize(y_test_wine, classes=[0, 1, 2])\n",
        "y_pred_prob_wine = model_wine.predict_proba(X_test_wine)\n",
        "roc_auc_wine = roc_auc_score(y_test_wine_bin, y_pred_prob_wine, multi_class='ovr')\n",
        "print(f\"\\nROC-AUC Score: {roc_auc_wine:.4f}\")"
      ],
      "metadata": {
        "colab": {
          "base_uri": "https://localhost:8080/"
        },
        "id": "NaVcT4s85fTz",
        "outputId": "ae9da829-355d-44ab-9782-4e3c68000bf4"
      },
      "execution_count": 31,
      "outputs": [
        {
          "output_type": "stream",
          "name": "stdout",
          "text": [
            "\n",
            "ROC-AUC Score: 1.0000\n"
          ]
        }
      ]
    },
    {
      "cell_type": "code",
      "source": [
        "# Plot Confusion Matrix\n",
        "plt.figure(figsize=(10, 7))\n",
        "cm_wine = confusion_matrix(y_test_wine, y_pred_wine)\n",
        "sns.heatmap(cm_wine, annot=True, fmt='d', cmap='Blues', xticklabels=wine.target_names, yticklabels=wine.target_names)\n",
        "plt.title('Confusion Matrix (Wine Dataset)')\n",
        "plt.xlabel('Predicted')\n",
        "plt.ylabel('Actual')\n",
        "plt.show()"
      ],
      "metadata": {
        "colab": {
          "base_uri": "https://localhost:8080/",
          "height": 514
        },
        "id": "wIu10b556gSc",
        "outputId": "123a5cb2-2dfd-4019-e0f2-16bb19766689"
      },
      "execution_count": 43,
      "outputs": [
        {
          "output_type": "display_data",
          "data": {
            "text/plain": [
              "<Figure size 1000x700 with 2 Axes>"
            ],
            "image/png": "[encoded data removed]"
          },
          "metadata": {}
        }
      ]
    },
    {
      "cell_type": "code",
      "source": [
        "# Plot Classification Report\n",
        "plt.figure(figsize=(12, 8))\n",
        "sns.heatmap(report_df.iloc[:-1, :].T, annot=True, cmap='Blues')\n",
        "plt.title('Classification Report (Wine Dataset)')\n",
        "plt.show()"
      ],
      "metadata": {
        "colab": {
          "base_uri": "https://localhost:8080/",
          "height": 498
        },
        "id": "58Iif5Pf6gTw",
        "outputId": "c56af46f-05b7-4332-b121-406083001411"
      },
      "execution_count": 44,
      "outputs": [
        {
          "output_type": "display_data",
          "data": {
            "text/plain": [
              "<Figure size 1200x800 with 2 Axes>"
            ],
            "image/png": "[encoded data removed]"
          },
          "metadata": {}
        }
      ]
    },
    {
      "cell_type": "markdown",
      "source": [
        "Q5. Explain how logistic regression can be used for multiclass classification."
      ],
      "metadata": {
        "id": "n2REySCu6p5J"
      }
    },
    {
      "cell_type": "markdown",
      "source": [
        "**Multinomial logistic regression** is an extension of **logistic regression** that addresses **multiclass classification problems**—those with more than two possible discrete outcomes. Here's how it works:\n",
        "\n",
        "1. **Logistic Regression Basics**:\n",
        "   - **Logistic regression** is primarily designed for **binary classification problems**, where the target variable has two classes (e.g., spam/not spam, yes/no).\n",
        "   - It models the probability that an example belongs to the **positive class** (class 1) using a **binomial probability distribution function**.\n",
        "   - The class labels are mapped to 1 (positive class) and 0 (negative class).\n",
        "\n",
        "2. **Multiclass Classification**:\n",
        "   - When dealing with more than two classes, standard logistic regression needs modification.\n",
        "   - Common approaches include:\n",
        "     - **One-vs-Rest (OvR)**: Splitting the multiclass problem into multiple binary classification problems (one for each class). Each subproblem compares one class against the rest.\n",
        "     - **One-vs-One**: Creating a binary classifier for every pair of classes.\n",
        "   - However, these approaches can be cumbersome and require multiple models.\n",
        "\n",
        "3. **Multinomial Logistic Regression**:\n",
        "   - Instead of transforming the problem, **multinomial logistic regression** directly predicts the **probability distribution** across all classes.\n",
        "   - It changes the loss function to **cross-entropy loss** and predicts a **multinomial probability distribution**.\n",
        "   - The model computes probabilities for each class and assigns the example to the class with the highest probability.\n",
        "   - In Python, you can use libraries like **scikit-learn** to implement multinomial logistic regression¹³.\n",
        "\n",
        "Remember, multinomial logistic regression is a powerful tool for handling multiclass classification tasks!"
      ],
      "metadata": {
        "id": "6ADRa7rS621M"
      }
    },
    {
      "cell_type": "markdown",
      "source": [
        "##Example with One-vs-Rest (OvR)\n"
      ],
      "metadata": {
        "id": "okaaFvtr7iE5"
      }
    },
    {
      "cell_type": "code",
      "source": [
        "from sklearn.datasets import load_iris\n",
        "from sklearn.linear_model import LogisticRegression\n",
        "from sklearn.model_selection import train_test_split\n",
        "from sklearn.metrics import classification_report, accuracy_score\n",
        "\n",
        "# Load the iris dataset\n",
        "data = load_iris()\n",
        "X = data.data\n",
        "y = data.target\n",
        "\n",
        "# Split the dataset into training and test sets\n",
        "X_train, X_test, y_train, y_test = train_test_split(X, y, test_size=0.3, random_state=42)\n",
        "\n",
        "# Create a logistic regression model with OvR strategy\n",
        "model = LogisticRegression(multi_class='ovr', max_iter=1000)\n",
        "\n",
        "# Train the model\n",
        "model.fit(X_train, y_train)\n",
        "\n",
        "# Make predictions\n",
        "y_pred = model.predict(X_test)\n",
        "\n",
        "# Evaluate the model\n",
        "print(\"Accuracy:\", accuracy_score(y_test, y_pred))\n",
        "print(\"Classification Report:\\n\", classification_report(y_test, y_pred))\n"
      ],
      "metadata": {
        "colab": {
          "base_uri": "https://localhost:8080/"
        },
        "id": "HS1i0pQc32Iy",
        "outputId": "aab8119f-689e-48a4-93b1-34da139ea5a1"
      },
      "execution_count": 45,
      "outputs": [
        {
          "output_type": "stream",
          "name": "stdout",
          "text": [
            "Accuracy: 0.9555555555555556\n",
            "Classification Report:\n",
            "               precision    recall  f1-score   support\n",
            "\n",
            "           0       1.00      1.00      1.00        19\n",
            "           1       1.00      0.85      0.92        13\n",
            "           2       0.87      1.00      0.93        13\n",
            "\n",
            "    accuracy                           0.96        45\n",
            "   macro avg       0.96      0.95      0.95        45\n",
            "weighted avg       0.96      0.96      0.96        45\n",
            "\n"
          ]
        }
      ]
    },
    {
      "cell_type": "markdown",
      "source": [
        "## Example with Multinomial Logistic Regression\n"
      ],
      "metadata": {
        "id": "yUBFfR9u7oma"
      }
    },
    {
      "cell_type": "code",
      "source": [
        "from sklearn.datasets import load_iris\n",
        "from sklearn.linear_model import LogisticRegression\n",
        "from sklearn.model_selection import train_test_split\n",
        "from sklearn.metrics import classification_report, accuracy_score\n",
        "\n",
        "# Load the iris dataset\n",
        "data = load_iris()\n",
        "X = data.data\n",
        "y = data.target\n",
        "\n",
        "# Split the dataset into training and test sets\n",
        "X_train, X_test, y_train, y_test = train_test_split(X, y, test_size=0.3, random_state=42)\n",
        "\n",
        "# Create a logistic regression model with multinomial strategy\n",
        "model = LogisticRegression(multi_class='multinomial', max_iter=1000)\n",
        "\n",
        "# Train the model\n",
        "model.fit(X_train, y_train)\n",
        "\n",
        "# Make predictions\n",
        "y_pred = model.predict(X_test)\n",
        "\n",
        "# Evaluate the model\n",
        "print(\"Accuracy:\", accuracy_score(y_test, y_pred))\n",
        "print(\"Classification Report:\\n\", classification_report(y_test, y_pred))\n"
      ],
      "metadata": {
        "colab": {
          "base_uri": "https://localhost:8080/"
        },
        "id": "JNn8A3cJ7nLL",
        "outputId": "21921b6f-2081-49e1-a517-ab192ce01b51"
      },
      "execution_count": 46,
      "outputs": [
        {
          "output_type": "stream",
          "name": "stdout",
          "text": [
            "Accuracy: 1.0\n",
            "Classification Report:\n",
            "               precision    recall  f1-score   support\n",
            "\n",
            "           0       1.00      1.00      1.00        19\n",
            "           1       1.00      1.00      1.00        13\n",
            "           2       1.00      1.00      1.00        13\n",
            "\n",
            "    accuracy                           1.00        45\n",
            "   macro avg       1.00      1.00      1.00        45\n",
            "weighted avg       1.00      1.00      1.00        45\n",
            "\n"
          ]
        }
      ]
    },
    {
      "cell_type": "markdown",
      "source": [
        "Q6. Describe the steps involved in an end-to-end project for multiclass classification."
      ],
      "metadata": {
        "id": "42QaPvsV7xL6"
      }
    },
    {
      "cell_type": "markdown",
      "source": [
        "An end-to-end project for multiclass classification typically involves several key steps. Here’s a general outline:\n",
        "\n",
        "1. **Problem Definition**\n",
        "   - **Understand the Problem:** Clearly define the classification task and the classes involved. Determine the business or research objectives.\n",
        "   - **Specify Requirements:** Identify the metrics and success criteria for the classification model.\n",
        "\n",
        "2. **Data Collection**\n",
        "   - **Gather Data:** Collect the dataset relevant to the classification task. This might involve querying databases, scraping web data, or using existing datasets.\n",
        "   - **Data Sources:** Ensure you have the necessary permissions and that the data sources are reliable.\n",
        "\n",
        "3. **Data Preparation**\n",
        "   - **Data Cleaning:** Handle missing values, outliers, and inconsistencies. Remove or correct erroneous data.\n",
        "   - **Data Transformation:** Normalize or standardize features if necessary. Encode categorical variables into numerical formats (e.g., one-hot encoding).\n",
        "   - **Feature Engineering:** Create new features or modify existing ones to improve model performance.\n",
        "\n",
        "4. **Exploratory Data Analysis (EDA)**\n",
        "   - **Visualize Data:** Use plots and charts to understand distributions, relationships, and patterns in the data.\n",
        "   - **Statistical Analysis:** Perform statistical tests to gain insights into the data and assess correlations between features and target classes.\n",
        "\n",
        "5. **Data Splitting**\n",
        "   - **Train-Test Split:** Divide the dataset into training and testing subsets. Optionally, use cross-validation to ensure robust performance evaluation.\n",
        "   - **Validation Set:** If needed, create a separate validation set for hyperparameter tuning.\n",
        "\n",
        "6. **Model Selection**\n",
        "   - **Choose Algorithms:** Select appropriate classification algorithms (e.g., logistic regression, decision trees, random forests, SVM, neural networks) based on the problem and data characteristics.\n",
        "   - **Implement Models:** Use machine learning libraries (e.g., scikit-learn, TensorFlow, PyTorch) to build and train the models.\n",
        "\n",
        "7. **Model Training**\n",
        "   - **Train Models:** Fit the models to the training data, adjusting hyperparameters as needed.\n",
        "   - **Monitor Performance:** Track metrics such as accuracy, precision, recall, F1 score, and confusion matrix during training.\n",
        "\n",
        "8. **Model Evaluation**\n",
        "   - **Evaluate Performance:** Assess the model’s performance on the test set using appropriate metrics.\n",
        "   - **Analyze Results:** Check for class imbalances and interpret the model’s predictions and errors.\n",
        "\n",
        "9. **Hyperparameter Tuning**\n",
        "   - **Optimize Hyperparameters:** Use techniques like grid search or random search to find the best hyperparameters for the models.\n",
        "   - **Validation:** Validate the tuned models to ensure they generalize well to new data.\n",
        "\n",
        "10. **Model Deployment**\n",
        "    - **Prepare for Deployment:** Convert the model into a production-ready format (e.g., export as a pickle file, use a model serving framework).\n",
        "    - **Integrate with Systems:** Deploy the model into the target environment, integrating it with applications or services that will use the predictions.\n",
        "\n",
        "11. **Monitoring and Maintenance**\n",
        "    - **Monitor Performance:** Continuously track the model’s performance in production to detect issues or drifts in data.\n",
        "    - **Update Model:** Retrain or update the model as needed based on new data or changes in requirements.\n",
        "\n",
        "12. **Documentation and Reporting**\n",
        "    - **Document Process:** Keep detailed records of the methods, models, parameters, and results.\n",
        "    - **Report Findings:** Prepare and present reports to stakeholders, summarizing the project’s outcomes and impact.\n",
        "\n",
        "Each step involves specific techniques and tools, so the details might vary depending on the project’s complexity and domain."
      ],
      "metadata": {
        "id": "YMNG1XbX71by"
      }
    },
    {
      "cell_type": "markdown",
      "source": [
        "Q7. What is model deployment and why is it important?"
      ],
      "metadata": {
        "id": "wqPWajZe9DFK"
      }
    },
    {
      "cell_type": "markdown",
      "source": [
        "**Model deployment** in the context of machine learning refers to integrating a trained model into a production environment where it can process inputs and generate outputs. Let's break down its importance:\n",
        "\n",
        "1. **Enhancing Model Performance**: Deployment directly impacts a model's efficiency. By deploying it, you enable real-time predictions, allowing timely actions based on accurate insights¹².\n",
        "\n",
        "2. **Ensuring Scalability**: As data volumes grow and demands shift, a deployed machine learning system must scale seamlessly without disruptions. Deployment ensures your model can handle increased workloads¹.\n",
        "\n",
        "3. **Cost Implication**: Different deployment methods come with varying costs. Choosing the right approach balances performance and expenses¹.\n",
        "\n",
        "4. **Security and Compliance**: Deployed models need robust security measures to protect sensitive data and comply with regulations¹.\n",
        "\n",
        "5. **Flexibility and Versatility**: Deployment allows your model to adapt to changing requirements and integrate with existing infrastructure¹.\n",
        "\n",
        "6. **Seamless Integration**: A deployed model becomes a practical tool, ready to make predictions on fresh, real-world data².\n",
        "\n",
        "In summary, model deployment bridges the gap between development and practical use, making machine learning models valuable for decision-making and insights¹². 🚀\n",
        "\n"
      ],
      "metadata": {
        "id": "zgsxjCw99JR3"
      }
    },
    {
      "cell_type": "markdown",
      "source": [
        "Q8. Explain how multi-cloud platforms are used for model deployment."
      ],
      "metadata": {
        "id": "DIT1iTDy96TG"
      }
    },
    {
      "cell_type": "markdown",
      "source": [
        "Certainly! Multi-cloud platforms involve using multiple public cloud providers to enhance flexibility, fault tolerance, and reliability. Here are some key deployment models:\n",
        "\n",
        "1. **Mono Cloud**: Enterprises start with a single public or private cloud service provider (CSP) across the entire organization.\n",
        "2. **Hybrid Cloud**: Applications run in combination with a public/private CSP and on-premises infrastructure. Sensitive workloads may stay on-premises, while less critical parts use public cloud providers.\n",
        "3. **Polycloud**: Enterprises explore multiple public CSPs based on factors like feature fitment, cost, and service maturity.\n",
        "4. **Multicloud**: Leveraging multiple public CSPs (e.g., Microsoft Azure, Amazon AWS, Google Cloud) to optimize workloads and achieve business objectives.\n",
        "5. **Distributed Cloud**: Extending cloud services to edge locations for low-latency processing and data distribution¹.\n",
        "\n",
        "In summary, multi-cloud strategies allow organizations to harness the strengths of different platforms, balancing performance, compliance, and cost considerations.\n",
        "\n"
      ],
      "metadata": {
        "id": "uqcGrlqL9-0w"
      }
    },
    {
      "cell_type": "markdown",
      "source": [
        "Q9. Discuss the benefits and challenges of deploying machine learning models in a multi-cloud\n",
        "environment."
      ],
      "metadata": {
        "id": "VYJrm2Lw-gbP"
      }
    },
    {
      "cell_type": "markdown",
      "source": [
        "Deploying machine learning models in a multi-cloud environment can offer several benefits and challenges. Here’s a breakdown of each:\n",
        "\n",
        "### Benefits:\n",
        "\n",
        "1. **Avoid Vendor Lock-In**: By using multiple cloud providers, organizations can avoid being dependent on a single vendor, allowing more flexibility and negotiating power.\n",
        "\n",
        "2. **Optimized Performance and Cost**: Different cloud providers may offer specialized services and pricing models that can be used to optimize performance and cost. For example, one provider might have better GPU availability, while another might offer more cost-effective storage solutions.\n",
        "\n",
        "3. **Resilience and Redundancy**: Multi-cloud strategies can enhance system reliability and disaster recovery. If one provider experiences an outage, services can failover to another provider, ensuring continuity of operations.\n",
        "\n",
        "4. **Regulatory Compliance**: Different regions and countries have varying regulations regarding data storage and processing. Multi-cloud environments allow organizations to place data in specific regions to comply with local regulations.\n",
        "\n",
        "5. **Leveraging Unique Features**: Different cloud providers offer unique features and services (e.g., specialized AI tools, data management systems) that can be leveraged to enhance machine learning workflows.\n",
        "\n",
        "### Challenges:\n",
        "\n",
        "1. **Complexity in Management**: Managing resources across multiple cloud providers can be complex. It requires sophisticated orchestration, monitoring, and management tools to ensure seamless operation and integration.\n",
        "\n",
        "2. **Data Integration and Consistency**: Ensuring consistent data access and integration across different cloud environments can be challenging. Data synchronization issues might arise, leading to potential discrepancies in model training and predictions.\n",
        "\n",
        "3. **Increased Security Risks**: A multi-cloud environment can expand the attack surface, making it more challenging to secure data and applications. It requires robust security policies and practices to mitigate risks across different platforms.\n",
        "\n",
        "4. **Cost Management**: While multi-cloud environments can optimize costs, they can also lead to unpredictable expenses due to different pricing models and potential hidden costs associated with data transfer and management.\n",
        "\n",
        "5. **Interoperability Issues**: Different cloud providers use different tools, APIs, and standards. Ensuring that machine learning models and workflows work seamlessly across various platforms can require additional effort in terms of integration and customization.\n",
        "\n",
        "6. **Performance Overheads**: Data transfer between cloud providers can introduce latency and performance overheads, which can impact the efficiency of machine learning workflows.\n",
        "\n",
        "### Best Practices for Multi-Cloud Deployment:\n",
        "\n",
        "- **Standardize Interfaces**: Use standardized APIs and tools to facilitate integration and interoperability across cloud providers.\n",
        "- **Implement Robust Monitoring and Management Tools**: Employ tools that offer visibility and control across different cloud environments.\n",
        "- **Adopt a Strong Security Framework**: Implement comprehensive security practices, including encryption, access controls, and regular audits.\n",
        "- **Optimize Data Management**: Use data integration and synchronization tools to ensure consistent and accurate data across clouds.\n",
        "- **Cost Monitoring**: Regularly monitor and analyze costs to prevent budget overruns and optimize resource usage.\n",
        "\n",
        "Overall, while deploying machine learning models in a multi-cloud environment can offer significant benefits, it requires careful planning and management to address the associated challenges effectively."
      ],
      "metadata": {
        "id": "I5hO5j6I-jrm"
      }
    },
    {
      "cell_type": "code",
      "source": [],
      "metadata": {
        "id": "hJbDLMkJ7tB2"
      },
      "execution_count": null,
      "outputs": []
    }
  ]
}