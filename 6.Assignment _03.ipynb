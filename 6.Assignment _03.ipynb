{
 "cells": [
  {
   "cell_type": "code",
   "execution_count": null,
   "id": "883249e1-9af9-49da-b307-1f7e4176d1f5",
   "metadata": {},
   "outputs": [],
   "source": [
    "Q1. what is multithreading in python? hy is it used? Name the module used to handle threads in python"
   ]
  },
  {
   "cell_type": "code",
   "execution_count": null,
   "id": "151e8740-599f-454b-a00c-1c6152748be7",
   "metadata": {},
   "outputs": [],
   "source": [
    "Multithreading in Python:\n",
    "Multithreading is a programming technique that allows a single process to execute multiple threads concurrently.\n",
    "Each thread runs independently and can perform different tasks simultaneously.\n",
    "In Python, multithreading is particularly useful for achieving parallelism, especially when dealing with I/O-bound tasks (e.g., reading/writing files, making network requests).\n",
    "It enables efficient utilization of system resources, as threads can run concurrently on a single CPU core."
   ]
  },
  {
   "cell_type": "code",
   "execution_count": null,
   "id": "4d778c47-d646-4e2f-8212-426ffb8902e4",
   "metadata": {},
   "outputs": [],
   "source": [
    "Why Use Multithreading?:\n",
    "Concurrency: Multithreading allows you to perform multiple tasks concurrently, improving overall program efficiency.\n",
    "Responsiveness: Threads can handle tasks like user input, GUI updates, or network communication without blocking the main program.\n",
    "Resource Sharing: Threads within a process share memory space, making it easier to share data between them.\n",
    "Python’s Global Interpreter Lock (GIL): Python’s GIL restricts true parallel execution of threads due to memory management concerns. However, multithreading can still be beneficial for I/O-bound tasks.\n",
    "    "
   ]
  },
  {
   "cell_type": "code",
   "execution_count": null,
   "id": "4e34bfbe-67be-483f-94b2-51fba9a84ebb",
   "metadata": {},
   "outputs": [],
   "source": [
    "Python’s Threading Module:\n",
    "In Python, the threading module provides a simple and intuitive API for working with threads.\n",
    "You can create, start, join, and manage threads using this module.\n",
    "The Thread class from the threading module is used to create and manage threads."
   ]
  },
  {
   "cell_type": "code",
   "execution_count": 6,
   "id": "d9a31fa4-197a-461a-b9fc-18f6c184f528",
   "metadata": {},
   "outputs": [
    {
     "name": "stdout",
     "output_type": "stream",
     "text": [
      "Number: 1\n",
      "Number: 2\n",
      "Number: 3\n",
      "Number: 4\n",
      "Number: 5\n",
      "Letter: a\n",
      "Letter: b\n",
      "Letter: c\n",
      "Letter: d\n",
      "Letter: e\n",
      "Multithreading example completed!\n"
     ]
    }
   ],
   "source": [
    "import threading\n",
    "\n",
    "def print_numbers():\n",
    "    for i in range(1, 6):\n",
    "        print(f\"Number: {i}\")\n",
    "\n",
    "def print_letters():\n",
    "    for letter in 'abcde':\n",
    "        print(f\"Letter: {letter}\")\n",
    "\n",
    "# Create two threads\n",
    "t1 = threading.Thread(target=print_numbers)\n",
    "t2 = threading.Thread(target=print_letters)\n",
    "\n",
    "# Start the threads\n",
    "t1.start()\n",
    "t2.start()\n",
    "\n",
    "# Wait for both threads to finish\n",
    "t1.join()\n",
    "t2.join()\n",
    "\n",
    "print(\"Multithreading example completed!\")\n"
   ]
  },
  {
   "cell_type": "code",
   "execution_count": null,
   "id": "fef1f404-4edb-43c3-9d3f-0bae90579a4a",
   "metadata": {},
   "outputs": [],
   "source": [
    "Q2.why threading module used? write the use of the following functions\n",
    "1. activeCount()\n",
    "2. currentThread()\n",
    "3.  enumerate()"
   ]
  },
  {
   "cell_type": "code",
   "execution_count": null,
   "id": "4a6a8d4c-c384-4472-b6b1-1178be5c5713",
   "metadata": {},
   "outputs": [],
   "source": [
    "The threading module in Python is used to create, manage, and work with threads in a Python program.\n",
    "It provides a high-level interface for working with threads, allowing you to perform concurrent execution of tasks, coordinate access to shared resources, and synchronize operations between threads.\n",
    "Here's the use of the following functions provided by the threading module:"
   ]
  },
  {
   "cell_type": "code",
   "execution_count": null,
   "id": "dd470ba2-0499-4cb5-beea-03140decbf8a",
   "metadata": {},
   "outputs": [],
   "source": [
    "activeCount():\n",
    "The activeCount() function returns the number of active threads in the current thread's thread group.\n",
    "It provides a way to obtain information about the number of threads currently executing in the program.\n",
    "This function can be useful for monitoring the concurrency level of a program or diagnosing potential threading issues.\n",
    "Example:"
   ]
  },
  {
   "cell_type": "code",
   "execution_count": 1,
   "id": "3323898d-f1df-4086-9446-2ccbc1e32648",
   "metadata": {},
   "outputs": [
    {
     "name": "stdout",
     "output_type": "stream",
     "text": [
      "Task executed by thread\n",
      "Number of active threads: 8\n"
     ]
    },
    {
     "name": "stderr",
     "output_type": "stream",
     "text": [
      "/tmp/ipykernel_2420/269834018.py:11: DeprecationWarning: activeCount() is deprecated, use active_count() instead\n",
      "  num_active_threads = threading.activeCount()\n"
     ]
    }
   ],
   "source": [
    "import threading\n",
    "\n",
    "def task():\n",
    "    print(\"Task executed by thread\")\n",
    "\n",
    "# Create and start a thread\n",
    "thread = threading.Thread(target=task)\n",
    "thread.start()\n",
    "\n",
    "# Get the number of active threads\n",
    "num_active_threads = threading.activeCount()\n",
    "print(\"Number of active threads:\", num_active_threads)\n"
   ]
  },
  {
   "cell_type": "code",
   "execution_count": null,
   "id": "8bd0c4ba-435f-4873-8878-706c84de1fe6",
   "metadata": {},
   "outputs": [],
   "source": [
    "currentThread():\n",
    "The currentThread() function returns the current thread object, representing the thread from which it is called.\n",
    "It allows you to obtain a reference to the current thread for various purposes, such as identifying the thread, accessing thread-specific data, or debugging."
   ]
  },
  {
   "cell_type": "code",
   "execution_count": 3,
   "id": "d316363a-bd37-4d15-9c1b-4807128ec9e5",
   "metadata": {},
   "outputs": [
    {
     "name": "stdout",
     "output_type": "stream",
     "text": [
      "Current thread: Thread-7 (task)\n"
     ]
    },
    {
     "name": "stderr",
     "output_type": "stream",
     "text": [
      "/tmp/ipykernel_2420/2078521335.py:4: DeprecationWarning: currentThread() is deprecated, use current_thread() instead\n",
      "  current_thread = threading.currentThread()\n"
     ]
    }
   ],
   "source": [
    "import threading\n",
    "\n",
    "def task():\n",
    "    current_thread = threading.currentThread()\n",
    "    print(\"Current thread:\", current_thread.name)\n",
    "\n",
    "# Create and start a thread\n",
    "thread = threading.Thread(target=task)\n",
    "thread.start()\n"
   ]
  },
  {
   "cell_type": "code",
   "execution_count": null,
   "id": "816933ee-bf3f-4de4-b518-88adf094c514",
   "metadata": {},
   "outputs": [],
   "source": [
    "enumerate():\n",
    "The enumerate() function returns a list of all active Thread objects in the current thread's thread group.\n",
    "It provides a way to obtain information about all active threads in the program, including their names, IDs, and states."
   ]
  },
  {
   "cell_type": "code",
   "execution_count": 5,
   "id": "ad9c8bce-9cb8-46c5-a5c7-bbfd23043f77",
   "metadata": {},
   "outputs": [
    {
     "name": "stdout",
     "output_type": "stream",
     "text": [
      "Task executed by thread\n",
      "Task executed by thread\n",
      "Task executed by thread\n",
      "Active threads:\n",
      "Thread: MainThread\n",
      "Thread: IOPub\n",
      "Thread: Heartbeat\n",
      "Thread: Thread-3 (_watch_pipe_fd)\n",
      "Thread: Thread-4 (_watch_pipe_fd)\n",
      "Thread: Control\n",
      "Thread: IPythonHistorySavingThread\n",
      "Thread: Thread-2\n"
     ]
    }
   ],
   "source": [
    "import threading\n",
    "\n",
    "def task():\n",
    "    print(\"Task executed by thread\")\n",
    "\n",
    "# Create and start multiple threads\n",
    "threads = []\n",
    "for i in range(3):\n",
    "    thread = threading.Thread(target=task)\n",
    "    thread.start()\n",
    "    threads.append(thread)\n",
    "\n",
    "# Enumerate active threads\n",
    "active_threads = threading.enumerate()\n",
    "print(\"Active threads:\")\n",
    "for thread in active_threads:\n",
    "    print(\"Thread:\", thread.name)\n"
   ]
  },
  {
   "cell_type": "code",
   "execution_count": null,
   "id": "8d1b974f-b775-4879-bde7-c2bc38431647",
   "metadata": {},
   "outputs": [],
   "source": [
    "Q3. Explain the following functions\n",
    "1. run()\n",
    "2. start()\n",
    " 3. join()\n",
    "4. isAlive()"
   ]
  },
  {
   "cell_type": "code",
   "execution_count": null,
   "id": "b99285fa-5a45-4981-892a-85552e904441",
   "metadata": {},
   "outputs": [],
   "source": [
    "run():\n",
    "The run() method is not directly called by the programmer. \n",
    "Instead, it is invoked automatically when a thread is started using the start() method.\n",
    "You can override the run() method in your custom thread class to define the specific behavior you want the thread to execute.\n"
   ]
  },
  {
   "cell_type": "code",
   "execution_count": 7,
   "id": "e82badec-84d0-4873-ba04-f78d958cc69b",
   "metadata": {},
   "outputs": [
    {
     "name": "stdout",
     "output_type": "stream",
     "text": [
      "Custom thread is running!\n"
     ]
    }
   ],
   "source": [
    "import threading\n",
    "\n",
    "class MyThread(threading.Thread):\n",
    "    def run(self):\n",
    "        print(\"Custom thread is running!\")\n",
    "\n",
    "t = MyThread()\n",
    "t.start()  # Automatically calls t.run()\n"
   ]
  },
  {
   "cell_type": "code",
   "execution_count": null,
   "id": "8e0dd0d5-664f-48ea-a51b-a8cf1a2db102",
   "metadata": {},
   "outputs": [],
   "source": [
    "start():\n",
    "The start() method is used to start a new thread.\n",
    "When you call start(), it creates a new thread of execution and invokes the run() method.\n",
    "It’s essential to use start() instead of directly calling run() to ensure proper thread management."
   ]
  },
  {
   "cell_type": "code",
   "execution_count": null,
   "id": "f78a20e0-447f-4bcc-9ded-3c0d3d2a0abd",
   "metadata": {},
   "outputs": [],
   "source": [
    "join():\n",
    "The join() method blocks the calling thread until the target thread (the one you call join() on) completes its execution.\n",
    "It’s commonly used to wait for a thread to finish before proceeding with the main program.\n",
    "Example:"
   ]
  },
  {
   "cell_type": "code",
   "execution_count": 8,
   "id": "9a796a78-6225-4254-8539-871db49b03e5",
   "metadata": {},
   "outputs": [
    {
     "name": "stdout",
     "output_type": "stream",
     "text": [
      "Numbers : 1\n",
      "Numbers : 2\n",
      "Numbers : 3\n",
      "Numbers : 4\n",
      "Numbers : 5\n",
      "Main program continues....\n"
     ]
    }
   ],
   "source": [
    "import threading\n",
    "\n",
    "def print_numbers():\n",
    "    for i in range(1,6):\n",
    "        print(f\"Numbers : {i}\")\n",
    "        \n",
    "t = threading.Thread(target = print_numbers)\n",
    "t.start()\n",
    "t.join()\n",
    "print(\"Main program continues....\")"
   ]
  },
  {
   "cell_type": "code",
   "execution_count": null,
   "id": "180684b2-0b79-4dc2-bf61-f8d9fe9a7377",
   "metadata": {},
   "outputs": [],
   "source": [
    "isAlive():\n",
    "The isAlive() method checks whether a thread is still active (i.e., running).\n",
    "It returns True if the thread is running, and False otherwise.\n",
    "Example:"
   ]
  },
  {
   "cell_type": "code",
   "execution_count": null,
   "id": "6b292f71-ede9-4b66-9962-fd38563b5fae",
   "metadata": {},
   "outputs": [],
   "source": [
    "import threading\n",
    "import time\n",
    "\n",
    "def my_task():\n",
    "    time.sleep(2)\n",
    "\n",
    "t = threading.Thread(target=my_task)\n",
    "t.start()\n",
    "\n",
    "print(f\"Thread is alive: {t.isAlive()}\")  # Output: Thread is alive: True\n",
    "t.join()\n",
    "print(f\"Thread is alive: {t.isAlive()}\")  # Output: Thread is alive: False\n"
   ]
  },
  {
   "cell_type": "code",
   "execution_count": null,
   "id": "c48d53da-2ffd-4a48-af0c-41518a31bec5",
   "metadata": {},
   "outputs": [],
   "source": [
    "Q4. Write a python program to create two threads. \n",
    "Thread one must print the list of squares and thread\n",
    "two must print the list of cubes"
   ]
  },
  {
   "cell_type": "code",
   "execution_count": 3,
   "id": "3357a81c-3a00-4b3d-9571-bb88246a0eca",
   "metadata": {},
   "outputs": [
    {
     "name": "stdout",
     "output_type": "stream",
     "text": [
      "1 squared = 1\n",
      "2 squared = 4\n",
      "3 squared = 9\n",
      "4 squared = 16\n",
      "5 squared = 25\n",
      "1 cubed = 1\n",
      "2 cubed = 8\n",
      "3 cubed = 27\n",
      "4 cubed = 64\n",
      "5 cubed = 125\n",
      "Done\n"
     ]
    }
   ],
   "source": [
    "import threading\n",
    "\n",
    "def calculate_squares(numbers):\n",
    "    for num in numbers:\n",
    "        print(f\"{num} squared = {num**2}\")\n",
    "        \n",
    "def calculate_cubes(numbers):\n",
    "    for num in numbers:\n",
    "        print(f\"{num} cubed = {num**3}\")\n",
    "        \n",
    "#Create a list of numbers (you can modify this range as needed)\n",
    "              \n",
    "numbers_list = [ 1,2,3,4,5]\n",
    "              \n",
    "#Create two threads\n",
    "t1 = threading.Thread(target = calculate_squares, args = (numbers_list,))\n",
    "t2 = threading.Thread(target = calculate_cubes, args = (numbers_list,))\n",
    "              \n",
    "t1.start()\n",
    "t2.start()\n",
    "              \n",
    "t1.join()\n",
    "t2.join()\n",
    "              \n",
    "print(\"Done\")\n",
    "              "
   ]
  },
  {
   "cell_type": "code",
   "execution_count": null,
   "id": "58c2d3e5-a46e-45c9-b613-2f3cc22042f8",
   "metadata": {},
   "outputs": [],
   "source": [
    "Q5. State advantages and disadvantages of multithreading"
   ]
  },
  {
   "cell_type": "code",
   "execution_count": null,
   "id": "00675a92-af9b-4fae-a1aa-71a688630e75",
   "metadata": {},
   "outputs": [],
   "source": [
    "Multithreading offers several advantages and disadvantages, depending on the context and requirements of the application. Let's explore both:\n",
    "\n",
    "Advantages of Multithreading:\n",
    "\n",
    "1. **Concurrency**: Multithreading allows multiple tasks to execute concurrently within the same process. This can lead to improved performance and efficiency, especially in applications that perform I/O-bound operations such as network communication or disk I/O.\n",
    "\n",
    "2. **Responsiveness**: Multithreading can enhance the responsiveness of an application, particularly in user interfaces. By running time-consuming tasks in separate threads, the main thread remains responsive to user input, ensuring a smoother user experience.\n",
    "\n",
    "3. **Resource Sharing**: Threads within the same process share the same memory space, making it easy to share data and resources between threads. This can simplify communication and coordination between different parts of an application.\n",
    "\n",
    "4. **Parallelism**: Although Python's Global Interpreter Lock (GIL) limits true parallelism for CPU-bound tasks, multithreading can still provide benefits for parallelizing I/O-bound tasks across multiple threads.\n",
    "\n",
    "5. **Scalability**: Multithreading can improve the scalability of applications, allowing them to handle multiple concurrent requests or tasks more efficiently.\n",
    "\n",
    "Disadvantages of Multithreading:\n",
    "\n",
    "1. **Complexity**: Multithreading introduces complexity into the design and implementation of an application. Managing concurrency, synchronization, and shared resources can be challenging and lead to subtle bugs and race conditions.\n",
    "\n",
    "2. **Resource Overhead**: Each thread consumes system resources, including memory for stack space and CPU time for context switching. As the number of threads increases, so does the overhead associated with managing and switching between them.\n",
    "\n",
    "3. **Synchronization Overhead**: Synchronizing access to shared resources between multiple threads can introduce overhead and potentially lead to performance bottlenecks. Incorrectly implemented synchronization mechanisms can also result in deadlocks or other concurrency issues.\n",
    "\n",
    "4. **Debugging and Testing**: Multithreaded programs are often more difficult to debug and test than single-threaded programs. Race conditions and timing-dependent bugs may only manifest under specific conditions, making them harder to reproduce and diagnose.\n",
    "\n",
    "5. **Potential for Thread Starvation and Deadlocks**: Improperly designed multithreaded applications may suffer from thread starvation (where certain threads are unable to make progress) or deadlocks (where threads are blocked indefinitely waiting for each other to release resources).\n",
    "\n",
    "In summary, while multithreading can offer significant benefits in terms of performance, responsiveness, and scalability, it also introduces complexity and potential pitfalls that must be carefully managed and mitigated. It's essential to weigh the advantages and disadvantages of multithreading carefully and consider alternative concurrency models (such as multiprocessing or asynchronous programming) depending on the specific requirements and constraints of the application."
   ]
  },
  {
   "cell_type": "code",
   "execution_count": null,
   "id": "d3cc92f0-7bb4-4c36-bcde-0a8c2d38beda",
   "metadata": {},
   "outputs": [],
   "source": [
    "Q6. Explain deadlocks and race conditions."
   ]
  },
  {
   "cell_type": "code",
   "execution_count": null,
   "id": "1711bda6-9414-48fa-afdb-dd00e8606afa",
   "metadata": {},
   "outputs": [],
   "source": [
    "Deadlocks and race conditions are two common concurrency-related problems that can occur in multithreaded or multiprocessing programs. Let's define each:\n",
    "\n",
    "1. **Deadlock**:\n",
    "   - Deadlock is a situation where two or more threads or processes are unable to proceed because each is waiting for the other to release a resource that it needs before proceeding.\n",
    "   - Deadlocks typically occur in multithreaded or multiprocessing programs when multiple threads or processes acquire locks on resources in a way that creates a circular dependency.\n",
    "   - Deadlocks can cause the entire program to hang indefinitely, as none of the threads or processes involved can make progress.\n",
    "\n",
    "2. **Race Condition**:\n",
    "   - A race condition occurs when the outcome of a program depends on the relative timing or interleaving of operations performed by multiple threads or processes.\n",
    "   - Race conditions arise when multiple threads or processes access shared resources or variables concurrently without proper synchronization, leading to unpredictable behavior.\n",
    "   - Race conditions can result in incorrect program behavior, data corruption, or unexpected results, as the outcome of the program becomes nondeterministic and depends on the order of execution of the concurrent operations.\n",
    "\n",
    "To illustrate further, consider the following scenarios:\n",
    "\n",
    "1. **Deadlock Example**:\n",
    "   - Thread 1 acquires lock A and waits for lock B.\n",
    "   - Thread 2 acquires lock B and waits for lock A.\n",
    "   - Both threads are now waiting for each other to release the lock they need, resulting in a deadlock situation where neither thread can make progress.\n",
    "\n",
    "2. **Race Condition Example**:\n",
    "   - Two threads concurrently increment a shared counter variable without proper synchronization.\n",
    "   - Thread 1 reads the current value of the counter (e.g., 5).\n",
    "   - Thread 2 also reads the current value of the counter (still 5).\n",
    "   - Both threads increment the counter by 1 and write the updated value back (resulting in a final value of 6).\n",
    "   - However, since both threads read the original value of 5 before incrementing, the final value should have been 7 (5 + 1 + 1).\n",
    "\n",
    "To prevent deadlocks and race conditions, it's essential to use proper synchronization mechanisms, such as locks, semaphores, or mutexes, to coordinate access to shared resources and ensure mutual exclusion where necessary. Additionally, careful design and testing of multithreaded or multiprocessing programs can help identify and mitigate potential concurrency issues before they manifest in production environments."
   ]
  }
 ],
 "metadata": {
  "kernelspec": {
   "display_name": "Python 3 (ipykernel)",
   "language": "python",
   "name": "python3"
  },
  "language_info": {
   "codemirror_mode": {
    "name": "ipython",
    "version": 3
   },
   "file_extension": ".py",
   "mimetype": "text/x-python",
   "name": "python",
   "nbconvert_exporter": "python",
   "pygments_lexer": "ipython3",
   "version": "3.10.8"
  }
 },
 "nbformat": 4,
 "nbformat_minor": 5
}
