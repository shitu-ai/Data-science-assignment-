{
 "cells": [
  {
   "cell_type": "code",
   "execution_count": null,
   "id": "83af6ba8-0b7a-4330-b1dd-5555a720a888",
   "metadata": {},
   "outputs": [],
   "source": [
    "Q1. What is MongoDB? \n",
    "Explain non-relational databases in short.\n",
    "In which scenarios it is preferred to use\n",
    "MongoDB over SQL databases?"
   ]
  },
  {
   "cell_type": "code",
   "execution_count": null,
   "id": "8ccd6929-b396-49c9-af06-cde135ad7721",
   "metadata": {},
   "outputs": [],
   "source": [
    "MongoDB is a popular NoSQL database management system that provides a flexible and scalable approach to storing and managing data. Unlike traditional relational databases like SQL, MongoDB follows a non-relational or document-oriented data model. Here's a brief explanation of non-relational databases and scenarios where MongoDB might be preferred over SQL databases:\n",
    "\n",
    "**Non-Relational Databases:**\n",
    "\n",
    "Non-relational databases, also known as NoSQL databases, are designed to handle large volumes of unstructured or semi-structured data. Unlike relational databases, which use structured query language (SQL) and a tabular schema, non-relational databases employ various data models, such as key-value, document, column-family, or graph-based models.\n",
    "\n",
    "These databases are often preferred for their flexibility, scalability, and ability to handle diverse data types. They excel in scenarios where the data schema is dynamic or evolving, and where horizontal scalability (scaling out across multiple servers) is crucial.\n",
    "\n",
    "**MongoDB and its Preference over SQL Databases:**\n",
    "\n",
    "MongoDB is a document-oriented NoSQL database that stores data in flexible, JSON-like documents. It offers the following advantages over traditional SQL databases in certain scenarios:\n",
    "\n",
    "1. **Schema Flexibility**: MongoDB does not enforce a fixed schema like SQL databases. Documents within a collection can have different structures, allowing for more flexibility in data modeling. This is particularly useful in applications where the data schema evolves frequently or is not fully known upfront.\n",
    "\n",
    "2. **Scalability**: MongoDB is designed to scale horizontally, allowing it to handle large volumes of data and high throughput. It supports sharding, which distributes data across multiple servers, enabling seamless scalability as data grows. This makes MongoDB well-suited for applications with rapidly expanding data requirements.\n",
    "\n",
    "3. **Handling Unstructured Data**: MongoDB's document-oriented nature makes it suitable for storing unstructured or semi-structured data, such as JSON documents, binary data, or nested arrays. This makes it a preferred choice for applications dealing with diverse data types, such as content management systems, IoT data, or real-time analytics.\n",
    "\n",
    "4. **Faster Development**: MongoDB's flexible schema and document-based approach can lead to faster development cycles, as developers can quickly iterate on the data model without needing to modify complex database schemas or perform costly migrations.\n",
    "\n",
    "5. **High Availability**: MongoDB provides built-in support for replication and automatic failover, ensuring high availability and data durability. This is essential for mission-critical applications where downtime is not acceptable.\n",
    "\n",
    "In summary, MongoDB is preferred over SQL databases in scenarios requiring flexible schema design, scalability, handling of unstructured data, faster development cycles, and high availability. It's commonly used in modern web applications, content management systems, real-time analytics, and other use cases where these advantages are crucial."
   ]
  },
  {
   "cell_type": "code",
   "execution_count": null,
   "id": "1b767e7e-bd37-4745-9d5e-9a319bd26ec5",
   "metadata": {},
   "outputs": [],
   "source": [
    "Q2. State and Explain the features of MongoDB."
   ]
  },
  {
   "cell_type": "code",
   "execution_count": null,
   "id": "a9bbf27b-40a6-4f03-85bf-d73d81c01ded",
   "metadata": {},
   "outputs": [],
   "source": [
    "\n",
    "MongoDB, as a leading NoSQL database, offers a variety of features that make it popular among developers and organizations. Here are some key features of MongoDB along with explanations:\n",
    "\n",
    "Document-Oriented: MongoDB stores data in flexible, JSON-like documents called BSON (Binary JSON). Each document can have its own unique structure, allowing for easy storage and retrieval of complex, hierarchical data.\n",
    "\n",
    "Schemaless: Unlike traditional relational databases, MongoDB does not require a predefined schema. This schema-less design allows for dynamic and evolving data models, making it well-suited for agile development and applications with changing requirements.\n",
    "\n",
    "Highly Scalable: MongoDB is designed for horizontal scalability, allowing you to distribute data across multiple servers using sharding. This enables seamless scaling as data volumes and user loads increase, ensuring high performance and availability.\n",
    "\n",
    "Flexible Query Language: MongoDB's query language is powerful and expressive, supporting a wide range of operations for data retrieval, manipulation, and aggregation. It includes features such as field projections, sorting, filtering, aggregation pipelines, and geospatial queries.\n",
    "\n",
    "Indexing: MongoDB supports the creation of indexes on fields within documents, enabling efficient querying and improved performance. It offers various types of indexes, including single field, compound, multi-key, text, and geospatial indexes, allowing for optimal query execution.\n",
    "\n",
    "High Availability: MongoDB provides built-in support for replica sets, which are self-healing clusters of MongoDB nodes. Replica sets ensure data redundancy and automatic failover, minimizing downtime and ensuring data durability.\n",
    "\n",
    "Automatic Sharding: MongoDB's sharding feature allows you to horizontally partition data across multiple shards (distributed clusters). It automatically balances data across shards and redistributes data as the cluster grows or shrinks, providing linear scalability and improved performance.\n",
    "\n",
    "Ad Hoc Queries: MongoDB allows for ad hoc queries on any field within documents, without the need to define schema or create secondary indexes. This flexibility makes it easy to explore and analyze data in real-time, facilitating rapid prototyping and development.\n",
    "\n",
    "Aggregation Framework: MongoDB's aggregation framework provides powerful data aggregation and transformation capabilities, allowing you to perform complex analytics and computations directly within the database. It supports a variety of aggregation stages, operators, and expressions for data processing.\n",
    "\n",
    "Geospatial Queries: MongoDB includes native support for geospatial data and queries, allowing you to store and query spatial data such as points, lines, and polygons. This feature is useful for location-based applications, mapping, and spatial analysis.\n",
    "\n",
    "Overall, MongoDB's features such as document-oriented storage, schema flexibility, scalability, powerful querying capabilities, and high availability make it a versatile choice for a wide range of use cases, from web and mobile applications to real-time analytics and IoT platforms."
   ]
  },
  {
   "cell_type": "code",
   "execution_count": null,
   "id": "d91e4dc5-e2be-422e-823b-25ab5a07c16e",
   "metadata": {},
   "outputs": [],
   "source": [
    "Q3. Write a code to connect MongoDB to Python. Also, create a database and a collection in MongoDB.\n"
   ]
  },
  {
   "cell_type": "code",
   "execution_count": 1,
   "id": "e6d62183-cb2c-4d46-8fe8-ce1376508538",
   "metadata": {},
   "outputs": [
    {
     "name": "stdout",
     "output_type": "stream",
     "text": [
      "Collecting pymongo\n",
      "  Downloading pymongo-4.7.2-cp310-cp310-manylinux_2_17_x86_64.manylinux2014_x86_64.whl (670 kB)\n",
      "\u001b[2K     \u001b[90m━━━━━━━━━━━━━━━━━━━━━━━━━━━━━━━━━━━━━━\u001b[0m \u001b[32m670.0/670.0 kB\u001b[0m \u001b[31m17.0 MB/s\u001b[0m eta \u001b[36m0:00:00\u001b[0m00:01\u001b[0m\n",
      "\u001b[?25hCollecting dnspython<3.0.0,>=1.16.0\n",
      "  Downloading dnspython-2.6.1-py3-none-any.whl (307 kB)\n",
      "\u001b[2K     \u001b[90m━━━━━━━━━━━━━━━━━━━━━━━━━━━━━━━━━━━━━━\u001b[0m \u001b[32m307.7/307.7 kB\u001b[0m \u001b[31m36.3 MB/s\u001b[0m eta \u001b[36m0:00:00\u001b[0m\n",
      "\u001b[?25hInstalling collected packages: dnspython, pymongo\n",
      "Successfully installed dnspython-2.6.1 pymongo-4.7.2\n",
      "Note: you may need to restart the kernel to use updated packages.\n"
     ]
    }
   ],
   "source": [
    "pip install pymongo"
   ]
  },
  {
   "cell_type": "code",
   "execution_count": null,
   "id": "47d10495-31a3-4ddf-b098-3e1c234f59bc",
   "metadata": {},
   "outputs": [],
   "source": [
    "import pymongo\n",
    "#Establishing a connection to MongoDB\n",
    "client = pymongo.MongoClient(\"mongodb://localhost:27017\")\n",
    "\n",
    "#Creating a database\n",
    "mydb = client[\"mydatabase\"]\n",
    "\n",
    "#Creating a collection\n",
    "mycollection= mydb[\"mycollection\"]\n",
    "\n",
    "#Inserting a document into the collection\n",
    "data= { \"name\": \"John\", \"age\":30,\"city\":\"New York\"}\n",
    "inserted_doc = mycollection.insert_one(data)\n",
    "\n",
    "#Printing the inserted document's ID\n",
    "print(\"Inserted document ID:\", inserted_doc.inserted_id)\n",
    "\n",
    "#Closing the connection\n",
    "client.close()"
   ]
  },
  {
   "cell_type": "code",
   "execution_count": null,
   "id": "3e16668d-8429-4a58-b530-c7f78e78c09f",
   "metadata": {},
   "outputs": [],
   "source": [
    "Explanation:\n",
    "\n",
    "Connecting to MongoDB:\n",
    "\n",
    "We use pymongo.MongoClient() to establish a connection to MongoDB. We specify the connection URI, which includes the hostname (localhost) and port number (27017). If MongoDB is running on a different host or port, you need to provide the appropriate URI.\n",
    "\n",
    "Creating a Database:\n",
    "\n",
    "We access or create a database using the client object and square bracket notation. In this example, we create a database named \"mydatabase\".\n",
    "\n",
    "Creating a Collection:\n",
    "\n",
    "We create a collection within the database using square bracket notation. In this example, we create a collection named \"mycollection\" within the \"mydatabase\" database.\n",
    "\n",
    "Inserting a Document:\n",
    "\n",
    "We define a Python dictionary data representing the document to be inserted into the collection. We then use the insert_one() method of the collection object to insert the document into the collection.\n",
    "\n",
    "Printing Inserted Document ID:\n",
    "\n",
    "We print the _id of the inserted document using the inserted_id attribute of the inserted_doc object returned by insert_one().\n",
    "\n",
    "Closing the Connection:\n",
    "\n",
    "Finally, we close the connection to MongoDB using the close() method on the client object."
   ]
  },
  {
   "cell_type": "code",
   "execution_count": null,
   "id": "7e50fdb1-610e-408f-b1be-13938629ed76",
   "metadata": {},
   "outputs": [],
   "source": [
    "Q4. Using the database and the collection created in question number 3, write a code to insert one record,\n",
    "and insert many records. Use the find() and find_one() methods to print the inserted record."
   ]
  },
  {
   "cell_type": "code",
   "execution_count": null,
   "id": "ab81a273-e6c0-4b2c-bee0-dcd256618095",
   "metadata": {},
   "outputs": [],
   "source": [
    " here s the code to insert one record and insert multiple records into the collection created in question number 3, followed by using the find() and find_one() methods to print the inserted records:"
   ]
  },
  {
   "cell_type": "code",
   "execution_count": null,
   "id": "bf743899-bcbc-4b5b-aea8-a7eba41dcf43",
   "metadata": {},
   "outputs": [],
   "source": [
    "import pymongo\n",
    "\n",
    "#Establish a connection to MongoDB\n",
    "client = pymongo.MongoClient(\"mongodb://localhost:27017/\" )\n",
    "\n",
    "#Accessing the database and collection\n",
    "mydb = client[\"mydatabase\"]\n",
    "mycollection = mydb[\"mycollection\"]\n",
    "\n",
    "#inserting one record\n",
    "data_one = {\"name\": \"Alice \", \"age\": 25, \"city\": \"Los Angeles\"}\n",
    "inserted_one = mycollection.inserted_one(data_one)\n",
    "print(\"Inserted record ID (one record):\", inserted_one.inserted_id)\n",
    "\n",
    "#inserted multiple records\n",
    "data_many = \n",
    "[\n",
    "    {\"name\": \"Bob\", \"age\": 35, \"city\": \"Chicago\"}\n",
    "    {\"name\": \"Carol\",\"age\":40, \"city\": \"Houston\"}\n",
    "    { \"name\": \"David\", \"age\":28, \"city\": \"Miami}\n",
    "     ]\n",
    "inserted_many = mycollection.insert_many(data_many)\n",
    "print(\"Inserted record IDs (multiple records):\", inserted_many.inserted_ids)\n",
    "     \n",
    "#Using find_one() to print one inserted record\n",
    "print(\"\\nOne inserted record:\")\n",
    "print(mycollection.find_one({\"name\": \"Alice\"}))\n",
    "     \n",
    "#Using find() to print all inserted records\n",
    "print(\"\\nAll inserted record:\")\n",
    "for record in mycollection.find():\n",
    "     print(record)\n",
    "     \n",
    "#Closing the connection\n",
    "client.close()\n"
   ]
  },
  {
   "cell_type": "code",
   "execution_count": null,
   "id": "797bf080-901d-4448-a2a9-28d5f24e6c6e",
   "metadata": {},
   "outputs": [],
   "source": [
    "Inserting One Record:\n",
    "\n",
    "We define a Python dictionary data_one representing the record to be inserted. We then use the insert_one() method of the collection object to insert this record into the collection. The inserted record's ID is printed using the inserted_id attribute of the inserted_one object.\n",
    "\n",
    "Inserting Multiple Records:\n",
    "\n",
    "We define a list of Python dictionaries data_many representing multiple records to be inserted. We use the insert_many() method of the collection object to insert these records into the collection. The inserted records' IDs are printed using the inserted_ids attribute of the inserted_many object.\n",
    "\n",
    "Using find_one() and find():\n",
    "\n",
    "We use the find_one() method to retrieve and print one inserted record with the name \"Alice\".\n",
    "We use the find() method to retrieve and print all inserted records in the collection.\n",
    "Closing the Connection:\n",
    "\n",
    "Finally, we close the connection to MongoDB using the close() method on the client object.\n",
    "\n",
    "This code demonstrates inserting one record and multiple records into the collection, as well as using the find_one() and find() methods to retrieve and print the inserted records"
   ]
  },
  {
   "cell_type": "code",
   "execution_count": null,
   "id": "d867163e-d2b1-4adb-b7aa-206b4b3be57f",
   "metadata": {},
   "outputs": [],
   "source": [
    "Q5. Explain how you can use the find() method to query the MongoDB database. Write a simple code to\n",
    "demonstrate this."
   ]
  },
  {
   "cell_type": "code",
   "execution_count": null,
   "id": "6c6b68bd-369c-498e-8d82-021f669a086b",
   "metadata": {},
   "outputs": [],
   "source": [
    "In MongoDB, the find() method is used to query documents in a collection based on specified criteria.\n",
    "It allows you to retrieve documents that match a query filter and optionally specify projection, sorting, and limiting options. "
   ]
  },
  {
   "cell_type": "code",
   "execution_count": null,
   "id": "fee5cb0b-1637-40fa-b9ce-a31ee37822b2",
   "metadata": {},
   "outputs": [],
   "source": [
    "ere's how you can use the find() method and its various options:\n",
    "\n",
    "Syntax of the find() method\n",
    "collection.find(filter=None, projection=None, skip=0, limit=0, sort=None)\n",
    "\n",
    "    "
   ]
  },
  {
   "cell_type": "code",
   "execution_count": null,
   "id": "7c17c9ab-a8cf-46b6-a6f1-d9655ec06ff0",
   "metadata": {},
   "outputs": [],
   "source": [
    "filter: Specifies the query filter to select documents. It's a dictionary specifying the criteria for document selection.\n",
    "projection: Specifies which fields to include or exclude in the returned documents. It's a dictionary where keys indicate fields to include (1) or exclude (0).\n",
    "skip: Specifies the number of documents to skip before returning results. Useful for pagination.\n",
    "limit: Specifies the maximum number of documents to return.\n",
    "sort: Specifies the sorting order for the returned documents. It's a list of tuples where each tuple contains a field name and a sort direction (1 for ascending, -1 for descending)."
   ]
  },
  {
   "cell_type": "code",
   "execution_count": null,
   "id": "7211b12c-db29-4023-bbba-20c5929f2c79",
   "metadata": {},
   "outputs": [],
   "source": [
    "Here's a simple code example demonstrating the usage of the find() method to query a MongoDB database:"
   ]
  },
  {
   "cell_type": "code",
   "execution_count": null,
   "id": "16936cc7-5505-403f-9bdd-70895284abc7",
   "metadata": {},
   "outputs": [],
   "source": [
    "import pymongo\n",
    "#Establish a connection to MongoDB\n",
    "client = pymongo.MongoClient(\"mongodb://localhost:27017/\")\n",
    "\n",
    "#Accessing the databases and collection\n",
    "mydb = client[\"mydatabase\"]\n",
    "mycollection = mydb[\"my collection\"]\n",
    "\n",
    "#Inserting sample data for demonstrating\n",
    "sample_data = \n",
    "[\n",
    "    {\"name\":\"Alice\" , \"age\":25, \"city\":\"New york\"},\n",
    "    {\"name\": \"Bob\", \"age\": 30 , \"city\":\"Chicago\"},\n",
    "    {\"name\": \"Carol\", \"age\":35, \"city\": \"Los Angeles\"},\n",
    "    \n",
    "]\n",
    "mycollection.insert_many(sample_data)\n",
    "\n",
    "#Querying the database using fing() method\n",
    "#Retrieve all documents\n",
    "all_documents = mycollection.find()\n",
    "print(\"All Documents:\")\n",
    "for doc in all_documents:\n",
    "    print(doc)\n",
    "    \n",
    "#Retrieve documents with age greater than 25\n",
    "age_gt_25 = mycollection.find({\"age\": {\"$gt\":25}})\n",
    "print(\"\\nDocuments with Age Greater than 25:\")\n",
    "for doc in age_gt_25:\n",
    "    print(doc)\n",
    "    \n",
    "#Limiting the number of returned documents and projecting only name and city fields\n",
    "limited_projection = mycollection.find({}, {\"name\":1,\"city\": 1, \"_id\":0}).limit(2)\n",
    "print(\"\\nLimited Projection (Name and City) for First 2 Documents:\")\n",
    "for doc in limited_projection:\n",
    "    print(doc)\n",
    "    \n",
    "##Sorting documents by age in decending order\n",
    "sorted_documents = mycollection.find().sort(\"age\",-1)\n",
    "print(\"\\nSorted Documents by Age in Descending Order:\")\n",
    "for doc in sorted_documents:\n",
    "    print(doc)\n",
    "\n",
    "client.close()\n",
    "    "
   ]
  },
  {
   "cell_type": "code",
   "execution_count": null,
   "id": "4491513e-0ecc-44a7-98e3-afddfd467e7f",
   "metadata": {},
   "outputs": [],
   "source": [
    "In this example:\n",
    "\n",
    "We establish a connection to MongoDB and access the database and collection.\n",
    "We insert sample data into the collection for demonstration purposes.\n",
    "We demonstrate different use cases of the find() method:\n",
    "Retrieving all documents in the collection.\n",
    "Querying documents based on a specified condition (age greater than 25).\n",
    "Limiting the number of returned documents and projecting only specific fields.\n",
    "Sorting documents by a field in ascending or descending order.\n",
    "Finally, we close the connection to MongoDB"
   ]
  },
  {
   "cell_type": "code",
   "execution_count": null,
   "id": "a50e321f-3993-476a-8069-f895c6685de3",
   "metadata": {},
   "outputs": [],
   "source": [
    "Q6. Explain the sort() method.\n",
    "Give an example to demonstrate sorting in MongoDB."
   ]
  },
  {
   "cell_type": "code",
   "execution_count": null,
   "id": "ccf05dea-c2cd-49a5-bb68-59fd90e7f7d9",
   "metadata": {},
   "outputs": [],
   "source": [
    "In MongoDB, the sort() method is used to sort the documents returned by a query based on one or more fields in ascending or descending order. It allows you to specify the sorting criteria for the returned documents.\n",
    "\n",
    "Syntax of the sort() method:\n",
    "    collection.find().sort(field_or_list, direction)\n",
    "    \n",
    "    \n",
    "field_or_list: Specifies the field or list of fields by which the documents should be sorted. It can be a single field name or a list of field names.\n",
    "direction: Specifies the sorting direction. It can be 1 for ascending order or -1 for descending order.\n"
   ]
  },
  {
   "cell_type": "code",
   "execution_count": null,
   "id": "7adc976c-6edd-4d95-bd6f-899384135d68",
   "metadata": {},
   "outputs": [],
   "source": [
    "Here's an example to demonstrate sorting in MongoDB using the sort() method:"
   ]
  },
  {
   "cell_type": "code",
   "execution_count": null,
   "id": "d1f6303b-4963-42ea-9d58-a2ccfd8da1cc",
   "metadata": {},
   "outputs": [],
   "source": [
    "import pymongo\n",
    "\n",
    "# Establishing a connection to MongoDB\n",
    "client = pymongo.MongoClient(\"mongodb://localhost:27017/\")\n",
    "\n",
    "# Accessing the database and collection\n",
    "mydb = client[\"mydatabase\"]\n",
    "mycollection = mydb[\"mycollection\"]\n",
    "\n",
    "# Inserting sample data for demonstration\n",
    "sample_data = [\n",
    "    {\"name\": \"Alice\", \"age\": 25, \"city\": \"New York\"},\n",
    "    {\"name\": \"Bob\", \"age\": 30, \"city\": \"Chicago\"},\n",
    "    {\"name\": \"Carol\", \"age\": 35, \"city\": \"Los Angeles\"}\n",
    "]\n",
    "mycollection.insert_many(sample_data)\n",
    "\n",
    "#Querying the database and sorting by age in ascending order\n",
    "sorted_asc = mycollection.find().sort(\"age\", 1)\n",
    "\n",
    "print(\"Sorted Documents by Age in Ascending Order:\") \n",
    "for doc in sorted_desc:\n",
    "    print(doc)\n",
    "    \n",
    "    \n",
    "#Querying the database and sorting by age in descending order\n",
    "sorted_asc = mycollection.find().sort(\"age\" , -1)\n",
    "\n",
    "print(\"\\nSorted Documents by Age in Descending Order:\")\n",
    "for doc in sorted_desc:\n",
    "    print(doc)\n",
    "    \n",
    "client.close()"
   ]
  },
  {
   "cell_type": "code",
   "execution_count": null,
   "id": "908e8346-d1a7-4da2-8a5f-70fae16e5bdb",
   "metadata": {},
   "outputs": [],
   "source": [
    "In this example:\n",
    "\n",
    "We establish a connection to MongoDB and access the database and collection.\n",
    "We insert sample data into the collection for demonstration purposes.\n",
    "We use the sort() method to query the database and sort the documents by the \"age\" field.\n",
    "In the first query, we sort the documents in ascending order of age (youngest to oldest).\n",
    "In the second query, we sort the documents in descending order of age (oldest to youngest).\n",
    "Finally, we close the connection to MongoDB.\n",
    "The sort() method allows you to control the order in which documents are returned, providing flexibility in how you retrieve and display data from MongoDB collections."
   ]
  },
  {
   "cell_type": "code",
   "execution_count": null,
   "id": "308c6b6f-54f1-4599-b1a7-4f8b24c34051",
   "metadata": {},
   "outputs": [],
   "source": [
    "Q7. Explain why delete_one(), delete_many(), and drop() is used."
   ]
  },
  {
   "cell_type": "code",
   "execution_count": null,
   "id": "85539c3e-d2b0-41c6-8228-2db7913ad564",
   "metadata": {},
   "outputs": [],
   "source": [
    "deleteOne():\n",
    "Removes a single document from a collection.\n",
    "Useful when you want to delete a specific record based on a filter.\n",
    "Returns a document containing:\n",
    "acknowledged: true if the operation ran with write concern or false if write concern was disabled.\n",
    "deletedCount: The number of deleted documents.\n",
    "Example: Deleting a specific user by their unique ID."
   ]
  },
  {
   "cell_type": "code",
   "execution_count": null,
   "id": "304a5061-46bb-4576-9641-20d3e86cd252",
   "metadata": {},
   "outputs": [],
   "source": [
    "deleteMany():\n",
    "Deletes multiple documents that match a given filter.\n",
    "Useful for bulk deletions.\n",
    "Returns the number of deleted documents.\n",
    "Example: Removing all inactive users from a collection."
   ]
  },
  {
   "cell_type": "code",
   "execution_count": null,
   "id": "7c519c62-b06b-463d-bf50-28e7f9ca0cdd",
   "metadata": {},
   "outputs": [],
   "source": [
    "drop():\n",
    "Drops an entire collection (deletes all documents).\n",
    "Irreversible action.\n",
    "Useful when you want to start fresh or remove an entire dataset.\n",
    "Example: Resetting a temporary cache collectio"
   ]
  }
 ],
 "metadata": {
  "kernelspec": {
   "display_name": "Python 3 (ipykernel)",
   "language": "python",
   "name": "python3"
  },
  "language_info": {
   "codemirror_mode": {
    "name": "ipython",
    "version": 3
   },
   "file_extension": ".py",
   "mimetype": "text/x-python",
   "name": "python",
   "nbconvert_exporter": "python",
   "pygments_lexer": "ipython3",
   "version": "3.10.8"
  }
 },
 "nbformat": 4,
 "nbformat_minor": 5
}
